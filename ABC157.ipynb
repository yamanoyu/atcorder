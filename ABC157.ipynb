{
  "nbformat": 4,
  "nbformat_minor": 0,
  "metadata": {
    "colab": {
      "name": "ABC157.ipynb",
      "provenance": [],
      "authorship_tag": "ABX9TyOr9IsEMRN422WbRLmNc1CE",
      "include_colab_link": true
    },
    "kernelspec": {
      "name": "python3",
      "display_name": "Python 3"
    }
  },
  "cells": [
    {
      "cell_type": "markdown",
      "metadata": {
        "id": "view-in-github",
        "colab_type": "text"
      },
      "source": [
        "<a href=\"https://colab.research.google.com/github/yamanoyu/atcorder/blob/master/ABC157.ipynb\" target=\"_parent\"><img src=\"https://colab.research.google.com/assets/colab-badge.svg\" alt=\"Open In Colab\"/></a>"
      ]
    },
    {
      "cell_type": "markdown",
      "metadata": {
        "id": "oa4H67QVPb3y"
      },
      "source": [
        "## A - Duplex Printing"
      ]
    },
    {
      "cell_type": "code",
      "metadata": {
        "colab": {
          "base_uri": "https://localhost:8080/"
        },
        "id": "e1a0BtcEPWEG",
        "outputId": "af617fdf-9757-4c7a-f5b6-b293bd294d7c"
      },
      "source": [
        "n = int(input())\n",
        "ans = (n + 1) // 2\n",
        "print(ans)"
      ],
      "execution_count": 2,
      "outputs": [
        {
          "output_type": "stream",
          "text": [
            "4\n",
            "2\n"
          ],
          "name": "stdout"
        }
      ]
    },
    {
      "cell_type": "markdown",
      "metadata": {
        "id": "ddxQhcnAPraL"
      },
      "source": [
        "## B - Bingo"
      ]
    },
    {
      "cell_type": "code",
      "metadata": {
        "colab": {
          "base_uri": "https://localhost:8080/"
        },
        "id": "KPha1-oFPcce",
        "outputId": "c86b71f5-f265-4327-f363-e19640c24253"
      },
      "source": [
        "a11, a12, a13 = map(int, input().split())\n",
        "a21, a22, a23 = map(int, input().split())\n",
        "a31, a32, a33 = map(int, input().split())\n",
        "n = int(input())\n",
        "b_list = [int(input()) for _ in range(n)]\n",
        "\n",
        "ans = 'No'\n",
        "if a11 in b_list and a12 in b_list and a13 in b_list:\n",
        "  ans = 'Yes'\n",
        "if a21 in b_list and a22 in b_list and a23 in b_list:\n",
        "  ans = 'Yes'\n",
        "if a31 in b_list and a32 in b_list and a33 in b_list:\n",
        "  ans = 'Yes'\n",
        "if a11 in b_list and a21 in b_list and a31 in b_list:\n",
        "  ans = 'Yes'\n",
        "if a12 in b_list and a22 in b_list and a32 in b_list:\n",
        "  ans = 'Yes'\n",
        "if a13 in b_list and a23 in b_list and a33 in b_list:\n",
        "  ans = 'Yes'\n",
        "if a11 in b_list and a22 in b_list and a33 in b_list:\n",
        "  ans = 'Yes'\n",
        "if a13 in b_list and a22 in b_list and a31 in b_list:\n",
        "  ans = 'Yes'\n",
        "\n",
        "print(ans)"
      ],
      "execution_count": 5,
      "outputs": [
        {
          "output_type": "stream",
          "text": [
            "1 2 3\n",
            "4 5 6\n",
            "7 8 9\n",
            "3\n",
            "1\n",
            "2\n",
            "3\n",
            "No\n"
          ],
          "name": "stdout"
        }
      ]
    },
    {
      "cell_type": "markdown",
      "metadata": {
        "id": "KYvSLXD-S9EC"
      },
      "source": [
        "## C - Guess The Number"
      ]
    },
    {
      "cell_type": "code",
      "metadata": {
        "colab": {
          "base_uri": "https://localhost:8080/"
        },
        "id": "HE-bNQ9WT_-M",
        "outputId": "bdc7559f-750c-4ebe-a3e4-146be98f5ebe"
      },
      "source": [
        "n, m = map(int, input().split())\n",
        "sc_list = [tuple(map(int, input().split())) for _ in range(m)]\n",
        "\n",
        "ans = -1\n",
        "start = 10 ** (n - 1) if n != 1 else 0\n",
        "\n",
        "for i in range(start, 1000):\n",
        "  i_str = str(i).zfill(n)\n",
        "  f = 0\n",
        "  for s, c in sc_list:\n",
        "    if i_str[s - 1] != str(c):\n",
        "      f = 1\n",
        "      break\n",
        "  if f == 0:\n",
        "    ans = i\n",
        "    break\n",
        "\n",
        "print(ans)"
      ],
      "execution_count": 22,
      "outputs": [
        {
          "output_type": "stream",
          "text": [
            "1 1\n",
            "1 0\n",
            "-1\n"
          ],
          "name": "stdout"
        }
      ]
    },
    {
      "cell_type": "markdown",
      "metadata": {
        "id": "3_EUDz-BbZ8C"
      },
      "source": [
        "## D - Friend Suggestions"
      ]
    },
    {
      "cell_type": "code",
      "metadata": {
        "id": "xRdU5y6KVljJ"
      },
      "source": [
        ""
      ],
      "execution_count": null,
      "outputs": []
    }
  ]
}