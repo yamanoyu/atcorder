{
  "nbformat": 4,
  "nbformat_minor": 0,
  "metadata": {
    "colab": {
      "name": "ABC084.ipynb",
      "provenance": [],
      "collapsed_sections": [],
      "authorship_tag": "ABX9TyOg6Z9cRewCrsw/cPmn4wLk",
      "include_colab_link": true
    },
    "kernelspec": {
      "name": "python3",
      "display_name": "Python 3"
    }
  },
  "cells": [
    {
      "cell_type": "markdown",
      "metadata": {
        "id": "view-in-github",
        "colab_type": "text"
      },
      "source": [
        "<a href=\"https://colab.research.google.com/github/yamanoyu/atcorder/blob/master/ABC084.ipynb\" target=\"_parent\"><img src=\"https://colab.research.google.com/assets/colab-badge.svg\" alt=\"Open In Colab\"/></a>"
      ]
    },
    {
      "cell_type": "markdown",
      "metadata": {
        "id": "I3ZgNpMctq7E"
      },
      "source": [
        "## A - New Year"
      ]
    },
    {
      "cell_type": "code",
      "metadata": {
        "colab": {
          "base_uri": "https://localhost:8080/"
        },
        "id": "BEjleB0Rtm_L",
        "outputId": "0ea5b7a1-d9a4-4c4b-bb10-a590314031f4"
      },
      "source": [
        "x = int(input())\n",
        "ans = 24 + (24 - x)\n",
        "print(ans)"
      ],
      "execution_count": 1,
      "outputs": [
        {
          "output_type": "stream",
          "text": [
            "12\n",
            "36\n"
          ],
          "name": "stdout"
        }
      ]
    },
    {
      "cell_type": "markdown",
      "metadata": {
        "id": "dVKL2NaGt7Z8"
      },
      "source": [
        "## B - Postal Code"
      ]
    },
    {
      "cell_type": "code",
      "metadata": {
        "colab": {
          "base_uri": "https://localhost:8080/"
        },
        "id": "fiXAt9tftrXf",
        "outputId": "751f6ab2-01d1-4d4a-bba5-648e86367598"
      },
      "source": [
        "a, b = map(int, input().split())\n",
        "s = input()\n",
        "ans = 'Yes' if s[a] == '-' and s[-(b+1)] == '-' and s.count('-') == 1 else 'No'\n",
        "print(ans)"
      ],
      "execution_count": 6,
      "outputs": [
        {
          "output_type": "stream",
          "text": [
            "3 4\n",
            "123-33\n",
            "No\n"
          ],
          "name": "stdout"
        }
      ]
    },
    {
      "cell_type": "markdown",
      "metadata": {
        "id": "0GHzu9zOvD6G"
      },
      "source": [
        "## C - Special Trains"
      ]
    },
    {
      "cell_type": "code",
      "metadata": {
        "colab": {
          "base_uri": "https://localhost:8080/"
        },
        "id": "QiLPD2NdukXR",
        "outputId": "daaf4dbc-f243-457c-bcd5-f7482c8f9221"
      },
      "source": [
        "n = int(input())\n",
        "\n",
        "csf_list = [list(map(int, input().split())) for _ in range(n-1)]\n",
        "\n",
        "for i in range(n-1):\n",
        "  ans = sum(csf_list[i][:-1])\n",
        "  for j in range(i, n-2):\n",
        "    t = 0\n",
        "    while ans > csf_list[j+1][1] + csf_list[j+1][2] * t:\n",
        "      t += 1\n",
        "    ans = csf_list[j+1][0] + csf_list[j+1][1] + csf_list[j+1][2] * t\n",
        "  print(ans)\n",
        "\n",
        "print(0)"
      ],
      "execution_count": 13,
      "outputs": [
        {
          "output_type": "stream",
          "text": [
            "3\n",
            "6 5 1\n",
            "1 10 1\n",
            "12\n",
            "11\n",
            "0\n"
          ],
          "name": "stdout"
        }
      ]
    },
    {
      "cell_type": "markdown",
      "metadata": {
        "id": "7Xn8WNll7P30"
      },
      "source": [
        "## D - 2017-like Number"
      ]
    },
    {
      "cell_type": "code",
      "metadata": {
        "colab": {
          "base_uri": "https://localhost:8080/"
        },
        "id": "uvyVSlR6urlh",
        "outputId": "997cb4c0-2e5b-4233-e875-3beb893d020d"
      },
      "source": [
        "# TLE\n",
        "q = int(input())\n",
        "\n",
        "def eratosthenes_sieve(num):\n",
        "  if num <= 1:\n",
        "    return []\n",
        " \n",
        "  prime_num_list = []\n",
        "  \n",
        "  search_num_list = list(range(2, num + 1))\n",
        "\n",
        "  n = search_num_list.pop(0)\n",
        "  prime_num_list.append(n)\n",
        "\n",
        "  while n ** 2 <= num:\n",
        "    search_num_list = [search_num for search_num in search_num_list if search_num % n != 0]\n",
        "    n = search_num_list.pop(0)\n",
        "    prime_num_list.append(n)\n",
        "\n",
        "  prime_num_list.extend(search_num_list)\n",
        "\n",
        "  return prime_num_list\n",
        "\n",
        "prime_num_list = eratosthenes_sieve(10 ** 5)\n",
        "\n",
        "for _ in range(q):\n",
        "  l, r = map(int, input().split())\n",
        "\n",
        "  ans = len([a for a in range(1, r + 1, 2) if a in prime_num_list and (a + 1) // 2 in prime_num_list]) - len([a for a in range(1, l, 2) if a in prime_num_list and (a + 1) // 2 in prime_num_list])\n",
        "\n",
        "  print(ans)"
      ],
      "execution_count": 26,
      "outputs": [
        {
          "output_type": "stream",
          "text": [
            "1\n",
            "1 2\n"
          ],
          "name": "stdout"
        }
      ]
    },
    {
      "cell_type": "code",
      "metadata": {
        "id": "Zaz0roqTBHHq"
      },
      "source": [
        "from itertools import accumulate\n",
        "\n",
        "\n",
        "q = int(input())\n",
        "\n",
        "def eratosthenes_sieve(num):\n",
        "  if num <= 1:\n",
        "    return []\n",
        " \n",
        "  prime_num_list = []\n",
        "  \n",
        "  search_num_list = list(range(2, num + 1))\n",
        "\n",
        "  n = search_num_list.pop(0)\n",
        "  prime_num_list.append(n)\n",
        "\n",
        "  while n ** 2 <= num:\n",
        "    search_num_list = [search_num for search_num in search_num_list if search_num % n != 0]\n",
        "    n = search_num_list.pop(0)\n",
        "    prime_num_list.append(n)\n",
        "\n",
        "  prime_num_list.extend(search_num_list)\n",
        "\n",
        "  return prime_num_list\n",
        "\n",
        "prime_num_list = eratosthenes_sieve(10 ** 5)\n",
        "is_2017_like = [1 if x in prime_num_list and (x + 1) // 2 in prime_num_list else 0 for x in range(10 ** 5)]\n",
        "ans_list = tuple(accumulate(is_2017_like))\n",
        "\n",
        "for _ in range(q):\n",
        "  l, r = map(int, input().split())\n",
        "\n",
        "  ans = ans_list[r] - ans_list[l - 1]\n",
        "  print(ans)"
      ],
      "execution_count": null,
      "outputs": []
    }
  ]
}