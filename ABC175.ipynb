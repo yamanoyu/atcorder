{
  "nbformat": 4,
  "nbformat_minor": 0,
  "metadata": {
    "colab": {
      "name": "ABC175.ipynb",
      "provenance": [],
      "authorship_tag": "ABX9TyPtbsZnKA4RL9hA6++a3Wzy",
      "include_colab_link": true
    },
    "kernelspec": {
      "name": "python3",
      "display_name": "Python 3"
    },
    "language_info": {
      "name": "python"
    }
  },
  "cells": [
    {
      "cell_type": "markdown",
      "metadata": {
        "id": "view-in-github",
        "colab_type": "text"
      },
      "source": [
        "<a href=\"https://colab.research.google.com/github/yamanoyu/atcorder/blob/master/ABC175.ipynb\" target=\"_parent\"><img src=\"https://colab.research.google.com/assets/colab-badge.svg\" alt=\"Open In Colab\"/></a>"
      ]
    },
    {
      "cell_type": "markdown",
      "metadata": {
        "id": "JdQG31I0-p3z"
      },
      "source": [
        "## A - Rainy Season"
      ]
    },
    {
      "cell_type": "code",
      "metadata": {
        "colab": {
          "base_uri": "https://localhost:8080/"
        },
        "id": "aVunb41y-aYU",
        "outputId": "9feee8d8-0cc8-41ff-a5cc-2acfeac58c71"
      },
      "source": [
        "s = input()\n",
        "if s == 'RRR':\n",
        "  ans = 3\n",
        "elif s == 'RRS' or s == 'SRR':\n",
        "  ans = 2\n",
        "elif s == 'SSS':\n",
        "  ans = 0\n",
        "else:\n",
        "  ans = 1\n",
        "\n",
        "print(ans)"
      ],
      "execution_count": 2,
      "outputs": [
        {
          "output_type": "stream",
          "text": [
            "SSR\n",
            "1\n"
          ],
          "name": "stdout"
        }
      ]
    },
    {
      "cell_type": "markdown",
      "metadata": {
        "id": "08eEl2IB_N68"
      },
      "source": [
        "## B - Making Triangle"
      ]
    },
    {
      "cell_type": "code",
      "metadata": {
        "colab": {
          "base_uri": "https://localhost:8080/"
        },
        "id": "dIQuxsVV-qh_",
        "outputId": "f46f122e-f19b-49ad-e1dc-4de523abbc0f"
      },
      "source": [
        "n = int(input())\n",
        "l_list = list(map(int, input().split()))\n",
        "\n",
        "ans = 0\n",
        "\n",
        "for i in range(n - 2):\n",
        "  for j in range(i, n - 1):\n",
        "    for k in range(j, n):\n",
        "      if l_list[i] == l_list[j] or l_list[j] == l_list[k] or l_list[i] == l_list[k]:\n",
        "        continue\n",
        "      a, b, c = sorted([l_list[i], l_list[j], l_list[k]])\n",
        "      if a + b > c: ans += 1\n",
        "\n",
        "print(ans)"
      ],
      "execution_count": 6,
      "outputs": [
        {
          "output_type": "stream",
          "text": [
            "2\n",
            "1 1\n",
            "0\n"
          ],
          "name": "stdout"
        }
      ]
    },
    {
      "cell_type": "markdown",
      "metadata": {
        "id": "VFG-ApncAh9B"
      },
      "source": [
        "## C - Walking Takahashi"
      ]
    },
    {
      "cell_type": "code",
      "metadata": {
        "colab": {
          "base_uri": "https://localhost:8080/"
        },
        "id": "lj9PhaiSAXF3",
        "outputId": "0c811262-6349-499b-96bd-62719e53c663"
      },
      "source": [
        "x, k, d = map(int, input().split())\n",
        "\n",
        "x = abs(x)\n",
        "a, b = divmod(x, d)\n",
        "\n",
        "if k >= a:\n",
        "  if (k - a) % 2 == 0:\n",
        "    ans = b\n",
        "  else:\n",
        "    ans = d - b\n",
        "else:\n",
        "  ans = x - k * d\n",
        "print(ans)"
      ],
      "execution_count": 14,
      "outputs": [
        {
          "output_type": "stream",
          "text": [
            "1000000000000000 1000000000000000 1000000000000000\n",
            "1000000000000000\n"
          ],
          "name": "stdout"
        }
      ]
    },
    {
      "cell_type": "markdown",
      "metadata": {
        "id": "0GierQvXK10K"
      },
      "source": [
        "## D - Moving Piece"
      ]
    },
    {
      "cell_type": "code",
      "metadata": {
        "id": "Kt2J1SyEJ470"
      },
      "source": [
        "n, k = map(int, input().split())\n",
        "p_list = list(map(int, input().split()))\n",
        "c_list = list(map(int, input().split()))\n",
        "\n"
      ],
      "execution_count": null,
      "outputs": []
    }
  ]
}