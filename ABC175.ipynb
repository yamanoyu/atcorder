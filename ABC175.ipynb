{
  "nbformat": 4,
  "nbformat_minor": 0,
  "metadata": {
    "colab": {
      "name": "ABC175.ipynb",
      "provenance": [],
      "collapsed_sections": [],
      "authorship_tag": "ABX9TyNNrygV8Hl5/+yOhTz1EMus",
      "include_colab_link": true
    },
    "kernelspec": {
      "name": "python3",
      "display_name": "Python 3"
    },
    "language_info": {
      "name": "python"
    }
  },
  "cells": [
    {
      "cell_type": "markdown",
      "metadata": {
        "id": "view-in-github",
        "colab_type": "text"
      },
      "source": [
        "<a href=\"https://colab.research.google.com/github/yamanoyu/atcorder/blob/master/ABC175.ipynb\" target=\"_parent\"><img src=\"https://colab.research.google.com/assets/colab-badge.svg\" alt=\"Open In Colab\"/></a>"
      ]
    },
    {
      "cell_type": "markdown",
      "metadata": {
        "id": "JdQG31I0-p3z"
      },
      "source": [
        "## A - Rainy Season"
      ]
    },
    {
      "cell_type": "code",
      "metadata": {
        "colab": {
          "base_uri": "https://localhost:8080/"
        },
        "id": "aVunb41y-aYU",
        "outputId": "9feee8d8-0cc8-41ff-a5cc-2acfeac58c71"
      },
      "source": [
        "s = input()\n",
        "if s == 'RRR':\n",
        "  ans = 3\n",
        "elif s == 'RRS' or s == 'SRR':\n",
        "  ans = 2\n",
        "elif s == 'SSS':\n",
        "  ans = 0\n",
        "else:\n",
        "  ans = 1\n",
        "\n",
        "print(ans)"
      ],
      "execution_count": 2,
      "outputs": [
        {
          "output_type": "stream",
          "text": [
            "SSR\n",
            "1\n"
          ],
          "name": "stdout"
        }
      ]
    },
    {
      "cell_type": "markdown",
      "metadata": {
        "id": "08eEl2IB_N68"
      },
      "source": [
        "## B - Making Triangle"
      ]
    },
    {
      "cell_type": "code",
      "metadata": {
        "colab": {
          "base_uri": "https://localhost:8080/"
        },
        "id": "dIQuxsVV-qh_",
        "outputId": "f46f122e-f19b-49ad-e1dc-4de523abbc0f"
      },
      "source": [
        "n = int(input())\n",
        "l_list = list(map(int, input().split()))\n",
        "\n",
        "ans = 0\n",
        "\n",
        "for i in range(n - 2):\n",
        "  for j in range(i, n - 1):\n",
        "    for k in range(j, n):\n",
        "      if l_list[i] == l_list[j] or l_list[j] == l_list[k] or l_list[i] == l_list[k]:\n",
        "        continue\n",
        "      a, b, c = sorted([l_list[i], l_list[j], l_list[k]])\n",
        "      if a + b > c: ans += 1\n",
        "\n",
        "print(ans)"
      ],
      "execution_count": 6,
      "outputs": [
        {
          "output_type": "stream",
          "text": [
            "2\n",
            "1 1\n",
            "0\n"
          ],
          "name": "stdout"
        }
      ]
    },
    {
      "cell_type": "markdown",
      "metadata": {
        "id": "VFG-ApncAh9B"
      },
      "source": [
        "## C - Walking Takahashi"
      ]
    },
    {
      "cell_type": "code",
      "metadata": {
        "colab": {
          "base_uri": "https://localhost:8080/"
        },
        "id": "lj9PhaiSAXF3",
        "outputId": "0c811262-6349-499b-96bd-62719e53c663"
      },
      "source": [
        "x, k, d = map(int, input().split())\n",
        "\n",
        "x = abs(x)\n",
        "a, b = divmod(x, d)\n",
        "\n",
        "if k >= a:\n",
        "  if (k - a) % 2 == 0:\n",
        "    ans = b\n",
        "  else:\n",
        "    ans = d - b\n",
        "else:\n",
        "  ans = x - k * d\n",
        "print(ans)"
      ],
      "execution_count": 14,
      "outputs": [
        {
          "output_type": "stream",
          "text": [
            "1000000000000000 1000000000000000 1000000000000000\n",
            "1000000000000000\n"
          ],
          "name": "stdout"
        }
      ]
    },
    {
      "cell_type": "markdown",
      "metadata": {
        "id": "0GierQvXK10K"
      },
      "source": [
        "## D - Moving Piece"
      ]
    },
    {
      "cell_type": "code",
      "metadata": {
        "colab": {
          "base_uri": "https://localhost:8080/"
        },
        "id": "wLuIaAgMH9mW",
        "outputId": "812d3626-9313-4e47-e988-08177ce42db6"
      },
      "source": [
        "n, k = map(int, input().split())\n",
        "p_list = list(map(int, input().split()))\n",
        "c_list = list(map(int, input().split()))\n",
        "\n",
        "\n",
        "class UnionFind:\n",
        "    # if x is root: self.parents[x] = - (the number of the group nodes)\n",
        "    # else: self.parents[x] = the parent of x\n",
        "    def __init__(self, n):\n",
        "        self.n = n\n",
        "        self.parents = [-1] * n\n",
        " \n",
        "    # return the parent of x\n",
        "    def find(self, x):\n",
        "        history = []\n",
        "        while self.parents[x] >= 0:\n",
        "            history.append(x)\n",
        "            x = self.parents[x]\n",
        "        for node in history:\n",
        "            self.parents[node] = x\n",
        "        return x\n",
        " \n",
        "    # merge the group of x and the group of y\n",
        "    def union(self, x, y):\n",
        "        x = self.find(x)\n",
        "        y = self.find(y)\n",
        "        if x == y:\n",
        "            return\n",
        "        if self.parents[x] > self.parents[y]:\n",
        "            x, y = y, x\n",
        "        self.parents[x] += self.parents[y]\n",
        "        self.parents[y] = x\n",
        " \n",
        "    # return the size of the group of x\n",
        "    def size(self, x):\n",
        "        return -self.parents[self.find(x)]\n",
        " \n",
        "    # return whether x and y in a same group\n",
        "    def same(self, x, y):\n",
        "        return self.find(x) == self.find(y)\n",
        " \n",
        "    # return [all roots]\n",
        "    # O(n)\n",
        "    def roots(self):\n",
        "        return [i for i, x in enumerate(self.parents) if x < 0]\n",
        " \n",
        "    # return the number of groups\n",
        "    # O(n)\n",
        "    def group_count(self):\n",
        "        return len(self.roots())\n",
        "\n",
        "uf = UnionFind(n)\n",
        "for p_i, p in enumerate(p_list):\n",
        "  uf.union(p_i, p - 1)\n",
        "\n",
        "root_list = uf.roots()\n",
        "loop_list = [[] for _ in range(len(root_list))]\n",
        "\n",
        "for root_i, root in enumerate(root_list):\n",
        "  loop_list[root_i].append(c_list[root])\n",
        "  next_p = p_list[root] - 1\n",
        "  while next_p != root:\n",
        "    loop_list[root_i].append(c_list[next_p])\n",
        "    next_p = p_list[next_p] - 1\n",
        "\n",
        "ans = - (10 ** 18)\n",
        "\n",
        "for loop in loop_list:\n",
        "  loop_sum = max(sum(loop), 0)\n",
        "  loop_len = min(k, len(loop))\n",
        "\n",
        "  for loop_i in range(len(loop)):\n",
        "    _ans = 0\n",
        "    for j in range(loop_len):\n",
        "      _ans += loop[loop_i - j]\n",
        "      ans = max(ans, _ans + loop_sum * (( k - j - 1) // len(loop)))\n",
        "\n",
        "print(ans)"
      ],
      "execution_count": 22,
      "outputs": [
        {
          "output_type": "stream",
          "text": [
            "5 2\n",
            "2 4 5 1 3\n",
            "3 4 -10 -8 8\n",
            "8\n"
          ],
          "name": "stdout"
        }
      ]
    }
  ]
}