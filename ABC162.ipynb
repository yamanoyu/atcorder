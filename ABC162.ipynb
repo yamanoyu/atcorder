{
  "nbformat": 4,
  "nbformat_minor": 0,
  "metadata": {
    "colab": {
      "name": "ABC162.ipynb",
      "provenance": [],
      "collapsed_sections": [],
      "authorship_tag": "ABX9TyOE+Z2u1fvZPS3lj1jfjm8o",
      "include_colab_link": true
    },
    "kernelspec": {
      "name": "python3",
      "display_name": "Python 3"
    }
  },
  "cells": [
    {
      "cell_type": "markdown",
      "metadata": {
        "id": "view-in-github",
        "colab_type": "text"
      },
      "source": [
        "<a href=\"https://colab.research.google.com/github/yamanoyu/atcorder/blob/master/ABC162.ipynb\" target=\"_parent\"><img src=\"https://colab.research.google.com/assets/colab-badge.svg\" alt=\"Open In Colab\"/></a>"
      ]
    },
    {
      "cell_type": "markdown",
      "metadata": {
        "id": "W6XnHbPbe9Q_"
      },
      "source": [
        "## A - Lucky 7"
      ]
    },
    {
      "cell_type": "code",
      "metadata": {
        "colab": {
          "base_uri": "https://localhost:8080/"
        },
        "id": "x-xBf7dee3kd",
        "outputId": "7c5ee9b3-9db6-41ad-bc7c-90f0904b2d64"
      },
      "source": [
        "n = input()\n",
        "ans = 'Yes' if '7' in n else 'No'\n",
        "print(ans)"
      ],
      "execution_count": 1,
      "outputs": [
        {
          "output_type": "stream",
          "text": [
            "117\n",
            "Yes\n"
          ],
          "name": "stdout"
        }
      ]
    },
    {
      "cell_type": "markdown",
      "metadata": {
        "id": "pi3KCTotfLWZ"
      },
      "source": [
        "## B - FizzBuzz Sum"
      ]
    },
    {
      "cell_type": "code",
      "metadata": {
        "colab": {
          "base_uri": "https://localhost:8080/"
        },
        "id": "qwP-iUa-e9sz",
        "outputId": "4b6e7354-bcc2-4116-ad94-c5e739d8d489"
      },
      "source": [
        "n = int(input())\n",
        "\n",
        "ans = 0\n",
        "\n",
        "for i in range(1, n+1):\n",
        "  if i % 3 != 0 and i % 5 != 0: ans += i\n",
        "\n",
        "print(ans)"
      ],
      "execution_count": 5,
      "outputs": [
        {
          "output_type": "stream",
          "text": [
            "1000000\n",
            "266666333332\n"
          ],
          "name": "stdout"
        }
      ]
    },
    {
      "cell_type": "markdown",
      "metadata": {
        "id": "bOCLsZiTfyQ7"
      },
      "source": [
        "## C - Sum of gcd of Tuples (Easy)"
      ]
    },
    {
      "cell_type": "code",
      "metadata": {
        "colab": {
          "base_uri": "https://localhost:8080/"
        },
        "id": "SnJQbUaVfeHK",
        "outputId": "1438c06f-645a-4738-e647-6224c1ba3065"
      },
      "source": [
        "import math\n",
        "\n",
        "\n",
        "k = int(input())\n",
        "ans = 0\n",
        "\n",
        "for a in range(1, k+1):\n",
        "  for b in range(1, k+1):\n",
        "    tmp = math.gcd(a, b)\n",
        "    for c in range(1, k+1):\n",
        "      ans += math.gcd(tmp, c)\n",
        "\n",
        "print(ans)"
      ],
      "execution_count": 11,
      "outputs": [
        {
          "output_type": "stream",
          "text": [
            "200\n",
            "10813692\n"
          ],
          "name": "stdout"
        }
      ]
    },
    {
      "cell_type": "markdown",
      "metadata": {
        "id": "Kbje_TQ7ggnZ"
      },
      "source": [
        "## D - RGB Triplets"
      ]
    },
    {
      "cell_type": "code",
      "metadata": {
        "colab": {
          "base_uri": "https://localhost:8080/"
        },
        "id": "ViR9wA_QgitF",
        "outputId": "07ad92e3-ef99-4939-ed38-bbecea0543ad"
      },
      "source": [
        "# TLE\n",
        "n = int(input())\n",
        "s = input()\n",
        "\n",
        "r_list = []\n",
        "g_list = []\n",
        "b_list = []\n",
        "\n",
        "for i in range(n):\n",
        "  if s[i] == 'R': r_list.append(i)\n",
        "  if s[i] == 'G': g_list.append(i)\n",
        "  if s[i] == 'B': b_list.append(i)\n",
        "\n",
        "ans = len(r_list) * len(g_list) * len(b_list)\n",
        "\n",
        "for r in r_list:\n",
        "  for g in g_list:\n",
        "    for b in b_list:\n",
        "      ijk_list = [r, g, b]\n",
        "      ijk_list.sort()\n",
        "      i, j, k = ijk_list\n",
        "      if j - i == k - j: ans -= 1\n",
        "\n",
        "print(ans)"
      ],
      "execution_count": 13,
      "outputs": [
        {
          "output_type": "stream",
          "text": [
            "39\n",
            "RBRBGRBGGBBRRGBBRRRBGGBRBGBRBGBRBBBGBBB\n",
            "1800\n"
          ],
          "name": "stdout"
        }
      ]
    },
    {
      "cell_type": "code",
      "metadata": {
        "colab": {
          "base_uri": "https://localhost:8080/"
        },
        "id": "HkVAftWsl4-n",
        "outputId": "f260c104-65f3-4539-8e4e-4b91c9e7bf06"
      },
      "source": [
        "# TLE\n",
        "n = int(input())\n",
        "s = input()\n",
        "\n",
        "r_list = []\n",
        "g_list = []\n",
        "b_list = []\n",
        "\n",
        "for i in range(n):\n",
        "  if s[i] == 'R': r_list.append(i)\n",
        "  if s[i] == 'G': g_list.append(i)\n",
        "  if s[i] == 'B': b_list.append(i)\n",
        "\n",
        "ans = len(r_list) * len(g_list) * len(b_list)\n",
        "\n",
        "for i in range(n-2):\n",
        "  for j in range(i, n-1):\n",
        "    k = j + j - i\n",
        "    if k >= n: continue\n",
        "    if len([s[i], s[j], s[k]]) == len(set([s[i], s[j], s[k]])):\n",
        "      ans -= 1\n",
        "\n",
        "print(ans)"
      ],
      "execution_count": 18,
      "outputs": [
        {
          "output_type": "stream",
          "text": [
            "4\n",
            "RRGB\n",
            "1\n"
          ],
          "name": "stdout"
        }
      ]
    },
    {
      "cell_type": "code",
      "metadata": {
        "id": "dGbjtnObnC4P"
      },
      "source": [
        ""
      ],
      "execution_count": null,
      "outputs": []
    }
  ]
}