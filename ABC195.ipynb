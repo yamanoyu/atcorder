{
  "nbformat": 4,
  "nbformat_minor": 0,
  "metadata": {
    "colab": {
      "name": "ABC195.ipynb",
      "provenance": [],
      "authorship_tag": "ABX9TyNayNE8xGCavbezb1Z0HALl",
      "include_colab_link": true
    },
    "kernelspec": {
      "name": "python3",
      "display_name": "Python 3"
    }
  },
  "cells": [
    {
      "cell_type": "markdown",
      "metadata": {
        "id": "view-in-github",
        "colab_type": "text"
      },
      "source": [
        "<a href=\"https://colab.research.google.com/github/yamanoyu/atcorder/blob/master/ABC195.ipynb\" target=\"_parent\"><img src=\"https://colab.research.google.com/assets/colab-badge.svg\" alt=\"Open In Colab\"/></a>"
      ]
    },
    {
      "cell_type": "code",
      "metadata": {
        "colab": {
          "base_uri": "https://localhost:8080/"
        },
        "id": "Ds8xdVqcXS3_",
        "outputId": "0adc7e5c-a07a-4b2e-c956-41daf6401757"
      },
      "source": [
        "input()\n",
        "int(input())\n",
        "map(int, input().split())\n",
        "list(map(int, input().split()))\n"
      ],
      "execution_count": 2,
      "outputs": [
        {
          "output_type": "stream",
          "text": [
            "1\n",
            "1\n",
            "1 2\n",
            "1 2\n"
          ],
          "name": "stdout"
        },
        {
          "output_type": "execute_result",
          "data": {
            "text/plain": [
              "[1, 2]"
            ]
          },
          "metadata": {
            "tags": []
          },
          "execution_count": 2
        }
      ]
    },
    {
      "cell_type": "code",
      "metadata": {
        "colab": {
          "base_uri": "https://localhost:8080/"
        },
        "id": "gywvMwdFXlj1",
        "outputId": "898d1268-3564-4701-b70b-456228e94938"
      },
      "source": [
        "m, h = map(int, input().split())\n",
        "ans = 'Yes' if h % m == 0 else 'No'\n",
        "print(ans)"
      ],
      "execution_count": 4,
      "outputs": [
        {
          "output_type": "stream",
          "text": [
            "10 120\n",
            "Yes\n"
          ],
          "name": "stdout"
        }
      ]
    },
    {
      "cell_type": "code",
      "metadata": {
        "colab": {
          "base_uri": "https://localhost:8080/"
        },
        "id": "iXma3RMjdhvc",
        "outputId": "ae656dbe-dab0-4b31-8b26-46708c0e2037"
      },
      "source": [
        "a, b, w = map(int, input().split())\n",
        "w *= 1000\n",
        "apple_min = w // b + 1 if w % b != 0 else w // b\n",
        "apple_max = w // a\n",
        "\n",
        "ans_list = [str(apple_min), str(apple_max)] if apple_min > 0 and apple_max >= apple_min else ['UNSATISFIABLE']\n",
        "ans = ' '.join(ans_list)\n",
        "print(ans)"
      ],
      "execution_count": 14,
      "outputs": [
        {
          "output_type": "stream",
          "text": [
            "300 333 1\n",
            "UNSATISFIABLE\n"
          ],
          "name": "stdout"
        }
      ]
    },
    {
      "cell_type": "code",
      "metadata": {
        "colab": {
          "base_uri": "https://localhost:8080/"
        },
        "id": "nSnAjMcofLtj",
        "outputId": "f5cbb8b3-cc3e-4c6c-915a-b6e729ffc46d"
      },
      "source": [
        "n = input()\n",
        "n_len = len(n)\n",
        "\n",
        "ans = 0\n",
        "for i in range(n_len):\n",
        "  if i <= 3:\n",
        "    continue\n",
        "  if i <= 6:\n",
        "    ans += (10 ** i - 1) - (10 ** (i - 1)) + 1\n",
        "  if 6 < i <= 9:\n",
        "    ans += ((10 ** i - 1) - (10 ** (i - 1)) + 1) * 2\n",
        "  if 9 < i <=12:\n",
        "    ans += ((10 ** i - 1) - (10 ** (i - 1)) + 1) * 3\n",
        "  if 12 < i <=15:\n",
        "    ans += ((10 ** i - 1) - (10 ** (i - 1)) + 1) * 4\n",
        "  if 15 < i <=18:\n",
        "    ans += ((10 ** i - 1) - (10 ** (i - 1)) + 1) * 5\n",
        "    \n",
        "ans += (int(n) - 10 ** (n_len - 1) + 1) * ((n_len - 1) // 3)\n",
        "print(ans)"
      ],
      "execution_count": 56,
      "outputs": [
        {
          "output_type": "stream",
          "text": [
            "27182818284590\n",
            "107730272137364\n"
          ],
          "name": "stdout"
        }
      ]
    },
    {
      "cell_type": "code",
      "metadata": {
        "id": "ccMXtppjlY6k"
      },
      "source": [
        "import bisect\n",
        "\n",
        "\n",
        "n, m, q = map(int, input().split())\n",
        "wv_list = [list(map(int, input().split())) for i in range(n)]\n",
        "x_list = list(map(int, input().split()))\n",
        "\n",
        "wv_list_sort = sorted(wv_list, key=lambda x: x[1], reverse=True)\n",
        "\n",
        "for _ in range(q):\n",
        "  l, r = map(int, input().split())\n",
        "  _x_list = x_list[:l-1] + x_list[r:]\n",
        "  _x_list.sort()\n",
        "  ans = 0\n",
        "\n",
        "  for w, v in wv_list_sort:\n",
        "    if _x_list == []: break\n",
        "    if w <= _x_list[-1]:\n",
        "      index = bisect.bisect_left(_x_list, w)\n",
        "      ans += v\n",
        "      _x_list.pop(index)\n",
        "  print(ans)"
      ],
      "execution_count": null,
      "outputs": []
    },
    {
      "cell_type": "code",
      "metadata": {
        "id": "Qa70IIbdprxL"
      },
      "source": [
        "n = int(input())\n",
        "s = int(input())\n",
        "t = input()\n",
        "\n",
        "def solve(round_num):\n",
        "  if round_num == len(n):\n",
        "    return 0\n",
        "  if t[round_num-1] == 'T':\n",
        "    return \n",
        "\n",
        "\n"
      ],
      "execution_count": null,
      "outputs": []
    },
    {
      "cell_type": "code",
      "metadata": {
        "colab": {
          "base_uri": "https://localhost:8080/"
        },
        "id": "p6OcOJ4ivEJq",
        "outputId": "d8dd6930-739f-4b23-c1c9-bc7cb2060765"
      },
      "source": [
        "import math\n",
        "\n",
        "\n",
        "a, b = map(int, input().split())\n",
        "card_dict = {}\n",
        "\n",
        "for i in range(a, b + 1):\n",
        "  card_dict[i] = 0\n",
        "  \n",
        "ans = 1\n",
        "for i in range(a, b + 1):\n",
        "  card_dict[i] += ans\n",
        "  ans *= 2\n",
        "\n",
        "  _ans = 0\n",
        "  for card_k, card_v in card_dict.items():\n",
        "    if i > card_k:\n",
        "      if math.gcd(card_k, i) != 1:\n",
        "        _ans += card_v\n",
        "      else:\n",
        "        card_dict[card_k] += card_v\n",
        "  print(ans, card_dict,_ans)\n",
        "  ans -= _ans\n",
        "\n",
        "print(ans)"
      ],
      "execution_count": 77,
      "outputs": [
        {
          "output_type": "stream",
          "text": [
            "2 6\n",
            "2 {2: 1, 3: 0, 4: 0, 5: 0, 6: 0} 0\n",
            "4 {2: 2, 3: 2, 4: 0, 5: 0, 6: 0} 0\n",
            "8 {2: 2, 3: 4, 4: 4, 5: 0, 6: 0} 2\n",
            "12 {2: 4, 3: 8, 4: 8, 5: 6, 6: 0} 0\n",
            "24 {2: 4, 3: 8, 4: 8, 5: 12, 6: 12} 20\n",
            "4\n"
          ],
          "name": "stdout"
        }
      ]
    },
    {
      "cell_type": "code",
      "metadata": {
        "colab": {
          "base_uri": "https://localhost:8080/"
        },
        "id": "VWpooBPYwgCg",
        "outputId": "42de06fa-a123-46e8-b022-a95ffbd1b1fe"
      },
      "source": [
        "2 ** 4"
      ],
      "execution_count": 76,
      "outputs": [
        {
          "output_type": "execute_result",
          "data": {
            "text/plain": [
              "16"
            ]
          },
          "metadata": {
            "tags": []
          },
          "execution_count": 76
        }
      ]
    },
    {
      "cell_type": "code",
      "metadata": {
        "id": "nGsWOWV5zvpP"
      },
      "source": [
        ""
      ],
      "execution_count": null,
      "outputs": []
    }
  ]
}