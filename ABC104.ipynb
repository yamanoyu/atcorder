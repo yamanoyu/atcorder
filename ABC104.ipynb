{
  "nbformat": 4,
  "nbformat_minor": 0,
  "metadata": {
    "colab": {
      "name": "ABC104.ipynb",
      "provenance": [],
      "collapsed_sections": [],
      "authorship_tag": "ABX9TyP1Y4dviy4TOkZqoeAhh265",
      "include_colab_link": true
    },
    "kernelspec": {
      "name": "python3",
      "display_name": "Python 3"
    }
  },
  "cells": [
    {
      "cell_type": "markdown",
      "metadata": {
        "id": "view-in-github",
        "colab_type": "text"
      },
      "source": [
        "<a href=\"https://colab.research.google.com/github/yamanoyu/atcorder/blob/master/ABC104.ipynb\" target=\"_parent\"><img src=\"https://colab.research.google.com/assets/colab-badge.svg\" alt=\"Open In Colab\"/></a>"
      ]
    },
    {
      "cell_type": "markdown",
      "metadata": {
        "id": "0BxMPhJhGmEP"
      },
      "source": [
        "## A - Rated for Me"
      ]
    },
    {
      "cell_type": "code",
      "metadata": {
        "colab": {
          "base_uri": "https://localhost:8080/"
        },
        "id": "rTIc77dgGZ3_",
        "outputId": "20f661ef-b730-4503-e008-f67b5d97e5c3"
      },
      "source": [
        "r = int(input())\n",
        "if r < 1200:\n",
        "  ans = 'ABC'\n",
        "elif r >= 2800:\n",
        "  ans = 'AGC'\n",
        "else:\n",
        "  ans = 'ARC'\n",
        "print(ans)"
      ],
      "execution_count": null,
      "outputs": [
        {
          "output_type": "stream",
          "text": [
            "4208\n",
            "AGC\n"
          ],
          "name": "stdout"
        }
      ]
    },
    {
      "cell_type": "markdown",
      "metadata": {
        "id": "ARW1jLjxHSZf"
      },
      "source": [
        "## B - AcCepted"
      ]
    },
    {
      "cell_type": "code",
      "metadata": {
        "colab": {
          "base_uri": "https://localhost:8080/"
        },
        "id": "zak6p7D0GmhO",
        "outputId": "bf09019b-02ba-4f6d-fea1-73e04a60d3da"
      },
      "source": [
        "import re\n",
        "s = input()\n",
        "pattern = 'A[a-z]C[a-z]*$'\n",
        "\n",
        "ans = 'AC' if re.match(pattern, s) else 'WA'\n",
        "print(ans)"
      ],
      "execution_count": null,
      "outputs": [
        {
          "output_type": "stream",
          "text": [
            "AsCfgfs\n",
            "AC\n"
          ],
          "name": "stdout"
        }
      ]
    },
    {
      "cell_type": "markdown",
      "metadata": {
        "id": "vhbGY3hFKmJi"
      },
      "source": [
        "## C - All Green"
      ]
    },
    {
      "cell_type": "code",
      "metadata": {
        "colab": {
          "base_uri": "https://localhost:8080/"
        },
        "id": "CkmYIBUAHzhU",
        "outputId": "2527536a-4879-49b0-9174-c2974a3759b4"
      },
      "source": [
        "d, g = map(int, input().split())\n",
        "pc_list = [list(map(int, input().split())) for _ in range(d)]\n",
        "\n",
        "ans = 10 ** 18\n",
        "\n",
        "for i in range(2 ** d):\n",
        "  question_list = list(map(int, bin(i)[2:].zfill(d)))\n",
        "  sum_score = 0\n",
        "  _ans = 0\n",
        "  for question_index, question in enumerate(question_list):\n",
        "    if question == 1:\n",
        "      sum_score += pc_list[question_index][0] * (question_index + 1) * 100 + pc_list[question_index][1]\n",
        "      _ans += pc_list[question_index][0]\n",
        "  if sum_score >= g:\n",
        "    ans = min(ans, _ans)\n",
        "  else:\n",
        "    for question_index, question in enumerate(question_list[::-1]):\n",
        "      if question == 0:\n",
        "        if g - sum_score < (pc_list[d - question_index - 1][0] * (d - question_index) * 100):\n",
        "          _ans += (g - sum_score) // ((d - question_index) * 100) if (g - sum_score) % ((d - question_index) * 100) == 0 else (g - sum_score) // ((d - question_index) * 100) + 1\n",
        "          ans = min(ans, _ans)\n",
        "        else:\n",
        "          break\n",
        "print(ans)"
      ],
      "execution_count": 50,
      "outputs": [
        {
          "output_type": "stream",
          "text": [
            "2 2000\n",
            "3 500\n",
            "5 800\n",
            "7\n"
          ],
          "name": "stdout"
        }
      ]
    },
    {
      "cell_type": "code",
      "metadata": {
        "id": "bcmjFfeXO37p",
        "colab": {
          "base_uri": "https://localhost:8080/"
        },
        "outputId": "69a05471-5303-4633-e34c-13903d0bb594"
      },
      "source": [
        "num_list = [1, 5, 2, 3, 4]\n",
        "for i, n in enumerate(num_list[::-1]):\n",
        "  print(i, n)\n",
        "\n",
        "print(num_list)"
      ],
      "execution_count": 41,
      "outputs": [
        {
          "output_type": "stream",
          "text": [
            "0 4\n",
            "1 3\n",
            "2 2\n",
            "3 5\n",
            "4 1\n",
            "[1, 5, 2, 3, 4]\n"
          ],
          "name": "stdout"
        }
      ]
    },
    {
      "cell_type": "code",
      "metadata": {
        "id": "jKtGMqefaXUI"
      },
      "source": [
        ""
      ],
      "execution_count": null,
      "outputs": []
    }
  ]
}