{
  "nbformat": 4,
  "nbformat_minor": 0,
  "metadata": {
    "colab": {
      "name": "ABC118.ipynb",
      "provenance": [],
      "collapsed_sections": [],
      "authorship_tag": "ABX9TyNNHoHcPDVrUqsQgsL5iGgc",
      "include_colab_link": true
    },
    "kernelspec": {
      "name": "python3",
      "display_name": "Python 3"
    }
  },
  "cells": [
    {
      "cell_type": "markdown",
      "metadata": {
        "id": "view-in-github",
        "colab_type": "text"
      },
      "source": [
        "<a href=\"https://colab.research.google.com/github/yamanoyu/atcorder/blob/master/ABC118.ipynb\" target=\"_parent\"><img src=\"https://colab.research.google.com/assets/colab-badge.svg\" alt=\"Open In Colab\"/></a>"
      ]
    },
    {
      "cell_type": "markdown",
      "metadata": {
        "id": "q7qiKrNgu3DE"
      },
      "source": [
        "## A - B +/- A"
      ]
    },
    {
      "cell_type": "code",
      "metadata": {
        "colab": {
          "base_uri": "https://localhost:8080/"
        },
        "id": "yJA7V93kuycu",
        "outputId": "6a8bf196-34d4-4a29-ea47-c9ac98d156a4"
      },
      "source": [
        "a, b = map(int, input().split())\n",
        "ans = a + b if b % a == 0 else b - a\n",
        "print(ans)"
      ],
      "execution_count": 3,
      "outputs": [
        {
          "output_type": "stream",
          "text": [
            "1 1\n",
            "2\n"
          ],
          "name": "stdout"
        }
      ]
    },
    {
      "cell_type": "markdown",
      "metadata": {
        "id": "oGVEI7x1vQIb"
      },
      "source": [
        "## B - Foods Loved by Everyone"
      ]
    },
    {
      "cell_type": "code",
      "metadata": {
        "colab": {
          "base_uri": "https://localhost:8080/"
        },
        "id": "Dua-g_g7u3i-",
        "outputId": "d9571469-32d3-469c-fb51-3d975b138294"
      },
      "source": [
        "n, m = map(int, input().split())\n",
        "m_list = [0] * 30\n",
        "\n",
        "for _ in range(n):\n",
        "  ka_list = list(map(int, input().split()))\n",
        "  for a in ka_list[1:]:\n",
        "    m_list[a - 1] += 1\n",
        "\n",
        "ans = 0\n",
        "\n",
        "for m in m_list:\n",
        "  if m == n:\n",
        "    ans += 1\n",
        "\n",
        "print(ans)"
      ],
      "execution_count": 6,
      "outputs": [
        {
          "output_type": "stream",
          "text": [
            "3 4\n",
            "2 1 3\n",
            "3 1 2 3\n",
            "2 3 2\n",
            "1\n"
          ],
          "name": "stdout"
        }
      ]
    },
    {
      "cell_type": "markdown",
      "metadata": {
        "id": "HN92xY8uxK_n"
      },
      "source": [
        "## C - Monsters Battle Royale"
      ]
    },
    {
      "cell_type": "code",
      "metadata": {
        "colab": {
          "base_uri": "https://localhost:8080/"
        },
        "id": "ybtb59OUwoLX",
        "outputId": "a3db7fc6-9be0-493b-f821-82f28ef919b9"
      },
      "source": [
        "n = int(input())\n",
        "a_list = list(map(int, input().split()))\n",
        "\n",
        "while True:\n",
        "  a_list_min = min(a_list)\n",
        "  a_list = [a % a_list_min for a in a_list if a % a_list_min != 0]\n",
        "  a_list += [a_list_min]\n",
        "\n",
        "  a_list_zero_cnt = a_list.count(0)\n",
        "  a_list_len = len(a_list)\n",
        "\n",
        "  if a_list_zero_cnt == a_list_len:\n",
        "    ans = a_list_min\n",
        "    break\n",
        "  elif a_list_zero_cnt == a_list_len - 1:\n",
        "    ans = max(a_list)\n",
        "    break\n",
        "\n",
        "print(ans)"
      ],
      "execution_count": 11,
      "outputs": [
        {
          "output_type": "stream",
          "text": [
            "4\n",
            "5 13 8 1000000\n",
            "1\n"
          ],
          "name": "stdout"
        }
      ]
    },
    {
      "cell_type": "markdown",
      "metadata": {
        "id": "pxOGVUw807o3"
      },
      "source": [
        "## D - Match Matching"
      ]
    },
    {
      "cell_type": "code",
      "metadata": {
        "colab": {
          "base_uri": "https://localhost:8080/",
          "height": 287
        },
        "id": "SwDCkAF5zcVM",
        "outputId": "17c89c04-f0f6-4c1d-9835-e5348d08385f"
      },
      "source": [
        "# WA\n",
        "\n",
        "import itertools\n",
        "\n",
        "\n",
        "n, m = map(int, input().split())\n",
        "a_list = list(map(int, input().split()))\n",
        "\n",
        "num_list = list(range(1, 10))\n",
        "match_list = [2, 5, 5, 4, 5, 6, 3, 7, 6]\n",
        "\n",
        "a_dict = dict()\n",
        "a_dict_new = dict()\n",
        "\n",
        "for a in a_list:\n",
        "  a_dict[a] = match_list[a - 1]\n",
        "\n",
        "for key, val in a_dict.items():\n",
        "  max([_k for _k, _v in a_dict.items() if _v == val])\n",
        "  a_dict_new[max([_k for _k, _v in a_dict.items() if _v == val])] = val\n",
        "# print(a_dict_new)\n",
        "\n",
        "\n",
        "if m == 1:\n",
        "  ans = str(a_list[0]) * (n // a_dict_new[a_list[0]])\n",
        "\n",
        "else:\n",
        "  a_dict_num_sort = sorted(a_dict_new.items(), key=lambda x: x[1])\n",
        "\n",
        "  digits_num = 0  # 桁数\n",
        "\n",
        "  for a, match_num in a_dict_num_sort:\n",
        "    while n // match_num > digits_num:\n",
        "      digits_num = n // match_num\n",
        "\n",
        "  a_dict_sort = dict(sorted(a_dict_new.items(), key=lambda x: x[0], reverse=True))\n",
        "\n",
        "  min_match_num = digits_num - (n - a_dict_num_sort[0][1] * digits_num) // (a_dict_num_sort[1][1] - a_dict_num_sort[0][1])\n",
        "\n",
        "  n -= min_match_num * a_dict_num_sort[0][1]\n",
        "  digits_num -= min_match_num\n",
        "\n",
        "  print(n, digits_num)\n",
        "\n",
        "  if n == 0:\n",
        "    ans_list = [a_dict_num_sort[0][0]] * min_match_num\n",
        "  else:\n",
        "    _ans = 0\n",
        "    if digits_num != 0:\n",
        "      while _ans == 0:\n",
        "        for a_dict_sort_val_tuple in itertools.permutations(a_dict_sort.values(), digits_num):\n",
        "          ans_list = []\n",
        "          a_dict_sort_val_list = list(a_dict_sort_val_tuple)\n",
        "          if sum(a_dict_sort_val_list) == n:\n",
        "            # print('a_dict_sort_val_list', a_dict_sort_val_list)\n",
        "            for a_dict_sort_val in a_dict_sort_val_list:\n",
        "              ans_list += [_k for _k, _v in a_dict_sort.items() if _v == a_dict_sort_val]\n",
        "            ans_list.sort(reverse=True)\n",
        "            _ans = max(_ans, int(''.join(map(str, ans_list))))\n",
        "        n += min_match_num\n",
        "        digits_num += 1\n",
        "\n",
        "    ans_list = (list(map(int, list(str(_ans)))) + [a_dict_num_sort[0][0]] * min_match_num)\n",
        "    ans_list.sort(reverse=True)\n",
        "\n",
        "  ans = ''.join(map(str, ans_list))\n",
        "\n",
        "print(ans)"
      ],
      "execution_count": 17,
      "outputs": [
        {
          "output_type": "stream",
          "text": [
            "4513 3\n",
            "8 3 2\n",
            "8 1\n"
          ],
          "name": "stdout"
        },
        {
          "output_type": "error",
          "ename": "KeyboardInterrupt",
          "evalue": "ignored",
          "traceback": [
            "\u001b[0;31m---------------------------------------------------------------------------\u001b[0m",
            "\u001b[0;31mKeyboardInterrupt\u001b[0m                         Traceback (most recent call last)",
            "\u001b[0;32m<ipython-input-17-ccb8ee8c7c93>\u001b[0m in \u001b[0;36m<module>\u001b[0;34m()\u001b[0m\n\u001b[1;32m     47\u001b[0m     \u001b[0;32mif\u001b[0m \u001b[0mdigits_num\u001b[0m \u001b[0;34m!=\u001b[0m \u001b[0;36m0\u001b[0m\u001b[0;34m:\u001b[0m\u001b[0;34m\u001b[0m\u001b[0;34m\u001b[0m\u001b[0m\n\u001b[1;32m     48\u001b[0m       \u001b[0;32mwhile\u001b[0m \u001b[0m_ans\u001b[0m \u001b[0;34m==\u001b[0m \u001b[0;36m0\u001b[0m\u001b[0;34m:\u001b[0m\u001b[0;34m\u001b[0m\u001b[0;34m\u001b[0m\u001b[0m\n\u001b[0;32m---> 49\u001b[0;31m         \u001b[0;32mfor\u001b[0m \u001b[0ma_dict_sort_val_tuple\u001b[0m \u001b[0;32min\u001b[0m \u001b[0mitertools\u001b[0m\u001b[0;34m.\u001b[0m\u001b[0mpermutations\u001b[0m\u001b[0;34m(\u001b[0m\u001b[0ma_dict_sort\u001b[0m\u001b[0;34m.\u001b[0m\u001b[0mvalues\u001b[0m\u001b[0;34m(\u001b[0m\u001b[0;34m)\u001b[0m\u001b[0;34m,\u001b[0m \u001b[0mdigits_num\u001b[0m\u001b[0;34m)\u001b[0m\u001b[0;34m:\u001b[0m\u001b[0;34m\u001b[0m\u001b[0;34m\u001b[0m\u001b[0m\n\u001b[0m\u001b[1;32m     50\u001b[0m           \u001b[0mans_list\u001b[0m \u001b[0;34m=\u001b[0m \u001b[0;34m[\u001b[0m\u001b[0;34m]\u001b[0m\u001b[0;34m\u001b[0m\u001b[0;34m\u001b[0m\u001b[0m\n\u001b[1;32m     51\u001b[0m           \u001b[0ma_dict_sort_val_list\u001b[0m \u001b[0;34m=\u001b[0m \u001b[0mlist\u001b[0m\u001b[0;34m(\u001b[0m\u001b[0ma_dict_sort_val_tuple\u001b[0m\u001b[0;34m)\u001b[0m\u001b[0;34m\u001b[0m\u001b[0;34m\u001b[0m\u001b[0m\n",
            "\u001b[0;31mKeyboardInterrupt\u001b[0m: "
          ]
        }
      ]
    }
  ]
}