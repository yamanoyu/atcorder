{
  "nbformat": 4,
  "nbformat_minor": 0,
  "metadata": {
    "colab": {
      "name": "ABC190.ipynb",
      "provenance": [],
      "collapsed_sections": [],
      "authorship_tag": "ABX9TyOr22E+GJjEdlTk1Twh5kVV",
      "include_colab_link": true
    },
    "kernelspec": {
      "name": "python3",
      "display_name": "Python 3"
    }
  },
  "cells": [
    {
      "cell_type": "markdown",
      "metadata": {
        "id": "view-in-github",
        "colab_type": "text"
      },
      "source": [
        "<a href=\"https://colab.research.google.com/github/yamanoyu/atcorder/blob/master/ABC190.ipynb\" target=\"_parent\"><img src=\"https://colab.research.google.com/assets/colab-badge.svg\" alt=\"Open In Colab\"/></a>"
      ]
    },
    {
      "cell_type": "markdown",
      "metadata": {
        "id": "13uDRno-IukN"
      },
      "source": [
        "## A - Very Very Primitive Game"
      ]
    },
    {
      "cell_type": "code",
      "metadata": {
        "colab": {
          "base_uri": "https://localhost:8080/"
        },
        "id": "BzlEaxfPItFq",
        "outputId": "bd80f884-e0e9-41e3-d623-d9db2c54f299"
      },
      "source": [
        "a, b, c = map(int, input().split())\n",
        "if a != b:\n",
        "  ans = 'Aoki' if b > a else 'Takahashi'\n",
        "else:\n",
        "  ans = 'Aoki' if c == 0 else 'Takahashi'\n",
        "print(ans)"
      ],
      "execution_count": null,
      "outputs": [
        {
          "output_type": "stream",
          "text": [
            "2 2 0\n",
            "Aoki\n"
          ],
          "name": "stdout"
        }
      ]
    },
    {
      "cell_type": "markdown",
      "metadata": {
        "id": "8zUK1EOvI6F-"
      },
      "source": [
        "## B - Magic 3"
      ]
    },
    {
      "cell_type": "code",
      "metadata": {
        "colab": {
          "base_uri": "https://localhost:8080/"
        },
        "id": "X3lP0adFI6lX",
        "outputId": "2831feb5-7be2-4a09-ae71-f41c2cffc26e"
      },
      "source": [
        "n, s, d = map(int, input().split())\n",
        "\n",
        "ans = 'No'\n",
        "\n",
        "for _ in range(n):\n",
        "  x, y = map(int, input().split())\n",
        "  if x >= s:\n",
        "    continue\n",
        "  else:\n",
        "    if y > d:\n",
        "      ans = 'Yes'\n",
        "      break\n",
        "\n",
        "print(ans)"
      ],
      "execution_count": null,
      "outputs": [
        {
          "output_type": "stream",
          "text": [
            "4 9 9\n",
            "5 5\n",
            "15 5\n",
            "5 15\n",
            "Yes\n"
          ],
          "name": "stdout"
        }
      ]
    },
    {
      "cell_type": "markdown",
      "metadata": {
        "id": "P40GFdZFI7Kw"
      },
      "source": [
        "## C - Bowls and Dishes"
      ]
    },
    {
      "cell_type": "code",
      "metadata": {
        "id": "WYVIBmixI7m0"
      },
      "source": [
        "n, m = map(int, input().split())\n",
        "\n",
        "ab_list = [tuple(map(int, input().split())) for _ in range(m)]\n",
        "\n",
        "k = int(input())\n",
        "\n",
        "cd_list = [tuple(map(int, input().split())) for _ in range(k)]\n",
        "\n",
        "ans = 0\n",
        "\n",
        "for i in range(2 ** k):\n",
        "  _ans = 0\n",
        "  dish_list = [0] * n\n",
        "  pattern = str(bin(i)[2:].zfill(k))\n",
        "\n",
        "  for cd, p in zip(cd_list, pattern):\n",
        "    dish_list[cd[int(p)] - 1] = 1\n",
        "\n",
        "  for a, b in ab_list:\n",
        "    if dish_list[a - 1] == 1 and dish_list[b - 1] == 1:\n",
        "      _ans += 1\n",
        "\n",
        "  ans = max(ans, _ans)\n",
        "\n",
        "print(ans)"
      ],
      "execution_count": null,
      "outputs": []
    },
    {
      "cell_type": "markdown",
      "metadata": {
        "id": "H3sHoSWFI75B"
      },
      "source": [
        "## D - Staircase Sequences"
      ]
    },
    {
      "cell_type": "code",
      "metadata": {
        "colab": {
          "base_uri": "https://localhost:8080/",
          "height": 253
        },
        "id": "urYQLOu6I8Op",
        "outputId": "93c95af7-353f-4249-c3b3-534bc101b498"
      },
      "source": [
        "# TLE\n",
        "n = int(input())\n",
        "\n",
        "ans = 0\n",
        "\n",
        "for i in range(1, n + 1, 2):\n",
        "  if n % i == 0:\n",
        "    t = n // i - i // 2\n",
        "    if t >= 1:\n",
        "      ans += 2\n",
        "    elif t == 0:\n",
        "      ans += 1\n",
        "    else:\n",
        "      continue\n",
        "\n",
        "print(ans)"
      ],
      "execution_count": null,
      "outputs": [
        {
          "output_type": "stream",
          "text": [
            "963761198400\n"
          ],
          "name": "stdout"
        },
        {
          "output_type": "error",
          "ename": "KeyboardInterrupt",
          "evalue": "ignored",
          "traceback": [
            "\u001b[0;31m---------------------------------------------------------------------------\u001b[0m",
            "\u001b[0;31mKeyboardInterrupt\u001b[0m                         Traceback (most recent call last)",
            "\u001b[0;32m<ipython-input-28-716e94f2eada>\u001b[0m in \u001b[0;36m<module>\u001b[0;34m()\u001b[0m\n\u001b[1;32m      5\u001b[0m \u001b[0;34m\u001b[0m\u001b[0m\n\u001b[1;32m      6\u001b[0m \u001b[0;32mfor\u001b[0m \u001b[0mi\u001b[0m \u001b[0;32min\u001b[0m \u001b[0mrange\u001b[0m\u001b[0;34m(\u001b[0m\u001b[0;36m1\u001b[0m\u001b[0;34m,\u001b[0m \u001b[0mn\u001b[0m \u001b[0;34m+\u001b[0m \u001b[0;36m1\u001b[0m\u001b[0;34m,\u001b[0m \u001b[0;36m2\u001b[0m\u001b[0;34m)\u001b[0m\u001b[0;34m:\u001b[0m\u001b[0;34m\u001b[0m\u001b[0;34m\u001b[0m\u001b[0m\n\u001b[0;32m----> 7\u001b[0;31m   \u001b[0;32mif\u001b[0m \u001b[0mn\u001b[0m \u001b[0;34m%\u001b[0m \u001b[0mi\u001b[0m \u001b[0;34m==\u001b[0m \u001b[0;36m0\u001b[0m\u001b[0;34m:\u001b[0m\u001b[0;34m\u001b[0m\u001b[0;34m\u001b[0m\u001b[0m\n\u001b[0m\u001b[1;32m      8\u001b[0m     \u001b[0mt\u001b[0m \u001b[0;34m=\u001b[0m \u001b[0mn\u001b[0m \u001b[0;34m//\u001b[0m \u001b[0mi\u001b[0m \u001b[0;34m-\u001b[0m \u001b[0mi\u001b[0m \u001b[0;34m//\u001b[0m \u001b[0;36m2\u001b[0m\u001b[0;34m\u001b[0m\u001b[0;34m\u001b[0m\u001b[0m\n\u001b[1;32m      9\u001b[0m     \u001b[0;32mif\u001b[0m \u001b[0mt\u001b[0m \u001b[0;34m>=\u001b[0m \u001b[0;36m1\u001b[0m\u001b[0;34m:\u001b[0m\u001b[0;34m\u001b[0m\u001b[0;34m\u001b[0m\u001b[0m\n",
            "\u001b[0;31mKeyboardInterrupt\u001b[0m: "
          ]
        }
      ]
    },
    {
      "cell_type": "code",
      "metadata": {
        "colab": {
          "base_uri": "https://localhost:8080/",
          "height": 253
        },
        "id": "l4DJPR5iI89w",
        "outputId": "2cb5d42d-e78b-4c5e-89ce-62c7fec43c13"
      },
      "source": [
        "# TLE\n",
        "n = int(input())\n",
        "\n",
        "ans = 0\n",
        "\n",
        "i = 1\n",
        "\n",
        "while i ** 2 <= n:\n",
        "  if n % i != 0:\n",
        "    continue\n",
        "\n",
        "  if i % 2 == 0:\n",
        "    if (n // i) % 2 == 1:\n",
        "      t = i - i // 2\n",
        "      if t >= 1:\n",
        "        ans += 2\n",
        "      elif t == 0:\n",
        "        ans += 1\n",
        "      else:\n",
        "        continue\n",
        "  else:\n",
        "    t = n // i - i // 2\n",
        "    if t >= 1:\n",
        "      ans += 2\n",
        "    elif t == 0:\n",
        "      ans += 1\n",
        "    else:\n",
        "      continue\n",
        "  \n",
        "  i += 1\n",
        "\n",
        "print(ans)"
      ],
      "execution_count": null,
      "outputs": [
        {
          "output_type": "stream",
          "text": [
            "963761198400\n"
          ],
          "name": "stdout"
        },
        {
          "output_type": "error",
          "ename": "KeyboardInterrupt",
          "evalue": "ignored",
          "traceback": [
            "\u001b[0;31m---------------------------------------------------------------------------\u001b[0m",
            "\u001b[0;31mKeyboardInterrupt\u001b[0m                         Traceback (most recent call last)",
            "\u001b[0;32m<ipython-input-35-5fb5974fcd70>\u001b[0m in \u001b[0;36m<module>\u001b[0;34m()\u001b[0m\n\u001b[1;32m      5\u001b[0m \u001b[0mi\u001b[0m \u001b[0;34m=\u001b[0m \u001b[0;36m1\u001b[0m\u001b[0;34m\u001b[0m\u001b[0;34m\u001b[0m\u001b[0m\n\u001b[1;32m      6\u001b[0m \u001b[0;34m\u001b[0m\u001b[0m\n\u001b[0;32m----> 7\u001b[0;31m \u001b[0;32mwhile\u001b[0m \u001b[0mi\u001b[0m \u001b[0;34m**\u001b[0m \u001b[0;36m2\u001b[0m \u001b[0;34m<=\u001b[0m \u001b[0mn\u001b[0m\u001b[0;34m:\u001b[0m\u001b[0;34m\u001b[0m\u001b[0;34m\u001b[0m\u001b[0m\n\u001b[0m\u001b[1;32m      8\u001b[0m   \u001b[0;32mif\u001b[0m \u001b[0mn\u001b[0m \u001b[0;34m%\u001b[0m \u001b[0mi\u001b[0m \u001b[0;34m!=\u001b[0m \u001b[0;36m0\u001b[0m\u001b[0;34m:\u001b[0m\u001b[0;34m\u001b[0m\u001b[0;34m\u001b[0m\u001b[0m\n\u001b[1;32m      9\u001b[0m     \u001b[0;32mcontinue\u001b[0m\u001b[0;34m\u001b[0m\u001b[0;34m\u001b[0m\u001b[0m\n",
            "\u001b[0;31mKeyboardInterrupt\u001b[0m: "
          ]
        }
      ]
    },
    {
      "cell_type": "code",
      "metadata": {
        "colab": {
          "base_uri": "https://localhost:8080/"
        },
        "id": "8Z_1Zv8kf527",
        "outputId": "2267b74a-336e-457b-e2ee-e0c2cc9d2c17"
      },
      "source": [
        "n = int(input())\n",
        "\n",
        "\n",
        "def make_divisors(n):\n",
        "    lower_divisors , upper_divisors = [], []\n",
        "    i = 1\n",
        "    while i * i <= n:\n",
        "        if n % i == 0:\n",
        "            lower_divisors.append(i)\n",
        "            if i != n // i:\n",
        "                upper_divisors.append(n // i)\n",
        "        i += 1\n",
        "    return lower_divisors + upper_divisors[::-1]\n",
        "  \n",
        "\n",
        "division_list = make_divisors(n)\n",
        "ans = len([division for division in division_list if division % 2 != 0]) * 2\n",
        "\n",
        "print(ans)"
      ],
      "execution_count": null,
      "outputs": [
        {
          "output_type": "stream",
          "text": [
            "963761198400\n",
            "1920\n"
          ],
          "name": "stdout"
        }
      ]
    },
    {
      "cell_type": "markdown",
      "metadata": {
        "id": "OP0M1iOrI8i4"
      },
      "source": [
        "## E - Magical Ornament"
      ]
    },
    {
      "cell_type": "code",
      "metadata": {
        "id": "jzi2_IxacvOh"
      },
      "source": [
        "# WA\n",
        "n, m = map(int, input().split())\n",
        "\n",
        "INF = 10 ** 9\n",
        "\n",
        "edges = [[INF] * n for _ in range(n)]\n",
        "\n",
        "for _ in range(m):\n",
        "  a, b = map(int, input().split())\n",
        "  edges[a - 1][b - 1] = 1\n",
        "\n"
      ],
      "execution_count": null,
      "outputs": []
    },
    {
      "cell_type": "markdown",
      "metadata": {
        "id": "fh8LOEqWI99m"
      },
      "source": [
        "## F - Shift and Inversions"
      ]
    },
    {
      "cell_type": "code",
      "metadata": {
        "colab": {
          "base_uri": "https://localhost:8080/"
        },
        "id": "iFSbC5BHI-WF",
        "outputId": "e50ff596-a24b-4f32-afbb-5109bba08e99"
      },
      "source": [
        "n = int(input())\n",
        "a_list = list(map(int, input().split()))\n",
        "\n",
        "\n",
        "class Bit:\n",
        "  # 転倒数\n",
        "  def __init__(self, n):\n",
        "    self.size = n\n",
        "    self.tree = [0] * (n + 1)\n",
        "\n",
        "  def __iter__(self):\n",
        "      psum = 0\n",
        "      for i in range(self.size):\n",
        "          csum = self.sum(i + 1)\n",
        "          yield csum - psum\n",
        "          psum = csum\n",
        "      raise StopIteration()\n",
        "\n",
        "  def __str__(self):  # O(nlogn)\n",
        "      return str(list(self))\n",
        "\n",
        "  def sum(self, i):\n",
        "      # [0, i) の要素の総和を返す\n",
        "      if not (0 <= i <= self.size): raise ValueError(\"error!\")\n",
        "      s = 0\n",
        "      while i > 0:\n",
        "          s += self.tree[i]\n",
        "          i -= i & - i\n",
        "      return s\n",
        "\n",
        "  def add(self, i, x):\n",
        "      if not (0 <= i < self.size): raise ValueError(\"error!\")\n",
        "      i += 1\n",
        "      while i <= self.size:\n",
        "          self.tree[i] += x\n",
        "          i += i & - i\n",
        "\n",
        "  def __getitem__(self, key):\n",
        "      if not (0 <= key < self.size): raise IndexError(\"error!\")\n",
        "      return self.sum(key+1) - self.sum(key)\n",
        "\n",
        "  def __setitem__(self, key, value):\n",
        "      # 足し算と引き算にはaddを使うべき\n",
        "      if not (0 <= key < self.size): raise IndexError(\"error!\")\n",
        "      self.add(key, value - self[key])\n",
        "\n",
        "\n",
        "bit = Bit(n)\n",
        "ans = 0\n",
        "\n",
        "for i, a in enumerate(a_list):\n",
        "    ans += i - bit.sum(a + 1)\n",
        "    bit.add(a, 1)\n",
        "\n",
        "print(ans)\n",
        "\n",
        "for i in range(n - 1):\n",
        "  ans += (n - a_list[i] - 1) - a_list[i]\n",
        "  print(ans)"
      ],
      "execution_count": 44,
      "outputs": [
        {
          "output_type": "stream",
          "text": [
            "４\n",
            "0 1 2 3 \n",
            "0\n",
            "3\n",
            "4\n",
            "3\n"
          ],
          "name": "stdout"
        }
      ]
    },
    {
      "cell_type": "code",
      "metadata": {
        "id": "QX6lXQ-2kBI7"
      },
      "source": [
        ""
      ],
      "execution_count": null,
      "outputs": []
    }
  ]
}