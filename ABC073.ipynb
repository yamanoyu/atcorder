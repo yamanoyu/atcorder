{
  "nbformat": 4,
  "nbformat_minor": 0,
  "metadata": {
    "colab": {
      "name": "ABC073.ipynb",
      "provenance": [],
      "collapsed_sections": [],
      "authorship_tag": "ABX9TyO3m4A30IDkpKFdVuGGk2r7",
      "include_colab_link": true
    },
    "kernelspec": {
      "name": "python3",
      "display_name": "Python 3"
    }
  },
  "cells": [
    {
      "cell_type": "markdown",
      "metadata": {
        "id": "view-in-github",
        "colab_type": "text"
      },
      "source": [
        "<a href=\"https://colab.research.google.com/github/yamanoyu/atcorder/blob/master/ABC073.ipynb\" target=\"_parent\"><img src=\"https://colab.research.google.com/assets/colab-badge.svg\" alt=\"Open In Colab\"/></a>"
      ]
    },
    {
      "cell_type": "markdown",
      "metadata": {
        "id": "bmOWT72Y6HYY"
      },
      "source": [
        "## A - September 9"
      ]
    },
    {
      "cell_type": "code",
      "metadata": {
        "colab": {
          "base_uri": "https://localhost:8080/"
        },
        "id": "7k7XfRGV6K5r",
        "outputId": "a40747cb-30bc-48f9-a0de-446e474e7617"
      },
      "source": [
        "n = input()\n",
        "ans = 'Yes' if '9' in n else 'No'\n",
        "print(ans)"
      ],
      "execution_count": 3,
      "outputs": [
        {
          "output_type": "stream",
          "text": [
            "29\n",
            "Yes\n"
          ],
          "name": "stdout"
        }
      ]
    },
    {
      "cell_type": "markdown",
      "metadata": {
        "id": "QXWozN5B6XEK"
      },
      "source": [
        "## B - Theater"
      ]
    },
    {
      "cell_type": "code",
      "metadata": {
        "colab": {
          "base_uri": "https://localhost:8080/"
        },
        "id": "4w4YarTx6X54",
        "outputId": "b8755e17-787e-412d-bf94-9c7063e92c1c"
      },
      "source": [
        "n = int(input())\n",
        "ans = 0\n",
        "for _ in range(n):\n",
        "  l, r = map(int, input().split())\n",
        "  ans += (r - l) + 1\n",
        "\n",
        "print(ans)"
      ],
      "execution_count": 4,
      "outputs": [
        {
          "output_type": "stream",
          "text": [
            "1\n",
            "24 30\n",
            "7\n"
          ],
          "name": "stdout"
        }
      ]
    },
    {
      "cell_type": "markdown",
      "metadata": {
        "id": "bU0EmclK61fo"
      },
      "source": [
        "## C - Write and Erase"
      ]
    },
    {
      "cell_type": "code",
      "metadata": {
        "colab": {
          "base_uri": "https://localhost:8080/"
        },
        "id": "cP0_G6m86wgQ",
        "outputId": "64cfd6aa-63b5-49ab-cc61-8c236da8db1c"
      },
      "source": [
        "n = int(input())\n",
        "ans_set = set()\n",
        "for _ in range(n):\n",
        "  a = input()\n",
        "  if a not in ans_set:\n",
        "    ans_set.add(a)\n",
        "  else:\n",
        "    ans_set.remove(a)\n",
        "\n",
        "ans = len(ans_set)\n",
        "print(ans)"
      ],
      "execution_count": 6,
      "outputs": [
        {
          "output_type": "stream",
          "text": [
            "3\n",
            "6\n",
            "2\n",
            "6\n",
            "1\n"
          ],
          "name": "stdout"
        }
      ]
    },
    {
      "cell_type": "markdown",
      "metadata": {
        "id": "b2dB6XeP7gqE"
      },
      "source": [
        "## D - joisino's travel"
      ]
    },
    {
      "cell_type": "code",
      "metadata": {
        "id": "DDymCZRR7KDY"
      },
      "source": [
        "# WA\n",
        "import itertools\n",
        "\n",
        "n, m, r = map(int, input().split())\n",
        "r_list = list(map(int, input().split()))\n",
        "cost_list = [[10 ** 9] * n for _ in range(n)]\n",
        "\n",
        "for _ in range(m):\n",
        "  a, b, c = map(int, input().split())\n",
        "  cost_list[a-1][b-1] = c\n",
        "  cost_list[b-1][a-1] = c\n",
        "\n",
        "# ワーシャルフロイド法\n",
        "for k in range(n):\n",
        "  for i in range(n - 1):\n",
        "    for j in range(i + 1, n):\n",
        "      if cost_list[i][j] > cost_list[i][k] + cost_list[k][j]:\n",
        "        cost_list[i][j] = cost_list[i][k] + cost_list[k][j]\n",
        "        cost_list[j][i] = cost_list[i][j]\n",
        "\n",
        "ans_list = []\n",
        "\n",
        "for p_list in list(itertools.permutations(r_list)):\n",
        "  ans = 0\n",
        "  for i, p in enumerate(p_list):\n",
        "    if i == 0:\n",
        "      continue\n",
        "    ans += cost_list[p_list[i] - 1][p_list[i-1] - 1]\n",
        "  ans_list.append(ans)\n",
        "\n",
        "ans = min(ans_list)\n",
        "print(ans)"
      ],
      "execution_count": null,
      "outputs": []
    },
    {
      "cell_type": "code",
      "metadata": {
        "id": "ge2Bn8iR96YI"
      },
      "source": [
        ""
      ],
      "execution_count": null,
      "outputs": []
    }
  ]
}