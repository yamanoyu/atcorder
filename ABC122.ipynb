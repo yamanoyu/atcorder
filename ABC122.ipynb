{
  "nbformat": 4,
  "nbformat_minor": 0,
  "metadata": {
    "colab": {
      "name": "ABC122.ipynb",
      "provenance": [],
      "collapsed_sections": [],
      "authorship_tag": "ABX9TyMGMHjAWDukAU3sQS5ra7Y0",
      "include_colab_link": true
    },
    "kernelspec": {
      "name": "python3",
      "display_name": "Python 3"
    }
  },
  "cells": [
    {
      "cell_type": "markdown",
      "metadata": {
        "id": "view-in-github",
        "colab_type": "text"
      },
      "source": [
        "<a href=\"https://colab.research.google.com/github/yamanoyu/atcorder/blob/master/ABC122.ipynb\" target=\"_parent\"><img src=\"https://colab.research.google.com/assets/colab-badge.svg\" alt=\"Open In Colab\"/></a>"
      ]
    },
    {
      "cell_type": "markdown",
      "metadata": {
        "id": "7W1xRkwe96To"
      },
      "source": [
        "## A - Double Helix"
      ]
    },
    {
      "cell_type": "code",
      "metadata": {
        "colab": {
          "base_uri": "https://localhost:8080/"
        },
        "id": "nnRfrY8P48kP",
        "outputId": "8be1aede-0224-4294-dcc3-ffffed5e1248"
      },
      "source": [
        "b = input()\n",
        "if b == 'A':\n",
        "  ans = 'T'\n",
        "elif b == 'T':\n",
        "  ans = 'A'\n",
        "elif b == 'G':\n",
        "  ans = 'C'\n",
        "else:\n",
        "  ans = 'G'\n",
        "  \n",
        "print(ans)"
      ],
      "execution_count": 1,
      "outputs": [
        {
          "output_type": "stream",
          "text": [
            "A\n",
            "T\n"
          ],
          "name": "stdout"
        }
      ]
    },
    {
      "cell_type": "markdown",
      "metadata": {
        "id": "is6N52Im-Vr5"
      },
      "source": [
        "## B - ATCoder"
      ]
    },
    {
      "cell_type": "code",
      "metadata": {
        "colab": {
          "base_uri": "https://localhost:8080/"
        },
        "id": "ZgeZ7U9C96tY",
        "outputId": "b403141e-0c50-4dbe-ad48-f978c1cb9211"
      },
      "source": [
        "s = input()\n",
        "acgt_list = ['A', 'C', 'G', 'T']\n",
        "\n",
        "ans = 0\n",
        "_ans = 0\n",
        "\n",
        "for i in range(len(s)):\n",
        "  if s[i] in acgt_list:\n",
        "    _ans += 1\n",
        "    ans = max(ans, _ans)\n",
        "  else:\n",
        "    _ans = 0\n",
        "    \n",
        "print(ans)"
      ],
      "execution_count": 2,
      "outputs": [
        {
          "output_type": "stream",
          "text": [
            "ATCODER\n",
            "3\n"
          ],
          "name": "stdout"
        }
      ]
    },
    {
      "cell_type": "markdown",
      "metadata": {
        "id": "va4S-Sru-3BH"
      },
      "source": [
        "## C - GeT AC"
      ]
    },
    {
      "cell_type": "code",
      "metadata": {
        "colab": {
          "base_uri": "https://localhost:8080/"
        },
        "id": "gkvULbk8-xaL",
        "outputId": "69c82ddb-f599-4294-836b-a58292e82e20"
      },
      "source": [
        "n, q = map(int, input().split())\n",
        "s = input()\n",
        "\n",
        "\n",
        "def solve(i):\n",
        "  if i == 0 or i == 1: return 0\n",
        "  elif i == 2:\n",
        "    if s[:2] == 'AC':\n",
        "      return 1\n",
        "    else:\n",
        "      return 0\n",
        "  else:\n",
        "    if s[i - 1] == 'C' and s[i - 2]== 'A':\n",
        "      return solve(i - 1) + 1\n",
        "    else:\n",
        "      return solve(i - 1)\n",
        "\n",
        "\n",
        "for _ in range(q):\n",
        "  l, r = map(int, input().split())\n",
        "  ans = solve(r) - solve(l - 1) - 1 if l > 1 and s[l - 1] == 'C' and s[l - 2] == 'A' else solve(r) - solve(l - 1)\n",
        "  print(ans)"
      ],
      "execution_count": 3,
      "outputs": [
        {
          "output_type": "stream",
          "text": [
            "8 3\n",
            "ACACTACG\n",
            "3 7\n",
            "0\n",
            "2 3\n",
            "0\n",
            "1 8\n",
            "0\n"
          ],
          "name": "stdout"
        }
      ]
    },
    {
      "cell_type": "code",
      "metadata": {
        "id": "B0P20_87CHKf"
      },
      "source": [
        ""
      ],
      "execution_count": null,
      "outputs": []
    }
  ]
}