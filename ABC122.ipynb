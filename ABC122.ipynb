{
  "nbformat": 4,
  "nbformat_minor": 0,
  "metadata": {
    "colab": {
      "name": "ABC122.ipynb",
      "provenance": [],
      "collapsed_sections": [],
      "authorship_tag": "ABX9TyMXksp+xWIsmGtzA8+ba2+O",
      "include_colab_link": true
    },
    "kernelspec": {
      "name": "python3",
      "display_name": "Python 3"
    }
  },
  "cells": [
    {
      "cell_type": "markdown",
      "metadata": {
        "id": "view-in-github",
        "colab_type": "text"
      },
      "source": [
        "<a href=\"https://colab.research.google.com/github/yamanoyu/atcorder/blob/master/ABC122.ipynb\" target=\"_parent\"><img src=\"https://colab.research.google.com/assets/colab-badge.svg\" alt=\"Open In Colab\"/></a>"
      ]
    },
    {
      "cell_type": "markdown",
      "metadata": {
        "id": "7W1xRkwe96To"
      },
      "source": [
        "## A - Double Helix"
      ]
    },
    {
      "cell_type": "code",
      "metadata": {
        "colab": {
          "base_uri": "https://localhost:8080/"
        },
        "id": "nnRfrY8P48kP",
        "outputId": "8be1aede-0224-4294-dcc3-ffffed5e1248"
      },
      "source": [
        "b = input()\n",
        "if b == 'A':\n",
        "  ans = 'T'\n",
        "elif b == 'T':\n",
        "  ans = 'A'\n",
        "elif b == 'G':\n",
        "  ans = 'C'\n",
        "else:\n",
        "  ans = 'G'\n",
        "  \n",
        "print(ans)"
      ],
      "execution_count": 1,
      "outputs": [
        {
          "output_type": "stream",
          "text": [
            "A\n",
            "T\n"
          ],
          "name": "stdout"
        }
      ]
    },
    {
      "cell_type": "markdown",
      "metadata": {
        "id": "is6N52Im-Vr5"
      },
      "source": [
        "## B - ATCoder"
      ]
    },
    {
      "cell_type": "code",
      "metadata": {
        "colab": {
          "base_uri": "https://localhost:8080/"
        },
        "id": "ZgeZ7U9C96tY",
        "outputId": "b403141e-0c50-4dbe-ad48-f978c1cb9211"
      },
      "source": [
        "s = input()\n",
        "acgt_list = ['A', 'C', 'G', 'T']\n",
        "\n",
        "ans = 0\n",
        "_ans = 0\n",
        "\n",
        "for i in range(len(s)):\n",
        "  if s[i] in acgt_list:\n",
        "    _ans += 1\n",
        "    ans = max(ans, _ans)\n",
        "  else:\n",
        "    _ans = 0\n",
        "    \n",
        "print(ans)"
      ],
      "execution_count": 2,
      "outputs": [
        {
          "output_type": "stream",
          "text": [
            "ATCODER\n",
            "3\n"
          ],
          "name": "stdout"
        }
      ]
    },
    {
      "cell_type": "markdown",
      "metadata": {
        "id": "va4S-Sru-3BH"
      },
      "source": [
        "## C - GeT AC"
      ]
    },
    {
      "cell_type": "code",
      "metadata": {
        "colab": {
          "base_uri": "https://localhost:8080/"
        },
        "id": "gkvULbk8-xaL",
        "outputId": "69c82ddb-f599-4294-836b-a58292e82e20"
      },
      "source": [
        "from functools import lru_cache\n",
        "import sys\n",
        "\n",
        "\n",
        "sys.setrecursionlimit(100000)  # maximum recursion depth exceeded対策\n",
        "\n",
        "n, q = map(int, input().split())\n",
        "s = input()\n",
        "\n",
        "\n",
        "@lru_cache(maxsize=None)\n",
        "def solve(i):\n",
        "  if i == 0 or i == 1: return 0\n",
        "  elif i == 2:\n",
        "    if s[:2] == 'AC':\n",
        "      return 1\n",
        "    else:\n",
        "      return 0\n",
        "  else:\n",
        "    if s[i - 1] == 'C' and s[i - 2]== 'A':\n",
        "      return solve(i - 1) + 1\n",
        "    else:\n",
        "      return solve(i - 1)\n",
        "\n",
        "\n",
        "for _ in range(q):\n",
        "  l, r = map(int, input().split())\n",
        "  ans = solve(r) - solve(l - 1) - 1 if l > 1 and s[l - 1] == 'C' and s[l - 2] == 'A' else solve(r) - solve(l - 1)\n",
        "  print(ans)"
      ],
      "execution_count": 3,
      "outputs": [
        {
          "output_type": "stream",
          "text": [
            "8 3\n",
            "ACACTACG\n",
            "3 7\n",
            "0\n",
            "2 3\n",
            "0\n",
            "1 8\n",
            "0\n"
          ],
          "name": "stdout"
        }
      ]
    },
    {
      "cell_type": "markdown",
      "metadata": {
        "id": "glLAc4bqNw14"
      },
      "source": [
        "## D - We Like AGC"
      ]
    },
    {
      "cell_type": "code",
      "metadata": {
        "colab": {
          "base_uri": "https://localhost:8080/"
        },
        "id": "B0P20_87CHKf",
        "outputId": "4d5a5065-d673-433c-a767-67ebcd130e4a"
      },
      "source": [
        "from collections import defaultdict\n",
        "\n",
        "n = int(input())\n",
        "\n",
        "mod = 10 ** 9 + 7\n",
        "ng_list_3 = ['AGC', 'GAC', 'ACG']\n",
        "ng_list_4 = [\n",
        "             'AAGC', 'GAGC', 'CAGC', 'TAGC',\n",
        "             'AGAC', 'GGAC', 'CGAC', 'TGAC',\n",
        "             'AACG', 'GACG', 'CACG', 'TACG',\n",
        "             'AGCA', 'AGCG', 'AGCC', 'AGCT',\n",
        "             'GAC', 'GACG', 'GACC', 'GACT',\n",
        "             'ACG', 'ACGG', 'ACGC', 'ACGT',\n",
        "             'AGGC', 'ATGC', 'AGTC'\n",
        "             ]\n",
        "\n",
        "def check(three_words_list):\n",
        "  if three_words_list in ng_list_3:\n",
        "    return False\n",
        "  else:\n",
        "    return True\n",
        "\n",
        "ans_list = [defaultdict(int) for _ in range(n + 1)]\n",
        "\n",
        "for i in 'ACGT':\n",
        "  for j in 'ACGT':\n",
        "    for k in 'ACGT':\n",
        "      if check(i + j + k):\n",
        "        ans_list[3][i + j + k] += 1\n",
        "\n",
        "for l in range(4, n + 1):\n",
        "  for w in 'ACGT':\n",
        "    for k, v in ans_list[l - 1].items():\n",
        "      if k + w not in ng_list_4:\n",
        "        ans_list[l][(k + w)[-3:]] += v\n",
        "\n",
        "ans = sum(ans_list[n].values()) % mod\n",
        "print(ans)"
      ],
      "execution_count": 21,
      "outputs": [
        {
          "output_type": "stream",
          "text": [
            "100\n",
            "388130742\n"
          ],
          "name": "stdout"
        }
      ]
    }
  ]
}