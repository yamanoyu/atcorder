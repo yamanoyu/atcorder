{
  "nbformat": 4,
  "nbformat_minor": 0,
  "metadata": {
    "colab": {
      "name": "ABC069.ipynb",
      "provenance": [],
      "collapsed_sections": [],
      "authorship_tag": "ABX9TyOLNrXlrCCN4H74trTK8o51",
      "include_colab_link": true
    },
    "kernelspec": {
      "name": "python3",
      "display_name": "Python 3"
    }
  },
  "cells": [
    {
      "cell_type": "markdown",
      "metadata": {
        "id": "view-in-github",
        "colab_type": "text"
      },
      "source": [
        "<a href=\"https://colab.research.google.com/github/yamanoyu/atcorder/blob/master/ABC069.ipynb\" target=\"_parent\"><img src=\"https://colab.research.google.com/assets/colab-badge.svg\" alt=\"Open In Colab\"/></a>"
      ]
    },
    {
      "cell_type": "markdown",
      "metadata": {
        "id": "_LOibP9kYk2p"
      },
      "source": [
        "## A - K-City"
      ]
    },
    {
      "cell_type": "code",
      "metadata": {
        "colab": {
          "base_uri": "https://localhost:8080/"
        },
        "id": "r9pBkdhAYkXX",
        "outputId": "73a64945-764c-4912-81e2-abdd48909b2b"
      },
      "source": [
        "n, m = map(int, input().split())\n",
        "ans = (n - 1) * (m - 1)\n",
        "print(ans)"
      ],
      "execution_count": 1,
      "outputs": [
        {
          "output_type": "stream",
          "text": [
            "2 2\n",
            "1\n"
          ],
          "name": "stdout"
        }
      ]
    },
    {
      "cell_type": "markdown",
      "metadata": {
        "id": "sJc4v-fiY6vC"
      },
      "source": [
        "## B - i18n"
      ]
    },
    {
      "cell_type": "code",
      "metadata": {
        "colab": {
          "base_uri": "https://localhost:8080/"
        },
        "id": "kF3cE0gZY0Wq",
        "outputId": "301eb743-3581-43d1-c7b7-979db1a6f6f4"
      },
      "source": [
        "s = input()\n",
        "ans = s[0] + str(len(s) - 2) + s[-1]\n",
        "print(ans)"
      ],
      "execution_count": 3,
      "outputs": [
        {
          "output_type": "stream",
          "text": [
            "internationalization\n",
            "i18n\n"
          ],
          "name": "stdout"
        }
      ]
    },
    {
      "cell_type": "markdown",
      "metadata": {
        "id": "2RzDfligZLwv"
      },
      "source": [
        "## C - 4-adjacent"
      ]
    },
    {
      "cell_type": "code",
      "metadata": {
        "colab": {
          "base_uri": "https://localhost:8080/"
        },
        "id": "3xvQv6e9ZEA8",
        "outputId": "927d2926-9310-4a5c-d6d1-2e5aa24a7d5b"
      },
      "source": [
        "n = int(input())\n",
        "a_list = list(map(int, input().split()))\n",
        "\n",
        "a_4count = 0\n",
        "a_2count = 0\n",
        "\n",
        "for a in a_list:\n",
        "  if a % 4 ==0:\n",
        "    a_4count += 1\n",
        "  elif a % 2 ==0:\n",
        "    a_2count += 1\n",
        "\n",
        "ans = 'Yes' if a_4count + a_2count // 2 >= n // 2 else 'No'\n",
        "print(ans)"
      ],
      "execution_count": 6,
      "outputs": [
        {
          "output_type": "stream",
          "text": [
            "6\n",
            "2 7 1 8 2 8\n",
            "Yes\n"
          ],
          "name": "stdout"
        }
      ]
    },
    {
      "cell_type": "markdown",
      "metadata": {
        "id": "UWV3PCWqbtCO"
      },
      "source": [
        "## D - Grid Coloring"
      ]
    },
    {
      "cell_type": "code",
      "metadata": {
        "colab": {
          "base_uri": "https://localhost:8080/"
        },
        "id": "JT7Sr_IvZ5pJ",
        "outputId": "6f830cb7-775d-4f41-8c48-b7f5ca5c8a71"
      },
      "source": [
        "h, w = map(int, input().split())\n",
        "n = int(input())\n",
        "a_list = list(map(int, input().split()))\n",
        "\n",
        "ans_list = []\n",
        "\n",
        "for i, a in enumerate(a_list):\n",
        "  ans_list.extend([str(i + 1)] * a)\n",
        "\n",
        "reverse_flag = 0\n",
        "\n",
        "for i in range(0, h * w + 1, w):\n",
        "  if reverse_flag == 0:\n",
        "    print(' '.join(ans_list[i : i + w]))\n",
        "  else:\n",
        "    print(' '.join(ans_list[i + w - 1 : i - 1 : -1]))\n",
        "  \n",
        "  reverse_flag += 1\n",
        "  reverse_flag %= 2"
      ],
      "execution_count": 19,
      "outputs": [
        {
          "output_type": "stream",
          "text": [
            "3 5\n",
            "5\n",
            "1 2 3 4 5\n",
            "0\n",
            "1 2 2 3 3\n",
            "5\n",
            "4 4 4 4 3\n",
            "10\n",
            "5 5 5 5 5\n",
            "15\n",
            "\n"
          ],
          "name": "stdout"
        }
      ]
    }
  ]
}