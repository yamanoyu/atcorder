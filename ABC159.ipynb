{
  "nbformat": 4,
  "nbformat_minor": 0,
  "metadata": {
    "colab": {
      "name": "ABC159.ipynb",
      "provenance": [],
      "collapsed_sections": [],
      "authorship_tag": "ABX9TyN/dRQ3nz1uBveBaeo1mNoF",
      "include_colab_link": true
    },
    "kernelspec": {
      "name": "python3",
      "display_name": "Python 3"
    }
  },
  "cells": [
    {
      "cell_type": "markdown",
      "metadata": {
        "id": "view-in-github",
        "colab_type": "text"
      },
      "source": [
        "<a href=\"https://colab.research.google.com/github/yamanoyu/atcorder/blob/master/ABC159.ipynb\" target=\"_parent\"><img src=\"https://colab.research.google.com/assets/colab-badge.svg\" alt=\"Open In Colab\"/></a>"
      ]
    },
    {
      "cell_type": "markdown",
      "metadata": {
        "id": "6CYNIeaRYR3q"
      },
      "source": [
        "## A - The Number of Even Pairs"
      ]
    },
    {
      "cell_type": "code",
      "metadata": {
        "colab": {
          "base_uri": "https://localhost:8080/"
        },
        "id": "FOF4KcxFYS4z",
        "outputId": "dd4b0051-b604-4af9-e987-d372160e1bdb"
      },
      "source": [
        "n, m =map(int, input().split())\n",
        "ans = n * (n - 1) // 2 + m * (m - 1) // 2\n",
        "print(ans)"
      ],
      "execution_count": 2,
      "outputs": [
        {
          "output_type": "stream",
          "text": [
            "0 3\n",
            "3\n"
          ],
          "name": "stdout"
        }
      ]
    },
    {
      "cell_type": "markdown",
      "metadata": {
        "id": "x1sZf30qfANr"
      },
      "source": [
        "## B - String Palindrome"
      ]
    },
    {
      "cell_type": "code",
      "metadata": {
        "colab": {
          "base_uri": "https://localhost:8080/"
        },
        "id": "ilI69nSDe5KB",
        "outputId": "b746cb61-484b-468a-9608-75395c73060d"
      },
      "source": [
        "s = input()\n",
        "s_len = len(s)\n",
        "\n",
        "ans = 'Yes'\n",
        "if s != ''.join(reversed(list(s))):\n",
        "  ans = 'No'\n",
        "if s[: (s_len - 1) // 2] != ''.join(reversed(list(s)[: (s_len - 1) // 2])):\n",
        "  ans = 'No'\n",
        "if s[(s_len + 3) // 2 - 1 : s_len] != ''.join(reversed(list(s)[(s_len + 3) // 2 - 1 : s_len])):\n",
        "  ans = 'No'\n",
        "  \n",
        "print(ans)"
      ],
      "execution_count": 17,
      "outputs": [
        {
          "output_type": "stream",
          "text": [
            "akasaka\n",
            "Yes\n"
          ],
          "name": "stdout"
        }
      ]
    },
    {
      "cell_type": "markdown",
      "metadata": {
        "id": "ACRfoAjlkiqo"
      },
      "source": [
        "## C - Maximum Volume"
      ]
    },
    {
      "cell_type": "code",
      "metadata": {
        "colab": {
          "base_uri": "https://localhost:8080/"
        },
        "id": "GKmRLOEaiqnG",
        "outputId": "35d257c0-4302-4410-9268-b0edaa47717b"
      },
      "source": [
        "l = int(input())\n",
        "ans = (l / 3) ** 3\n",
        "print(ans)"
      ],
      "execution_count": 19,
      "outputs": [
        {
          "output_type": "stream",
          "text": [
            "999\n",
            "36926037.0\n"
          ],
          "name": "stdout"
        }
      ]
    },
    {
      "cell_type": "markdown",
      "metadata": {
        "id": "Hp9NqkjMk6uI"
      },
      "source": [
        "## D - Banned K"
      ]
    },
    {
      "cell_type": "code",
      "metadata": {
        "colab": {
          "base_uri": "https://localhost:8080/"
        },
        "id": "nP6w04NVkzN9",
        "outputId": "fbb1ea6a-ab93-49ac-bb2c-4d3c9eb2b0e4"
      },
      "source": [
        "from collections import defaultdict\n",
        "\n",
        "\n",
        "n = int(input())\n",
        "a_list = list(map(int, input().split()))\n",
        "\n",
        "a_dict = defaultdict(int)\n",
        "\n",
        "for a in a_list:\n",
        "  a_dict[a] += 1\n",
        "\n",
        "ans_sum = 0\n",
        "\n",
        "for _, a_v in a_dict.items():\n",
        "  ans_sum += a_v * (a_v - 1) // 2\n",
        "\n",
        "for a in a_list:\n",
        "  ans = ans_sum - (a_dict[a] - 1)\n",
        "  print(ans)"
      ],
      "execution_count": 22,
      "outputs": [
        {
          "output_type": "stream",
          "text": [
            "5\n",
            "1 1 2 1 2\n",
            "2\n",
            "2\n",
            "3\n",
            "2\n",
            "3\n"
          ],
          "name": "stdout"
        }
      ]
    },
    {
      "cell_type": "markdown",
      "metadata": {
        "id": "YfSS7YXtpE-F"
      },
      "source": [
        "## E - Dividing Chocolate"
      ]
    },
    {
      "cell_type": "code",
      "metadata": {
        "id": "C2eZwzmhpFTL"
      },
      "source": [
        ""
      ],
      "execution_count": null,
      "outputs": []
    },
    {
      "cell_type": "markdown",
      "metadata": {
        "id": "D6BeMhVJpFxd"
      },
      "source": [
        "## F - Knapsack for All Segments"
      ]
    },
    {
      "cell_type": "code",
      "metadata": {
        "id": "Hv7d7k0qpHzs"
      },
      "source": [
        ""
      ],
      "execution_count": null,
      "outputs": []
    }
  ]
}