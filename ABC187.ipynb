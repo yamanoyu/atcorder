{
  "nbformat": 4,
  "nbformat_minor": 0,
  "metadata": {
    "colab": {
      "name": "ABC187.ipynb",
      "provenance": [],
      "collapsed_sections": [],
      "authorship_tag": "ABX9TyMfsLPKi3NwWnpJgX/+OzwJ",
      "include_colab_link": true
    },
    "kernelspec": {
      "name": "python3",
      "display_name": "Python 3"
    }
  },
  "cells": [
    {
      "cell_type": "markdown",
      "metadata": {
        "id": "view-in-github",
        "colab_type": "text"
      },
      "source": [
        "<a href=\"https://colab.research.google.com/github/yamanoyu/atcorder/blob/master/ABC187.ipynb\" target=\"_parent\"><img src=\"https://colab.research.google.com/assets/colab-badge.svg\" alt=\"Open In Colab\"/></a>"
      ]
    },
    {
      "cell_type": "markdown",
      "metadata": {
        "id": "R_pGXn6-g5Y9"
      },
      "source": [
        "## A - Large Digits"
      ]
    },
    {
      "cell_type": "code",
      "metadata": {
        "colab": {
          "base_uri": "https://localhost:8080/"
        },
        "id": "iSUdf2Gqg2fj",
        "outputId": "2aafa380-c2c3-4e49-c46d-93c7d70eb9bc"
      },
      "source": [
        "a, b = input().split()\n",
        "ans = sum(list(map(int, list(a)))) if sum(list(map(int, list(a)))) >= sum(list(map(int, list(b)))) else sum(list(map(int, list(b))))\n",
        "print(ans)"
      ],
      "execution_count": 2,
      "outputs": [
        {
          "output_type": "stream",
          "text": [
            "123 234\n",
            "9\n"
          ],
          "name": "stdout"
        }
      ]
    },
    {
      "cell_type": "markdown",
      "metadata": {
        "id": "G6lMQABIhABz"
      },
      "source": [
        "## B - Gentle Pairs"
      ]
    },
    {
      "cell_type": "code",
      "metadata": {
        "colab": {
          "base_uri": "https://localhost:8080/"
        },
        "id": "r4B-kSp9g6oa",
        "outputId": "bb3414ca-e6ea-4446-c148-6f680f7938d7"
      },
      "source": [
        "import itertools\n",
        "\n",
        "n = int(input())\n",
        "xy_list = [list(map(int, input().split())) for _ in range(n)]\n",
        "\n",
        "if n == 1:\n",
        "  ans = 0\n",
        "else:\n",
        "  xy_combinations_list = itertools.combinations(xy_list, 2)\n",
        "  ans = 0\n",
        "\n",
        "  for xy_combinations in xy_combinations_list:\n",
        "    a = (xy_combinations[0][1] - xy_combinations[1][1]) / (xy_combinations[0][0] - xy_combinations[1][0])\n",
        "    if a <= 1 and a >= -1: ans += 1\n",
        "\n",
        "print(ans)"
      ],
      "execution_count": 11,
      "outputs": [
        {
          "output_type": "stream",
          "text": [
            "1\n",
            "2 3\n",
            "0\n"
          ],
          "name": "stdout"
        }
      ]
    },
    {
      "cell_type": "markdown",
      "metadata": {
        "id": "ktILXG0IhBVT"
      },
      "source": [
        "## C - 1-SAT"
      ]
    },
    {
      "cell_type": "code",
      "metadata": {
        "colab": {
          "base_uri": "https://localhost:8080/"
        },
        "id": "wIzjNV_UhB3b",
        "outputId": "8139f001-71e8-4369-b051-d1ecf6953e0a"
      },
      "source": [
        "n = int(input())\n",
        "s_set = set([input() for _ in range(n)])\n",
        "\n",
        "s_set_new = set(['!' + s for s in s_set])\n",
        "ans_set = s_set & s_set_new\n",
        "\n",
        "ans = ans_set.pop() if ans_set else '!satisfiable'\n",
        "print(ans[1:])"
      ],
      "execution_count": 20,
      "outputs": [
        {
          "output_type": "stream",
          "text": [
            "2\n",
            "1 2\n",
            "2 3\n",
            "satisfiable\n"
          ],
          "name": "stdout"
        }
      ]
    },
    {
      "cell_type": "markdown",
      "metadata": {
        "id": "AXxFh5VqhCWW"
      },
      "source": [
        "## D - Choose Me"
      ]
    },
    {
      "cell_type": "code",
      "metadata": {
        "id": "oc0au-JSGu-G"
      },
      "source": [
        "n = int(input())\n",
        "\n",
        "ab_list = [list(map(int, input().split())) for _ in range(n)]\n",
        "ab_list.sort(key=lambda x: x[0] * 2 + x[1], reverse=True)\n",
        "\n",
        "a_sum = 0\n",
        "b_sum = 0\n",
        "\n",
        "for ab in ab_list:\n",
        "  a_sum += ab[0]\n",
        "  # b_sum += ab[1]\n",
        "\n",
        "ans = 0\n",
        "i = 0\n",
        "\n",
        "while a_sum >= b_sum:\n",
        "  a_sum -= ab_list[i][0]\n",
        "  b_sum += ab_list[i][0] + ab_list[i][1]\n",
        "\n",
        "  ans += 1\n",
        "  i += 1\n",
        "\n",
        "print(ans)"
      ],
      "execution_count": null,
      "outputs": []
    },
    {
      "cell_type": "code",
      "metadata": {
        "id": "OZu1Cd36NzTY"
      },
      "source": [
        "# WA\n",
        "n = int(input())\n",
        "\n",
        "ab_list = [list(map(int, input().split())) for _ in range(n)]\n",
        "ab_list.sort(key=lambda x: x[0] + x[1], reverse=True)\n",
        "\n",
        "a_sum = 0\n",
        "b_sum = 0\n",
        "\n",
        "for ab in ab_list:\n",
        "  a_sum += ab[0]\n",
        "  # b_sum += ab[1]\n",
        "\n",
        "ans = 0\n",
        "i = 0\n",
        "\n",
        "while a_sum >= b_sum:\n",
        "  a_sum -= ab_list[i][0]\n",
        "  b_sum += ab_list[i][0] + ab_list[i][1]\n",
        "\n",
        "  ans += 1\n",
        "  i += 1\n",
        "\n",
        "print(ans)"
      ],
      "execution_count": null,
      "outputs": []
    },
    {
      "cell_type": "markdown",
      "metadata": {
        "id": "qgepeq1hhDkv"
      },
      "source": [
        "## E - Through Path"
      ]
    },
    {
      "cell_type": "code",
      "metadata": {
        "id": "u2IqGiMMhEB8"
      },
      "source": [
        ""
      ],
      "execution_count": null,
      "outputs": []
    },
    {
      "cell_type": "markdown",
      "metadata": {
        "id": "cCrzSk_xhEWg"
      },
      "source": [
        "## F - Close Group"
      ]
    },
    {
      "cell_type": "code",
      "metadata": {
        "id": "z0lgFFl4hE5f"
      },
      "source": [
        ""
      ],
      "execution_count": null,
      "outputs": []
    }
  ]
}