{
  "nbformat": 4,
  "nbformat_minor": 0,
  "metadata": {
    "colab": {
      "name": "ABC140.ipynb",
      "provenance": [],
      "collapsed_sections": [],
      "authorship_tag": "ABX9TyNOafkJAfDgbR/VUxd+IKmW",
      "include_colab_link": true
    },
    "kernelspec": {
      "name": "python3",
      "display_name": "Python 3"
    }
  },
  "cells": [
    {
      "cell_type": "markdown",
      "metadata": {
        "id": "view-in-github",
        "colab_type": "text"
      },
      "source": [
        "<a href=\"https://colab.research.google.com/github/yamanoyu/atcorder/blob/master/ABC140.ipynb\" target=\"_parent\"><img src=\"https://colab.research.google.com/assets/colab-badge.svg\" alt=\"Open In Colab\"/></a>"
      ]
    },
    {
      "cell_type": "markdown",
      "metadata": {
        "id": "sPuT96jkMXEm"
      },
      "source": [
        "## A - Password"
      ]
    },
    {
      "cell_type": "code",
      "metadata": {
        "colab": {
          "base_uri": "https://localhost:8080/"
        },
        "id": "nak7WiGrMRIY",
        "outputId": "a9c012de-c7d1-4ab4-9e3c-de2a8aba08f7"
      },
      "source": [
        "n = int(input())\n",
        "ans = n ** 3\n",
        "print(ans)"
      ],
      "execution_count": null,
      "outputs": [
        {
          "output_type": "stream",
          "text": [
            "1\n",
            "1\n"
          ],
          "name": "stdout"
        }
      ]
    },
    {
      "cell_type": "markdown",
      "metadata": {
        "id": "GJqR68d0MnlR"
      },
      "source": [
        "## B - Buffet"
      ]
    },
    {
      "cell_type": "code",
      "metadata": {
        "id": "LRg_qZ2SMXy3"
      },
      "source": [
        "n = int(input())\n",
        "a_list = list(map(int, input().split()))\n",
        "b_list = list(map(int, input().split()))\n",
        "c_list = list(map(int, input().split()))\n",
        "\n",
        "INF = 10 ** 9 + 7\n",
        "\n",
        "ans = 0\n",
        "dish_before = -INF\n",
        "\n",
        "for i in range(n):\n",
        "  ans += b_list[a_list[i] - 1]\n",
        "  if a_list[i] == dish_before + 1:\n",
        "    ans += c_list[a_list[i - 1] - 1]\n",
        "  dish_before = a_list[i]\n",
        "\n",
        "print(ans)"
      ],
      "execution_count": null,
      "outputs": []
    },
    {
      "cell_type": "markdown",
      "metadata": {
        "id": "iIOUxHixOZEA"
      },
      "source": [
        "## C - Maximal Value"
      ]
    },
    {
      "cell_type": "code",
      "metadata": {
        "colab": {
          "base_uri": "https://localhost:8080/"
        },
        "id": "aYjXRELLMoA6",
        "outputId": "ec3808a9-9971-417d-e68a-0bd08d614f57"
      },
      "source": [
        "n = int(input())\n",
        "b_list = list(map(int, input().split()))\n",
        "\n",
        "ans = b_list[0] + b_list[-1]\n",
        "\n",
        "for i in range(n - 2):\n",
        "  ans += min(b_list[i], b_list[i + 1])\n",
        "\n",
        "print(ans)"
      ],
      "execution_count": null,
      "outputs": [
        {
          "output_type": "stream",
          "text": [
            "3\n",
            "2 5\n",
            "9\n"
          ],
          "name": "stdout"
        }
      ]
    },
    {
      "cell_type": "markdown",
      "metadata": {
        "id": "6NcZqhsDQhKD"
      },
      "source": [
        "## D - Face Produces Unhappiness"
      ]
    },
    {
      "cell_type": "code",
      "metadata": {
        "id": "TYsGpo-TQa_4"
      },
      "source": [
        ""
      ],
      "execution_count": null,
      "outputs": []
    }
  ]
}