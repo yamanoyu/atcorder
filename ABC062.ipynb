{
  "nbformat": 4,
  "nbformat_minor": 0,
  "metadata": {
    "colab": {
      "name": "ABC062.ipynb",
      "provenance": [],
      "collapsed_sections": [],
      "authorship_tag": "ABX9TyOnoLyxKqUhy8uBlnkkI1F5",
      "include_colab_link": true
    },
    "kernelspec": {
      "name": "python3",
      "display_name": "Python 3"
    }
  },
  "cells": [
    {
      "cell_type": "markdown",
      "metadata": {
        "id": "view-in-github",
        "colab_type": "text"
      },
      "source": [
        "<a href=\"https://colab.research.google.com/github/yamanoyu/atcorder/blob/master/ABC062.ipynb\" target=\"_parent\"><img src=\"https://colab.research.google.com/assets/colab-badge.svg\" alt=\"Open In Colab\"/></a>"
      ]
    },
    {
      "cell_type": "markdown",
      "metadata": {
        "id": "CKR-LiQxMf-Z"
      },
      "source": [
        "## A - Grouping"
      ]
    },
    {
      "cell_type": "code",
      "metadata": {
        "id": "iTLdZSu4Mjdw",
        "outputId": "b8ef262f-88b5-4091-ba34-1836459c4a13",
        "colab": {
          "base_uri": "https://localhost:8080/"
        }
      },
      "source": [
        "x, y = map(int, input().split())\n",
        "\n",
        "group1 = [1, 3, 5, 7, 8, 10, 12]\n",
        "group2 = [4, 6, 9, 11]\n",
        "\n",
        "if x == 2 or y == 2:\n",
        "  ans = 'No'\n",
        "elif x in group1 and y in group1:\n",
        "  ans = 'Yes'\n",
        "elif x in group2 and y in group2:\n",
        "  ans = 'Yes'\n",
        "else:\n",
        "  ans = 'No'\n",
        "\n",
        "print(ans)"
      ],
      "execution_count": null,
      "outputs": [
        {
          "output_type": "stream",
          "text": [
            "2 4\n",
            "No\n"
          ],
          "name": "stdout"
        }
      ]
    },
    {
      "cell_type": "markdown",
      "metadata": {
        "id": "luQ_T59-NqUg"
      },
      "source": [
        "## B - Picture Frame"
      ]
    },
    {
      "cell_type": "code",
      "metadata": {
        "id": "ZOmIVc7BNe_w",
        "outputId": "0c2ce588-08b8-440b-e57e-48e553b96cec",
        "colab": {
          "base_uri": "https://localhost:8080/"
        }
      },
      "source": [
        "h, w = map(int, input().split())\n",
        "a_list = [list(input().split()) for _ in range(h)]\n",
        "\n",
        "print('#' * (w + 2))\n",
        "\n",
        "for a in a_list:\n",
        "  ans = '#' + ''.join(a) + '#'\n",
        "  print(ans)\n",
        "\n",
        "print('#' * (w + 2))"
      ],
      "execution_count": null,
      "outputs": [
        {
          "output_type": "stream",
          "text": [
            "2 3\n",
            "asf\n",
            "tyu\n",
            "###\n",
            "#asf#\n",
            "#tyu#\n",
            "###\n"
          ],
          "name": "stdout"
        }
      ]
    },
    {
      "cell_type": "markdown",
      "metadata": {
        "id": "9lHxIRtWQ-6A"
      },
      "source": [
        "## C - Chocolate Bar"
      ]
    },
    {
      "cell_type": "code",
      "metadata": {
        "id": "OGgjeDgqQn5-",
        "outputId": "b401c0ae-d9be-4252-92eb-3242f27ddc12",
        "colab": {
          "base_uri": "https://localhost:8080/"
        }
      },
      "source": [
        "h, w = map(int, input().split())\n",
        "area = h * w\n",
        "\n",
        "if h % 3 == 0 or w % 3 == 0:\n",
        "  ans = 0\n",
        "else:\n",
        "  area_a1 = (h // 3 + 1) * w\n",
        "  area_c1 = (h - (h // 3 + 1)) * (w // 2)\n",
        "  area_b1 = area - area_a1 - area_c1\n",
        "  ans1 = max(abs(area_a1 - area_c1), abs(area_b1 - area_c1), abs(area_a1 - area_b1))\n",
        "\n",
        "  area_a2 =  (h // 3) * w\n",
        "  area_c2 = (h - (h // 3)) * (w // 2)\n",
        "  area_b2 = area - area_a2 - area_c2\n",
        "  ans2 = max(abs(area_a2 - area_c2), abs(area_b2 - area_c2), abs(area_a2 - area_b2))\n",
        "\n",
        "  area_a3 = (w // 3 + 1) * h\n",
        "  area_c3 = (w - (w // 3 + 1)) * (h // 2)\n",
        "  area_b3 = area - area_a3 - area_c3\n",
        "  ans3 = max(abs(area_a3 - area_c3), abs(area_b3 - area_c3), abs(area_a3 - area_b3))\n",
        "\n",
        "  area_a4 =  (w // 3) * h\n",
        "  area_c4 = (w - (w // 3)) * (h // 2)\n",
        "  area_b4 = area - area_a4 - area_c4\n",
        "  ans4 = max(abs(area_a4 - area_c4), abs(area_b4 - area_c4), abs(area_a4 - area_b4))\n",
        "\n",
        "  area_a5 = (w // 3 + 1) * h\n",
        "  area_c5 = ((w - (w // 3 + 1)) // 2) * h\n",
        "  area_b5 = area - area_a5 - area_c5\n",
        "  ans5 = max(abs(area_a5 - area_c5), abs(area_b5 - area_c5), abs(area_a5 - area_b5))\n",
        "\n",
        "  area_a6 = (h // 3 + 1) * w\n",
        "  area_c6 = ((h - (h // 3 + 1)) // 2) * w\n",
        "  area_b6 = area - area_a6 - area_c6\n",
        "  ans6 = max(abs(area_a6 - area_c6), abs(area_b6 - area_c6), abs(area_a6 - area_b6))\n",
        "  \n",
        "  ans = min(ans1, ans2, ans3, ans4, ans5, ans6)\n",
        "\n",
        "print(ans)"
      ],
      "execution_count": null,
      "outputs": [
        {
          "output_type": "stream",
          "text": [
            "100000 100000\n",
            "50000\n"
          ],
          "name": "stdout"
        }
      ]
    },
    {
      "cell_type": "markdown",
      "metadata": {
        "id": "qhHCz3EQh5-J"
      },
      "source": [
        "## D - 3N Numbers"
      ]
    },
    {
      "cell_type": "code",
      "metadata": {
        "id": "rBYknifMeM-j",
        "outputId": "cf2948ee-22a9-436d-af60-4980eab9d07c",
        "colab": {
          "base_uri": "https://localhost:8080/"
        }
      },
      "source": [
        "import heapq\n",
        "inf = 10 ** 18 + 7\n",
        "\n",
        "n = int(input())\n",
        "a_list = list(map(int, input().split()))\n",
        "\n",
        "ans = - inf\n",
        "\n",
        "first_list = a_list[:n]\n",
        "heapq.heapify(first_list)\n",
        "first_sum = sum(first_list)\n",
        "first_sum_list = [first_sum]\n",
        "\n",
        "second_list = list(map(lambda x: x * (-1), a_list[-n:]))\n",
        "heapq.heapify(second_list)\n",
        "second_sum = sum(second_list)\n",
        "second_sum_list = [second_sum]\n",
        "\n",
        "for k in range(n):\n",
        "  heapq.heappush(first_list, a_list[n + k])\n",
        "  first_sum = first_sum + a_list[n + k] - heapq.heappop(first_list)\n",
        "  first_sum_list.append(first_sum)\n",
        "\n",
        "  heapq.heappush(second_list, a_list[-(n + k + 1)] * (-1))\n",
        "  second_sum = second_sum + a_list[-(n + k + 1)] * (-1) - heapq.heappop(second_list)\n",
        "  second_sum_list.append(second_sum)\n",
        "\n",
        "for i in range(n+1):\n",
        "  ans = max(ans, first_sum_list[i] + second_sum_list[-i-1])\n",
        "\n",
        "print(ans)"
      ],
      "execution_count": 57,
      "outputs": [
        {
          "output_type": "stream",
          "text": [
            "3\n",
            "2 3 4 5 6 7 5 4 3\n",
            "6\n"
          ],
          "name": "stdout"
        }
      ]
    }
  ]
}