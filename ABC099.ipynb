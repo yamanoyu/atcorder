{
  "nbformat": 4,
  "nbformat_minor": 0,
  "metadata": {
    "colab": {
      "name": "ABC099.ipynb",
      "provenance": [],
      "collapsed_sections": [],
      "authorship_tag": "ABX9TyNhCZgHiRC2LsMbjKcBQOIi",
      "include_colab_link": true
    },
    "kernelspec": {
      "name": "python3",
      "display_name": "Python 3"
    }
  },
  "cells": [
    {
      "cell_type": "markdown",
      "metadata": {
        "id": "view-in-github",
        "colab_type": "text"
      },
      "source": [
        "<a href=\"https://colab.research.google.com/github/yamanoyu/atcorder/blob/master/ABC099.ipynb\" target=\"_parent\"><img src=\"https://colab.research.google.com/assets/colab-badge.svg\" alt=\"Open In Colab\"/></a>"
      ]
    },
    {
      "cell_type": "markdown",
      "metadata": {
        "id": "_ONBAJuE8gsD"
      },
      "source": [
        "## A - ABD"
      ]
    },
    {
      "cell_type": "code",
      "metadata": {
        "colab": {
          "base_uri": "https://localhost:8080/"
        },
        "id": "sDdfJlCx8dOm",
        "outputId": "fbc5db7e-e101-4c81-99a1-ffa753380a13"
      },
      "source": [
        "n = int(input())\n",
        "ans = 'ABC' if n <= 999 else 'ABD'\n",
        "print(ans)"
      ],
      "execution_count": 1,
      "outputs": [
        {
          "output_type": "stream",
          "text": [
            "998\n",
            "ABC\n"
          ],
          "name": "stdout"
        }
      ]
    },
    {
      "cell_type": "markdown",
      "metadata": {
        "id": "pcO4ukeg84Ja"
      },
      "source": [
        "## B - Stone Monument"
      ]
    },
    {
      "cell_type": "code",
      "metadata": {
        "colab": {
          "base_uri": "https://localhost:8080/"
        },
        "id": "s3mVBpYf8j2f",
        "outputId": "3e0d05d4-1a49-41b9-c40a-e05648cbb941"
      },
      "source": [
        "a, b = map(int, input().split())\n",
        "diff = b - a\n",
        "ans = ((1 + diff) * diff) // 2 - b\n",
        "print(ans)"
      ],
      "execution_count": 2,
      "outputs": [
        {
          "output_type": "stream",
          "text": [
            "8 13\n",
            "2\n"
          ],
          "name": "stdout"
        }
      ]
    },
    {
      "cell_type": "markdown",
      "metadata": {
        "id": "eVwBOCTZ9jXR"
      },
      "source": [
        "## C - Strange Bank "
      ]
    },
    {
      "cell_type": "code",
      "metadata": {
        "colab": {
          "base_uri": "https://localhost:8080/"
        },
        "id": "rAWF9oyX9dof",
        "outputId": "c66975be-aae1-4cea-c0f5-9dddb7391e3d"
      },
      "source": [
        "#WA\n",
        "n = int(input())\n",
        "\n",
        "def gauss_sprt(num, y):\n",
        "  i = 1\n",
        "  while y ** i <= num:\n",
        "    i += 1\n",
        "  return i - 1\n",
        "\n",
        "ans = 0\n",
        "\n",
        "while n >= 6:\n",
        "  withdraw_money_9 = 9 ** gauss_sprt(n, 9) if gauss_sprt(n, 9) != 0 else 0\n",
        "  withdraw_money_6 = 6 ** gauss_sprt(n, 6) if gauss_sprt(n, 6) != 0 else 0\n",
        "  \n",
        "  n -= max(withdraw_money_9, withdraw_money_6)\n",
        "  ans += 1\n",
        "\n",
        "ans += n\n",
        "print(ans)"
      ],
      "execution_count": 38,
      "outputs": [
        {
          "output_type": "stream",
          "text": [
            "44852\n",
            "1 37076 6561 7776\n",
            "2 29300 6561 7776\n",
            "3 21524 6561 7776\n",
            "4 13748 6561 7776\n",
            "5 5972 6561 7776\n",
            "6 4676 729 1296\n",
            "7 3380 729 1296\n",
            "8 2084 729 1296\n",
            "9 788 729 1296\n",
            "10 59 729 216\n",
            "11 23 9 36\n",
            "12 14 9 6\n",
            "13 5 9 6\n",
            "13\n",
            "18\n"
          ],
          "name": "stdout"
        }
      ]
    }
  ]
}