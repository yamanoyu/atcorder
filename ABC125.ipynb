{
  "nbformat": 4,
  "nbformat_minor": 0,
  "metadata": {
    "colab": {
      "name": "ABC125.ipynb",
      "provenance": [],
      "collapsed_sections": [],
      "authorship_tag": "ABX9TyO6FLb3J2hLF5mbXy6cocZf",
      "include_colab_link": true
    },
    "kernelspec": {
      "name": "python3",
      "display_name": "Python 3"
    }
  },
  "cells": [
    {
      "cell_type": "markdown",
      "metadata": {
        "id": "view-in-github",
        "colab_type": "text"
      },
      "source": [
        "<a href=\"https://colab.research.google.com/github/yamanoyu/atcorder/blob/master/ABC125.ipynb\" target=\"_parent\"><img src=\"https://colab.research.google.com/assets/colab-badge.svg\" alt=\"Open In Colab\"/></a>"
      ]
    },
    {
      "cell_type": "markdown",
      "metadata": {
        "id": "z1Szx4kn3CFE"
      },
      "source": [
        "## A - Biscuit Generator"
      ]
    },
    {
      "cell_type": "code",
      "metadata": {
        "colab": {
          "base_uri": "https://localhost:8080/"
        },
        "id": "L7dAFboO213a",
        "outputId": "acdd34c4-aed8-465d-c973-aec48707974a"
      },
      "source": [
        "a, b, t = map(int, input().split())\n",
        "\n",
        "sec = a\n",
        "ans = 0\n",
        "\n",
        "while sec < t + 1:\n",
        "  sec += a\n",
        "  ans += b\n",
        "\n",
        "print(ans)"
      ],
      "execution_count": 2,
      "outputs": [
        {
          "output_type": "stream",
          "text": [
            "3 2 9\n",
            "6\n"
          ],
          "name": "stdout"
        }
      ]
    },
    {
      "cell_type": "markdown",
      "metadata": {
        "id": "7O3zuqNZ3vhC"
      },
      "source": [
        "## B - Resale"
      ]
    },
    {
      "cell_type": "code",
      "metadata": {
        "colab": {
          "base_uri": "https://localhost:8080/"
        },
        "id": "JPBb82u03Cg-",
        "outputId": "fa49c8f4-15f0-4b1f-dc07-99fa3cf49188"
      },
      "source": [
        "n = int(input())\n",
        "v_list = list(map(int, input().split()))\n",
        "c_list = list(map(int, input().split()))\n",
        "\n",
        "cost_list = []\n",
        "\n",
        "for v, c in zip(v_list, c_list):\n",
        "  if v - c > 0: cost_list.append(v - c)\n",
        "\n",
        "cost_list.sort(reverse=True)\n",
        "\n",
        "ans = sum(cost_list[:n]) if len(cost_list) >= n else sum(cost_list)\n",
        "print(ans)"
      ],
      "execution_count": 6,
      "outputs": [
        {
          "output_type": "stream",
          "text": [
            "3\n",
            "10 2 5\n",
            "6 3 4\n",
            "5\n"
          ],
          "name": "stdout"
        }
      ]
    },
    {
      "cell_type": "markdown",
      "metadata": {
        "id": "FtMl8sVv4xPC"
      },
      "source": [
        "## C - GCD on Blackboard"
      ]
    },
    {
      "cell_type": "code",
      "metadata": {
        "colab": {
          "base_uri": "https://localhost:8080/"
        },
        "id": "cWSCXbsM4MTm",
        "outputId": "499068f3-8e27-438b-a90f-af4d92af14a0"
      },
      "source": [
        "import math\n",
        "\n",
        "\n",
        "n = int(input())\n",
        "a_list = list(map(int, input().split()))\n",
        "\n",
        "\n",
        "l_gcd = [a_list[0]]\n",
        "r_gcd = [a_list[-1]]\n",
        "\n",
        "for i in range(1, n - 1):\n",
        "  l_gcd.append(math.gcd(a_list[i], l_gcd[-1]))\n",
        "\n",
        "for i in range(n - 2, 0, -1):\n",
        "  r_gcd.append(math.gcd(a_list[i], r_gcd[-1]))\n",
        "  \n",
        "r_gcd.reverse()\n",
        "ans = 0\n",
        "\n",
        "for i in range(n):\n",
        "  if i == 0:\n",
        "    _ans = r_gcd[0]\n",
        "  elif i == n - 1:\n",
        "    _ans = l_gcd[-1]\n",
        "  else:\n",
        "    _ans = math.gcd(l_gcd[i - 1], r_gcd[i])\n",
        "\n",
        "  ans = max(ans, _ans)\n",
        "\n",
        "print(ans)"
      ],
      "execution_count": 14,
      "outputs": [
        {
          "output_type": "stream",
          "text": [
            "8\n",
            " 746130 1385670 4849845 881790 3233230 1939938 570570 510510\n",
            "19\n"
          ],
          "name": "stdout"
        }
      ]
    },
    {
      "cell_type": "markdown",
      "metadata": {
        "id": "NfakuPUmeuyv"
      },
      "source": [
        "## D - Flipping Signs"
      ]
    },
    {
      "cell_type": "code",
      "metadata": {
        "id": "WbPNrewrSuGC"
      },
      "source": [
        ""
      ],
      "execution_count": null,
      "outputs": []
    }
  ]
}