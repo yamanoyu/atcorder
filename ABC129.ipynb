{
  "nbformat": 4,
  "nbformat_minor": 0,
  "metadata": {
    "colab": {
      "name": "ABC129.ipynb",
      "provenance": [],
      "collapsed_sections": [],
      "authorship_tag": "ABX9TyMLr4z0F8TvESu+NMx7pHgB",
      "include_colab_link": true
    },
    "kernelspec": {
      "name": "python3",
      "display_name": "Python 3"
    }
  },
  "cells": [
    {
      "cell_type": "markdown",
      "metadata": {
        "id": "view-in-github",
        "colab_type": "text"
      },
      "source": [
        "<a href=\"https://colab.research.google.com/github/yamanoyu/atcorder/blob/master/ABC129.ipynb\" target=\"_parent\"><img src=\"https://colab.research.google.com/assets/colab-badge.svg\" alt=\"Open In Colab\"/></a>"
      ]
    },
    {
      "cell_type": "markdown",
      "metadata": {
        "id": "epnZ0AEzZxVW"
      },
      "source": [
        "## A - Airplane"
      ]
    },
    {
      "cell_type": "code",
      "metadata": {
        "colab": {
          "base_uri": "https://localhost:8080/"
        },
        "id": "Ewjbi0VTZiSW",
        "outputId": "74a8d862-bca7-4331-e556-fbfb1b694c37"
      },
      "source": [
        "p, q, r = map(int, input().split())\n",
        "ans = p + q + r - max(p, q, r)\n",
        "print(ans)"
      ],
      "execution_count": 1,
      "outputs": [
        {
          "output_type": "stream",
          "text": [
            "3 2 3\n",
            "5\n"
          ],
          "name": "stdout"
        }
      ]
    },
    {
      "cell_type": "markdown",
      "metadata": {
        "id": "7ZvIwDBXaL2Z"
      },
      "source": [
        "## B - Balance"
      ]
    },
    {
      "cell_type": "code",
      "metadata": {
        "colab": {
          "base_uri": "https://localhost:8080/"
        },
        "id": "Y07e43brZ2LI",
        "outputId": "619a3310-4f51-48ef-c942-92492a9e7bc7"
      },
      "source": [
        "n = int(input())\n",
        "w_list = list(map(int, input().split()))\n",
        "\n",
        "ans = 10 ** 4 + 1\n",
        "\n",
        "for i in range(n):\n",
        "  ans = min(ans, abs(sum(w_list[:i]) - sum(w_list[i:])))\n",
        "\n",
        "print(ans)"
      ],
      "execution_count": 5,
      "outputs": [
        {
          "output_type": "stream",
          "text": [
            "4\n",
            "1 3 1 1\n",
            "2\n"
          ],
          "name": "stdout"
        }
      ]
    },
    {
      "cell_type": "markdown",
      "metadata": {
        "id": "Xl9uYCXca1vf"
      },
      "source": [
        "## C - Typical Stairs"
      ]
    },
    {
      "cell_type": "code",
      "metadata": {
        "colab": {
          "base_uri": "https://localhost:8080/"
        },
        "id": "eDDIFXJyaqfJ",
        "outputId": "6539a44c-ac35-4ba7-9e1e-0fb9c29902c9"
      },
      "source": [
        "n, m = map(int, input().split())\n",
        "\n",
        "mod = 10 ** 9 + 7\n",
        "\n",
        "\n",
        "def fibonacci_sequence(n):\n",
        "  fibonacci_sequence_list = [None] * n\n",
        "\n",
        "  if n == 0:\n",
        "    return 0\n",
        "  elif n == 1:\n",
        "    return 1\n",
        "  elif n == 2:\n",
        "    return 2\n",
        "  else: \n",
        "    fibonacci_sequence_list[0] = 1\n",
        "    fibonacci_sequence_list[1] = 2\n",
        "    for i in range(2, n):\n",
        "      fibonacci_sequence_list[i] = fibonacci_sequence_list[i - 1] + fibonacci_sequence_list[i - 2]\n",
        "\n",
        "  return fibonacci_sequence_list[n - 1]\n",
        "\n",
        "\n",
        "if m == 0:\n",
        "  ans = fibonacci_sequence(n) % mod\n",
        "else:\n",
        "  tmp = -1\n",
        "  ans = 1\n",
        "\n",
        "  for _ in range(m):\n",
        "    a = int(input())\n",
        "\n",
        "    if a == 1:\n",
        "      tmp = a\n",
        "      continue\n",
        "\n",
        "    if a - tmp == 1:\n",
        "      ans = 0\n",
        "      break\n",
        "    else:\n",
        "      ans *= fibonacci_sequence((a - 1) - (tmp + 1)) if a - tmp != 2 else 1\n",
        "      ans = ans % mod\n",
        "      tmp = a\n",
        "\n",
        "  ans *= fibonacci_sequence(n - (tmp + 1)) if n - tmp != 1 else 1\n",
        "  ans = ans % mod\n",
        "\n",
        "print(ans)"
      ],
      "execution_count": 61,
      "outputs": [
        {
          "output_type": "stream",
          "text": [
            "4 1\n",
            "3\n",
            "2\n"
          ],
          "name": "stdout"
        }
      ]
    },
    {
      "cell_type": "markdown",
      "metadata": {
        "id": "UAJh-mdSrGHb"
      },
      "source": [
        "## D - Lamp"
      ]
    },
    {
      "cell_type": "code",
      "metadata": {
        "id": "z2nFAIQNgEOm"
      },
      "source": [
        ""
      ],
      "execution_count": null,
      "outputs": []
    }
  ]
}