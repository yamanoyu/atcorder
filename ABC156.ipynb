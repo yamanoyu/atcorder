{
  "nbformat": 4,
  "nbformat_minor": 0,
  "metadata": {
    "colab": {
      "name": "ABC156.ipynb",
      "provenance": [],
      "collapsed_sections": [],
      "authorship_tag": "ABX9TyPYV3Ltw4FWh69lxjn5qzP0",
      "include_colab_link": true
    },
    "kernelspec": {
      "name": "python3",
      "display_name": "Python 3"
    }
  },
  "cells": [
    {
      "cell_type": "markdown",
      "metadata": {
        "id": "view-in-github",
        "colab_type": "text"
      },
      "source": [
        "<a href=\"https://colab.research.google.com/github/yamanoyu/atcorder/blob/master/ABC156.ipynb\" target=\"_parent\"><img src=\"https://colab.research.google.com/assets/colab-badge.svg\" alt=\"Open In Colab\"/></a>"
      ]
    },
    {
      "cell_type": "markdown",
      "metadata": {
        "id": "-CemQEelcnd7"
      },
      "source": [
        "## A - Beginner"
      ]
    },
    {
      "cell_type": "code",
      "metadata": {
        "colab": {
          "base_uri": "https://localhost:8080/"
        },
        "id": "K40E67QnchRb",
        "outputId": "23a3c7b5-f464-4ebe-a065-c34619bfc52f"
      },
      "source": [
        "n, r = map(int, input().split())\n",
        "ans = r if n >= 10 else r + 100 * (10 - n)\n",
        "print(ans)"
      ],
      "execution_count": 2,
      "outputs": [
        {
          "output_type": "stream",
          "text": [
            "2 2919\n",
            "3719\n"
          ],
          "name": "stdout"
        }
      ]
    },
    {
      "cell_type": "markdown",
      "metadata": {
        "id": "z1OvIbn7dpGQ"
      },
      "source": [
        "## B - Digits"
      ]
    },
    {
      "cell_type": "code",
      "metadata": {
        "colab": {
          "base_uri": "https://localhost:8080/"
        },
        "id": "OJutabU8coLG",
        "outputId": "b69f0cac-03bd-4f51-bec7-64aeea8aeced"
      },
      "source": [
        "n, k = map(int, input().split())\n",
        "ans = 1\n",
        "while k ** ans <= n:\n",
        "  ans += 1\n",
        "print(ans)"
      ],
      "execution_count": 6,
      "outputs": [
        {
          "output_type": "stream",
          "text": [
            "11 2\n",
            "4\n",
            "8\n",
            "16\n",
            "4\n"
          ],
          "name": "stdout"
        }
      ]
    },
    {
      "cell_type": "markdown",
      "metadata": {
        "id": "3XQyUEj_emqY"
      },
      "source": [
        "## C - Rally"
      ]
    },
    {
      "cell_type": "code",
      "metadata": {
        "colab": {
          "base_uri": "https://localhost:8080/"
        },
        "id": "9jV3tEoBeA_a",
        "outputId": "6eb94c87-6682-41a3-898c-53b31a28d721"
      },
      "source": [
        "n = int(input())\n",
        "x_list = list(map(int, input().split()))\n",
        "\n",
        "ans = 10 ** 9\n",
        "\n",
        "for i in range(1, 101):\n",
        "  _ans = 0\n",
        "  for x in x_list:\n",
        "    _ans += (x - i) ** 2\n",
        "  ans = min(ans, _ans)\n",
        "\n",
        "print(ans)"
      ],
      "execution_count": 14,
      "outputs": [
        {
          "output_type": "stream",
          "text": [
            "7\n",
            "14 14 2 13 56 2 37\n",
            "2354\n"
          ],
          "name": "stdout"
        }
      ]
    },
    {
      "cell_type": "markdown",
      "metadata": {
        "id": "Y3F3YYojkxR-"
      },
      "source": [
        "## D - Bouquet"
      ]
    },
    {
      "cell_type": "code",
      "metadata": {
        "id": "3Jyf2AZuglZc"
      },
      "source": [
        "n, a, b = map(int, input().split())\n",
        "MOD = 10 ** 9 + 7\n",
        "total = (2 ** n - 1) % MOD\n",
        "ans = "
      ],
      "execution_count": null,
      "outputs": []
    }
  ]
}