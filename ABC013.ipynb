{
 "cells": [
  {
   "cell_type": "markdown",
   "metadata": {},
   "source": [
    "## A - A"
   ]
  },
  {
   "cell_type": "code",
   "execution_count": 2,
   "metadata": {},
   "outputs": [
    {
     "name": "stdout",
     "output_type": "stream",
     "text": [
      "D\n",
      "4\n"
     ]
    }
   ],
   "source": [
    "x = input()\n",
    "alphabet = ['A', 'B', 'C', 'D', 'E']\n",
    "ans = alphabet.index(x) + 1\n",
    "print(ans)"
   ]
  },
  {
   "cell_type": "markdown",
   "metadata": {},
   "source": [
    "## B - 錠"
   ]
  },
  {
   "cell_type": "code",
   "execution_count": 10,
   "metadata": {},
   "outputs": [
    {
     "name": "stdout",
     "output_type": "stream",
     "text": [
      "9\n",
      "0\n",
      "1\n"
     ]
    }
   ],
   "source": [
    "a = int(input())\n",
    "b = int(input())\n",
    "\n",
    "ans = min(abs(a - b), abs(a - (b + 10)), abs((a + 10) - b))\n",
    "# ans = min(abs(a - b), 10 - abs(a - b))\n",
    "print(ans)"
   ]
  },
  {
   "cell_type": "markdown",
   "metadata": {},
   "source": [
    "## C - 節制"
   ]
  },
  {
   "cell_type": "code",
   "execution_count": 87,
   "metadata": {},
   "outputs": [
    {
     "name": "stdout",
     "output_type": "stream",
     "text": [
      "10 1\n",
      "5000 2 2000 1 300\n",
      "20000\n"
     ]
    }
   ],
   "source": [
    "n, h = map(int, input().split())\n",
    "a, b, c, d, e = map(int, input().split())\n",
    "\n",
    "# 1日も食事しない時の不足分\n",
    "h_no_eat = n * e - h\n",
    "a_eat = b + e\n",
    "c_eat = d + e\n",
    "\n",
    "if h_no_eat < 0:\n",
    "    ans = 0\n",
    "elif h_no_eat == 0:\n",
    "    ans = c\n",
    "else:\n",
    "    a_max = h_no_eat // a_eat + 1\n",
    "    cost = []\n",
    "\n",
    "    for a_num in range(a_max + 1)[::-1]:\n",
    "        c_num = max(((h_no_eat - (a_num * a_eat)) // c_eat) + 1, 0)\n",
    "        cost.append(a_num * a + c_num * c)\n",
    "\n",
    "    ans = min(cost)\n",
    "\n",
    "print(ans)"
   ]
  },
  {
   "cell_type": "markdown",
   "metadata": {},
   "source": [
    "## D - 阿弥陀"
   ]
  },
  {
   "cell_type": "code",
   "execution_count": 104,
   "metadata": {},
   "outputs": [
    {
     "name": "stdout",
     "output_type": "stream",
     "text": [
      "5 7 2\n",
      "1 4 3 4 2 3 1\n",
      "3\n",
      "2\n",
      "1\n",
      "5\n",
      "4\n"
     ]
    }
   ],
   "source": [
    "n, m, d = map(int, input().split())\n",
    "a_list = list(map(int, input().split()))\n",
    "\n",
    "lines = [line for line in range(1, n+1)]\n",
    "\n",
    "for _ in range(d):\n",
    "    for a in a_list:\n",
    "        lines[a], lines[a-1] = lines[a-1], lines[a]\n",
    "\n",
    "ans = [lines.index(i) + 1 for i in range(1, n+1)]\n",
    "\n",
    "for a in ans:\n",
    "    print(a)"
   ]
  },
  {
   "cell_type": "code",
   "execution_count": null,
   "metadata": {},
   "outputs": [],
   "source": []
  }
 ],
 "metadata": {
  "kernelspec": {
   "display_name": "Python 3",
   "language": "python",
   "name": "python3"
  },
  "language_info": {
   "codemirror_mode": {
    "name": "ipython",
    "version": 3
   },
   "file_extension": ".py",
   "mimetype": "text/x-python",
   "name": "python",
   "nbconvert_exporter": "python",
   "pygments_lexer": "ipython3",
   "version": "3.7.4"
  }
 },
 "nbformat": 4,
 "nbformat_minor": 4
}
