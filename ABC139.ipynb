{
  "nbformat": 4,
  "nbformat_minor": 0,
  "metadata": {
    "colab": {
      "name": "ABC139.ipynb",
      "provenance": [],
      "collapsed_sections": [],
      "authorship_tag": "ABX9TyMTGX23f6xQUIOMF3YsVxLp",
      "include_colab_link": true
    },
    "kernelspec": {
      "name": "python3",
      "display_name": "Python 3"
    }
  },
  "cells": [
    {
      "cell_type": "markdown",
      "metadata": {
        "id": "view-in-github",
        "colab_type": "text"
      },
      "source": [
        "<a href=\"https://colab.research.google.com/github/yamanoyu/atcorder/blob/master/ABC139.ipynb\" target=\"_parent\"><img src=\"https://colab.research.google.com/assets/colab-badge.svg\" alt=\"Open In Colab\"/></a>"
      ]
    },
    {
      "cell_type": "markdown",
      "metadata": {
        "id": "57-nOtzuD9V8"
      },
      "source": [
        "## A - Tenki "
      ]
    },
    {
      "cell_type": "code",
      "metadata": {
        "colab": {
          "base_uri": "https://localhost:8080/"
        },
        "id": "RfnYVYMWDq6-",
        "outputId": "733d5b9c-7b14-433a-be05-8d8f9188f8fe"
      },
      "source": [
        "s = input()\n",
        "t = input()\n",
        "\n",
        "ans = 0\n",
        "\n",
        "for i in range(3):\n",
        "  if s[i] == t[i]: ans += 1\n",
        "print(ans)"
      ],
      "execution_count": null,
      "outputs": [
        {
          "output_type": "stream",
          "text": [
            "CSS\n",
            "CSR\n",
            "2\n"
          ],
          "name": "stdout"
        }
      ]
    },
    {
      "cell_type": "markdown",
      "metadata": {
        "id": "yD5m8XOdFDoa"
      },
      "source": [
        "## B - Power Socket"
      ]
    },
    {
      "cell_type": "code",
      "metadata": {
        "colab": {
          "base_uri": "https://localhost:8080/"
        },
        "id": "ON7r9bJ3D9vD",
        "outputId": "92265455-c87f-44c1-cf80-b043b8ae2af0"
      },
      "source": [
        "a, b = map(int, input().split())\n",
        "cnt = a\n",
        "ans = 1 if b != 1 else 0\n",
        "while cnt < b:\n",
        "  ans += 1\n",
        "  cnt += a - 1\n",
        "print(ans)"
      ],
      "execution_count": null,
      "outputs": [
        {
          "output_type": "stream",
          "text": [
            "2 1\n",
            "0\n"
          ],
          "name": "stdout"
        }
      ]
    },
    {
      "cell_type": "markdown",
      "metadata": {
        "id": "c7PeVa42Hr1J"
      },
      "source": [
        "## C - Lower"
      ]
    },
    {
      "cell_type": "code",
      "metadata": {
        "id": "262Dw-uFFaFx",
        "colab": {
          "base_uri": "https://localhost:8080/"
        },
        "outputId": "b007d662-d44a-4592-8524-155e7187daac"
      },
      "source": [
        "n = int(input())\n",
        "h_list = list(map(int, input().split()))\n",
        "\n",
        "ans = 0\n",
        "_ans = 0\n",
        "\n",
        "for i, h in enumerate(h_list):\n",
        "  if i == n - 1:\n",
        "    pass\n",
        "  else:\n",
        "    if h_list[i] >= h_list[i + 1]:\n",
        "      _ans += 1\n",
        "    else:\n",
        "      ans = max(ans, _ans)\n",
        "      _ans = 0\n",
        "ans = max(ans, _ans)\n",
        "print(ans)"
      ],
      "execution_count": 44,
      "outputs": [
        {
          "output_type": "stream",
          "text": [
            "4\n",
            "1 2 3 4\n",
            "0\n"
          ],
          "name": "stdout"
        }
      ]
    },
    {
      "cell_type": "markdown",
      "metadata": {
        "id": "41yE9FZ1Vzwc"
      },
      "source": [
        "## D - ModSum"
      ]
    },
    {
      "cell_type": "code",
      "metadata": {
        "colab": {
          "base_uri": "https://localhost:8080/"
        },
        "id": "MJVQPGg-U30b",
        "outputId": "c2ae29b6-14f1-44c3-f708-e24a683945b3"
      },
      "source": [
        "n = int(input())\n",
        "ans = n * (n - 1)// 2\n",
        "print(ans)"
      ],
      "execution_count": 46,
      "outputs": [
        {
          "output_type": "stream",
          "text": [
            "13\n",
            "78\n"
          ],
          "name": "stdout"
        }
      ]
    },
    {
      "cell_type": "markdown",
      "metadata": {
        "id": "b5Dn6V7XW5ti"
      },
      "source": [
        "## E - League"
      ]
    },
    {
      "cell_type": "code",
      "metadata": {
        "id": "JzO5NbesWwSr"
      },
      "source": [
        ""
      ],
      "execution_count": null,
      "outputs": []
    },
    {
      "cell_type": "markdown",
      "metadata": {
        "id": "ATs1HcEqW6hv"
      },
      "source": [
        "## F - Engines"
      ]
    },
    {
      "cell_type": "code",
      "metadata": {
        "id": "O0o3K8WJW8ZT"
      },
      "source": [
        ""
      ],
      "execution_count": null,
      "outputs": []
    }
  ]
}