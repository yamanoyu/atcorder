{
  "nbformat": 4,
  "nbformat_minor": 0,
  "metadata": {
    "colab": {
      "name": "ABC065",
      "provenance": [],
      "collapsed_sections": [],
      "authorship_tag": "ABX9TyMaLHMwSvPJvb/ulA6QJDeK",
      "include_colab_link": true
    },
    "kernelspec": {
      "name": "python3",
      "display_name": "Python 3"
    }
  },
  "cells": [
    {
      "cell_type": "markdown",
      "metadata": {
        "id": "view-in-github",
        "colab_type": "text"
      },
      "source": [
        "<a href=\"https://colab.research.google.com/github/yamanoyu/atcorder/blob/master/ABC065.ipynb\" target=\"_parent\"><img src=\"https://colab.research.google.com/assets/colab-badge.svg\" alt=\"Open In Colab\"/></a>"
      ]
    },
    {
      "cell_type": "code",
      "metadata": {
        "id": "EMKvIgpCcIw9"
      },
      "source": [
        ""
      ],
      "execution_count": null,
      "outputs": []
    },
    {
      "cell_type": "markdown",
      "metadata": {
        "id": "Hn2_dnGYcNGM"
      },
      "source": [
        "## A - Expired?"
      ]
    },
    {
      "cell_type": "code",
      "metadata": {
        "id": "fEW-biPhcPZ6",
        "outputId": "83be753b-8c04-4afa-a244-fc8264cf843b",
        "colab": {
          "base_uri": "https://localhost:8080/"
        }
      },
      "source": [
        "x, a, b = map(int, input().split())\n",
        "\n",
        "if b <= a:\n",
        "  ans = 'delicious'\n",
        "elif x >= (b - a):\n",
        "  ans = 'safe'\n",
        "else:\n",
        "  ans = 'dangerous'\n",
        "print(ans)"
      ],
      "execution_count": 3,
      "outputs": [
        {
          "output_type": "stream",
          "text": [
            "3 7 12\n",
            "dangerous\n"
          ],
          "name": "stdout"
        }
      ]
    },
    {
      "cell_type": "markdown",
      "metadata": {
        "id": "OcrUofiCduyH"
      },
      "source": [
        "## B - Trained?"
      ]
    },
    {
      "cell_type": "code",
      "metadata": {
        "id": "oDWas5JadhkU",
        "outputId": "c8174223-4c1c-4845-921a-6d3c85c82bbf",
        "colab": {
          "base_uri": "https://localhost:8080/"
        }
      },
      "source": [
        "n = int(input())\n",
        "a_list = [int(input()) for _ in range(n)]\n",
        "\n",
        "ans = 0\n",
        "start_point = 1\n",
        "count = 0\n",
        "\n",
        "while True:\n",
        "  ans += 1\n",
        "  if a_list[start_point - 1] == 2:\n",
        "    break\n",
        "  else:\n",
        "    start_point = a_list[start_point - 1]\n",
        "\n",
        "  if count == n:\n",
        "    ans = -1\n",
        "    break\n",
        "  count += 1\n",
        "\n",
        "print(ans)"
      ],
      "execution_count": 4,
      "outputs": [
        {
          "output_type": "stream",
          "text": [
            "3\n",
            "3\n",
            "1\n",
            "2\n",
            "2\n"
          ],
          "name": "stdout"
        }
      ]
    },
    {
      "cell_type": "markdown",
      "metadata": {
        "id": "ZtRgWNUVfcBl"
      },
      "source": [
        "## C - Reconciled?"
      ]
    },
    {
      "cell_type": "code",
      "metadata": {
        "id": "0pDWi2tPfchd",
        "outputId": "085de026-c517-466f-f803-88d3826c1b6f",
        "colab": {
          "base_uri": "https://localhost:8080/"
        }
      },
      "source": [
        "import math\n",
        "\n",
        "n, m = map(int, input().split())\n",
        "mod = 10 ** 9 + 7\n",
        "\n",
        "if n == m:\n",
        "  ans = math.factorial(n) ** 2 * 2\n",
        "elif abs(n - m) == 1:\n",
        "  ans = math.factorial(min(n, m)) ** 2 * max(n, m)\n",
        "else:\n",
        "  ans = 0\n",
        "\n",
        "print(ans % mod)"
      ],
      "execution_count": 10,
      "outputs": [
        {
          "output_type": "stream",
          "text": [
            "100000 100000\n",
            "530123477\n"
          ],
          "name": "stdout"
        }
      ]
    },
    {
      "cell_type": "markdown",
      "metadata": {
        "id": "q_DCtKR5hCmK"
      },
      "source": [
        "## D - Built?"
      ]
    },
    {
      "cell_type": "code",
      "metadata": {
        "id": "YDwr9BrKghfG"
      },
      "source": [
        ""
      ],
      "execution_count": null,
      "outputs": []
    }
  ]
}