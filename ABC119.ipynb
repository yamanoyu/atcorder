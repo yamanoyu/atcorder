{
  "nbformat": 4,
  "nbformat_minor": 0,
  "metadata": {
    "colab": {
      "name": "ABC119.ipynb",
      "provenance": [],
      "collapsed_sections": [],
      "authorship_tag": "ABX9TyO28KGtNAuBqMqCtR+/xKLy",
      "include_colab_link": true
    },
    "kernelspec": {
      "name": "python3",
      "display_name": "Python 3"
    }
  },
  "cells": [
    {
      "cell_type": "markdown",
      "metadata": {
        "id": "view-in-github",
        "colab_type": "text"
      },
      "source": [
        "<a href=\"https://colab.research.google.com/github/yamanoyu/atcorder/blob/master/ABC119.ipynb\" target=\"_parent\"><img src=\"https://colab.research.google.com/assets/colab-badge.svg\" alt=\"Open In Colab\"/></a>"
      ]
    },
    {
      "cell_type": "markdown",
      "metadata": {
        "id": "5uEHJO7CkSxP"
      },
      "source": [
        "## A - Still TBD"
      ]
    },
    {
      "cell_type": "code",
      "metadata": {
        "colab": {
          "base_uri": "https://localhost:8080/"
        },
        "id": "n2o_2oLBkP2v",
        "outputId": "dfdeb6ea-02c4-4b23-a0c7-106a1d904a75"
      },
      "source": [
        "s = input()\n",
        "y, m, d = s.split('/')\n",
        "ans = 'TBD' if int(y + m + d) > 20190430 else 'Heisei'\n",
        "print(ans)"
      ],
      "execution_count": 3,
      "outputs": [
        {
          "output_type": "stream",
          "text": [
            "2019/11/01\n",
            "TBD\n"
          ],
          "name": "stdout"
        }
      ]
    },
    {
      "cell_type": "code",
      "metadata": {
        "colab": {
          "base_uri": "https://localhost:8080/"
        },
        "id": "E3AeRV4wkTUm",
        "outputId": "986345ae-6226-4b1e-b8a3-36904df836fc"
      },
      "source": [
        "s = input()\n",
        "s = s.replace('/', '')\n",
        "ans = 'TBD' if int(s) > 20190430 else 'Heisei'\n",
        "print(ans)"
      ],
      "execution_count": 4,
      "outputs": [
        {
          "output_type": "stream",
          "text": [
            "2019/04/01\n",
            "Heisei\n"
          ],
          "name": "stdout"
        }
      ]
    },
    {
      "cell_type": "markdown",
      "metadata": {
        "id": "Qpsf7jJumYu2"
      },
      "source": [
        "## B - Digital Gifts"
      ]
    },
    {
      "cell_type": "code",
      "metadata": {
        "colab": {
          "base_uri": "https://localhost:8080/"
        },
        "id": "vA1-K2NLmRAg",
        "outputId": "96530c20-cf13-44b8-b212-28e76f86300c"
      },
      "source": [
        "n = int(input())\n",
        "ans = 0\n",
        "for _ in range(n):\n",
        "  x, u = input().split()\n",
        "  ans += float(x) * 380000.0 if u == 'BTC' else int(x)\n",
        "print(ans)"
      ],
      "execution_count": 8,
      "outputs": [
        {
          "output_type": "stream",
          "text": [
            "1\n",
            "0.1 BTC\n",
            "38000.0\n"
          ],
          "name": "stdout"
        }
      ]
    },
    {
      "cell_type": "markdown",
      "metadata": {
        "id": "Cd5ENVXioEoP"
      },
      "source": [
        "## C - Synthetic Kadomatsu"
      ]
    },
    {
      "cell_type": "code",
      "metadata": {
        "colab": {
          "base_uri": "https://localhost:8080/"
        },
        "id": "lu328AxVoiGD",
        "outputId": "5f731a3f-2abb-4199-dd31-e597064e96a4"
      },
      "source": [
        "n, a, b, c = map(int, input().split())\n",
        "l_list = [int(input()) for _ in range(n)]\n",
        "\n",
        "def base_10_to_n(x, n):\n",
        "  if (x // n):\n",
        "      return base_10_to_n(x // n, n) + str(x % n)\n",
        "  else:\n",
        "    return str(x % n)\n",
        "\n",
        "ans = 10 ** 9\n",
        "\n",
        "for i in range(1, 4 ** n):\n",
        "  abc_use_list = list(base_10_to_n(i, 4).zfill(n))\n",
        "  a_long, b_long, c_long = 0, 0, 0\n",
        "\n",
        "  if abc_use_list.count('1') < 1 or abc_use_list.count('2') < 1 or abc_use_list.count('3') < 1:\n",
        "    continue\n",
        "  else:\n",
        "    for abc_use, l in zip(abc_use_list, l_list):\n",
        "      if abc_use == '1':\n",
        "        a_long += l\n",
        "      elif abc_use == '2':\n",
        "        b_long += l\n",
        "      elif abc_use == '3':\n",
        "        c_long += l\n",
        "    mp = abs(a_long - a) + abs(b_long - b) + abs(c_long - c)\n",
        "    mp += (abc_use_list.count('1') + abc_use_list.count('2') + abc_use_list.count('3') - 3) * 10\n",
        "    ans = min(ans, mp)\n",
        "    \n",
        "print(ans)"
      ],
      "execution_count": 21,
      "outputs": [
        {
          "output_type": "stream",
          "text": [
            "5 100 90 80\n",
            "98\n",
            "40\n",
            "30\n",
            "21\n",
            "80\n",
            "383\n"
          ],
          "name": "stdout"
        }
      ]
    },
    {
      "cell_type": "markdown",
      "metadata": {
        "id": "FerayPcf_H_K"
      },
      "source": [
        "## D - Lazy Faith"
      ]
    },
    {
      "cell_type": "code",
      "metadata": {
        "colab": {
          "base_uri": "https://localhost:8080/"
        },
        "id": "a6fBgMjH6oBz",
        "outputId": "c54939b0-6176-4c4c-fe33-3df3781b65e0"
      },
      "source": [
        "import bisect\n",
        "\n",
        "\n",
        "a, b, q = map(int, input().split())\n",
        "INF = 10 ** 18\n",
        "s_list = [-INF] + [int(input()) for _ in range(a)] + [INF]\n",
        "t_list = [-INF] + [int(input()) for _ in range(b)] + [INF]\n",
        "\n",
        "for _ in range(q):\n",
        "  x = int(input())\n",
        "  s_near = bisect.bisect_right(s_list, x)\n",
        "  t_near = bisect.bisect_right(t_list, x)\n",
        "\n",
        "  ans = 10 ** 18\n",
        "  for si in [s_list[s_near - 1], s_list[s_near]]:\n",
        "    for ti in [t_list[t_near - 1], t_list[t_near]]:\n",
        "      distance = min(abs(x - ti), abs(x - si)) + abs(ti - si)\n",
        "      ans = min(ans, distance)\n",
        "  print(ans)"
      ],
      "execution_count": 22,
      "outputs": [
        {
          "output_type": "stream",
          "text": [
            "2 3 4\n",
            "100\n",
            "600\n",
            "400\n",
            "900\n",
            "1000\n",
            "150\n",
            "350\n",
            "2000\n",
            "1400\n",
            "899\n",
            "301\n",
            "799\n",
            "399\n"
          ],
          "name": "stdout"
        }
      ]
    }
  ]
}