{
  "nbformat": 4,
  "nbformat_minor": 0,
  "metadata": {
    "colab": {
      "name": "ABC063.ipynb",
      "provenance": [],
      "authorship_tag": "ABX9TyMJuELl1t/O4qEnlAYG3Obt",
      "include_colab_link": true
    },
    "kernelspec": {
      "name": "python3",
      "display_name": "Python 3"
    }
  },
  "cells": [
    {
      "cell_type": "markdown",
      "metadata": {
        "id": "view-in-github",
        "colab_type": "text"
      },
      "source": [
        "<a href=\"https://colab.research.google.com/github/yamanoyu/atcorder/blob/master/ABC063.ipynb\" target=\"_parent\"><img src=\"https://colab.research.google.com/assets/colab-badge.svg\" alt=\"Open In Colab\"/></a>"
      ]
    },
    {
      "cell_type": "markdown",
      "metadata": {
        "id": "x8g3Sd_T9zkf"
      },
      "source": [
        "## A - Restricted"
      ]
    },
    {
      "cell_type": "code",
      "metadata": {
        "id": "uRijfuyX9aVe",
        "outputId": "89ade95c-21c9-40e9-9fe2-59059a77ed0c",
        "colab": {
          "base_uri": "https://localhost:8080/"
        }
      },
      "source": [
        "a, b = map(int, input().split())\n",
        "ans = 'error' if a + b >= 10 else a + b\n",
        "print(ans)"
      ],
      "execution_count": 1,
      "outputs": [
        {
          "output_type": "stream",
          "text": [
            "3 5\n",
            "8\n"
          ],
          "name": "stdout"
        }
      ]
    },
    {
      "cell_type": "markdown",
      "metadata": {
        "id": "YawccVma-TCI"
      },
      "source": [
        "## B - Varied"
      ]
    },
    {
      "cell_type": "code",
      "metadata": {
        "id": "07pFfeDe90VU"
      },
      "source": [
        "s_list = list(input())\n",
        "ans = 'yes' if len(s_list) == len(set(s_list)) else 'no'\n",
        "print(ans)"
      ],
      "execution_count": null,
      "outputs": []
    },
    {
      "cell_type": "markdown",
      "metadata": {
        "id": "EHhUa-7Poxne"
      },
      "source": [
        "## C - Bugged"
      ]
    },
    {
      "cell_type": "code",
      "metadata": {
        "id": "BkwZSVkmo0R6",
        "outputId": "bf3405ad-24dd-47fb-ee8f-59aa49834c58",
        "colab": {
          "base_uri": "https://localhost:8080/"
        }
      },
      "source": [
        "n = int(input())\n",
        "s_list = [int(input()) for _ in range(n)]\n",
        "s_list.sort()\n",
        "\n",
        "s_list_sum = sum(s_list)\n",
        "\n",
        "if s_list_sum % 10 != 0:\n",
        "  ans = s_list_sum\n",
        "else:\n",
        "  for s in s_list:\n",
        "    minus = ''\n",
        "    if s % 10 != 0:\n",
        "      minus = s\n",
        "      break\n",
        "  \n",
        "  ans = s_list_sum - minus if minus != '' else 0\n",
        "  \n",
        "print(ans)"
      ],
      "execution_count": 2,
      "outputs": [
        {
          "output_type": "stream",
          "text": [
            "3\n",
            "5\n",
            "10\n",
            "15\n",
            "25\n"
          ],
          "name": "stdout"
        }
      ]
    },
    {
      "cell_type": "markdown",
      "metadata": {
        "id": "ekWOw4X-yW_0"
      },
      "source": [
        "## D - Widespread"
      ]
    },
    {
      "cell_type": "code",
      "metadata": {
        "id": "ztPr29e6yFoc"
      },
      "source": [
        ""
      ],
      "execution_count": null,
      "outputs": []
    }
  ]
}