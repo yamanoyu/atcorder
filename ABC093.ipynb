{
  "nbformat": 4,
  "nbformat_minor": 0,
  "metadata": {
    "colab": {
      "name": "ABC093.ipynb",
      "provenance": [],
      "collapsed_sections": [],
      "authorship_tag": "ABX9TyO4kG8K/PsZom1gWVmzmDYd",
      "include_colab_link": true
    },
    "kernelspec": {
      "name": "python3",
      "display_name": "Python 3"
    }
  },
  "cells": [
    {
      "cell_type": "markdown",
      "metadata": {
        "id": "view-in-github",
        "colab_type": "text"
      },
      "source": [
        "<a href=\"https://colab.research.google.com/github/yamanoyu/atcorder/blob/master/ABC093.ipynb\" target=\"_parent\"><img src=\"https://colab.research.google.com/assets/colab-badge.svg\" alt=\"Open In Colab\"/></a>"
      ]
    },
    {
      "cell_type": "markdown",
      "metadata": {
        "id": "UNqLNW5LbmXQ"
      },
      "source": [
        "## A - abc of ABC"
      ]
    },
    {
      "cell_type": "code",
      "metadata": {
        "colab": {
          "base_uri": "https://localhost:8080/"
        },
        "id": "c5asWlX1bdY1",
        "outputId": "da521c16-0712-4a4f-be5a-819fa0b30242"
      },
      "source": [
        "s = input()\n",
        "ans = 'Yes' if len(s) == 3 and s.count('a') == 1and s.count('b') == 1and s.count('c') == 1 else 'No'\n",
        "print(ans)"
      ],
      "execution_count": 1,
      "outputs": [
        {
          "output_type": "stream",
          "text": [
            "cba\n",
            "Yes\n"
          ],
          "name": "stdout"
        }
      ]
    },
    {
      "cell_type": "markdown",
      "metadata": {
        "id": "fFpJeks5cbQh"
      },
      "source": [
        "## B - Small and Large Integers"
      ]
    },
    {
      "cell_type": "code",
      "metadata": {
        "colab": {
          "base_uri": "https://localhost:8080/"
        },
        "id": "ijRmo3hebl92",
        "outputId": "c0b4b142-8963-47aa-eeac-da42667f9817"
      },
      "source": [
        "a, b, k = map(int, input().split())\n",
        "ans = a + k - 1\n",
        "for i in range(k):\n",
        "  if a + i <= b:\n",
        "    print(a + i)\n",
        "for j in range(k - 1, -1, -1):\n",
        "  if b - j > ans:\n",
        "    print(b - j)"
      ],
      "execution_count": 14,
      "outputs": [
        {
          "output_type": "stream",
          "text": [
            "3 8 2\n",
            "3\n",
            "4\n",
            "7\n",
            "8\n"
          ],
          "name": "stdout"
        }
      ]
    },
    {
      "cell_type": "markdown",
      "metadata": {
        "id": "8IaDiW3DeyeG"
      },
      "source": [
        "## C - Same Integers"
      ]
    },
    {
      "cell_type": "code",
      "metadata": {
        "colab": {
          "base_uri": "https://localhost:8080/"
        },
        "id": "DRbzg2sWbnOD",
        "outputId": "3191321a-5d00-44b1-e14c-0a213e329391"
      },
      "source": [
        "num_list = list(map(int, input().split()))\n",
        "num_list.sort()\n",
        "diff_sum = num_list[2] - num_list[1] + num_list[2] - num_list[0]\n",
        "ans = diff_sum // 2 if diff_sum % 2 == 0 else diff_sum // 2 + 2\n",
        "print(ans)"
      ],
      "execution_count": 16,
      "outputs": [
        {
          "output_type": "stream",
          "text": [
            "2 6 3\n",
            "5\n"
          ],
          "name": "stdout"
        }
      ]
    },
    {
      "cell_type": "markdown",
      "metadata": {
        "id": "4cTiH2KyGnbx"
      },
      "source": [
        "## D - Worst Case"
      ]
    },
    {
      "cell_type": "code",
      "metadata": {
        "id": "mqZX-SR2bm43"
      },
      "source": [
        ""
      ],
      "execution_count": null,
      "outputs": []
    }
  ]
}