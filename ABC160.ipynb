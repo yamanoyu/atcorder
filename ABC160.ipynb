{
  "nbformat": 4,
  "nbformat_minor": 0,
  "metadata": {
    "colab": {
      "name": "ABC160.ipynb",
      "provenance": [],
      "authorship_tag": "ABX9TyMP8Zo3BL+pFZLJKD0oHXBg",
      "include_colab_link": true
    },
    "kernelspec": {
      "name": "python3",
      "display_name": "Python 3"
    }
  },
  "cells": [
    {
      "cell_type": "markdown",
      "metadata": {
        "id": "view-in-github",
        "colab_type": "text"
      },
      "source": [
        "<a href=\"https://colab.research.google.com/github/yamanoyu/atcorder/blob/master/ABC160.ipynb\" target=\"_parent\"><img src=\"https://colab.research.google.com/assets/colab-badge.svg\" alt=\"Open In Colab\"/></a>"
      ]
    },
    {
      "cell_type": "markdown",
      "metadata": {
        "id": "O9jAEqWDY2JC"
      },
      "source": [
        "## A - Coffee"
      ]
    },
    {
      "cell_type": "code",
      "metadata": {
        "colab": {
          "base_uri": "https://localhost:8080/"
        },
        "id": "I0Mu1NYDYy1z",
        "outputId": "7cce6674-ad14-44ee-c424-b1c06b92d2b9"
      },
      "source": [
        "s = input()\n",
        "ans = 'Yes' if s[2] == s[3] and s[4] == s[5] else 'No'\n",
        "print(ans)"
      ],
      "execution_count": 1,
      "outputs": [
        {
          "output_type": "stream",
          "text": [
            "sippuu\n",
            "Yes\n"
          ],
          "name": "stdout"
        }
      ]
    },
    {
      "cell_type": "markdown",
      "metadata": {
        "id": "0tEFISagZHKc"
      },
      "source": [
        "## B - Golden Coins"
      ]
    },
    {
      "cell_type": "code",
      "metadata": {
        "colab": {
          "base_uri": "https://localhost:8080/"
        },
        "id": "zCS9pF0OY2gy",
        "outputId": "240f620b-0dee-469c-a5fb-f8516c3a6ec1"
      },
      "source": [
        "x = int(input())\n",
        "ans = (x // 500) * 1000 + ((x % 500) // 5) * 5\n",
        "print(ans)"
      ],
      "execution_count": 9,
      "outputs": [
        {
          "output_type": "stream",
          "text": [
            "1024\n",
            "2020\n"
          ],
          "name": "stdout"
        }
      ]
    },
    {
      "cell_type": "markdown",
      "metadata": {
        "id": "x_DOzjOYZv-L"
      },
      "source": [
        "## C - Traveling Salesman around Lake"
      ]
    },
    {
      "cell_type": "code",
      "metadata": {
        "colab": {
          "base_uri": "https://localhost:8080/"
        },
        "id": "bnm-vk_QZmPk",
        "outputId": "699c35f4-a32f-4c94-e014-aa14b208521e"
      },
      "source": [
        "k, n = map(int, input().split())\n",
        "a_list = list(map(int, input().split()))\n",
        "a_list.append(k + a_list[0])\n",
        "diff_max = 0\n",
        "\n",
        "for i in range(n):\n",
        "  diff_max = max(diff_max, a_list[i + 1] - a_list[i])\n",
        "\n",
        "ans = k - diff_max\n",
        "print(ans)"
      ],
      "execution_count": 19,
      "outputs": [
        {
          "output_type": "stream",
          "text": [
            "20 3\n",
            "5 10 15\n",
            "10\n"
          ],
          "name": "stdout"
        }
      ]
    },
    {
      "cell_type": "markdown",
      "metadata": {
        "id": "6OsuVhSra__m"
      },
      "source": [
        "## D - Line++"
      ]
    },
    {
      "cell_type": "code",
      "metadata": {
        "colab": {
          "base_uri": "https://localhost:8080/"
        },
        "id": "hh8qf_1ubHMN",
        "outputId": "b7e008db-048e-4e7b-a1eb-7a0e1e6e6ae6"
      },
      "source": [
        "n, x, y = map(int, input().split())\n",
        "ans_list = [0] * (n - 1)\n",
        "\n",
        "for i in range(1, n):\n",
        "  for j in range(i + 1, n + 1):\n",
        "    distance = min(j - i, abs(j - y) + abs(i - x) + 1)\n",
        "    ans_list[distance - 1] += 1\n",
        "\n",
        "for ans in ans_list:\n",
        "  print(ans)"
      ],
      "execution_count": 24,
      "outputs": [
        {
          "output_type": "stream",
          "text": [
            "7 3 7\n",
            "7\n",
            "8\n",
            "4\n",
            "2\n",
            "0\n",
            "0\n"
          ],
          "name": "stdout"
        }
      ]
    },
    {
      "cell_type": "code",
      "metadata": {
        "id": "LAbAu2iWdl7j"
      },
      "source": [
        "]"
      ],
      "execution_count": null,
      "outputs": []
    }
  ]
}