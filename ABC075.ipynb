{
  "nbformat": 4,
  "nbformat_minor": 0,
  "metadata": {
    "colab": {
      "name": "ABC075.ipynb",
      "provenance": [],
      "collapsed_sections": [],
      "authorship_tag": "ABX9TyMnpqEUF+DV9in+Vxa9GMVq",
      "include_colab_link": true
    },
    "kernelspec": {
      "name": "python3",
      "display_name": "Python 3"
    }
  },
  "cells": [
    {
      "cell_type": "markdown",
      "metadata": {
        "id": "view-in-github",
        "colab_type": "text"
      },
      "source": [
        "<a href=\"https://colab.research.google.com/github/yamanoyu/atcorder/blob/master/ABC075.ipynb\" target=\"_parent\"><img src=\"https://colab.research.google.com/assets/colab-badge.svg\" alt=\"Open In Colab\"/></a>"
      ]
    },
    {
      "cell_type": "markdown",
      "metadata": {
        "id": "NXQtSWrqCCKJ"
      },
      "source": [
        "## A - One out of Three"
      ]
    },
    {
      "cell_type": "code",
      "metadata": {
        "colab": {
          "base_uri": "https://localhost:8080/"
        },
        "id": "91JDgOj2CAgv",
        "outputId": "98400ecc-ed10-4bdf-f0d6-175922b5f7ca"
      },
      "source": [
        "a, b, c = map(int, input().split())\n",
        "if a == b:\n",
        "  ans = c\n",
        "elif b == c:\n",
        "  ans = a\n",
        "else:\n",
        "  ans = b\n",
        "print(ans)"
      ],
      "execution_count": 1,
      "outputs": [
        {
          "output_type": "stream",
          "text": [
            "5 7 5\n",
            "7\n"
          ],
          "name": "stdout"
        }
      ]
    },
    {
      "cell_type": "markdown",
      "metadata": {
        "id": "02bpr7V-CZvp"
      },
      "source": [
        "## B - Minesweeper"
      ]
    },
    {
      "cell_type": "code",
      "metadata": {
        "colab": {
          "base_uri": "https://localhost:8080/"
        },
        "id": "Is53_eEvCDD6",
        "outputId": "dcff9f70-01a0-43cd-e6ec-12346d1f3fb7"
      },
      "source": [
        "h, w = map(int, input().split())\n",
        "s_list = [list(input()) for _ in range(h)]\n",
        "\n",
        "ans_list = []\n",
        "\n",
        "for i in range(h):\n",
        "  for j in range(w):\n",
        "    if s_list[i][j] == '#':\n",
        "      ans_list.append('#')\n",
        "    else:\n",
        "      arrounnd_list = []\n",
        "      for m in [-1, 0, 1]:\n",
        "        for n in[-1, 0, 1]:\n",
        "          if i + m < 0:\n",
        "            pass\n",
        "          elif j + n < 0:\n",
        "            pass\n",
        "          elif i + m >= h:\n",
        "            pass\n",
        "          elif j + n >= w:\n",
        "            pass\n",
        "          elif m == 0 and n == 0:\n",
        "            pass\n",
        "          else:\n",
        "            arrounnd_list.append(s_list[i + m][j + n])\n",
        "\n",
        "      ans_list.append(str(arrounnd_list.count('#')))\n",
        "\n",
        "      # sum([s[max(0,j-1) : min(w,j+2)].count('#') for s in s_list[max(0,i-1) : min(h,i+2)]])\n",
        "      # で書き換え可能\n",
        "\n",
        "for i in range(h):\n",
        "  print(''.join(ans_list[i * w: (i + 1) * w]))"
      ],
      "execution_count": 17,
      "outputs": [
        {
          "output_type": "stream",
          "text": [
            "3 5\n",
            ".....\n",
            ".#.#.\n",
            ".....\n",
            "[1]\n",
            "[1]\n",
            "[2]\n",
            "[1]\n",
            "[1]\n",
            "[1]\n",
            "[2]\n",
            "[1]\n",
            "[1]\n",
            "[1]\n",
            "[2]\n",
            "[1]\n",
            "[1]\n",
            "00000\n",
            "0#0#0\n",
            "00000\n"
          ],
          "name": "stdout"
        }
      ]
    },
    {
      "cell_type": "markdown",
      "metadata": {
        "id": "RkV7-1IULmVp"
      },
      "source": [
        "## C - Bridge"
      ]
    },
    {
      "cell_type": "code",
      "metadata": {
        "id": "mdameO86DGZo"
      },
      "source": [
        ""
      ],
      "execution_count": null,
      "outputs": []
    }
  ]
}