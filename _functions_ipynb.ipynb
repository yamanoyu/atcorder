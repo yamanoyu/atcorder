{
  "nbformat": 4,
  "nbformat_minor": 0,
  "metadata": {
    "kernelspec": {
      "display_name": "Python 3",
      "language": "python",
      "name": "python3"
    },
    "language_info": {
      "codemirror_mode": {
        "name": "ipython",
        "version": 3
      },
      "file_extension": ".py",
      "mimetype": "text/x-python",
      "name": "python",
      "nbconvert_exporter": "python",
      "pygments_lexer": "ipython3",
      "version": "3.7.4"
    },
    "colab": {
      "name": "_functions.ipynb のコピー",
      "provenance": [],
      "include_colab_link": true
    }
  },
  "cells": [
    {
      "cell_type": "markdown",
      "metadata": {
        "id": "view-in-github",
        "colab_type": "text"
      },
      "source": [
        "<a href=\"https://colab.research.google.com/github/yamanoyu/atcorder/blob/master/_functions_ipynb_%E3%81%AE%E3%82%B3%E3%83%94%E3%83%BC.ipynb\" target=\"_parent\"><img src=\"https://colab.research.google.com/assets/colab-badge.svg\" alt=\"Open In Colab\"/></a>"
      ]
    },
    {
      "cell_type": "code",
      "metadata": {
        "id": "MFgBP421TDTy"
      },
      "source": [
        "def cmb(n, r):\n",
        "    # Combinationを算出, 5C2 = 10など\n",
        "    if n - r < r: r = n - r\n",
        "    if r == 0: return 1\n",
        "    if r == 1: return n\n",
        "\n",
        "    numerator = [n - r + k + 1 for k in range(r)]\n",
        "    denominator = [k + 1 for k in range(r)]\n",
        "\n",
        "    for p in range(2, r+1):\n",
        "        pivot = denominator[p - 1]\n",
        "        if pivot > 1:\n",
        "            offset = (n - r) % p\n",
        "            for k in range(p-1, r, p):\n",
        "                numerator[k - offset] /= pivot\n",
        "                denominator[k] /= pivot\n",
        "    result = 1\n",
        "    for k in range(r):\n",
        "        if numerator[k] > 1:\n",
        "            result *= int(numerator[k])\n",
        "\n",
        "    return result"
      ],
      "execution_count": null,
      "outputs": []
    },
    {
      "cell_type": "code",
      "metadata": {
        "id": "USTr2244TDTy"
      },
      "source": [
        "def prime_factorization(n):\n",
        "    # 素因数分解\n",
        "    # prime_factorization(24) の場合 [[2, 3], [3, 1]] (s^3 * 3^1)を返す\n",
        "    \n",
        "    arr = []\n",
        "    tmp = n\n",
        "    for i in range(2, int((-(-(n ** 0.5)) // 1)) + 1):\n",
        "        if tmp % i == 0:\n",
        "            cnt = 0\n",
        "            while tmp % i == 0:\n",
        "                cnt += 1\n",
        "                tmp //= i\n",
        "            arr.append([i, cnt])\n",
        "\n",
        "    if tmp != 1:\n",
        "        arr.append([tmp, 1])\n",
        "\n",
        "    if arr == []:\n",
        "        arr.append([n, 1])\n",
        "\n",
        "    return arr\n"
      ],
      "execution_count": null,
      "outputs": []
    },
    {
      "cell_type": "code",
      "metadata": {
        "id": "q3U7UrMfTDTy",
        "colab": {
          "base_uri": "https://localhost:8080/"
        },
        "outputId": "61b1bc40-7208-4465-d696-24b3db08376d"
      },
      "source": [
        "# フィボナッチ数列を求める\n",
        "\n",
        "# これだとすごく遅い\n",
        "# def fibonacci_sequence(n):\n",
        "#   if n <= 2:\n",
        "#     return 1\n",
        "#   else:\n",
        "#     return fibonacci_sequence(n - 1) + fibonacci_sequence(n - 2)\n",
        "\n",
        "# 動的計画法を利用する\n",
        "def fibonacci_sequence(n):\n",
        "  fibonacci_sequence_list = [None] * n\n",
        "\n",
        "  if n == 0:\n",
        "    return 0\n",
        "  elif n == 1 or n == 2:\n",
        "    return 1\n",
        "  else: \n",
        "    fibonacci_sequence_list[0] = 1\n",
        "    fibonacci_sequence_list[1] = 1\n",
        "    for i in range(2, n):\n",
        "      fibonacci_sequence_list[i] = fibonacci_sequence_list[i - 1] + fibonacci_sequence_list[i - 2]\n",
        "\n",
        "  return fibonacci_sequence_list[n - 1]\n",
        "\n",
        "fibonacci_sequence(100)"
      ],
      "execution_count": null,
      "outputs": [
        {
          "output_type": "execute_result",
          "data": {
            "text/plain": [
              "354224848179261915075"
            ]
          },
          "metadata": {
            "tags": []
          },
          "execution_count": 20
        }
      ]
    },
    {
      "cell_type": "code",
      "metadata": {
        "id": "5RrhcXAuTXwl"
      },
      "source": [
        ""
      ],
      "execution_count": null,
      "outputs": []
    }
  ]
}
