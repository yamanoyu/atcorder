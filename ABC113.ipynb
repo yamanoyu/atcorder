{
  "nbformat": 4,
  "nbformat_minor": 0,
  "metadata": {
    "colab": {
      "name": "ABC113.ipynb",
      "provenance": [],
      "collapsed_sections": [],
      "authorship_tag": "ABX9TyMJEUsKgNr3F5e6/qSdjgjD",
      "include_colab_link": true
    },
    "kernelspec": {
      "name": "python3",
      "display_name": "Python 3"
    }
  },
  "cells": [
    {
      "cell_type": "markdown",
      "metadata": {
        "id": "view-in-github",
        "colab_type": "text"
      },
      "source": [
        "<a href=\"https://colab.research.google.com/github/yamanoyu/atcorder/blob/master/ABC113.ipynb\" target=\"_parent\"><img src=\"https://colab.research.google.com/assets/colab-badge.svg\" alt=\"Open In Colab\"/></a>"
      ]
    },
    {
      "cell_type": "markdown",
      "metadata": {
        "id": "K-ix81teikEW"
      },
      "source": [
        "## A - Discount Fare"
      ]
    },
    {
      "cell_type": "code",
      "metadata": {
        "colab": {
          "base_uri": "https://localhost:8080/"
        },
        "id": "wfEvHjEPgEDV",
        "outputId": "3c8b7758-4f45-4036-d20b-08d1d641d9a1"
      },
      "source": [
        "x, y = map(int, input().split())\n",
        "ans = x + y // 2\n",
        "print(ans)"
      ],
      "execution_count": 2,
      "outputs": [
        {
          "output_type": "stream",
          "text": [
            "81 58\n",
            "110\n"
          ],
          "name": "stdout"
        }
      ]
    },
    {
      "cell_type": "markdown",
      "metadata": {
        "id": "gxC0IK4zuWQ6"
      },
      "source": [
        "## B - Palace"
      ]
    },
    {
      "cell_type": "code",
      "metadata": {
        "colab": {
          "base_uri": "https://localhost:8080/"
        },
        "id": "gIIyxa1pik4B",
        "outputId": "e1a467bd-e1bd-4a6c-b774-ac785e34467b"
      },
      "source": [
        "n = int(input())\n",
        "t, a = map(int, input().split())\n",
        "h_list = list(map(int, input().split()))\n",
        "\n",
        "h_diff_list = [abs(a - (t - h * 0.006)) for h in h_list]\n",
        "\n",
        "ans = h_diff_list.index(min(h_diff_list)) + 1\n",
        "print(ans)"
      ],
      "execution_count": 6,
      "outputs": [
        {
          "output_type": "stream",
          "text": [
            "3\n",
            "21 -11\n",
            "81234 94124 52141\n",
            "3\n"
          ],
          "name": "stdout"
        }
      ]
    },
    {
      "cell_type": "markdown",
      "metadata": {
        "id": "mkahFXT51H8Q"
      },
      "source": [
        "## C - ID"
      ]
    },
    {
      "cell_type": "code",
      "metadata": {
        "colab": {
          "base_uri": "https://localhost:8080/"
        },
        "id": "sNAFhyDCyrMt",
        "outputId": "fa3a306f-ab6a-4719-e12f-40541c4bf0c8"
      },
      "source": [
        "# TLE\n",
        "n, m = map(int, input().split())\n",
        "\n",
        "py_list = [[] for _ in range(n + 1)]\n",
        "py_org_list = []\n",
        "\n",
        "for _ in range(m):\n",
        "  p, y = map(int, input().split())\n",
        "  py_list[p].append(y)\n",
        "  py_org_list.append([p, y])\n",
        "\n",
        "for py in py_list:\n",
        "  py.sort()\n",
        "\n",
        "for py_org in py_org_list:\n",
        "  ans = str(py_org[0]).zfill(6) + str(py_list[py_org[0]].index(py_org[1]) + 1).zfill(6)\n",
        "  print(ans)"
      ],
      "execution_count": 13,
      "outputs": [
        {
          "output_type": "stream",
          "text": [
            "2 3\n",
            "1 32\n",
            "2 63\n",
            "1 12\n",
            "[[], [12, 32], [63]]\n",
            "[[1, 32], [2, 63], [1, 12]]\n",
            "000001000002\n",
            "000002000001\n",
            "000001000001\n"
          ],
          "name": "stdout"
        }
      ]
    },
    {
      "cell_type": "code",
      "metadata": {
        "colab": {
          "base_uri": "https://localhost:8080/"
        },
        "id": "xBe18A_13AGW",
        "outputId": "e10bccb7-3a5c-405f-fe5b-e71dce1f0b1b"
      },
      "source": [
        "# TLE\n",
        "from collections import defaultdict\n",
        "\n",
        "n, m = map(int, input().split())\n",
        "\n",
        "py_dict = defaultdict(list)\n",
        "py_list = []\n",
        "\n",
        "for _ in range(m):\n",
        "  p, y = map(int, input().split())\n",
        "  py_dict[p].append(y)\n",
        "  py_list.append([p, y])\n",
        "\n",
        "\n",
        "py_sort_dict = defaultdict(list)\n",
        "for key, val in py_dict.items():\n",
        "  py_sort_dict[key] = sorted(val)\n",
        "\n",
        "\n",
        "for py in py_list:\n",
        "  ans = str(py[0]).zfill(6) + str(py_sort_dict[py[0]].index(py[1]) + 1).zfill(6)\n",
        "  print(ans)"
      ],
      "execution_count": 17,
      "outputs": [
        {
          "output_type": "stream",
          "text": [
            "2 3\n",
            "1 32\n",
            "2 63\n",
            "1 12\n",
            "000001000002\n",
            "000002000001\n",
            "000001000001\n"
          ],
          "name": "stdout"
        }
      ]
    },
    {
      "cell_type": "code",
      "metadata": {
        "id": "j595XftDUt-B"
      },
      "source": [
        "n, m = map(int, input().split())\n",
        "\n",
        "py_list = [[] for _ in range(n + 1)]\n",
        "ans_list = [-1] * m\n",
        "\n",
        "for i, _ in enumerate(range(m)):\n",
        "  p, y = map(int, input().split())\n",
        "  py_list[p].append([y, i])\n",
        "\n",
        "for j in range(1, n + 1):\n",
        "  py_list[j] = sorted(py_list[j], key=lambda x: x[0])\n",
        "\n",
        "for py_index, py in enumerate(py_list):\n",
        "  if py == []: continue\n",
        "  for index, k in enumerate(range(len(py))):\n",
        "    ans_list[py[k][1]] = str(py_index).zfill(6) + str(index + 1).zfill(6)\n",
        "\n",
        "for ans in ans_list:\n",
        "  print(ans)"
      ],
      "execution_count": null,
      "outputs": []
    },
    {
      "cell_type": "markdown",
      "metadata": {
        "id": "sSw0UJmLOWyY"
      },
      "source": [
        "## D - Number of Amidakuji"
      ]
    },
    {
      "cell_type": "code",
      "metadata": {
        "id": "HCL0f8tfOJFq"
      },
      "source": [
        ""
      ],
      "execution_count": null,
      "outputs": []
    }
  ]
}