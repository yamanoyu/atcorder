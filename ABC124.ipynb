{
  "nbformat": 4,
  "nbformat_minor": 0,
  "metadata": {
    "colab": {
      "name": "ABC124.ipynb",
      "provenance": [],
      "collapsed_sections": [],
      "authorship_tag": "ABX9TyM2AbPSCKUfQLBn2VSg3uBG",
      "include_colab_link": true
    },
    "kernelspec": {
      "name": "python3",
      "display_name": "Python 3"
    }
  },
  "cells": [
    {
      "cell_type": "markdown",
      "metadata": {
        "id": "view-in-github",
        "colab_type": "text"
      },
      "source": [
        "<a href=\"https://colab.research.google.com/github/yamanoyu/atcorder/blob/master/ABC124.ipynb\" target=\"_parent\"><img src=\"https://colab.research.google.com/assets/colab-badge.svg\" alt=\"Open In Colab\"/></a>"
      ]
    },
    {
      "cell_type": "markdown",
      "metadata": {
        "id": "5DDtihDsFtmV"
      },
      "source": [
        "## A - Buttons"
      ]
    },
    {
      "cell_type": "code",
      "metadata": {
        "id": "ILYk7rq3Fp8i"
      },
      "source": [
        "a, b = map(int, input().split())\n",
        "ans = max(a * 2 - 1, a + b, b * 2 - 1)\n",
        "print(ans)"
      ],
      "execution_count": null,
      "outputs": []
    },
    {
      "cell_type": "markdown",
      "metadata": {
        "id": "J18mgrXkGTyu"
      },
      "source": [
        "## B - Great Ocean View"
      ]
    },
    {
      "cell_type": "code",
      "metadata": {
        "id": "b1J2A1dMFuPq"
      },
      "source": [
        "n = int(input())\n",
        "h_list = list(map(int, input().split()))\n",
        "\n",
        "max_h = 0\n",
        "ans = 0\n",
        "\n",
        "for h in h_list:\n",
        "  if h >= max_h:\n",
        "    ans += 1\n",
        "    max_h = h\n",
        "    \n",
        "print(ans)"
      ],
      "execution_count": null,
      "outputs": []
    },
    {
      "cell_type": "markdown",
      "metadata": {
        "id": "Zl7vTSsGGuvS"
      },
      "source": [
        "## C - Coloring Colorfully"
      ]
    },
    {
      "cell_type": "code",
      "metadata": {
        "colab": {
          "base_uri": "https://localhost:8080/"
        },
        "id": "S8cbS05OGvOa",
        "outputId": "c6b5c1db-9661-4833-9266-fbeb742ac648"
      },
      "source": [
        "s = input()\n",
        "s_len = len(s)\n",
        "\n",
        "correct_0 = '01' * (10 ** 5 // 2)\n",
        "correct_1 = '10' * (10 ** 5 // 2)\n",
        "print(correct_1[:s_len])\n",
        "ans0 = 0\n",
        "ans1 = 0\n",
        "\n",
        "for s, c0 in zip(s, correct_0[:s_len]):\n",
        "  print(s, c0)\n",
        "  if s != c0: ans0 += 1\n",
        "print('------')\n",
        "for s, c1 in zip(s, correct_1[:s_len]):\n",
        "  print(s, c1)\n",
        "  if s != c1:\n",
        "    ans1 += 1\n",
        "\n",
        "ans = min(ans0, ans1) if s_len != 1 else 0\n",
        "print(ans0, ans1)\n",
        "\n",
        "print(ans)"
      ],
      "execution_count": 9,
      "outputs": [
        {
          "output_type": "stream",
          "text": [
            "10010010\n",
            "10101010\n",
            "1 0\n",
            "0 1\n",
            "0 0\n",
            "1 1\n",
            "0 0\n",
            "0 1\n",
            "1 0\n",
            "0 1\n",
            "------\n",
            "0 1\n",
            "5 1\n",
            "1\n"
          ],
          "name": "stdout"
        }
      ]
    },
    {
      "cell_type": "code",
      "metadata": {
        "colab": {
          "base_uri": "https://localhost:8080/"
        },
        "id": "epq4Rkk8ICs5",
        "outputId": "95942cab-3f8d-4cbe-a2b1-307dd517940a"
      },
      "source": [
        "s = input()\n",
        "s_len = len(s)\n",
        "\n",
        "correct_0 = '01' * (10 ** 5 // 2)\n",
        "correct_1 = '10' * (10 ** 5 // 2)\n",
        "\n",
        "ans0 = 0\n",
        "ans1 = 0\n",
        "\n",
        "for s0, c0 in zip(s, correct_0[:s_len]):\n",
        "  if s0 != c0: ans0 += 1\n",
        "for s1, c1 in zip(s, correct_1[:s_len]):\n",
        "  if s1 != c1: ans1 += 1\n",
        "\n",
        "ans = min(ans0, ans1) if s_len != 1 else 0\n",
        "\n",
        "print(ans)"
      ],
      "execution_count": 16,
      "outputs": [
        {
          "output_type": "stream",
          "text": [
            "000\n",
            "1 2\n",
            "1\n"
          ],
          "name": "stdout"
        }
      ]
    },
    {
      "cell_type": "markdown",
      "metadata": {
        "id": "okTHM0heJpMV"
      },
      "source": [
        "## D - Handstand"
      ]
    },
    {
      "cell_type": "code",
      "metadata": {
        "id": "9D5bgSSsXkb-"
      },
      "source": [
        ""
      ],
      "execution_count": null,
      "outputs": []
    }
  ]
}