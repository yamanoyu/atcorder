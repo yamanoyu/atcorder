{
  "nbformat": 4,
  "nbformat_minor": 0,
  "metadata": {
    "colab": {
      "name": "ABC091.ipynb",
      "provenance": [],
      "collapsed_sections": [],
      "authorship_tag": "ABX9TyPdQp61ezdJ2C4ZV2E+XrNs",
      "include_colab_link": true
    },
    "kernelspec": {
      "name": "python3",
      "display_name": "Python 3"
    }
  },
  "cells": [
    {
      "cell_type": "markdown",
      "metadata": {
        "id": "view-in-github",
        "colab_type": "text"
      },
      "source": [
        "<a href=\"https://colab.research.google.com/github/yamanoyu/atcorder/blob/master/ABC091.ipynb\" target=\"_parent\"><img src=\"https://colab.research.google.com/assets/colab-badge.svg\" alt=\"Open In Colab\"/></a>"
      ]
    },
    {
      "cell_type": "markdown",
      "metadata": {
        "id": "hkqMhK7SrI8k"
      },
      "source": [
        "## A - Two Coins"
      ]
    },
    {
      "cell_type": "code",
      "metadata": {
        "colab": {
          "base_uri": "https://localhost:8080/"
        },
        "id": "LjAt3S_Bq5vD",
        "outputId": "1da9ee61-6a08-43fe-d45d-c0ebde530c52"
      },
      "source": [
        "a, b, c = map(int, input().split())\n",
        "ans = 'Yes' if a + b >= c else 'No'\n",
        "print(ans)"
      ],
      "execution_count": 1,
      "outputs": [
        {
          "output_type": "stream",
          "text": [
            "1 2 3\n",
            "Yes\n"
          ],
          "name": "stdout"
        }
      ]
    },
    {
      "cell_type": "markdown",
      "metadata": {
        "id": "PseQMCvFrc6Q"
      },
      "source": [
        "## B - Two Colors Card Game"
      ]
    },
    {
      "cell_type": "code",
      "metadata": {
        "colab": {
          "base_uri": "https://localhost:8080/"
        },
        "id": "Dl5EbjogrJhJ",
        "outputId": "91a54863-28ad-4406-b0aa-bd9aa25ccfe9"
      },
      "source": [
        "n = int(input())\n",
        "s_list = [input() for _ in range(n)]\n",
        "m = int(input())\n",
        "t_list = [input() for _ in range(m)]\n",
        "ans = 0\n",
        "for s in s_list:\n",
        "  ans = max(s_list.count(s) - t_list.count(s), ans)\n",
        "print(ans)"
      ],
      "execution_count": 3,
      "outputs": [
        {
          "output_type": "stream",
          "text": [
            "3\n",
            "q\n",
            "w\n",
            "e\n",
            "1\n",
            "q\n",
            "1\n"
          ],
          "name": "stdout"
        }
      ]
    },
    {
      "cell_type": "markdown",
      "metadata": {
        "id": "ISMTP5nmsWON"
      },
      "source": [
        "## C - 2D Plane 2N Points"
      ]
    },
    {
      "cell_type": "code",
      "metadata": {
        "colab": {
          "base_uri": "https://localhost:8080/"
        },
        "id": "DtooBR_ysKp_",
        "outputId": "2cc724ec-12da-4d5d-fc21-19dbd1f6b26b"
      },
      "source": [
        "n = int(input())\n",
        "red_list = [list(map(int, input().split())) for _ in range(n)]\n",
        "blue_list = [list(map(int, input().split())) for _ in range(n)]\n",
        "\n",
        "red_list.sort()\n",
        "blue_list.sort()\n",
        "\n",
        "ans = 0\n",
        "\n",
        "for blue in blue_list:\n",
        "  y_max = -1\n",
        "  i_max = -1\n",
        "  for i, red in enumerate(red_list):\n",
        "    if blue[0] > red[0]:\n",
        "      if blue[1] > red[1] and red[1] > y_max:\n",
        "        y_max = red[1]\n",
        "        i_max = i\n",
        "\n",
        "  if y_max != -1:\n",
        "    ans += 1\n",
        "    red_list.pop(i_max)\n",
        "\n",
        "print(ans)"
      ],
      "execution_count": 1,
      "outputs": [
        {
          "output_type": "stream",
          "text": [
            "3\n",
            "2 0\n",
            "3 1\n",
            "1 3\n",
            "4 2\n",
            "0 4\n",
            "5 5\n",
            "3\n"
          ],
          "name": "stdout"
        }
      ]
    },
    {
      "cell_type": "markdown",
      "metadata": {
        "id": "666l-mSjvJO0"
      },
      "source": [
        "## D - Two Sequences"
      ]
    },
    {
      "cell_type": "code",
      "metadata": {
        "id": "DXbHjrXU7Ci4"
      },
      "source": [
        ""
      ],
      "execution_count": null,
      "outputs": []
    }
  ]
}