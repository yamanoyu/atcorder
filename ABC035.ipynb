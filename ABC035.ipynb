{
 "cells": [
  {
   "cell_type": "markdown",
   "metadata": {},
   "source": [
    "## A - テレビ"
   ]
  },
  {
   "cell_type": "code",
   "execution_count": 2,
   "metadata": {},
   "outputs": [
    {
     "name": "stdout",
     "output_type": "stream",
     "text": [
      "1920 1080\n",
      "16:9\n"
     ]
    }
   ],
   "source": [
    "w, h = map(int, input().split())\n",
    "\n",
    "if h == (w // 16) *9:\n",
    "    ans = '16:9'\n",
    "else:\n",
    "    ans = '4:3'\n",
    "    \n",
    "print(ans)"
   ]
  },
  {
   "cell_type": "markdown",
   "metadata": {},
   "source": [
    "## B - ドローン"
   ]
  },
  {
   "cell_type": "code",
   "execution_count": 7,
   "metadata": {},
   "outputs": [
    {
     "name": "stdout",
     "output_type": "stream",
     "text": [
      "UUUU?DDR?LLLL\n",
      "1\n",
      "7\n"
     ]
    }
   ],
   "source": [
    "s_list = list(input())\n",
    "t = input()\n",
    "\n",
    "x_move = abs(s_list.count('R') - s_list.count('L'))\n",
    "y_move = abs(s_list.count('U') - s_list.count('D'))\n",
    "unknown_move = s_list.count('?')\n",
    "\n",
    "ans = x_move + y_move\n",
    "\n",
    "if t == '1':\n",
    "    ans += unknown_move\n",
    "elif t == '2':\n",
    "    if ans <= unknown_move:\n",
    "        ans = (unknown_move - ans) % 2\n",
    "    else:\n",
    "        ans -= unknown_move\n",
    "\n",
    "print(ans)"
   ]
  },
  {
   "cell_type": "markdown",
   "metadata": {},
   "source": [
    "## C - オセロ"
   ]
  },
  {
   "cell_type": "code",
   "execution_count": 29,
   "metadata": {},
   "outputs": [
    {
     "name": "stdout",
     "output_type": "stream",
     "text": [
      "20 8\n",
      "1 8\n",
      "4 13\n",
      "8 8\n",
      "3 18\n",
      "5 20\n",
      "19 20\n",
      "2 7\n",
      "4 9\n",
      "10110000011110000000"
     ]
    }
   ],
   "source": [
    "n, q = map(int, input().split())\n",
    "othello_list = [0] * (n + 1)\n",
    "\n",
    "for _ in range(q):\n",
    "    l, r = map(int, input().split())\n",
    "    othello_list[l-1] += 1\n",
    "    othello_list[r] -= 1\n",
    "\n",
    "ans_list = [othello_list[0] % 2]\n",
    "\n",
    "for i, othello in enumerate(othello_list):\n",
    "    if i > 0:\n",
    "        ans_list.append((ans_list[i-1] + othello_list[i]) % 2)\n",
    "\n",
    "ans = ''.join(list(map(lambda x : str(x),  ans_list[:-1])))\n",
    "print(ans)\n",
    "\n",
    "# これだとWA (順に出力されるから？)\n",
    "# for ans in ans_list[:-1]:\n",
    "#     print(str(ans), end='')"
   ]
  },
  {
   "cell_type": "markdown",
   "metadata": {},
   "source": [
    "## D - トレジャーハント"
   ]
  },
  {
   "cell_type": "code",
   "execution_count": null,
   "metadata": {},
   "outputs": [],
   "source": []
  }
 ],
 "metadata": {
  "kernelspec": {
   "display_name": "Python 3",
   "language": "python",
   "name": "python3"
  },
  "language_info": {
   "codemirror_mode": {
    "name": "ipython",
    "version": 3
   },
   "file_extension": ".py",
   "mimetype": "text/x-python",
   "name": "python",
   "nbconvert_exporter": "python",
   "pygments_lexer": "ipython3",
   "version": "3.7.4"
  }
 },
 "nbformat": 4,
 "nbformat_minor": 4
}
