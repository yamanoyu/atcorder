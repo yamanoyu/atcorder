{
 "cells": [
  {
   "cell_type": "markdown",
   "metadata": {},
   "source": [
    "## A - 赤赤赤赤青"
   ]
  },
  {
   "cell_type": "code",
   "execution_count": 1,
   "metadata": {},
   "outputs": [
    {
     "name": "stdout",
     "output_type": "stream",
     "text": [
      "6 4\n",
      "2\n"
     ]
    }
   ],
   "source": [
    "n, x = map(int,input().split())\n",
    "\n",
    "ans = min(x-1, n-x)\n",
    "print(ans)"
   ]
  },
  {
   "cell_type": "markdown",
   "metadata": {},
   "source": [
    "## B - □□□□□"
   ]
  },
  {
   "cell_type": "code",
   "execution_count": 16,
   "metadata": {},
   "outputs": [
    {
     "name": "stdout",
     "output_type": "stream",
     "text": [
      "26\n",
      "1\n"
     ]
    }
   ],
   "source": [
    "n = int(input())\n",
    "\n",
    "i = 1\n",
    "\n",
    "while True:\n",
    "    if i ** 2 > n:\n",
    "        break\n",
    "    i += 1\n",
    "\n",
    "ans = 10 ** 5\n",
    "\n",
    "for l in range(1, i):\n",
    "    length, mod = divmod(n, l)\n",
    "    ans = min(ans, abs(length - l) + mod)\n",
    "print(ans)"
   ]
  },
  {
   "cell_type": "markdown",
   "metadata": {},
   "source": [
    "## C - 柱柱柱柱柱"
   ]
  },
  {
   "cell_type": "code",
   "execution_count": 43,
   "metadata": {},
   "outputs": [
    {
     "name": "stdout",
     "output_type": "stream",
     "text": [
      "3\n",
      "100 130 150\n",
      "50\n"
     ]
    }
   ],
   "source": [
    "n = int(input())\n",
    "a_list = list(map(int, input().split()))\n",
    "\n",
    "if n == 2:\n",
    "    ans_list = [0, abs(a_list[1] - a_list[0])]\n",
    "else:\n",
    "    ans_list = [0, abs(a_list[1] - a_list[0])]\n",
    "    \n",
    "    for i in range(2, n):\n",
    "        ans_list.append(\n",
    "            min(abs(a_list[i-2] - a_list[i]) + ans_list[i-2], abs(a_list[i-1] - a_list[i]) + ans_list[i-1])\n",
    "        )\n",
    "        \n",
    "ans = ans_list[n-1]\n",
    "print(ans)"
   ]
  },
  {
   "cell_type": "markdown",
   "metadata": {},
   "source": [
    "## D - 道路の老朽化対策について"
   ]
  },
  {
   "cell_type": "code",
   "execution_count": null,
   "metadata": {},
   "outputs": [],
   "source": []
  }
 ],
 "metadata": {
  "kernelspec": {
   "display_name": "Python 3",
   "language": "python",
   "name": "python3"
  },
  "language_info": {
   "codemirror_mode": {
    "name": "ipython",
    "version": 3
   },
   "file_extension": ".py",
   "mimetype": "text/x-python",
   "name": "python",
   "nbconvert_exporter": "python",
   "pygments_lexer": "ipython3",
   "version": "3.7.4"
  }
 },
 "nbformat": 4,
 "nbformat_minor": 4
}
