{
  "nbformat": 4,
  "nbformat_minor": 0,
  "metadata": {
    "colab": {
      "name": "ABC133.ipynb",
      "provenance": [],
      "collapsed_sections": [],
      "authorship_tag": "ABX9TyNALdTzr14EJKOHgU995Tra",
      "include_colab_link": true
    },
    "kernelspec": {
      "name": "python3",
      "display_name": "Python 3"
    }
  },
  "cells": [
    {
      "cell_type": "markdown",
      "metadata": {
        "id": "view-in-github",
        "colab_type": "text"
      },
      "source": [
        "<a href=\"https://colab.research.google.com/github/yamanoyu/atcorder/blob/master/ABC133.ipynb\" target=\"_parent\"><img src=\"https://colab.research.google.com/assets/colab-badge.svg\" alt=\"Open In Colab\"/></a>"
      ]
    },
    {
      "cell_type": "markdown",
      "metadata": {
        "id": "snHvSpWbA2Th"
      },
      "source": [
        "## A - T or T"
      ]
    },
    {
      "cell_type": "code",
      "metadata": {
        "colab": {
          "base_uri": "https://localhost:8080/"
        },
        "id": "8AMJFIMgAyGS",
        "outputId": "e8071161-8e48-4635-f3f3-556140a67ab9"
      },
      "source": [
        "n, a, b = map(int, input().split())\n",
        "ans = min(n * a, b)\n",
        "print(ans)"
      ],
      "execution_count": 1,
      "outputs": [
        {
          "output_type": "stream",
          "text": [
            "4 2 9\n",
            "8\n"
          ],
          "name": "stdout"
        }
      ]
    },
    {
      "cell_type": "markdown",
      "metadata": {
        "id": "SnLjc_5HBIQ4"
      },
      "source": [
        "## B - Good Distance"
      ]
    },
    {
      "cell_type": "code",
      "metadata": {
        "colab": {
          "base_uri": "https://localhost:8080/"
        },
        "id": "ogwWEWN-A20d",
        "outputId": "1924cb48-1d08-4eaa-8c3d-769074d34200"
      },
      "source": [
        "import math\n",
        "\n",
        "n, d = map(int, input().split())\n",
        "x_list = [list(map(int, input().split())) for _ in range(n)]\n",
        "\n",
        "ans = 0\n",
        "\n",
        "for i in range(n - 1):\n",
        "  for j in range(i + 1, n):\n",
        "    distance = 0\n",
        "    for k in range(d):\n",
        "      distance += (x_list[i][k] - x_list[j][k]) ** 2\n",
        "    \n",
        "    if math.sqrt(distance).is_integer():\n",
        "      ans += 1\n",
        "print(ans)"
      ],
      "execution_count": 3,
      "outputs": [
        {
          "output_type": "stream",
          "text": [
            "3 2\n",
            "1 2\n",
            "5 5\n",
            "-2 8\n",
            "1\n"
          ],
          "name": "stdout"
        }
      ]
    },
    {
      "cell_type": "markdown",
      "metadata": {
        "id": "GAYODB6cC3Lo"
      },
      "source": [
        "## C - Remainder Minimization 2019"
      ]
    },
    {
      "cell_type": "code",
      "metadata": {
        "colab": {
          "base_uri": "https://localhost:8080/"
        },
        "id": "1SgyHdjzCsnX",
        "outputId": "81a18673-7cc5-48f3-8c36-7f67b30f0f53"
      },
      "source": [
        "l, r = map(int, input().split())\n",
        "\n",
        "MOD = 2019\n",
        "\n",
        "if r - l >= MOD:\n",
        "  ans = 0\n",
        "else:\n",
        "  l_mod = l % MOD\n",
        "  r_mod = r % MOD\n",
        "\n",
        "  ans = 2019\n",
        "\n",
        "  for i in range(min(l_mod, r_mod), max(l_mod, r_mod)):\n",
        "    for j in range(i + 1, max(l_mod, r_mod) + 1):\n",
        "      ans = min(ans, (i * j) % 2019)\n",
        "\n",
        "print(ans)"
      ],
      "execution_count": 26,
      "outputs": [
        {
          "output_type": "stream",
          "text": [
            "332701087 1753412895\n",
            "0\n"
          ],
          "name": "stdout"
        }
      ]
    },
    {
      "cell_type": "markdown",
      "metadata": {
        "id": "boWFJ4qLDtyl"
      },
      "source": [
        "## D - Rain Flows into Dams"
      ]
    },
    {
      "cell_type": "code",
      "metadata": {
        "colab": {
          "base_uri": "https://localhost:8080/"
        },
        "id": "S0brPRhzF_jO",
        "outputId": "d7cea47b-f902-415e-b8b1-768dd7bf3818"
      },
      "source": [
        "# TLE\n",
        "n = int(input())\n",
        "a_list = list(map(int, input().split()))\n",
        "\n",
        "a_sum = sum(a_list)\n",
        "\n",
        "for i in range(n):\n",
        "  if i % 2 == 0:\n",
        "    ans = a_sum - (sum(a_list[0 : i : 2]) + sum(a_list[i + 1 : n : 2])) * 2\n",
        "  else:\n",
        "    ans = a_sum - (sum(a_list[1 : i : 2]) + sum(a_list[i + 1 : n : 2])) * 2\n",
        "  print(ans)"
      ],
      "execution_count": 29,
      "outputs": [
        {
          "output_type": "stream",
          "text": [
            "5\n",
            "3 8 7 5 5\n",
            "2\n",
            "4\n",
            "12\n",
            "2\n",
            "8\n"
          ],
          "name": "stdout"
        }
      ]
    },
    {
      "cell_type": "code",
      "metadata": {
        "colab": {
          "base_uri": "https://localhost:8080/"
        },
        "id": "-EsKLvF3Ra6h",
        "outputId": "d3aa4dac-80c9-447a-ae4d-703069e1469f"
      },
      "source": [
        "n = int(input())\n",
        "a_list = list(map(int, input().split()))\n",
        "\n",
        "a_sum = sum(a_list)\n",
        "\n",
        "ans = a_sum - sum(a_list[1 : n : 2]) * 2\n",
        "print(ans)\n",
        "\n",
        "for i in range(1, n):\n",
        "  ans = a_list[i - 1] * 2 - ans\n",
        "  print(ans)"
      ],
      "execution_count": 34,
      "outputs": [
        {
          "output_type": "stream",
          "text": [
            "5\n",
            "3 8 7 5 5\n",
            "2\n",
            "4\n",
            "12\n",
            "2\n",
            "8\n"
          ],
          "name": "stdout"
        }
      ]
    },
    {
      "cell_type": "markdown",
      "metadata": {
        "id": "8ODGQ7NGTnec"
      },
      "source": [
        "## E - Virus Tree 2"
      ]
    },
    {
      "cell_type": "code",
      "metadata": {
        "id": "pj8ezHIgTm4L"
      },
      "source": [
        ""
      ],
      "execution_count": null,
      "outputs": []
    },
    {
      "cell_type": "markdown",
      "metadata": {
        "id": "ZoRbnCeqTrGg"
      },
      "source": [
        "## F - Colorful Tree"
      ]
    },
    {
      "cell_type": "code",
      "metadata": {
        "id": "uC3GoEy4SHzD"
      },
      "source": [
        ""
      ],
      "execution_count": null,
      "outputs": []
    }
  ]
}