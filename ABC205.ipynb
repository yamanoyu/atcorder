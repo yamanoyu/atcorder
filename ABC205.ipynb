{
  "nbformat": 4,
  "nbformat_minor": 0,
  "metadata": {
    "colab": {
      "name": "ABC205.ipynb",
      "provenance": [],
      "collapsed_sections": [],
      "authorship_tag": "ABX9TyMEAM8pnwGiovFD8tiDJ3EL",
      "include_colab_link": true
    },
    "kernelspec": {
      "name": "python3",
      "display_name": "Python 3"
    },
    "language_info": {
      "name": "python"
    }
  },
  "cells": [
    {
      "cell_type": "markdown",
      "metadata": {
        "id": "view-in-github",
        "colab_type": "text"
      },
      "source": [
        "<a href=\"https://colab.research.google.com/github/yamanoyu/atcorder/blob/master/ABC205.ipynb\" target=\"_parent\"><img src=\"https://colab.research.google.com/assets/colab-badge.svg\" alt=\"Open In Colab\"/></a>"
      ]
    },
    {
      "cell_type": "markdown",
      "metadata": {
        "id": "cWC_zKJnnle7"
      },
      "source": [
        "## A - kcal"
      ]
    },
    {
      "cell_type": "code",
      "metadata": {
        "colab": {
          "base_uri": "https://localhost:8080/"
        },
        "id": "1MS6vVAWPQVG",
        "outputId": "9e604ac2-034d-48ef-9c71-8f15d623336a"
      },
      "source": [
        "a, b = map(int, input().split())\n",
        "ans = a * b / 100\n",
        "\n",
        "print(ans)"
      ],
      "execution_count": 4,
      "outputs": [
        {
          "output_type": "stream",
          "text": [
            "50 0\n",
            "0.0\n"
          ],
          "name": "stdout"
        }
      ]
    },
    {
      "cell_type": "markdown",
      "metadata": {
        "id": "Nq8yn4vMnnBL"
      },
      "source": [
        "## B - Permutation Check"
      ]
    },
    {
      "cell_type": "code",
      "metadata": {
        "colab": {
          "base_uri": "https://localhost:8080/"
        },
        "id": "-WnZjo6WPVUP",
        "outputId": "c39182fb-49fe-4e73-a0c0-6990df4bcfee"
      },
      "source": [
        "n = int(input())\n",
        "a_list = list(map(int, input().split()))\n",
        "\n",
        "ans = 'Yes' if len(set(a_list)) == n else 'No'\n",
        "\n",
        "print(ans)"
      ],
      "execution_count": 7,
      "outputs": [
        {
          "output_type": "stream",
          "text": [
            "6\n",
            "3 1 4 1 5 2\n",
            "No\n"
          ],
          "name": "stdout"
        }
      ]
    },
    {
      "cell_type": "markdown",
      "metadata": {
        "id": "W-VvIJL1nqjx"
      },
      "source": [
        "## C - POW"
      ]
    },
    {
      "cell_type": "code",
      "metadata": {
        "colab": {
          "base_uri": "https://localhost:8080/"
        },
        "id": "FEOZ42eKPWEW",
        "outputId": "d202926f-ae7d-4d52-a601-f021f6f3aef9"
      },
      "source": [
        "# TLE\n",
        "a, b, c = map(int, input().split())\n",
        "\n",
        "if pow(a, c) < pow(b, c):\n",
        "  ans = '<'\n",
        "elif pow(a, c) == pow(b, c):\n",
        "  ans = '='\n",
        "else:\n",
        "  ans = '>'\n",
        "\n",
        "print(ans)"
      ],
      "execution_count": 10,
      "outputs": [
        {
          "output_type": "stream",
          "text": [
            "-8 6 3\n",
            "<\n"
          ],
          "name": "stdout"
        }
      ]
    },
    {
      "cell_type": "code",
      "metadata": {
        "colab": {
          "base_uri": "https://localhost:8080/"
        },
        "id": "Sd6nn-Z5PWtP",
        "outputId": "665ba1c9-a0fd-40e1-8673-22907e129369"
      },
      "source": [
        "a, b, c = map(int, input().split())\n",
        "if c % 2 == 0:\n",
        "  a = abs(a)\n",
        "  b = abs(b)\n",
        "\n",
        "if a < b:\n",
        "  ans = '<'\n",
        "elif a == b:\n",
        "  ans = '='\n",
        "else:\n",
        "  ans = '>'\n",
        "\n",
        "print(ans)"
      ],
      "execution_count": 15,
      "outputs": [
        {
          "output_type": "stream",
          "text": [
            "-8 6 3\n",
            "<\n"
          ],
          "name": "stdout"
        }
      ]
    },
    {
      "cell_type": "markdown",
      "metadata": {
        "id": "BNfDAhHMnrLB"
      },
      "source": [
        "## D - Kth Excluded"
      ]
    },
    {
      "cell_type": "code",
      "metadata": {
        "id": "sxr2WoyGcEMF"
      },
      "source": [
        "from bisect import bisect_right\n",
        "\n",
        "n, q = map(int, input().split())\n",
        "a_list = list(map(int, input().split()))\n",
        "\n",
        "a_list = [a - i for i, a in enumerate(a_list)]\n",
        "\n",
        "for _ in range(q):\n",
        "  k = int(input())\n",
        "  ans = k + bisect_right(a_list, k)\n",
        "  print(ans)"
      ],
      "execution_count": null,
      "outputs": []
    }
  ]
}