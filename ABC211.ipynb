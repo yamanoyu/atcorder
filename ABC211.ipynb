{
  "nbformat": 4,
  "nbformat_minor": 0,
  "metadata": {
    "colab": {
      "name": "ABC211.ipynb",
      "provenance": [],
      "collapsed_sections": [],
      "authorship_tag": "ABX9TyPV0NdxRA3Vpl/+H5ZRpt69",
      "include_colab_link": true
    },
    "kernelspec": {
      "name": "python3",
      "display_name": "Python 3"
    },
    "language_info": {
      "name": "python"
    }
  },
  "cells": [
    {
      "cell_type": "markdown",
      "metadata": {
        "id": "view-in-github",
        "colab_type": "text"
      },
      "source": [
        "<a href=\"https://colab.research.google.com/github/yamanoyu/atcorder/blob/master/ABC211.ipynb\" target=\"_parent\"><img src=\"https://colab.research.google.com/assets/colab-badge.svg\" alt=\"Open In Colab\"/></a>"
      ]
    },
    {
      "cell_type": "markdown",
      "metadata": {
        "id": "JSwPMkckhaYJ"
      },
      "source": [
        "## A - Blood Pressure"
      ]
    },
    {
      "cell_type": "code",
      "metadata": {
        "colab": {
          "base_uri": "https://localhost:8080/"
        },
        "id": "E53QMyURhTEU",
        "outputId": "b0806ab4-46db-4473-ffe7-19bcd2417883"
      },
      "source": [
        "a, b = map(int, input().split())\n",
        "ans = (a - b) / 3 + b\n",
        "print(ans)"
      ],
      "execution_count": null,
      "outputs": [
        {
          "output_type": "stream",
          "text": [
            "130 100\n",
            "110.0\n"
          ],
          "name": "stdout"
        }
      ]
    },
    {
      "cell_type": "markdown",
      "metadata": {
        "id": "LeciA_h8hr8a"
      },
      "source": [
        "## B - Cycle Hit"
      ]
    },
    {
      "cell_type": "code",
      "metadata": {
        "colab": {
          "base_uri": "https://localhost:8080/"
        },
        "id": "vc8KthL_hazQ",
        "outputId": "09e36aa0-7f95-4e06-91b2-9d5b2b0ec2a9"
      },
      "source": [
        "s_set = set()\n",
        "for _ in range(4):\n",
        "  s_set.add(input())\n",
        "ans = 'Yes' if len(s_set) == 4 else 'No'\n",
        "print(ans)"
      ],
      "execution_count": null,
      "outputs": [
        {
          "output_type": "stream",
          "text": [
            "1\n",
            "2\n",
            "3\n",
            "3\n",
            "No\n"
          ],
          "name": "stdout"
        }
      ]
    },
    {
      "cell_type": "markdown",
      "metadata": {
        "id": "8oe-Nf4GiI0O"
      },
      "source": [
        "## C - chokudai"
      ]
    },
    {
      "cell_type": "code",
      "metadata": {
        "colab": {
          "base_uri": "https://localhost:8080/"
        },
        "id": "K0Pe05EMiDOL",
        "outputId": "72161898-eb36-4c65-9820-0e98d75aeea1"
      },
      "source": [
        "s = input()\n",
        "\n",
        "s_len = len(s)\n",
        "\n",
        "ans = 0\n",
        "MOD = 10 ** 9 + 7\n",
        "dp = [[0] * 8 for _ in range(s_len)]\n",
        "\n",
        "for i in range(s_len):\n",
        "  if i == 0:\n",
        "    if s[i] == 'c':\n",
        "      dp[i][0] += 1\n",
        "  else:\n",
        "    for j in range(8):\n",
        "      dp[i][j] += dp[i - 1][j]\n",
        "\n",
        "    if s[i] == 'c':\n",
        "      dp[i][0] += 1\n",
        "    elif s[i] == 'h':\n",
        "      dp[i][1] += dp[i - 1][0]\n",
        "    elif s[i] == 'o':\n",
        "      dp[i][2] += dp[i - 1][1]\n",
        "    elif s[i] == 'k':\n",
        "      dp[i][3] += dp[i - 1][2]\n",
        "    elif s[i] == 'u':\n",
        "      dp[i][4] += dp[i - 1][3]\n",
        "    elif s[i] == 'd':\n",
        "      dp[i][5] += dp[i - 1][4]\n",
        "    elif s[i] == 'a':\n",
        "      dp[i][6] += dp[i - 1][5]\n",
        "    elif s[i] == 'i':\n",
        "      dp[i][7] += dp[i - 1][6]\n",
        "\n",
        "ans = dp[-1][-1] % MOD\n",
        "print(ans)"
      ],
      "execution_count": null,
      "outputs": [
        {
          "output_type": "stream",
          "text": [
            "chokudaichokudaichokudai\n",
            "45\n"
          ],
          "name": "stdout"
        }
      ]
    },
    {
      "cell_type": "markdown",
      "metadata": {
        "id": "abn8k0IV-apR"
      },
      "source": [
        "## D - Number of Shortest paths"
      ]
    },
    {
      "cell_type": "code",
      "metadata": {
        "id": "NRRxI5Duj0ie"
      },
      "source": [
        "from collections import deque\n",
        "\n",
        "\n",
        "n, m = map(int, input().split())\n",
        "\n",
        "path = [[] for i in range(n)]\n",
        "cost_list = [None] * n\n",
        "visit_list = [0] * n\n",
        "dp = [0] * n\n",
        "\n",
        "MOD = 10 ** 9 + 7\n",
        "\n",
        "for _ in range(m):\n",
        "  a, b = map(int, input().split())\n",
        "  path[a - 1].append(b - 1)\n",
        "  path[b - 1].append(a - 1)\n",
        "\n",
        "cost_list[0] = 0\n",
        "queue = deque([0])\n",
        "visit_list[0] = 1\n",
        "dp[0] = 1\n",
        "\n",
        "while len(queue) != 0:\n",
        "  q = queue.popleft()\n",
        "  for p in path[q]:\n",
        "    if visit_list[p] == 0:\n",
        "      queue.append(p)\n",
        "      visit_list[p] = 1\n",
        "    if cost_list[p] == None or cost_list[p] > cost_list[q] + 1:\n",
        "      cost_list[p] = cost_list[q] + 1\n",
        "      dp[p] = dp[q]\n",
        "    elif cost_list[p] == cost_list[q] + 1:\n",
        "      dp[p] += dp[q]\n",
        "\n",
        "ans = dp[n - 1] % MOD if cost_list[n - 1] != None else 0\n",
        "print(ans)"
      ],
      "execution_count": null,
      "outputs": []
    }
  ]
}