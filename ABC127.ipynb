{
  "nbformat": 4,
  "nbformat_minor": 0,
  "metadata": {
    "colab": {
      "name": "ABC127.ipynb",
      "provenance": [],
      "collapsed_sections": [],
      "authorship_tag": "ABX9TyOc0ImgM/La5//R5M/0224j",
      "include_colab_link": true
    },
    "kernelspec": {
      "name": "python3",
      "display_name": "Python 3"
    }
  },
  "cells": [
    {
      "cell_type": "markdown",
      "metadata": {
        "id": "view-in-github",
        "colab_type": "text"
      },
      "source": [
        "<a href=\"https://colab.research.google.com/github/yamanoyu/atcorder/blob/master/ABC127.ipynb\" target=\"_parent\"><img src=\"https://colab.research.google.com/assets/colab-badge.svg\" alt=\"Open In Colab\"/></a>"
      ]
    },
    {
      "cell_type": "markdown",
      "metadata": {
        "id": "ZAQqKXdLkdt2"
      },
      "source": [
        "## A - Ferris Wheel"
      ]
    },
    {
      "cell_type": "code",
      "metadata": {
        "colab": {
          "base_uri": "https://localhost:8080/"
        },
        "id": "jKe1vmhNkWrN",
        "outputId": "8d4d4303-770b-4643-e3e6-e96bce9ca64c"
      },
      "source": [
        "a, b = map(int, input().split())\n",
        "if a >= 13:\n",
        "  ans = b\n",
        "elif a <= 5:\n",
        "  ans = 0\n",
        "else:\n",
        "  ans = b //2\n",
        "\n",
        "print(ans)"
      ],
      "execution_count": null,
      "outputs": [
        {
          "output_type": "stream",
          "text": [
            "0 100\n",
            "0\n"
          ],
          "name": "stdout"
        }
      ]
    },
    {
      "cell_type": "markdown",
      "metadata": {
        "id": "j9oFoCNwk94b"
      },
      "source": [
        "## B - Algae"
      ]
    },
    {
      "cell_type": "code",
      "metadata": {
        "colab": {
          "base_uri": "https://localhost:8080/"
        },
        "id": "WQWykKiJkklv",
        "outputId": "554ec2bd-f323-44fa-a74a-05f6f1d1bf21"
      },
      "source": [
        "r, d, x = map(int, input().split())\n",
        "for i in range(1, 11):\n",
        "  x = r * x - d\n",
        "  print(x)"
      ],
      "execution_count": null,
      "outputs": [
        {
          "output_type": "stream",
          "text": [
            "2 10 20\n",
            "30\n",
            "50\n",
            "90\n",
            "170\n",
            "330\n",
            "650\n",
            "1290\n",
            "2570\n",
            "5130\n",
            "10250\n"
          ],
          "name": "stdout"
        }
      ]
    },
    {
      "cell_type": "markdown",
      "metadata": {
        "id": "u-RsgDAqlZGy"
      },
      "source": [
        "## C - Prison"
      ]
    },
    {
      "cell_type": "code",
      "metadata": {
        "colab": {
          "base_uri": "https://localhost:8080/"
        },
        "id": "hVLl3CcDlUUZ",
        "outputId": "a0b65e3d-b085-4853-9951-ed0b2259ab24"
      },
      "source": [
        "# TLE\n",
        "n, m = map(int, input().split())\n",
        "\n",
        "gate_set = set([i for i in range(1, 10 ** 5 + 1)])\n",
        "\n",
        "for _ in range(m):\n",
        "  l, r = map(int, input().split())\n",
        "  gate_set &= set([i for i in range(l, r + 1)])\n",
        "\n",
        "ans = len(gate_set)\n",
        "print(ans)"
      ],
      "execution_count": null,
      "outputs": [
        {
          "output_type": "stream",
          "text": [
            "4 2\n",
            "1 3\n",
            "2 4\n",
            "2\n"
          ],
          "name": "stdout"
        }
      ]
    },
    {
      "cell_type": "code",
      "metadata": {
        "colab": {
          "base_uri": "https://localhost:8080/"
        },
        "id": "YiIpkAAqmRNy",
        "outputId": "6472198e-9e9d-40b2-fca8-e68f6ef8c49a"
      },
      "source": [
        "n, m = map(int, input().split())\n",
        "\n",
        "gate_start = 1\n",
        "gate_end = 10 ** 5\n",
        "\n",
        "for _ in range(m):\n",
        "  l, r = map(int, input().split())\n",
        "  if r < gate_start or l > gate_end:\n",
        "    pass\n",
        "  if l >= gate_start:\n",
        "    gate_start = l\n",
        "  if r <= gate_end:\n",
        "    gate_end = r\n",
        "\n",
        "ans = gate_end - gate_start + 1 if gate_end - gate_start >= 0 else 0\n",
        "\n",
        "print(ans)"
      ],
      "execution_count": null,
      "outputs": [
        {
          "output_type": "stream",
          "text": [
            "4 2\n",
            "1 3\n",
            "1 3\n",
            "2 4\n",
            "2 3\n",
            "2\n"
          ],
          "name": "stdout"
        }
      ]
    },
    {
      "cell_type": "markdown",
      "metadata": {
        "id": "DdtNcM6zu0AK"
      },
      "source": [
        "## D - Integer Cards"
      ]
    },
    {
      "cell_type": "code",
      "metadata": {
        "id": "7vH-EZbGu0xw",
        "colab": {
          "base_uri": "https://localhost:8080/"
        },
        "outputId": "f9954cb9-8fb5-44cd-d4b3-ea7cc4637619"
      },
      "source": [
        "# TLE\n",
        "n, m = map(int, input().split())\n",
        "a_list = list(map(int, input().split()))\n",
        "\n",
        "for _ in range(m):\n",
        "  b, c = map(int, input().split())\n",
        "  a_list += [c] * b\n",
        "\n",
        "a_list.sort()\n",
        "ans = sum(a_list[-n:])\n",
        "\n",
        "print(ans)"
      ],
      "execution_count": null,
      "outputs": [
        {
          "output_type": "stream",
          "text": [
            "3 2\n",
            "5 1 4\n",
            "2 3\n",
            "1 5\n",
            "14\n"
          ],
          "name": "stdout"
        }
      ]
    },
    {
      "cell_type": "code",
      "metadata": {
        "id": "Y__n3UbuO_bu",
        "colab": {
          "base_uri": "https://localhost:8080/"
        },
        "outputId": "4786768a-0645-477b-bb2a-be15c54eb7d1"
      },
      "source": [
        "from collections import defaultdict\n",
        "\n",
        "\n",
        "n, m = map(int, input().split())\n",
        "a_list = list(map(int, input().split()))\n",
        "\n",
        "\n",
        "a_dict = defaultdict(int)\n",
        "\n",
        "for a in a_list:\n",
        "  a_dict[a] += 1\n",
        "\n",
        "for _ in range(m):\n",
        "  b, c = map(int, input().split())\n",
        "  a_dict[c] += b\n",
        "\n",
        "a_dict_sort = sorted(a_dict.items(), key=lambda x: x[0], reverse=True)\n",
        "\n",
        "cnt = 0\n",
        "ans = 0\n",
        "\n",
        "for num, c in a_dict_sort:\n",
        "  ans += num * c\n",
        "  cnt += c\n",
        "\n",
        "  if cnt > n:\n",
        "    ans -= num * (cnt - n)\n",
        "    break\n",
        "\n",
        "print(ans)"
      ],
      "execution_count": null,
      "outputs": [
        {
          "output_type": "stream",
          "text": [
            "3 2\n",
            "100 100 100\n",
            "3 99\n",
            "3 99\n",
            "300\n"
          ],
          "name": "stdout"
        }
      ]
    },
    {
      "cell_type": "markdown",
      "metadata": {
        "id": "8DsZw1D0TcsB"
      },
      "source": [
        "## E - Cell Distance"
      ]
    },
    {
      "cell_type": "code",
      "metadata": {
        "id": "4_7MGX9YSG__"
      },
      "source": [
        ""
      ],
      "execution_count": null,
      "outputs": []
    },
    {
      "cell_type": "markdown",
      "metadata": {
        "id": "XKz8q26XYRJ7"
      },
      "source": [
        "## F - Absolute Minima"
      ]
    },
    {
      "cell_type": "code",
      "metadata": {
        "id": "9pZ9Bg2qYRkJ"
      },
      "source": [
        ""
      ],
      "execution_count": null,
      "outputs": []
    }
  ]
}