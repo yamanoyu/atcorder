{
  "nbformat": 4,
  "nbformat_minor": 0,
  "metadata": {
    "colab": {
      "name": "ABC123.ipynb",
      "provenance": [],
      "authorship_tag": "ABX9TyMdP5oy0gE3cJ0YoMFE/jZO",
      "include_colab_link": true
    },
    "kernelspec": {
      "name": "python3",
      "display_name": "Python 3"
    }
  },
  "cells": [
    {
      "cell_type": "markdown",
      "metadata": {
        "id": "view-in-github",
        "colab_type": "text"
      },
      "source": [
        "<a href=\"https://colab.research.google.com/github/yamanoyu/atcorder/blob/master/ABC123.ipynb\" target=\"_parent\"><img src=\"https://colab.research.google.com/assets/colab-badge.svg\" alt=\"Open In Colab\"/></a>"
      ]
    },
    {
      "cell_type": "markdown",
      "metadata": {
        "id": "NQB9WphZKJ2b"
      },
      "source": [
        "## A - Five Antennas"
      ]
    },
    {
      "cell_type": "code",
      "metadata": {
        "colab": {
          "base_uri": "https://localhost:8080/"
        },
        "id": "HI-z5VyhKChz",
        "outputId": "5d484132-2e9c-4a4b-885e-d7bf8f521e01"
      },
      "source": [
        "a = int(input())\n",
        "b = int(input())\n",
        "c = int(input())\n",
        "d = int(input())\n",
        "e = int(input())\n",
        "k = int(input())\n",
        "\n",
        "ans = 'Yay!' if e - a <= k else ':('\n",
        "print(ans)"
      ],
      "execution_count": 4,
      "outputs": [
        {
          "output_type": "stream",
          "text": [
            "15\n",
            "18\n",
            "26\n",
            "35\n",
            "36\n",
            "18\n",
            "Yay!\n"
          ],
          "name": "stdout"
        }
      ]
    },
    {
      "cell_type": "markdown",
      "metadata": {
        "id": "VordXLDcLNbj"
      },
      "source": [
        "## B - Five Dishes"
      ]
    },
    {
      "cell_type": "code",
      "metadata": {
        "colab": {
          "base_uri": "https://localhost:8080/"
        },
        "id": "nsjpvJU_KKk2",
        "outputId": "f6c8dd18-d37c-43c0-8233-8aee7d096da1"
      },
      "source": [
        "a = int(input())\n",
        "b = int(input())\n",
        "c = int(input())\n",
        "d = int(input())\n",
        "e = int(input())\n",
        "\n",
        "order_time_list = [((i // 10) + 1) * 10 if i % 10 != 0 else i for i in [a, b, c, d, e]]\n",
        "\n",
        "ans = sum(order_time_list)\n",
        "for j, o in zip([a, b, c, d, e], order_time_list):\n",
        "  ans = min(ans, sum(order_time_list) - (o - j))\n",
        "\n",
        "print(ans)"
      ],
      "execution_count": 8,
      "outputs": [
        {
          "output_type": "stream",
          "text": [
            "29\n",
            "20\n",
            "7\n",
            "35\n",
            "120\n",
            "215\n"
          ],
          "name": "stdout"
        }
      ]
    },
    {
      "cell_type": "markdown",
      "metadata": {
        "id": "iUGPnH-WMmVO"
      },
      "source": [
        "## C - Five Transportations"
      ]
    },
    {
      "cell_type": "code",
      "metadata": {
        "colab": {
          "base_uri": "https://localhost:8080/"
        },
        "id": "uf7jHA8IMNCa",
        "outputId": "34a537b5-4299-4cd7-fede-7e8a83af72ee"
      },
      "source": [
        "n = int(input())\n",
        "a = int(input())\n",
        "b = int(input())\n",
        "c = int(input())\n",
        "d = int(input())\n",
        "e = int(input())\n",
        "\n",
        "abcde_list = [a, b, c, d, e]\n",
        "\n",
        "ans = n // min(abcde_list) + 5 if n % min(abcde_list) != 0 else max(1, n // min(abcde_list)) + 4\n",
        "\n",
        "print(ans)"
      ],
      "execution_count": 11,
      "outputs": [
        {
          "output_type": "stream",
          "text": [
            "10000000007\n",
            "2\n",
            "3\n",
            "5\n",
            "7\n",
            "11\n",
            "5000000008\n"
          ],
          "name": "stdout"
        }
      ]
    },
    {
      "cell_type": "markdown",
      "metadata": {
        "id": "-DmCe5YcPmfR"
      },
      "source": [
        "## D - Cake 123"
      ]
    },
    {
      "cell_type": "code",
      "metadata": {
        "colab": {
          "base_uri": "https://localhost:8080/"
        },
        "id": "Siwp8zLYPCa1",
        "outputId": "72652cd5-a0da-4aff-c8e5-be52624b07e2"
      },
      "source": [
        "x, y, z, k = map(int, input().split())\n",
        "a_list = list(map(int, input().split()))\n",
        "b_list = list(map(int, input().split()))\n",
        "c_list = list(map(int, input().split()))\n",
        "\n",
        "a_list.sort(reverse=True)\n",
        "b_list.sort(reverse=True)\n",
        "c_list.sort(reverse=True)\n",
        "\n",
        "ans_list = []\n",
        "\n",
        "for h in range(1, min(x, k) + 1):\n",
        "  for i in range(1, min(y, k // h + 1) + 1):\n",
        "    for j in range(1, min(z, (k // (h * i) + 1)) + 1):\n",
        "      sum_abc = a_list[h - 1] + b_list[i - 1] + c_list[j - 1]\n",
        "      ans_list.append(sum_abc)\n",
        "\n",
        "ans_list.sort(reverse=True)\n",
        "\n",
        "for ans in ans_list[:k]:\n",
        "  print(ans)"
      ],
      "execution_count": 17,
      "outputs": [
        {
          "output_type": "stream",
          "text": [
            "10 10 10 20\n",
            "7467038376 5724769290 292794712 2843504496 3381970101 8402252870 249131806 6310293640 6690322794 6082257488\n",
            "1873977926 2576529623 1144842195 1379118507 6003234687 4925540914 3902539811 3326692703 484657758 2877436338\n",
            "4975681328 8974383988 2882263257 7690203955 514305523 6679823484 4263279310 585966808 3752282379 620585736\n",
            "23379871545\n",
            "22444657051\n",
            "22302177772\n",
            "22095691512\n",
            "21667941469\n",
            "21366963278\n",
            "21287912315\n",
            "21279176669\n",
            "21160477018\n",
            "21085311041\n",
            "21059876163\n",
            "21017997739\n",
            "20703329561\n",
            "20702387965\n",
            "20590247696\n",
            "20383761436\n",
            "20343962175\n",
            "20254073196\n",
            "20210218542\n",
            "20150096547\n"
          ],
          "name": "stdout"
        }
      ]
    }
  ]
}