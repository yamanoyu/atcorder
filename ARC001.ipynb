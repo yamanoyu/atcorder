{
  "nbformat": 4,
  "nbformat_minor": 0,
  "metadata": {
    "colab": {
      "name": "ARC001.ipynb",
      "provenance": [],
      "collapsed_sections": [],
      "authorship_tag": "ABX9TyOTxtkg+TLmoO6HtQMYzEmU",
      "include_colab_link": true
    },
    "kernelspec": {
      "name": "python3",
      "display_name": "Python 3"
    },
    "language_info": {
      "name": "python"
    }
  },
  "cells": [
    {
      "cell_type": "markdown",
      "metadata": {
        "id": "view-in-github",
        "colab_type": "text"
      },
      "source": [
        "<a href=\"https://colab.research.google.com/github/yamanoyu/atcorder/blob/master/ARC001.ipynb\" target=\"_parent\"><img src=\"https://colab.research.google.com/assets/colab-badge.svg\" alt=\"Open In Colab\"/></a>"
      ]
    },
    {
      "cell_type": "markdown",
      "metadata": {
        "id": "qn6eHyNZoGA8"
      },
      "source": [
        "## A - センター採点"
      ]
    },
    {
      "cell_type": "code",
      "metadata": {
        "colab": {
          "base_uri": "https://localhost:8080/"
        },
        "id": "AyVdryWCnTR1",
        "outputId": "edca8e87-57ee-4349-d062-187a15931830"
      },
      "source": [
        "n = int(input())\n",
        "c_list = list(input())\n",
        "\n",
        "ans_list = [0] * 4\n",
        "\n",
        "for c in c_list:\n",
        "  if c == '1':\n",
        "    ans_list[0] += 1\n",
        "  elif c == '2':\n",
        "    ans_list[1] += 1\n",
        "  elif c == '3':\n",
        "    ans_list[2] += 1\n",
        "  elif c == '4':\n",
        "    ans_list[3] += 1\n",
        "\n",
        "ans = str(max(ans_list)) + ' ' + str(min(ans_list))\n",
        "\n",
        "print(ans)"
      ],
      "execution_count": 3,
      "outputs": [
        {
          "output_type": "stream",
          "text": [
            "9\n",
            "131142143\n",
            "4 1\n"
          ],
          "name": "stdout"
        }
      ]
    },
    {
      "cell_type": "code",
      "metadata": {
        "id": "jPjwNGIMompa"
      },
      "source": [
        ""
      ],
      "execution_count": null,
      "outputs": []
    },
    {
      "cell_type": "markdown",
      "metadata": {
        "id": "TMPTPPXdoI6I"
      },
      "source": [
        "## B - リモコン"
      ]
    },
    {
      "cell_type": "code",
      "metadata": {
        "id": "3aSo5kbkn2tS"
      },
      "source": [
        "a, b = map(int, input().split())\n"
      ],
      "execution_count": null,
      "outputs": []
    }
  ]
}