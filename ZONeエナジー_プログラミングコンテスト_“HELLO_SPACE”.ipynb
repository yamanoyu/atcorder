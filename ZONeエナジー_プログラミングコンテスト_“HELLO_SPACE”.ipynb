{
  "nbformat": 4,
  "nbformat_minor": 0,
  "metadata": {
    "colab": {
      "name": "ZONeエナジー プログラミングコンテスト “HELLO SPACE”.ipynb",
      "provenance": [],
      "authorship_tag": "ABX9TyPl5zaPoJiTN0nuPDWLzQsV",
      "include_colab_link": true
    },
    "kernelspec": {
      "name": "python3",
      "display_name": "Python 3"
    },
    "language_info": {
      "name": "python"
    }
  },
  "cells": [
    {
      "cell_type": "markdown",
      "metadata": {
        "id": "view-in-github",
        "colab_type": "text"
      },
      "source": [
        "<a href=\"https://colab.research.google.com/github/yamanoyu/atcorder/blob/master/ZONe%E3%82%A8%E3%83%8A%E3%82%B8%E3%83%BC_%E3%83%97%E3%83%AD%E3%82%B0%E3%83%A9%E3%83%9F%E3%83%B3%E3%82%B0%E3%82%B3%E3%83%B3%E3%83%86%E3%82%B9%E3%83%88_%E2%80%9CHELLO_SPACE%E2%80%9D.ipynb\" target=\"_parent\"><img src=\"https://colab.research.google.com/assets/colab-badge.svg\" alt=\"Open In Colab\"/></a>"
      ]
    },
    {
      "cell_type": "markdown",
      "metadata": {
        "id": "jQY-dhYxs0_K"
      },
      "source": [
        "## A - UFO襲来"
      ]
    },
    {
      "cell_type": "code",
      "metadata": {
        "colab": {
          "base_uri": "https://localhost:8080/"
        },
        "id": "Hzx7xVJqukCi",
        "outputId": "51bdd460-698c-48b6-f351-6409bd10ccac"
      },
      "source": [
        "s = input()\n",
        "ans = 0\n",
        "\n",
        "for _ in range(4):\n",
        "  if 'ZONe' in s:\n",
        "    ans += 1\n",
        "    s = s.replace('ZONe', '', 1)\n",
        "print(ans)"
      ],
      "execution_count": 35,
      "outputs": [
        {
          "output_type": "stream",
          "text": [
            "ZONeZONeZONe\n",
            "ZONeZONe\n",
            "ZONe\n",
            "\n",
            "3\n"
          ],
          "name": "stdout"
        }
      ]
    },
    {
      "cell_type": "markdown",
      "metadata": {
        "id": "dSmOgGQuJJW9"
      },
      "source": [
        "## B - 友好の印"
      ]
    },
    {
      "cell_type": "code",
      "metadata": {
        "id": "Mu7IVpVyzy2w"
      },
      "source": [
        "n, d_ufo, h_ufo = map(int, input().split())\n",
        "ans = 0\n",
        "for _ in range(n):\n",
        "  d, h = map(int, input().split())\n",
        "  _ans = h - (h_ufo - h) / (d_ufo - d) * d\n",
        "  ans = max(ans, _ans)\n",
        "print(ans)"
      ],
      "execution_count": null,
      "outputs": []
    },
    {
      "cell_type": "markdown",
      "metadata": {
        "id": "PmgkgCXBJHF8"
      },
      "source": [
        "## C - MAD TEAM"
      ]
    },
    {
      "cell_type": "markdown",
      "metadata": {
        "id": "ielMwE9FJEa_"
      },
      "source": [
        "## D - 宇宙人からのメッセージ"
      ]
    },
    {
      "cell_type": "code",
      "metadata": {
        "colab": {
          "base_uri": "https://localhost:8080/"
        },
        "id": "Fedw9Gny7COB",
        "outputId": "1c9b76b5-760b-4403-9afd-2657ddb5cb04"
      },
      "source": [
        "# TLE\n",
        "from collections import deque\n",
        "\n",
        "\n",
        "s = input()\n",
        "s_list = s.split('R')\n",
        "s_list_len = len(s_list)\n",
        "\n",
        "def solve(tmp):\n",
        "  tmp_len = len(tmp)\n",
        "  i = 0\n",
        "  while i < tmp_len - 1 and tmp_len >= 2:\n",
        "    if tmp[i] != tmp[i + 1]:\n",
        "      i += 1\n",
        "    else:\n",
        "      tmp = tmp[:i] + tmp[i+2:]\n",
        "      tmp_len -= 2\n",
        "      if i > 0: i -= 1\n",
        "  return tmp\n",
        "\n",
        "ans_list = deque()\n",
        "\n",
        "if s_list_len % 2 == 0:\n",
        "  for s_i, s_w in enumerate(s_list):\n",
        "    s_w = solve(s_w)\n",
        "    if s_i % 2 == 0:\n",
        "      ans_list.appendleft(s_w[::-1])\n",
        "    else:\n",
        "      ans_list.append(s_w)\n",
        "else:\n",
        "  for s_i, s_w in enumerate(s_list):\n",
        "    s_w = solve(s_w)\n",
        "    if s_i % 2 != 0:\n",
        "      ans_list.appendleft(s_w[::-1])\n",
        "    else:\n",
        "      ans_list.append(s_w)\n",
        "\n",
        "ans = ''.join(ans_list)\n",
        "ans = solve(ans)\n",
        "print(ans)"
      ],
      "execution_count": 99,
      "outputs": [
        {
          "output_type": "stream",
          "text": [
            "ozRnonnoe\n",
            "zone\n"
          ],
          "name": "stdout"
        }
      ]
    },
    {
      "cell_type": "code",
      "metadata": {
        "colab": {
          "base_uri": "https://localhost:8080/"
        },
        "id": "nWXLq9-AKVP7",
        "outputId": "55d0edb9-ba78-4f2b-c46e-e03ed050771e"
      },
      "source": [
        "from collections import deque\n",
        "\n",
        "\n",
        "s = input()\n",
        "s_len = len(s)\n",
        "\n",
        "ans_list = deque()\n",
        "reverse = False\n",
        "\n",
        "for i in range(s_len):\n",
        "  if s[i] == 'R':\n",
        "    reverse = not reverse\n",
        "  else:\n",
        "    if not reverse:\n",
        "      if ans_list:\n",
        "        if s[i] == ans_list[-1]:\n",
        "          ans_list.pop()\n",
        "        else:\n",
        "          ans_list.append(s[i])\n",
        "      else:\n",
        "        ans_list.append(s[i])\n",
        "    else:\n",
        "      if ans_list:\n",
        "        if s[i] == ans_list[0]:\n",
        "          ans_list.popleft()\n",
        "        else:\n",
        "          ans_list.appendleft(s[i])\n",
        "      else:\n",
        "        ans_list.appendleft(s[i])\n",
        "\n",
        "if reverse: ans_list.reverse()\n",
        "\n",
        "ans = ''.join(ans_list)\n",
        "print(ans)"
      ],
      "execution_count": 104,
      "outputs": [
        {
          "output_type": "stream",
          "text": [
            "ozRnonnoe\n",
            "zone\n"
          ],
          "name": "stdout"
        }
      ]
    },
    {
      "cell_type": "code",
      "metadata": {
        "id": "8SH7vAGBL24T"
      },
      "source": [
        ""
      ],
      "execution_count": null,
      "outputs": []
    }
  ]
}