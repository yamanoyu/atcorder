{
  "nbformat": 4,
  "nbformat_minor": 0,
  "metadata": {
    "colab": {
      "name": "ABC148.ipynb",
      "provenance": [],
      "authorship_tag": "ABX9TyNXwUwo19ktC7YOL3SEGmuI",
      "include_colab_link": true
    },
    "kernelspec": {
      "name": "python3",
      "display_name": "Python 3"
    }
  },
  "cells": [
    {
      "cell_type": "markdown",
      "metadata": {
        "id": "view-in-github",
        "colab_type": "text"
      },
      "source": [
        "<a href=\"https://colab.research.google.com/github/yamanoyu/atcorder/blob/master/ABC148.ipynb\" target=\"_parent\"><img src=\"https://colab.research.google.com/assets/colab-badge.svg\" alt=\"Open In Colab\"/></a>"
      ]
    },
    {
      "cell_type": "markdown",
      "metadata": {
        "id": "4L_vUULTmpJj"
      },
      "source": [
        "## A - Round One"
      ]
    },
    {
      "cell_type": "code",
      "metadata": {
        "colab": {
          "base_uri": "https://localhost:8080/"
        },
        "id": "l1gEYGK_mQ7n",
        "outputId": "c7761956-4afb-4295-dea3-aadf2d675ad0"
      },
      "source": [
        "a = int(input())\n",
        "b = int(input())\n",
        "\n",
        "ans = 6 - a - b\n",
        "print(ans)"
      ],
      "execution_count": 1,
      "outputs": [
        {
          "output_type": "stream",
          "text": [
            "1\n",
            "2\n",
            "3\n"
          ],
          "name": "stdout"
        }
      ]
    },
    {
      "cell_type": "markdown",
      "metadata": {
        "id": "98DUosG9m1uP"
      },
      "source": [
        "## B - Strings with the Same Length"
      ]
    },
    {
      "cell_type": "code",
      "metadata": {
        "colab": {
          "base_uri": "https://localhost:8080/"
        },
        "id": "v7m7lOSUmpoY",
        "outputId": "e1b1f3c5-588f-484e-bdef-5212b7bd2a82"
      },
      "source": [
        "n = int(input())\n",
        "s, t = input().split()\n",
        "\n",
        "ans = ''\n",
        "\n",
        "for si, ti in zip(s, t):\n",
        "  ans += si + ti\n",
        "\n",
        "print(ans)"
      ],
      "execution_count": 3,
      "outputs": [
        {
          "output_type": "stream",
          "text": [
            "2\n",
            "aa bb\n",
            "abab\n"
          ],
          "name": "stdout"
        }
      ]
    },
    {
      "cell_type": "markdown",
      "metadata": {
        "id": "Kt1vwAISnLk5"
      },
      "source": [
        "## C - Snack"
      ]
    },
    {
      "cell_type": "code",
      "metadata": {
        "colab": {
          "base_uri": "https://localhost:8080/"
        },
        "id": "34E3tyJanHn7",
        "outputId": "15442abf-9c06-4a70-b27f-6daa9206c663"
      },
      "source": [
        "import math\n",
        "\n",
        "\n",
        "a, b = map(int, input().split())\n",
        "\n",
        "ans = a * b // math.gcd(a, b)\n",
        "\n",
        "print(ans)"
      ],
      "execution_count": 5,
      "outputs": [
        {
          "output_type": "stream",
          "text": [
            "2 3\n",
            "6\n"
          ],
          "name": "stdout"
        }
      ]
    },
    {
      "cell_type": "markdown",
      "metadata": {
        "id": "lAH-MNcqnrey"
      },
      "source": [
        "## D - Brick Break"
      ]
    },
    {
      "cell_type": "code",
      "metadata": {
        "colab": {
          "base_uri": "https://localhost:8080/"
        },
        "id": "00_gnYiwng5M",
        "outputId": "722f9092-cd86-423c-c7bc-0f4bb781cc63"
      },
      "source": [
        "n = int(input())\n",
        "a_list = list(map(int, input().split()))\n",
        "\n",
        "_ans = 0\n",
        "tmp = 1\n",
        "\n",
        "for a in a_list:\n",
        "  if a == tmp:\n",
        "    _ans += 1\n",
        "    tmp += 1\n",
        "\n",
        "ans = n - _ans if _ans != 0 else -1\n",
        "print(ans)"
      ],
      "execution_count": 11,
      "outputs": [
        {
          "output_type": "stream",
          "text": [
            "3\n",
            "2 2 2\n",
            "-1\n"
          ],
          "name": "stdout"
        }
      ]
    },
    {
      "cell_type": "markdown",
      "metadata": {
        "id": "HEYBv4bpo5nv"
      },
      "source": [
        "## E - Double Factorial"
      ]
    },
    {
      "cell_type": "code",
      "metadata": {
        "colab": {
          "base_uri": "https://localhost:8080/"
        },
        "id": "wSLvlG2XocDP",
        "outputId": "45aed30a-264f-40b5-f9bf-2bbd179f8db8"
      },
      "source": [
        "# 1, 1, 2, 3, 8, 15, 48, ...\n",
        "# def solve(n):\n",
        "#   if n < 2:\n",
        "#     return 1\n",
        "#   else:\n",
        "#     return n * solve(n - 2) \n",
        "\n",
        "n = int(input())\n",
        "\n",
        "ans = 0\n",
        "\n",
        "if n % 2 == 0: \n",
        "  ans += n // 10\n",
        "  for i in range(1, 26):\n",
        "    ans += n // (10 * (5 ** i))\n",
        "\n",
        "print(ans)"
      ],
      "execution_count": 66,
      "outputs": [
        {
          "output_type": "stream",
          "text": [
            "1000000000000000000\n",
            "124999999999999995\n"
          ],
          "name": "stdout"
        }
      ]
    },
    {
      "cell_type": "markdown",
      "metadata": {
        "id": "8zP2x6iLtpNL"
      },
      "source": [
        "## F - Playing Tag on Tree "
      ]
    },
    {
      "cell_type": "code",
      "metadata": {
        "id": "OmWnkU4RtU12"
      },
      "source": [
        ""
      ],
      "execution_count": null,
      "outputs": []
    }
  ]
}