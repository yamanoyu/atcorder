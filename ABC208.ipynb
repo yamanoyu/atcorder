{
  "nbformat": 4,
  "nbformat_minor": 0,
  "metadata": {
    "colab": {
      "name": "ABC208.ipynb",
      "provenance": [],
      "collapsed_sections": [],
      "authorship_tag": "ABX9TyPWK9HLM/u6LSCTRNIQe9lZ",
      "include_colab_link": true
    },
    "kernelspec": {
      "name": "python3",
      "display_name": "Python 3"
    },
    "language_info": {
      "name": "python"
    }
  },
  "cells": [
    {
      "cell_type": "markdown",
      "metadata": {
        "id": "view-in-github",
        "colab_type": "text"
      },
      "source": [
        "<a href=\"https://colab.research.google.com/github/yamanoyu/atcorder/blob/master/ABC208.ipynb\" target=\"_parent\"><img src=\"https://colab.research.google.com/assets/colab-badge.svg\" alt=\"Open In Colab\"/></a>"
      ]
    },
    {
      "cell_type": "markdown",
      "metadata": {
        "id": "IyiKlqcJwsZm"
      },
      "source": [
        "## A - Rolling Dice"
      ]
    },
    {
      "cell_type": "code",
      "metadata": {
        "id": "ZvtzyGmnn5Nu"
      },
      "source": [
        "a, b = map(int, input().split())\n",
        "ans = 'Yes' if a <= b <= a * 6 else 'No'\n",
        "print(ans)"
      ],
      "execution_count": null,
      "outputs": []
    },
    {
      "cell_type": "markdown",
      "metadata": {
        "id": "u2MARajDw7xI"
      },
      "source": [
        "## B - Factorial Yen Coin"
      ]
    },
    {
      "cell_type": "code",
      "metadata": {
        "colab": {
          "base_uri": "https://localhost:8080/"
        },
        "id": "jz4LQfBbwsy2",
        "outputId": "c325c5b1-b318-4f1a-f559-903a68c03dfe"
      },
      "source": [
        "import bisect\n",
        "\n",
        "\n",
        "p = int(input())\n",
        "coins = [1]\n",
        "\n",
        "for i in range(2, 11):\n",
        "  coins.append(coins[-1] * i)\n",
        "\n",
        "ans = 0\n",
        "while p > 0:\n",
        "  n = bisect.bisect_right(coins, p)\n",
        "  ans += p // coins[n - 1]\n",
        "  p = p % coins[n - 1]\n",
        "\n",
        "print(ans)"
      ],
      "execution_count": 13,
      "outputs": [
        {
          "output_type": "stream",
          "text": [
            "10000000\n",
            "24\n"
          ],
          "name": "stdout"
        }
      ]
    },
    {
      "cell_type": "markdown",
      "metadata": {
        "id": "E8f1iOKNzYzQ"
      },
      "source": [
        "## C - Fair Candy Distribution"
      ]
    },
    {
      "cell_type": "code",
      "metadata": {
        "colab": {
          "base_uri": "https://localhost:8080/"
        },
        "id": "0y9Ywic8yADA",
        "outputId": "78c495ea-b5ce-46d3-ebfb-76764b2ca35d"
      },
      "source": [
        "n, k = map(int, input().split())\n",
        "a_list= list(map(int, input().split()))\n",
        "\n",
        "a_list_sort = sorted(a_list)\n",
        "\n",
        "everyone = k // n\n",
        "part = k % n\n",
        "\n",
        "i = a_list_sort[part - 1]\n",
        "\n",
        "for a in a_list:\n",
        "  if a > i or n == 1 or part == 0:\n",
        "    print(everyone)\n",
        "  else:\n",
        "    print(everyone + 1)"
      ],
      "execution_count": 20,
      "outputs": [
        {
          "output_type": "stream",
          "text": [
            "2 6\n",
            "2 3\n",
            "3\n",
            "3\n"
          ],
          "name": "stdout"
        }
      ]
    },
    {
      "cell_type": "markdown",
      "metadata": {
        "id": "frwCnDwC-JB2"
      },
      "source": [
        "## D - Shortest Path Queries 2"
      ]
    },
    {
      "cell_type": "code",
      "metadata": {
        "colab": {
          "base_uri": "https://localhost:8080/"
        },
        "id": "xOHsMgCQ0Uw2",
        "outputId": "0a06698e-cbd5-401a-d0c5-7d867255a6c0"
      },
      "source": [
        "n, m = map(int, input().split())\n",
        "abc_list = [list(map(int, input().split())) for _ in range(m)]\n",
        "\n",
        "INF = 10 ** 9 + 7\n",
        "path_list = [[INF] * n for _ in range(n)]\n",
        "\n",
        "for i in range(n):\n",
        "  path_list[i][i] = 0\n",
        "\n",
        "for a, b, c in abc_list:\n",
        "  path_list[a - 1][b - 1] = c\n",
        "\n",
        "ans = 0\n",
        "\n",
        "for k in range(n):\n",
        "  ans_list = [[0] * n for _ in range(n)]\n",
        "  for i in range(n):\n",
        "    for j in range(n):\n",
        "      ans_list[i][j] = min(path_list[i][j], path_list[i][k] + path_list[k][j])\n",
        "      if ans_list[i][j] != INF:\n",
        "        ans += ans_list[i][j]\n",
        "  path_list = ans_list\n",
        "\n",
        "print(ans)"
      ],
      "execution_count": 1,
      "outputs": [
        {
          "output_type": "stream",
          "text": [
            "3 2\n",
            "1 2 3\n",
            "2 3 2\n",
            "25\n"
          ],
          "name": "stdout"
        }
      ]
    },
    {
      "cell_type": "code",
      "metadata": {
        "id": "PTWaWWqnDIdt"
      },
      "source": [
        ""
      ],
      "execution_count": null,
      "outputs": []
    }
  ]
}