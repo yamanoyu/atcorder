{
  "nbformat": 4,
  "nbformat_minor": 0,
  "metadata": {
    "colab": {
      "name": "ABC208.ipynb",
      "provenance": [],
      "collapsed_sections": [],
      "authorship_tag": "ABX9TyNWZTkIM0UnUYygRvjWGU0g",
      "include_colab_link": true
    },
    "kernelspec": {
      "name": "python3",
      "display_name": "Python 3"
    },
    "language_info": {
      "name": "python"
    }
  },
  "cells": [
    {
      "cell_type": "markdown",
      "metadata": {
        "id": "view-in-github",
        "colab_type": "text"
      },
      "source": [
        "<a href=\"https://colab.research.google.com/github/yamanoyu/atcorder/blob/master/ABC208.ipynb\" target=\"_parent\"><img src=\"https://colab.research.google.com/assets/colab-badge.svg\" alt=\"Open In Colab\"/></a>"
      ]
    },
    {
      "cell_type": "markdown",
      "metadata": {
        "id": "IyiKlqcJwsZm"
      },
      "source": [
        "## A - Rolling Dice"
      ]
    },
    {
      "cell_type": "code",
      "metadata": {
        "id": "ZvtzyGmnn5Nu"
      },
      "source": [
        "a, b = map(int, input().split())\n",
        "ans = 'Yes' if a <= b <= a * 6 else 'No'\n",
        "print(ans)"
      ],
      "execution_count": null,
      "outputs": []
    },
    {
      "cell_type": "markdown",
      "metadata": {
        "id": "u2MARajDw7xI"
      },
      "source": [
        "## B - Factorial Yen Coin"
      ]
    },
    {
      "cell_type": "code",
      "metadata": {
        "colab": {
          "base_uri": "https://localhost:8080/"
        },
        "id": "jz4LQfBbwsy2",
        "outputId": "c325c5b1-b318-4f1a-f559-903a68c03dfe"
      },
      "source": [
        "import bisect\n",
        "\n",
        "\n",
        "p = int(input())\n",
        "coins = [1]\n",
        "\n",
        "for i in range(2, 11):\n",
        "  coins.append(coins[-1] * i)\n",
        "\n",
        "ans = 0\n",
        "while p > 0:\n",
        "  n = bisect.bisect_right(coins, p)\n",
        "  ans += p // coins[n - 1]\n",
        "  p = p % coins[n - 1]\n",
        "\n",
        "print(ans)"
      ],
      "execution_count": 13,
      "outputs": [
        {
          "output_type": "stream",
          "text": [
            "10000000\n",
            "24\n"
          ],
          "name": "stdout"
        }
      ]
    },
    {
      "cell_type": "markdown",
      "metadata": {
        "id": "E8f1iOKNzYzQ"
      },
      "source": [
        "## C - Fair Candy Distribution"
      ]
    },
    {
      "cell_type": "code",
      "metadata": {
        "colab": {
          "base_uri": "https://localhost:8080/"
        },
        "id": "0y9Ywic8yADA",
        "outputId": "78c495ea-b5ce-46d3-ebfb-76764b2ca35d"
      },
      "source": [
        "n, k = map(int, input().split())\n",
        "a_list= list(map(int, input().split()))\n",
        "\n",
        "a_list_sort = sorted(a_list)\n",
        "\n",
        "everyone = k // n\n",
        "part = k % n\n",
        "\n",
        "i = a_list_sort[part - 1]\n",
        "\n",
        "for a in a_list:\n",
        "  if a > i or n == 1 or part == 0:\n",
        "    print(everyone)\n",
        "  else:\n",
        "    print(everyone + 1)"
      ],
      "execution_count": 20,
      "outputs": [
        {
          "output_type": "stream",
          "text": [
            "2 6\n",
            "2 3\n",
            "3\n",
            "3\n"
          ],
          "name": "stdout"
        }
      ]
    },
    {
      "cell_type": "code",
      "metadata": {
        "id": "xOHsMgCQ0Uw2"
      },
      "source": [
        ""
      ],
      "execution_count": null,
      "outputs": []
    }
  ]
}