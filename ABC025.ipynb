{
 "cells": [
  {
   "cell_type": "markdown",
   "metadata": {},
   "source": [
    "## A - 25個の文字列"
   ]
  },
  {
   "cell_type": "code",
   "execution_count": 9,
   "metadata": {},
   "outputs": [
    {
     "name": "stdout",
     "output_type": "stream",
     "text": [
      "abcde\n",
      "4\n",
      "ad\n"
     ]
    }
   ],
   "source": [
    "s = list(input())\n",
    "n = int(input())\n",
    "\n",
    "first_word, second_word = divmod(n, 5)\n",
    "if second_word == 0:\n",
    "    ans = s[first_word-1] + s[-1]\n",
    "else:\n",
    "    ans = s[first_word] + s[second_word-1]\n",
    "\n",
    "print(ans)"
   ]
  },
  {
   "cell_type": "code",
   "execution_count": null,
   "metadata": {},
   "outputs": [],
   "source": []
  },
  {
   "cell_type": "code",
   "execution_count": 14,
   "metadata": {},
   "outputs": [
    {
     "name": "stdout",
     "output_type": "stream",
     "text": [
      "5 25 25\n",
      "East 1\n",
      "East 1\n",
      "East 100\n",
      "West 1\n",
      "West 1\n",
      "East  25\n"
     ]
    }
   ],
   "source": [
    "n, a, b = map(int, input().split())\n",
    "move_distance = 0\n",
    "\n",
    "for _ in range(n):\n",
    "    s, d = input().split()\n",
    "\n",
    "    if s == 'East':\n",
    "        if a <= int(d) <= b:\n",
    "            move_distance += int(d)\n",
    "        elif a > int(d):\n",
    "            move_distance += a\n",
    "        elif b < int(d):\n",
    "            move_distance += b\n",
    "    elif s == 'West':\n",
    "        if a <= int(d) <= b:\n",
    "            move_distance += - int(d)\n",
    "        elif a > int(d):\n",
    "            move_distance += - a\n",
    "        elif b < int(d):\n",
    "            move_distance += - b\n",
    "    \n",
    "if move_distance < 0:\n",
    "    print('West', - move_distance)\n",
    "elif move_distance > 0:\n",
    "    print('East', move_distance)\n",
    "else:\n",
    "    print(0)"
   ]
  },
  {
   "cell_type": "code",
   "execution_count": null,
   "metadata": {},
   "outputs": [],
   "source": []
  },
  {
   "cell_type": "code",
   "execution_count": null,
   "metadata": {},
   "outputs": [],
   "source": []
  },
  {
   "cell_type": "code",
   "execution_count": null,
   "metadata": {},
   "outputs": [],
   "source": []
  },
  {
   "cell_type": "code",
   "execution_count": null,
   "metadata": {},
   "outputs": [],
   "source": []
  },
  {
   "cell_type": "code",
   "execution_count": null,
   "metadata": {},
   "outputs": [],
   "source": []
  },
  {
   "cell_type": "code",
   "execution_count": null,
   "metadata": {},
   "outputs": [],
   "source": []
  },
  {
   "cell_type": "code",
   "execution_count": null,
   "metadata": {},
   "outputs": [],
   "source": []
  },
  {
   "cell_type": "code",
   "execution_count": null,
   "metadata": {},
   "outputs": [],
   "source": []
  },
  {
   "cell_type": "code",
   "execution_count": null,
   "metadata": {},
   "outputs": [],
   "source": []
  },
  {
   "cell_type": "code",
   "execution_count": null,
   "metadata": {},
   "outputs": [],
   "source": []
  },
  {
   "cell_type": "code",
   "execution_count": null,
   "metadata": {},
   "outputs": [],
   "source": []
  },
  {
   "cell_type": "code",
   "execution_count": null,
   "metadata": {},
   "outputs": [],
   "source": []
  },
  {
   "cell_type": "code",
   "execution_count": null,
   "metadata": {},
   "outputs": [],
   "source": []
  }
 ],
 "metadata": {
  "kernelspec": {
   "display_name": "Python 3",
   "language": "python",
   "name": "python3"
  },
  "language_info": {
   "codemirror_mode": {
    "name": "ipython",
    "version": 3
   },
   "file_extension": ".py",
   "mimetype": "text/x-python",
   "name": "python",
   "nbconvert_exporter": "python",
   "pygments_lexer": "ipython3",
   "version": "3.7.4"
  }
 },
 "nbformat": 4,
 "nbformat_minor": 4
}
