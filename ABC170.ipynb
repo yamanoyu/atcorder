{
  "nbformat": 4,
  "nbformat_minor": 0,
  "metadata": {
    "colab": {
      "name": "ABC170.ipynb",
      "provenance": [],
      "authorship_tag": "ABX9TyOEaLEmw/Dy5DJ+FRZVcDET",
      "include_colab_link": true
    },
    "kernelspec": {
      "name": "python3",
      "display_name": "Python 3"
    }
  },
  "cells": [
    {
      "cell_type": "markdown",
      "metadata": {
        "id": "view-in-github",
        "colab_type": "text"
      },
      "source": [
        "<a href=\"https://colab.research.google.com/github/yamanoyu/atcorder/blob/master/ABC170.ipynb\" target=\"_parent\"><img src=\"https://colab.research.google.com/assets/colab-badge.svg\" alt=\"Open In Colab\"/></a>"
      ]
    },
    {
      "cell_type": "markdown",
      "metadata": {
        "id": "oaDcJEIHVZ6h"
      },
      "source": [
        "## A - Five Variables"
      ]
    },
    {
      "cell_type": "code",
      "metadata": {
        "colab": {
          "base_uri": "https://localhost:8080/"
        },
        "id": "LVml7-scVQft",
        "outputId": "2967410f-6392-4ccb-fc47-c503f771e22a"
      },
      "source": [
        "x1, x2, x3, x4, x5 = map(int,input().split())\n",
        "ans = 15 - (x1 + x2 + x3 + x4 + x5)\n",
        "print(ans)"
      ],
      "execution_count": 1,
      "outputs": [
        {
          "output_type": "stream",
          "text": [
            "0 2 3 4 5\n",
            "1\n"
          ],
          "name": "stdout"
        }
      ]
    },
    {
      "cell_type": "markdown",
      "metadata": {
        "id": "krnRzyYCVyzo"
      },
      "source": [
        "## B - Crane and Turtle"
      ]
    },
    {
      "cell_type": "code",
      "metadata": {
        "colab": {
          "base_uri": "https://localhost:8080/"
        },
        "id": "IDke7bGrVaa-",
        "outputId": "e5cbe253-a0b3-4b9e-bdac-d83855e28a98"
      },
      "source": [
        "x, y = map(int,input().split())\n",
        "ans = 'No'\n",
        "for i in range(x + 1):\n",
        "  if i * 2 + (x - i) * 4 == y:\n",
        "    ans = 'Yes'\n",
        "    break\n",
        "print(ans)"
      ],
      "execution_count": 4,
      "outputs": [
        {
          "output_type": "stream",
          "text": [
            "1 2\n",
            "Yes\n"
          ],
          "name": "stdout"
        }
      ]
    },
    {
      "cell_type": "markdown",
      "metadata": {
        "id": "fsDRPzzGWORq"
      },
      "source": [
        "## C - Forbidden List"
      ]
    },
    {
      "cell_type": "code",
      "metadata": {
        "colab": {
          "base_uri": "https://localhost:8080/"
        },
        "id": "ZIW49Tl0WJPS",
        "outputId": "0cead392-8c37-49c7-c4e9-b8c8b59b796d"
      },
      "source": [
        "x, n = map(int,input().split())\n",
        "p_list = list(map(int,input().split()))\n",
        "\n",
        "ans = x - 50\n",
        "for i in range(0, 52):\n",
        "  if x - i in p_list and x + i in p_list:\n",
        "    continue\n",
        "  else:\n",
        "    if x - i in p_list:\n",
        "      ans = x + i\n",
        "    else:\n",
        "      ans = x - i\n",
        "    break\n",
        "\n",
        "print(ans)"
      ],
      "execution_count": 14,
      "outputs": [
        {
          "output_type": "stream",
          "text": [
            "100 0\n",
            "\n",
            "100\n"
          ],
          "name": "stdout"
        }
      ]
    },
    {
      "cell_type": "markdown",
      "metadata": {
        "id": "Fks8IdSMY2uY"
      },
      "source": [
        "## D - Not Divisible"
      ]
    },
    {
      "cell_type": "code",
      "metadata": {
        "colab": {
          "base_uri": "https://localhost:8080/"
        },
        "id": "A_IEviuFYuL9",
        "outputId": "6f24e0e7-ff51-4a83-cbfc-cbd338471713"
      },
      "source": [
        "n = int(input())\n",
        "a_list = list(map(int,input().split()))\n",
        "a_list.sort()\n",
        "\n",
        "ans_list = [0] * (a_list[-1] + 1)\n",
        "\n",
        "for a in a_list:\n",
        "  for index, i in enumerate(range(a, a_list[-1] + 1, a)):\n",
        "    ans_list[i] += index + 1\n",
        "\n",
        "ans = ans_list.count(1)\n",
        "print(ans)"
      ],
      "execution_count": 11,
      "outputs": [
        {
          "output_type": "stream",
          "text": [
            "10\n",
            "33 18 45 28 8 19 89 86 2 4\n",
            "5\n"
          ],
          "name": "stdout"
        }
      ]
    },
    {
      "cell_type": "markdown",
      "metadata": {
        "id": "phkIqvdyFoIv"
      },
      "source": [
        "## E - Smart Infants"
      ]
    },
    {
      "cell_type": "code",
      "metadata": {
        "id": "9TYastdgE5nB"
      },
      "source": [
        ""
      ],
      "execution_count": null,
      "outputs": []
    }
  ]
}