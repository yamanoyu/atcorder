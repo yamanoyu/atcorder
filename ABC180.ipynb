{
  "nbformat": 4,
  "nbformat_minor": 0,
  "metadata": {
    "colab": {
      "name": "ABC180.ipynb",
      "provenance": [],
      "collapsed_sections": [],
      "authorship_tag": "ABX9TyOI8rQDvM6hVlLZ+/jtZb8O",
      "include_colab_link": true
    },
    "kernelspec": {
      "name": "python3",
      "display_name": "Python 3"
    },
    "language_info": {
      "name": "python"
    }
  },
  "cells": [
    {
      "cell_type": "markdown",
      "metadata": {
        "id": "view-in-github",
        "colab_type": "text"
      },
      "source": [
        "<a href=\"https://colab.research.google.com/github/yamanoyu/atcorder/blob/master/ABC180.ipynb\" target=\"_parent\"><img src=\"https://colab.research.google.com/assets/colab-badge.svg\" alt=\"Open In Colab\"/></a>"
      ]
    },
    {
      "cell_type": "markdown",
      "metadata": {
        "id": "1QJeoOyCo7Qj"
      },
      "source": [
        "## A - box"
      ]
    },
    {
      "cell_type": "code",
      "metadata": {
        "colab": {
          "base_uri": "https://localhost:8080/"
        },
        "id": "crRZKNiTo2aU",
        "outputId": "d142c12f-38d0-4150-cbd7-b18cf3cc8809"
      },
      "source": [
        "n, a, b = map(int, input().split())\n",
        "ans = n - a + b\n",
        "print(ans)"
      ],
      "execution_count": 1,
      "outputs": [
        {
          "output_type": "stream",
          "text": [
            "100 2 1\n",
            "99\n"
          ],
          "name": "stdout"
        }
      ]
    },
    {
      "cell_type": "markdown",
      "metadata": {
        "id": "x07NB3XBpONq"
      },
      "source": [
        "## B - Various distances"
      ]
    },
    {
      "cell_type": "code",
      "metadata": {
        "colab": {
          "base_uri": "https://localhost:8080/"
        },
        "id": "_25uc0VIo7wC",
        "outputId": "a63ca8f4-8e30-46c4-a99c-17b7d91c96cb"
      },
      "source": [
        "n = int(input())\n",
        "x_lsit = list(map(int, input().split()))\n",
        "\n",
        "manhattan = 0\n",
        "euclid = 0\n",
        "chebyshev_list = []\n",
        "\n",
        "for x in x_lsit:\n",
        "  manhattan += abs(x)\n",
        "  euclid += x ** 2\n",
        "  chebyshev_list.append(abs(x))\n",
        "\n",
        "print(manhattan)\n",
        "print(euclid ** 0.5)\n",
        "print(max(chebyshev_list))"
      ],
      "execution_count": 2,
      "outputs": [
        {
          "output_type": "stream",
          "text": [
            "2\n",
            "2 -1\n",
            "3\n",
            "2.23606797749979\n",
            "2\n"
          ],
          "name": "stdout"
        }
      ]
    },
    {
      "cell_type": "markdown",
      "metadata": {
        "id": "-Li_yrdIqRu0"
      },
      "source": [
        "## C - Cream puff"
      ]
    },
    {
      "cell_type": "code",
      "metadata": {
        "colab": {
          "base_uri": "https://localhost:8080/"
        },
        "id": "0xFiQ_vfqNm4",
        "outputId": "54b4f9de-1f43-4053-c55e-31a3a56e02d3"
      },
      "source": [
        "n = int(input())\n",
        "ans_list = []\n",
        "\n",
        "i = 1\n",
        "\n",
        "while i ** 2 <= n:\n",
        "  if n % i == 0:\n",
        "    if i ** 2 != n:\n",
        "      ans_list.append(i)\n",
        "      ans_list.append(n // i)\n",
        "    else:\n",
        "      ans_list.append(i)\n",
        "  i += 1\n",
        "\n",
        "ans_list.sort()\n",
        "\n",
        "for ans in ans_list:\n",
        "  print(ans)"
      ],
      "execution_count": 6,
      "outputs": [
        {
          "output_type": "stream",
          "text": [
            "4\n",
            "1\n",
            "2\n",
            "4\n"
          ],
          "name": "stdout"
        }
      ]
    },
    {
      "cell_type": "markdown",
      "metadata": {
        "id": "ZD50wK0Trd1E"
      },
      "source": [
        "## D - Takahashi Unevolved"
      ]
    },
    {
      "cell_type": "code",
      "metadata": {
        "id": "BY_DJedPqzXz"
      },
      "source": [
        "x, y, a, b = map(int, input().split())\n"
      ],
      "execution_count": null,
      "outputs": []
    }
  ]
}