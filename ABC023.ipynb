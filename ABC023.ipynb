{
 "cells": [
  {
   "cell_type": "markdown",
   "metadata": {},
   "source": [
    "## A - 加算王"
   ]
  },
  {
   "cell_type": "code",
   "execution_count": 1,
   "metadata": {},
   "outputs": [
    {
     "name": "stdout",
     "output_type": "stream",
     "text": [
      "34\n",
      "7\n"
     ]
    }
   ],
   "source": [
    "x = input()\n",
    "ans = sum(map(int, list(x)))\n",
    "print(ans)"
   ]
  },
  {
   "cell_type": "markdown",
   "metadata": {},
   "source": [
    "## B - 手芸王"
   ]
  },
  {
   "cell_type": "code",
   "execution_count": 32,
   "metadata": {},
   "outputs": [
    {
     "name": "stdout",
     "output_type": "stream",
     "text": [
      "3\n",
      "abc\n",
      "1\n"
     ]
    }
   ],
   "source": [
    "# b, abc, cabca, bcabcab, abcabcabc, cabcabcabca\n",
    "n = int(input())\n",
    "s = input()\n",
    "\n",
    "if n % 2 != 1:\n",
    "    ans = -1\n",
    "else:\n",
    "    # 何番目か\n",
    "    words_num = (n + 1) // 2\n",
    "\n",
    "    if words_num % 3 ==0:\n",
    "        word = 'ca' + 'bca' * (((words_num // 3) - 1) * 2 + 1)\n",
    "    elif words_num % 3 ==1:\n",
    "        word = 'b' + 'cab' * (words_num // 3) * 2\n",
    "    else:\n",
    "        word = 'abc' * ((words_num // 3) * 2 + 1)\n",
    "    \n",
    "    ans = words_num - 1 if s == word else -1\n",
    "\n",
    "print(ans)"
   ]
  },
  {
   "cell_type": "markdown",
   "metadata": {},
   "source": [
    "## C - 収集王"
   ]
  },
  {
   "cell_type": "code",
   "execution_count": 46,
   "metadata": {},
   "outputs": [
    {
     "name": "stdout",
     "output_type": "stream",
     "text": [
      "3 5 3\n",
      "5\n",
      "1 2\n",
      "2 1\n",
      "2 5\n",
      "3 2\n",
      "3 5\n",
      "5\n"
     ]
    }
   ],
   "source": [
    "# 未実装\n",
    "\n",
    "r, c, k = map(int, input().split())\n",
    "n = int(input())\n",
    "candy_list = [list(map(int, input().split())) for _ in range(n)]\n",
    "\n",
    "r_candy_cnt = [0] * r\n",
    "c_candy_cnt = [0] * c\n",
    "\n",
    "ans = 0\n",
    "\n",
    "for candy in candy_list:\n",
    "    r_candy_cnt[candy[0] - 1] += 1\n",
    "    c_candy_cnt[candy[1] - 1] += 1\n",
    "\n",
    "for i in range(1, k+1):\n",
    "    ans += r_candy_cnt.count(i) * r_candy_cnt.count(k-i)\n",
    "    \n",
    "# print('ans', ans)\n",
    "\n",
    "ans_same_candy_position_minus = 0\n",
    "ans_same_candy_position_plus = 0\n",
    "\n",
    "for candy in candy_list:\n",
    "    if r_candy_cnt[candy[0] - 1] + c_candy_cnt[candy[1] - 1] == k:\n",
    "        ans_same_candy_position_minus += 1\n",
    "    if r_candy_cnt[candy[0] - 1] + c_candy_cnt[candy[1] - 1] == k + 1:\n",
    "        ans_same_candy_position_plus += 1\n",
    "        \n",
    "# print('ans_same_candy_position_minus', ans_same_candy_position_minus)\n",
    "# print('ans_same_candy_position_plus', ans_same_candy_position_plus)\n",
    "\n",
    "ans = max(ans - ans_same_candy_position_minus, 0) + ans_same_candy_position_plus\n",
    "\n",
    "print(ans)"
   ]
  },
  {
   "cell_type": "markdown",
   "metadata": {},
   "source": [
    "## D - 射撃王"
   ]
  },
  {
   "cell_type": "code",
   "execution_count": 73,
   "metadata": {},
   "outputs": [
    {
     "name": "stdout",
     "output_type": "stream",
     "text": [
      "6\n",
      "1 30\n",
      "100 1\n",
      "100 1\n",
      "100 1\n",
      "100 1\n",
      "100 1\n",
      "105\n"
     ]
    }
   ],
   "source": [
    "from math import ceil\n",
    "\n",
    "\n",
    "n = int(input())\n",
    "balloon_list = [list(map(int, input().split())) for _ in range(n)]\n",
    "\n",
    "balloon_position = []\n",
    "balloon_speed = []\n",
    "\n",
    "for balloon in balloon_list:\n",
    "    balloon_position.append(balloon[0])\n",
    "    balloon_speed.append(balloon[1])\n",
    "\n",
    "ans_low = max(balloon_position)\n",
    "ans_high = max(balloon_position) + max(balloon_speed) * (n - 1)\n",
    "\n",
    "while ans_low <= ans_high:\n",
    "    ans_mid = (ans_low + ans_high) // 2\n",
    "    \n",
    "    time_limit = sorted([(ans_mid - balloon_position[p]) // balloon_speed[p] for p in range(n)])\n",
    "#     print(time_limit)\n",
    "    flag_list = [time_limit[t] < t for t in range(n)]\n",
    "        \n",
    "    if any(flag_list):\n",
    "        ans_low = ans_mid + 1\n",
    "        flag = False\n",
    "    else:\n",
    "        ans_high = ans_mid - 1\n",
    "        flag = True\n",
    "        \n",
    "#     print(flag, ans_low, ans_mid, ans_high)\n",
    "        \n",
    "ans = ans_mid if flag else ans_mid + 1\n",
    "\n",
    "print(ans)"
   ]
  },
  {
   "cell_type": "code",
   "execution_count": null,
   "metadata": {},
   "outputs": [],
   "source": []
  },
  {
   "cell_type": "code",
   "execution_count": null,
   "metadata": {},
   "outputs": [],
   "source": []
  }
 ],
 "metadata": {
  "kernelspec": {
   "display_name": "Python 3",
   "language": "python",
   "name": "python3"
  },
  "language_info": {
   "codemirror_mode": {
    "name": "ipython",
    "version": 3
   },
   "file_extension": ".py",
   "mimetype": "text/x-python",
   "name": "python",
   "nbconvert_exporter": "python",
   "pygments_lexer": "ipython3",
   "version": "3.7.4"
  }
 },
 "nbformat": 4,
 "nbformat_minor": 4
}
