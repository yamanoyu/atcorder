{
  "nbformat": 4,
  "nbformat_minor": 0,
  "metadata": {
    "colab": {
      "name": "ABC158.ipynb",
      "provenance": [],
      "collapsed_sections": [],
      "authorship_tag": "ABX9TyNGjBdnAmXHWa7/kt0m1VX+",
      "include_colab_link": true
    },
    "kernelspec": {
      "name": "python3",
      "display_name": "Python 3"
    }
  },
  "cells": [
    {
      "cell_type": "markdown",
      "metadata": {
        "id": "view-in-github",
        "colab_type": "text"
      },
      "source": [
        "<a href=\"https://colab.research.google.com/github/yamanoyu/atcorder/blob/master/ABC158.ipynb\" target=\"_parent\"><img src=\"https://colab.research.google.com/assets/colab-badge.svg\" alt=\"Open In Colab\"/></a>"
      ]
    },
    {
      "cell_type": "markdown",
      "metadata": {
        "id": "GvE9qMir2len"
      },
      "source": [
        "## A - Station and Bus"
      ]
    },
    {
      "cell_type": "code",
      "metadata": {
        "colab": {
          "base_uri": "https://localhost:8080/"
        },
        "id": "1mshc4bY2cyj",
        "outputId": "ab2c61d0-cc9b-409f-cd75-c1dc0e4fad30"
      },
      "source": [
        "s = input()\n",
        "ans = 'No' if s == 'AAA' or s == 'BBB' else 'Yes'\n",
        "print(ans)"
      ],
      "execution_count": 1,
      "outputs": [
        {
          "output_type": "stream",
          "text": [
            "BBB\n",
            "No\n"
          ],
          "name": "stdout"
        }
      ]
    },
    {
      "cell_type": "markdown",
      "metadata": {
        "id": "WRRaau6X3CR7"
      },
      "source": [
        "## B - Count Balls"
      ]
    },
    {
      "cell_type": "code",
      "metadata": {
        "colab": {
          "base_uri": "https://localhost:8080/"
        },
        "id": "NXdaVS8J2l7i",
        "outputId": "5430ed6d-6f07-4d48-caf5-c553fbc1006b"
      },
      "source": [
        "n, a, b = map(int, input().split())\n",
        "ans = n // (a + b) * a + min(n % (a + b), a)\n",
        "print(ans)"
      ],
      "execution_count": 10,
      "outputs": [
        {
          "output_type": "stream",
          "text": [
            "858448643684243520 899 914\n",
            "425673100205259458\n"
          ],
          "name": "stdout"
        }
      ]
    },
    {
      "cell_type": "markdown",
      "metadata": {
        "id": "s7kJz4R7459f"
      },
      "source": [
        "## C - Tax Increase"
      ]
    },
    {
      "cell_type": "code",
      "metadata": {
        "colab": {
          "base_uri": "https://localhost:8080/"
        },
        "id": "4ETiu_UW4HCM",
        "outputId": "7d05ba29-36cc-41a1-c3f1-1a9cc3fea292"
      },
      "source": [
        "import math\n",
        "\n",
        "\n",
        "a, b = map(int, input().split())\n",
        "\n",
        "e = 0\n",
        "for i in range(10101):\n",
        "  if math.floor(i * 0.08) == a and math.floor(i * 0.1) == b:\n",
        "    e = 1\n",
        "    break\n",
        "\n",
        "ans = i if e == 1 else -1\n",
        "print(ans)"
      ],
      "execution_count": 16,
      "outputs": [
        {
          "output_type": "stream",
          "text": [
            "19 99\n",
            "-1\n"
          ],
          "name": "stdout"
        }
      ]
    },
    {
      "cell_type": "markdown",
      "metadata": {
        "id": "yW46T1ir6SpX"
      },
      "source": [
        "## D - String Formation"
      ]
    },
    {
      "cell_type": "code",
      "metadata": {
        "colab": {
          "base_uri": "https://localhost:8080/"
        },
        "id": "orqGrk7i5kaj",
        "outputId": "25fa2fd3-d0e5-4c93-c042-e95f2f915d3c"
      },
      "source": [
        "# TLE\n",
        "s = input()\n",
        "q = int(input())\n",
        "\n",
        "r_cnt = 0\n",
        "\n",
        "for _ in range(q):\n",
        "  query = list(input().split())\n",
        "  if query[0] == '1':\n",
        "    r_cnt += 1\n",
        "  else:\n",
        "    if r_cnt % 2 != 0:\n",
        "      s = ''.join([n for n in reversed(list(s))])\n",
        "    r_cnt = 0\n",
        "    if query[1] == '1':\n",
        "      s = query[2] + s\n",
        "    else:\n",
        "      s = s + query[2]\n",
        "\n",
        "ans = s if r_cnt % 2 == 0 else ''.join([n for n in reversed(list(s))])\n",
        "print(ans)"
      ],
      "execution_count": 27,
      "outputs": [
        {
          "output_type": "stream",
          "text": [
            "a\n",
            "4\n",
            "2 1 p\n",
            "1\n",
            "2 2 c\n",
            "1\n",
            "apc\n"
          ],
          "name": "stdout"
        }
      ]
    }
  ]
}