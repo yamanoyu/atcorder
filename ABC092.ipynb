{
  "nbformat": 4,
  "nbformat_minor": 0,
  "metadata": {
    "colab": {
      "name": "ABC092.ipynb",
      "provenance": [],
      "collapsed_sections": [],
      "authorship_tag": "ABX9TyN8IhttWHgztv7ZxJGY0R8a",
      "include_colab_link": true
    },
    "kernelspec": {
      "name": "python3",
      "display_name": "Python 3"
    }
  },
  "cells": [
    {
      "cell_type": "markdown",
      "metadata": {
        "id": "view-in-github",
        "colab_type": "text"
      },
      "source": [
        "<a href=\"https://colab.research.google.com/github/yamanoyu/atcorder/blob/master/ABC092.ipynb\" target=\"_parent\"><img src=\"https://colab.research.google.com/assets/colab-badge.svg\" alt=\"Open In Colab\"/></a>"
      ]
    },
    {
      "cell_type": "markdown",
      "metadata": {
        "id": "NtKSCGSqGXro"
      },
      "source": [
        "## A - Traveling Budget"
      ]
    },
    {
      "cell_type": "code",
      "metadata": {
        "colab": {
          "base_uri": "https://localhost:8080/"
        },
        "id": "rPj4GAYmtSQD",
        "outputId": "07a7cbed-5547-4d84-8cc3-a1e2ecd84fd6"
      },
      "source": [
        "a = int(input())\n",
        "b = int(input())\n",
        "c = int(input())\n",
        "d = int(input())\n",
        "\n",
        "ans = min(a, b) + min(c, d)\n",
        "print(ans)"
      ],
      "execution_count": 1,
      "outputs": [
        {
          "output_type": "stream",
          "text": [
            "2\n",
            "1\n",
            "3\n",
            "4\n",
            "4\n"
          ],
          "name": "stdout"
        }
      ]
    },
    {
      "cell_type": "markdown",
      "metadata": {
        "id": "iDHPfJFjGt5m"
      },
      "source": [
        "## B - Chocolate"
      ]
    },
    {
      "cell_type": "code",
      "metadata": {
        "colab": {
          "base_uri": "https://localhost:8080/"
        },
        "id": "ZG0v6nzuGZ9_",
        "outputId": "5da830cf-3160-44e1-bfe0-bf93af7348d4"
      },
      "source": [
        "n = int(input())\n",
        "d, x = map(int, input().split())\n",
        "\n",
        "ans = x\n",
        "\n",
        "for _ in range(n):\n",
        "  a = int(input())\n",
        "  i = 0\n",
        "  while i * a + 1 <= d:\n",
        "    ans += 1\n",
        "    i += 1\n",
        "print(ans)"
      ],
      "execution_count": 4,
      "outputs": [
        {
          "output_type": "stream",
          "text": [
            "3\n",
            "7 1\n",
            "2\n",
            "5\n",
            "10\n",
            "8\n"
          ],
          "name": "stdout"
        }
      ]
    },
    {
      "cell_type": "markdown",
      "metadata": {
        "id": "mgzOY5wIHlS4"
      },
      "source": [
        "## C - Traveling Plan"
      ]
    },
    {
      "cell_type": "code",
      "metadata": {
        "colab": {
          "base_uri": "https://localhost:8080/"
        },
        "id": "ttpaImYnHV72",
        "outputId": "b95935bb-791c-4143-ece0-b1e67bd7299a"
      },
      "source": [
        "n = int(input())\n",
        "a_list = list(map(int, input().split()))\n",
        "\n",
        "complete_plan = abs(a_list[0]) + abs(a_list[-1])\n",
        "for i in range(1, n):\n",
        "  complete_plan += abs(a_list[i] - a_list[i - 1])\n",
        "\n",
        "for j in range(n):\n",
        "  if j == 0:\n",
        "    ans = complete_plan + abs(a_list[j + 1]) - abs(a_list[j]) - abs(a_list[j + 1] - a_list[j])\n",
        "  elif j == n - 1:\n",
        "    ans = complete_plan + abs(a_list[j - 1]) - abs(a_list[j] - a_list[j - 1]) - abs(a_list[j])\n",
        "  else:\n",
        "    ans = complete_plan + abs(a_list[j + 1] - a_list[j - 1]) - abs(a_list[j] - a_list[j - 1]) - abs(a_list[j + 1] - a_list[j])\n",
        "\n",
        "  print(ans)"
      ],
      "execution_count": 11,
      "outputs": [
        {
          "output_type": "stream",
          "text": [
            "5\n",
            "1 1 1 2 0\n",
            "4\n",
            "4\n",
            "4\n",
            "2\n",
            "4\n"
          ],
          "name": "stdout"
        }
      ]
    },
    {
      "cell_type": "markdown",
      "metadata": {
        "id": "37ypk2gWLxFc"
      },
      "source": [
        "## D - Grid Components"
      ]
    },
    {
      "cell_type": "code",
      "metadata": {
        "id": "cIakeXGPK-Sj"
      },
      "source": [
        ""
      ],
      "execution_count": null,
      "outputs": []
    }
  ]
}