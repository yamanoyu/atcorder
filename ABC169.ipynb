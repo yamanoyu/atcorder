{
  "nbformat": 4,
  "nbformat_minor": 0,
  "metadata": {
    "colab": {
      "name": "ABC169.ipynb",
      "provenance": [],
      "collapsed_sections": [],
      "authorship_tag": "ABX9TyNkqIXohPflYhN8trov7ZA6",
      "include_colab_link": true
    },
    "kernelspec": {
      "name": "python3",
      "display_name": "Python 3"
    }
  },
  "cells": [
    {
      "cell_type": "markdown",
      "metadata": {
        "id": "view-in-github",
        "colab_type": "text"
      },
      "source": [
        "<a href=\"https://colab.research.google.com/github/yamanoyu/atcorder/blob/master/ABC169.ipynb\" target=\"_parent\"><img src=\"https://colab.research.google.com/assets/colab-badge.svg\" alt=\"Open In Colab\"/></a>"
      ]
    },
    {
      "cell_type": "markdown",
      "metadata": {
        "id": "-oYX35gmmYu2"
      },
      "source": [
        "## A - Multiplication 1"
      ]
    },
    {
      "cell_type": "code",
      "metadata": {
        "id": "JwvG-tjUmWXf"
      },
      "source": [
        "a, b = map(int, input().split())\n",
        "ans = a * b\n",
        "print(ans)"
      ],
      "execution_count": null,
      "outputs": []
    },
    {
      "cell_type": "markdown",
      "metadata": {
        "id": "vVneAbf2m6T4"
      },
      "source": [
        "## B - Multiplication 2"
      ]
    },
    {
      "cell_type": "code",
      "metadata": {
        "colab": {
          "base_uri": "https://localhost:8080/"
        },
        "id": "71ThDkDUmZE7",
        "outputId": "af2556ed-f4cd-497c-95d0-53e8521ed11c"
      },
      "source": [
        "n = int(input())\n",
        "a_list = list(map(int, input().split()))\n",
        "\n",
        "if 0 not in a_list:\n",
        "  ans = 1\n",
        "  for a in a_list:\n",
        "    ans *= a\n",
        "    if ans > 10 ** 18:\n",
        "      ans = -1\n",
        "      break \n",
        "else:\n",
        "  ans = 0\n",
        "\n",
        "print(ans)"
      ],
      "execution_count": 6,
      "outputs": [
        {
          "output_type": "stream",
          "text": [
            "1\n",
            "1\n",
            "1\n"
          ],
          "name": "stdout"
        }
      ]
    },
    {
      "cell_type": "markdown",
      "metadata": {
        "id": "vvlpEV6cnvrF"
      },
      "source": [
        "## C - Multiplication 3"
      ]
    },
    {
      "cell_type": "code",
      "metadata": {
        "colab": {
          "base_uri": "https://localhost:8080/"
        },
        "id": "Mzz_Y0N_nR8W",
        "outputId": "32f90ab3-298e-4bda-df53-25f6d6eb7e62"
      },
      "source": [
        "a, b = input().split()\n",
        "ans = (int(a) * int(b[0] + b[2] + b[3])) // 100\n",
        "print(ans)"
      ],
      "execution_count": 11,
      "outputs": [
        {
          "output_type": "stream",
          "text": [
            "3 0.23\n",
            "0\n"
          ],
          "name": "stdout"
        }
      ]
    },
    {
      "cell_type": "markdown",
      "metadata": {
        "id": "9Ezt_XOWo9HN"
      },
      "source": [
        "## D - Div Game"
      ]
    },
    {
      "cell_type": "code",
      "metadata": {
        "colab": {
          "base_uri": "https://localhost:8080/"
        },
        "id": "dqXb_LeAoCp3",
        "outputId": "ab31fc0c-96e4-4157-b69b-a231b13f36e0"
      },
      "source": [
        "n = int(input())\n",
        "\n",
        "\n",
        "def factorization(n):\n",
        "  # 素因数分解 その2\n",
        "  # prime_factorization(24) の場合 [[2, 3], [3, 1]] (s^3 * 3^1)を返す\n",
        "  if n == 1: return []\n",
        "  factorization_list = []\n",
        "  i = 2\n",
        "  _n = n\n",
        "  while i ** 2 <= n:\n",
        "    cnt = 0\n",
        "    while _n % i == 0:\n",
        "      cnt += 1\n",
        "      _n //= i\n",
        "    factorization_list.append([i, cnt])\n",
        "    i += 1\n",
        "  \n",
        "  if _n != 1: factorization_list.append([_n, 1])\n",
        "  if factorization_list == []: factorization_list.append([n, 1])\n",
        "\n",
        "  return factorization_list\n",
        "\n",
        "def sumup(n):\n",
        "  r = 0\n",
        "  while (r + 1) * (r + 2) // 2 <= n:\n",
        "    r += 1\n",
        "  return r\n",
        "\n",
        "\n",
        "ans = 0\n",
        "\n",
        "factorization_list = factorization(n)\n",
        "for _, factorization in factorization_list:\n",
        "  if factorization != 0:\n",
        "    ans += sumup(factorization)\n",
        "  \n",
        "print(ans)"
      ],
      "execution_count": 39,
      "outputs": [
        {
          "output_type": "stream",
          "text": [
            "997764507000\n",
            "2 3 2\n",
            "3 3 4\n",
            "5 3 6\n",
            "6079 2 7\n",
            "7\n"
          ],
          "name": "stdout"
        }
      ]
    },
    {
      "cell_type": "code",
      "metadata": {
        "id": "tZg40-Hrtwhs"
      },
      "source": [
        ""
      ],
      "execution_count": null,
      "outputs": []
    }
  ]
}