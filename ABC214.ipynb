{
  "nbformat": 4,
  "nbformat_minor": 0,
  "metadata": {
    "colab": {
      "name": "ABC214.ipynb",
      "provenance": [],
      "collapsed_sections": [],
      "authorship_tag": "ABX9TyOGIrafg+Uy3pJtWIb/gnHe",
      "include_colab_link": true
    },
    "kernelspec": {
      "name": "python3",
      "display_name": "Python 3"
    },
    "language_info": {
      "name": "python"
    }
  },
  "cells": [
    {
      "cell_type": "markdown",
      "metadata": {
        "id": "view-in-github",
        "colab_type": "text"
      },
      "source": [
        "<a href=\"https://colab.research.google.com/github/yamanoyu/atcorder/blob/master/ABC214.ipynb\" target=\"_parent\"><img src=\"https://colab.research.google.com/assets/colab-badge.svg\" alt=\"Open In Colab\"/></a>"
      ]
    },
    {
      "cell_type": "markdown",
      "metadata": {
        "id": "CWFHykCHoAVT"
      },
      "source": [
        "## A - New Generation ABC"
      ]
    },
    {
      "cell_type": "code",
      "metadata": {
        "colab": {
          "base_uri": "https://localhost:8080/"
        },
        "id": "cSq0hBSkhC0s",
        "outputId": "1599d336-9311-4a92-f38a-f23e0558e6d4"
      },
      "source": [
        "n = int(input())\n",
        "if 1 <= n <= 125:\n",
        "  ans = 4\n",
        "elif 126 <= n <= 211:\n",
        "  ans = 6\n",
        "else:\n",
        "  ans = 8\n",
        "\n",
        "print(ans)"
      ],
      "execution_count": null,
      "outputs": [
        {
          "output_type": "stream",
          "text": [
            "214\n",
            "8\n"
          ],
          "name": "stdout"
        }
      ]
    },
    {
      "cell_type": "markdown",
      "metadata": {
        "id": "oZBzVaiHoCJV"
      },
      "source": [
        "## B - How many?"
      ]
    },
    {
      "cell_type": "code",
      "metadata": {
        "colab": {
          "base_uri": "https://localhost:8080/"
        },
        "id": "xjgQ42GniZHf",
        "outputId": "3e8d5bfa-1b3d-4c5a-e380-08a23f3e394b"
      },
      "source": [
        "s, t = map(int, input().split())\n",
        "\n",
        "ans = 0\n",
        "\n",
        "for i in range(s + 1):\n",
        "  for j in range(s + 1 - i):\n",
        "    for k in range(s + 1 - i - j):\n",
        "      if i * j * k <= t:\n",
        "        ans += 1\n",
        "\n",
        "print(ans)"
      ],
      "execution_count": null,
      "outputs": [
        {
          "output_type": "stream",
          "text": [
            "30 100\n",
            "2471\n"
          ],
          "name": "stdout"
        }
      ]
    },
    {
      "cell_type": "markdown",
      "metadata": {
        "id": "HTxvhweUoE2Z"
      },
      "source": [
        "## C - Distribution"
      ]
    },
    {
      "cell_type": "code",
      "metadata": {
        "colab": {
          "base_uri": "https://localhost:8080/"
        },
        "id": "Clp_C8ysi2jP",
        "outputId": "d810784b-9a00-4397-d250-a017bc433468"
      },
      "source": [
        "n = int(input())\n",
        "s_list = list(map(int, input().split()))\n",
        "t_list = list(map(int, input().split()))\n",
        "\n",
        "INF = float('inf')\n",
        "tmp = INF\n",
        "ans_list = [INF] * n\n",
        "\n",
        "for i in range(n):\n",
        "  if i == 0:\n",
        "    ans_list[i] = min(t_list[i], ans_list[-1] + s_list[i - 1])\n",
        "  else:\n",
        "    ans_list[i] = min(t_list[i], ans_list[i - 1] + s_list[i - 1])\n",
        "\n",
        "for i in range(n):\n",
        "  if i == 0:\n",
        "    ans_list[i] = min(t_list[i], ans_list[-1] + s_list[i - 1])\n",
        "  else:\n",
        "    ans_list[i] = min(t_list[i], ans_list[i - 1] + s_list[i - 1])\n",
        "\n",
        "for ans in ans_list:\n",
        "  print(ans)"
      ],
      "execution_count": null,
      "outputs": [
        {
          "output_type": "stream",
          "text": [
            "3\n",
            "4 1 5\n",
            "10001111 10 100\n",
            "105\n",
            "10\n",
            "11\n"
          ],
          "name": "stdout"
        }
      ]
    },
    {
      "cell_type": "markdown",
      "metadata": {
        "id": "kWE4IF_moN_z"
      },
      "source": [
        "## D - Sum of Maximum Weights"
      ]
    },
    {
      "cell_type": "code",
      "metadata": {
        "id": "RVpqaRj5qnBX"
      },
      "source": [
        "# WA\n",
        "\n",
        "import sys\n",
        "\n",
        "\n",
        "sys.setrecursionlimit(1000000)\n",
        "\n",
        "\n",
        "n = int(input())\n",
        "\n",
        "tree = [[] for _ in range(n)]\n",
        "weight_list = []\n",
        "\n",
        "for _ in range(n - 1):\n",
        "  u, v, w = map(int, input().split())\n",
        "  tree[u - 1].append(v - 1)\n",
        "  tree[v - 1].append(u - 1)\n",
        "  weight_list.append((w, u - 1, v - 1))\n",
        "\n",
        "cildren_num = [1] * n\n",
        "\n",
        "def dfs(now, pre):\n",
        "  for i in tree[now]:\n",
        "    if i != pre:\n",
        "      dfs(i, now)\n",
        "      cildren_num[now] += cildren_num[i]\n",
        "\n",
        "dfs(0, -1)\n",
        "\n",
        "print(cildren_num)"
      ],
      "execution_count": null,
      "outputs": []
    },
    {
      "cell_type": "code",
      "metadata": {
        "colab": {
          "base_uri": "https://localhost:8080/"
        },
        "id": "XXoig-viIctQ",
        "outputId": "bf8fa049-aa7b-4ac2-f5ac-0a23a9dd4146"
      },
      "source": [
        "n = int(input())\n",
        "\n",
        "uvw_list = []\n",
        "for _ in range(n - 1):\n",
        "  u, v, w = map(int, input().split())\n",
        "  uvw_list.append([u - 1, v - 1, w])\n",
        "\n",
        "uvw_list_sort = sorted(uvw_list, key=lambda x: x[2])\n",
        "\n",
        "\n",
        "class UnionFind:\n",
        "    # if x is root: self.parents[x] = - (the number of the group nodes)\n",
        "    # else: self.parents[x] = the parent of x\n",
        "    def __init__(self, n):\n",
        "        self.n = n\n",
        "        self.parents = [-1] * n\n",
        " \n",
        "    # return the parent of x\n",
        "    def find(self, x):\n",
        "        history = []\n",
        "        while self.parents[x] >= 0:\n",
        "            history.append(x)\n",
        "            x = self.parents[x]\n",
        "        for node in history:\n",
        "            self.parents[node] = x\n",
        "        return x\n",
        " \n",
        "    # merge the group of x and the group of y\n",
        "    def union(self, x, y):\n",
        "        x = self.find(x)\n",
        "        y = self.find(y)\n",
        "        if x == y:\n",
        "            return\n",
        "        if self.parents[x] > self.parents[y]:\n",
        "            x, y = y, x\n",
        "        self.parents[x] += self.parents[y]\n",
        "        self.parents[y] = x\n",
        " \n",
        "    # return the size of the group of x\n",
        "    def size(self, x):\n",
        "        return -self.parents[self.find(x)]\n",
        " \n",
        "    # return whether x and y in a same group\n",
        "    def same(self, x, y):\n",
        "        return self.find(x) == self.find(y)\n",
        " \n",
        "    # return [all roots]\n",
        "    # O(n)\n",
        "    def roots(self):\n",
        "        return [i for i, x in enumerate(self.parents) if x < 0]\n",
        " \n",
        "    # return the number of groups\n",
        "    # O(n)\n",
        "    def group_count(self):\n",
        "        return len(self.roots())\n",
        "\n",
        "\n",
        "ans = 0\n",
        "\n",
        "uf = UnionFind(n)\n",
        "\n",
        "for u, v, w in uvw_list_sort:\n",
        "  ans += uf.size(u) * uf.size(v) * w\n",
        "  uf.union(u, v)\n",
        "\n",
        "print(ans)"
      ],
      "execution_count": 7,
      "outputs": [
        {
          "output_type": "stream",
          "text": [
            "3\n",
            "1 2 10\n",
            "2 3 20\n",
            "50\n"
          ],
          "name": "stdout"
        }
      ]
    },
    {
      "cell_type": "code",
      "metadata": {
        "id": "w0d45sVaJyjz"
      },
      "source": [
        ""
      ],
      "execution_count": null,
      "outputs": []
    }
  ]
}