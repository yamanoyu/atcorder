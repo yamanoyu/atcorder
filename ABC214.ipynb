{
  "nbformat": 4,
  "nbformat_minor": 0,
  "metadata": {
    "colab": {
      "name": "ABC214.ipynb",
      "provenance": [],
      "authorship_tag": "ABX9TyPwmkpMxUNnquj+mvA8hhhW",
      "include_colab_link": true
    },
    "kernelspec": {
      "name": "python3",
      "display_name": "Python 3"
    },
    "language_info": {
      "name": "python"
    }
  },
  "cells": [
    {
      "cell_type": "markdown",
      "metadata": {
        "id": "view-in-github",
        "colab_type": "text"
      },
      "source": [
        "<a href=\"https://colab.research.google.com/github/yamanoyu/atcorder/blob/master/ABC214.ipynb\" target=\"_parent\"><img src=\"https://colab.research.google.com/assets/colab-badge.svg\" alt=\"Open In Colab\"/></a>"
      ]
    },
    {
      "cell_type": "code",
      "metadata": {
        "colab": {
          "base_uri": "https://localhost:8080/"
        },
        "id": "FqlGTG5fg-eJ",
        "outputId": "715ff81e-742f-4a64-f63c-aeac5f22d5a6"
      },
      "source": [
        "input()\n",
        "map(int, input().split())"
      ],
      "execution_count": 1,
      "outputs": [
        {
          "output_type": "stream",
          "text": [
            "1\n",
            "1 1\n"
          ],
          "name": "stdout"
        },
        {
          "output_type": "execute_result",
          "data": {
            "text/plain": [
              "<map at 0x7f7318d4b0d0>"
            ]
          },
          "metadata": {
            "tags": []
          },
          "execution_count": 1
        }
      ]
    },
    {
      "cell_type": "code",
      "metadata": {
        "colab": {
          "base_uri": "https://localhost:8080/"
        },
        "id": "cSq0hBSkhC0s",
        "outputId": "1599d336-9311-4a92-f38a-f23e0558e6d4"
      },
      "source": [
        "n = int(input())\n",
        "if 1 <= n <= 125:\n",
        "  ans = 4\n",
        "elif 126 <= n <= 211:\n",
        "  ans = 6\n",
        "else:\n",
        "  ans = 8\n",
        "\n",
        "print(ans)"
      ],
      "execution_count": 2,
      "outputs": [
        {
          "output_type": "stream",
          "text": [
            "214\n",
            "8\n"
          ],
          "name": "stdout"
        }
      ]
    },
    {
      "cell_type": "code",
      "metadata": {
        "colab": {
          "base_uri": "https://localhost:8080/"
        },
        "id": "xjgQ42GniZHf",
        "outputId": "3e8d5bfa-1b3d-4c5a-e380-08a23f3e394b"
      },
      "source": [
        "s, t = map(int, input().split())\n",
        "\n",
        "ans = 0\n",
        "\n",
        "for i in range(s + 1):\n",
        "  for j in range(s + 1 - i):\n",
        "    for k in range(s + 1 - i - j):\n",
        "      if i * j * k <= t:\n",
        "        ans += 1\n",
        "\n",
        "print(ans)"
      ],
      "execution_count": 5,
      "outputs": [
        {
          "output_type": "stream",
          "text": [
            "30 100\n",
            "2471\n"
          ],
          "name": "stdout"
        }
      ]
    },
    {
      "cell_type": "code",
      "metadata": {
        "colab": {
          "base_uri": "https://localhost:8080/"
        },
        "id": "Clp_C8ysi2jP",
        "outputId": "d810784b-9a00-4397-d250-a017bc433468"
      },
      "source": [
        "n = int(input())\n",
        "s_list = list(map(int, input().split()))\n",
        "t_list = list(map(int, input().split()))\n",
        "\n",
        "INF = float('inf')\n",
        "tmp = INF\n",
        "ans_list = [INF] * n\n",
        "\n",
        "for i in range(n):\n",
        "  if i == 0:\n",
        "    ans_list[i] = min(t_list[i], ans_list[-1] + s_list[i - 1])\n",
        "  else:\n",
        "    ans_list[i] = min(t_list[i], ans_list[i - 1] + s_list[i - 1])\n",
        "\n",
        "for i in range(n):\n",
        "  if i == 0:\n",
        "    ans_list[i] = min(t_list[i], ans_list[-1] + s_list[i - 1])\n",
        "  else:\n",
        "    ans_list[i] = min(t_list[i], ans_list[i - 1] + s_list[i - 1])\n",
        "\n",
        "for ans in ans_list:\n",
        "  print(ans)"
      ],
      "execution_count": 8,
      "outputs": [
        {
          "output_type": "stream",
          "text": [
            "3\n",
            "4 1 5\n",
            "10001111 10 100\n",
            "105\n",
            "10\n",
            "11\n"
          ],
          "name": "stdout"
        }
      ]
    },
    {
      "cell_type": "code",
      "metadata": {
        "id": "7_WhpO9wkIhM"
      },
      "source": [
        "n = int(input())\n",
        "p_list = list(map(int, input().split()))\n",
        "q_list = list(map(int, input().split()))\n",
        "\n",
        "MOD = 10 ** 9 + 7\n",
        "\n",
        "dp = [[0] * n for _ in range(n)]\n",
        "\n",
        "dp[0] = [1] * n\n",
        "dp[0][p_list[0] - 1] = 0\n",
        "dp[0][q_list[0] - 1] = 0\n",
        "\n"
      ],
      "execution_count": null,
      "outputs": []
    },
    {
      "cell_type": "code",
      "metadata": {
        "id": "ltP0zCD1q14N"
      },
      "source": [
        "import sys\n",
        "\n",
        "\n",
        "sys.setrecursionlimit(1000000)\n",
        "\n",
        "n = int(input())\n",
        "tree = [[] for _ in range(n)]\n",
        "\n",
        "for _ in range(n - 1):\n",
        "  a, b = map(int, input().split())\n",
        "  tree[a - 1].append(b - 1)\n",
        "  tree[b - 1].append(a - 1)\n",
        "\n",
        "cildren_num = [1] * n\n",
        "\n",
        "def dfs(now, pre):\n",
        "  for i in tree[now]:\n",
        "    if i != pre:\n",
        "      dfs(i, now)\n",
        "      cildren_num[now] += cildren_num[i]\n",
        "\n",
        "dfs(0, -1)\n",
        "\n",
        "ans = 0\n",
        "for c in cildren_num:\n",
        "  ans += c * (n - c)\n",
        "\n",
        "print(ans)"
      ],
      "execution_count": null,
      "outputs": []
    },
    {
      "cell_type": "code",
      "metadata": {
        "id": "RVpqaRj5qnBX"
      },
      "source": [
        "import sys\n",
        "\n",
        "\n",
        "sys.setrecursionlimit(1000000)\n",
        "\n",
        "\n",
        "n = int(input())\n",
        "\n",
        "tree = [[] for _ in range(n)]\n",
        "weight_list = []\n",
        "\n",
        "for _ in range(n - 1):\n",
        "  u, v, w = map(int, input().split())\n",
        "  tree[u - 1].append(v - 1)\n",
        "  tree[v - 1].append(u - 1)\n",
        "  weight_list.append((w, u - 1, v - 1))\n",
        "\n",
        "cildren_num = [1] * n\n",
        "\n",
        "def dfs(now, pre):\n",
        "  for i in tree[now]:\n",
        "    if i != pre:\n",
        "      dfs(i, now)\n",
        "      cildren_num[now] += cildren_num[i]\n",
        "\n",
        "dfs(0, -1)\n",
        "\n",
        "print(cildren_num)"
      ],
      "execution_count": null,
      "outputs": []
    }
  ]
}