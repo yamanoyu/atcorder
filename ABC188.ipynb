{
  "nbformat": 4,
  "nbformat_minor": 0,
  "metadata": {
    "colab": {
      "name": "ABC188.ipynb",
      "provenance": [],
      "collapsed_sections": [],
      "authorship_tag": "ABX9TyM9XjqfYO9yqc344rGfwWFt",
      "include_colab_link": true
    },
    "kernelspec": {
      "name": "python3",
      "display_name": "Python 3"
    }
  },
  "cells": [
    {
      "cell_type": "markdown",
      "metadata": {
        "id": "view-in-github",
        "colab_type": "text"
      },
      "source": [
        "<a href=\"https://colab.research.google.com/github/yamanoyu/atcorder/blob/master/ABC188.ipynb\" target=\"_parent\"><img src=\"https://colab.research.google.com/assets/colab-badge.svg\" alt=\"Open In Colab\"/></a>"
      ]
    },
    {
      "cell_type": "markdown",
      "metadata": {
        "id": "hMqPFB_6KYoM"
      },
      "source": [
        "## A"
      ]
    },
    {
      "cell_type": "code",
      "metadata": {
        "colab": {
          "base_uri": "https://localhost:8080/"
        },
        "id": "xLO0OPMrKSrf",
        "outputId": "bdb2b4e5-dcd5-4925-9ed5-7f3a0277bdd9"
      },
      "source": [
        "x, y = map(int, input().split())\n",
        "ans = 'Yes' if abs(x - y) < 3 else 'No'\n",
        "print(ans)"
      ],
      "execution_count": 2,
      "outputs": [
        {
          "output_type": "stream",
          "text": [
            "3 5\n",
            "Yes\n"
          ],
          "name": "stdout"
        }
      ]
    },
    {
      "cell_type": "markdown",
      "metadata": {
        "id": "mTMFNU0CKYpc"
      },
      "source": [
        "## B"
      ]
    },
    {
      "cell_type": "code",
      "metadata": {
        "colab": {
          "base_uri": "https://localhost:8080/"
        },
        "id": "iBoQTOr2KajG",
        "outputId": "ec15de62-ae2d-418c-9524-088b17450ebc"
      },
      "source": [
        "n = int(input())\n",
        "a_list = list(map(int, input().split()))\n",
        "b_list = list(map(int, input().split()))\n",
        "\n",
        "_ans = 0\n",
        "for a, b in zip(a_list, b_list):\n",
        "  _ans += a * b\n",
        "\n",
        "ans = 'Yes' if _ans == 0 else 'No'\n",
        "print(ans)"
      ],
      "execution_count": 4,
      "outputs": [
        {
          "output_type": "stream",
          "text": [
            "2\n",
            "4 5\n",
            "-1 -3\n",
            "No\n"
          ],
          "name": "stdout"
        }
      ]
    },
    {
      "cell_type": "markdown",
      "metadata": {
        "id": "Yw2j9f0pKd_M"
      },
      "source": [
        "## C"
      ]
    },
    {
      "cell_type": "code",
      "metadata": {
        "colab": {
          "base_uri": "https://localhost:8080/"
        },
        "id": "zXSghaLQKe8E",
        "outputId": "4bbb5d37-7c34-4bc3-9433-2c8a868327c3"
      },
      "source": [
        "n = int(input())\n",
        "a_list = list(map(int, input().split()))\n",
        "\n",
        "val1 = max(a_list[:(2 ** n)//2])\n",
        "val2 = max(a_list[(2 ** n)//2:])\n",
        "\n",
        "index1 = a_list.index(val1)\n",
        "index2 = a_list.index(val2)\n",
        "\n",
        "ans = index1 + 1 if val1 < val2 else index2 + 1\n",
        "print(ans)"
      ],
      "execution_count": 22,
      "outputs": [
        {
          "output_type": "stream",
          "text": [
            "4\n",
            "6 13 12 5 3 7 10 11 16 9 8 15 2 1 14 4\n",
            "2\n"
          ],
          "name": "stdout"
        }
      ]
    },
    {
      "cell_type": "markdown",
      "metadata": {
        "id": "rOWw3-61KhT1"
      },
      "source": [
        "## D"
      ]
    },
    {
      "cell_type": "code",
      "metadata": {
        "colab": {
          "base_uri": "https://localhost:8080/"
        },
        "id": "l8-6vWuDKhtn",
        "outputId": "bc91017a-ee1c-4d64-8ef4-36a56e947646"
      },
      "source": [
        "# メモリエラー\n",
        "n, c_max = map(int, input().split())\n",
        "ans_list = [0] * (10 ** 9 + 1)\n",
        "\n",
        "for _ in range(n):\n",
        "  a, b, c = map(int, input().split())\n",
        "  for i in range(a, b + 1):\n",
        "    ans_list[i] = min(c_max, ans_list[i] + c)\n",
        "\n",
        "ans = sum(ans_list)\n",
        "print(ans)"
      ],
      "execution_count": 8,
      "outputs": [
        {
          "output_type": "stream",
          "text": [
            "2 6\n",
            "1 2 4\n",
            "2 2 4\n",
            "10\n"
          ],
          "name": "stdout"
        }
      ]
    },
    {
      "cell_type": "code",
      "metadata": {
        "colab": {
          "base_uri": "https://localhost:8080/"
        },
        "id": "W1z_nKRUkFRY",
        "outputId": "c2aa9415-8fb7-4a37-f857-c4e505211447"
      },
      "source": [
        "n, c_max = map(int, input().split())\n",
        "\n",
        "evnt_list = []\n",
        "\n",
        "for _ in range(n):\n",
        "  a, b, c = map(int, input().split())\n",
        "  evnt_list.append([a, c])\n",
        "  evnt_list.append([b + 1, -c])\n",
        "\n",
        "evnt_list.sort()\n",
        "\n",
        "fee_today = 0\n",
        "today = 0\n",
        "ans = 0\n",
        "\n",
        "for day, event in evnt_list:\n",
        "  ans += min(fee_today, c_max) * (day - today)\n",
        "  today = day\n",
        "  fee_today += event\n",
        "\n",
        "print(ans)"
      ],
      "execution_count": 24,
      "outputs": [
        {
          "output_type": "stream",
          "text": [
            "2 6\n",
            "1 2 4\n",
            "2 2 4\n",
            "10\n"
          ],
          "name": "stdout"
        }
      ]
    },
    {
      "cell_type": "markdown",
      "metadata": {
        "id": "Ts-MX4UnR7ir"
      },
      "source": [
        "## F"
      ]
    },
    {
      "cell_type": "code",
      "metadata": {
        "colab": {
          "base_uri": "https://localhost:8080/"
        },
        "id": "TGDaXhm5R8Kl",
        "outputId": "bf79fe2f-19b4-4a72-eec9-e5967a3c7632"
      },
      "source": [
        "# TLE\n",
        "x, y = map(int, input().split())\n",
        "\n",
        "if x == y:\n",
        "  ans = 0\n",
        "elif x > y:\n",
        "  ans = x - y\n",
        "else:\n",
        "  ans_set = {x}\n",
        "  _ans_set = set()\n",
        "  \n",
        "  ans = 0\n",
        "  while y not in ans_set:\n",
        "    for a in ans_set:\n",
        "      _ans_set |= {a + 1, a - 1, a * 2}\n",
        "    ans_set |= _ans_set\n",
        "    ans += 1\n",
        "\n",
        "print(ans)"
      ],
      "execution_count": 23,
      "outputs": [
        {
          "output_type": "stream",
          "text": [
            "7 11\n",
            "3\n"
          ],
          "name": "stdout"
        }
      ]
    },
    {
      "cell_type": "code",
      "metadata": {
        "colab": {
          "base_uri": "https://localhost:8080/"
        },
        "id": "vIkxzhqOoUjp",
        "outputId": "2798f5bd-3506-4a39-cfa2-f4291b63d559"
      },
      "source": [
        "from functools import lru_cache\n",
        "\n",
        "\n",
        "x, y = map(int, input().split())\n",
        "\n",
        "@lru_cache(maxsize=None)\n",
        "def solve(n):\n",
        "  if n % 2 == 1:\n",
        "    if n == 1:\n",
        "      return abs(x - n)\n",
        "    else:\n",
        "      return min(solve((n + 1) // 2) + 2, solve((n - 1) // 2) + 2, abs(x - n))\n",
        "  else:\n",
        "    return min(solve(n // 2) + 1, abs(x - n))\n",
        "\n",
        "ans = solve(y)\n",
        "print(ans)"
      ],
      "execution_count": 26,
      "outputs": [
        {
          "output_type": "stream",
          "text": [
            "3 9\n",
            "3\n"
          ],
          "name": "stdout"
        }
      ]
    }
  ]
}