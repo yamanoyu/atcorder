{
  "nbformat": 4,
  "nbformat_minor": 0,
  "metadata": {
    "colab": {
      "name": "ABC094.ipynb",
      "provenance": [],
      "collapsed_sections": [],
      "authorship_tag": "ABX9TyMoIdj0HcgT5FjrMEixludk",
      "include_colab_link": true
    },
    "kernelspec": {
      "name": "python3",
      "display_name": "Python 3"
    }
  },
  "cells": [
    {
      "cell_type": "markdown",
      "metadata": {
        "id": "view-in-github",
        "colab_type": "text"
      },
      "source": [
        "<a href=\"https://colab.research.google.com/github/yamanoyu/atcorder/blob/master/ABC094.ipynb\" target=\"_parent\"><img src=\"https://colab.research.google.com/assets/colab-badge.svg\" alt=\"Open In Colab\"/></a>"
      ]
    },
    {
      "cell_type": "markdown",
      "metadata": {
        "id": "M2VvNZPR2uMw"
      },
      "source": [
        "## A - Cats and Dogs"
      ]
    },
    {
      "cell_type": "code",
      "metadata": {
        "colab": {
          "base_uri": "https://localhost:8080/"
        },
        "id": "w6rcQflO2rKP",
        "outputId": "310663bc-de84-4231-d128-06e06f915365"
      },
      "source": [
        "a, b, x = map(int, input().split())\n",
        "ans = 'YES' if a + b >= x and a <= x else 'NO'\n",
        "print(ans)"
      ],
      "execution_count": 10,
      "outputs": [
        {
          "output_type": "stream",
          "text": [
            "5 3 2\n",
            "NO\n"
          ],
          "name": "stdout"
        }
      ]
    },
    {
      "cell_type": "markdown",
      "metadata": {
        "id": "yX1hqUaW3cSl"
      },
      "source": [
        "## B - Toll Gates"
      ]
    },
    {
      "cell_type": "code",
      "metadata": {
        "colab": {
          "base_uri": "https://localhost:8080/"
        },
        "id": "bU8D9kK120K_",
        "outputId": "f671ba9f-0a41-4368-d043-83bb43e37911"
      },
      "source": [
        "n, m, x = map(int, input().split())\n",
        "a_list = list(map(int, input().split()))\n",
        "a_list.append(x)\n",
        "a_list.sort()\n",
        "ans = a_list.index(x) if a_list.index(x) <= m - a_list.index(x) else m - a_list.index(x)\n",
        "print(ans)"
      ],
      "execution_count": 8,
      "outputs": [
        {
          "output_type": "stream",
          "text": [
            "5 3 4\n",
            "1 2 3\n",
            "0\n"
          ],
          "name": "stdout"
        }
      ]
    },
    {
      "cell_type": "markdown",
      "metadata": {
        "id": "bfQzjqBa5FtT"
      },
      "source": [
        "## C - Many Medians"
      ]
    },
    {
      "cell_type": "code",
      "metadata": {
        "colab": {
          "base_uri": "https://localhost:8080/"
        },
        "id": "zUMjeG6u4IGp",
        "outputId": "111a4048-671f-496d-c98f-339bf80712a4"
      },
      "source": [
        "n = int(input())\n",
        "x_list = list(map(int, input().split()))\n",
        "x_list_sort = sorted(x_list)\n",
        "middle_val = (x_list_sort[n // 2 - 1], x_list_sort[n // 2])\n",
        "for x in x_list:\n",
        "  if x <= middle_val[0]:\n",
        "    ans = middle_val[1]\n",
        "  elif x >= middle_val[1]:\n",
        "    ans = middle_val[0]\n",
        "  print(ans)"
      ],
      "execution_count": 11,
      "outputs": [
        {
          "output_type": "stream",
          "text": [
            "4\n",
            "2 4 4 3\n",
            "4\n",
            "3\n",
            "3\n",
            "4\n"
          ],
          "name": "stdout"
        }
      ]
    },
    {
      "cell_type": "markdown",
      "metadata": {
        "id": "74HdWVCV68Vi"
      },
      "source": [
        "## D - Binomial Coefficients"
      ]
    },
    {
      "cell_type": "code",
      "metadata": {
        "colab": {
          "base_uri": "https://localhost:8080/"
        },
        "id": "bcUIzvVC6ujS",
        "outputId": "d957e718-a9a0-4a0e-f3f9-8c210015d98d"
      },
      "source": [
        "n = int(input())\n",
        "a_list = list(map(int, input().split()))\n",
        "a_list_max = max(a_list)\n",
        "a_list_max_half = a_list_max / 2\n",
        "diff_a_list_max_half = 10 ** 18\n",
        "ans_list = [str(a_list_max), 'dammy']\n",
        "for a in a_list:\n",
        "  if a != a_list_max and abs(a_list_max_half - a) <= diff_a_list_max_half:\n",
        "    diff_a_list_max_half = abs(a_list_max_half - a)\n",
        "    ans_list[1] = str(a)\n",
        "print(' '.join(ans_list))"
      ],
      "execution_count": 17,
      "outputs": [
        {
          "output_type": "stream",
          "text": [
            "2\n",
            "0 100\n",
            "100 0\n"
          ],
          "name": "stdout"
        }
      ]
    }
  ]
}