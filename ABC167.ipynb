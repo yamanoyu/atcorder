{
  "nbformat": 4,
  "nbformat_minor": 0,
  "metadata": {
    "colab": {
      "name": "ABC167.ipynb",
      "provenance": [],
      "collapsed_sections": [],
      "authorship_tag": "ABX9TyNtG8+UDaSwU5u9Pse0XtFD",
      "include_colab_link": true
    },
    "kernelspec": {
      "name": "python3",
      "display_name": "Python 3"
    }
  },
  "cells": [
    {
      "cell_type": "markdown",
      "metadata": {
        "id": "view-in-github",
        "colab_type": "text"
      },
      "source": [
        "<a href=\"https://colab.research.google.com/github/yamanoyu/atcorder/blob/master/ABC167.ipynb\" target=\"_parent\"><img src=\"https://colab.research.google.com/assets/colab-badge.svg\" alt=\"Open In Colab\"/></a>"
      ]
    },
    {
      "cell_type": "markdown",
      "metadata": {
        "id": "JwpRRZkgrDP5"
      },
      "source": [
        "## A - Registration"
      ]
    },
    {
      "cell_type": "code",
      "metadata": {
        "colab": {
          "base_uri": "https://localhost:8080/"
        },
        "id": "ocYwXMCRq_dM",
        "outputId": "56c66859-f148-4183-ae2c-bf7462e32ea0"
      },
      "source": [
        "s = input()\n",
        "t = input()\n",
        "ans = 'Yes' if s == t[:-1] else 'No'\n",
        "print(ans)"
      ],
      "execution_count": 2,
      "outputs": [
        {
          "output_type": "stream",
          "text": [
            "snuke\n",
            "snekee\n",
            "No\n"
          ],
          "name": "stdout"
        }
      ]
    },
    {
      "cell_type": "markdown",
      "metadata": {
        "id": "pYUvln36r9OR"
      },
      "source": [
        "## B - Easy Linear Programming"
      ]
    },
    {
      "cell_type": "code",
      "metadata": {
        "colab": {
          "base_uri": "https://localhost:8080/"
        },
        "id": "5CEVAK4rrEJh",
        "outputId": "768e6f8a-9616-49a4-be5f-0e662d6c501b"
      },
      "source": [
        "a, b, c, k = map(int, input().split())\n",
        "ans = min(a, k) if k <= a + b else a - (k - (a + b))\n",
        "print(ans)"
      ],
      "execution_count": 5,
      "outputs": [
        {
          "output_type": "stream",
          "text": [
            "2000000000 0 0 2000000000\n",
            "2000000000\n"
          ],
          "name": "stdout"
        }
      ]
    },
    {
      "cell_type": "markdown",
      "metadata": {
        "id": "TWVu2-AKub-9"
      },
      "source": [
        "## C - Skill Up"
      ]
    },
    {
      "cell_type": "code",
      "metadata": {
        "colab": {
          "base_uri": "https://localhost:8080/"
        },
        "id": "M_E5ijr0sXvO",
        "outputId": "d86b2f73-5956-4e0d-cd7d-d802e141def8"
      },
      "source": [
        "n, m, x = map(int, input().split())\n",
        "ca_list = []\n",
        "for _ in range(n):\n",
        "  ca_list.append(list(map(int, input().split())))\n",
        "\n",
        "ans = 10 ** 9\n",
        "\n",
        "for i in range(pow(2, n)):\n",
        "  buy_list = bin(i)[2:].zfill(n)\n",
        "  understood = [0] * m\n",
        "  cost = 0\n",
        "  \n",
        "  for index, b in enumerate(buy_list):\n",
        "    if b == '1':\n",
        "      for c_i, c in enumerate(ca_list[index][1:]):\n",
        "        understood[c_i] += c\n",
        "\n",
        "      cost += ca_list[index][0]\n",
        "  if min(understood) >= x:\n",
        "    ans = min(ans, cost)\n",
        "if ans == 10 ** 9: ans = -1\n",
        "print(ans)"
      ],
      "execution_count": 9,
      "outputs": [
        {
          "output_type": "stream",
          "text": [
            "3 3 10\n",
            "60 2 2 4\n",
            "70 8 7 9\n",
            "50 2 3 9\n",
            "1000000000\n"
          ],
          "name": "stdout"
        }
      ]
    },
    {
      "cell_type": "markdown",
      "metadata": {
        "id": "sJp5Wz9lBgrV"
      },
      "source": [
        "## D - Teleporter"
      ]
    },
    {
      "cell_type": "code",
      "metadata": {
        "colab": {
          "base_uri": "https://localhost:8080/"
        },
        "id": "Uq43cgyS5q8C",
        "outputId": "7dcd3245-b0d7-4a11-8e05-8dd297f5d128"
      },
      "source": [
        "n, k = map(int, input().split())\n",
        "a_list = list(map(int, input().split()))\n",
        "\n",
        "if k <= n:\n",
        "  ans = 1\n",
        "  for _ in range(k):\n",
        "    ans = a_list[ans - 1]\n",
        "\n",
        "else:\n",
        "  town_list = []\n",
        "  visit_list = [0] * n\n",
        "  town = 1\n",
        "  c = 0\n",
        "\n",
        "  while visit_list[town - 1] != 1:\n",
        "    town_list.append(town)\n",
        "    visit_list[town - 1] = 1\n",
        "    town = a_list[town - 1]\n",
        "    c += 1\n",
        "\n",
        "  before_roop = town_list.index(town)\n",
        "  roop = c - before_roop\n",
        "\n",
        "  ans = town_list[before_roop + (k - before_roop) % roop]\n",
        "\n",
        "print(ans)"
      ],
      "execution_count": 21,
      "outputs": [
        {
          "output_type": "stream",
          "text": [
            "5 2\n",
            "2 3 4 5 1\n",
            "3\n"
          ],
          "name": "stdout"
        }
      ]
    }
  ]
}