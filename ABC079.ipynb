{
  "nbformat": 4,
  "nbformat_minor": 0,
  "metadata": {
    "colab": {
      "name": "ABC079.ipynb",
      "provenance": [],
      "collapsed_sections": [],
      "authorship_tag": "ABX9TyN9sOGFHzOxEt0acHHtn+h7",
      "include_colab_link": true
    },
    "kernelspec": {
      "name": "python3",
      "display_name": "Python 3"
    }
  },
  "cells": [
    {
      "cell_type": "markdown",
      "metadata": {
        "id": "view-in-github",
        "colab_type": "text"
      },
      "source": [
        "<a href=\"https://colab.research.google.com/github/yamanoyu/atcorder/blob/master/ABC079.ipynb\" target=\"_parent\"><img src=\"https://colab.research.google.com/assets/colab-badge.svg\" alt=\"Open In Colab\"/></a>"
      ]
    },
    {
      "cell_type": "markdown",
      "metadata": {
        "id": "g_i0VSaabBKT"
      },
      "source": [
        "## A - Good Integer"
      ]
    },
    {
      "cell_type": "code",
      "metadata": {
        "colab": {
          "base_uri": "https://localhost:8080/"
        },
        "id": "0DfRBBeubAE4",
        "outputId": "a02b6959-659d-4c93-e2e2-e8501b7fa11e"
      },
      "source": [
        "n = input()\n",
        "ans = 'Yes' if (n[0] == n[1] and n[1] == n[2]) or (n[1] == n[2] and n[2] == n[3]) else 'No'\n",
        "print(ans)"
      ],
      "execution_count": 2,
      "outputs": [
        {
          "output_type": "stream",
          "text": [
            "1111\n",
            "Yes\n"
          ],
          "name": "stdout"
        }
      ]
    },
    {
      "cell_type": "markdown",
      "metadata": {
        "id": "zL73csESbmO1"
      },
      "source": [
        "## B - Lucas Number"
      ]
    },
    {
      "cell_type": "code",
      "metadata": {
        "colab": {
          "base_uri": "https://localhost:8080/"
        },
        "id": "PpP8DZNQbC1_",
        "outputId": "c56ff06f-2ca5-4e91-c7e9-022608a315d7"
      },
      "source": [
        "n = int(input())\n",
        "\n",
        "fibonacci_list = [2, 1]\n",
        "def fibonacci(x):\n",
        "  try:\n",
        "    return fibonacci_list[x]\n",
        "  except IndexError:\n",
        "    fibonacci_new = fibonacci(x - 1) + fibonacci(x - 2)\n",
        "    fibonacci_list.append(fibonacci_new)\n",
        "    return fibonacci_list[x]\n",
        "\n",
        "ans = fibonacci(n)\n",
        "print(ans)"
      ],
      "execution_count": 20,
      "outputs": [
        {
          "output_type": "stream",
          "text": [
            "5\n",
            "11\n"
          ],
          "name": "stdout"
        }
      ]
    },
    {
      "cell_type": "markdown",
      "metadata": {
        "id": "QnB9j1yegmsO"
      },
      "source": [
        "## C - Train Ticket"
      ]
    },
    {
      "cell_type": "code",
      "metadata": {
        "colab": {
          "base_uri": "https://localhost:8080/"
        },
        "id": "35qDE2fycxCF",
        "outputId": "60baf15f-c523-48ab-b159-526869e3ad64"
      },
      "source": [
        "a, b, c, d = map(int, input())\n",
        "sum_abcd = a + b + c + d\n",
        "\n",
        "if sum_abcd - b * 2 == 7:\n",
        "  print('{}-{}+{}+{}=7'.format(a, b, c, d))\n",
        "elif sum_abcd - c * 2 == 7:\n",
        "  print('{}+{}-{}+{}=7'.format(a, b, c, d))\n",
        "elif sum_abcd - d * 2 == 7:\n",
        "  print('{}+{}+{}-{}=7'.format(a, b, c, d))\n",
        "elif sum_abcd - (b + c) * 2 == 7:\n",
        "  print('{}-{}-{}+{}=7'.format(a, b, c, d))\n",
        "elif sum_abcd - (c + d) * 2 == 7:\n",
        "  print('{}+{}-{}-{}=7'.format(a, b, c, d))\n",
        "elif sum_abcd - (b + d) * 2 == 7:\n",
        "  print('{}-{}+{}-{}=7'.format(a, b, c, d))\n",
        "elif sum_abcd - (b + c + d) * 2 == 7:\n",
        "  print('{}-{}-{}-{}=7'.format(a, b, c, d))\n",
        "else:\n",
        "  print('{}+{}+{}+{}=7'.format(a, b, c, d))"
      ],
      "execution_count": 28,
      "outputs": [
        {
          "output_type": "stream",
          "text": [
            "3242\n",
            "3-2+4+2=7\n"
          ],
          "name": "stdout"
        }
      ]
    },
    {
      "cell_type": "markdown",
      "metadata": {
        "id": "7MJwgEERjjmx"
      },
      "source": [
        "## D - Wall"
      ]
    },
    {
      "cell_type": "code",
      "metadata": {
        "id": "qkPfEi1fg0oZ"
      },
      "source": [
        ""
      ],
      "execution_count": null,
      "outputs": []
    }
  ]
}