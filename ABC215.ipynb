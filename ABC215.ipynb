{
  "nbformat": 4,
  "nbformat_minor": 0,
  "metadata": {
    "colab": {
      "name": "ABC215.ipynb",
      "provenance": [],
      "authorship_tag": "ABX9TyN6p+A4FJgZGcVsxI61mHwa",
      "include_colab_link": true
    },
    "kernelspec": {
      "name": "python3",
      "display_name": "Python 3"
    },
    "language_info": {
      "name": "python"
    }
  },
  "cells": [
    {
      "cell_type": "markdown",
      "metadata": {
        "id": "view-in-github",
        "colab_type": "text"
      },
      "source": [
        "<a href=\"https://colab.research.google.com/github/yamanoyu/atcorder/blob/master/ABC215.ipynb\" target=\"_parent\"><img src=\"https://colab.research.google.com/assets/colab-badge.svg\" alt=\"Open In Colab\"/></a>"
      ]
    },
    {
      "cell_type": "markdown",
      "metadata": {
        "id": "IvYoyGQKXzz5"
      },
      "source": [
        "## A - Your First Judge"
      ]
    },
    {
      "cell_type": "code",
      "metadata": {
        "id": "-XFrClB1Xyg2"
      },
      "source": [
        "s = input()\n",
        "ans = 'AC' if s == 'Hello,World!' else 'WA'\n",
        "print(ans)"
      ],
      "execution_count": null,
      "outputs": []
    },
    {
      "cell_type": "markdown",
      "metadata": {
        "id": "KAzRthozYGCd"
      },
      "source": [
        "## B - log2(N)"
      ]
    },
    {
      "cell_type": "code",
      "metadata": {
        "colab": {
          "base_uri": "https://localhost:8080/"
        },
        "id": "hHyPJERpX0QP",
        "outputId": "06cc0d10-6912-401a-c86c-2eec50a2bcc4"
      },
      "source": [
        "n = int(input())\n",
        "ans = 0\n",
        "while 2 ** ans <= n:\n",
        "  ans += 1\n",
        "ans -= 1\n",
        "print(ans)"
      ],
      "execution_count": null,
      "outputs": [
        {
          "output_type": "stream",
          "text": [
            "1000000000000000000\n",
            "60\n"
          ],
          "name": "stdout"
        }
      ]
    },
    {
      "cell_type": "markdown",
      "metadata": {
        "id": "Cc-SCszUZ2tJ"
      },
      "source": [
        "## C - One More aab aba baa"
      ]
    },
    {
      "cell_type": "code",
      "metadata": {
        "colab": {
          "base_uri": "https://localhost:8080/"
        },
        "id": "KBCh4txsYmer",
        "outputId": "01ba38df-235d-41fd-9a2b-90f6db2235a9"
      },
      "source": [
        "import itertools\n",
        "\n",
        "\n",
        "s, k = input().split()\n",
        "s = list(s)\n",
        "s_list = itertools.permutations(s, len(s))\n",
        "s_set = set()\n",
        "\n",
        "for i in s_list:\n",
        "  s_set.add(''.join(i))\n",
        "\n",
        "s_list_sort = sorted(list(s_set))\n",
        "ans = s_list_sort[int(k) - 1]\n",
        "\n",
        "print(ans)"
      ],
      "execution_count": null,
      "outputs": [
        {
          "output_type": "stream",
          "text": [
            "ydxwacbz 40320\n",
            "zyxwdcba\n"
          ],
          "name": "stdout"
        }
      ]
    },
    {
      "cell_type": "markdown",
      "metadata": {
        "id": "ZzzIRz96TWOa"
      },
      "source": [
        "## D - Coprime 2"
      ]
    },
    {
      "cell_type": "code",
      "metadata": {
        "id": "CCOblyskc3MY",
        "colab": {
          "base_uri": "https://localhost:8080/"
        },
        "outputId": "6483d79a-b001-4270-cd7d-7f173d049b33"
      },
      "source": [
        "n, m = map(int, input().split())\n",
        "a_list = list(map(int, input().split()))\n",
        "\n",
        "prime_num_set = set()\n",
        "\n",
        "\n",
        "def prime_factorization(n):\n",
        "    arr = set()\n",
        "    tmp = n\n",
        "    for i in range(2, int((-(-(n ** 0.5)) // 1)) + 1):\n",
        "        if tmp % i == 0:\n",
        "            cnt = 0\n",
        "            while tmp % i == 0:\n",
        "                cnt += 1\n",
        "                tmp //= i\n",
        "            arr.add(i)\n",
        "\n",
        "    if tmp != 1:\n",
        "        arr.add(tmp)\n",
        "\n",
        "    if not arr:\n",
        "        arr.add(n)\n",
        "\n",
        "    return arr\n",
        "\n",
        "\n",
        "for a in a_list:\n",
        "  prime_num_set |= prime_factorization(a)\n",
        "\n",
        "prime_num_list = list(prime_num_set)\n",
        "\n",
        "ans_list = [1] * m\n",
        "\n",
        "for p in prime_num_list:\n",
        "  if p == 1:\n",
        "    continue\n",
        "  for i in range(p - 1, m, p):\n",
        "    ans_list[i] = 0\n",
        "\n",
        "print(sum(ans_list))\n",
        "for i, _ans in enumerate(ans_list):\n",
        "  if _ans: \n",
        "    ans = i + 1\n",
        "    print(ans)"
      ],
      "execution_count": 19,
      "outputs": [
        {
          "output_type": "stream",
          "text": [
            "3 12\n",
            "6 1 5\n",
            "3\n",
            "1\n",
            "7\n",
            "11\n"
          ],
          "name": "stdout"
        }
      ]
    },
    {
      "cell_type": "code",
      "metadata": {
        "id": "y-l4LLR68NjR"
      },
      "source": [
        ""
      ],
      "execution_count": null,
      "outputs": []
    }
  ]
}