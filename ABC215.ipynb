{
  "nbformat": 4,
  "nbformat_minor": 0,
  "metadata": {
    "colab": {
      "name": "ABC215.ipynb",
      "provenance": [],
      "authorship_tag": "ABX9TyNlI9KEvdsZGZ0O1bh1dqvL",
      "include_colab_link": true
    },
    "kernelspec": {
      "name": "python3",
      "display_name": "Python 3"
    },
    "language_info": {
      "name": "python"
    }
  },
  "cells": [
    {
      "cell_type": "markdown",
      "metadata": {
        "id": "view-in-github",
        "colab_type": "text"
      },
      "source": [
        "<a href=\"https://colab.research.google.com/github/yamanoyu/atcorder/blob/master/ABC215.ipynb\" target=\"_parent\"><img src=\"https://colab.research.google.com/assets/colab-badge.svg\" alt=\"Open In Colab\"/></a>"
      ]
    },
    {
      "cell_type": "markdown",
      "metadata": {
        "id": "IvYoyGQKXzz5"
      },
      "source": [
        "## A - Your First Judge"
      ]
    },
    {
      "cell_type": "code",
      "metadata": {
        "id": "-XFrClB1Xyg2"
      },
      "source": [
        "s = input()\n",
        "ans = 'AC' if s == 'Hello,World!' else 'WA'\n",
        "print(ans)"
      ],
      "execution_count": null,
      "outputs": []
    },
    {
      "cell_type": "markdown",
      "metadata": {
        "id": "KAzRthozYGCd"
      },
      "source": [
        "## B - log2(N)"
      ]
    },
    {
      "cell_type": "code",
      "metadata": {
        "colab": {
          "base_uri": "https://localhost:8080/"
        },
        "id": "hHyPJERpX0QP",
        "outputId": "06cc0d10-6912-401a-c86c-2eec50a2bcc4"
      },
      "source": [
        "n = int(input())\n",
        "ans = 0\n",
        "while 2 ** ans <= n:\n",
        "  ans += 1\n",
        "ans -= 1\n",
        "print(ans)"
      ],
      "execution_count": 4,
      "outputs": [
        {
          "output_type": "stream",
          "text": [
            "1000000000000000000\n",
            "60\n"
          ],
          "name": "stdout"
        }
      ]
    },
    {
      "cell_type": "markdown",
      "metadata": {
        "id": "Cc-SCszUZ2tJ"
      },
      "source": [
        "## C - One More aab aba baa"
      ]
    },
    {
      "cell_type": "code",
      "metadata": {
        "colab": {
          "base_uri": "https://localhost:8080/"
        },
        "id": "KBCh4txsYmer",
        "outputId": "01ba38df-235d-41fd-9a2b-90f6db2235a9"
      },
      "source": [
        "import itertools\n",
        "\n",
        "\n",
        "s, k = input().split()\n",
        "s = list(s)\n",
        "s_list = itertools.permutations(s, len(s))\n",
        "s_set = set()\n",
        "\n",
        "for i in s_list:\n",
        "  s_set.add(''.join(i))\n",
        "\n",
        "s_list_sort = sorted(list(s_set))\n",
        "ans = s_list_sort[int(k) - 1]\n",
        "\n",
        "print(ans)"
      ],
      "execution_count": 7,
      "outputs": [
        {
          "output_type": "stream",
          "text": [
            "ydxwacbz 40320\n",
            "zyxwdcba\n"
          ],
          "name": "stdout"
        }
      ]
    },
    {
      "cell_type": "code",
      "metadata": {
        "id": "CCOblyskc3MY"
      },
      "source": [
        ""
      ],
      "execution_count": null,
      "outputs": []
    }
  ]
}