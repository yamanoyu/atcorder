{
  "nbformat": 4,
  "nbformat_minor": 0,
  "metadata": {
    "colab": {
      "name": "ABC154.ipynb",
      "provenance": [],
      "collapsed_sections": [],
      "authorship_tag": "ABX9TyOB2GffGIYWAuxJKDY1gBZ3",
      "include_colab_link": true
    },
    "kernelspec": {
      "name": "python3",
      "display_name": "Python 3"
    }
  },
  "cells": [
    {
      "cell_type": "markdown",
      "metadata": {
        "id": "view-in-github",
        "colab_type": "text"
      },
      "source": [
        "<a href=\"https://colab.research.google.com/github/yamanoyu/atcorder/blob/master/ABC154.ipynb\" target=\"_parent\"><img src=\"https://colab.research.google.com/assets/colab-badge.svg\" alt=\"Open In Colab\"/></a>"
      ]
    },
    {
      "cell_type": "markdown",
      "metadata": {
        "id": "Q_tH9NxURuO3"
      },
      "source": [
        "## A - Remaining Balls"
      ]
    },
    {
      "cell_type": "code",
      "metadata": {
        "colab": {
          "base_uri": "https://localhost:8080/"
        },
        "id": "zgoap84nRcF0",
        "outputId": "6133928a-f761-400c-c1a8-d28900c2eba8"
      },
      "source": [
        "s, t = input().split()\n",
        "a, b = map(int, input().split())\n",
        "u = input()\n",
        "ans = ' '.join(map(str, [a - 1, b])) if u == s else ' '.join(map(str, [a, b - 1]))\n",
        "print(ans)"
      ],
      "execution_count": 3,
      "outputs": [
        {
          "output_type": "stream",
          "text": [
            "red blue\n",
            "5 5\n",
            "red\n",
            "45\n"
          ],
          "name": "stdout"
        }
      ]
    },
    {
      "cell_type": "markdown",
      "metadata": {
        "id": "HhhDu9Z2ShAp"
      },
      "source": [
        "## B - I miss you..."
      ]
    },
    {
      "cell_type": "code",
      "metadata": {
        "colab": {
          "base_uri": "https://localhost:8080/"
        },
        "id": "MPMkAVDFRuwJ",
        "outputId": "57cb6808-8b90-4557-de18-b0715b6cbb73"
      },
      "source": [
        "s = input()\n",
        "ans = 'x' * len(s)\n",
        "print(ans)"
      ],
      "execution_count": 4,
      "outputs": [
        {
          "output_type": "stream",
          "text": [
            "dfgh\n",
            "xxxx\n"
          ],
          "name": "stdout"
        }
      ]
    },
    {
      "cell_type": "markdown",
      "metadata": {
        "id": "Gf7KoXPBSpfN"
      },
      "source": [
        "## C - Distinct or Not"
      ]
    },
    {
      "cell_type": "code",
      "metadata": {
        "colab": {
          "base_uri": "https://localhost:8080/"
        },
        "id": "59aIj1RrSmbo",
        "outputId": "fc121790-3bd3-451b-c3c2-8f440a78e82c"
      },
      "source": [
        "n = int(input())\n",
        "a_list = list(map(int, input().split()))\n",
        "\n",
        "ans = 'YES' if len(a_list) == len(set(a_list)) else 'NO'\n",
        "print(ans)"
      ],
      "execution_count": 6,
      "outputs": [
        {
          "output_type": "stream",
          "text": [
            "6\n",
            "1 2 3 4 4 5 \n",
            "NO\n"
          ],
          "name": "stdout"
        }
      ]
    },
    {
      "cell_type": "markdown",
      "metadata": {
        "id": "ZowhI6ytS7vG"
      },
      "source": [
        "## D - Dice in Line"
      ]
    },
    {
      "cell_type": "code",
      "metadata": {
        "colab": {
          "base_uri": "https://localhost:8080/"
        },
        "id": "Lz9DLlbhS3xF",
        "outputId": "2da4d23f-070c-497e-e435-3ecb10db3d6c"
      },
      "source": [
        "n, k = map(int, input().split())\n",
        "p_list = list(map(int, input().split()))\n",
        "\n",
        "_tmp_list = []\n",
        "_tmp_list.append(sum(p_list[:k]))\n",
        "for i in range(k, n):\n",
        "  _tmp = _tmp_list[-1] + p_list[i] - p_list[i - k]\n",
        "  _tmp_list.append(_tmp)\n",
        "\n",
        "ans = (max(_tmp_list) + k) / 2\n",
        "print(ans)"
      ],
      "execution_count": 19,
      "outputs": [
        {
          "output_type": "stream",
          "text": [
            "10 4\n",
            "17 13 13 12 15 20 10 13 17 11\n",
            "32.0\n"
          ],
          "name": "stdout"
        }
      ]
    },
    {
      "cell_type": "markdown",
      "metadata": {
        "id": "VnxpE16iVoHc"
      },
      "source": [
        "## E - Almost Everywhere Zero"
      ]
    },
    {
      "cell_type": "code",
      "metadata": {
        "id": "MheVlNLwUCS6"
      },
      "source": [
        ""
      ],
      "execution_count": null,
      "outputs": []
    },
    {
      "cell_type": "markdown",
      "metadata": {
        "id": "KeadZv--Vrj2"
      },
      "source": [
        "## F - Many Many Paths"
      ]
    },
    {
      "cell_type": "code",
      "metadata": {
        "id": "a0utySzUVr85"
      },
      "source": [
        ""
      ],
      "execution_count": null,
      "outputs": []
    }
  ]
}