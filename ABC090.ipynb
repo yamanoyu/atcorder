{
  "nbformat": 4,
  "nbformat_minor": 0,
  "metadata": {
    "colab": {
      "name": "ABC090.ipynb",
      "provenance": [],
      "collapsed_sections": [],
      "authorship_tag": "ABX9TyNQiaO/DiEOlFtlicboEfJd",
      "include_colab_link": true
    },
    "kernelspec": {
      "name": "python3",
      "display_name": "Python 3"
    }
  },
  "cells": [
    {
      "cell_type": "markdown",
      "metadata": {
        "id": "view-in-github",
        "colab_type": "text"
      },
      "source": [
        "<a href=\"https://colab.research.google.com/github/yamanoyu/atcorder/blob/master/ABC090.ipynb\" target=\"_parent\"><img src=\"https://colab.research.google.com/assets/colab-badge.svg\" alt=\"Open In Colab\"/></a>"
      ]
    },
    {
      "cell_type": "markdown",
      "metadata": {
        "id": "RsW2UGCel9ji"
      },
      "source": [
        "## A - Diagonal String"
      ]
    },
    {
      "cell_type": "code",
      "metadata": {
        "colab": {
          "base_uri": "https://localhost:8080/"
        },
        "id": "17D4mXi7l6Ai",
        "outputId": "c7549597-8dfe-4f5a-fe43-1915f966969b"
      },
      "source": [
        "c1 = input()\n",
        "c2 = input()\n",
        "c3 = input()\n",
        "ans = c1[0] + c2[1] + c3[2]\n",
        "print(ans)"
      ],
      "execution_count": 1,
      "outputs": [
        {
          "output_type": "stream",
          "text": [
            "abc\n",
            "sdf\n",
            "ghj\n",
            "adj\n"
          ],
          "name": "stdout"
        }
      ]
    },
    {
      "cell_type": "markdown",
      "metadata": {
        "id": "eUfFZvChmYE1"
      },
      "source": [
        "## B - Palindromic Numbers"
      ]
    },
    {
      "cell_type": "code",
      "metadata": {
        "colab": {
          "base_uri": "https://localhost:8080/"
        },
        "id": "qc3NuOKsl_8N",
        "outputId": "7d2724f4-04f0-4e8d-b62b-da3b1398bc16"
      },
      "source": [
        "a, b = map(int, input().split())\n",
        "i = 0\n",
        "ans = 0\n",
        "while a + i <= b:\n",
        "  w = str(a + i)\n",
        "  if w[0] == w[-1] and w[1] == w[-2]:\n",
        "    ans += 1\n",
        "  i += 1\n",
        "print(ans)"
      ],
      "execution_count": 5,
      "outputs": [
        {
          "output_type": "stream",
          "text": [
            "31415 92653\n",
            "612\n"
          ],
          "name": "stdout"
        }
      ]
    },
    {
      "cell_type": "markdown",
      "metadata": {
        "id": "-EFH49ysntN2"
      },
      "source": [
        "## C - Flip,Flip, and Flip......"
      ]
    },
    {
      "cell_type": "code",
      "metadata": {
        "colab": {
          "base_uri": "https://localhost:8080/"
        },
        "id": "GxRj8eiRnTmF",
        "outputId": "c630c280-3a39-4c09-d936-83c5bc4b0d60"
      },
      "source": [
        "n, m = map(int, input().split())\n",
        "if n == 1 or m == 1:\n",
        "  ans = 1 if n == m == 1 else (n + m) -3\n",
        "elif n == 2 or m == 2:\n",
        "  ans = 0\n",
        "else:\n",
        "  ans = n * m - ((n + m - 2) * 2)\n",
        "print(ans)"
      ],
      "execution_count": 14,
      "outputs": [
        {
          "output_type": "stream",
          "text": [
            "1 1\n",
            "0\n"
          ],
          "name": "stdout"
        }
      ]
    },
    {
      "cell_type": "markdown",
      "metadata": {
        "id": "sSoD2CkUpbvU"
      },
      "source": [
        "## D - Remainder Reminder"
      ]
    },
    {
      "cell_type": "code",
      "metadata": {
        "colab": {
          "base_uri": "https://localhost:8080/"
        },
        "id": "gSa8i2M9pitm",
        "outputId": "0e349b18-dfe3-4343-922f-57fa8d7697b6"
      },
      "source": [
        "n, k = map(int, input().split())\n",
        "ans = 0\n",
        "i = 0\n",
        "while (k + 1) + i <= n:\n",
        "  b = (k + 1) + i\n",
        "  ans += n - max(((n // b) * k + min(k, (n - (n // b) * b + 1)) - 1), 0)\n",
        "  i += 1\n",
        "print(ans)"
      ],
      "execution_count": 35,
      "outputs": [
        {
          "output_type": "stream",
          "text": [
            "10 0\n",
            "110\n"
          ],
          "name": "stdout"
        }
      ]
    }
  ]
}