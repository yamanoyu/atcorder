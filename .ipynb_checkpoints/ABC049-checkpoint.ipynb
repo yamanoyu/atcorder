{
 "cells": [
  {
   "cell_type": "markdown",
   "metadata": {},
   "source": [
    "## A - 居合を終え、青い絵を覆う"
   ]
  },
  {
   "cell_type": "code",
   "execution_count": 1,
   "metadata": {},
   "outputs": [
    {
     "name": "stdout",
     "output_type": "stream",
     "text": [
      "a\n",
      "vowel\n"
     ]
    }
   ],
   "source": [
    "vowel = ['a', 'i', 'u', 'e', 'o']\n",
    "\n",
    "c = input()\n",
    "\n",
    "ans = 'vowel' if c in vowel else 'consonant'\n",
    "print(ans)"
   ]
  },
  {
   "cell_type": "markdown",
   "metadata": {},
   "source": [
    "## B - たてなが"
   ]
  },
  {
   "cell_type": "code",
   "execution_count": 6,
   "metadata": {},
   "outputs": [
    {
     "name": "stdout",
     "output_type": "stream",
     "text": [
      "2 2\n",
      "wqw\n",
      "wqw\n",
      "wqw\n",
      "wq\n",
      "wq\n",
      "wq\n"
     ]
    }
   ],
   "source": [
    "h, w = map(int, input().split())\n",
    "\n",
    "for _ in range(h):\n",
    "    c = input()\n",
    "    print(c)\n",
    "    print(c)"
   ]
  },
  {
   "cell_type": "markdown",
   "metadata": {},
   "source": [
    "## C - 白昼夢"
   ]
  },
  {
   "cell_type": "code",
   "execution_count": 15,
   "metadata": {},
   "outputs": [
    {
     "name": "stdout",
     "output_type": "stream",
     "text": [
      "dreameraser\n",
      "YES\n"
     ]
    }
   ],
   "source": [
    "s = input()\n",
    "\n",
    "word_list = ['dream', 'dreamer', 'erase', 'eraser']\n",
    "\n",
    "while len(s) >= 5:\n",
    "    if s[-5:] == word_list[0]:\n",
    "        s = s[:-5]\n",
    "    elif s[-5:] == word_list[2]:\n",
    "        s = s[:-5]\n",
    "    elif s[-6:] == word_list[3]:\n",
    "        s = s[:-6]\n",
    "    elif s[-7:] == word_list[1]:\n",
    "        s = s[:-7]\n",
    "    else:\n",
    "        break\n",
    "\n",
    "ans = 'YES' if len(s) == 0 else 'NO'\n",
    "print(ans)"
   ]
  },
  {
   "cell_type": "markdown",
   "metadata": {},
   "source": [
    "## D - 連結"
   ]
  },
  {
   "cell_type": "code",
   "execution_count": 18,
   "metadata": {},
   "outputs": [
    {
     "name": "stdout",
     "output_type": "stream",
     "text": [
      "4 3 1\n",
      "1 2\n",
      "2 3\n",
      "3 1\n",
      "1 3\n",
      "2 1 2 1\n"
     ]
    }
   ],
   "source": [
    "# TLEかつおそらくWA\n",
    "n, k, l = map(int, input().split())\n",
    "road_parent_list = [i+1 for i in range(n)]\n",
    "rail_parent_list = [i+1 for i in range(n)]\n",
    "\n",
    "def parent_find(parent_list:list, x:int):\n",
    "    if x != parent_list[x-1]:\n",
    "        parent_list[x-1] = parent_find(parent_list, parent_list[x-1])\n",
    "        \n",
    "    return parent_list[x-1]\n",
    "\n",
    "\n",
    "def parent_unite(parent_list:list, x:int, y:int):\n",
    "    if parent_find(parent_list, x) > parent_find(parent_list, y):\n",
    "        x, y = y, x\n",
    "    if parent_find(parent_list, x) != parent_find(parent_list, y):\n",
    "        parent_list[y-1] = parent_find(parent_list, x)\n",
    "\n",
    "\n",
    "\n",
    "for _ in range(k):\n",
    "    p, q = map(int, input().split())\n",
    "    parent_unite(road_parent_list, p, q)\n",
    "    \n",
    "for _ in range(l):\n",
    "    r, s = map(int, input().split())\n",
    "    parent_unite(rail_parent_list, r, s)\n",
    "    \n",
    "road_visit_list = []\n",
    "rail_visit_list = []\n",
    "\n",
    "for road_parent in road_parent_list:\n",
    "    road_visit_list.append([i+1 for i in range(n) if road_parent == road_parent_list[i]])\n",
    "\n",
    "for rail_parent in rail_parent_list:\n",
    "    rail_visit_list.append([i+1 for i in range(n) if rail_parent == rail_parent_list[i]])\n",
    "\n",
    "ans_list = []\n",
    "\n",
    "for road_visit, rail_visit in zip(road_visit_list, rail_visit_list):\n",
    "    ans_list.append(str(len(set(road_visit) & set(rail_visit))))\n",
    "    \n",
    "print(' '.join(ans_list))"
   ]
  },
  {
   "cell_type": "code",
   "execution_count": 28,
   "metadata": {},
   "outputs": [
    {
     "name": "stdout",
     "output_type": "stream",
     "text": [
      "4 2 2\n",
      "1 2\n",
      "2 3\n",
      "1 4\n",
      "2 3\n",
      "1 2 2 1\n"
     ]
    }
   ],
   "source": [
    "from collections import Counter\n",
    "\n",
    "n, k, l = map(int, input().split())\n",
    "road_parent_list = [i+1 for i in range(n)]\n",
    "rail_parent_list = [i+1 for i in range(n)]\n",
    "\n",
    "def parent_find(parent_list:list, x:int):\n",
    "    if x != parent_list[x-1]:\n",
    "        parent_list[x-1] = parent_find(parent_list, parent_list[x-1])\n",
    "        \n",
    "    return parent_list[x-1]\n",
    "\n",
    "\n",
    "def parent_unite(parent_list:list, x:int, y:int):\n",
    "    if parent_find(parent_list, x) > parent_find(parent_list, y):\n",
    "        x, y = y, x\n",
    "    if parent_find(parent_list, x) != parent_find(parent_list, y):\n",
    "        parent_list[parent_find(parent_list, y)-1] = parent_find(parent_list, x)\n",
    "\n",
    "\n",
    "\n",
    "for _ in range(k):\n",
    "    p, q = map(int, input().split())\n",
    "    parent_unite(road_parent_list, p, q)\n",
    "    \n",
    "for _ in range(l):\n",
    "    r, s = map(int, input().split())\n",
    "    parent_unite(rail_parent_list, r, s)\n",
    "    \n",
    "    \n",
    "parents_list = [(parent_find(road_parent_list, i), parent_find(rail_parent_list, i)) for i in range(1, n+1)]\n",
    "parents_list_count = Counter(parents_list)\n",
    "\n",
    "ans_list = [str(parents_list_count[parents]) for parents in parents_list]\n",
    "    \n",
    "print(' '.join(ans_list))"
   ]
  }
 ],
 "metadata": {
  "kernelspec": {
   "display_name": "Python 3",
   "language": "python",
   "name": "python3"
  },
  "language_info": {
   "codemirror_mode": {
    "name": "ipython",
    "version": 3
   },
   "file_extension": ".py",
   "mimetype": "text/x-python",
   "name": "python",
   "nbconvert_exporter": "python",
   "pygments_lexer": "ipython3",
   "version": "3.7.4"
  }
 },
 "nbformat": 4,
 "nbformat_minor": 4
}
