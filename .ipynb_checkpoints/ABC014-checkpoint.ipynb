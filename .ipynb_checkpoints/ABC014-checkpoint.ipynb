{
 "cells": [
  {
   "cell_type": "markdown",
   "metadata": {},
   "source": [
    "## A - けんしょう先生のお菓子配り"
   ]
  },
  {
   "cell_type": "code",
   "execution_count": 3,
   "metadata": {},
   "outputs": [
    {
     "name": "stdout",
     "output_type": "stream",
     "text": [
      "5\n",
      "5\n",
      "5\n"
     ]
    }
   ],
   "source": [
    "a = int(input())\n",
    "b = int(input())\n",
    "\n",
    "if a % b != 0:\n",
    "    ans = (a // b + 1) * b - a\n",
    "else:\n",
    "    ans = 0\n",
    "\n",
    "print(ans)"
   ]
  },
  {
   "cell_type": "markdown",
   "metadata": {},
   "source": [
    "## B - 価格の合計"
   ]
  },
  {
   "cell_type": "code",
   "execution_count": 16,
   "metadata": {},
   "outputs": [
    {
     "name": "stdout",
     "output_type": "stream",
     "text": [
      "4 5\n",
      "1 10 100 1000\n",
      "101\n"
     ]
    }
   ],
   "source": [
    "n, x = map(int, input().split())\n",
    "a_list = list(map(int, input().split()))\n",
    "\n",
    "x_bit_list = list(map(int, bin(x)[2:].zfill(n)))\n",
    "\n",
    "ans_list = [x_bit * a for (x_bit, a) in zip(x_bit_list, a_list[::-1])]\n",
    "ans = sum(ans_list)\n",
    "\n",
    "print(ans)"
   ]
  },
  {
   "cell_type": "markdown",
   "metadata": {},
   "source": [
    "## C - AtColor "
   ]
  },
  {
   "cell_type": "code",
   "execution_count": 62,
   "metadata": {},
   "outputs": [
    {
     "name": "stdout",
     "output_type": "stream",
     "text": [
      "4\n",
      "1000000 1000000\n",
      "0 1000000\n",
      "0 1000000\n",
      "0 1000000\n",
      "4\n"
     ]
    }
   ],
   "source": [
    "n = int(input())\n",
    "enquete_list = [list(map(int, input().split())) for _ in range(n)]\n",
    "color_list = [0] * (10**6+1+1)\n",
    "\n",
    "for enquete in enquete_list:\n",
    "    color_list[enquete[0]] += 1\n",
    "    color_list[enquete[1]+1] -= 1\n",
    "\n",
    "ans_list = []\n",
    "for i in range(10**6+1):\n",
    "    color_list[i+1] += color_list[i]\n",
    "ans = max(color_list)\n",
    "print(ans)"
   ]
  },
  {
   "cell_type": "markdown",
   "metadata": {},
   "source": [
    "## D - 閉路"
   ]
  },
  {
   "cell_type": "code",
   "execution_count": null,
   "metadata": {},
   "outputs": [],
   "source": []
  },
  {
   "cell_type": "code",
   "execution_count": null,
   "metadata": {},
   "outputs": [],
   "source": []
  }
 ],
 "metadata": {
  "kernelspec": {
   "display_name": "Python 3",
   "language": "python",
   "name": "python3"
  },
  "language_info": {
   "codemirror_mode": {
    "name": "ipython",
    "version": 3
   },
   "file_extension": ".py",
   "mimetype": "text/x-python",
   "name": "python",
   "nbconvert_exporter": "python",
   "pygments_lexer": "ipython3",
   "version": "3.7.4"
  }
 },
 "nbformat": 4,
 "nbformat_minor": 4
}
