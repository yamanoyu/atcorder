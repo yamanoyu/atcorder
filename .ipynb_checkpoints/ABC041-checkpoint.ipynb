{
 "cells": [
  {
   "cell_type": "markdown",
   "metadata": {},
   "source": [
    "## A - 添字"
   ]
  },
  {
   "cell_type": "code",
   "execution_count": 1,
   "metadata": {},
   "outputs": [
    {
     "name": "stdout",
     "output_type": "stream",
     "text": [
      "qwe\n",
      "3\n",
      "e\n"
     ]
    }
   ],
   "source": [
    "s = input()\n",
    "i = int(input())\n",
    "\n",
    "ans = s[i-1]\n",
    "print(ans)"
   ]
  },
  {
   "cell_type": "markdown",
   "metadata": {},
   "source": [
    "## B - 直方体"
   ]
  },
  {
   "cell_type": "code",
   "execution_count": null,
   "metadata": {},
   "outputs": [],
   "source": [
    "mod = 10 ** 9 + 7\n",
    "a, b, c = map (lambda x : int(x) % mod, input().split())\n",
    "\n",
    "ans = (a * b * c) % mod\n",
    "\n",
    "print(ans)"
   ]
  },
  {
   "cell_type": "markdown",
   "metadata": {},
   "source": [
    "## C - 背の順"
   ]
  },
  {
   "cell_type": "code",
   "execution_count": 15,
   "metadata": {},
   "outputs": [
    {
     "name": "stdout",
     "output_type": "stream",
     "text": [
      "3\n",
      "140 1680 160\n",
      "1\n",
      "3\n",
      "2\n"
     ]
    }
   ],
   "source": [
    "n = int(input())\n",
    "a_list = list(map(int, input().split()))\n",
    "\n",
    "a_dict = dict(zip(a_list, list(range(1, n+1))))\n",
    "a_dict = sorted(a_dict.items(), reverse = True)\n",
    "\n",
    "for a in a_dict:\n",
    "    print(a[1])"
   ]
  },
  {
   "cell_type": "markdown",
   "metadata": {},
   "source": [
    "## D - 徒競走"
   ]
  },
  {
   "cell_type": "code",
   "execution_count": null,
   "metadata": {},
   "outputs": [],
   "source": [
    "# トポロジカルソートの実装\n",
    "# 入力がないノードをランダムに選んでその出力辺を削除\n",
    "# 入力がないノードが新たにできるのでなくなるまでこれを繰り返す\n",
    "# ただし、有向非巡回経路でのみ適用可能\n",
    "\n",
    "n, m = map(int, input().split())\n",
    "xy_list = [list(map(int, input().split())) for _ in range(m)]\n",
    "\n",
    "no_input_list = list(range(1, n+1))\n",
    "for x, y in xy_list:\n",
    "    if y in no_input_list: no_input_list.remove(y) \n",
    "    \n",
    "ans_list = []\n",
    "\n",
    "while no_input_list:\n",
    "    no_input = no_input_list.pop()\n",
    "    ans_list.append(no_input)\n",
    "    \n",
    "    _xy_list = [_xy for _xy in xy_list]\n",
    "    for xy in xy_list:\n",
    "        if xy[0] == no_input:\n",
    "            _xy_list.remove(xy)\n",
    "        xy_list = _xy_list\n",
    "        \n",
    "    no_input_list_tmp = list(range(1, n+1))\n",
    "    for ans in ans_list:\n",
    "        if ans in no_input_list_tmp: no_input_list_tmp.remove(ans)\n",
    "    for x, y in xy_list:\n",
    "        if y in no_input_list_tmp: no_input_list_tmp.remove(y)\n",
    "    \n",
    "    for no_input_tmp in no_input_list_tmp:\n",
    "        if no_input_tmp not in no_input_list: no_input_list += no_input_list_tmp\n",
    "    \n",
    "print(ans_list)"
   ]
  },
  {
   "cell_type": "markdown",
   "metadata": {},
   "source": [
    "## from collections import defaultdict, deque\n",
    "\n",
    "v, n = map(int, input().split())\n",
    "es = [[int(x) for x in input().split()] for _ in range(n)]\n",
    "\n",
    "outs = defaultdict(list)\n",
    "ins = defaultdict(int)\n",
    "for v1, v2 in es:\n",
    "    outs[v1].append(v2)\n",
    "    ins[v2] += 1\n",
    "\n",
    "q = deque(v1 for v1 in range(v) if ins[v1] == 0)\n",
    "res = []\n",
    "while q:\n",
    "    v1 = q.popleft()\n",
    "    res.append(v1)\n",
    "    for v2 in outs[v1]:\n",
    "        ins[v2] -= 1\n",
    "        if ins[v2] == 0:\n",
    "            q.append(v2)\n",
    "\n",
    "print(', '.join(res))"
   ]
  },
  {
   "cell_type": "code",
   "execution_count": 37,
   "metadata": {},
   "outputs": [
    {
     "name": "stdout",
     "output_type": "stream",
     "text": [
      "[1, 2, 3]\n",
      "[1, 2]\n"
     ]
    }
   ],
   "source": [
    "a = [1, 2, 3]\n",
    "for i in a:\n",
    "    print(a)\n",
    "    a.pop()"
   ]
  },
  {
   "cell_type": "code",
   "execution_count": null,
   "metadata": {},
   "outputs": [],
   "source": []
  }
 ],
 "metadata": {
  "kernelspec": {
   "display_name": "Python 3",
   "language": "python",
   "name": "python3"
  },
  "language_info": {
   "codemirror_mode": {
    "name": "ipython",
    "version": 3
   },
   "file_extension": ".py",
   "mimetype": "text/x-python",
   "name": "python",
   "nbconvert_exporter": "python",
   "pygments_lexer": "ipython3",
   "version": "3.7.4"
  }
 },
 "nbformat": 4,
 "nbformat_minor": 4
}
