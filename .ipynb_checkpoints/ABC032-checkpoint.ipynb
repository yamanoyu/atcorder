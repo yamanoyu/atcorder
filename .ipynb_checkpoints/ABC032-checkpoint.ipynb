{
 "cells": [
  {
   "cell_type": "markdown",
   "metadata": {},
   "source": [
    "## A - 高橋君と青木君の好きな数 "
   ]
  },
  {
   "cell_type": "code",
   "execution_count": 2,
   "metadata": {},
   "outputs": [
    {
     "name": "stdout",
     "output_type": "stream",
     "text": [
      "2\n",
      "3\n",
      "8\n",
      "12\n"
     ]
    }
   ],
   "source": [
    "a = int(input())\n",
    "b = int(input())\n",
    "n = int(input())\n",
    "\n",
    "ans = max(max(a, b), n)\n",
    "while True:\n",
    "    if ans % a == 0 and ans % b ==0:\n",
    "        break\n",
    "    else:\n",
    "        ans += 1\n",
    "print(ans)"
   ]
  },
  {
   "cell_type": "markdown",
   "metadata": {},
   "source": [
    "## B - 高橋君とパスワード"
   ]
  },
  {
   "cell_type": "code",
   "execution_count": 24,
   "metadata": {},
   "outputs": [
    {
     "name": "stdout",
     "output_type": "stream",
     "text": [
      "abcabc\n",
      "6\n",
      "['abcabc']\n",
      "1\n"
     ]
    }
   ],
   "source": [
    "s = input()\n",
    "k = int(input())\n",
    "\n",
    "ans_list = []\n",
    "\n",
    "for i in range(len(s)-k+1):\n",
    "    ans_list.append(s[i:i+k])\n",
    "\n",
    "ans = len(list(set(ans_list)))\n",
    "print(ans)"
   ]
  },
  {
   "cell_type": "markdown",
   "metadata": {},
   "source": [
    "## C - 列"
   ]
  },
  {
   "cell_type": "code",
   "execution_count": 45,
   "metadata": {},
   "outputs": [
    {
     "name": "stdout",
     "output_type": "stream",
     "text": [
      "2 6\n",
      "2\n",
      "3\n",
      "2\n"
     ]
    }
   ],
   "source": [
    "n, k = map(int, input().split())\n",
    "\n",
    "s_list = []\n",
    "for _ in range(n):\n",
    "    s = int(input())\n",
    "    s_list.append(s)\n",
    "\n",
    "ans = 0\n",
    "multiple = 1\n",
    "start = 0\n",
    "\n",
    "for i in range(n):\n",
    "    if s_list[i] == 0:\n",
    "        ans = n\n",
    "        break\n",
    "    else:\n",
    "        multiple *= s_list[i]\n",
    "        if multiple > k:\n",
    "            ans = max(ans, i - start)\n",
    "            multiple /= s_list[start]\n",
    "            start += 1\n",
    "        else:\n",
    "            ans = max(ans, i - start + 1)\n",
    "\n",
    "print(ans)"
   ]
  },
  {
   "cell_type": "markdown",
   "metadata": {},
   "source": [
    "## D - ナップサック問題"
   ]
  },
  {
   "cell_type": "code",
   "execution_count": 47,
   "metadata": {},
   "outputs": [
    {
     "name": "stdout",
     "output_type": "stream",
     "text": [
      "3 10\n",
      "15 9\n",
      "10 6\n",
      "6 4\n",
      "[15, 0, 6]\n",
      "21\n"
     ]
    }
   ],
   "source": [
    "# 未実装\n",
    "n, w = map(int, input().split())\n",
    "nw_list = [list(map(int, input().split())) for _ in range(n)]\n",
    "\n",
    "ans = 0\n",
    "n_in_nap_list = []\n",
    "w_in_nap_list = []\n",
    "\n",
    "for nw in nw_list:\n",
    "    n_in_nap_list.append(nw[0])\n",
    "    w_in_nap_list.append(nw[1])\n",
    "    if sum(w_in_nap_list) > w:\n",
    "        remove_n_index = n_in_nap_list.index(min([n_in_nap_list[i] for i, w_in_nap in enumerate(w_in_nap_list) if w_in_nap >= nw[1]]))\n",
    "        n_in_nap_list[remove_n_index] = 0\n",
    "print(n_in_nap_list)\n",
    "ans = sum(n_in_nap_list)\n",
    "\n",
    "print(ans)"
   ]
  },
  {
   "cell_type": "code",
   "execution_count": null,
   "metadata": {},
   "outputs": [],
   "source": []
  }
 ],
 "metadata": {
  "kernelspec": {
   "display_name": "Python 3",
   "language": "python",
   "name": "python3"
  },
  "language_info": {
   "codemirror_mode": {
    "name": "ipython",
    "version": 3
   },
   "file_extension": ".py",
   "mimetype": "text/x-python",
   "name": "python",
   "nbconvert_exporter": "python",
   "pygments_lexer": "ipython3",
   "version": "3.7.4"
  }
 },
 "nbformat": 4,
 "nbformat_minor": 4
}
