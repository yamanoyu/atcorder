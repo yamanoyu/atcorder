{
 "cells": [
  {
   "cell_type": "markdown",
   "metadata": {},
   "source": [
    "## A - AtCoder社の給料"
   ]
  },
  {
   "cell_type": "code",
   "execution_count": 14,
   "metadata": {},
   "outputs": [
    {
     "name": "stdout",
     "output_type": "stream",
     "text": [
      "6\n",
      "i ;  0\n",
      "i ;  1\n",
      "i ;  2\n",
      "i ;  3\n",
      "i ;  4\n",
      "i ;  5\n",
      "i ;  6\n",
      "35000\n"
     ]
    }
   ],
   "source": [
    "n = int(input())\n",
    "salary = 0\n",
    "\n",
    "for i in range(n+1):\n",
    "    salary += i\n",
    "    \n",
    "ans = int(salary * 10000 / n)\n",
    "print(ans)"
   ]
  },
  {
   "cell_type": "markdown",
   "metadata": {},
   "source": [
    "## B - AtCoderトランプ"
   ]
  },
  {
   "cell_type": "code",
   "execution_count": 40,
   "metadata": {},
   "outputs": [
    {
     "name": "stdout",
     "output_type": "stream",
     "text": [
      "aoki\n",
      "aok@\n",
      "You will lose\n"
     ]
    }
   ],
   "source": [
    "s = list(input())\n",
    "t = list(input())\n",
    "\n",
    "atcorder = ['a', 't', 'c', 'o', 'r', 'd', 'e', 'r']\n",
    "\n",
    "ans  = 'You can win'\n",
    "\n",
    "for index, w in enumerate(s):\n",
    "    \n",
    "    if w != t[index]:\n",
    "        if w in atcorder:\n",
    "            if t[index] != '@':\n",
    "                ans  = 'You will lose'\n",
    "                break\n",
    "        elif w == '@':\n",
    "            if t[index] not in atcorder:\n",
    "                ans  = 'You will lose'\n",
    "                break\n",
    "        else:\n",
    "            ans  = 'You will lose'\n",
    "            break\n",
    "print(ans)"
   ]
  },
  {
   "cell_type": "markdown",
   "metadata": {},
   "source": [
    "## C - AtCoderプログラミング講座"
   ]
  },
  {
   "cell_type": "code",
   "execution_count": 54,
   "metadata": {},
   "outputs": [
    {
     "name": "stdout",
     "output_type": "stream",
     "text": [
      "10 5\n",
      "2604 2281 3204 2264 2200 2650 2229 2461 2439 2211\n",
      "2820.03125\n"
     ]
    }
   ],
   "source": [
    "n, k = map(int, input().split())\n",
    "rate_list = sorted(list(map(int, input().split())))[-k:]\n",
    "t_rate = 0\n",
    "\n",
    "for rate in rate_list:\n",
    "    t_rate = (t_rate + rate) / 2\n",
    "    \n",
    "print(t_rate)"
   ]
  },
  {
   "cell_type": "markdown",
   "metadata": {},
   "source": [
    "## D - AtCoder社の冬\n",
    "### 部分点 ( D + L = X × Y )"
   ]
  },
  {
   "cell_type": "code",
   "execution_count": 70,
   "metadata": {},
   "outputs": [
    {
     "name": "stdout",
     "output_type": "stream",
     "text": [
      "23 18\n",
      "15 13\n",
      "100 95\n",
      "2688530751720639218338659340310475390912005264448667808160\n",
      "364527243\n"
     ]
    }
   ],
   "source": [
    "r, c = map(int, input().split())\n",
    "x, y = map(int, input().split())\n",
    "d, l = map(int, input().split())\n",
    "\n",
    "mod = 10 ** 9 + 7\n",
    "\n",
    "def cmb(n, r):\n",
    "    # Combinationを算出, 5C2 = 10など\n",
    "    if n - r < r: r = n - r\n",
    "    if r == 0: return 1\n",
    "    if r == 1: return n\n",
    "\n",
    "    numerator = [n - r + k + 1 for k in range(r)]\n",
    "    denominator = [k + 1 for k in range(r)]\n",
    "\n",
    "    for p in range(2,r+1):\n",
    "        pivot = denominator[p - 1]\n",
    "        if pivot > 1:\n",
    "            offset = (n - r) % p\n",
    "            for k in range(p-1,r,p):\n",
    "                numerator[k - offset] /= pivot\n",
    "                denominator[k] /= pivot\n",
    "    result = 1\n",
    "    for k in range(r):\n",
    "        if numerator[k] > 1:\n",
    "            result *= int(numerator[k])\n",
    "\n",
    "    return result\n",
    "\n",
    "pattern_dl = cmb((x * y), min(d, l))\n",
    "\n",
    "pattern_x = r - x + 1\n",
    "pattern_y = c - y + 1\n",
    "\n",
    "ans = (pattern_x * pattern_y * pattern_dl) % mod\n",
    "print(ans)"
   ]
  },
  {
   "cell_type": "code",
   "execution_count": null,
   "metadata": {},
   "outputs": [],
   "source": []
  },
  {
   "cell_type": "code",
   "execution_count": null,
   "metadata": {},
   "outputs": [],
   "source": []
  }
 ],
 "metadata": {
  "kernelspec": {
   "display_name": "Python 3",
   "language": "python",
   "name": "python3"
  },
  "language_info": {
   "codemirror_mode": {
    "name": "ipython",
    "version": 3
   },
   "file_extension": ".py",
   "mimetype": "text/x-python",
   "name": "python",
   "nbconvert_exporter": "python",
   "pygments_lexer": "ipython3",
   "version": "3.7.4"
  }
 },
 "nbformat": 4,
 "nbformat_minor": 4
}
