{
 "cells": [
  {
   "cell_type": "markdown",
   "metadata": {},
   "source": [
    "## A - 暗証番号"
   ]
  },
  {
   "cell_type": "code",
   "execution_count": 2,
   "metadata": {},
   "outputs": [
    {
     "name": "stdout",
     "output_type": "stream",
     "text": [
      "0987\n",
      "DIFFERENT\n"
     ]
    }
   ],
   "source": [
    "n = list(input())\n",
    "if len(list(set(n))) == 1:\n",
    "    ans = 'SAME'\n",
    "else:\n",
    "    ans = 'DIFFERENT'\n",
    "    \n",
    "print(ans)"
   ]
  },
  {
   "cell_type": "markdown",
   "metadata": {},
   "source": [
    "## B - 町の合併"
   ]
  },
  {
   "cell_type": "code",
   "execution_count": 7,
   "metadata": {},
   "outputs": [
    {
     "name": "stdout",
     "output_type": "stream",
     "text": [
      "4\n",
      "a 2\n",
      "b 3\n",
      "c 4\n",
      "d 5\n",
      "atcorder\n"
     ]
    }
   ],
   "source": [
    "n = int(input())\n",
    "s_list = []\n",
    "p_list = []\n",
    "ans = 'atcoder'\n",
    "\n",
    "for _ in range(n):\n",
    "    s, p = input().split()\n",
    "    s_list.append(s)\n",
    "    p_list.append(int(p))\n",
    "    \n",
    "population = sum(p_list)\n",
    "\n",
    "if max(p_list) > population // 2:\n",
    "    ans = s_list[p_list.index(max(p_list))]\n",
    "\n",
    "print(ans)"
   ]
  },
  {
   "cell_type": "markdown",
   "metadata": {},
   "source": [
    "## C - 数式の書き換え"
   ]
  },
  {
   "cell_type": "code",
   "execution_count": 11,
   "metadata": {},
   "outputs": [
    {
     "name": "stdout",
     "output_type": "stream",
     "text": [
      "1+2+3+4+5\n",
      "5\n"
     ]
    }
   ],
   "source": [
    "s_list = input().split('+')\n",
    "\n",
    "ans = 0\n",
    "\n",
    "for s in s_list:\n",
    "    if '0' not in s:\n",
    "        ans += 1\n",
    "\n",
    "print(ans)"
   ]
  },
  {
   "cell_type": "markdown",
   "metadata": {},
   "source": [
    "## D - 三角形の分類"
   ]
  },
  {
   "cell_type": "code",
   "execution_count": 31,
   "metadata": {},
   "outputs": [
    {
     "name": "stdout",
     "output_type": "stream",
     "text": [
      "5\n",
      "1 3\n",
      "2 2\n",
      "3 2\n",
      "4 1\n",
      "4 3\n",
      "[[1, 3], [2, 2], [3, 2], [4, 1], [4, 3]]\n",
      "1.0 2 7\n"
     ]
    }
   ],
   "source": [
    "import itertools\n",
    "\n",
    "n = int(input())\n",
    "point_list = [list(map(int, input().split())) for _ in range(n)]\n",
    "\n",
    "\n",
    "right_angle = 0\n",
    "obtuse_angle = 0\n",
    "\n",
    "for point in point_list:\n",
    "    point_list_tmp = point_list.copy()\n",
    "    point_list_tmp.remove(point)\n",
    "    both_side_list = list(itertools.combinations(point_list_tmp, 2))\n",
    "    \n",
    "    for both_side in both_side_list:\n",
    "        inner_product = (both_side[0][0] - point[0]) * (both_side[1][0] - point[0]) + (both_side[0][1] - point[1]) * (both_side[1][1] - point[1])\n",
    "        if inner_product == 0:\n",
    "            right_angle += 1\n",
    "        elif inner_product < 0:\n",
    "            obtuse_angle += 1\n",
    "        \n",
    "acute_angle = int(n * (n - 1) * (n - 2) / 6 - (right_angle + obtuse_angle))\n",
    "\n",
    "print(acute_angle, right_angle, obtuse_angle)"
   ]
  }
 ],
 "metadata": {
  "kernelspec": {
   "display_name": "Python 3",
   "language": "python",
   "name": "python3"
  },
  "language_info": {
   "codemirror_mode": {
    "name": "ipython",
    "version": 3
   },
   "file_extension": ".py",
   "mimetype": "text/x-python",
   "name": "python",
   "nbconvert_exporter": "python",
   "pygments_lexer": "ipython3",
   "version": "3.7.4"
  }
 },
 "nbformat": 4,
 "nbformat_minor": 4
}
