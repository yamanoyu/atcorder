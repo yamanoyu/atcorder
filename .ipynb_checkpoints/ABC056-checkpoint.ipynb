{
 "cells": [
  {
   "cell_type": "markdown",
   "metadata": {},
   "source": [
    "## A - HonestOrDishonest"
   ]
  },
  {
   "cell_type": "code",
   "execution_count": 1,
   "metadata": {},
   "outputs": [
    {
     "name": "stdout",
     "output_type": "stream",
     "text": [
      "H D\n",
      "D\n"
     ]
    }
   ],
   "source": [
    "a, b = input().split()\n",
    "if a == 'H' and b == 'H':\n",
    "    ans = 'H'\n",
    "elif a == 'H' and b == 'D':\n",
    "    ans = 'D'\n",
    "elif a == 'D' and b == 'H':\n",
    "    ans = 'D'\n",
    "else:\n",
    "    ans = 'H'\n",
    "print(ans)"
   ]
  },
  {
   "cell_type": "markdown",
   "metadata": {},
   "source": [
    "## B - NarrowRectanglesEasy"
   ]
  },
  {
   "cell_type": "code",
   "execution_count": 4,
   "metadata": {},
   "outputs": [
    {
     "name": "stdout",
     "output_type": "stream",
     "text": [
      "3 2 6\n",
      "1\n"
     ]
    }
   ],
   "source": [
    "w, a, b = map(int, input().split())\n",
    "\n",
    "if a > b:\n",
    "    ans = max(0, a - (b + w))\n",
    "else:\n",
    "    ans = max(0, b - (a + w))\n",
    "print(ans)"
   ]
  },
  {
   "cell_type": "markdown",
   "metadata": {},
   "source": [
    "## C - Go Home"
   ]
  },
  {
   "cell_type": "code",
   "execution_count": 9,
   "metadata": {},
   "outputs": [
    {
     "name": "stdout",
     "output_type": "stream",
     "text": [
      "6\n",
      "3\n"
     ]
    }
   ],
   "source": [
    "x = int(input())\n",
    "\n",
    "n = 1\n",
    "while (n * (n + 1)) // 2 < x:\n",
    "    n += 1\n",
    "    \n",
    "ans = n\n",
    "print(ans)"
   ]
  },
  {
   "cell_type": "markdown",
   "metadata": {},
   "source": [
    "## D - No Need"
   ]
  },
  {
   "cell_type": "code",
   "execution_count": 13,
   "metadata": {},
   "outputs": [
    {
     "name": "stdout",
     "output_type": "stream",
     "text": [
      "6 20\n",
      "10 4 3 10 25 2\n",
      "3\n"
     ]
    }
   ],
   "source": [
    "n, k = map(int, input().split())\n",
    "a_list = list(map(int, input().split()))\n",
    "\n",
    "a_list.sort()\n",
    "\n",
    "ans = n\n",
    "\n",
    "for i in range(n-1):\n",
    "    if a_list[i] + a_list[i+1] >= k:\n",
    "        ans = i\n",
    "        break\n",
    "print(ans)"
   ]
  },
  {
   "cell_type": "code",
   "execution_count": null,
   "metadata": {},
   "outputs": [],
   "source": []
  }
 ],
 "metadata": {
  "kernelspec": {
   "display_name": "Python 3",
   "language": "python",
   "name": "python3"
  },
  "language_info": {
   "codemirror_mode": {
    "name": "ipython",
    "version": 3
   },
   "file_extension": ".py",
   "mimetype": "text/x-python",
   "name": "python",
   "nbconvert_exporter": "python",
   "pygments_lexer": "ipython3",
   "version": "3.7.4"
  }
 },
 "nbformat": 4,
 "nbformat_minor": 4
}
