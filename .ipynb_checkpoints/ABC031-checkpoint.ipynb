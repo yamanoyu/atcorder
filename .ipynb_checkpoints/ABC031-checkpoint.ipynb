{
 "cells": [
  {
   "cell_type": "markdown",
   "metadata": {},
   "source": [
    "## A - ゲーム"
   ]
  },
  {
   "cell_type": "code",
   "execution_count": 1,
   "metadata": {},
   "outputs": [
    {
     "name": "stdout",
     "output_type": "stream",
     "text": [
      "3 4\n",
      "16\n"
     ]
    }
   ],
   "source": [
    "a, d = map(int, input().split())\n",
    "\n",
    "if a > d:\n",
    "    ans = a * (d + 1)\n",
    "else:\n",
    "    ans = (a+1) * d\n",
    "print(ans)"
   ]
  },
  {
   "cell_type": "markdown",
   "metadata": {},
   "source": [
    "## B - 運動管理"
   ]
  },
  {
   "cell_type": "code",
   "execution_count": 3,
   "metadata": {},
   "outputs": [
    {
     "name": "stdout",
     "output_type": "stream",
     "text": [
      "300 400\n",
      "3\n",
      "240\n",
      "60\n",
      "350\n",
      "0\n",
      "200000\n",
      "-1\n"
     ]
    }
   ],
   "source": [
    "l, h = map(int, input().split())\n",
    "n = int(input())\n",
    "\n",
    "for _ in range(n):\n",
    "    a = int(input())\n",
    "    \n",
    "    if a < l:\n",
    "        ans = l - a\n",
    "    elif a > h:\n",
    "        ans = -1\n",
    "    else:\n",
    "        ans = 0\n",
    "        \n",
    "    print(ans)"
   ]
  },
  {
   "cell_type": "markdown",
   "metadata": {},
   "source": [
    "## C - 数列ゲーム"
   ]
  },
  {
   "cell_type": "code",
   "execution_count": 45,
   "metadata": {},
   "outputs": [
    {
     "name": "stdout",
     "output_type": "stream",
     "text": [
      "3\n",
      "5 5 5\n",
      "10\n"
     ]
    }
   ],
   "source": [
    "# 一部WA\n",
    "n = int(input())\n",
    "a_list = list(map(int, input().split()))\n",
    "\n",
    "ans = -50 * n\n",
    "\n",
    "for takahashi_index in range(n):   \n",
    "    aoki_score = -50 * n\n",
    "    for aoki_index in range(n):\n",
    "        if takahashi_index == aoki_index:\n",
    "            takahashi_score_tmp = ans\n",
    "            aoki_score_tmp = aoki_score\n",
    "        elif takahashi_index < aoki_index:\n",
    "            takahashi_score_tmp = sum(a_list[takahashi_index : aoki_index+1 : 2])\n",
    "            aoki_score_tmp = sum(a_list[takahashi_index : aoki_index+1]) - takahashi_score_tmp\n",
    "#             print(a_list[takahashi_index : aoki_index+1])\n",
    "        else:\n",
    "            takahashi_score_tmp = sum(a_list[aoki_index : takahashi_index+1 : 2])\n",
    "            aoki_score_tmp = sum(a_list[aoki_index : takahashi_index+1]) - takahashi_score_tmp\n",
    "#             print(a_list[aoki_index : takahashi_index+1])\n",
    "        \n",
    "        if aoki_score < aoki_score_tmp:\n",
    "            aoki_score = aoki_score_tmp\n",
    "#             print('aoki_score', aoki_score)\n",
    "            ans = max(ans, takahashi_score_tmp)\n",
    "            \n",
    "print(ans)"
   ]
  },
  {
   "cell_type": "markdown",
   "metadata": {},
   "source": [
    "## D - 語呂合わせ"
   ]
  },
  {
   "cell_type": "code",
   "execution_count": 54,
   "metadata": {},
   "outputs": [
    {
     "name": "stdout",
     "output_type": "stream",
     "text": [
      "4 5\n",
      "2 erty\n",
      "1 wertgh\n",
      "4 etyr\n",
      "3 efg\n",
      "23 werfg\n"
     ]
    },
    {
     "data": {
      "text/plain": [
       "[6, 4, 3, 4]"
      ]
     },
     "execution_count": 54,
     "metadata": {},
     "output_type": "execute_result"
    }
   ],
   "source": [
    "k, n = map(int, input().split())\n",
    "v_list = []\n",
    "w_list = []\n",
    "l_list = [-1] * k # 文字数\n"
   ]
  },
  {
   "cell_type": "code",
   "execution_count": 60,
   "metadata": {},
   "outputs": [
    {
     "name": "stdout",
     "output_type": "stream",
     "text": [
      "2 1\n",
      "12 ertyuiodfghjkl\n"
     ]
    }
   ],
   "source": [
    "import itertools\n",
    " \n",
    "K, N = map(int, input().split())\n",
    "VW = [input().split() for _ in range(N)]\n",
    " \n",
    "for t in itertools.product(range(1, 4), repeat=K):\n",
    "    # 長さの照合\n",
    "    if any(len(w) != sum(t[int(x) - 1] for x in v) for v, w in VW):\n",
    "        continue\n",
    "\t\n",
    "    # 文字列決定\n",
    "    str_list = [''] * K\n",
    "    flag = True\n",
    "    for v, w in VW:\n",
    "        idx = 0\n",
    "        for x in v:\n",
    "            n = int(x) - 1\n",
    "            if str_list[n] and str_list[n] != w[idx: idx + t[n]]:\n",
    "                flag = False\n",
    "                break\n",
    "            else:\n",
    "                str_list[n] = w[idx: idx + t[n]]\n",
    "                idx += t[n]\n",
    "    if flag:\n",
    "        print(*str_list, sep='\\n')\n",
    "        break"
   ]
  },
  {
   "cell_type": "code",
   "execution_count": 65,
   "metadata": {},
   "outputs": [
    {
     "name": "stdout",
     "output_type": "stream",
     "text": [
      "1 2 3 4 5\n"
     ]
    }
   ],
   "source": [
    "a = [1,2,3,4,5]\n",
    "print(*a, sep=' ')"
   ]
  },
  {
   "cell_type": "code",
   "execution_count": null,
   "metadata": {},
   "outputs": [],
   "source": []
  }
 ],
 "metadata": {
  "kernelspec": {
   "display_name": "Python 3",
   "language": "python",
   "name": "python3"
  },
  "language_info": {
   "codemirror_mode": {
    "name": "ipython",
    "version": 3
   },
   "file_extension": ".py",
   "mimetype": "text/x-python",
   "name": "python",
   "nbconvert_exporter": "python",
   "pygments_lexer": "ipython3",
   "version": "3.7.4"
  }
 },
 "nbformat": 4,
 "nbformat_minor": 4
}
