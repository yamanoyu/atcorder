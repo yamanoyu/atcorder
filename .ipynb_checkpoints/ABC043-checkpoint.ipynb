{
 "cells": [
  {
   "cell_type": "markdown",
   "metadata": {},
   "source": [
    "## A - キャンディーとN人の子供イージー"
   ]
  },
  {
   "cell_type": "code",
   "execution_count": 2,
   "metadata": {},
   "outputs": [
    {
     "name": "stdout",
     "output_type": "stream",
     "text": [
      "3\n",
      "6\n"
     ]
    }
   ],
   "source": [
    "n = int(input())\n",
    "ans = n * (n + 1) // 2\n",
    "print(ans)"
   ]
  },
  {
   "cell_type": "markdown",
   "metadata": {},
   "source": [
    "## B - バイナリハックイージー"
   ]
  },
  {
   "cell_type": "code",
   "execution_count": 10,
   "metadata": {},
   "outputs": [
    {
     "name": "stdout",
     "output_type": "stream",
     "text": [
      "01B1\n",
      "01\n"
     ]
    }
   ],
   "source": [
    "s = input()\n",
    "ans = ''\n",
    "for i in s:\n",
    "    if i == '0':\n",
    "        ans += '0'\n",
    "    elif i == '1':\n",
    "        ans += '1'\n",
    "    else:\n",
    "        if len(ans) != 0:\n",
    "            ans = ans[:-1]\n",
    "print(ans)"
   ]
  },
  {
   "cell_type": "markdown",
   "metadata": {},
   "source": [
    "## C - いっしょ"
   ]
  },
  {
   "cell_type": "code",
   "execution_count": 9,
   "metadata": {},
   "outputs": [
    {
     "name": "stdout",
     "output_type": "stream",
     "text": [
      "4\n",
      "1 1 1 1\n",
      "0\n"
     ]
    }
   ],
   "source": [
    "n = int(input())\n",
    "a_list = list(map(int, input().split()))\n",
    "\n",
    "num = min(a_list)\n",
    "max_num = max(a_list)\n",
    "\n",
    "ans = 10 ** 9 + 7\n",
    "\n",
    "while num <= max_num:\n",
    "    cost = 0\n",
    "    for a in a_list:\n",
    "        cost += (a - num) ** 2\n",
    "    ans = min(ans, cost)\n",
    "    num += 1\n",
    "print(ans)"
   ]
  },
  {
   "cell_type": "markdown",
   "metadata": {},
   "source": [
    "## D - アンバランス"
   ]
  },
  {
   "cell_type": "code",
   "execution_count": 25,
   "metadata": {},
   "outputs": [
    {
     "name": "stdout",
     "output_type": "stream",
     "text": [
      "gh\n",
      "1 1\n"
     ]
    }
   ],
   "source": [
    "# WA\n",
    "# 問題のん読み違え\n",
    "s_list = list(input())\n",
    "\n",
    "umblance_count = len(s_list) // 2 + 1\n",
    "\n",
    "s_count_dict = {}\n",
    "\n",
    "for s in s_list:\n",
    "    if s not in s_count_dict.keys():\n",
    "        s_count_dict[s] = 1\n",
    "    else:\n",
    "        s_count_dict[s] += 1\n",
    "\n",
    "if max(s_count_dict.values()) >= umblance_count:\n",
    "    umblance_word = max(s_count_dict, key=s_count_dict.get)\n",
    "    ans_list = [s_list.index(umblance_word) + 1, len(s_list) - s_list[::-1].index(umblance_word)]\n",
    "else:\n",
    "    ans_list = [-1, -1]\n",
    "\n",
    "ans = ' '.join([str(ans) for ans in ans_list])\n",
    "print(ans)"
   ]
  },
  {
   "cell_type": "code",
   "execution_count": 31,
   "metadata": {},
   "outputs": [
    {
     "name": "stdout",
     "output_type": "stream",
     "text": [
      "dfghjk\n",
      "-1 -1\n"
     ]
    }
   ],
   "source": [
    "s_list = list(input())\n",
    "\n",
    "if len(s_list) == 2:\n",
    "    if s_list[0] == s_list[1]:\n",
    "        ans_list = [1, 2]\n",
    "    else:\n",
    "        ans_list = [-1, -1]\n",
    "else:\n",
    "    for i, s in enumerate(s_list):\n",
    "        if i < len(s_list) - 2:\n",
    "            if len(set([s_list[i], s_list[i + 1], s_list[i + 2]])) < 3:\n",
    "                ans_list = [i + 1, i + 3]\n",
    "                break\n",
    "            else:\n",
    "                ans_list = [-1, -1]\n",
    "\n",
    "ans = ' '.join([str(ans) for ans in ans_list])\n",
    "print(ans)"
   ]
  }
 ],
 "metadata": {
  "kernelspec": {
   "display_name": "Python 3",
   "language": "python",
   "name": "python3"
  },
  "language_info": {
   "codemirror_mode": {
    "name": "ipython",
    "version": 3
   },
   "file_extension": ".py",
   "mimetype": "text/x-python",
   "name": "python",
   "nbconvert_exporter": "python",
   "pygments_lexer": "ipython3",
   "version": "3.7.4"
  }
 },
 "nbformat": 4,
 "nbformat_minor": 4
}
