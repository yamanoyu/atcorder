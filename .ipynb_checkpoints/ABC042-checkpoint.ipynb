{
 "cells": [
  {
   "cell_type": "markdown",
   "metadata": {},
   "source": [
    "## A - 和風いろはちゃんイージー"
   ]
  },
  {
   "cell_type": "code",
   "execution_count": 2,
   "metadata": {},
   "outputs": [
    {
     "name": "stdout",
     "output_type": "stream",
     "text": [
      "5 5 5\n",
      "NO\n"
     ]
    }
   ],
   "source": [
    "abc_list = list(map(int, input().split()))\n",
    "ans = 'YES' if abc_list.count(5) == 2 and abc_list.count(7) == 1 else 'NO'\n",
    "print(ans)"
   ]
  },
  {
   "cell_type": "markdown",
   "metadata": {},
   "source": [
    "## B - 文字列大好きいろはちゃんイージー"
   ]
  },
  {
   "cell_type": "code",
   "execution_count": null,
   "metadata": {},
   "outputs": [],
   "source": [
    "n, l = map(int, input().split())\n",
    "\n",
    "s_list = [input() for _ in range(n)]\n",
    "    \n",
    "ans = ''.join(sorted(s_list))\n",
    "print(ans)"
   ]
  },
  {
   "cell_type": "markdown",
   "metadata": {},
   "source": [
    "## C - こだわり者いろはちゃん"
   ]
  },
  {
   "cell_type": "code",
   "execution_count": 49,
   "metadata": {},
   "outputs": [
    {
     "name": "stdout",
     "output_type": "stream",
     "text": [
      "1 9\n",
      "0 2 3 4 5 6 7 8 9\n",
      "11\n"
     ]
    }
   ],
   "source": [
    "n, k = map(int, input().split())\n",
    "d_list = list(map(int, input().split()))\n",
    "\n",
    "available_num_set = set(range(10)) - set(d_list)\n",
    "available_num_list = sorted(list(available_num_set))\n",
    "\n",
    "max_num = int(str(available_num_list[0] if available_num_list[0] != 0 else available_num_list[1]) *  (len(str(n))+1))\n",
    "ans = max_num\n",
    "\n",
    "while max_num - n >= 0:\n",
    "    ans_set = set(str(max_num))\n",
    "    available_num_str_set = set([str(available_num) for available_num in available_num_set])\n",
    "\n",
    "    if len(ans_set - available_num_str_set) == 0:\n",
    "        ans = max_num\n",
    "    max_num -= 1\n",
    "\n",
    "print(ans)"
   ]
  },
  {
   "cell_type": "markdown",
   "metadata": {},
   "source": [
    "## D - いろはちゃんとマス目"
   ]
  },
  {
   "cell_type": "code",
   "execution_count": 69,
   "metadata": {},
   "outputs": [
    {
     "name": "stdout",
     "output_type": "stream",
     "text": [
      "3570\n"
     ]
    }
   ],
   "source": [
    "# TLE\n",
    "h, w, a, b = map(int, input().split())\n",
    "mod = 10 ** 9 + 7\n",
    "\n",
    "def cmb(n, r):\n",
    "    # Combinationを算出, 5C2 = 10など\n",
    "    if n - r < r: r = n - r\n",
    "    if r == 0: return 1\n",
    "    if r == 1: return n\n",
    "\n",
    "    numerator = [n - r + k + 1 for k in range(r)]\n",
    "    denominator = [k + 1 for k in range(r)]\n",
    "\n",
    "    for p in range(2, r+1):\n",
    "        pivot = denominator[p - 1]\n",
    "        if pivot > 1:\n",
    "            offset = (n - r) % p\n",
    "            for k in range(p-1, r, p):\n",
    "                numerator[k - offset] /= pivot\n",
    "                denominator[k] /= pivot\n",
    "    result = 1\n",
    "    for k in range(r):\n",
    "        if numerator[k] > 1:\n",
    "            result *= int(numerator[k])\n",
    "\n",
    "    return result\n",
    "\n",
    "ans = 0\n",
    "for i in range(h - a):\n",
    "    ans += cmb(i + b - 1, i) * cmb(w - b + h - i - 2, w - b - 1)\n",
    "\n",
    "print(ans % mod)"
   ]
  },
  {
   "cell_type": "code",
   "execution_count": null,
   "metadata": {},
   "outputs": [],
   "source": []
  },
  {
   "cell_type": "code",
   "execution_count": null,
   "metadata": {},
   "outputs": [],
   "source": []
  },
  {
   "cell_type": "code",
   "execution_count": null,
   "metadata": {},
   "outputs": [],
   "source": []
  },
  {
   "cell_type": "code",
   "execution_count": null,
   "metadata": {},
   "outputs": [],
   "source": []
  }
 ],
 "metadata": {
  "kernelspec": {
   "display_name": "Python 3",
   "language": "python",
   "name": "python3"
  },
  "language_info": {
   "codemirror_mode": {
    "name": "ipython",
    "version": 3
   },
   "file_extension": ".py",
   "mimetype": "text/x-python",
   "name": "python",
   "nbconvert_exporter": "python",
   "pygments_lexer": "ipython3",
   "version": "3.7.4"
  }
 },
 "nbformat": 4,
 "nbformat_minor": 4
}
