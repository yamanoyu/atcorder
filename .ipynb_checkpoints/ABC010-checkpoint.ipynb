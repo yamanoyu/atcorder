{
 "cells": [
  {
   "cell_type": "markdown",
   "metadata": {},
   "source": [
    "## A - ハンドルネーム"
   ]
  },
  {
   "cell_type": "code",
   "execution_count": 2,
   "metadata": {},
   "outputs": [
    {
     "name": "stdout",
     "output_type": "stream",
     "text": [
      "rfqre\n",
      "rfqrepp\n"
     ]
    }
   ],
   "source": [
    "s = input()\n",
    "ans = s + 'pp'\n",
    "print(ans)"
   ]
  },
  {
   "cell_type": "markdown",
   "metadata": {},
   "source": [
    "## B - 花占い"
   ]
  },
  {
   "cell_type": "code",
   "execution_count": 7,
   "metadata": {},
   "outputs": [
    {
     "name": "stdout",
     "output_type": "stream",
     "text": [
      "9\n",
      "1 2 3 4 5 6 7 8 9\n",
      "8\n"
     ]
    }
   ],
   "source": [
    "n = int(input())\n",
    "a_list = map(int, input().split())\n",
    "\n",
    "ans = 0\n",
    "    \n",
    "for a in a_list:\n",
    "    if a % 6 == 2 or a % 6 == 4:\n",
    "        ans += 1\n",
    "    elif a % 6 == 5:\n",
    "        ans += 2\n",
    "    elif a % 6 == 0:\n",
    "        ans += 3\n",
    "\n",
    "print(ans)"
   ]
  },
  {
   "cell_type": "markdown",
   "metadata": {},
   "source": [
    "## C - 浮気調査"
   ]
  },
  {
   "cell_type": "code",
   "execution_count": 9,
   "metadata": {},
   "outputs": [
    {
     "name": "stdout",
     "output_type": "stream",
     "text": [
      "1 2 3 4 5 6\n",
      "2\n",
      "1 1\n",
      "1 1\n"
     ]
    },
    {
     "data": {
      "text/plain": [
       "18"
      ]
     },
     "execution_count": 9,
     "metadata": {},
     "output_type": "execute_result"
    }
   ],
   "source": [
    "ini = list(map(int, input().split()))\n",
    "init_position =  [ini[0], ini[1]]\n",
    "last_position = [ini[2], ini[3]]\n",
    "t = ini[4]\n",
    "v = ini[5]\n",
    "n =  int(input())\n",
    "girls_list = []\n",
    "for _ in range(n):\n",
    "    girls_list.append(list(map(int, input().split())))    \n",
    "\n",
    "def distance(start, goal):\n",
    "    # 二点間の距離**2を求める\n",
    "    # それぞれの点の座標をlistを渡す distance([1, 2], [4, 5]) など\n",
    "    return (goal[0] - start[0]) ** 2 + (goal[1] - start[1]) ** 2\n",
    "\n",
    "ans = 'NO'\n",
    "\n",
    "# 移動可能距離\n",
    "movable_distance = (t * v) ** 2\n",
    "\n",
    "for girl in girls_list:\n",
    "    detour_distance = distance(girl, init_position) + distance(girl, last_position)\n",
    "    if detour_distance <= movable_distance:\n",
    "        ans = 'YES'\n",
    "        break\n",
    "\n",
    "print(ans)"
   ]
  },
  {
   "cell_type": "code",
   "execution_count": 11,
   "metadata": {},
   "outputs": [
    {
     "data": {
      "text/plain": [
       "8658"
      ]
     },
     "execution_count": 11,
     "metadata": {},
     "output_type": "execute_result"
    }
   ],
   "source": []
  },
  {
   "cell_type": "code",
   "execution_count": null,
   "metadata": {},
   "outputs": [],
   "source": []
  }
 ],
 "metadata": {
  "kernelspec": {
   "display_name": "Python 3",
   "language": "python",
   "name": "python3"
  },
  "language_info": {
   "codemirror_mode": {
    "name": "ipython",
    "version": 3
   },
   "file_extension": ".py",
   "mimetype": "text/x-python",
   "name": "python",
   "nbconvert_exporter": "python",
   "pygments_lexer": "ipython3",
   "version": "3.7.4"
  }
 },
 "nbformat": 4,
 "nbformat_minor": 4
}
