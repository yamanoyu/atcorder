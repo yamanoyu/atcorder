{
 "cells": [
  {
   "cell_type": "markdown",
   "metadata": {},
   "source": [
    "## A - AtCoder *** Contest"
   ]
  },
  {
   "cell_type": "code",
   "execution_count": 3,
   "metadata": {},
   "outputs": [
    {
     "name": "stdout",
     "output_type": "stream",
     "text": [
      "AtCoder Beginner Contest\n",
      "ABC\n"
     ]
    }
   ],
   "source": [
    "s_list = list(input().split())\n",
    "ans = 'A' + s_list[1][0] + 'C'\n",
    "print(ans)"
   ]
  },
  {
   "cell_type": "markdown",
   "metadata": {},
   "source": [
    "## B - Between a and b ..."
   ]
  },
  {
   "cell_type": "code",
   "execution_count": 8,
   "metadata": {},
   "outputs": [
    {
     "name": "stdout",
     "output_type": "stream",
     "text": [
      "0 5 1\n",
      "6\n"
     ]
    }
   ],
   "source": [
    "a, b, x = map(int, input().split())\n",
    "\n",
    "ans = b // x - a // x + 1 if a % x == 0 else b // x - a // x \n",
    "print(ans)"
   ]
  },
  {
   "cell_type": "markdown",
   "metadata": {},
   "source": [
    "## C - Boxes and Candies"
   ]
  },
  {
   "cell_type": "code",
   "execution_count": 13,
   "metadata": {},
   "outputs": [
    {
     "name": "stdout",
     "output_type": "stream",
     "text": [
      "3 3 \n",
      "2 2 2\n",
      "0\n",
      "[2, 1, 2]\n",
      "1\n"
     ]
    }
   ],
   "source": [
    "n, x = map(int, input().split())\n",
    "a_list = list(map(int, input().split()))\n",
    "\n",
    "ans = 0\n",
    "\n",
    "for i in range(n - 1):\n",
    "    if a_list[i] + a_list[i + 1] > x:\n",
    "        ans += a_list[i] + a_list[i + 1] - x \n",
    "        if a_list[i] + a_list[i + 1] - x <= a_list[i + 1]:\n",
    "            a_list[i + 1] -= a_list[i] + a_list[i + 1] - x \n",
    "        else:\n",
    "            a_list[i + 1] = 0\n",
    "            a_list[i] -= a_list[i] - x\n",
    "        \n",
    "print(ans)"
   ]
  },
  {
   "cell_type": "markdown",
   "metadata": {},
   "source": [
    "## D - An Ordinary Game"
   ]
  },
  {
   "cell_type": "code",
   "execution_count": null,
   "metadata": {},
   "outputs": [],
   "source": []
  }
 ],
 "metadata": {
  "kernelspec": {
   "display_name": "Python 3",
   "language": "python",
   "name": "python3"
  },
  "language_info": {
   "codemirror_mode": {
    "name": "ipython",
    "version": 3
   },
   "file_extension": ".py",
   "mimetype": "text/x-python",
   "name": "python",
   "nbconvert_exporter": "python",
   "pygments_lexer": "ipython3",
   "version": "3.7.4"
  }
 },
 "nbformat": 4,
 "nbformat_minor": 4
}
