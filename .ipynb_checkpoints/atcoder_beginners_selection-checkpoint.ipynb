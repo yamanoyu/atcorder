{
 "cells": [
  {
   "cell_type": "markdown",
   "metadata": {},
   "source": [
    "## ABC086A - Product"
   ]
  },
  {
   "cell_type": "code",
   "execution_count": 2,
   "metadata": {},
   "outputs": [
    {
     "name": "stdout",
     "output_type": "stream",
     "text": [
      "1 2\n",
      "Even\n"
     ]
    }
   ],
   "source": [
    "a, b = map(int, input().split())\n",
    "\n",
    "def odd_even(number):\n",
    "    devide = number % 2\n",
    "    odd_even = ''\n",
    "    if devide == 1:\n",
    "        odd_even = 'Odd'\n",
    "    elif devide == 0:\n",
    "        odd_even = 'Even'\n",
    "    return odd_even\n",
    "\n",
    "print(odd_even(a * b))"
   ]
  },
  {
   "cell_type": "code",
   "execution_count": 3,
   "metadata": {},
   "outputs": [
    {
     "name": "stdout",
     "output_type": "stream",
     "text": [
      "2 3\n",
      "Even\n"
     ]
    }
   ],
   "source": [
    "a, b = map(int, input().split())\n",
    "if (a*b) % 2:\n",
    "    print(\"Odd\")\n",
    "else:\n",
    "    print(\"Even\")"
   ]
  },
  {
   "cell_type": "markdown",
   "metadata": {},
   "source": [
    "## ABC081A - Placing Marbles"
   ]
  },
  {
   "cell_type": "code",
   "execution_count": 5,
   "metadata": {},
   "outputs": [
    {
     "name": "stdout",
     "output_type": "stream",
     "text": [
      "123\n",
      "6\n"
     ]
    }
   ],
   "source": [
    "in_list_str = list(input())\n",
    "in_list = [int(i) for i in in_list_str]\n",
    "s1, s2, s3 = in_list\n",
    "print(s1 + s2 + s3)"
   ]
  },
  {
   "cell_type": "code",
   "execution_count": 6,
   "metadata": {},
   "outputs": [
    {
     "name": "stdout",
     "output_type": "stream",
     "text": [
      "101\n",
      "2\n"
     ]
    }
   ],
   "source": [
    "print(input().count(\"1\"))"
   ]
  },
  {
   "cell_type": "markdown",
   "metadata": {},
   "source": [
    "## ABC081B - Shift only"
   ]
  },
  {
   "cell_type": "code",
   "execution_count": 34,
   "metadata": {},
   "outputs": [
    {
     "name": "stdout",
     "output_type": "stream",
     "text": [
      "4\n",
      "5 6 8 10\n",
      "[5, 6, 8, 10]\n",
      "0\n"
     ]
    }
   ],
   "source": [
    "n = input()\n",
    "a_list = list(map(int, input().split()))\n",
    "ans = 0\n",
    "\n",
    "while True:\n",
    "    a_devide = [int(i % 2) for i in a_list]\n",
    "    if sum(a_devide) != 0:\n",
    "        break\n",
    "    else:\n",
    "        a_list = [int(i / 2) for i in a_list]\n",
    "        ans += 1\n",
    "        \n",
    "print(ans)"
   ]
  },
  {
   "cell_type": "code",
   "execution_count": 32,
   "metadata": {},
   "outputs": [
    {
     "name": "stdout",
     "output_type": "stream",
     "text": [
      "4\n",
      "5 6 8 10\n",
      "0\n"
     ]
    }
   ],
   "source": [
    "import math\n",
    "\n",
    "n = input()\n",
    "a = list(map(int, input().split()))\n",
    "ans = float(\"inf\")\n",
    "for i in a:\n",
    "    ans = min(ans, len(bin(i)) - bin(i).rfind(\"1\") - 1)\n",
    "print(round(ans))"
   ]
  },
  {
   "cell_type": "markdown",
   "metadata": {},
   "source": [
    "## ABC087B - Coins"
   ]
  },
  {
   "cell_type": "code",
   "execution_count": 92,
   "metadata": {},
   "outputs": [
    {
     "name": "stdout",
     "output_type": "stream",
     "text": [
      "5\n",
      "1\n",
      "0\n",
      "150\n",
      "0\n",
      "150\n",
      "j ;  0\n",
      "i ;  0\n",
      "divide_100;  6000\n",
      "ans :  1\n",
      "i ;  1\n",
      "divide_100;  50\n",
      "ans :  2\n",
      "2\n"
     ]
    }
   ],
   "source": [
    "# 未完成\n",
    "num_500 = int(input())\n",
    "num_100 = int(input())\n",
    "num_50 = int(input())\n",
    "amount = int(input())\n",
    "\n",
    "ans = 0\n",
    "\n",
    "max_500, divide_500_max = divmod(amount, 500)\n",
    "\n",
    "print(max_500)\n",
    "print(divide_500_max)\n",
    "\n",
    "j = 0\n",
    "while max_500 - j >= 0:\n",
    "    print('j ; ', j)\n",
    "    divide_500 = divide_500_max +  j * 500\n",
    "    if divide_500 >= 500 and (divide_500 % 500) == 0:\n",
    "        print('divide_500 ; ', divide_500)\n",
    "        ans += 1\n",
    "    max_100, divide_100_max = divmod(divide_500, 100)\n",
    "    i = 0\n",
    "    while max_100 - i >= 0:\n",
    "        print('i ; ', i)\n",
    "        print('divide_100; ', divide_100)\n",
    "        divide_100 = divide_100_max +  i * 100\n",
    "        if divide_100 >= 100 and ((divide_100) % 100) == 0:\n",
    "            print('divide_100 ; ', divide_100)\n",
    "            ans += 1\n",
    "        if divide_100 >= 50 and ((divide_100) % 50) == 0:\n",
    "            ans += 1\n",
    "        i += 1\n",
    "        print('ans : ', ans)\n",
    "    j += 1\n",
    "\n",
    "print(ans)"
   ]
  },
  {
   "cell_type": "code",
   "execution_count": 93,
   "metadata": {},
   "outputs": [
    {
     "name": "stdout",
     "output_type": "stream",
     "text": [
      "2\n",
      "2\n",
      "2\n",
      "100\n",
      "2\n"
     ]
    }
   ],
   "source": [
    "a, b, c, x = map(int, [input() for i in range(4)])\n",
    "ans = 0\n",
    "for i in range(a+1):\n",
    "    for j in range(b+1):\n",
    "        for k in range(c+1):\n",
    "            if i * 500 + j * 100 + k * 50 == x:\n",
    "                ans += 1\n",
    "print(ans)"
   ]
  },
  {
   "cell_type": "markdown",
   "metadata": {},
   "source": [
    "## ABC083B - Some Sums"
   ]
  },
  {
   "cell_type": "code",
   "execution_count": 116,
   "metadata": {},
   "outputs": [
    {
     "name": "stdout",
     "output_type": "stream",
     "text": [
      "20 2 5\n"
     ]
    },
    {
     "data": {
      "text/plain": [
       "84"
      ]
     },
     "execution_count": 116,
     "metadata": {},
     "output_type": "execute_result"
    }
   ],
   "source": [
    "n, a, b = map(int, input().split())\n",
    "\n",
    "ans = 0\n",
    "for i in range(1, n+1):\n",
    "    sum_list = sum([int(j) for j in list(str(i))])\n",
    "    if a <= sum_list <= b:\n",
    "        ans += i\n",
    "print(ans)"
   ]
  },
  {
   "cell_type": "markdown",
   "metadata": {},
   "source": [
    "## ABC088B - Card Game for Two"
   ]
  },
  {
   "cell_type": "code",
   "execution_count": 135,
   "metadata": {},
   "outputs": [
    {
     "name": "stdout",
     "output_type": "stream",
     "text": [
      "2\n",
      " 4 3\n",
      "1\n"
     ]
    }
   ],
   "source": [
    "n = input()\n",
    "a_list = list(map(int, input().split()))\n",
    "a_list_sort = sorted(a_list, reverse=True)\n",
    "ans = sum(a_list_sort[::2]) * 2 - sum(a_list_sort)\n",
    "# ans = sum(a_list_sort[::2]) - sum(a_list_sort[1::2])\n",
    "print(ans)"
   ]
  },
  {
   "cell_type": "markdown",
   "metadata": {},
   "source": [
    "## ABC085B - Kagami Mochi"
   ]
  },
  {
   "cell_type": "code",
   "execution_count": 148,
   "metadata": {},
   "outputs": [
    {
     "name": "stdout",
     "output_type": "stream",
     "text": [
      "1\n",
      "3\n",
      "1\n"
     ]
    }
   ],
   "source": [
    "n = int(input())\n",
    "d_list = list(map(int, [input() for _ in range(n)]))\n",
    "d_list_sort = sorted(d_list)\n",
    "print(len(set(d_list_sort)))"
   ]
  },
  {
   "cell_type": "markdown",
   "metadata": {},
   "source": [
    "## ABC085C - Otoshidama"
   ]
  },
  {
   "cell_type": "code",
   "execution_count": 164,
   "metadata": {},
   "outputs": [
    {
     "name": "stdout",
     "output_type": "stream",
     "text": [
      "2000 20000000\n",
      "2000 0 0\n"
     ]
    }
   ],
   "source": [
    "n, y = map(int, input().split())\n",
    "ans = '-1 -1 -1'\n",
    "for num_10000 in range(n+1):\n",
    "    for num_5000 in range(n+1-num_10000):\n",
    "        num_1000 = n - num_10000 - num_5000\n",
    "        if num_10000 * 10000 + num_5000 * 5000 + num_1000 * 1000 == y:\n",
    "            ans = str(num_10000) + ' ' + str(num_5000) + ' ' + str(num_1000)\n",
    "            break\n",
    "\n",
    "print(ans)\n",
    "# print(num_10000, num_5000, num_1000)"
   ]
  },
  {
   "cell_type": "markdown",
   "metadata": {},
   "source": [
    "## ABC049C - 白昼夢"
   ]
  },
  {
   "cell_type": "code",
   "execution_count": 192,
   "metadata": {},
   "outputs": [
    {
     "name": "stdout",
     "output_type": "stream",
     "text": [
      "erasedream\n"
     ]
    },
    {
     "ename": "KeyboardInterrupt",
     "evalue": "",
     "output_type": "error",
     "traceback": [
      "\u001b[0;31m---------------------------------------------------------------------------\u001b[0m",
      "\u001b[0;31mKeyboardInterrupt\u001b[0m                         Traceback (most recent call last)",
      "\u001b[0;32m<ipython-input-192-cec418e2e8c2>\u001b[0m in \u001b[0;36m<module>\u001b[0;34m\u001b[0m\n\u001b[1;32m     16\u001b[0m \u001b[0;32mwhile\u001b[0m \u001b[0ms\u001b[0m \u001b[0;34m!=\u001b[0m \u001b[0mdelete_lead\u001b[0m\u001b[0;34m(\u001b[0m\u001b[0ms\u001b[0m\u001b[0;34m)\u001b[0m\u001b[0;34m:\u001b[0m\u001b[0;34m\u001b[0m\u001b[0;34m\u001b[0m\u001b[0m\n\u001b[1;32m     17\u001b[0m     \u001b[0;32mfor\u001b[0m \u001b[0ms_word\u001b[0m \u001b[0;32min\u001b[0m \u001b[0ms\u001b[0m\u001b[0;34m:\u001b[0m\u001b[0;34m\u001b[0m\u001b[0;34m\u001b[0m\u001b[0m\n\u001b[0;32m---> 18\u001b[0;31m         \u001b[0ms_word\u001b[0m \u001b[0;34m=\u001b[0m \u001b[0mdelete_lead\u001b[0m\u001b[0;34m(\u001b[0m\u001b[0ms_word\u001b[0m\u001b[0;34m)\u001b[0m\u001b[0;34m\u001b[0m\u001b[0;34m\u001b[0m\u001b[0m\n\u001b[0m\u001b[1;32m     19\u001b[0m         \u001b[0;32mif\u001b[0m \u001b[0mlen\u001b[0m\u001b[0;34m(\u001b[0m\u001b[0ms\u001b[0m\u001b[0;34m)\u001b[0m \u001b[0;34m==\u001b[0m \u001b[0;36m0\u001b[0m\u001b[0;34m:\u001b[0m\u001b[0;34m\u001b[0m\u001b[0;34m\u001b[0m\u001b[0m\n\u001b[1;32m     20\u001b[0m             \u001b[0mans\u001b[0m \u001b[0;34m=\u001b[0m \u001b[0;34m'YES'\u001b[0m\u001b[0;34m\u001b[0m\u001b[0;34m\u001b[0m\u001b[0m\n",
      "\u001b[0;32m<ipython-input-192-cec418e2e8c2>\u001b[0m in \u001b[0;36mdelete_lead\u001b[0;34m(words)\u001b[0m\n\u001b[1;32m      9\u001b[0m     \u001b[0;32mfor\u001b[0m \u001b[0mw\u001b[0m \u001b[0;32min\u001b[0m \u001b[0mt\u001b[0m\u001b[0;34m:\u001b[0m\u001b[0;34m\u001b[0m\u001b[0;34m\u001b[0m\u001b[0m\n\u001b[1;32m     10\u001b[0m         \u001b[0;32mfor\u001b[0m \u001b[0mword\u001b[0m \u001b[0;32min\u001b[0m \u001b[0mwords\u001b[0m\u001b[0;34m:\u001b[0m\u001b[0;34m\u001b[0m\u001b[0;34m\u001b[0m\u001b[0m\n\u001b[0;32m---> 11\u001b[0;31m             \u001b[0;32mif\u001b[0m \u001b[0mword\u001b[0m\u001b[0;34m.\u001b[0m\u001b[0mstartswith\u001b[0m\u001b[0;34m(\u001b[0m\u001b[0mw\u001b[0m\u001b[0;34m)\u001b[0m\u001b[0;34m:\u001b[0m\u001b[0;34m\u001b[0m\u001b[0;34m\u001b[0m\u001b[0m\n\u001b[0m\u001b[1;32m     12\u001b[0m                 \u001b[0mword\u001b[0m \u001b[0;34m=\u001b[0m \u001b[0mword\u001b[0m\u001b[0;34m[\u001b[0m\u001b[0mlen\u001b[0m\u001b[0;34m(\u001b[0m\u001b[0mw\u001b[0m\u001b[0;34m)\u001b[0m\u001b[0;34m:\u001b[0m\u001b[0;34m]\u001b[0m\u001b[0;34m\u001b[0m\u001b[0;34m\u001b[0m\u001b[0m\n\u001b[1;32m     13\u001b[0m                 \u001b[0mword_list\u001b[0m\u001b[0;34m.\u001b[0m\u001b[0mappend\u001b[0m\u001b[0;34m(\u001b[0m\u001b[0mword\u001b[0m\u001b[0;34m)\u001b[0m\u001b[0;34m\u001b[0m\u001b[0;34m\u001b[0m\u001b[0m\n",
      "\u001b[0;31mKeyboardInterrupt\u001b[0m: "
     ]
    }
   ],
   "source": [
    "# これではダメ頭からだと消せない\n",
    "\n",
    "s = [input()]\n",
    "t = ['dream', 'dreamer', 'erase', 'eraser']\n",
    "ans = 'NO'\n",
    "\n",
    "def delete_lead(words):\n",
    "    word_list = []\n",
    "    for w in t:\n",
    "        for word in words:\n",
    "            if word.startswith(w):\n",
    "                word = word[len(w):]\n",
    "                word_list.append(word)\n",
    "    return word_list\n",
    "\n",
    "while s != delete_lead(s):\n",
    "    if len(s) == 0:\n",
    "        break\n",
    "    else:\n",
    "        for s_word in s:\n",
    "            if len(s_word) == 0:\n",
    "                ans = 'YES'\n",
    "                break\n",
    "            s_word = delete_lead(s_word)\n",
    "\n",
    "print(ans)"
   ]
  },
  {
   "cell_type": "code",
   "execution_count": 194,
   "metadata": {},
   "outputs": [
    {
     "name": "stdout",
     "output_type": "stream",
     "text": [
      "dreameraser\n",
      "YES\n"
     ]
    }
   ],
   "source": [
    "s = input()\n",
    "\n",
    "def solve(query):\n",
    "    while 1:\n",
    "        for frag in (\"erase\", \"eraser\", \"dream\", \"dreamer\"):\n",
    "            if query.endswith(frag):\n",
    "                query = query[:-len(frag)]\n",
    "                break\n",
    "        else:\n",
    "            print(\"NO\")\n",
    "            break\n",
    "        if not query:\n",
    "            print(\"YES\")\n",
    "            break\n",
    "\n",
    "solve(s)"
   ]
  },
  {
   "cell_type": "markdown",
   "metadata": {},
   "source": [
    "## ABC086C - Traveling"
   ]
  },
  {
   "cell_type": "code",
   "execution_count": 222,
   "metadata": {},
   "outputs": [
    {
     "name": "stdout",
     "output_type": "stream",
     "text": [
      "1\n",
      "2 100 100\n",
      "No\n"
     ]
    }
   ],
   "source": [
    "# TLEになる\n",
    "\n",
    "n = int(input())\n",
    "ans = 'Yes'\n",
    "\n",
    "def coordinate(list_xy):\n",
    "    # xlist_xy : 座標リスト\n",
    "    # return : 次の時刻の座標をリストで\n",
    "    list_xy_next = []\n",
    "    for xy in list_xy:\n",
    "        x = xy[0]\n",
    "        y = xy[1]\n",
    "        \n",
    "        list_xy_next.extend([(x+1, y), (x-1, y), (x, y+1), (x, y-1)])\n",
    "        \n",
    "    return list(set(list_xy_next))\n",
    "\n",
    "for _ in range(n):\n",
    "    xy_t = [(0, 0)] # 初期化\n",
    "    \n",
    "    t, x, y = map(int, input().split())\n",
    "    xy = x, y\n",
    "\n",
    "    for _ in range(t):\n",
    "        xy_t = coordinate(xy_t)\n",
    "#         print(xy_t)\n",
    "    if xy not in xy_t:\n",
    "        ans = 'No'\n",
    "        break\n",
    "\n",
    "print(ans)"
   ]
  },
  {
   "cell_type": "code",
   "execution_count": 224,
   "metadata": {},
   "outputs": [
    {
     "name": "stdout",
     "output_type": "stream",
     "text": [
      "2\n",
      "1 1 1\n",
      "No\n",
      "1 1 1\n",
      "No\n",
      "Yes\n"
     ]
    }
   ],
   "source": [
    "n = int(input())\n",
    "prev_t = 0\n",
    "prev_x = 0\n",
    "prev_y = 0\n",
    "\n",
    "for _ in range(n):\n",
    "    t, x, y = map(int, input().split())\n",
    "    if (abs(x - prev_x) + abs(y - prev_y)) > (t - prev_t) or (x + y + t) % 2 != 0:\n",
    "        print(\"No\")\n",
    "        exit()\n",
    "    prev_t = t\n",
    "    prev_x = x\n",
    "    prev_y = y\n",
    "        \n",
    "print(\"Yes\")"
   ]
  },
  {
   "cell_type": "code",
   "execution_count": null,
   "metadata": {},
   "outputs": [],
   "source": []
  }
 ],
 "metadata": {
  "kernelspec": {
   "display_name": "Python 3",
   "language": "python",
   "name": "python3"
  },
  "language_info": {
   "codemirror_mode": {
    "name": "ipython",
    "version": 3
   },
   "file_extension": ".py",
   "mimetype": "text/x-python",
   "name": "python",
   "nbconvert_exporter": "python",
   "pygments_lexer": "ipython3",
   "version": "3.7.4"
  }
 },
 "nbformat": 4,
 "nbformat_minor": 4
}
