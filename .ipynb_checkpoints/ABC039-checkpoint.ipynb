{
 "cells": [
  {
   "cell_type": "markdown",
   "metadata": {},
   "source": [
    "## A - 高橋直体"
   ]
  },
  {
   "cell_type": "code",
   "execution_count": 2,
   "metadata": {},
   "outputs": [
    {
     "name": "stdout",
     "output_type": "stream",
     "text": [
      "1 1 1\n",
      "6\n"
     ]
    }
   ],
   "source": [
    "a, b, c = map(int, input().split())\n",
    "ans = (a * b + b * c + a * c) * 2\n",
    "print(ans)"
   ]
  },
  {
   "cell_type": "markdown",
   "metadata": {},
   "source": [
    "## B - エージェント高橋君"
   ]
  },
  {
   "cell_type": "code",
   "execution_count": 14,
   "metadata": {},
   "outputs": [
    {
     "name": "stdout",
     "output_type": "stream",
     "text": [
      "16\n",
      "2\n"
     ]
    }
   ],
   "source": [
    "import math\n",
    "\n",
    "x = int(input())\n",
    "ans = int(math.pow(x, 1/4))\n",
    "print(ans)"
   ]
  },
  {
   "cell_type": "markdown",
   "metadata": {},
   "source": [
    "## C - ピアニスト高橋君"
   ]
  },
  {
   "cell_type": "code",
   "execution_count": 16,
   "metadata": {},
   "outputs": [
    {
     "name": "stdout",
     "output_type": "stream",
     "text": [
      "WBWBWWBWBWBWWBWBWWBW\n",
      "Do\n"
     ]
    }
   ],
   "source": [
    "s_list = list(input())\n",
    "scale = ['Do', 'Re', 'Mi', 'Fa', 'So', 'La', 'Si']\n",
    "\n",
    "if s_list[1] == 'W':\n",
    "    if s_list[6] == 'B':\n",
    "        ans = 'Mi'\n",
    "    else:\n",
    "        ans = 'Si'\n",
    "else:\n",
    "    if s_list[3] == 'W':\n",
    "        if s_list[8] == 'B':\n",
    "            ans = 'Re'\n",
    "        else:\n",
    "            ans = 'La'\n",
    "    else:\n",
    "        if s_list[5] == 'B':\n",
    "            ans = 'Fa'\n",
    "        else:\n",
    "            if s_list[10] == 'B':\n",
    "                ans = 'Do'\n",
    "            else:\n",
    "                ans = 'So'\n",
    "print(ans)"
   ]
  },
  {
   "cell_type": "markdown",
   "metadata": {},
   "source": [
    "## D - 画像処理高橋君"
   ]
  },
  {
   "cell_type": "code",
   "execution_count": 36,
   "metadata": {},
   "outputs": [
    {
     "name": "stdout",
     "output_type": "stream",
     "text": [
      "4 4\n",
      "##..\n",
      "##..\n",
      "..##\n",
      "..##\n",
      "possible\n",
      "#...\n",
      "....\n",
      "....\n",
      "...#\n",
      "impossible\n"
     ]
    }
   ],
   "source": [
    "h, w = map(int, input().split())\n",
    "s_list = [list(input()) for _ in range(h)]\n",
    "\n",
    "white_points = []\n",
    "\n",
    "for hi in range(h):\n",
    "    for wi in range(w):\n",
    "        if s_list[hi][wi] == '.':\n",
    "            white_points.append([max(0, hi-1), max(0, wi-1)])\n",
    "            white_points.append([max(0, hi-1), wi])\n",
    "            white_points.append([max(0, hi-1), min(w-1, wi+1)])\n",
    "            white_points.append([hi, max(0, wi-1)])\n",
    "            white_points.append([hi, wi])\n",
    "            white_points.append([hi, min(w-1, wi+1)])\n",
    "            white_points.append([min(h-1, hi+1), max(0, wi-1)])\n",
    "            white_points.append([min(h-1, hi+1), wi])\n",
    "            white_points.append([min(h-1, hi+1), min(w-1, wi+1)])\n",
    "\n",
    "before_encode = [['#' for _ in range(w)] for _ in range(h)]\n",
    "after_encode = [['#' for _ in range(w)] for _ in range(h)]\n",
    "    \n",
    "for white_point in white_points:\n",
    "    before_encode[white_point[0]][white_point[1]] = '.'\n",
    "    after_encode[white_point[0]][white_point[1]] = '.'\n",
    "\n",
    "black_points = []\n",
    "    \n",
    "for hi in range(h):\n",
    "    for wi in range(w):\n",
    "        if before_encode[hi][wi] == '#':\n",
    "            black_points.append([max(0, hi-1), max(0, wi-1)])\n",
    "            black_points.append([max(0, hi-1), wi])\n",
    "            black_points.append([max(0, hi-1), min(w-1, wi+1)])\n",
    "            black_points.append([hi, max(0, wi-1)])\n",
    "            black_points.append([hi, wi])\n",
    "            black_points.append([hi, min(w-1, wi+1)])\n",
    "            black_points.append([min(h-1, hi+1), max(0, wi-1)])\n",
    "            black_points.append([min(h-1, hi+1), wi])\n",
    "            black_points.append([min(h-1, hi+1), min(w-1, wi+1)])\n",
    "            \n",
    "for black_point in black_points:\n",
    "    after_encode[black_point[0]][black_point[1]] = '#'\n",
    "\n",
    "if after_encode == s_list:\n",
    "    print('possible')\n",
    "    for before_encode_h in before_encode:\n",
    "        print(''.join(before_encode_h))\n",
    "else:\n",
    "    print('impossible')"
   ]
  },
  {
   "cell_type": "code",
   "execution_count": null,
   "metadata": {},
   "outputs": [],
   "source": []
  },
  {
   "cell_type": "code",
   "execution_count": null,
   "metadata": {},
   "outputs": [],
   "source": []
  }
 ],
 "metadata": {
  "kernelspec": {
   "display_name": "Python 3",
   "language": "python",
   "name": "python3"
  },
  "language_info": {
   "codemirror_mode": {
    "name": "ipython",
    "version": 3
   },
   "file_extension": ".py",
   "mimetype": "text/x-python",
   "name": "python",
   "nbconvert_exporter": "python",
   "pygments_lexer": "ipython3",
   "version": "3.7.4"
  }
 },
 "nbformat": 4,
 "nbformat_minor": 4
}
