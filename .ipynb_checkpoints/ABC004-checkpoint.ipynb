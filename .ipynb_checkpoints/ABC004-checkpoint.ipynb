{
 "cells": [
  {
   "cell_type": "markdown",
   "metadata": {},
   "source": [
    "## A - 流行"
   ]
  },
  {
   "cell_type": "code",
   "execution_count": 1,
   "metadata": {},
   "outputs": [
    {
     "name": "stdout",
     "output_type": "stream",
     "text": [
      "1000\n",
      "2000\n"
     ]
    }
   ],
   "source": [
    "print(2 * int(input()))"
   ]
  },
  {
   "cell_type": "markdown",
   "metadata": {},
   "source": [
    "## B - 回転"
   ]
  },
  {
   "cell_type": "code",
   "execution_count": 15,
   "metadata": {},
   "outputs": [
    {
     "name": "stdout",
     "output_type": "stream",
     "text": [
      "1 1 1 1\n",
      "a a a a \n",
      "a a a s\n",
      "d d f g\n",
      "g f d d\n",
      "s a a a\n",
      "a a a a\n",
      "1 1 1 1\n"
     ]
    }
   ],
   "source": [
    "c01, c02, c03, c04 = input().split()\n",
    "c11, c12, c13, c14 = input().split()\n",
    "c21, c22, c23, c24 = input().split()\n",
    "c31, c32, c33, c34 = input().split()\n",
    "\n",
    "print(c34, c33, c32, c31)\n",
    "print(c24, c23, c22, c21)\n",
    "print(c14, c13, c12, c11)\n",
    "print(c04, c03, c02, c01)"
   ]
  },
  {
   "cell_type": "markdown",
   "metadata": {},
   "source": [
    "## C - 入れ替え"
   ]
  },
  {
   "cell_type": "code",
   "execution_count": 62,
   "metadata": {},
   "outputs": [
    {
     "name": "stdout",
     "output_type": "stream",
     "text": [
      "22\n",
      "615234\n"
     ]
    }
   ],
   "source": [
    "n = int(input())\n",
    "nmod = n % 30\n",
    "nmod_nn, nmod_nnmod = divmod(nmod, 5)\n",
    "\n",
    "ans_list = [1, 2, 3, 4, 5, 6]\n",
    "\n",
    "ans_nmod_nn = ans_list[nmod_nn:] + list(range(1, nmod_nn + 1))\n",
    "\n",
    "insert_num = ans_nmod_nn[0]\n",
    "inserted_list = ans_nmod_nn[1:]\n",
    "inserted_list.insert(nmod_nnmod, insert_num)\n",
    "\n",
    "ans = ''\n",
    "for i in inserted_list:\n",
    "    ans += str(i)\n",
    "print(ans)"
   ]
  },
  {
   "cell_type": "markdown",
   "metadata": {},
   "source": [
    "## D - マーブル\n",
    "### 部分点: 10点 ( 1 <= r, g, b <= 5 )\n",
    "### 部分点: 30点 ( 1 <= r, g, b <= 40 )"
   ]
  },
  {
   "cell_type": "code",
   "execution_count": 111,
   "metadata": {},
   "outputs": [
    {
     "name": "stdout",
     "output_type": "stream",
     "text": [
      "2 3 4\n",
      "7\n"
     ]
    }
   ],
   "source": [
    "r, g, b = map(int, input().split())\n",
    "def cal_times(n):\n",
    "    times = 0\n",
    "    '''\n",
    "    両側に置いていくパターンを考える\n",
    "     1個 --- 0回\n",
    "     2個 --- 1回\n",
    "     3個 --- 2回\n",
    "     4個 --- 4回\n",
    "     5個 --- 6回\n",
    "     6個 --- 9回\n",
    "     7個 --- 12回\n",
    "     ...\n",
    "    '''\n",
    "    # nが奇数の時\n",
    "    # 0, 2, 6, 12, ...と増えていく\n",
    "    # nが偶数の時\n",
    "    # 1, 4, 9, 16, ...と増えていく\n",
    "    # 1からnまでの合計 sum(range(n))\n",
    "\n",
    "    if n % 2 ==1:\n",
    "        times = 0 + 2 * sum(range(int((n + 1) / 2)))\n",
    "    else:\n",
    "        times = 1 + sum(range(n)[3::2])\n",
    "    return times\n",
    "\n",
    "print(cal_times(r) + cal_times(g) + cal_times(b))"
   ]
  },
  {
   "cell_type": "code",
   "execution_count": null,
   "metadata": {},
   "outputs": [],
   "source": []
  }
 ],
 "metadata": {
  "kernelspec": {
   "display_name": "Python 3",
   "language": "python",
   "name": "python3"
  },
  "language_info": {
   "codemirror_mode": {
    "name": "ipython",
    "version": 3
   },
   "file_extension": ".py",
   "mimetype": "text/x-python",
   "name": "python",
   "nbconvert_exporter": "python",
   "pygments_lexer": "ipython3",
   "version": "3.7.4"
  }
 },
 "nbformat": 4,
 "nbformat_minor": 4
}
