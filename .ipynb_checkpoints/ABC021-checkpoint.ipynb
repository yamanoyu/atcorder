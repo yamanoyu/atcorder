{
 "cells": [
  {
   "cell_type": "markdown",
   "metadata": {},
   "source": [
    "## A - 足し算"
   ]
  },
  {
   "cell_type": "code",
   "execution_count": null,
   "metadata": {},
   "outputs": [],
   "source": [
    "n = int(input())\n",
    "n_quotient, n_remainder = divmod(n, 2)\n",
    "if n_remainder == 0:\n",
    "    ans1 = n_quotient\n",
    "    print(ans1)\n",
    "    [print(2) for _ in range(n_quotient)]\n",
    "else:\n",
    "    ans1 = n_quotient + 1\n",
    "    print(ans1)\n",
    "    print(1)\n",
    "    [print(2) for _ in range(n_quotient)]"
   ]
  },
  {
   "cell_type": "markdown",
   "metadata": {},
   "source": [
    "## B - 嘘つきの高橋くん"
   ]
  },
  {
   "cell_type": "code",
   "execution_count": 11,
   "metadata": {},
   "outputs": [
    {
     "name": "stdout",
     "output_type": "stream",
     "text": [
      "5\n",
      "1 5\n",
      "3\n",
      "3 4 2\n",
      "YES\n"
     ]
    }
   ],
   "source": [
    "n = int(input())\n",
    "a, b = map(int, input().split())\n",
    "k = int(input())\n",
    "p_list = list(map(int, input().split()))\n",
    "\n",
    "ans = 'NO'\n",
    "\n",
    "if len(list(set(p_list))) == len(p_list) and a not in p_list and b not in p_list:\n",
    "    ans = 'YES'\n",
    "\n",
    "print(ans)"
   ]
  },
  {
   "cell_type": "markdown",
   "metadata": {},
   "source": [
    "## C - 正直者の高橋くん"
   ]
  },
  {
   "cell_type": "code",
   "execution_count": 54,
   "metadata": {},
   "outputs": [
    {
     "name": "stdout",
     "output_type": "stream",
     "text": [
      "7\n",
      "1 7\n",
      "9\n",
      "1 2\n",
      "1 3\n",
      "4 2\n",
      "4 3\n",
      "4 5\n",
      "4 6\n",
      "7 5\n",
      "7 6\n",
      "4 7\n",
      "2\n"
     ]
    }
   ],
   "source": [
    "# 未実装\n",
    "n = int(input())\n",
    "a, b = map(int, input().split())\n",
    "m = int(input())\n",
    "\n",
    "next_points = [[] for _ in range(n)]\n",
    "\n",
    "# 各頂点と隣接している頂点のリスト\n",
    "for _ in range(m):\n",
    "    x, y = map(int, input().split())\n",
    "    next_points[x - 1].append(y)\n",
    "    next_points[y - 1].append(x)\n",
    "\n",
    "INF = 10 ** 9\n",
    "mod = 10 ** 9 + 7\n",
    "\n",
    "dist = [INF for _ in range(n)]  # 各頂点への距離を初期化\n",
    "ans_list = [0 for _ in range(n)]\n",
    "\n",
    "dist[a - 1] = 0\n",
    "ans_list[a - 1] = 1\n",
    "\n",
    "next_points = next_points[a-1:] + next_points[:a-1]\n",
    "\n",
    "for index, next_point in enumerate(next_points):\n",
    "    now_point = (index + a - 1) % n\n",
    "    for p in next_point:\n",
    "        if dist[p - 1] > dist[now_point] + 1:\n",
    "            dist[p - 1] = dist[now_point] + 1\n",
    "            ans_list[p - 1] = ans_list[now_point]\n",
    "        elif dist[p - 1] == dist[now_point] + 1:\n",
    "            ans_list[p - 1] += ans_list[now_point] \n",
    "\n",
    "ans = ans_list[b - 1] % mod\n",
    "print(ans)"
   ]
  },
  {
   "cell_type": "markdown",
   "metadata": {},
   "source": [
    "## D - 多重ループ"
   ]
  },
  {
   "cell_type": "code",
   "execution_count": 70,
   "metadata": {},
   "outputs": [
    {
     "name": "stdout",
     "output_type": "stream",
     "text": [
      "10\n",
      "3\n",
      "220\n"
     ]
    }
   ],
   "source": [
    "n = int(input())\n",
    "k = int(input())\n",
    "\n",
    "mod = 10 ** 9 + 7\n",
    "\n",
    "def cmb(n, r):\n",
    "    # Combinationを算出, 5C2 = 10など\n",
    "    if n - r < r: r = n - r\n",
    "    if r == 0: return 1\n",
    "    if r == 1: return n\n",
    "\n",
    "    numerator = [n - r + k + 1 for k in range(r)]\n",
    "    denominator = [k + 1 for k in range(r)]\n",
    "\n",
    "    for p in range(2, r+1):\n",
    "        pivot = denominator[p - 1]\n",
    "        if pivot > 1:\n",
    "            offset = (n - r) % p\n",
    "            for k in range(p-1, r, p):\n",
    "                numerator[k - offset] /= pivot\n",
    "                denominator[k] /= pivot\n",
    "    result = 1\n",
    "    for k in range(r):\n",
    "        if numerator[k] > 1:\n",
    "            result *= int(numerator[k])\n",
    "\n",
    "    return result\n",
    "\n",
    "ans = cmb(n+k-1, k) % mod\n",
    "print(ans)"
   ]
  },
  {
   "cell_type": "code",
   "execution_count": null,
   "metadata": {},
   "outputs": [],
   "source": []
  },
  {
   "cell_type": "code",
   "execution_count": null,
   "metadata": {},
   "outputs": [],
   "source": []
  },
  {
   "cell_type": "code",
   "execution_count": null,
   "metadata": {},
   "outputs": [],
   "source": []
  },
  {
   "cell_type": "code",
   "execution_count": null,
   "metadata": {},
   "outputs": [],
   "source": []
  },
  {
   "cell_type": "code",
   "execution_count": null,
   "metadata": {},
   "outputs": [],
   "source": []
  },
  {
   "cell_type": "code",
   "execution_count": null,
   "metadata": {},
   "outputs": [],
   "source": []
  },
  {
   "cell_type": "code",
   "execution_count": null,
   "metadata": {},
   "outputs": [],
   "source": []
  },
  {
   "cell_type": "code",
   "execution_count": null,
   "metadata": {},
   "outputs": [],
   "source": []
  },
  {
   "cell_type": "code",
   "execution_count": null,
   "metadata": {},
   "outputs": [],
   "source": []
  },
  {
   "cell_type": "code",
   "execution_count": null,
   "metadata": {},
   "outputs": [],
   "source": []
  },
  {
   "cell_type": "code",
   "execution_count": null,
   "metadata": {},
   "outputs": [],
   "source": []
  },
  {
   "cell_type": "code",
   "execution_count": null,
   "metadata": {},
   "outputs": [],
   "source": []
  },
  {
   "cell_type": "code",
   "execution_count": null,
   "metadata": {},
   "outputs": [],
   "source": []
  }
 ],
 "metadata": {
  "kernelspec": {
   "display_name": "Python 3",
   "language": "python",
   "name": "python3"
  },
  "language_info": {
   "codemirror_mode": {
    "name": "ipython",
    "version": 3
   },
   "file_extension": ".py",
   "mimetype": "text/x-python",
   "name": "python",
   "nbconvert_exporter": "python",
   "pygments_lexer": "ipython3",
   "version": "3.7.4"
  }
 },
 "nbformat": 4,
 "nbformat_minor": 4
}
