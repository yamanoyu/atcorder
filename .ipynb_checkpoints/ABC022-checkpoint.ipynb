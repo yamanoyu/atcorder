{
 "cells": [
  {
   "cell_type": "markdown",
   "metadata": {},
   "source": [
    "## A - Best Body"
   ]
  },
  {
   "cell_type": "code",
   "execution_count": 11,
   "metadata": {},
   "outputs": [
    {
     "name": "stdout",
     "output_type": "stream",
     "text": [
      "5 60 70\n",
      "50\n",
      "10\n",
      "10\n",
      "10\n",
      "10\n",
      "2\n"
     ]
    }
   ],
   "source": [
    "n, s, t = map(int, input().split())\n",
    "w = int(input())\n",
    "\n",
    "weght_list = [w]\n",
    "for _ in range(n-1):\n",
    "    weght_list.append(weght_list[-1] + int(input()))\n",
    "ans = sum([s <= weght <= t for weght in weght_list])\n",
    "print(ans)"
   ]
  },
  {
   "cell_type": "markdown",
   "metadata": {},
   "source": [
    "## B - Bumble Bee"
   ]
  },
  {
   "cell_type": "code",
   "execution_count": 12,
   "metadata": {},
   "outputs": [
    {
     "name": "stdout",
     "output_type": "stream",
     "text": [
      "5\n",
      "1\n",
      "2\n",
      "3\n",
      "2\n",
      "1\n",
      "2\n"
     ]
    }
   ],
   "source": [
    "n = int(input())\n",
    "flowers_list = [int(input()) for _ in  range(n)]\n",
    "ans = n - len(list(set(flowers_list)))\n",
    "print(ans)"
   ]
  },
  {
   "cell_type": "markdown",
   "metadata": {},
   "source": [
    "## C - Blue Bird"
   ]
  },
  {
   "cell_type": "code",
   "execution_count": 81,
   "metadata": {},
   "outputs": [
    {
     "name": "stdout",
     "output_type": "stream",
     "text": [
      "5 7\n",
      "1 2 2\n",
      "1 4 1\n",
      "2 3 7\n",
      "1 5 12\n",
      "3 5 2\n",
      "2 5 3\n",
      "3 4 5\n",
      "13\n"
     ]
    }
   ],
   "source": [
    "# 未実装\n",
    "# visit_this_timeが空になることがある\n",
    "\n",
    "import itertools\n",
    "\n",
    "\n",
    "n, m = map(int, input().split())\n",
    "\n",
    "INF = 10 ** 9\n",
    "\n",
    "dist_list = [[INF for _ in range(n)] for _ in range(n)]\n",
    "for _ in range(m):\n",
    "    u, v, l = map(int, input().split())\n",
    "    dist_list[u - 1][v - 1] = l\n",
    "    dist_list[v - 1][u - 1] = l\n",
    "\n",
    "\n",
    "# print(dist_list)\n",
    "\n",
    "def shortestPath(start_town, goal_town):\n",
    "    # 1から隣接する街への経路を消して、ダイクストラ法で最短経路を求める\n",
    "\n",
    "    dist_list_tmp = [y * 1 for y in [x for x in dist_list]]  # これは間違い。1を掛ける意味がない\n",
    "    dist_list_tmp[0][start_town - 1] = INF\n",
    "    dist_list_tmp[0][goal_town - 1] = INF\n",
    "    dist_list_tmp[start_town - 1][0] = INF\n",
    "    dist_list_tmp[goal_town - 1][0] = INF\n",
    "    \n",
    "    visited_list = [0 for _ in range(n)] \n",
    "    path_cost = 0\n",
    "    cost_list = [INF for _ in range(n)]\n",
    "    cost_list[start_town - 1] = 0\n",
    "    visited_list[start_town - 1] = 1\n",
    "    town = start_town\n",
    "    loop_count = 0\n",
    "    \n",
    "    while not all(visited_list):\n",
    "        min_cost = INF\n",
    "        visit_this_time = []\n",
    "        for next_town, next_town_dist in enumerate(dist_list_tmp[town - 1]):\n",
    "            if visited_list[next_town] == 0:\n",
    "                cost_list[next_town] = min(cost_list[next_town], cost_list[town - 1] + dist_list_tmp[town - 1][next_town])\n",
    "                if min_cost > cost_list[next_town]:\n",
    "                    min_cost = cost_list[next_town]\n",
    "                    visit_this_time = next_town\n",
    "        \n",
    "        visited_list[visit_this_time] = 1\n",
    "        town = visit_this_time + 1\n",
    "\n",
    "#         print('visited_list', visited_list)\n",
    "        loop_count += 1\n",
    "        if loop_count > n: break\n",
    "\n",
    "    return cost_list[goal_town - 1]\n",
    "                    \n",
    "\n",
    "next_takahashi = []\n",
    "\n",
    "for i, dist in enumerate(dist_list[0]):\n",
    "    if dist < INF:\n",
    "        next_takahashi.append(i+1)\n",
    "\n",
    "ans_list = []\n",
    "next_takahashi_cmb = list(itertools.combinations(next_takahashi, 2))\n",
    "\n",
    "for next_takahashi_town in next_takahashi_cmb:\n",
    "    start, goal = next_takahashi_town\n",
    "#     print(start, goal)\n",
    "    cost_tmp = shortestPath(start, goal)\n",
    "    \n",
    "#     print('shortestPath', cost_tmp)\n",
    "#     print('dist_list', dist_list)\n",
    "\n",
    "    if cost_tmp != INF:\n",
    "        ans_list.append(cost_tmp + dist_list[0][start - 1] + dist_list[0][goal - 1])\n",
    "        \n",
    "# print(ans_list)\n",
    "ans = min(ans_list) if len(ans_list) !=0 else -1\n",
    "print(ans)"
   ]
  },
  {
   "cell_type": "markdown",
   "metadata": {},
   "source": [
    "## D - Big Bang"
   ]
  },
  {
   "cell_type": "code",
   "execution_count": 102,
   "metadata": {},
   "outputs": [
    {
     "name": "stdout",
     "output_type": "stream",
     "text": [
      "4\n",
      "0  0\n",
      "0 1\n",
      "1 0\n",
      "1 1\n",
      "0 2\n",
      "-2 0\n",
      "0 -2\n",
      "2 0\n",
      "2.82842712474619\n"
     ]
    }
   ],
   "source": [
    "n = int(input())\n",
    "a_list = [list(map(int, input().split())) for _ in range(n)]\n",
    "b_list = [list(map(int, input().split())) for _ in range(n)]\n",
    "\n",
    "def center_coordinate(xy_list):\n",
    "    # 重心を求める\n",
    "    x_center = 0\n",
    "    y_center = 0\n",
    "    for x, y in xy_list:\n",
    "        x_center += x\n",
    "        y_center += y\n",
    "    center = [x_center / len(xy_list), y_center / len(xy_list)]\n",
    "    return center\n",
    "\n",
    "def max_length_coordinate(xy_list):\n",
    "    # 最遠点を求める\n",
    "    length_list = []\n",
    "    for xy in xy_list:\n",
    "        length = xy[0] ** 2 + xy[1] ** 2\n",
    "        length_list.append(length)\n",
    "\n",
    "    max_length_index = length_list.index(max(length_list))\n",
    "\n",
    "    return xy_list[max_length_index]\n",
    "\n",
    "\n",
    "def length_two_points(x1y1, x2y2):\n",
    "    # 二点間の距離の二乗を求める\n",
    "    length = ((x1y1[0] - x2y2[0]) ** 2 + (x1y1[1] - x2y2[1]) ** 2) ** 0.5\n",
    "    \n",
    "    return length\n",
    "\n",
    "a_center = center_coordinate(a_list)\n",
    "b_center = center_coordinate(b_list)\n",
    "a_max_point = max_length_coordinate(a_list)\n",
    "b_max_point = max_length_coordinate(b_list)\n",
    "\n",
    "ans = length_two_points(b_max_point, b_center) / length_two_points(a_max_point, a_center)\n",
    "\n",
    "print(ans)"
   ]
  },
  {
   "cell_type": "code",
   "execution_count": null,
   "metadata": {},
   "outputs": [],
   "source": []
  },
  {
   "cell_type": "code",
   "execution_count": null,
   "metadata": {},
   "outputs": [],
   "source": []
  }
 ],
 "metadata": {
  "kernelspec": {
   "display_name": "Python 3",
   "language": "python",
   "name": "python3"
  },
  "language_info": {
   "codemirror_mode": {
    "name": "ipython",
    "version": 3
   },
   "file_extension": ".py",
   "mimetype": "text/x-python",
   "name": "python",
   "nbconvert_exporter": "python",
   "pygments_lexer": "ipython3",
   "version": "3.7.4"
  }
 },
 "nbformat": 4,
 "nbformat_minor": 4
}
