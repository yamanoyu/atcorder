{
 "cells": [
  {
   "cell_type": "markdown",
   "metadata": {},
   "source": [
    "## A - Keyboard"
   ]
  },
  {
   "cell_type": "code",
   "execution_count": 3,
   "metadata": {},
   "outputs": [
    {
     "name": "stdout",
     "output_type": "stream",
     "text": [
      "N\n",
      "b\n",
      "b\n"
     ]
    }
   ],
   "source": [
    "s = input()\n",
    "t = input()\n",
    "if s == 'Y':\n",
    "    t = t.upper()\n",
    "\n",
    "ans = t\n",
    "print(ans)"
   ]
  },
  {
   "cell_type": "markdown",
   "metadata": {},
   "source": [
    "## B - Futon"
   ]
  },
  {
   "cell_type": "code",
   "execution_count": 8,
   "metadata": {},
   "outputs": [
    {
     "name": "stdout",
     "output_type": "stream",
     "text": [
      "2 2\n",
      ".#\n",
      "#.\n",
      "0\n"
     ]
    }
   ],
   "source": [
    "h, w = map(int, input().split())\n",
    "s_list = [list(input()) for _ in range(h)]\n",
    "ans = 0\n",
    "for i_s, s in enumerate(s_list):\n",
    "    for i_p, p in enumerate(s):\n",
    "        if i_p < w-1 and p == '.':\n",
    "            if s[i_p+1] == '.':\n",
    "                ans += 1\n",
    "        if i_s < h-1 and p == '.':\n",
    "            if s_list[i_s+1][i_p] == '.':\n",
    "                ans += 1\n",
    "print(ans)    "
   ]
  },
  {
   "cell_type": "markdown",
   "metadata": {},
   "source": [
    "## C - Neq Min"
   ]
  },
  {
   "cell_type": "code",
   "execution_count": 13,
   "metadata": {},
   "outputs": [
    {
     "name": "stdout",
     "output_type": "stream",
     "text": [
      "10\n",
      "5 4 3 2 1 0 7 7 6 6\n",
      "0\n",
      "0\n",
      "0\n",
      "0\n",
      "0\n",
      "6\n",
      "6\n",
      "6\n",
      "8\n",
      "8\n"
     ]
    }
   ],
   "source": [
    "# TLE\n",
    "n = int(input())\n",
    "p_list = map(int, input().split())\n",
    "\n",
    "tmp_list = []\n",
    "\n",
    "for p in p_list:\n",
    "    tmp_list.append(p)\n",
    "    ans_list = list(range(max(tmp_list)+1))\n",
    "    diff_list = list(set(ans_list) - set(tmp_list))\n",
    "    ans = min(diff_list) if len(diff_list) != 0 else max(tmp_list)+1\n",
    "    print(ans)"
   ]
  },
  {
   "cell_type": "code",
   "execution_count": 61,
   "metadata": {},
   "outputs": [
    {
     "name": "stdout",
     "output_type": "stream",
     "text": [
      "3\n",
      "1 2 3\n",
      "0\n",
      "0\n",
      "0\n"
     ]
    }
   ],
   "source": [
    "# TLE\n",
    "n = int(input())\n",
    "p_list = list(map(int, input().split()))\n",
    "\n",
    "# tmp_list = list(range(max(p_list)+2))\n",
    "tmp_list = list(range(2 * 10 ** 5 + 1))\n",
    "\n",
    "for p in p_list:\n",
    "    try:\n",
    "        tmp_list.remove(p)\n",
    "        ans = tmp_list[0]\n",
    "#         ans = min(tmp_list)\n",
    "\n",
    "    except:\n",
    "        ans = tmp_list[0]\n",
    "#         ans = min(tmp_list)\n",
    "    print(ans)"
   ]
  },
  {
   "cell_type": "code",
   "execution_count": 65,
   "metadata": {},
   "outputs": [
    {
     "name": "stdout",
     "output_type": "stream",
     "text": [
      "5\n",
      "0 1 2 3 4\n",
      "1\n",
      "2\n",
      "3\n",
      "4\n",
      "5\n"
     ]
    }
   ],
   "source": [
    "# set型のみで完結しないとTLEになる\n",
    "n = int(input())\n",
    "p_list = list(map(int, input().split()))\n",
    "\n",
    "tmp_list = set(range(2 * 10 ** 5 + 1))\n",
    "\n",
    "for p in p_list:\n",
    "    tmp_list.discard(p)\n",
    "    for t in tmp_list:\n",
    "        ans = t\n",
    "        break\n",
    "    print(ans)"
   ]
  },
  {
   "cell_type": "markdown",
   "metadata": {},
   "source": [
    "## D - Squares"
   ]
  },
  {
   "cell_type": "code",
   "execution_count": 31,
   "metadata": {},
   "outputs": [
    {
     "name": "stdout",
     "output_type": "stream",
     "text": [
      "\n"
     ]
    },
    {
     "ename": "ValueError",
     "evalue": "invalid literal for int() with base 10: ''",
     "output_type": "error",
     "traceback": [
      "\u001b[0;31m---------------------------------------------------------------------------\u001b[0m",
      "\u001b[0;31mValueError\u001b[0m                                Traceback (most recent call last)",
      "\u001b[0;32m<ipython-input-31-93d168f661e8>\u001b[0m in \u001b[0;36m<module>\u001b[0;34m\u001b[0m\n\u001b[0;32m----> 1\u001b[0;31m \u001b[0mt\u001b[0m \u001b[0;34m=\u001b[0m \u001b[0mint\u001b[0m\u001b[0;34m(\u001b[0m\u001b[0minput\u001b[0m\u001b[0;34m(\u001b[0m\u001b[0;34m)\u001b[0m\u001b[0;34m)\u001b[0m\u001b[0;34m\u001b[0m\u001b[0;34m\u001b[0m\u001b[0m\n\u001b[0m\u001b[1;32m      2\u001b[0m \u001b[0mnab_list\u001b[0m \u001b[0;34m=\u001b[0m \u001b[0;34m[\u001b[0m\u001b[0mlist\u001b[0m\u001b[0;34m(\u001b[0m\u001b[0mmap\u001b[0m\u001b[0;34m(\u001b[0m\u001b[0mint\u001b[0m\u001b[0;34m,\u001b[0m \u001b[0minput\u001b[0m\u001b[0;34m(\u001b[0m\u001b[0;34m)\u001b[0m\u001b[0;34m.\u001b[0m\u001b[0msplit\u001b[0m\u001b[0;34m(\u001b[0m\u001b[0;34m)\u001b[0m\u001b[0;34m)\u001b[0m\u001b[0;34m)\u001b[0m \u001b[0;32mfor\u001b[0m \u001b[0m_\u001b[0m \u001b[0;32min\u001b[0m \u001b[0mrange\u001b[0m\u001b[0;34m(\u001b[0m\u001b[0mt\u001b[0m\u001b[0;34m)\u001b[0m\u001b[0;34m]\u001b[0m\u001b[0;34m\u001b[0m\u001b[0;34m\u001b[0m\u001b[0m\n\u001b[1;32m      3\u001b[0m \u001b[0;34m\u001b[0m\u001b[0m\n\u001b[1;32m      4\u001b[0m \u001b[0mmod\u001b[0m \u001b[0;34m=\u001b[0m \u001b[0;36m10\u001b[0m \u001b[0;34m**\u001b[0m \u001b[0;36m9\u001b[0m \u001b[0;34m+\u001b[0m \u001b[0;36m7\u001b[0m\u001b[0;34m\u001b[0m\u001b[0;34m\u001b[0m\u001b[0m\n\u001b[1;32m      5\u001b[0m \u001b[0;34m\u001b[0m\u001b[0m\n",
      "\u001b[0;31mValueError\u001b[0m: invalid literal for int() with base 10: ''"
     ]
    }
   ],
   "source": [
    "t = int(input())\n",
    "nab_list = [list(map(int, input().split())) for _ in range(t)]\n",
    "\n",
    "mod = 10 ** 9 + 7\n",
    "\n",
    "for nab in nab_list:\n",
    "    n, a, b = nab[0], nab[1], nab[2]\n",
    "#     blue_enable = (n - a + 1) ** 2\n",
    "#     red_enable = (n - b + 1) ** 2\n",
    "    margin = n - (a + b)\n",
    "    if margin < 0:\n",
    "        ans = 0\n",
    "    else:\n",
    "        # margin==0\n",
    "        ((n - b + 1) * 2 - 1) * 4 + ((n - a + 1) - 2) * (n - b + 1) * 4\n",
    "        \n",
    "        # margin==1\n",
    "        # margin==0 * 4 + \n",
    "        ((n + margin - b + 1) * 2 - 1) * 4 + ((n + margin - a + 1) - 2) * (n + margin - b + 1) * 4"
   ]
  },
  {
   "cell_type": "code",
   "execution_count": 49,
   "metadata": {},
   "outputs": [
    {
     "name": "stdout",
     "output_type": "stream",
     "text": [
      "1\n",
      "4 2 1\n",
      "152\n"
     ]
    }
   ],
   "source": [
    "t = int(input())\n",
    "nab_list = [list(map(int, input().split())) for _ in range(t)]\n",
    "\n",
    "mod = 10 ** 9 + 7\n",
    "\n",
    "ans = 0\n",
    "\n",
    "for nab in nab_list:\n",
    "    n, a, b = nab[0], nab[1], nab[2]\n",
    "    margin = n - (a + b)\n",
    "    if margin < 0:\n",
    "        pass\n",
    "    else:\n",
    "        for i in range(margin + 1):\n",
    "            margin_pattern = ((n + margin - b + 1) * 2 - 1) * 4 + ((n + margin - a + 1) - 2) * (n + margin - b + 1) * 4\n",
    "            ans += margin_pattern\n",
    "ans = ans % mod\n",
    "print(ans)"
   ]
  },
  {
   "cell_type": "markdown",
   "metadata": {},
   "source": [
    "## E - Lamps"
   ]
  },
  {
   "cell_type": "code",
   "execution_count": 50,
   "metadata": {},
   "outputs": [
    {
     "data": {
      "text/plain": [
       "76"
      ]
     },
     "execution_count": 50,
     "metadata": {},
     "output_type": "execute_result"
    }
   ],
   "source": [
    "n = 4\n",
    "a = 2\n",
    "b = 1\n",
    "margin = n - (a + b)\n",
    "((n + margin - b + 1) * 2 - 1) * 4 + ((n + margin - a + 1) - 2) * (n + margin - b + 1) * 4"
   ]
  },
  {
   "cell_type": "code",
   "execution_count": 66,
   "metadata": {},
   "outputs": [],
   "source": [
    "a = [1,2,3]"
   ]
  },
  {
   "cell_type": "code",
   "execution_count": 70,
   "metadata": {},
   "outputs": [
    {
     "name": "stdout",
     "output_type": "stream",
     "text": [
      "1\n"
     ]
    }
   ],
   "source": [
    "a=set(a)\n",
    "for i in a:\n",
    "    print(i)\n",
    "    break"
   ]
  },
  {
   "cell_type": "code",
   "execution_count": null,
   "metadata": {},
   "outputs": [],
   "source": []
  }
 ],
 "metadata": {
  "kernelspec": {
   "display_name": "Python 3",
   "language": "python",
   "name": "python3"
  },
  "language_info": {
   "codemirror_mode": {
    "name": "ipython",
    "version": 3
   },
   "file_extension": ".py",
   "mimetype": "text/x-python",
   "name": "python",
   "nbconvert_exporter": "python",
   "pygments_lexer": "ipython3",
   "version": "3.7.4"
  }
 },
 "nbformat": 4,
 "nbformat_minor": 4
}
