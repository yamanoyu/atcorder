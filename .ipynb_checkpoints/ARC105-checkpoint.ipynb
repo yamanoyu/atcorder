{
 "cells": [
  {
   "cell_type": "markdown",
   "metadata": {},
   "source": [
    "## A - Fourtune Cookies"
   ]
  },
  {
   "cell_type": "code",
   "execution_count": 18,
   "metadata": {},
   "outputs": [
    {
     "name": "stdout",
     "output_type": "stream",
     "text": [
      "2 1 1 2\n",
      "[1, 1, 2, 2]\n",
      "Yes\n"
     ]
    }
   ],
   "source": [
    "cookie_list = list(map(int, input().split()))\n",
    "cookie_list.sort()\n",
    "\n",
    "ans = 'No'\n",
    "sum_half, sum_div = divmod(sum(cookie_list), 2)\n",
    "\n",
    "if sum_div == 0:\n",
    "    if cookie_list[0] + cookie_list[3] == sum_half:\n",
    "        ans = 'Yes'\n",
    "    if cookie_list[3] == sum_half:\n",
    "        ans = 'Yes'\n",
    "        \n",
    "print(ans)"
   ]
  },
  {
   "cell_type": "markdown",
   "metadata": {},
   "source": [
    "## B - MAX-=min"
   ]
  },
  {
   "cell_type": "code",
   "execution_count": 43,
   "metadata": {},
   "outputs": [
    {
     "name": "stdout",
     "output_type": "stream",
     "text": [
      "3\n",
      "2 6 6 \n",
      "2\n"
     ]
    }
   ],
   "source": [
    "# TLE\n",
    "n = int(input())\n",
    "a_list = list(map(int, input().split()))\n",
    "\n",
    "a_set = set(a_list)\n",
    "\n",
    "ans = 10 ** 9\n",
    "\n",
    "while True:\n",
    "    a_set_list = sorted(list(a_set))\n",
    "    \n",
    "    if len(a_set_list) == 1:\n",
    "        ans = a_set_list[0]\n",
    "        break\n",
    "    \n",
    "    a_set_list = a_set_list[:-1] + [a_set_list[-1] - a_set_list[0]]\n",
    "    a_set = set(a_set_list)\n",
    "    \n",
    "print(ans)"
   ]
  },
  {
   "cell_type": "code",
   "execution_count": 49,
   "metadata": {},
   "outputs": [
    {
     "name": "stdout",
     "output_type": "stream",
     "text": [
      "15\n",
      "546 3192 1932 630 2100 4116 3906 3234 1302 1806 3528 3780 252 1008 588 41\n",
      "1\n"
     ]
    }
   ],
   "source": [
    "import math\n",
    "from functools import reduce\n",
    "\n",
    "n = int(input())\n",
    "a_list = list(map(int, input().split()))\n",
    "\n",
    "ans = reduce(math.gcd, a_list)\n",
    "print(ans)"
   ]
  },
  {
   "cell_type": "markdown",
   "metadata": {},
   "source": [
    "## D - Let's Play Nim"
   ]
  },
  {
   "cell_type": "code",
   "execution_count": 55,
   "metadata": {},
   "outputs": [
    {
     "name": "stdout",
     "output_type": "stream",
     "text": [
      "1\n",
      "4\n",
      "1 1 2 3\n",
      "Second\n"
     ]
    }
   ],
   "source": [
    "# WA\n",
    "\n",
    "# NG\n",
    "# 2 2 2 2\n",
    "# 1 1 1 1\n",
    "# 1 1 2 2\n",
    "# 2 2\n",
    "# 1 1\n",
    "\n",
    "# OK\n",
    "# 1 2 2 2\n",
    "# 1 1 1 2\n",
    "# 2 2 2\n",
    "# 1 2 2\n",
    "# 1 1 2\n",
    "# 1 1 1\n",
    "# 1 2\n",
    "# 2\n",
    "# 1\n",
    "\n",
    "t = int(input())\n",
    "for _ in range(t):\n",
    "    n = int(input())\n",
    "    a_list = list(map(int, input().split()))\n",
    "    \n",
    "    if n == 1:\n",
    "        ans = 'Second'\n",
    "        \n",
    "    else:\n",
    "        if n % 2 == 0:\n",
    "            # 袋が空になった次の手はFirstからでSecondは皿を偶数にするか奇数にするか選べる\n",
    "            # 自分のターンで皿の合計が奇数個なら勝ち　-> Secondは皿を偶数で終えてくる\n",
    "            ans = 'First'\n",
    "            if a_list.count(1) % 2 == 0:\n",
    "                ans = 'Second'\n",
    "\n",
    "        else:\n",
    "            # 袋が空になった次の手はSecondからでFirstは皿を偶数にするか奇数にするか選べる\n",
    "            ans = 'Second'\n",
    "            \n",
    "    print(ans)"
   ]
  },
  {
   "cell_type": "code",
   "execution_count": null,
   "metadata": {},
   "outputs": [],
   "source": []
  }
 ],
 "metadata": {
  "kernelspec": {
   "display_name": "Python 3",
   "language": "python",
   "name": "python3"
  },
  "language_info": {
   "codemirror_mode": {
    "name": "ipython",
    "version": 3
   },
   "file_extension": ".py",
   "mimetype": "text/x-python",
   "name": "python",
   "nbconvert_exporter": "python",
   "pygments_lexer": "ipython3",
   "version": "3.7.4"
  }
 },
 "nbformat": 4,
 "nbformat_minor": 4
}
