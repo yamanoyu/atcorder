{
 "cells": [
  {
   "cell_type": "markdown",
   "metadata": {},
   "source": [
    "## A - 正直者"
   ]
  },
  {
   "cell_type": "code",
   "execution_count": 3,
   "metadata": {},
   "outputs": [
    {
     "name": "stdout",
     "output_type": "stream",
     "text": [
      "10 11\n",
      "11\n"
     ]
    }
   ],
   "source": [
    "input_list = list(map(int, input().split()))\n",
    "print(max(input_list))"
   ]
  },
  {
   "cell_type": "markdown",
   "metadata": {},
   "source": [
    "## B - 罠"
   ]
  },
  {
   "cell_type": "code",
   "execution_count": 4,
   "metadata": {},
   "outputs": [
    {
     "name": "stdout",
     "output_type": "stream",
     "text": [
      "abc\n",
      "bc\n"
     ]
    }
   ],
   "source": [
    "w = input()\n",
    "remove_list = ['a', 'i', 'u', 'e', 'o']\n",
    "\n",
    "for r in remove_list:\n",
    "    w = w.replace(r, '')\n",
    "print(w)"
   ]
  },
  {
   "cell_type": "markdown",
   "metadata": {},
   "source": [
    "## C - 直訴"
   ]
  },
  {
   "cell_type": "code",
   "execution_count": 6,
   "metadata": {},
   "outputs": [
    {
     "name": "stdout",
     "output_type": "stream",
     "text": [
      "1 0 3 0 2 5\n",
      "5.0\n"
     ]
    }
   ],
   "source": [
    "xa, ya, xb, yb, xc, yc = map(int, input().split())\n",
    "coordinate = [(0, 0), (xb-xa, yb-ya), (xc-xa, yc-ya)]\n",
    "ans = abs(coordinate[1][0] * coordinate[2][1] - coordinate[1][1] * coordinate[2][0]) / 2\n",
    "\n",
    "print(ans)"
   ]
  },
  {
   "cell_type": "markdown",
   "metadata": {},
   "source": [
    "## D - 派閥"
   ]
  },
  {
   "cell_type": "code",
   "execution_count": 105,
   "metadata": {},
   "outputs": [
    {
     "name": "stdout",
     "output_type": "stream",
     "text": [
      "5 3\n",
      "1 2\n",
      "2 3\n",
      "1 3\n",
      "(1, 2, 3, 4, 5)\n",
      "[(1, 2), (1, 3), (1, 4), (1, 5), (2, 3), (2, 4), (2, 5), (3, 4), (3, 5), (4, 5)]\n",
      "(2, 3, 4, 5)\n",
      "[(2, 3), (2, 4), (2, 5), (3, 4), (3, 5), (4, 5)]\n",
      "(1, 3, 4, 5)\n",
      "[(1, 3), (1, 4), (1, 5), (3, 4), (3, 5), (4, 5)]\n",
      "(1, 2, 4, 5)\n",
      "[(1, 2), (1, 4), (1, 5), (2, 4), (2, 5), (4, 5)]\n",
      "(1, 2, 3, 5)\n",
      "[(1, 2), (1, 3), (1, 5), (2, 3), (2, 5), (3, 5)]\n",
      "(1, 2, 3, 4)\n",
      "[(1, 2), (1, 3), (1, 4), (2, 3), (2, 4), (3, 4)]\n",
      "(3, 4, 5)\n",
      "[(3, 4), (3, 5), (4, 5)]\n",
      "(2, 4, 5)\n",
      "[(2, 4), (2, 5), (4, 5)]\n",
      "(2, 3, 5)\n",
      "[(2, 3), (2, 5), (3, 5)]\n",
      "(2, 3, 4)\n",
      "[(2, 3), (2, 4), (3, 4)]\n",
      "(1, 4, 5)\n",
      "[(1, 4), (1, 5), (4, 5)]\n",
      "(1, 3, 5)\n",
      "[(1, 3), (1, 5), (3, 5)]\n",
      "(1, 3, 4)\n",
      "[(1, 3), (1, 4), (3, 4)]\n",
      "(1, 2, 5)\n",
      "[(1, 2), (1, 5), (2, 5)]\n",
      "(1, 2, 4)\n",
      "[(1, 2), (1, 4), (2, 4)]\n",
      "(1, 2, 3)\n",
      "[(1, 2), (1, 3), (2, 3)]\n",
      "3\n"
     ]
    }
   ],
   "source": [
    "n, m = map(int, input().split())\n",
    "\n",
    "relation = []\n",
    "ans = 0\n",
    "\n",
    "for _ in range(m):\n",
    "    x, y = map(int, input().split())\n",
    "    relation.append((x, y))\n",
    "\n",
    "\n",
    "def all_combination(people_list):\n",
    "    # 人のリストから考えられる二人組を全て出力する関数\n",
    "    combination_list = []\n",
    "    for index, people in enumerate(people_list):\n",
    "        for people_behind in people_list[index + 1 : len(people_list)]:\n",
    "            combination_list.append((people, people_behind))\n",
    "    return combination_list\n",
    "\n",
    "def all_faction(number_of_people):\n",
    "    # 人数から考えられる全ての派閥のパターンを出力する関数\n",
    "    faction_list_bit = []\n",
    "    faction_list = []\n",
    "    # いったん[0, 1, 0, 1, 1, ...]のように派閥に入っている人を1で表す\n",
    "    for num in range(2 ** number_of_people):\n",
    "        faction_list_bit.append(tuple(map(int, list(bin(num)[2:].zfill(number_of_people)))))\n",
    "        \n",
    "    for faction_bit in faction_list_bit:\n",
    "        faction_list.append(tuple([ i + 1 for i, x in enumerate(faction_bit) if x == 1 ]))\n",
    "        \n",
    "    return sorted(faction_list, key=len, reverse=True) # タプルの長さが長い順に返す\n",
    "\n",
    "\n",
    "for f in all_faction(n):\n",
    "    if set(all_combination(f)).issubset(relation):\n",
    "        ans = len(f)\n",
    "        break\n",
    "        \n",
    "print(ans)"
   ]
  },
  {
   "cell_type": "code",
   "execution_count": null,
   "metadata": {},
   "outputs": [],
   "source": []
  },
  {
   "cell_type": "code",
   "execution_count": null,
   "metadata": {},
   "outputs": [],
   "source": []
  },
  {
   "cell_type": "code",
   "execution_count": null,
   "metadata": {},
   "outputs": [],
   "source": []
  }
 ],
 "metadata": {
  "kernelspec": {
   "display_name": "Python 3",
   "language": "python",
   "name": "python3"
  },
  "language_info": {
   "codemirror_mode": {
    "name": "ipython",
    "version": 3
   },
   "file_extension": ".py",
   "mimetype": "text/x-python",
   "name": "python",
   "nbconvert_exporter": "python",
   "pygments_lexer": "ipython3",
   "version": "3.7.4"
  }
 },
 "nbformat": 4,
 "nbformat_minor": 4
}
