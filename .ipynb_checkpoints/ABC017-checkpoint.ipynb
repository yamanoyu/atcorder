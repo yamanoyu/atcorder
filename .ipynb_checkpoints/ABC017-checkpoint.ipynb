{
 "cells": [
  {
   "cell_type": "markdown",
   "metadata": {},
   "source": [
    "## A - プロコン"
   ]
  },
  {
   "cell_type": "code",
   "execution_count": 1,
   "metadata": {},
   "outputs": [
    {
     "name": "stdout",
     "output_type": "stream",
     "text": [
      "10 1\n",
      "10 3\n",
      "10 5\n",
      "9\n"
     ]
    }
   ],
   "source": [
    "s1, e1 = map(int, input().split())\n",
    "s2, e2 = map(int, input().split())\n",
    "s3, e3 = map(int, input().split())\n",
    "\n",
    "ans = (s1 * e1 + s2 * e2 + s3 * e3) // 10\n",
    "print(ans)"
   ]
  },
  {
   "cell_type": "markdown",
   "metadata": {},
   "source": [
    "## B - choku語"
   ]
  },
  {
   "cell_type": "code",
   "execution_count": 27,
   "metadata": {},
   "outputs": [
    {
     "name": "stdout",
     "output_type": "stream",
     "text": [
      "chou\n",
      "YES\n"
     ]
    }
   ],
   "source": [
    "x = input()\n",
    "x = x.replace('ch', '0')\n",
    "choku_list = ['0', 'o', 'k', 'u']\n",
    "\n",
    "if not set(list(x)) - set(choku_list):\n",
    "    ans = 'YES'\n",
    "else:\n",
    "    ans = 'NO'\n",
    "\n",
    "    xprint(ans)"
   ]
  },
  {
   "cell_type": "markdown",
   "metadata": {},
   "source": [
    "## C - ハイスコア"
   ]
  },
  {
   "cell_type": "code",
   "execution_count": 46,
   "metadata": {},
   "outputs": [
    {
     "name": "stdout",
     "output_type": "stream",
     "text": [
      "4 6\n",
      "1 3 30\n",
      "2 3 40\n",
      "3 6 25\n",
      "6 6 10\n",
      "80\n"
     ]
    }
   ],
   "source": [
    "n, m = map(int, input().split())\n",
    "explore_list = [list(map(int, input().split())) for _ in range(n)]\n",
    "\n",
    "score_list = [0] * (m + 2)\n",
    "max_score = 0\n",
    "\n",
    "for explore in explore_list:\n",
    "    score_list[explore[0]] += explore[2]\n",
    "    score_list[explore[1] + 1] -= explore[2]\n",
    "    max_score += explore[2]\n",
    "\n",
    "for index in range(1, m+2):\n",
    "    score_list[index] = score_list[index] + score_list[index-1]\n",
    "\n",
    "ans = max_score - min(score_list[1:-1])\n",
    "\n",
    "print(ans)"
   ]
  },
  {
   "cell_type": "markdown",
   "metadata": {},
   "source": [
    "## D - サプリメント"
   ]
  },
  {
   "cell_type": "code",
   "execution_count": 44,
   "metadata": {},
   "outputs": [
    {
     "data": {
      "text/plain": [
       "[2, 3, 4]"
      ]
     },
     "execution_count": 44,
     "metadata": {},
     "output_type": "execute_result"
    }
   ],
   "source": [
    "a=[1,2,3,4,5]\n",
    "a[1:-1]"
   ]
  },
  {
   "cell_type": "code",
   "execution_count": null,
   "metadata": {},
   "outputs": [],
   "source": []
  }
 ],
 "metadata": {
  "kernelspec": {
   "display_name": "Python 3",
   "language": "python",
   "name": "python3"
  },
  "language_info": {
   "codemirror_mode": {
    "name": "ipython",
    "version": 3
   },
   "file_extension": ".py",
   "mimetype": "text/x-python",
   "name": "python",
   "nbconvert_exporter": "python",
   "pygments_lexer": "ipython3",
   "version": "3.7.4"
  }
 },
 "nbformat": 4,
 "nbformat_minor": 4
}
