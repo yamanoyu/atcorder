{
 "cells": [
  {
   "cell_type": "markdown",
   "metadata": {},
   "source": [
    "## A - アルバム"
   ]
  },
  {
   "cell_type": "code",
   "execution_count": 1,
   "metadata": {},
   "outputs": [
    {
     "name": "stdout",
     "output_type": "stream",
     "text": [
      "1 1\n",
      "1\n"
     ]
    }
   ],
   "source": [
    "s, t =  map(int, input().split())\n",
    "ans = t - s + 1\n",
    "print(ans)"
   ]
  },
  {
   "cell_type": "markdown",
   "metadata": {},
   "source": [
    "## B - 投票"
   ]
  },
  {
   "cell_type": "code",
   "execution_count": 8,
   "metadata": {},
   "outputs": [
    {
     "name": "stdout",
     "output_type": "stream",
     "text": [
      "9\n",
      "a\n",
      "a\n",
      "a\n",
      "a\n",
      "s\n",
      "d\n",
      "f\n",
      "g\n",
      "t\n",
      "Counter({'a': 4, 's': 1, 'd': 1, 'f': 1, 'g': 1, 't': 1})\n",
      "a\n"
     ]
    }
   ],
   "source": [
    "import collections\n",
    "\n",
    "n = int(input())\n",
    "name_list = []\n",
    "for _ in range(n):\n",
    "    name_list.append(input())\n",
    "\n",
    "name_count = collections.Counter(name_list)\n",
    "print(max(name_count, key=name_count.get))"
   ]
  },
  {
   "cell_type": "code",
   "execution_count": 53,
   "metadata": {},
   "outputs": [
    {
     "name": "stdout",
     "output_type": "stream",
     "text": [
      "5\n",
      "r\n",
      "r\n",
      "d\n",
      "f\n",
      "f\n",
      "r\n"
     ]
    }
   ],
   "source": [
    "n = int(input())\n",
    "name_list = []\n",
    "for _ in range(n):\n",
    "    name_list.append(input())\n",
    "\n",
    "name_count = {}\n",
    "\n",
    "for name in set(name_list):\n",
    "    name_count[name] = name_list.count(name)\n",
    "\n",
    "ans = max(name_count, key=name_count.get)\n",
    "print(ans)"
   ]
  },
  {
   "cell_type": "markdown",
   "metadata": {},
   "source": [
    "## C - コイン"
   ]
  },
  {
   "cell_type": "code",
   "execution_count": 86,
   "metadata": {},
   "outputs": [
    {
     "name": "stdout",
     "output_type": "stream",
     "text": [
      "3\n",
      "2\n",
      "4\n",
      "8\n",
      "2 1\n",
      "4 2\n",
      "8 3\n",
      "12\n"
     ]
    }
   ],
   "source": [
    "# 未実装\n",
    "\n",
    "n = int(input())\n",
    "coin_list = []\n",
    "for _ in range(n):\n",
    "    coin_list.append(int(input()))\n",
    "\n",
    "def make_divisors(n):\n",
    "    # 約数リストを返す関数\n",
    "    lower_divisors , upper_divisors = [], []\n",
    "    i = 1\n",
    "    while i*i <= n:\n",
    "        if n % i == 0:\n",
    "            lower_divisors.append(i)\n",
    "            if i != n // i:\n",
    "                upper_divisors.append(n//i)\n",
    "        i += 1\n",
    "    return lower_divisors + upper_divisors[::-1]\n",
    "\n",
    "def factorial(n):\n",
    "    fact_n = 1\n",
    "    for num in range(1, n+1):\n",
    "        fact_n *= num\n",
    "    return fact_n\n",
    "\n",
    "\n",
    "ans = 0\n",
    "\n",
    "for coin in coin_list:\n",
    "    divisions_count = 0\n",
    "    for coin_dev in coin_list:\n",
    "        if coin % coin_dev == 0:\n",
    "            divisions_count += 1\n",
    "    print(coin, divisions_count)\n",
    "    if divisions_count != 1:\n",
    "        ans += factorial(divisions_count - 1) * (divisions_count // 2 + 1)\n",
    "    else:\n",
    "        ans += factorial(n)\n",
    "        \n",
    "print(ans)"
   ]
  },
  {
   "cell_type": "markdown",
   "metadata": {},
   "source": [
    "## D - 金塊ゲーム"
   ]
  },
  {
   "cell_type": "code",
   "execution_count": 89,
   "metadata": {},
   "outputs": [
    {
     "name": "stdout",
     "output_type": "stream",
     "text": [
      "6 4\n",
      "3\n",
      "2 4\n",
      "3 1\n",
      "4 3\n"
     ]
    },
    {
     "data": {
      "text/plain": [
       "[[2, 4], [3, 1], [4, 3]]"
      ]
     },
     "execution_count": 89,
     "metadata": {},
     "output_type": "execute_result"
    }
   ],
   "source": [
    "# 未実装\n",
    "\n",
    "w, h =  map(int, input().split())\n",
    "n = int(input())\n",
    "machine_list = []\n",
    "for _ in range(n):\n",
    "    machine_list.append(list(map(int, input().split())))\n",
    "    \n",
    "# 端の点\n",
    "corner_list = [[1, 1], [1, h], [w, 1], [w, h]]\n",
    "\n",
    "machine_list"
   ]
  },
  {
   "cell_type": "code",
   "execution_count": null,
   "metadata": {},
   "outputs": [],
   "source": []
  }
 ],
 "metadata": {
  "kernelspec": {
   "display_name": "Python 3",
   "language": "python",
   "name": "python3"
  },
  "language_info": {
   "codemirror_mode": {
    "name": "ipython",
    "version": 3
   },
   "file_extension": ".py",
   "mimetype": "text/x-python",
   "name": "python",
   "nbconvert_exporter": "python",
   "pygments_lexer": "ipython3",
   "version": "3.7.4"
  }
 },
 "nbformat": 4,
 "nbformat_minor": 4
}
