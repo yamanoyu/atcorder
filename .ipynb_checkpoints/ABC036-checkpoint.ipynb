{
 "cells": [
  {
   "cell_type": "markdown",
   "metadata": {},
   "source": [
    "## A - お茶"
   ]
  },
  {
   "cell_type": "code",
   "execution_count": 2,
   "metadata": {},
   "outputs": [
    {
     "name": "stdout",
     "output_type": "stream",
     "text": [
      "12 25\n",
      "3\n"
     ]
    }
   ],
   "source": [
    "a, b = map(int, input().split())\n",
    "ans = b // a if b % a == 0 else b // a + 1\n",
    "\n",
    "print(ans)"
   ]
  },
  {
   "cell_type": "markdown",
   "metadata": {},
   "source": [
    "## B - 回転"
   ]
  },
  {
   "cell_type": "code",
   "execution_count": 12,
   "metadata": {},
   "outputs": [
    {
     "name": "stdout",
     "output_type": "stream",
     "text": [
      "4\n",
      "ooxx\n",
      "xoox\n",
      "xxxx\n",
      "xxxx\n",
      "xxxx\n",
      "xxox\n",
      "xxoo\n",
      "xxxo\n"
     ]
    }
   ],
   "source": [
    "n = int(input())\n",
    "s_list = [list(input()) for _ in range(n)]\n",
    "\n",
    "for i in range(n):    \n",
    "    ans_list = []\n",
    "    for s in reversed(s_list):\n",
    "        ans_list.append(s[i])\n",
    "    print(''.join(ans_list))"
   ]
  },
  {
   "cell_type": "markdown",
   "metadata": {},
   "source": [
    "## C - 座圧"
   ]
  },
  {
   "cell_type": "code",
   "execution_count": 16,
   "metadata": {},
   "outputs": [
    {
     "name": "stdout",
     "output_type": "stream",
     "text": [
      "5\n",
      "3\n",
      "3\n",
      "1\n",
      "6\n",
      "1\n",
      "1\n",
      "1\n",
      "0\n",
      "2\n",
      "0\n"
     ]
    }
   ],
   "source": [
    "# TLE\n",
    "n = int(input())\n",
    "\n",
    "a_list = [int(input()) for _ in range(n)]\n",
    "a_list_set = set(a_list)\n",
    "a_rank_list = sorted(list(a_list_set))\n",
    "\n",
    "for a in a_list:\n",
    "    ans = a_rank_list.index(a)\n",
    "    print(ans)"
   ]
  },
  {
   "cell_type": "markdown",
   "metadata": {},
   "source": [
    "## "
   ]
  }
 ],
 "metadata": {
  "kernelspec": {
   "display_name": "Python 3",
   "language": "python",
   "name": "python3"
  },
  "language_info": {
   "codemirror_mode": {
    "name": "ipython",
    "version": 3
   },
   "file_extension": ".py",
   "mimetype": "text/x-python",
   "name": "python",
   "nbconvert_exporter": "python",
   "pygments_lexer": "ipython3",
   "version": "3.7.4"
  }
 },
 "nbformat": 4,
 "nbformat_minor": 4
}
