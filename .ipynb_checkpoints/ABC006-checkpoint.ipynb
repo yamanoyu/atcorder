{
 "cells": [
  {
   "cell_type": "markdown",
   "metadata": {},
   "source": [
    "## A - 世界のFizzBuzz"
   ]
  },
  {
   "cell_type": "code",
   "execution_count": 1,
   "metadata": {},
   "outputs": [
    {
     "name": "stdout",
     "output_type": "stream",
     "text": [
      "2\n",
      "no\n"
     ]
    }
   ],
   "source": [
    "n = int(input())\n",
    "\n",
    "ans = 'NO'\n",
    "if n % 3 == 0:\n",
    "    ans = 'YES'\n",
    "\n",
    "print(ans)"
   ]
  },
  {
   "cell_type": "markdown",
   "metadata": {},
   "source": [
    "## B - トリボナッチ数列"
   ]
  },
  {
   "cell_type": "code",
   "execution_count": 35,
   "metadata": {},
   "outputs": [
    {
     "name": "stdout",
     "output_type": "stream",
     "text": [
      "100000\n",
      "7927\n"
     ]
    }
   ],
   "source": [
    "n = int(input())\n",
    "init_list = [0, 0, 1]\n",
    "mod = 10007\n",
    "\n",
    "for _ in range(n-3):\n",
    "    list_next = sum(init_list[-3:])\n",
    "    init_list.append(int(list_next % mod))\n",
    "if n ==1:\n",
    "    ans = init_list[0]\n",
    "elif n == 2:\n",
    "    ans = init_list[1]\n",
    "elif n ==3:\n",
    "    ans = init_list[2]\n",
    "else:\n",
    "    ans = init_list[n-1]\n",
    "    \n",
    "print(ans)"
   ]
  },
  {
   "cell_type": "markdown",
   "metadata": {},
   "source": [
    "## C - スフィンクスのなぞなぞ"
   ]
  },
  {
   "cell_type": "code",
   "execution_count": 93,
   "metadata": {},
   "outputs": [
    {
     "name": "stdout",
     "output_type": "stream",
     "text": [
      "7 23\n",
      "0 5 2\n"
     ]
    }
   ],
   "source": [
    "n, m = map(int, input().split())\n",
    "\n",
    "adult = 2\n",
    "old = 3\n",
    "child = 4\n",
    "ans = []\n",
    "\n",
    "# n人の時に考えられる足の本数は n * adult <= m <= child * n\n",
    "if n * adult <= m <= n * child:\n",
    "    for adult_n in range(n+1):\n",
    "        for old_n in range(n-adult_n+1):\n",
    "            child_n = n - adult_n - old_n\n",
    "            legs = adult_n * adult + old_n * old + child_n * child\n",
    "            if legs == m:\n",
    "                ans = [adult_n, old_n, child_n]\n",
    "                break \n",
    "        if len(ans) == 3: break\n",
    "else:\n",
    "    ans = [-1, -1, -1]\n",
    "\n",
    "print(str(ans[0]) + ' ' + str(ans[1]) + ' ' + str(ans[2]))"
   ]
  },
  {
   "cell_type": "markdown",
   "metadata": {},
   "source": [
    "## D - トランプ挿入ソート"
   ]
  },
  {
   "cell_type": "code",
   "execution_count": 114,
   "metadata": {},
   "outputs": [
    {
     "name": "stdout",
     "output_type": "stream",
     "text": [
      "7\n",
      "1\n",
      "2\n",
      "3\n",
      "4\n",
      "5\n",
      "6\n",
      "7\n",
      "0\n"
     ]
    }
   ],
   "source": [
    "n = int(input())\n",
    "c = []\n",
    "for _ in range(n):\n",
    "    c.append(int(input()))\n",
    "ans = 0\n",
    "'''\n",
    "1から順に探す方法ではダメ。[4, 3, 1, 2, 5]などの場合は3, 4の2回で済む。\n",
    "for i, cn in enumerate(c):\n",
    "    index = i + 1\n",
    "    if cn != index:\n",
    "        c.remove(index)\n",
    "        c.insert(i, index)\n",
    "        ans += 1\n",
    "'''\n",
    "c_max = max(c)\n",
    "index_list = list(range(n))\n",
    "\n",
    "index_list.reverse()\n",
    "for i in index_list:\n",
    "    if c[i] != i + 1:\n",
    "        c.remove(i + 1)\n",
    "        c.insert(i, i + 1)\n",
    "        ans += 1\n",
    "\n",
    "print(ans)"
   ]
  },
  {
   "cell_type": "code",
   "execution_count": null,
   "metadata": {},
   "outputs": [],
   "source": []
  },
  {
   "cell_type": "code",
   "execution_count": null,
   "metadata": {},
   "outputs": [],
   "source": []
  }
 ],
 "metadata": {
  "kernelspec": {
   "display_name": "Python 3",
   "language": "python",
   "name": "python3"
  },
  "language_info": {
   "codemirror_mode": {
    "name": "ipython",
    "version": 3
   },
   "file_extension": ".py",
   "mimetype": "text/x-python",
   "name": "python",
   "nbconvert_exporter": "python",
   "pygments_lexer": "ipython3",
   "version": "3.7.4"
  }
 },
 "nbformat": 4,
 "nbformat_minor": 4
}
