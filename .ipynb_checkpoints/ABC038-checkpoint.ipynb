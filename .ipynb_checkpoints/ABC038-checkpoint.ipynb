{
 "cells": [
  {
   "cell_type": "markdown",
   "metadata": {},
   "source": [
    "## A - お茶"
   ]
  },
  {
   "cell_type": "code",
   "execution_count": 3,
   "metadata": {},
   "outputs": [
    {
     "name": "stdout",
     "output_type": "stream",
     "text": [
      "FGHT\n",
      "YES\n"
     ]
    }
   ],
   "source": [
    "s = input()\n",
    "ans = 'YES' if s[-1] == 'T' else 'NO'\n",
    "print(ans)"
   ]
  },
  {
   "cell_type": "markdown",
   "metadata": {},
   "source": [
    "## B - ディスプレイ"
   ]
  },
  {
   "cell_type": "code",
   "execution_count": 7,
   "metadata": {},
   "outputs": [
    {
     "name": "stdout",
     "output_type": "stream",
     "text": [
      "1 1\n",
      "2 1\n",
      "YES\n"
     ]
    }
   ],
   "source": [
    "h1, w1 = map(int, input().split())\n",
    "h2, w2 = map(int, input().split())\n",
    "\n",
    "ans = 'YES' if (h1 == h2 or h1 == w2) or (w1 == h2 or w1 == w2) else 'NO'\n",
    "\n",
    "print(ans)"
   ]
  },
  {
   "cell_type": "markdown",
   "metadata": {},
   "source": [
    "## C - 単調増加"
   ]
  },
  {
   "cell_type": "code",
   "execution_count": 10,
   "metadata": {},
   "outputs": [
    {
     "name": "stdout",
     "output_type": "stream",
     "text": [
      "3\n",
      "1 1 2\n",
      "4\n"
     ]
    }
   ],
   "source": [
    "n = int(input())\n",
    "a_list = list(map(int, input().split()))\n",
    "\n",
    "start_index = 0\n",
    "goal_index = 0\n",
    "cont_flag = 0\n",
    "\n",
    "ans = n\n",
    "\n",
    "for i in range(1, n):\n",
    "    if a_list[i-1] < a_list[i]:\n",
    "        cont_flag += 1\n",
    "    else:\n",
    "        cont_flag = 0\n",
    "    ans += cont_flag\n",
    "        \n",
    "print(ans)            "
   ]
  },
  {
   "cell_type": "markdown",
   "metadata": {},
   "source": [
    "## D - プレゼント"
   ]
  },
  {
   "cell_type": "code",
   "execution_count": null,
   "metadata": {},
   "outputs": [],
   "source": []
  }
 ],
 "metadata": {
  "kernelspec": {
   "display_name": "Python 3",
   "language": "python",
   "name": "python3"
  },
  "language_info": {
   "codemirror_mode": {
    "name": "ipython",
    "version": 3
   },
   "file_extension": ".py",
   "mimetype": "text/x-python",
   "name": "python",
   "nbconvert_exporter": "python",
   "pygments_lexer": "ipython3",
   "version": "3.7.4"
  }
 },
 "nbformat": 4,
 "nbformat_minor": 4
}
