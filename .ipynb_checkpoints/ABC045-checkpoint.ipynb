{
 "cells": [
  {
   "cell_type": "markdown",
   "metadata": {},
   "source": [
    "## A - 台形"
   ]
  },
  {
   "cell_type": "code",
   "execution_count": 1,
   "metadata": {},
   "outputs": [
    {
     "name": "stdout",
     "output_type": "stream",
     "text": [
      "4\n",
      "4\n",
      "4\n",
      "16\n"
     ]
    }
   ],
   "source": [
    "a = int(input())\n",
    "b = int(input())\n",
    "h = int(input())\n",
    " \n",
    "ans = (a + b) * h // 2\n",
    " \n",
    "print(ans)"
   ]
  },
  {
   "cell_type": "markdown",
   "metadata": {},
   "source": [
    "## B - 3人でカードゲームイージー"
   ]
  },
  {
   "cell_type": "code",
   "execution_count": 17,
   "metadata": {},
   "outputs": [
    {
     "name": "stdout",
     "output_type": "stream",
     "text": [
      "aca\n",
      "accc\n",
      "ca\n",
      "a\n",
      "c\n",
      "c\n",
      "a\n",
      "a\n",
      "A\n"
     ]
    }
   ],
   "source": [
    "sa_list = list(input())\n",
    "sb_list = list(input())\n",
    "sc_list = list(input())\n",
    "\n",
    "pointer = 'a'\n",
    "\n",
    "ai = 0\n",
    "bi = 0\n",
    "ci = 0\n",
    "\n",
    "while ai <= len(sa_list) and bi <= len(sb_list) and ci <= len(sc_list):\n",
    "    if pointer == 'a':\n",
    "        try:\n",
    "            pointer = sa_list[ai]\n",
    "        except IndexError:\n",
    "            break\n",
    "        ai += 1\n",
    "    elif pointer == 'b':\n",
    "        try:\n",
    "            pointer = sb_list[bi]\n",
    "        except IndexError:\n",
    "            break\n",
    "        bi += 1\n",
    "    else:\n",
    "        try:\n",
    "            pointer = sc_list[ci]\n",
    "        except IndexError:\n",
    "            break\n",
    "        ci += 1\n",
    "        \n",
    "ans = pointer.upper()\n",
    "print(ans)"
   ]
  },
  {
   "cell_type": "markdown",
   "metadata": {},
   "source": [
    "## C - たくさんの数式"
   ]
  },
  {
   "cell_type": "code",
   "execution_count": 44,
   "metadata": {},
   "outputs": [
    {
     "name": "stdout",
     "output_type": "stream",
     "text": [
      "9999999999\n",
      "12656242944\n"
     ]
    }
   ],
   "source": [
    "import re\n",
    "s = input()\n",
    "ans = 0\n",
    "\n",
    "for i in range(2 ** (len(s) - 1)):\n",
    "    plus_bit = bin(i)[2:].zfill(len(s) - 1)\n",
    "    \n",
    "    start = 0\n",
    "    \n",
    "    for index, plus in enumerate(list(plus_bit)):\n",
    "        if plus == '1':\n",
    "            ans += int(s[start : index + 1])\n",
    "            start = index + 1\n",
    "    ans += int(s[start :])\n",
    "\n",
    "print(ans)"
   ]
  },
  {
   "cell_type": "markdown",
   "metadata": {},
   "source": [
    "## D - すぬけ君の塗り絵"
   ]
  },
  {
   "cell_type": "code",
   "execution_count": 58,
   "metadata": {},
   "outputs": [
    {
     "name": "stdout",
     "output_type": "stream",
     "text": [
      "\n"
     ]
    },
    {
     "ename": "ValueError",
     "evalue": "not enough values to unpack (expected 3, got 0)",
     "output_type": "error",
     "traceback": [
      "\u001b[0;31m---------------------------------------------------------------------------\u001b[0m",
      "\u001b[0;31mValueError\u001b[0m                                Traceback (most recent call last)",
      "\u001b[0;32m<ipython-input-58-f568a7192cb4>\u001b[0m in \u001b[0;36m<module>\u001b[0;34m\u001b[0m\n\u001b[0;32m----> 1\u001b[0;31m \u001b[0mh\u001b[0m\u001b[0;34m,\u001b[0m \u001b[0mw\u001b[0m \u001b[0;34m,\u001b[0m \u001b[0mn\u001b[0m \u001b[0;34m=\u001b[0m \u001b[0mmap\u001b[0m\u001b[0;34m(\u001b[0m\u001b[0mint\u001b[0m\u001b[0;34m,\u001b[0m \u001b[0minput\u001b[0m\u001b[0;34m(\u001b[0m\u001b[0;34m)\u001b[0m\u001b[0;34m.\u001b[0m\u001b[0msplit\u001b[0m\u001b[0;34m(\u001b[0m\u001b[0;34m)\u001b[0m\u001b[0;34m)\u001b[0m\u001b[0;34m\u001b[0m\u001b[0;34m\u001b[0m\u001b[0m\n\u001b[0m\u001b[1;32m      2\u001b[0m \u001b[0;34m\u001b[0m\u001b[0m\n\u001b[1;32m      3\u001b[0m \u001b[0mans_list\u001b[0m \u001b[0;34m=\u001b[0m \u001b[0;34m[\u001b[0m\u001b[0;36m0\u001b[0m\u001b[0;34m]\u001b[0m \u001b[0;34m*\u001b[0m \u001b[0;36m10\u001b[0m\u001b[0;34m\u001b[0m\u001b[0;34m\u001b[0m\u001b[0m\n\u001b[1;32m      4\u001b[0m \u001b[0msquares_dict\u001b[0m \u001b[0;34m=\u001b[0m \u001b[0;34m{\u001b[0m\u001b[0;34m}\u001b[0m\u001b[0;34m\u001b[0m\u001b[0;34m\u001b[0m\u001b[0m\n\u001b[1;32m      5\u001b[0m \u001b[0;34m\u001b[0m\u001b[0m\n",
      "\u001b[0;31mValueError\u001b[0m: not enough values to unpack (expected 3, got 0)"
     ]
    }
   ],
   "source": [
    "h, w , n = map(int, input().split())\n",
    "\n",
    "ans_list = [0] * 10\n",
    "squares_dict = {}\n",
    "\n",
    "for _ in range(n):\n",
    "    a, b = map(int, input().split())\n",
    "    for k_y in range(-1, 2):\n",
    "        for k_x in range(-1, 2):\n",
    "            i, j = a + k_y, b + k_x\n",
    "            k = (i - 1) * w + j  # 左からiマス目, 上からjマス目を数字に置き換える\n",
    "            if 1 < i < h and 1 < j < w:\n",
    "                if not k in squares_dict:\n",
    "                    squares_dict[k] = 1\n",
    "                    ans_list[1] += 1\n",
    "                else:\n",
    "                    ans_list[squares_dict[k]] -= 1\n",
    "                    ans_list[squares_dict[k] + 1] += 1\n",
    "                    squares_dict[k] += 1\n",
    "\n",
    "ans_list[0] = (h - 2) * (w - 2) - sum(ans_list)\n",
    "                \n",
    "for ans in ans_list:\n",
    "    print(ans)   "
   ]
  }
 ],
 "metadata": {
  "kernelspec": {
   "display_name": "Python 3",
   "language": "python",
   "name": "python3"
  },
  "language_info": {
   "codemirror_mode": {
    "name": "ipython",
    "version": 3
   },
   "file_extension": ".py",
   "mimetype": "text/x-python",
   "name": "python",
   "nbconvert_exporter": "python",
   "pygments_lexer": "ipython3",
   "version": "3.7.4"
  }
 },
 "nbformat": 4,
 "nbformat_minor": 4
}
