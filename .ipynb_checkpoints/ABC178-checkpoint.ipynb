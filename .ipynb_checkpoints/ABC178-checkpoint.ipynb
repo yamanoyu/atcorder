{
 "cells": [
  {
   "cell_type": "markdown",
   "metadata": {},
   "source": [
    "## A"
   ]
  },
  {
   "cell_type": "code",
   "execution_count": 3,
   "metadata": {},
   "outputs": [
    {
     "name": "stdout",
     "output_type": "stream",
     "text": [
      "0\n",
      "1\n"
     ]
    }
   ],
   "source": [
    "x = input()\n",
    "if x == '1':\n",
    "    ans = '0'\n",
    "elif x == '0':\n",
    "    ans = '1'\n",
    "print(ans)"
   ]
  },
  {
   "cell_type": "markdown",
   "metadata": {},
   "source": [
    "## B"
   ]
  },
  {
   "cell_type": "code",
   "execution_count": 6,
   "metadata": {},
   "outputs": [
    {
     "name": "stdout",
     "output_type": "stream",
     "text": [
      "-1000000000 0 -1000000000 0\n",
      "1000000000000000000\n"
     ]
    }
   ],
   "source": [
    "a, b, c, d = map(int, input().split())\n",
    "\n",
    "ac = a * c\n",
    "ad = a * d\n",
    "bc = b * c\n",
    "bd = b * d\n",
    "ans_cand = [ac, ad, bc, bd]\n",
    "ans = max(ans_cand)\n",
    "\n",
    "print(ans)"
   ]
  },
  {
   "cell_type": "markdown",
   "metadata": {},
   "source": [
    "## C"
   ]
  },
  {
   "cell_type": "code",
   "execution_count": null,
   "metadata": {},
   "outputs": [],
   "source": [
    "n = int(input())\n",
    "mod = 10 ** 9 + 7\n",
    "\n",
    "ans = (10 ** n - 2 * 9 ** n + 8 ** n) % mod\n",
    "\n",
    "print(ans)"
   ]
  },
  {
   "cell_type": "markdown",
   "metadata": {},
   "source": [
    "## D"
   ]
  },
  {
   "cell_type": "code",
   "execution_count": 34,
   "metadata": {},
   "outputs": [
    {
     "name": "stdout",
     "output_type": "stream",
     "text": [
      "1729\n",
      "294867501\n"
     ]
    }
   ],
   "source": [
    "s = int(input())\n",
    "mod = 10 ** 9 + 7\n",
    "\n",
    "\n",
    "def cmb(n, r):\n",
    "    # Combinationを算出, 5C2 = 10など\n",
    "    if n - r < r: r = n - r\n",
    "    if r == 0: return 1\n",
    "    if r == 1: return n\n",
    "\n",
    "    numerator = [n - r + k + 1 for k in range(r)]\n",
    "    denominator = [k + 1 for k in range(r)]\n",
    "\n",
    "    for p in range(2,r+1):\n",
    "        pivot = denominator[p - 1]\n",
    "        if pivot > 1:\n",
    "            offset = (n - r) % p\n",
    "            for k in range(p-1,r,p):\n",
    "                numerator[k - offset] /= pivot\n",
    "                denominator[k] /= pivot\n",
    "    result = 1\n",
    "    for k in range(r):\n",
    "        if numerator[k] > 1:\n",
    "            result *= int(numerator[k])\n",
    "\n",
    "    return result\n",
    "\n",
    "\n",
    "max_index = s // 3\n",
    "pat = 0\n",
    "\n",
    "if max_index == 0:\n",
    "    pass\n",
    "else:\n",
    "    for i in range(max_index):\n",
    "        pat += cmb((s - (i + 1) * 3) + i, i)\n",
    "        \n",
    "ans = pat % mod\n",
    "print(ans)"
   ]
  },
  {
   "cell_type": "markdown",
   "metadata": {},
   "source": [
    "## E - Dist Max"
   ]
  },
  {
   "cell_type": "code",
   "execution_count": 47,
   "metadata": {},
   "outputs": [
    {
     "name": "stdout",
     "output_type": "stream",
     "text": [
      "2\n",
      "1 1\n",
      "1 1\n",
      "0\n"
     ]
    }
   ],
   "source": [
    "## TLE\n",
    "n = int(input())\n",
    "xy_list = []\n",
    "ans = 0\n",
    "\n",
    "for _ in range(n):\n",
    "    xy_list.append(list(map(int, input().split())))\n",
    "\n",
    "for index, xy in enumerate(xy_list):\n",
    "    for xy_next in xy_list[index+1:]:\n",
    "        ans = max(abs(xy_next[0]-xy[0])+abs(xy_next[1]-xy[1]), ans)\n",
    "print(ans)"
   ]
  },
  {
   "cell_type": "code",
   "execution_count": null,
   "metadata": {},
   "outputs": [],
   "source": []
  },
  {
   "cell_type": "markdown",
   "metadata": {},
   "source": [
    "## F - Contrast"
   ]
  },
  {
   "cell_type": "code",
   "execution_count": 58,
   "metadata": {},
   "outputs": [
    {
     "name": "stdout",
     "output_type": "stream",
     "text": [
      "3\n",
      "1 2 3\n",
      "3 4 5\n",
      "(2, 1, 1, 1, 1)\n",
      "Yes\n",
      "\n"
     ]
    }
   ],
   "source": [
    "import collections\n",
    "\n",
    "n = int(input())\n",
    "a = list(map(int, input().split()))\n",
    "b = list(map(int, input().split()))\n",
    "\n",
    "if a[n-1] < b[0]:\n",
    "    ans1 = 'Yes'\n",
    "    ans2_list = b\n",
    "else:\n",
    "    ab = a + b\n",
    "    ans1 = 'Yes'\n",
    "    ans2_list = []\n",
    "    ans2 = ''\n",
    "\n",
    "    values, counts = zip(*collections.Counter(ab).most_common())\n",
    "\n",
    "    if counts[0] > n\n",
    "        ans1 = 'No'\n",
    "    else:\n",
    "        b_reverse = sorted(b, reverse=True)\n",
    "    \n",
    "\n",
    "for ans2_i in ans2_list:\n",
    "    ans2 += str(ans2_i) + ' '\n",
    "print(ans2.rstrip())"
   ]
  },
  {
   "cell_type": "code",
   "execution_count": null,
   "metadata": {},
   "outputs": [],
   "source": []
  },
  {
   "cell_type": "code",
   "execution_count": null,
   "metadata": {},
   "outputs": [],
   "source": []
  },
  {
   "cell_type": "code",
   "execution_count": null,
   "metadata": {},
   "outputs": [],
   "source": []
  }
 ],
 "metadata": {
  "kernelspec": {
   "display_name": "Python 3",
   "language": "python",
   "name": "python3"
  },
  "language_info": {
   "codemirror_mode": {
    "name": "ipython",
    "version": 3
   },
   "file_extension": ".py",
   "mimetype": "text/x-python",
   "name": "python",
   "nbconvert_exporter": "python",
   "pygments_lexer": "ipython3",
   "version": "3.7.4"
  }
 },
 "nbformat": 4,
 "nbformat_minor": 4
}
