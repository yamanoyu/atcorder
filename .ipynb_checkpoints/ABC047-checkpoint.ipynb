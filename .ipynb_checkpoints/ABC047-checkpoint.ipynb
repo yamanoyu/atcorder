{
 "cells": [
  {
   "cell_type": "markdown",
   "metadata": {},
   "source": [
    "## A - キャンディーと2人の子供"
   ]
  },
  {
   "cell_type": "code",
   "execution_count": 7,
   "metadata": {},
   "outputs": [
    {
     "name": "stdout",
     "output_type": "stream",
     "text": [
      "1 1 2\n",
      "Yes\n"
     ]
    }
   ],
   "source": [
    "abc_list = list(map(int, input().split()))\n",
    "ans = 'Yes' if max(abc_list) == sum(abc_list) / 2 else 'No'\n",
    "print(ans)"
   ]
  },
  {
   "cell_type": "markdown",
   "metadata": {},
   "source": [
    "## B - すぬけ君の塗り絵 2 イージー"
   ]
  },
  {
   "cell_type": "code",
   "execution_count": 18,
   "metadata": {},
   "outputs": [
    {
     "name": "stdout",
     "output_type": "stream",
     "text": [
      "5 4 3\n",
      "2 1 1\n",
      "[2, 5] [0, 4]\n",
      "3 3 4\n",
      "[2, 5] [0, 3]\n",
      "1 4 2\n",
      "[2, 1] [0, 3]\n",
      "-3\n"
     ]
    }
   ],
   "source": [
    "w, h, n = map(int, input().split())\n",
    "\n",
    "x_length = [0, w]\n",
    "y_length = [0, h]\n",
    "\n",
    "for _ in range(n):\n",
    "    x, y, a = map(int, input().split())\n",
    "    if a == 1:\n",
    "        x_length = [min(max(x, x_length[0]), x_length[1]), x_length[1]]\n",
    "    elif a == 2:\n",
    "        x_length = [x_length[0], max(x_length[0], min(x, x_length[1]))]\n",
    "    elif a == 3:\n",
    "        y_length = [min(max(y, y_length[0]), y_length[1]), y_length[1]]\n",
    "    else:\n",
    "        y_length = [y_length[0], max(y_length[0], min(y, y_length[1]))]\n",
    "\n",
    "ans = (x_length[1] - x_length[0]) * (y_length[1] - y_length[0]) \n",
    "\n",
    "print(ans)"
   ]
  },
  {
   "cell_type": "markdown",
   "metadata": {},
   "source": [
    "## C - 一次元リバーシ"
   ]
  },
  {
   "cell_type": "code",
   "execution_count": 23,
   "metadata": {},
   "outputs": [
    {
     "name": "stdout",
     "output_type": "stream",
     "text": [
      "WBWBWBWBWB\n",
      "9\n"
     ]
    }
   ],
   "source": [
    "s = input()\n",
    "encode_s = s[0]\n",
    "\n",
    "for i in range(1, len(s)):\n",
    "    if s[i] != encode_s[-1]: encode_s += s[i]\n",
    "ans = len(encode_s) - 1\n",
    "print(ans)"
   ]
  }
 ],
 "metadata": {
  "kernelspec": {
   "display_name": "Python 3",
   "language": "python",
   "name": "python3"
  },
  "language_info": {
   "codemirror_mode": {
    "name": "ipython",
    "version": 3
   },
   "file_extension": ".py",
   "mimetype": "text/x-python",
   "name": "python",
   "nbconvert_exporter": "python",
   "pygments_lexer": "ipython3",
   "version": "3.7.4"
  }
 },
 "nbformat": 4,
 "nbformat_minor": 4
}
