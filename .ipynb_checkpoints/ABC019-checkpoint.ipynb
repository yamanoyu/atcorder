{
 "cells": [
  {
   "cell_type": "markdown",
   "metadata": {},
   "source": [
    "## A - 高橋くんと年齢"
   ]
  },
  {
   "cell_type": "code",
   "execution_count": 2,
   "metadata": {},
   "outputs": [
    {
     "name": "stdout",
     "output_type": "stream",
     "text": [
      "5 100 5\n",
      "5\n"
     ]
    }
   ],
   "source": [
    "age_org = list(map(int, input().split()))\n",
    "age = sorted(age_org)\n",
    "ans = age[1]\n",
    "print(ans)"
   ]
  },
  {
   "cell_type": "markdown",
   "metadata": {},
   "source": [
    "## B - 高橋くんと文字列圧縮"
   ]
  },
  {
   "cell_type": "code",
   "execution_count": 20,
   "metadata": {},
   "outputs": [
    {
     "name": "stdout",
     "output_type": "stream",
     "text": [
      "aabbbbbbbbbbbbxyza\n",
      "a2b10b2x1y1z1a1\n"
     ]
    }
   ],
   "source": [
    "s = list(input())\n",
    "ans = ''\n",
    "\n",
    "for word in s:\n",
    "    try:\n",
    "        if word == ans[-2]:\n",
    "            ans = ans[:-1] + str(int(ans[-1]) + 1)\n",
    "        else:\n",
    "            ans += word + '1'\n",
    "    except IndexError:\n",
    "        ans += word + '1'\n",
    "\n",
    "print(ans)"
   ]
  },
  {
   "cell_type": "code",
   "execution_count": 26,
   "metadata": {},
   "outputs": [
    {
     "name": "stdout",
     "output_type": "stream",
     "text": [
      "aabbbbbbbbbbbbxyza\n",
      "a2b12x1y1z1a1\n"
     ]
    }
   ],
   "source": [
    "s = list(input())\n",
    "\n",
    "ans = ''\n",
    "word_list = []\n",
    "word_num_list = []\n",
    "\n",
    "for word in s:\n",
    "    try:\n",
    "        if word == word_list[-1]:\n",
    "            word_num_list[-1] += 1\n",
    "        else:\n",
    "            word_list.append(word)\n",
    "            word_num_list.append(1)\n",
    "    except IndexError:\n",
    "            word_list.append(word)\n",
    "            word_num_list.append(1)\n",
    "\n",
    "\n",
    "for w, n in zip(word_list, word_num_list):\n",
    "    ans += w + str(n)\n",
    "\n",
    "print(ans)"
   ]
  },
  {
   "cell_type": "markdown",
   "metadata": {},
   "source": [
    "## C - 高橋くんと魔法の箱"
   ]
  },
  {
   "cell_type": "code",
   "execution_count": 60,
   "metadata": {},
   "outputs": [
    {
     "name": "stdout",
     "output_type": "stream",
     "text": [
      "2\n",
      "1 8\n",
      "2\n"
     ]
    }
   ],
   "source": [
    "# 間違い\n",
    "# [2, 3, 1]など、昇順になってないとおかしくなる\n",
    "# [1, 8]でも2と出てしまう\n",
    "\n",
    "n = int(input())\n",
    "a_list = list(map(int, input().split()))\n",
    "\n",
    "ans_list = []\n",
    "ans = 0\n",
    "\n",
    "for a in a_list:\n",
    "    if a / 2 not in ans_list:\n",
    "        ans += 1\n",
    "    ans_list.append(a)\n",
    "\n",
    "print(ans)"
   ]
  },
  {
   "cell_type": "code",
   "execution_count": 42,
   "metadata": {},
   "outputs": [
    {
     "name": "stdout",
     "output_type": "stream",
     "text": [
      "2\n",
      "1 2 4 6 8 \n",
      "2\n"
     ]
    }
   ],
   "source": [
    "# 正解\n",
    "n = int(input())\n",
    "a_list = list(map(int, input().split()))\n",
    "        \n",
    "ans_list = []\n",
    "\n",
    "for a in a_list:\n",
    "    while a % 2 == 0:\n",
    "        a /= 2\n",
    "    ans_list.append(a)\n",
    "\n",
    "    \n",
    "ans = len(set(ans_list))\n",
    "\n",
    "print(ans)"
   ]
  },
  {
   "cell_type": "markdown",
   "metadata": {},
   "source": [
    "## D - 高橋くんと木の直径"
   ]
  },
  {
   "cell_type": "code",
   "execution_count": 75,
   "metadata": {},
   "outputs": [
    {
     "name": "stdout",
     "output_type": "stream",
     "text": [
      "5\n",
      "? 1 2\n",
      "1\n",
      "? 1 3\n",
      "4\n",
      "? 1 4\n",
      "2\n",
      "? 1 5\n",
      "5\n",
      "? 2 3\n",
      "3\n",
      "? 2 4\n",
      "3\n",
      "? 2 5\n",
      "4\n",
      "? 3 4\n",
      "7\n",
      "? 3 5\n",
      "7\n",
      "? 4 5\n",
      "7\n",
      "! 7\n"
     ]
    }
   ],
   "source": [
    "# 未実装\n",
    "import itertools\n",
    "\n",
    "\n",
    "n = int(input())\n",
    "ans_list = []\n",
    "\n",
    "vertex_cmb = list(itertools.combinations(range(1, n+1), 2))\n",
    "\n",
    "for vertex in vertex_cmb:\n",
    "    a, b = vertex\n",
    "    print('? {0} {1}'.format(a, b))\n",
    "    sys.stdout.flush()\n",
    "    dist = int(input())\n",
    "    ans_list.append(dist)\n",
    "\n",
    "ans = max(ans_list)\n",
    "print('! {}'.format(ans))"
   ]
  },
  {
   "cell_type": "code",
   "execution_count": 76,
   "metadata": {},
   "outputs": [
    {
     "ename": "SyntaxError",
     "evalue": "invalid syntax (<ipython-input-76-63444f0afb79>, line 6)",
     "output_type": "error",
     "traceback": [
      "\u001b[0;36m  File \u001b[0;32m\"<ipython-input-76-63444f0afb79>\"\u001b[0;36m, line \u001b[0;32m6\u001b[0m\n\u001b[0;31m    print \"? {0} {1}\".format(1, i+1)\u001b[0m\n\u001b[0m                    ^\u001b[0m\n\u001b[0;31mSyntaxError\u001b[0m\u001b[0;31m:\u001b[0m invalid syntax\n"
     ]
    }
   ],
   "source": [
    "# 未実装\n",
    "import sys\n",
    "\n",
    "N=input()\n",
    "ma = id = 0\n",
    "for i in range(1,N):\n",
    "\tprint('? {0} {1}'.format(1, i+1))\n",
    "\tsys.stdout.flush()\n",
    "\tdist = int(input())\n",
    "\tif dist > ma:\n",
    "\t\tid = i\n",
    "\t\tma = dist\n",
    "\n",
    "ma = 0\n",
    "for i in range(0,N):\n",
    "\tprint('? {0} {1}'.format(1, i+1))\n",
    "\tsys.stdout.flush()\n",
    "\tdist = int(input())\n",
    "\tif dist > ma:\n",
    "\t\tma = dist\n",
    "\n",
    "print('! %d'%(ma))"
   ]
  }
 ],
 "metadata": {
  "kernelspec": {
   "display_name": "Python 3",
   "language": "python",
   "name": "python3"
  },
  "language_info": {
   "codemirror_mode": {
    "name": "ipython",
    "version": 3
   },
   "file_extension": ".py",
   "mimetype": "text/x-python",
   "name": "python",
   "nbconvert_exporter": "python",
   "pygments_lexer": "ipython3",
   "version": "3.7.4"
  }
 },
 "nbformat": 4,
 "nbformat_minor": 4
}
