{
 "cells": [
  {
   "cell_type": "markdown",
   "metadata": {},
   "source": [
    "## A - 12月6日"
   ]
  },
  {
   "cell_type": "code",
   "execution_count": 2,
   "metadata": {},
   "outputs": [
    {
     "name": "stdout",
     "output_type": "stream",
     "text": [
      "1 5\n",
      "NO\n"
     ]
    }
   ],
   "source": [
    "m, d = map(int, input().split())\n",
    "ans = 'YES' if m % d ==  0 else 'NO'\n",
    "print(ans)"
   ]
  },
  {
   "cell_type": "markdown",
   "metadata": {},
   "source": [
    "## B - A±B Problem"
   ]
  },
  {
   "cell_type": "code",
   "execution_count": null,
   "metadata": {},
   "outputs": [],
   "source": [
    "a, b, c = map(int, input().split())\n",
    "if a + b == a - b == c:\n",
    "    ans = '?'\n",
    "else:\n",
    "    if a + b == c:\n",
    "        ans = '+'\n",
    "    elif a - b == c:\n",
    "        ans = '-'\n",
    "    else:\n",
    "        ans = '!'\n",
    "        \n",
    "print(ans)"
   ]
  },
  {
   "cell_type": "markdown",
   "metadata": {},
   "source": [
    "## C - 友達の友達"
   ]
  },
  {
   "cell_type": "code",
   "execution_count": 60,
   "metadata": {},
   "outputs": [
    {
     "name": "stdout",
     "output_type": "stream",
     "text": [
      "3 2\n",
      "1 2\n",
      "2 3\n",
      "1\n",
      "0\n",
      "1\n"
     ]
    }
   ],
   "source": [
    "n, m = map(int, input().split())\n",
    "relations_list = [list(map(int, input().split())) for _ in range(m)]\n",
    "\n",
    "users = list(range(1, n+1))\n",
    "\n",
    "friends_list = [[] for _ in range(n)]\n",
    "friend_of_friend_list = [[] for _ in range(n)]\n",
    "\n",
    "\n",
    "if n == 1 or m == 0:\n",
    "    for _ in range(n):\n",
    "        ans = 0\n",
    "        print(ans)\n",
    "else:\n",
    "    for relations in relations_list:\n",
    "        if relations[0] != relations[1]:\n",
    "            friends_list[relations[0]-1].append(relations[1])\n",
    "            friends_list[relations[1]-1].append(relations[0])\n",
    "        else:\n",
    "            pass\n",
    "    \n",
    "    for i, friends in enumerate(friends_list):\n",
    "        for friend in friends:\n",
    "            friend_of_friend_list[i] += set(friends_list[friend-1]) - set(friends)\n",
    "\n",
    "    for friend_of_friend in friend_of_friend_list:\n",
    "        ans = max(len(set(friend_of_friend)) - 1, 0)\n",
    "        print(ans)\n"
   ]
  },
  {
   "cell_type": "markdown",
   "metadata": {},
   "source": [
    "## D - 一刀両断"
   ]
  },
  {
   "cell_type": "code",
   "execution_count": 62,
   "metadata": {},
   "outputs": [
    {
     "name": "stdout",
     "output_type": "stream",
     "text": [
      "-2 0 2 0\n",
      "4\n",
      "1 1\n",
      "-1 1\n",
      "-1 -1\n",
      "1 -1\n",
      "2.0\n"
     ]
    }
   ],
   "source": [
    "def test(X1,Y1,X2,Y2):\n",
    "    x1 = X1-MX1\n",
    "    x2 = X2-MX1\n",
    "    x3 = MX2-MX1\n",
    "    y1 = Y1-MY1\n",
    "    y2 = Y2-MY1\n",
    "    y3 = MY2-MY1\n",
    "\n",
    "    if (y3*x1-x3*y1)*(y3*x2-x3*y2)>=0:\n",
    "        return 0\n",
    "\n",
    "    x1=MX1-X1\n",
    "    x2=MX2-X1\n",
    "    x3=X2-X1\n",
    "    y1=MY1-Y1\n",
    "    y2=MY2-Y1\n",
    "    y3=Y2-Y1\n",
    "\n",
    "    if (y3*x1-x3*y1)*(y3*x2-x3*y2)>=0:\n",
    "        return 0\n",
    "    return 1\n",
    "\n",
    "\n",
    "MX1,MY1,MX2,MY2=map(int,input().split())\n",
    "\n",
    "N=int(input())\n",
    "X=[]\n",
    "Y=[]\n",
    "for i in range(N):\n",
    "    x,y=map(int,input().split())\n",
    "    X.append(x)\n",
    "    Y.append(y)\n",
    "\n",
    "cnt = 0\n",
    "for i in range(N):\n",
    "    cnt += test(X[i], Y[i], X[(i+1)%N], Y[(i+1)%N])\n",
    "\n",
    "print (int(1+cnt/2))"
   ]
  },
  {
   "cell_type": "code",
   "execution_count": 94,
   "metadata": {},
   "outputs": [
    {
     "name": "stdout",
     "output_type": "stream",
     "text": [
      "-2 0 2 0\n",
      "4\n",
      "1 1\n",
      "-1 1\n",
      "-1 -1\n",
      "1 -1\n",
      "2\n"
     ]
    }
   ],
   "source": [
    "ax, ay, bx, by = map(int, input().split())\n",
    "n = int(input())\n",
    "xy_list = [list(map(int, input().split())) for _ in range(n)]\n",
    "\n",
    "def cross_line(x, y, x1, y1, x2, y2):\n",
    "    # 点(x, y)が点(x1, y1)と点(x2, y2)を通る直線のどちら側にあるかを判定\n",
    "    # 直線状 -> 0, 直線の上 -> 1, 直線の下 -> -1 \n",
    "    line_eq = (x1 - x2) * ( y - y1) + (y1 - y2 ) * (x1 - x) # 点(x1, y1)と点(x2, y2)を通る直線の方程式\n",
    "    ret = 0\n",
    "    if line_eq > 0:\n",
    "        ret = 1\n",
    "    elif line_eq < 0:\n",
    "        ret = -1\n",
    "    return ret\n",
    "\n",
    "cross_cnt = 0\n",
    "\n",
    "# 線分同士の交差を調べるので、片方ずつ直線として両パターン共交差していることを確認\n",
    "for i in range(n):\n",
    "    if cross_line(xy_list[i % n][0], xy_list[i % n][1], ax, ay, bx, by) != cross_line(xy_list[(i + 1) % n][0], xy_list[(i + 1) % n][1], ax, ay, bx, by) and cross_line(ax, ay, xy_list[i % n][0], xy_list[i % n][1], xy_list[(i + 1) % n][0], xy_list[(i + 1) % n][1]) != cross_line(bx, by, xy_list[i % n][0], xy_list[i % n][1], xy_list[(i + 1) % n][0], xy_list[(i + 1) % n][1]):\n",
    "        cross_cnt += 1\n",
    "\n",
    "ans = int(1 + cross_cnt // 2)\n",
    "print(ans)"
   ]
  },
  {
   "cell_type": "code",
   "execution_count": null,
   "metadata": {},
   "outputs": [],
   "source": []
  },
  {
   "cell_type": "code",
   "execution_count": null,
   "metadata": {},
   "outputs": [],
   "source": []
  }
 ],
 "metadata": {
  "kernelspec": {
   "display_name": "Python 3",
   "language": "python",
   "name": "python3"
  },
  "language_info": {
   "codemirror_mode": {
    "name": "ipython",
    "version": 3
   },
   "file_extension": ".py",
   "mimetype": "text/x-python",
   "name": "python",
   "nbconvert_exporter": "python",
   "pygments_lexer": "ipython3",
   "version": "3.7.4"
  }
 },
 "nbformat": 4,
 "nbformat_minor": 4
}
