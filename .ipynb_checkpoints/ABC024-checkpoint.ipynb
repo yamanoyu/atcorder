{
 "cells": [
  {
   "cell_type": "markdown",
   "metadata": {},
   "source": [
    "## A - 動物園"
   ]
  },
  {
   "cell_type": "code",
   "execution_count": 11,
   "metadata": {},
   "outputs": [
    {
     "name": "stdout",
     "output_type": "stream",
     "text": [
      "400 1000 400 3\n",
      "0 13\n",
      "7800\n"
     ]
    }
   ],
   "source": [
    "a, b, c, k = map(int, input().split())\n",
    "s, t = map(int, input().split())\n",
    "\n",
    "price_org= a * s + b * t\n",
    "ans = price_org - (s + t) * c if s + t >= k else price_org\n",
    "\n",
    "print(ans)"
   ]
  },
  {
   "cell_type": "markdown",
   "metadata": {},
   "source": [
    "## B - 自動ドア"
   ]
  },
  {
   "cell_type": "code",
   "execution_count": 8,
   "metadata": {},
   "outputs": [
    {
     "name": "stdout",
     "output_type": "stream",
     "text": [
      "5 10\n",
      "20\n",
      "100\n",
      "105\n",
      "217\n",
      "314\n",
      "[20, 100, 105, 217, 314]\n",
      "5\n",
      "45\n"
     ]
    }
   ],
   "source": [
    "n, t = map(int, input().split())\n",
    "passerby_list = [int(input()) for _ in range(n)]\n",
    "\n",
    "continuous = 0\n",
    "for p in range(1, n):\n",
    "    if passerby_list[p] - passerby_list[p-1]  < t:\n",
    "        continuous += t - (passerby_list[p] - passerby_list[p-1])\n",
    "\n",
    "ans = n * t - continuous\n",
    "print(ans)"
   ]
  },
  {
   "cell_type": "markdown",
   "metadata": {},
   "source": [
    "## C - 民族大移動"
   ]
  },
  {
   "cell_type": "code",
   "execution_count": 30,
   "metadata": {},
   "outputs": [
    {
     "name": "stdout",
     "output_type": "stream",
     "text": [
      "10 10 3\n",
      "1 5\n",
      "3 6\n",
      "7 10\n",
      "5 8\n",
      "4 4\n",
      "1 4\n",
      "2 9\n",
      "1 3\n",
      "1 1\n",
      "4 5\n",
      "1 6\n",
      "2 7\n",
      "10 1\n",
      "[1, 1, 1, 1, 0, 0, 0, 0, 0, 0]\n",
      "[1, 1, 2, 2, 2, 0, 0, 0, 0, 0]\n",
      "[1, 1, 2, 2, 2, 0, 3, 3, 3, 0]\n",
      "[1, 1, 2, 2, 4, 4, 4, 3, 3, 0]\n",
      "[1, 1, 2, 2, 4, 4, 4, 3, 3, 0]\n",
      "[6, 6, 6, 2, 4, 4, 4, 3, 3, 0]\n",
      "[6, 7, 7, 7, 7, 7, 7, 7, 3, 0]\n",
      "[8, 8, 7, 7, 7, 7, 7, 7, 3, 0]\n",
      "[8, 8, 7, 7, 7, 7, 7, 7, 3, 0]\n",
      "[8, 8, 7, 10, 7, 7, 7, 7, 3, 0]\n",
      "[4, 3, 1]\n"
     ]
    }
   ],
   "source": [
    "# うまくいかない\n",
    "n, d, k = map(int, input().split())\n",
    "moving_list = [list(map(int, input().split())) for _ in range(d)]\n",
    "people_list = [list(map(int, input().split())) for _ in range(k)]\n",
    "\n",
    "transportable_list = [0 for _ in range(n)]\n",
    "ans_list = [0 for _ in range(k)]\n",
    "\n",
    "days = 1\n",
    "for  moving in moving_list:\n",
    "    transportable_list[moving[0]-1: moving[1]-1] = [days] * (moving[1] - moving[0])\n",
    "    for a in range(k):\n",
    "        if ans_list[a] == 0:\n",
    "            if transportable_list[people_list[a][0]-1] <= transportable_list[people_list[a][1]-1]:\n",
    "                ans_list[a] = days\n",
    "    days += 1\n",
    "    print(transportable_list)\n",
    "print(ans_list)"
   ]
  },
  {
   "cell_type": "code",
   "execution_count": 34,
   "metadata": {},
   "outputs": [
    {
     "name": "stdout",
     "output_type": "stream",
     "text": [
      "314159265 10 1\n",
      "1 10000\n",
      "500 12031\n",
      "1414 113232\n",
      "111111 777777\n",
      "666661 23423423\n",
      "12345678 123456789\n",
      "111111111 314159265\n",
      "112334 235235235\n",
      "1 223445\n",
      "314 1592\n",
      "1 314159265\n",
      "7\n"
     ]
    }
   ],
   "source": [
    "n, d, k = map(int, input().split())\n",
    "moving_list = [list(map(int, input().split())) for _ in range(d)]\n",
    "people_list = [list(map(int, input().split())) for _ in range(k)]\n",
    "\n",
    "place_list = [0 for _ in range(k)]\n",
    "ans_list = [0 for _ in range(k)]\n",
    "\n",
    "for people_index, people in enumerate(people_list):\n",
    "    place_list[people_index] = people[0]\n",
    "    days = 1\n",
    "    \n",
    "    if people[0] < people[1]:\n",
    "        for moving in moving_list:\n",
    "            if moving[0] <= place_list[people_index] <= moving[1]:\n",
    "                place_list[people_index] = max(place_list[people_index], moving[1])\n",
    "            if place_list[people_index] >= people[1]:\n",
    "                ans_list[people_index] = days\n",
    "                break\n",
    "            days += 1\n",
    "    elif people[0] > people[1]:\n",
    "        for moving in moving_list:\n",
    "            if moving[0] <= place_list[people_index] <= moving[1]:\n",
    "                place_list[people_index] = min(place_list[people_index], moving[0])\n",
    "            if place_list[people_index] <= people[1]:\n",
    "                ans_list[people_index] = days\n",
    "                break\n",
    "            days += 1\n",
    "for ans in ans_list:\n",
    "    print(ans)"
   ]
  },
  {
   "cell_type": "markdown",
   "metadata": {},
   "source": [
    "## D - 動的計画法"
   ]
  },
  {
   "cell_type": "code",
   "execution_count": 48,
   "metadata": {},
   "outputs": [
    {
     "name": "stdout",
     "output_type": "stream",
     "text": [
      "126\n",
      "252\n",
      "210\n",
      "5 4\n"
     ]
    }
   ],
   "source": [
    "# これだとTLEばっかり\n",
    "\n",
    "num_list = [int(input()) for _ in range(3)]\n",
    "\n",
    "mod = 10 ** 9 + 7\n",
    "max_val = 10 ** 8 + 1\n",
    "\n",
    "def cmb(n, r):\n",
    "    # Combinationを算出, 5C2 = 10など\n",
    "    if n - r < r: r = n - r\n",
    "    if r == 0: return 1\n",
    "    if r == 1: return n\n",
    "\n",
    "    numerator = [n - r + k + 1 for k in range(r)]\n",
    "    denominator = [k + 1 for k in range(r)]\n",
    "\n",
    "    for p in range(2, r+1):\n",
    "        pivot = denominator[p - 1]\n",
    "        if pivot > 1:\n",
    "            offset = (n - r) % p\n",
    "            for k in range(p-1, r, p):\n",
    "                numerator[k - offset] /= pivot\n",
    "                denominator[k] /= pivot\n",
    "    result = 1\n",
    "    for k in range(r):\n",
    "        if numerator[k] > 1:\n",
    "            result *= int(numerator[k])\n",
    "\n",
    "    return result\n",
    "\n",
    "# (r, c)の場所はr+cCcで与えれる\n",
    "ans_r, ans_c = 0, 0\n",
    "\n",
    "for i in range(1, num_list[0]):\n",
    "    for j in range(1, i + 1):\n",
    "        if cmb(i+j, j) == num_list[0] and cmb(i+j+2, j+1) == num_list[1] + num_list[2]:\n",
    "            ans_r, ans_c = i, j\n",
    "            break\n",
    "    if ans_r != 0: break\n",
    "\n",
    "if num_list[1] > num_list[2]:\n",
    "    print(ans_r, ans_c)\n",
    "else:\n",
    "    print(ans_c, ans_r)"
   ]
  },
  {
   "cell_type": "code",
   "execution_count": 52,
   "metadata": {},
   "outputs": [
    {
     "name": "stdout",
     "output_type": "stream",
     "text": [
      "144949225\n",
      "545897619\n",
      "393065978\n",
      "-2 -1\n"
     ]
    }
   ],
   "source": [
    "# modが考えられていないのでWA\n",
    "\n",
    "# (r, c)の場所はr+cCcで与えれる\n",
    "# A = r+cCc\n",
    "# B = r+c+1Cc+1\n",
    "# C = r+c+1Cc\n",
    "#\n",
    "# B = A * r+c+1 / c+1\n",
    "# C = A * r+c+1 / r+1\n",
    "#\n",
    "# 1 + 1/r+c+1 = A/B + A/C\n",
    "\n",
    "a = int(input())\n",
    "b = int(input())\n",
    "c = int(input())\n",
    "\n",
    "mod = 10 ** 9 + 7\n",
    "\n",
    "r_plus_c_plus_1 = (b * c) / (a * (b + c) - b * c)\n",
    "r = r_plus_c_plus_1 - (a * r_plus_c_plus_1) / b\n",
    "c = r_plus_c_plus_1 - (a * r_plus_c_plus_1) / c\n",
    "\n",
    "print(int(r), int(c))"
   ]
  },
  {
   "cell_type": "code",
   "execution_count": 55,
   "metadata": {},
   "outputs": [
    {
     "name": "stdout",
     "output_type": "stream",
     "text": [
      "126\n",
      "252\n",
      "210\n",
      "5 4\n"
     ]
    }
   ],
   "source": [
    "# r ≡ (B*C-A*C) * (1 / (A*B-B*C+A*C) mod(10^9+7))\n",
    "# c ≡ (B*C-A*B) * (1 / (A*B-B*C+A*C) mod(10^9+7))\n",
    "# フェルマーの小定理より\n",
    "# 1 / (A*B-B*C+A*C) ≡ (A*B-B*C+A*C)^(10^9+5) mod(10^9+7)\n",
    "\n",
    "mod = 10 ** 9 + 7\n",
    "\n",
    "def rev(v):\n",
    "    return pow(v, mod-2, mod)\n",
    "\n",
    "A = int(input())\n",
    "B = int(input())\n",
    "C = int(input())\n",
    "\n",
    "AoB = A * rev(B) % mod\n",
    "AoC = A * rev(C) % mod\n",
    "\n",
    "RC1 = rev(AoB + AoC - 1)\n",
    "R1 = AoC * RC1 % mod\n",
    "C1 = AoB * RC1 % mod\n",
    "\n",
    "print (R1-1,C1-1)"
   ]
  },
  {
   "cell_type": "code",
   "execution_count": null,
   "metadata": {},
   "outputs": [],
   "source": []
  }
 ],
 "metadata": {
  "kernelspec": {
   "display_name": "Python 3",
   "language": "python",
   "name": "python3"
  },
  "language_info": {
   "codemirror_mode": {
    "name": "ipython",
    "version": 3
   },
   "file_extension": ".py",
   "mimetype": "text/x-python",
   "name": "python",
   "nbconvert_exporter": "python",
   "pygments_lexer": "ipython3",
   "version": "3.7.4"
  }
 },
 "nbformat": 4,
 "nbformat_minor": 4
}
