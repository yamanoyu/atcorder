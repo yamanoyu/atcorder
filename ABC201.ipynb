{
  "nbformat": 4,
  "nbformat_minor": 0,
  "metadata": {
    "colab": {
      "name": "ABC201.ipynb",
      "provenance": [],
      "authorship_tag": "ABX9TyPRCKocpVJejInAUy7s+pTo",
      "include_colab_link": true
    },
    "kernelspec": {
      "name": "python3",
      "display_name": "Python 3"
    },
    "language_info": {
      "name": "python"
    }
  },
  "cells": [
    {
      "cell_type": "markdown",
      "metadata": {
        "id": "view-in-github",
        "colab_type": "text"
      },
      "source": [
        "<a href=\"https://colab.research.google.com/github/yamanoyu/atcorder/blob/master/ABC201.ipynb\" target=\"_parent\"><img src=\"https://colab.research.google.com/assets/colab-badge.svg\" alt=\"Open In Colab\"/></a>"
      ]
    },
    {
      "cell_type": "markdown",
      "metadata": {
        "id": "eQvhuA4LcF82"
      },
      "source": [
        "## A - Tiny Arithmetic Sequence"
      ]
    },
    {
      "cell_type": "code",
      "metadata": {
        "colab": {
          "base_uri": "https://localhost:8080/"
        },
        "id": "WHdGX6GWb_D1",
        "outputId": "c84e00f0-4d30-4b2b-82a5-51977b292c7d"
      },
      "source": [
        "a_list = list(map(int, input().split()))\n",
        "a_list.sort()\n",
        "ans = 'Yes' if a_list[2] - a_list[1] == a_list[1] - a_list[0] else 'No'\n",
        "print(ans)"
      ],
      "execution_count": 1,
      "outputs": [
        {
          "output_type": "stream",
          "text": [
            "5 1 3\n",
            "Yes\n"
          ],
          "name": "stdout"
        }
      ]
    },
    {
      "cell_type": "markdown",
      "metadata": {
        "id": "CmUIqEG8ckLC"
      },
      "source": [
        "## B - Do you know the second highest mountain?"
      ]
    },
    {
      "cell_type": "code",
      "metadata": {
        "id": "1FPIhQT-cGsk"
      },
      "source": [
        "n = int(input())\n",
        "\n",
        "mountain_dict =  dict()\n",
        "\n",
        "for _ in range(n):\n",
        "  s, t = input().split()\n",
        "  mountain_dict[s] = int(t)\n",
        "\n",
        "mountain_dict_sort = sorted(mountain_dict.items(), key=lambda x: x[1])\n",
        "ans = mountain_dict_sort[-2][0]\n",
        "print(ans)"
      ],
      "execution_count": null,
      "outputs": []
    },
    {
      "cell_type": "markdown",
      "metadata": {
        "id": "whCiAFoYdgYp"
      },
      "source": [
        "## C - Secret Number"
      ]
    },
    {
      "cell_type": "code",
      "metadata": {
        "colab": {
          "base_uri": "https://localhost:8080/"
        },
        "id": "wSXimYLEdi5N",
        "outputId": "648c712e-8f9e-419e-9733-d5fbaee29c4d"
      },
      "source": [
        "s = input()\n",
        "\n",
        "ans = 0\n",
        "\n",
        "for i in range(10):\n",
        "  num_str = str(i).zfill(4)\n",
        "  f = True\n",
        "  for k in range(10):\n",
        "    if s[k] == 'o':\n",
        "      if k not in list(num_str):\n",
        "        print(k, 'ooooo')\n",
        "        f = False\n",
        "        break\n",
        "    elif s[k] == 'x':\n",
        "      if k in list(num_str):\n",
        "        print(k, 'xxxxx')\n",
        "        f = False\n",
        "        break\n",
        "    else:\n",
        "      continue\n",
        "  print(num_str, f)\n",
        "  if f:\n",
        "    ans += 1\n",
        "  \n",
        "print(ans)"
      ],
      "execution_count": 23,
      "outputs": [
        {
          "output_type": "stream",
          "text": [
            "ooo???xxxx\n",
            "0 ooooo\n",
            "0000 False\n",
            "0 ooooo\n",
            "0001 False\n",
            "0 ooooo\n",
            "0002 False\n",
            "0 ooooo\n",
            "0003 False\n",
            "0 ooooo\n",
            "0004 False\n",
            "0 ooooo\n",
            "0005 False\n",
            "0 ooooo\n",
            "0006 False\n",
            "0 ooooo\n",
            "0007 False\n",
            "0 ooooo\n",
            "0008 False\n",
            "0 ooooo\n",
            "0009 False\n",
            "0\n"
          ],
          "name": "stdout"
        }
      ]
    },
    {
      "cell_type": "code",
      "metadata": {
        "id": "xWlfYkTUd54y"
      },
      "source": [
        ""
      ],
      "execution_count": null,
      "outputs": []
    }
  ]
}