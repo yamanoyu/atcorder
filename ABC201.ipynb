{
  "nbformat": 4,
  "nbformat_minor": 0,
  "metadata": {
    "colab": {
      "name": "ABC201.ipynb",
      "provenance": [],
      "collapsed_sections": [],
      "authorship_tag": "ABX9TyNYgIp46dg8ntwE4G6V4bJc",
      "include_colab_link": true
    },
    "kernelspec": {
      "name": "python3",
      "display_name": "Python 3"
    },
    "language_info": {
      "name": "python"
    }
  },
  "cells": [
    {
      "cell_type": "markdown",
      "metadata": {
        "id": "view-in-github",
        "colab_type": "text"
      },
      "source": [
        "<a href=\"https://colab.research.google.com/github/yamanoyu/atcorder/blob/master/ABC201.ipynb\" target=\"_parent\"><img src=\"https://colab.research.google.com/assets/colab-badge.svg\" alt=\"Open In Colab\"/></a>"
      ]
    },
    {
      "cell_type": "markdown",
      "metadata": {
        "id": "eQvhuA4LcF82"
      },
      "source": [
        "## A - Tiny Arithmetic Sequence"
      ]
    },
    {
      "cell_type": "code",
      "metadata": {
        "colab": {
          "base_uri": "https://localhost:8080/"
        },
        "id": "WHdGX6GWb_D1",
        "outputId": "c84e00f0-4d30-4b2b-82a5-51977b292c7d"
      },
      "source": [
        "a_list = list(map(int, input().split()))\n",
        "a_list.sort()\n",
        "ans = 'Yes' if a_list[2] - a_list[1] == a_list[1] - a_list[0] else 'No'\n",
        "print(ans)"
      ],
      "execution_count": 1,
      "outputs": [
        {
          "output_type": "stream",
          "text": [
            "5 1 3\n",
            "Yes\n"
          ],
          "name": "stdout"
        }
      ]
    },
    {
      "cell_type": "markdown",
      "metadata": {
        "id": "CmUIqEG8ckLC"
      },
      "source": [
        "## B - Do you know the second highest mountain?"
      ]
    },
    {
      "cell_type": "code",
      "metadata": {
        "id": "1FPIhQT-cGsk"
      },
      "source": [
        "n = int(input())\n",
        "\n",
        "mountain_dict =  dict()\n",
        "\n",
        "for _ in range(n):\n",
        "  s, t = input().split()\n",
        "  mountain_dict[s] = int(t)\n",
        "\n",
        "mountain_dict_sort = sorted(mountain_dict.items(), key=lambda x: x[1])\n",
        "ans = mountain_dict_sort[-2][0]\n",
        "print(ans)"
      ],
      "execution_count": null,
      "outputs": []
    },
    {
      "cell_type": "markdown",
      "metadata": {
        "id": "whCiAFoYdgYp"
      },
      "source": [
        "## C - Secret Number"
      ]
    },
    {
      "cell_type": "code",
      "metadata": {
        "colab": {
          "base_uri": "https://localhost:8080/"
        },
        "id": "wSXimYLEdi5N",
        "outputId": "c8a1e252-ed3a-47f7-9b7b-a14ea182d7b9"
      },
      "source": [
        "s = input()\n",
        "\n",
        "ans = 0\n",
        "\n",
        "for i in range(10000):\n",
        "  num_str = str(i).zfill(4)\n",
        "  f = True\n",
        "  for k in range(10):\n",
        "    if s[k] == 'o':\n",
        "      if str(k) not in list(num_str):\n",
        "        f = False\n",
        "        break\n",
        "    elif s[k] == 'x':\n",
        "      if str(k) in list(num_str):\n",
        "        f = False\n",
        "        break\n",
        "    else:\n",
        "      continue\n",
        "  if f:\n",
        "    ans += 1\n",
        "  \n",
        "print(ans)"
      ],
      "execution_count": 25,
      "outputs": [
        {
          "output_type": "stream",
          "text": [
            "ooo???xxxx\n",
            "108\n"
          ],
          "name": "stdout"
        }
      ]
    },
    {
      "cell_type": "markdown",
      "metadata": {
        "id": "5gL56y3SMlQn"
      },
      "source": [
        "## D - Game in Momotetsu World"
      ]
    },
    {
      "cell_type": "code",
      "metadata": {
        "colab": {
          "base_uri": "https://localhost:8080/"
        },
        "id": "xWlfYkTUd54y",
        "outputId": "1f8bcf29-3b36-4793-d5e0-014cf902a503"
      },
      "source": [
        "h, w = map(int, input().split())\n",
        "a_list = [list(input()) for _ in range(h)]\n",
        "\n",
        "score_list = [[0] * w for _ in range(h)]\n",
        "\n",
        "\n",
        "def cost(x, y):\n",
        "  return 1 if a_list[x][y] == '+' else -1\n",
        "\n",
        "\n",
        "for i in range(h - 1, -1, -1):\n",
        "  for j in range(w - 1, -1, -1):\n",
        "    if i == h - 1 and j == w - 1:\n",
        "      continue\n",
        "    elif i == h - 1:\n",
        "      if (i + j) % 2 == 0:\n",
        "        # Takahashi\n",
        "        score_list[i][j] = score_list[i][j + 1] + cost(i, j + 1)\n",
        "      else:\n",
        "        # Aoki\n",
        "        score_list[i][j] = score_list[i][j + 1] - cost(i, j + 1)\n",
        "    elif j == w - 1:\n",
        "      if (i + j) % 2 == 0:\n",
        "        # Takahashi\n",
        "        score_list[i][j] = score_list[i + 1][j] + cost(i + 1, j)\n",
        "      else:\n",
        "        # Aoki\n",
        "        score_list[i][j] = score_list[i + 1][j] - cost(i + 1, j)\n",
        "    else:\n",
        "      if (i + j) % 2 == 0:\n",
        "        # Takahashi\n",
        "        score_list[i][j] = max(score_list[i + 1][j] + cost(i + 1, j), score_list[i][j + 1] + cost(i, j + 1))\n",
        "      else:\n",
        "        # Aoki\n",
        "        score_list[i][j] = min(score_list[i + 1][j] - cost(i + 1, j), score_list[i][j + 1] - cost(i, j + 1))\n",
        "\n",
        "if score_list[0][0] > 0:\n",
        "  ans = 'Takahashi'\n",
        "elif score_list[0][0] < 0:\n",
        "  ans = 'Aoki'\n",
        "else:\n",
        "  ans = 'Draw'\n",
        "\n",
        "print(ans)"
      ],
      "execution_count": 3,
      "outputs": [
        {
          "output_type": "stream",
          "text": [
            "1 1\n",
            "-\n",
            "Draw\n"
          ],
          "name": "stdout"
        }
      ]
    }
  ]
}