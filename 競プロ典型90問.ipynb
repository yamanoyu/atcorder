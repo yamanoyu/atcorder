{
  "nbformat": 4,
  "nbformat_minor": 0,
  "metadata": {
    "colab": {
      "name": "競プロ典型90問.ipynb",
      "provenance": [],
      "collapsed_sections": [],
      "authorship_tag": "ABX9TyOBgMlcntJJQGe48/ukzjoE",
      "include_colab_link": true
    },
    "kernelspec": {
      "name": "python3",
      "display_name": "Python 3"
    },
    "language_info": {
      "name": "python"
    }
  },
  "cells": [
    {
      "cell_type": "markdown",
      "metadata": {
        "id": "view-in-github",
        "colab_type": "text"
      },
      "source": [
        "<a href=\"https://colab.research.google.com/github/yamanoyu/atcorder/blob/master/%E7%AB%B6%E3%83%97%E3%83%AD%E5%85%B8%E5%9E%8B90%E5%95%8F.ipynb\" target=\"_parent\"><img src=\"https://colab.research.google.com/assets/colab-badge.svg\" alt=\"Open In Colab\"/></a>"
      ]
    },
    {
      "cell_type": "markdown",
      "metadata": {
        "id": "PZ-bi0ZRb1L1"
      },
      "source": [
        "## 001 - Yokan Party（★4）"
      ]
    },
    {
      "cell_type": "code",
      "metadata": {
        "colab": {
          "base_uri": "https://localhost:8080/"
        },
        "id": "_PSPZY0qbUVc",
        "outputId": "bc2bee21-964f-40c6-c9c5-3a0220aaf2c5"
      },
      "source": [
        "#WA\n",
        "from collections import defaultdict\n",
        "\n",
        "\n",
        "n, l = map(int, input().split())\n",
        "k = int(input())\n",
        "a_list = [0] + list(map(int, input().split())) + [l]\n",
        "\n",
        "diff_list = []\n",
        "\n",
        "for i in range(1, n + 2):\n",
        "  diff_list.append(a_list[i] - a_list[i - 1])\n",
        "\n",
        "for i in range(n - k):\n",
        "  diff_dict = defaultdict(int)\n",
        "  for d_k, d_v in zip(range(n + 1), diff_list):\n",
        "    diff_dict[d_k] = d_v\n",
        "\n",
        "  diff_dict_sort_list = sorted(diff_dict.items(), key=lambda x: x[1])\n",
        "\n",
        "  diff_min_index = diff_dict_sort_list[0][0]\n",
        "  if diff_min_index == 0:\n",
        "    diff_added_index = 1\n",
        "  elif diff_min_index == n - i:\n",
        "    diff_added_index = diff_min_index - 1\n",
        "  else:\n",
        "    diff_added_index = diff_min_index + 1 if diff_dict[diff_min_index + 1] < diff_dict[diff_min_index - 1] else diff_min_index - 1\n",
        "\n",
        "  diff_list[diff_added_index] += diff_list[diff_min_index]\n",
        "  diff_list.pop(diff_min_index)\n",
        "  \n",
        "ans = min(diff_list)\n",
        "print(ans)"
      ],
      "execution_count": null,
      "outputs": [
        {
          "output_type": "stream",
          "text": [
            "3 100\n",
            "2\n",
            "28 54 81\n",
            "26\n"
          ],
          "name": "stdout"
        }
      ]
    },
    {
      "cell_type": "markdown",
      "metadata": {
        "id": "64VaqtQwC0RF"
      },
      "source": [
        "## 002 - Encyclopedia of Parentheses（★3）"
      ]
    },
    {
      "cell_type": "code",
      "metadata": {
        "id": "jlAasz13lG-C",
        "colab": {
          "base_uri": "https://localhost:8080/"
        },
        "outputId": "f27de71e-6e8a-40ed-96ac-4732fafeddfc"
      },
      "source": [
        "n = int(input())\n",
        "\n",
        "if n % 2 == 0:\n",
        "  ans_list = [[] for _ in range(n // 2)]\n",
        "  ans_list[0] = ['()']\n",
        "  if n != 2:\n",
        "    n = n // 2\n",
        "    for i in range(1, n):\n",
        "      for a in ans_list[i - 1]:\n",
        "        ans_list[i].append(a + '()')\n",
        "        ans_list[i].append('()' + a)\n",
        "        ans_list[i].append('(' + a + ')')\n",
        "      \n",
        "      if i >= 3:\n",
        "        for a in ans_list[i - 2]:\n",
        "          ans_list[i].append(a + '(())')\n",
        "          ans_list[i].append('(())' + a)\n",
        "      if i >= 5:\n",
        "        for a in ans_list[i - 3]:\n",
        "          ans_list[i].append(a + '((()))')\n",
        "          ans_list[i].append('((()))' + a)\n",
        "          ans_list[i].append(a + '(()())')\n",
        "          ans_list[i].append('(()())' + a)\n",
        "      if i >= 7:\n",
        "        for a in ans_list[i - 4]:\n",
        "          ans_list[i].append(a + '(((())))')\n",
        "          ans_list[i].append('(((())))' + a)\n",
        "          ans_list[i].append(a + '((()()))')\n",
        "          ans_list[i].append('((()()))' + a)\n",
        "          ans_list[i].append(a + '(()(()))')\n",
        "          ans_list[i].append('(()(()))' + a)\n",
        "          ans_list[i].append(a + '((())())')\n",
        "          ans_list[i].append('((())())' + a)\n",
        "          ans_list[i].append(a + '(()()())')\n",
        "          ans_list[i].append('(()()())' + a)\n",
        "      if i >= 9:\n",
        "        for a in ans_list[i - 5]:\n",
        "          for b in ans_list[i - 5]:\n",
        "            ans_list[i].append(a + b)\n",
        "          \n",
        "      ans_list[i] = list(set(ans_list[i]))\n",
        "    _ans_list = sorted(ans_list[n - 1])\n",
        "  else:\n",
        "    _ans_list = ans_list[0]\n",
        "    \n",
        "  for ans in _ans_list:\n",
        "    print(ans)"
      ],
      "execution_count": null,
      "outputs": [
        {
          "output_type": "stream",
          "text": [
            "4\n",
            "(())\n",
            "()()\n"
          ],
          "name": "stdout"
        }
      ]
    },
    {
      "cell_type": "markdown",
      "metadata": {
        "id": "AGeCVxc8ZZKY"
      },
      "source": [
        "## 003 - Longest Circular Road（★4）"
      ]
    },
    {
      "cell_type": "code",
      "metadata": {
        "id": "GBcO9goNNRd-",
        "colab": {
          "base_uri": "https://localhost:8080/"
        },
        "outputId": "b2e68679-0c10-45e4-8325-7cba42bbe932"
      },
      "source": [
        "# WA\n",
        "\n",
        "import sys\n",
        "from collections import defaultdict\n",
        "\n",
        "\n",
        "sys.setrecursionlimit(1000000)\n",
        "\n",
        "\n",
        "class UnionFind:\n",
        "    # if x is root: self.parents[x] = - (the number of the group nodes)\n",
        "    # else: self.parents[x] = the parent of x\n",
        "    def __init__(self, n):\n",
        "        self.n = n\n",
        "        self.parents = [-1] * n\n",
        " \n",
        "    # return the parent of x\n",
        "    def find(self, x):\n",
        "        history = []\n",
        "        while self.parents[x] >= 0:\n",
        "            history.append(x)\n",
        "            x = self.parents[x]\n",
        "        for node in history:\n",
        "            self.parents[node] = x\n",
        "        return x\n",
        " \n",
        "    # merge the group of x and the group of y\n",
        "    def union(self, x, y):\n",
        "        x = self.find(x)\n",
        "        y = self.find(y)\n",
        "        if x == y:\n",
        "            return\n",
        "        if self.parents[x] > self.parents[y]:\n",
        "            x, y = y, x\n",
        "        self.parents[x] += self.parents[y]\n",
        "        self.parents[y] = x\n",
        " \n",
        "    # return the size of the group of x\n",
        "    def size(self, x):\n",
        "        return -self.parents[self.find(x)]\n",
        " \n",
        "    # return whether x and y in a same group\n",
        "    def same(self, x, y):\n",
        "        return self.find(x) == self.find(y)\n",
        " \n",
        "    # return [all roots]\n",
        "    # O(n)\n",
        "    def roots(self):\n",
        "        return [i for i, x in enumerate(self.parents) if x < 0]\n",
        " \n",
        "    # return the number of groups\n",
        "    # O(n)\n",
        "    def group_count(self):\n",
        "        return len(self.roots())\n",
        "\n",
        "\n",
        "n = int(input())\n",
        "tree = [[] for _ in range(n)]\n",
        "uf = UnionFind(n)\n",
        "\n",
        "for _ in range(n - 1):\n",
        "  a, b = list(map(int, input().split()))\n",
        "  tree[a - 1].append(b - 1)\n",
        "  if a != 1:\n",
        "    uf.union(a - 1, b - 1)\n",
        "\n",
        "ans_list = [0] * n\n",
        "def dfs(now, ans):\n",
        "    # print(now, end=' ')\n",
        "    # print(ans)\n",
        "    ans += 1\n",
        "    if tree[now]:\n",
        "      for i in tree[now]:\n",
        "          dfs(i, ans)\n",
        "    else:\n",
        "      ans -= 1\n",
        "      ans_list[now] = ans\n",
        "\n",
        "ans = 0\n",
        "dfs(0, ans)\n",
        "# print(ans_list)\n",
        "\n",
        "ans_dict = defaultdict(int)\n",
        "# print(uf.parents)\n",
        "for i, v in zip(uf.parents, ans_list):\n",
        "  ans_dict[i] = max(ans_dict[i], v)\n",
        "\n",
        "max_list = []\n",
        "for t in tree[0]:\n",
        "  max_list.append(ans_dict[t])\n",
        "\n",
        "max_list.sort()\n",
        "print(sum(max_list[-2:]) + 1)"
      ],
      "execution_count": null,
      "outputs": [
        {
          "output_type": "stream",
          "text": [
            "5\n",
            "1 2\n",
            "2 3\n",
            "3 4\n",
            "3 5\n",
            "4\n"
          ],
          "name": "stdout"
        }
      ]
    },
    {
      "cell_type": "markdown",
      "metadata": {
        "id": "S29_pwgfAi4I"
      },
      "source": [
        "## 004 - Cross Sum（★2）"
      ]
    },
    {
      "cell_type": "code",
      "metadata": {
        "colab": {
          "base_uri": "https://localhost:8080/"
        },
        "id": "VQLnq4VAAjOc",
        "outputId": "54a2d182-55c0-4bc2-9ba4-e53e217e637e"
      },
      "source": [
        "# TLE\n",
        "h, w = map(int, input().split())\n",
        "hw_list = [list(map(int, input().split())) for _ in range(h)]\n",
        "\n",
        "w_sum_list = [0] * w\n",
        "h_sum_list = [0] * h\n",
        "\n",
        "for i in range(h):\n",
        "  for j in range(w):\n",
        "    w_sum_list[j] += hw_list[i][j]\n",
        "    h_sum_list[i] += hw_list[i][j]\n",
        "\n",
        "print(w_sum_list, h_sum_list)\n",
        "\n",
        "for k in range(h):\n",
        "  for l in range(w):\n",
        "    print(w_sum_list[l] + h_sum_list[k] - hw_list[k][l], end=\"\")\n",
        "    print(' ', end=\"\")\n",
        "  print()"
      ],
      "execution_count": null,
      "outputs": [
        {
          "output_type": "stream",
          "text": [
            "2 3\n",
            "1 2 3\n",
            "6 5 4\n",
            "[7, 7, 7] [6, 15]\n",
            "12 11 10 \n",
            "16 17 18 \n"
          ],
          "name": "stdout"
        }
      ]
    },
    {
      "cell_type": "markdown",
      "metadata": {
        "id": "fuQNEgSMsCb5"
      },
      "source": [
        "## 005 - Restricted Digits（★7）"
      ]
    },
    {
      "cell_type": "code",
      "metadata": {
        "id": "0Y3R9BD6BsIU"
      },
      "source": [
        ""
      ],
      "execution_count": null,
      "outputs": []
    },
    {
      "cell_type": "markdown",
      "metadata": {
        "id": "xnmJKY2KsFo1"
      },
      "source": [
        "## 006 - Smallest Subsequence（★5）"
      ]
    },
    {
      "cell_type": "code",
      "metadata": {
        "colab": {
          "base_uri": "https://localhost:8080/"
        },
        "id": "9XE4rcausGEZ",
        "outputId": "8af1b306-6fd7-4a64-ecae-d454b05ff327"
      },
      "source": [
        "# WA\n",
        "import heapq\n",
        "\n",
        "\n",
        "n, k = map(int, input().split())\n",
        "s_list = list(input())\n",
        "\n",
        "h = []\n",
        "min_list = []\n",
        "\n",
        "for i in range(0, n - k + 1):\n",
        "  heapq.heappush(h, s_list[i])\n",
        "\n",
        "min_word = heapq.heappop(h)\n",
        "\n",
        "for i in range(n):\n",
        "  if s_list[i] > min_word:\n",
        "    min_list.append(min_word)\n",
        "  elif s_list[i] == min_word:\n",
        "    min_list.append(min_word)\n",
        "    min_word = heapq.heappop(h)\n",
        "  else:\n",
        "    min_word = s_list[i]\n",
        "    min_list.append(min_word)\n",
        "  \n",
        "  if i < k - 1:\n",
        "    # print(i + n - k + 1, s_list[i + n - k + 1], i)\n",
        "    heapq.heappush(h, s_list[i + n - k + 1])\n",
        "  print(i, h)\n",
        "min_list"
      ],
      "execution_count": null,
      "outputs": [
        {
          "output_type": "stream",
          "text": [
            "7 3\n",
            "atcoder\n",
            "init ['c', 'd', 'o', 't']\n",
            "0 ['d', 'e', 'o', 't']\n",
            "1 ['d', 'e', 'o', 't', 'r']\n",
            "2 ['e', 'r', 'o', 't']\n",
            "3 ['e', 'r', 'o', 't']\n",
            "4 ['o', 'r', 't']\n",
            "5 ['r', 't']\n",
            "6 ['r', 't']\n"
          ],
          "name": "stdout"
        },
        {
          "output_type": "execute_result",
          "data": {
            "text/plain": [
              "['a', 'c', 'c', 'd', 'd', 'e', 'o']"
            ]
          },
          "metadata": {
            "tags": []
          },
          "execution_count": 30
        }
      ]
    },
    {
      "cell_type": "markdown",
      "metadata": {
        "id": "5JMThPdili5x"
      },
      "source": [
        "## 007 - CP Classes（★3）"
      ]
    },
    {
      "cell_type": "code",
      "metadata": {
        "colab": {
          "base_uri": "https://localhost:8080/"
        },
        "id": "fbEbQ_pcljd2",
        "outputId": "dbd33f1c-2563-430d-aeca-d489f65cf09f"
      },
      "source": [
        "import bisect\n",
        "\n",
        "\n",
        "n = int(input())\n",
        "a_list = list(map(int, input().split()))\n",
        "a_list.sort()\n",
        "\n",
        "q = int(input())\n",
        "\n",
        "for _ in range(q):\n",
        "  b = int(input())\n",
        "  index = bisect.bisect_left(a_list, b)\n",
        "  if index == 0:\n",
        "    ans = a_list[0] - b\n",
        "  elif index == n:\n",
        "    ans = b - a_list[-1]\n",
        "  else:\n",
        "    ans = min(a_list[index] - b, b - a_list[index - 1])\n",
        "  print(ans)"
      ],
      "execution_count": 15,
      "outputs": [
        {
          "output_type": "stream",
          "text": [
            "3\n",
            "1 2 7\n",
            "2\n",
            "0\n",
            "1\n",
            "9\n",
            "2\n"
          ],
          "name": "stdout"
        }
      ]
    },
    {
      "cell_type": "code",
      "metadata": {
        "id": "Hcchi1kUr9qY"
      },
      "source": [
        ""
      ],
      "execution_count": null,
      "outputs": []
    }
  ]
}