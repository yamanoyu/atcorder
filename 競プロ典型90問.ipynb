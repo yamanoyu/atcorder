{
  "nbformat": 4,
  "nbformat_minor": 0,
  "metadata": {
    "colab": {
      "name": "競プロ典型90問.ipynb",
      "provenance": [],
      "collapsed_sections": [],
      "toc_visible": true,
      "authorship_tag": "ABX9TyOhxD6jsLmeNtr1a0AS7qTg",
      "include_colab_link": true
    },
    "kernelspec": {
      "name": "python3",
      "display_name": "Python 3"
    },
    "language_info": {
      "name": "python"
    }
  },
  "cells": [
    {
      "cell_type": "markdown",
      "metadata": {
        "id": "view-in-github",
        "colab_type": "text"
      },
      "source": [
        "<a href=\"https://colab.research.google.com/github/yamanoyu/atcorder/blob/master/%E7%AB%B6%E3%83%97%E3%83%AD%E5%85%B8%E5%9E%8B90%E5%95%8F.ipynb\" target=\"_parent\"><img src=\"https://colab.research.google.com/assets/colab-badge.svg\" alt=\"Open In Colab\"/></a>"
      ]
    },
    {
      "cell_type": "markdown",
      "metadata": {
        "id": "PZ-bi0ZRb1L1"
      },
      "source": [
        "## 001 - Yokan Party（★4）"
      ]
    },
    {
      "cell_type": "code",
      "metadata": {
        "colab": {
          "base_uri": "https://localhost:8080/"
        },
        "id": "_PSPZY0qbUVc",
        "outputId": "bc2bee21-964f-40c6-c9c5-3a0220aaf2c5"
      },
      "source": [
        "#WA\n",
        "from collections import defaultdict\n",
        "\n",
        "\n",
        "n, l = map(int, input().split())\n",
        "k = int(input())\n",
        "a_list = [0] + list(map(int, input().split())) + [l]\n",
        "\n",
        "diff_list = []\n",
        "\n",
        "for i in range(1, n + 2):\n",
        "  diff_list.append(a_list[i] - a_list[i - 1])\n",
        "\n",
        "for i in range(n - k):\n",
        "  diff_dict = defaultdict(int)\n",
        "  for d_k, d_v in zip(range(n + 1), diff_list):\n",
        "    diff_dict[d_k] = d_v\n",
        "\n",
        "  diff_dict_sort_list = sorted(diff_dict.items(), key=lambda x: x[1])\n",
        "\n",
        "  diff_min_index = diff_dict_sort_list[0][0]\n",
        "  if diff_min_index == 0:\n",
        "    diff_added_index = 1\n",
        "  elif diff_min_index == n - i:\n",
        "    diff_added_index = diff_min_index - 1\n",
        "  else:\n",
        "    diff_added_index = diff_min_index + 1 if diff_dict[diff_min_index + 1] < diff_dict[diff_min_index - 1] else diff_min_index - 1\n",
        "\n",
        "  diff_list[diff_added_index] += diff_list[diff_min_index]\n",
        "  diff_list.pop(diff_min_index)\n",
        "  \n",
        "ans = min(diff_list)\n",
        "print(ans)"
      ],
      "execution_count": null,
      "outputs": [
        {
          "output_type": "stream",
          "text": [
            "3 100\n",
            "2\n",
            "28 54 81\n",
            "26\n"
          ],
          "name": "stdout"
        }
      ]
    },
    {
      "cell_type": "code",
      "metadata": {
        "id": "Vrfe_UNZw9AK"
      },
      "source": [
        "import bisect\n",
        "\n",
        "\n",
        "n, l = map(int, input().split())\n",
        "k = int(input())\n",
        "a_list = list(map(int, input().split()))\n"
      ],
      "execution_count": null,
      "outputs": []
    },
    {
      "cell_type": "markdown",
      "metadata": {
        "id": "64VaqtQwC0RF"
      },
      "source": [
        "## 002 - Encyclopedia of Parentheses（★3）"
      ]
    },
    {
      "cell_type": "code",
      "metadata": {
        "id": "jlAasz13lG-C",
        "colab": {
          "base_uri": "https://localhost:8080/"
        },
        "outputId": "f27de71e-6e8a-40ed-96ac-4732fafeddfc"
      },
      "source": [
        "n = int(input())\n",
        "\n",
        "if n % 2 == 0:\n",
        "  ans_list = [[] for _ in range(n // 2)]\n",
        "  ans_list[0] = ['()']\n",
        "  if n != 2:\n",
        "    n = n // 2\n",
        "    for i in range(1, n):\n",
        "      for a in ans_list[i - 1]:\n",
        "        ans_list[i].append(a + '()')\n",
        "        ans_list[i].append('()' + a)\n",
        "        ans_list[i].append('(' + a + ')')\n",
        "      \n",
        "      if i >= 3:\n",
        "        for a in ans_list[i - 2]:\n",
        "          ans_list[i].append(a + '(())')\n",
        "          ans_list[i].append('(())' + a)\n",
        "      if i >= 5:\n",
        "        for a in ans_list[i - 3]:\n",
        "          ans_list[i].append(a + '((()))')\n",
        "          ans_list[i].append('((()))' + a)\n",
        "          ans_list[i].append(a + '(()())')\n",
        "          ans_list[i].append('(()())' + a)\n",
        "      if i >= 7:\n",
        "        for a in ans_list[i - 4]:\n",
        "          ans_list[i].append(a + '(((())))')\n",
        "          ans_list[i].append('(((())))' + a)\n",
        "          ans_list[i].append(a + '((()()))')\n",
        "          ans_list[i].append('((()()))' + a)\n",
        "          ans_list[i].append(a + '(()(()))')\n",
        "          ans_list[i].append('(()(()))' + a)\n",
        "          ans_list[i].append(a + '((())())')\n",
        "          ans_list[i].append('((())())' + a)\n",
        "          ans_list[i].append(a + '(()()())')\n",
        "          ans_list[i].append('(()()())' + a)\n",
        "      if i >= 9:\n",
        "        for a in ans_list[i - 5]:\n",
        "          for b in ans_list[i - 5]:\n",
        "            ans_list[i].append(a + b)\n",
        "          \n",
        "      ans_list[i] = list(set(ans_list[i]))\n",
        "    _ans_list = sorted(ans_list[n - 1])\n",
        "  else:\n",
        "    _ans_list = ans_list[0]\n",
        "    \n",
        "  for ans in _ans_list:\n",
        "    print(ans)"
      ],
      "execution_count": null,
      "outputs": [
        {
          "output_type": "stream",
          "text": [
            "4\n",
            "(())\n",
            "()()\n"
          ],
          "name": "stdout"
        }
      ]
    },
    {
      "cell_type": "markdown",
      "metadata": {
        "id": "AGeCVxc8ZZKY"
      },
      "source": [
        "## 003 - Longest Circular Road（★4）"
      ]
    },
    {
      "cell_type": "code",
      "metadata": {
        "id": "GBcO9goNNRd-",
        "colab": {
          "base_uri": "https://localhost:8080/"
        },
        "outputId": "b2e68679-0c10-45e4-8325-7cba42bbe932"
      },
      "source": [
        "# WA\n",
        "\n",
        "import sys\n",
        "from collections import defaultdict\n",
        "\n",
        "\n",
        "sys.setrecursionlimit(1000000)\n",
        "\n",
        "\n",
        "class UnionFind:\n",
        "    # if x is root: self.parents[x] = - (the number of the group nodes)\n",
        "    # else: self.parents[x] = the parent of x\n",
        "    def __init__(self, n):\n",
        "        self.n = n\n",
        "        self.parents = [-1] * n\n",
        " \n",
        "    # return the parent of x\n",
        "    def find(self, x):\n",
        "        history = []\n",
        "        while self.parents[x] >= 0:\n",
        "            history.append(x)\n",
        "            x = self.parents[x]\n",
        "        for node in history:\n",
        "            self.parents[node] = x\n",
        "        return x\n",
        " \n",
        "    # merge the group of x and the group of y\n",
        "    def union(self, x, y):\n",
        "        x = self.find(x)\n",
        "        y = self.find(y)\n",
        "        if x == y:\n",
        "            return\n",
        "        if self.parents[x] > self.parents[y]:\n",
        "            x, y = y, x\n",
        "        self.parents[x] += self.parents[y]\n",
        "        self.parents[y] = x\n",
        " \n",
        "    # return the size of the group of x\n",
        "    def size(self, x):\n",
        "        return -self.parents[self.find(x)]\n",
        " \n",
        "    # return whether x and y in a same group\n",
        "    def same(self, x, y):\n",
        "        return self.find(x) == self.find(y)\n",
        " \n",
        "    # return [all roots]\n",
        "    # O(n)\n",
        "    def roots(self):\n",
        "        return [i for i, x in enumerate(self.parents) if x < 0]\n",
        " \n",
        "    # return the number of groups\n",
        "    # O(n)\n",
        "    def group_count(self):\n",
        "        return len(self.roots())\n",
        "\n",
        "\n",
        "n = int(input())\n",
        "tree = [[] for _ in range(n)]\n",
        "uf = UnionFind(n)\n",
        "\n",
        "for _ in range(n - 1):\n",
        "  a, b = list(map(int, input().split()))\n",
        "  tree[a - 1].append(b - 1)\n",
        "  if a != 1:\n",
        "    uf.union(a - 1, b - 1)\n",
        "\n",
        "ans_list = [0] * n\n",
        "def dfs(now, ans):\n",
        "    # print(now, end=' ')\n",
        "    # print(ans)\n",
        "    ans += 1\n",
        "    if tree[now]:\n",
        "      for i in tree[now]:\n",
        "          dfs(i, ans)\n",
        "    else:\n",
        "      ans -= 1\n",
        "      ans_list[now] = ans\n",
        "\n",
        "ans = 0\n",
        "dfs(0, ans)\n",
        "# print(ans_list)\n",
        "\n",
        "ans_dict = defaultdict(int)\n",
        "# print(uf.parents)\n",
        "for i, v in zip(uf.parents, ans_list):\n",
        "  ans_dict[i] = max(ans_dict[i], v)\n",
        "\n",
        "max_list = []\n",
        "for t in tree[0]:\n",
        "  max_list.append(ans_dict[t])\n",
        "\n",
        "max_list.sort()\n",
        "print(sum(max_list[-2:]) + 1)"
      ],
      "execution_count": null,
      "outputs": [
        {
          "output_type": "stream",
          "text": [
            "5\n",
            "1 2\n",
            "2 3\n",
            "3 4\n",
            "3 5\n",
            "4\n"
          ],
          "name": "stdout"
        }
      ]
    },
    {
      "cell_type": "markdown",
      "metadata": {
        "id": "S29_pwgfAi4I"
      },
      "source": [
        "## 004 - Cross Sum（★2）"
      ]
    },
    {
      "cell_type": "code",
      "metadata": {
        "colab": {
          "base_uri": "https://localhost:8080/"
        },
        "id": "VQLnq4VAAjOc",
        "outputId": "54a2d182-55c0-4bc2-9ba4-e53e217e637e"
      },
      "source": [
        "# TLE\n",
        "h, w = map(int, input().split())\n",
        "hw_list = [list(map(int, input().split())) for _ in range(h)]\n",
        "\n",
        "w_sum_list = [0] * w\n",
        "h_sum_list = [0] * h\n",
        "\n",
        "for i in range(h):\n",
        "  for j in range(w):\n",
        "    w_sum_list[j] += hw_list[i][j]\n",
        "    h_sum_list[i] += hw_list[i][j]\n",
        "\n",
        "print(w_sum_list, h_sum_list)\n",
        "\n",
        "for k in range(h):\n",
        "  for l in range(w):\n",
        "    print(w_sum_list[l] + h_sum_list[k] - hw_list[k][l], end=\"\")\n",
        "    print(' ', end=\"\")\n",
        "  print()"
      ],
      "execution_count": null,
      "outputs": [
        {
          "output_type": "stream",
          "text": [
            "2 3\n",
            "1 2 3\n",
            "6 5 4\n",
            "[7, 7, 7] [6, 15]\n",
            "12 11 10 \n",
            "16 17 18 \n"
          ],
          "name": "stdout"
        }
      ]
    },
    {
      "cell_type": "markdown",
      "metadata": {
        "id": "fuQNEgSMsCb5"
      },
      "source": [
        "## 005 - Restricted Digits（★7）"
      ]
    },
    {
      "cell_type": "code",
      "metadata": {
        "id": "0Y3R9BD6BsIU"
      },
      "source": [
        ""
      ],
      "execution_count": null,
      "outputs": []
    },
    {
      "cell_type": "markdown",
      "metadata": {
        "id": "xnmJKY2KsFo1"
      },
      "source": [
        "## 006 - Smallest Subsequence（★5）"
      ]
    },
    {
      "cell_type": "code",
      "metadata": {
        "colab": {
          "base_uri": "https://localhost:8080/"
        },
        "id": "9XE4rcausGEZ",
        "outputId": "8af1b306-6fd7-4a64-ecae-d454b05ff327"
      },
      "source": [
        "# WA\n",
        "import heapq\n",
        "\n",
        "\n",
        "n, k = map(int, input().split())\n",
        "s_list = list(input())\n",
        "\n",
        "h = []\n",
        "min_list = []\n",
        "\n",
        "for i in range(0, n - k + 1):\n",
        "  heapq.heappush(h, s_list[i])\n",
        "\n",
        "min_word = heapq.heappop(h)\n",
        "\n",
        "for i in range(n):\n",
        "  if s_list[i] > min_word:\n",
        "    min_list.append(min_word)\n",
        "  elif s_list[i] == min_word:\n",
        "    min_list.append(min_word)\n",
        "    min_word = heapq.heappop(h)\n",
        "  else:\n",
        "    min_word = s_list[i]\n",
        "    min_list.append(min_word)\n",
        "  \n",
        "  if i < k - 1:\n",
        "    # print(i + n - k + 1, s_list[i + n - k + 1], i)\n",
        "    heapq.heappush(h, s_list[i + n - k + 1])\n",
        "  print(i, h)\n",
        "min_list"
      ],
      "execution_count": null,
      "outputs": [
        {
          "output_type": "stream",
          "text": [
            "7 3\n",
            "atcoder\n",
            "init ['c', 'd', 'o', 't']\n",
            "0 ['d', 'e', 'o', 't']\n",
            "1 ['d', 'e', 'o', 't', 'r']\n",
            "2 ['e', 'r', 'o', 't']\n",
            "3 ['e', 'r', 'o', 't']\n",
            "4 ['o', 'r', 't']\n",
            "5 ['r', 't']\n",
            "6 ['r', 't']\n"
          ],
          "name": "stdout"
        },
        {
          "output_type": "execute_result",
          "data": {
            "text/plain": [
              "['a', 'c', 'c', 'd', 'd', 'e', 'o']"
            ]
          },
          "metadata": {
            "tags": []
          },
          "execution_count": 30
        }
      ]
    },
    {
      "cell_type": "markdown",
      "metadata": {
        "id": "5JMThPdili5x"
      },
      "source": [
        "## 007 - CP Classes（★3）"
      ]
    },
    {
      "cell_type": "code",
      "metadata": {
        "colab": {
          "base_uri": "https://localhost:8080/"
        },
        "id": "fbEbQ_pcljd2",
        "outputId": "dbd33f1c-2563-430d-aeca-d489f65cf09f"
      },
      "source": [
        "import bisect\n",
        "\n",
        "\n",
        "n = int(input())\n",
        "a_list = list(map(int, input().split()))\n",
        "a_list.sort()\n",
        "\n",
        "q = int(input())\n",
        "\n",
        "for _ in range(q):\n",
        "  b = int(input())\n",
        "  index = bisect.bisect_left(a_list, b)\n",
        "  if index == 0:\n",
        "    ans = a_list[0] - b\n",
        "  elif index == n:\n",
        "    ans = b - a_list[-1]\n",
        "  else:\n",
        "    ans = min(a_list[index] - b, b - a_list[index - 1])\n",
        "  print(ans)"
      ],
      "execution_count": null,
      "outputs": [
        {
          "output_type": "stream",
          "text": [
            "3\n",
            "1 2 7\n",
            "2\n",
            "0\n",
            "1\n",
            "9\n",
            "2\n"
          ],
          "name": "stdout"
        }
      ]
    },
    {
      "cell_type": "markdown",
      "metadata": {
        "id": "PRg8EpFeoSq5"
      },
      "source": [
        "## 008 - AtCounter（★4）"
      ]
    },
    {
      "cell_type": "code",
      "metadata": {
        "colab": {
          "base_uri": "https://localhost:8080/"
        },
        "id": "Hcchi1kUr9qY",
        "outputId": "63d846db-27aa-46b1-bd63-872b44acac22"
      },
      "source": [
        "# WA & TLE\n",
        "import bisect\n",
        "\n",
        "\n",
        "MOD = 10 ** 9 + 7\n",
        "\n",
        "n = int(input())\n",
        "s_list = list(input())\n",
        "\n",
        "a_index_list = []\n",
        "t_index_list = []\n",
        "c_index_list = []\n",
        "o_index_list = []\n",
        "d_index_list = []\n",
        "e_index_list = []\n",
        "r_index_list = []\n",
        "\n",
        "for s_i, s in enumerate(s_list):\n",
        "  if s == 'a':\n",
        "    a_index_list.append(s_i)\n",
        "  elif s == 't':\n",
        "    t_index_list.append(s_i)\n",
        "  elif s == 'c':\n",
        "    c_index_list.append(s_i)\n",
        "  elif s == 'o':\n",
        "    o_index_list.append(s_i)\n",
        "  elif s == 'd':\n",
        "    d_index_list.append(s_i)\n",
        "  elif s == 'e':\n",
        "    e_index_list.append(s_i)\n",
        "  elif s == 'r':\n",
        "    r_index_list.append(s_i)\n",
        "\n",
        "a_index_list_len = len(a_index_list)\n",
        "t_index_list_len = len(t_index_list)\n",
        "c_index_list_len = len(c_index_list)\n",
        "o_index_list_len = len(o_index_list)\n",
        "d_index_list_len = len(d_index_list)\n",
        "e_index_list_len = len(e_index_list)\n",
        "r_index_list_len = len(r_index_list)\n",
        "\n",
        "ans = 0\n",
        "\n",
        "for a in a_index_list:\n",
        "  _ans = 1\n",
        "  t_insert_index = bisect.bisect_left(t_index_list, a)\n",
        "  _ans *= (t_index_list_len - t_insert_index) % MOD\n",
        "  print(_ans)\n",
        "  for t in t_index_list[t_insert_index:]:\n",
        "    c_insert_index = bisect.bisect_left(c_index_list, t)\n",
        "    _ans *= (c_index_list_len - c_insert_index) % MOD\n",
        "    for c in c_index_list[c_insert_index:]:\n",
        "      o_insert_index = bisect.bisect_left(o_index_list, c)\n",
        "      _ans *= (o_index_list_len - o_insert_index) % MOD\n",
        "      for o in o_index_list[o_insert_index:]:\n",
        "        d_insert_index = bisect.bisect_left(d_index_list, o)\n",
        "        _ans *= (d_index_list_len - d_insert_index) % MOD\n",
        "        for d in d_index_list[d_insert_index:]:\n",
        "          e_insert_index = bisect.bisect_left(e_index_list, d)\n",
        "          _ans *= (e_index_list_len - e_insert_index) % MOD\n",
        "          for e in e_index_list[e_insert_index:]:\n",
        "            r_insert_index = bisect.bisect_left(r_index_list, e)\n",
        "            _ans *= (r_index_list_len - r_insert_index) % MOD\n",
        "  ans += _ans\n",
        "  print(ans)"
      ],
      "execution_count": null,
      "outputs": [
        {
          "output_type": "stream",
          "text": [
            "10\n",
            "attcordeer\n",
            "2\n",
            "8\n"
          ],
          "name": "stdout"
        }
      ]
    },
    {
      "cell_type": "code",
      "metadata": {
        "colab": {
          "base_uri": "https://localhost:8080/"
        },
        "id": "_xVGAWId4ezq",
        "outputId": "ebc9898b-c554-4fa7-8235-cced280e656c"
      },
      "source": [
        "MOD = 10 ** 9 + 7\n",
        "\n",
        "n = int(input())\n",
        "s_list = list(input())\n",
        "\n",
        "dp = [[0] * 7 for _ in range(n)]\n",
        "\n",
        "for i in range(n):\n",
        "  for j in range(7):\n",
        "    dp[i][j] += dp[i - 1][j]\n",
        "    if s_list[i] == 'a' and j == 0:\n",
        "      dp[i][j] += 1\n",
        "    elif s_list[i] == 't' and j == 1:\n",
        "      dp[i][j] += dp[i - 1][j - 1]\n",
        "    elif s_list[i] == 'c' and j == 2:\n",
        "      dp[i][j] += dp[i - 1][j - 1]\n",
        "    elif s_list[i] == 'o' and j == 3:\n",
        "      dp[i][j] += dp[i - 1][j - 1]\n",
        "    elif s_list[i] == 'd' and j == 4:\n",
        "      dp[i][j] += dp[i - 1][j - 1]\n",
        "    elif s_list[i] == 'e' and j == 5:\n",
        "      dp[i][j] += dp[i - 1][j - 1]\n",
        "    elif s_list[i] == 'r' and j == 6:\n",
        "      dp[i][j] += dp[i - 1][j - 1]\n",
        "\n",
        "ans = dp[n - 1][6] % MOD\n",
        "print(ans)"
      ],
      "execution_count": null,
      "outputs": [
        {
          "output_type": "stream",
          "text": [
            "10\n",
            "attcordeer\n",
            "4\n"
          ],
          "name": "stdout"
        }
      ]
    },
    {
      "cell_type": "markdown",
      "metadata": {
        "id": "wrzvjEOYs-fe"
      },
      "source": [
        "## 009 - Three Point Angle（★6）"
      ]
    },
    {
      "cell_type": "code",
      "metadata": {
        "id": "HKbjEmpFtBLp",
        "colab": {
          "base_uri": "https://localhost:8080/"
        },
        "outputId": "bb29d762-2cce-4d2e-b76d-59d03d8e1bf1"
      },
      "source": [
        "import bisect\n",
        "import math\n",
        "\n",
        "\n",
        "n = int(input())\n",
        "xy_list = [tuple(map(int, input().split())) for _ in range(n)]\n",
        "\n",
        "ans = 0\n",
        "\n",
        "for i in range(n):\n",
        "  x_c, y_c = xy_list[i]\n",
        "  _xy_list = [(math.degrees(math.atan2(_y - y_c, _x - x_c)) + 360) % 360 for _x, _y in xy_list if not(_x == x_c and _y == y_c)]\n",
        "  _xy_list.sort()\n",
        "\n",
        "  for j in range(n - 1):\n",
        "    best_degree = _xy_list[j] + 180\n",
        "    insert_index = bisect.bisect_left(_xy_list, best_degree)\n",
        "\n",
        "    if insert_index == 0:\n",
        "      _ans = min(360 - abs(_xy_list[insert_index] - _xy_list[j]), abs(_xy_list[insert_index] - _xy_list[j]))\n",
        "    elif insert_index == n - 1:\n",
        "      _ans = min(360 - abs(_xy_list[insert_index - 1] - _xy_list[j]), abs(_xy_list[insert_index - 1] - _xy_list[j]))\n",
        "    else:\n",
        "      _ans = max(min(abs(_xy_list[insert_index] - _xy_list[j]), 360 - abs(_xy_list[insert_index] - _xy_list[j])), min(abs(_xy_list[insert_index - 1] - _xy_list[j]), 360 - abs(_xy_list[insert_index - 1] - _xy_list[j])))\n",
        "\n",
        "    ans = max(ans, _ans)\n",
        "\n",
        "print(ans)"
      ],
      "execution_count": null,
      "outputs": [
        {
          "output_type": "stream",
          "text": [
            "3\n",
            "0 0\n",
            "10 0\n",
            "0 10\n",
            "90.0\n"
          ],
          "name": "stdout"
        }
      ]
    },
    {
      "cell_type": "markdown",
      "metadata": {
        "id": "V1zqs66NtBmD"
      },
      "source": [
        "## 010 - Score Sum Queries（★2）"
      ]
    },
    {
      "cell_type": "code",
      "metadata": {
        "colab": {
          "base_uri": "https://localhost:8080/"
        },
        "id": "Uf-r25C3tD03",
        "outputId": "8b558621-5c79-42de-e3fe-d534933c1318"
      },
      "source": [
        "n = int(input())\n",
        "\n",
        "class1_score_list = [0] * n\n",
        "class2_score_list = [0] * n\n",
        "\n",
        "for i, _ in enumerate(range(n)):\n",
        "  c, p = map(int, input().split())\n",
        "  if c == 1:\n",
        "    class1_score_list[i] = p\n",
        "  else:\n",
        "    class2_score_list[i] = p\n",
        "\n",
        "class1_score_list_sum = [0]\n",
        "class2_score_list_sum = [0]\n",
        "\n",
        "for i in range(n):\n",
        "    class1_score_list_sum.append(class1_score_list_sum[-1] + class1_score_list[i])\n",
        "    class2_score_list_sum.append(class2_score_list_sum[-1] + class2_score_list[i])\n",
        "\n",
        "q = int(input())\n",
        "\n",
        "for _ in range(q):\n",
        "  l, r = map(int, input().split())\n",
        "  print(class1_score_list_sum[r] - class1_score_list_sum[l - 1], class2_score_list_sum[r] - class2_score_list_sum[l - 1])"
      ],
      "execution_count": null,
      "outputs": [
        {
          "output_type": "stream",
          "text": [
            "2\n",
            "1 3\n",
            "2 2\n",
            "1\n",
            "1 2\n",
            "3 2\n"
          ],
          "name": "stdout"
        }
      ]
    },
    {
      "cell_type": "markdown",
      "metadata": {
        "id": "iL5QDvh5vLXl"
      },
      "source": [
        "## 011 - Gravy Jobs（★6）"
      ]
    },
    {
      "cell_type": "code",
      "metadata": {
        "colab": {
          "base_uri": "https://localhost:8080/"
        },
        "id": "oz4-ELPYvMBd",
        "outputId": "6d05d584-c67d-4b85-cf9e-ba3471a70fa4"
      },
      "source": [
        "# WA\n",
        "\n",
        "n = int(input())\n",
        "dcs_list = [tuple(map(int, input().split())) for _ in range(n)]\n",
        "dcs_list.sort()\n",
        "d_max = dcs_list[-1][0]\n",
        "\n",
        "dp = [[0] * (d_max+ 1) for _ in range(n)]\n",
        "\n",
        "for i in range(n):\n",
        "  d, c, s = dcs_list[i]\n",
        "  if c > d:\n",
        "    continue\n",
        "\n",
        "  if i == 0:\n",
        "    dp[i][c] = s\n",
        "  else:\n",
        "    for j in range(d_max + 1):\n",
        "      if j < c or j > d:\n",
        "        dp[i][j] = dp[i - 1][j]\n",
        "      else:\n",
        "        dp[i][j] = max(dp[i - 1][j], dp[i - 1][j - c] + s)\n",
        "\n",
        "ans = max(dp[n - 1])\n",
        "print(ans)"
      ],
      "execution_count": null,
      "outputs": [
        {
          "output_type": "stream",
          "text": [
            "1\n",
            "12 3 69853\n",
            "69853\n"
          ],
          "name": "stdout"
        }
      ]
    },
    {
      "cell_type": "markdown",
      "metadata": {
        "id": "paf63uighzjs"
      },
      "source": [
        "## 012 - Red Painting（★4）"
      ]
    },
    {
      "cell_type": "code",
      "metadata": {
        "id": "7c6NvOXhh1er"
      },
      "source": [
        "class UnionFind:\n",
        "    # if x is root: self.parents[x] = - (the number of the group nodes)\n",
        "    # else: self.parents[x] = the parent of x\n",
        "    def __init__(self, n):\n",
        "        self.n = n\n",
        "        self.parents = [-1] * n\n",
        " \n",
        "    # return the parent of x\n",
        "    def find(self, x):\n",
        "        history = []\n",
        "        while self.parents[x] >= 0:\n",
        "            history.append(x)\n",
        "            x = self.parents[x]\n",
        "        for node in history:\n",
        "            self.parents[node] = x\n",
        "        return x\n",
        " \n",
        "    # merge the group of x and the group of y\n",
        "    def union(self, x, y):\n",
        "        x = self.find(x)\n",
        "        y = self.find(y)\n",
        "        if x == y:\n",
        "            return\n",
        "        if self.parents[x] > self.parents[y]:\n",
        "            x, y = y, x\n",
        "        self.parents[x] += self.parents[y]\n",
        "        self.parents[y] = x\n",
        " \n",
        "    # return the size of the group of x\n",
        "    def size(self, x):\n",
        "        return -self.parents[self.find(x)]\n",
        " \n",
        "    # return whether x and y in a same group\n",
        "    def same(self, x, y):\n",
        "        return self.find(x) == self.find(y)\n",
        " \n",
        "    # return [all roots]\n",
        "    # O(n)\n",
        "    def roots(self):\n",
        "        return [i for i, x in enumerate(self.parents) if x < 0]\n",
        " \n",
        "    # return the number of groups\n",
        "    # O(n)\n",
        "    def group_count(self):\n",
        "        return len(self.roots())\n",
        "\n",
        "\n",
        "h, w = map(int, input().split())\n",
        "q = int(input())\n",
        "\n",
        "uf = UnionFind(h * w)\n",
        "\n",
        "red_set = set()\n",
        "\n",
        "for i in range(q):\n",
        "  query = list(map(int, input().split()))\n",
        "  t = query[0]\n",
        "\n",
        "  if t == 1:\n",
        "    r, c = query[1:]\n",
        "    position = (r - 1) * w + c - 1\n",
        "    red_set.add(position)\n",
        "\n",
        "    next_position = [position - 1, position + 1, position - w, position + w]\n",
        "    if position < w:\n",
        "      next_position.remove(position - w)\n",
        "    if position >= (h - 1) * w:\n",
        "      next_position.remove(position + w)\n",
        "    if position % w == w - 1:\n",
        "      next_position.remove(position + 1)\n",
        "    if position % w == 0:\n",
        "      next_position.remove(position - 1)\n",
        "\n",
        "    for p in next_position:\n",
        "      if p in red_set:\n",
        "        uf.union(position, p)\n",
        "\n",
        "  else:\n",
        "    ra, ca, rb, cb = query[1:]\n",
        "    start = (ra - 1) * w + ca - 1\n",
        "    goal = (rb - 1) * w + cb - 1\n",
        "\n",
        "    if start not in red_set or goal not in red_set:\n",
        "      ans = 'No'\n",
        "    else:\n",
        "      ans = 'Yes' if uf.same(start, goal) else 'No'\n",
        "    \n",
        "    print(ans)"
      ],
      "execution_count": null,
      "outputs": []
    },
    {
      "cell_type": "markdown",
      "metadata": {
        "id": "4c-evbmZ-RuI"
      },
      "source": [
        "## 013 - Passing（★5）"
      ]
    },
    {
      "cell_type": "code",
      "metadata": {
        "id": "RcrO0LCP-SLV"
      },
      "source": [
        "import heapq\n",
        "\n",
        "\n",
        "INF = 10 ** 9\n",
        "\n",
        "n, m = map(int, input().split())\n",
        "next_node_list = [[] for i in range(n)]\n",
        "\n",
        "for _ in range(m):\n",
        "  a, b, c = map(int, input().split())\n",
        "  next_node_list[a - 1].append((c, b - 1))\n",
        "  next_node_list[b - 1].append((c, a - 1))\n",
        "\n",
        "\n",
        "def dijkstra(start, node_num):\n",
        "    dist = [INF] * node_num\n",
        "    dist[start] = 0\n",
        "    visited_list = [False] * node_num\n",
        "\n",
        "    hq = [(0, start)] # (cost, node)\n",
        "\n",
        "    while hq:\n",
        "        visit_node = heapq.heappop(hq)[1] # ノードを pop する\n",
        "        visited_list[visit_node] = True\n",
        "        for cost, next_node in next_node_list[visit_node]: # ノード v に隣接しているノードに対して\n",
        "            if visited_list[next_node] == False and dist[visit_node] + cost < dist[next_node]:\n",
        "                dist[next_node] = dist[visit_node] + cost\n",
        "                heapq.heappush(hq, (dist[next_node], next_node))\n",
        "    return dist\n",
        "\n",
        "\n",
        "dist_from_1 = dijkstra(0, n)\n",
        "dist_from_n = dijkstra(n - 1, n)\n",
        "\n",
        "for i in range(n):\n",
        "  ans = dist_from_1[i] + dist_from_n[i]\n",
        "  print(ans)"
      ],
      "execution_count": null,
      "outputs": []
    },
    {
      "cell_type": "markdown",
      "metadata": {
        "id": "Jm_bCPU2z0C8"
      },
      "source": [
        "## 014 - We Used to Sing a Song Together"
      ]
    },
    {
      "cell_type": "code",
      "metadata": {
        "colab": {
          "base_uri": "https://localhost:8080/"
        },
        "id": "gTJLjarf1Ls5",
        "outputId": "527228a9-c6fd-4026-dd45-3a859e37269f"
      },
      "source": [
        "n = int(input())\n",
        "a_list = list(map(int, input().split()))\n",
        "b_list = list(map(int, input().split()))\n",
        "\n",
        "a_list.sort()\n",
        "b_list.sort()\n",
        "\n",
        "ans = 0\n",
        "\n",
        "for a, b in zip(a_list, b_list):\n",
        "  ans += abs(a - b)\n",
        "\n",
        "print(ans)"
      ],
      "execution_count": null,
      "outputs": [
        {
          "output_type": "stream",
          "text": [
            "2\n",
            "1 2\n",
            "3 4\n",
            "4\n"
          ],
          "name": "stdout"
        }
      ]
    },
    {
      "cell_type": "markdown",
      "metadata": {
        "id": "qYbbQE4GXPT9"
      },
      "source": [
        "## 015 - Don't be too close（★6）"
      ]
    },
    {
      "cell_type": "code",
      "metadata": {
        "id": "0cGLtKDq2rle"
      },
      "source": [
        ""
      ],
      "execution_count": null,
      "outputs": []
    },
    {
      "cell_type": "markdown",
      "metadata": {
        "id": "rDNBIQSOXQWC"
      },
      "source": [
        "## 016 - Minimum Coins（★3）"
      ]
    },
    {
      "cell_type": "code",
      "metadata": {
        "id": "93ew1KL1XTHG"
      },
      "source": [
        "n = int(input())\n",
        "a, b, c = map(int, input().split())\n",
        "\n",
        "x, y, z = sorted([a, b, c])\n",
        "\n",
        "ans = 10 ** 18\n",
        "\n",
        "for i in range(n // z, -1, -1):\n",
        "  _ans = 0\n",
        "  for j in range((n - z * i) // y, -1, -1):\n",
        "    if (n - z * i - y * j) % x == 0:\n",
        "      _ans = i + j + (n - z * i - y * j) // x\n",
        "      ans = min(ans, _ans)\n",
        "    else:\n",
        "      continue\n",
        "\n",
        "print(ans)"
      ],
      "execution_count": null,
      "outputs": []
    },
    {
      "cell_type": "markdown",
      "metadata": {
        "id": "CJKhb7TfTYPQ"
      },
      "source": [
        "## 017 - Crossing Segments（★7）"
      ]
    },
    {
      "cell_type": "code",
      "metadata": {
        "id": "DOPI7wEOTYp2"
      },
      "source": [
        ""
      ],
      "execution_count": null,
      "outputs": []
    },
    {
      "cell_type": "markdown",
      "metadata": {
        "id": "_QZXodhITuw-"
      },
      "source": [
        "## 018 - Statue of Chokudai（★3）"
      ]
    },
    {
      "cell_type": "code",
      "metadata": {
        "colab": {
          "base_uri": "https://localhost:8080/"
        },
        "id": "9qPy2KV7TvKm",
        "outputId": "90ad9e58-b2a5-4f45-b63c-0ba138f72fba"
      },
      "source": [
        "import math\n",
        "\n",
        "\n",
        "t = int(input())\n",
        "l, x, y = map(int, input().split())\n",
        "q = int(input())\n",
        "\n",
        "for _ in range(q):\n",
        "  e = int(input())\n",
        "  e = e % t\n",
        "  degree = 2 * math.pi * e / t \n",
        "  y_e = - (l / 2) * math.sin(degree)\n",
        "  z_e = l / 2 - (l / 2) * math.cos(degree)\n",
        "\n",
        "  buddha_x = (x ** 2 + (y - y_e) ** 2) ** 0.5\n",
        "\n",
        "  ans = math.degrees(math.atan2(z_e, buddha_x))\n",
        "  print(ans)"
      ],
      "execution_count": null,
      "outputs": [
        {
          "output_type": "stream",
          "text": [
            "4\n",
            "2 1 1\n",
            "4\n",
            "0\n",
            "0.0\n",
            "1\n",
            "24.0948425521107\n",
            "2\n",
            "54.735610317245346\n",
            "3\n",
            "45.00000000000001\n"
          ],
          "name": "stdout"
        }
      ]
    },
    {
      "cell_type": "markdown",
      "metadata": {
        "id": "kc2mnu_3lkIx"
      },
      "source": [
        "## 019 - Pick Two（★6）"
      ]
    },
    {
      "cell_type": "code",
      "metadata": {
        "colab": {
          "base_uri": "https://localhost:8080/"
        },
        "id": "O3ALTXvBax7M",
        "outputId": "d2dc60d6-cff3-4c2a-b6b3-dd15890c48fa"
      },
      "source": [
        "INF = 10 ** 18\n",
        "\n",
        "n = int(input())\n",
        "a_list = list(map(int, input().split()))\n",
        "\n",
        "dp = [[INF] * 2 * n for _ in range(2 * n)]\n",
        "\n",
        "for i in range(2 * n):\n",
        "  dp[i][i] = 0\n",
        "  if i != 2 * n - 1:\n",
        "    dp[i][i + 1] = abs(a_list[i] - a_list[i + 1])\n",
        "\n",
        "for j in range(3, 2 * n, 2):\n",
        "  for i in range(2 * n - j):\n",
        "    for k in range(i + 1, i + j, 2):\n",
        "      dp[i][i + j] = min(dp[i][i + j], dp[i][k] + dp[k + 1][i + j], dp[i + 1][i + j - 1] + abs(a_list[i] - a_list[i + j]))\n",
        "ans = dp[0][2 * n - 1]\n",
        "print(ans)"
      ],
      "execution_count": null,
      "outputs": [
        {
          "output_type": "stream",
          "text": [
            "3\n",
            "1 3 5 5 3 1\n",
            "0 3\n",
            "[[0, 2, 1000000000000000000, 2, 1000000000000000000, 1000000000000000000], [1000000000000000000, 0, 2, 1000000000000000000, 1000000000000000000, 1000000000000000000], [1000000000000000000, 1000000000000000000, 0, 0, 1000000000000000000, 1000000000000000000], [1000000000000000000, 1000000000000000000, 1000000000000000000, 0, 2, 1000000000000000000], [1000000000000000000, 1000000000000000000, 1000000000000000000, 1000000000000000000, 0, 2], [1000000000000000000, 1000000000000000000, 1000000000000000000, 1000000000000000000, 1000000000000000000, 0]]\n",
            "1 3\n",
            "[[0, 2, 1000000000000000000, 2, 1000000000000000000, 1000000000000000000], [1000000000000000000, 0, 2, 1000000000000000000, 0, 1000000000000000000], [1000000000000000000, 1000000000000000000, 0, 0, 1000000000000000000, 1000000000000000000], [1000000000000000000, 1000000000000000000, 1000000000000000000, 0, 2, 1000000000000000000], [1000000000000000000, 1000000000000000000, 1000000000000000000, 1000000000000000000, 0, 2], [1000000000000000000, 1000000000000000000, 1000000000000000000, 1000000000000000000, 1000000000000000000, 0]]\n",
            "2 3\n",
            "[[0, 2, 1000000000000000000, 2, 1000000000000000000, 1000000000000000000], [1000000000000000000, 0, 2, 1000000000000000000, 0, 1000000000000000000], [1000000000000000000, 1000000000000000000, 0, 0, 1000000000000000000, 2], [1000000000000000000, 1000000000000000000, 1000000000000000000, 0, 2, 1000000000000000000], [1000000000000000000, 1000000000000000000, 1000000000000000000, 1000000000000000000, 0, 2], [1000000000000000000, 1000000000000000000, 1000000000000000000, 1000000000000000000, 1000000000000000000, 0]]\n",
            "0 5\n",
            "0 5\n",
            "[[0, 2, 1000000000000000000, 2, 1000000000000000000, 0], [1000000000000000000, 0, 2, 1000000000000000000, 0, 1000000000000000000], [1000000000000000000, 1000000000000000000, 0, 0, 1000000000000000000, 2], [1000000000000000000, 1000000000000000000, 1000000000000000000, 0, 2, 1000000000000000000], [1000000000000000000, 1000000000000000000, 1000000000000000000, 1000000000000000000, 0, 2], [1000000000000000000, 1000000000000000000, 1000000000000000000, 1000000000000000000, 1000000000000000000, 0]]\n",
            "0\n"
          ],
          "name": "stdout"
        }
      ]
    },
    {
      "cell_type": "markdown",
      "metadata": {
        "id": "Ts2QAFEoldr9"
      },
      "source": [
        "## 020 - Log Inequality（★3）"
      ]
    },
    {
      "cell_type": "code",
      "metadata": {
        "id": "5-52Q1COezdD",
        "colab": {
          "base_uri": "https://localhost:8080/"
        },
        "outputId": "63052e1f-4d70-4385-cc90-7378428acc82"
      },
      "source": [
        "a, b, c = map(int, input().split())\n",
        "ans = 'Yes' if a < c ** b else 'No'\n",
        "print(ans)"
      ],
      "execution_count": null,
      "outputs": [
        {
          "output_type": "stream",
          "text": [
            "4 3 1\n",
            "No\n"
          ],
          "name": "stdout"
        }
      ]
    },
    {
      "cell_type": "markdown",
      "metadata": {
        "id": "FY4ie3JqY9MT"
      },
      "source": [
        "## 021 - Come Back in One Piece（★5）\n"
      ]
    },
    {
      "cell_type": "code",
      "metadata": {
        "id": "2VolJGRUmMl7",
        "colab": {
          "base_uri": "https://localhost:8080/"
        },
        "outputId": "47c5c0ea-3700-454c-b50b-3b480e6f60af"
      },
      "source": [
        "# RE\n",
        "from collections import defaultdict\n",
        "\n",
        "\n",
        "n, m = map(int, input().split())\n",
        "\n",
        "path_list = [[] for _ in range(n)]\n",
        "path_reverse_list = [[] for _ in range(n)]\n",
        "\n",
        "# 強連結成分分解(SCC): グラフGに対するSCCを行う\n",
        "# 入力: <N>: 頂点サイズ, <G>: 順方向の有向グラフ, <RG>: 逆方向の有向グラフ\n",
        "# 出力: (<ラベル数>, <各頂点のラベル番号>)\n",
        "def scc(N, G, RG):\n",
        "    order = []\n",
        "    used = [0]*N\n",
        "    group = [None]*N\n",
        "    def dfs(s):\n",
        "        used[s] = 1\n",
        "        for t in G[s]:\n",
        "            if not used[t]:\n",
        "                dfs(t)\n",
        "        order.append(s)\n",
        "    def rdfs(s, col):\n",
        "        group[s] = col\n",
        "        used[s] = 1\n",
        "        for t in RG[s]:\n",
        "            if not used[t]:\n",
        "                rdfs(t, col)\n",
        "    for i in range(N):\n",
        "        if not used[i]:\n",
        "            dfs(i)\n",
        "    used = [0]*N\n",
        "    label = 0\n",
        "    for s in reversed(order):\n",
        "        if not used[s]:\n",
        "            rdfs(s, label)\n",
        "            label += 1\n",
        "    return label, group\n",
        "\n",
        "# 縮約後のグラフを構築\n",
        "def construct(N, G, label, group):\n",
        "    G0 = [set() for i in range(label)]\n",
        "    GP = [[] for i in range(label)]\n",
        "    for v in range(N):\n",
        "        lbs = group[v]\n",
        "        for w in G[v]:\n",
        "            lbt = group[w]\n",
        "            if lbs == lbt:\n",
        "                continue\n",
        "            G0[lbs].add(lbt)\n",
        "        GP[lbs].append(v)\n",
        "    return G0, GP\n",
        "\n",
        "\n",
        "for _ in range(m):\n",
        "  a, b = map(int, input().split())\n",
        "  path_list[a - 1].append(b - 1)\n",
        "  path_reverse_list[b - 1].append(a - 1)\n",
        "\n",
        "label, group_num = scc(n, path_list, path_reverse_list)\n",
        "\n",
        "group_dict = defaultdict(int)\n",
        "\n",
        "for g in group_num:\n",
        "  group_dict[g] += 1\n",
        "\n",
        "ans = 0\n",
        "for _, v in group_dict.items():\n",
        "  if v >1: ans += v * (v - 1) // 2\n",
        "\n",
        "print(ans)"
      ],
      "execution_count": null,
      "outputs": [
        {
          "output_type": "stream",
          "text": [
            "2 4\n",
            "1 2\n",
            "2 1\n",
            "1 2\n",
            "2 1\n",
            "1\n"
          ],
          "name": "stdout"
        }
      ]
    },
    {
      "cell_type": "markdown",
      "metadata": {
        "id": "Dr76zG5P7BKT"
      },
      "source": [
        "## 022 - Cubic Cake（★2）"
      ]
    },
    {
      "cell_type": "code",
      "metadata": {
        "id": "V0-sLPpV-e-Y",
        "colab": {
          "base_uri": "https://localhost:8080/"
        },
        "outputId": "8fecd778-686f-4576-a0c5-e738ab14b8fb"
      },
      "source": [
        "a, b, c = map(int, input().split())\n",
        "\n",
        "def gcd(x, y):\n",
        "  if x > y:\n",
        "    x, y = y, x\n",
        "  if x == 0:\n",
        "    return y\n",
        "  else:\n",
        "    return gcd(x, y % x)\n",
        "\n",
        "edge = gcd(a, gcd(b, c))\n",
        "\n",
        "ans = (a // edge - 1) + (b // edge - 1) + (c // edge - 1)\n",
        "print(ans)"
      ],
      "execution_count": null,
      "outputs": [
        {
          "output_type": "stream",
          "text": [
            "1000000000000000000 999999999999999999 999999999999999998\n",
            "2999999999999999994\n"
          ],
          "name": "stdout"
        }
      ]
    },
    {
      "cell_type": "markdown",
      "metadata": {
        "id": "9ZxAQwAA9p7s"
      },
      "source": [
        ""
      ]
    },
    {
      "cell_type": "code",
      "metadata": {
        "id": "Nu3uQxF69qXM"
      },
      "source": [
        ""
      ],
      "execution_count": null,
      "outputs": []
    },
    {
      "cell_type": "markdown",
      "metadata": {
        "id": "Lgen_22_9qkL"
      },
      "source": [
        "## 024 - Select +／- One（★2）"
      ]
    },
    {
      "cell_type": "code",
      "metadata": {
        "colab": {
          "base_uri": "https://localhost:8080/"
        },
        "id": "yExf5Era9rK-",
        "outputId": "61573cb1-c43b-43d5-bc0b-9a97beff3d59"
      },
      "source": [
        "n, k = map(int, input().split())\n",
        "a_list = list(map(int, input().split()))\n",
        "b_list = list(map(int, input().split()))\n",
        "\n",
        "cnt = 0\n",
        "\n",
        "for a, b in zip(a_list, b_list):\n",
        "  cnt += abs(a - b)\n",
        "\n",
        "ans = 'Yes' if cnt <= k and (k - cnt) % 2 == 0 else 'No'\n",
        "print(ans)"
      ],
      "execution_count": null,
      "outputs": [
        {
          "output_type": "stream",
          "text": [
            "2 5\n",
            "1 3\n",
            "2 1\n",
            "Yes\n"
          ],
          "name": "stdout"
        }
      ]
    },
    {
      "cell_type": "markdown",
      "metadata": {
        "id": "kul1bKLA7Rnn"
      },
      "source": [
        ""
      ]
    },
    {
      "cell_type": "code",
      "metadata": {
        "id": "CU1NvBwP7RzS"
      },
      "source": [
        ""
      ],
      "execution_count": null,
      "outputs": []
    },
    {
      "cell_type": "markdown",
      "metadata": {
        "id": "1nsUy5Q87R7l"
      },
      "source": [
        "## 026 - Independent Set on a Tree（★4）"
      ]
    },
    {
      "cell_type": "code",
      "metadata": {
        "colab": {
          "base_uri": "https://localhost:8080/"
        },
        "id": "tEf-jEBB7UJU",
        "outputId": "5b035ef9-0159-4b22-9fc6-da14684d312e"
      },
      "source": [
        "import sys\n",
        "\n",
        "\n",
        "sys.setrecursionlimit(1000000)\n",
        "\n",
        "n = int(input())\n",
        "tree = [[] for _ in range(n)]\n",
        "color_list = [-1] * n\n",
        "root = n + 1\n",
        "\n",
        "def dfs(now, color):\n",
        "  color_list[now] = color\n",
        "  for i in tree[now]:\n",
        "    if color_list[i] != -1:\n",
        "      pass\n",
        "    else:\n",
        "      dfs(i, 1 - color)\n",
        "\n",
        "\n",
        "for _ in range(n - 1):\n",
        "  a, b = map(int, input().split())\n",
        "  root = min(a, root)\n",
        "  tree[a - 1].append(b - 1)\n",
        "  tree[b - 1].append(a - 1)\n",
        "\n",
        "dfs(a - 1, 0)\n",
        "\n",
        "ans_list_1 = []\n",
        "ans_list_2 = []\n",
        "\n",
        "for i, c in enumerate(color_list):\n",
        "  if c == 0:\n",
        "    ans_list_1.append(i + 1)\n",
        "  else:\n",
        "    ans_list_2.append(i + 1)\n",
        "\n",
        "ans = ' '.join(map(str, ans_list_1[: n // 2])) if len(ans_list_1) >= n // 2 else ' '.join(map(str, ans_list_2[: n // 2]))\n",
        "\n",
        "print(ans)"
      ],
      "execution_count": null,
      "outputs": [
        {
          "output_type": "stream",
          "text": [
            "6\n",
            "2 3\n",
            "2 4\n",
            "2 5\n",
            "2 6\n",
            "3 4\n",
            "3 4 5\n"
          ],
          "name": "stdout"
        }
      ]
    },
    {
      "cell_type": "markdown",
      "metadata": {
        "id": "uXYvupumHAjk"
      },
      "source": [
        "## 027 - Sign Up Requests （★2）"
      ]
    },
    {
      "cell_type": "code",
      "metadata": {
        "id": "20KCxEdoJx8G",
        "colab": {
          "base_uri": "https://localhost:8080/"
        },
        "outputId": "933378b0-b955-48af-a98f-adc693161bb0"
      },
      "source": [
        "n = int(input())\n",
        "name_set = set()\n",
        "i = 1\n",
        "\n",
        "for _ in range(n):\n",
        "  s = input()\n",
        "  if s in name_set:\n",
        "    pass\n",
        "  else:\n",
        "    name_set.add(s)\n",
        "    print(i)\n",
        "  i += 1"
      ],
      "execution_count": null,
      "outputs": [
        {
          "output_type": "stream",
          "text": [
            "5\n",
            "a\n",
            "1\n",
            "b\n",
            "2\n",
            "b\n",
            "c\n",
            "4\n",
            "d\n",
            "5\n"
          ],
          "name": "stdout"
        }
      ]
    },
    {
      "cell_type": "markdown",
      "metadata": {
        "id": "XuHHli70h1be"
      },
      "source": [
        "## 028 - Cluttered Paper（★4）"
      ]
    },
    {
      "cell_type": "code",
      "metadata": {
        "colab": {
          "base_uri": "https://localhost:8080/"
        },
        "id": "8SmSAxu0h3H3",
        "outputId": "5fb1f128-de7d-41c8-b3c2-1a838c8a0958"
      },
      "source": [
        "from collections import defaultdict\n",
        "\n",
        "\n",
        "n = int(input())\n",
        "\n",
        "block_list = [[0] * 1001 for _ in range(1001)]\n",
        "\n",
        "for _ in range(n):\n",
        "  lx, ly, rx, ry = map(int, input().split())\n",
        "  block_list[lx][ly] += 1\n",
        "  block_list[lx][ry] -= 1\n",
        "  block_list[rx][ry] += 1\n",
        "  block_list[rx][ly] -= 1\n",
        "\n",
        "for i in range(1001):\n",
        "  for j in range(1001):\n",
        "    if j > 0:\n",
        "      block_list[i][j] += block_list[i][j - 1]\n",
        "\n",
        "for i in range(1001):\n",
        "  for j in range(1001):\n",
        "    if i > 0:\n",
        "      block_list[i][j] += block_list[i - 1][j]\n",
        "\n",
        "ans_dict = defaultdict(int)\n",
        "\n",
        "for i in range(1001):\n",
        "  for j in range(1001):\n",
        "    ans_dict[block_list[i][j]] += 1\n",
        "\n",
        "for k in range(1, n + 1):\n",
        "  ans = ans_dict[k]\n",
        "  print(ans)"
      ],
      "execution_count": null,
      "outputs": [
        {
          "output_type": "stream",
          "text": [
            "2\n",
            "1 1 3 4\n",
            "3 4 6 5\n",
            "4\n",
            "0\n"
          ],
          "name": "stdout"
        }
      ]
    },
    {
      "cell_type": "markdown",
      "metadata": {
        "id": "rvb_xsSedlPh"
      },
      "source": [
        "## 029 - Long Bricks（★5）"
      ]
    },
    {
      "cell_type": "code",
      "metadata": {
        "colab": {
          "base_uri": "https://localhost:8080/"
        },
        "id": "s8sERJdSdn1L",
        "outputId": "3a82643b-e232-496c-cba4-f0c903f2009a"
      },
      "source": [
        "# TLE\n",
        "w, n = map(int, input().split())\n",
        "\n",
        "segfunc = lambda x, y: max(x, y)\n",
        "ide_ele = 0\n",
        "\n",
        "\n",
        "class SegTree:\n",
        "    \"\"\"\n",
        "    init(init_val, ide_ele): 配列init_valで初期化 O(N)\n",
        "    update(k, x): k番目の値をxに更新 O(logN)\n",
        "    query(l, r): 区間[l, r)をsegfuncしたものを返す O(logN)\n",
        "    \"\"\"\n",
        "    def __init__(self, init_val, segfunc, ide_ele):\n",
        "        \"\"\"\n",
        "        init_val: 配列の初期値\n",
        "        segfunc: 区間にしたい操作\n",
        "        ide_ele: 単位元\n",
        "        n: 要素数\n",
        "        num: n以上の最小の2のべき乗\n",
        "        tree: セグメント木(1-index)\n",
        "        \"\"\"\n",
        "        n = len(init_val)\n",
        "        self.segfunc = segfunc\n",
        "        self.ide_ele = ide_ele\n",
        "        self.num = 1 << (n - 1).bit_length()\n",
        "        self.tree = [ide_ele] * 2 * self.num\n",
        "        # 配列の値を葉にセット\n",
        "        for i in range(n):\n",
        "            self.tree[self.num + i] = init_val[i]\n",
        "        # 構築していく\n",
        "        for i in range(self.num - 1, 0, -1):\n",
        "            self.tree[i] = self.segfunc(self.tree[2 * i], self.tree[2 * i + 1])\n",
        "\n",
        "    def update(self, k, x):\n",
        "        \"\"\"\n",
        "        k番目の値をxに更新\n",
        "        k: index(0-index)\n",
        "        x: update value\n",
        "        \"\"\"\n",
        "        k += self.num\n",
        "        self.tree[k] = x\n",
        "        while k > 1:\n",
        "            self.tree[k >> 1] = self.segfunc(self.tree[k], self.tree[k ^ 1])\n",
        "            k >>= 1\n",
        "\n",
        "    def query(self, l, r):\n",
        "        \"\"\"\n",
        "        [l, r)のsegfuncしたものを得る\n",
        "        l: index(0-index)\n",
        "        r: index(0-index)\n",
        "        \"\"\"\n",
        "        res = self.ide_ele\n",
        "\n",
        "        l += self.num\n",
        "        r += self.num\n",
        "        while l < r:\n",
        "            if l & 1:\n",
        "                res = self.segfunc(res, self.tree[l])\n",
        "                l += 1\n",
        "            if r & 1:\n",
        "                res = self.segfunc(res, self.tree[r - 1])\n",
        "            l >>= 1\n",
        "            r >>= 1\n",
        "        return res\n",
        "\n",
        "\n",
        "st = SegTree([0] * w, segfunc, ide_ele)\n",
        "\n",
        "for _ in range(n):\n",
        "  l, r = map(int, input().split())\n",
        "  height = st.query(l, r + 1) + 1\n",
        "  for i in range(l, r + 1):\n",
        "    st.update(i, height)\n",
        "  ans = height\n",
        "  print(ans)"
      ],
      "execution_count": null,
      "outputs": [
        {
          "output_type": "stream",
          "text": [
            "100 4\n",
            "27 100\n",
            "1\n",
            "8 39\n",
            "2\n",
            "83 97\n",
            "2\n",
            "24 75\n",
            "3\n"
          ],
          "name": "stdout"
        }
      ]
    },
    {
      "cell_type": "markdown",
      "metadata": {
        "id": "KR4fn2gmgsQY"
      },
      "source": [
        "## 030 - K Factors（★5）"
      ]
    },
    {
      "cell_type": "code",
      "metadata": {
        "colab": {
          "base_uri": "https://localhost:8080/"
        },
        "id": "U0UwqGBsgv2K",
        "outputId": "b333af23-97ca-45c2-9059-84df20a2990a"
      },
      "source": [
        "# TLE\n",
        "n, k = map(int, input().split())\n",
        "\n",
        "\n",
        "def sieve_of_eratosthenes(n):\n",
        "    prime_num_list = [2]\n",
        "    number_list = [num for num in range(3, n, 2)]\n",
        "    while True:\n",
        "      p = number_list[0]\n",
        "      if p ** 2 > n:\n",
        "        return prime_num_list + number_list\n",
        "        break\n",
        "      prime_num_list.append(p)\n",
        "      number_list = [num for num in number_list if num % p != 0]\n",
        "\n",
        "cnt_list = [0] * n\n",
        "prime_num_list = sieve_of_eratosthenes(n)\n",
        "\n",
        "for p in prime_num_list:\n",
        "  # i = 1\n",
        "  # while p * i <= n: \n",
        "  #   cnt_list[p * i - 1] += 1\n",
        "  #   i += 1\n",
        "  for i in range(p, n+1, p):\n",
        "    cnt_list[i - 1] += 1\n",
        "\n",
        "\n",
        "ans = len([c for c in cnt_list if c >= k])\n",
        "print(ans)"
      ],
      "execution_count": null,
      "outputs": [
        {
          "output_type": "stream",
          "text": [
            "869120 1\n",
            "869119\n"
          ],
          "name": "stdout"
        }
      ]
    },
    {
      "cell_type": "markdown",
      "metadata": {
        "id": "SIi9HE5EXVZY"
      },
      "source": [
        "## 031 - VS AtCoder（★6）"
      ]
    },
    {
      "cell_type": "code",
      "metadata": {
        "id": "HD1KBleIXVns"
      },
      "source": [
        ""
      ],
      "execution_count": null,
      "outputs": []
    },
    {
      "cell_type": "markdown",
      "metadata": {
        "id": "GTcDW5vfXZS9"
      },
      "source": [
        "## 032 - AtCoder Ekiden（★3）"
      ]
    },
    {
      "cell_type": "code",
      "metadata": {
        "colab": {
          "base_uri": "https://localhost:8080/"
        },
        "id": "gkcGsjG0Xc6q",
        "outputId": "ca3983b4-e141-4e3d-db7c-7c0fdcaa7635"
      },
      "source": [
        "import itertools\n",
        "\n",
        "\n",
        "n = int(input())\n",
        "a_list = []\n",
        "\n",
        "for i in range(n):\n",
        "  _a_list = list(map(int, input().split()))\n",
        "  a_list.append(_a_list)\n",
        "\n",
        "m = int(input())\n",
        "\n",
        "xy_list = [[0] * n for _ in range(n)]\n",
        "\n",
        "for _ in range(m):\n",
        "  x, y = map(int, input().split())\n",
        "  xy_list[x - 1][y - 1] = 1\n",
        "  xy_list[y - 1][x - 1] = 1\n",
        "\n",
        "candidate_list = itertools.permutations(list(range(n)))\n",
        "\n",
        "ans = float('inf')\n",
        "\n",
        "for candidate in candidate_list:\n",
        "  ng = 0\n",
        "  _ans = 0\n",
        "  for i in range(n):\n",
        "    if i == 0:\n",
        "      _ans += a_list[candidate[i]][i]\n",
        "    else:\n",
        "      if xy_list[candidate[i]][candidate[i - 1]] == 1:\n",
        "        ng = 1\n",
        "        break\n",
        "      else:\n",
        "        _ans += a_list[candidate[i]][i]\n",
        "    \n",
        "  if ng == 1:\n",
        "    continue\n",
        "  else:\n",
        "    ans = min(ans, _ans)\n",
        "    \n",
        "if ans == float('inf'): ans = -1\n",
        "print(ans)"
      ],
      "execution_count": null,
      "outputs": [
        {
          "output_type": "stream",
          "text": [
            "3\n",
            "1 10 100\n",
            "10 1 100\n",
            "100 10 1\n",
            "1\n",
            "1 2\n",
            "111\n"
          ],
          "name": "stdout"
        }
      ]
    },
    {
      "cell_type": "markdown",
      "metadata": {
        "id": "Sab6_UWG8Zaj"
      },
      "source": [
        "## 033 - Not Too Bright（★2）"
      ]
    },
    {
      "cell_type": "code",
      "metadata": {
        "colab": {
          "base_uri": "https://localhost:8080/"
        },
        "id": "zxRJWL_K8cW4",
        "outputId": "c033eef1-2c21-42f8-ed63-0b5da076c3bd"
      },
      "source": [
        "h, w = map(int, input().split())\n",
        "\n",
        "if h == 1:\n",
        "  ans = w\n",
        "elif w == 1:\n",
        "  ans = h\n",
        "else:\n",
        "  h = h // 2 + 1 if h % 2 != 0 else h // 2\n",
        "  w = w // 2 + 1 if w % 2 != 0 else w // 2\n",
        "  ans = h * w\n",
        "print(ans)"
      ],
      "execution_count": null,
      "outputs": [
        {
          "output_type": "stream",
          "text": [
            "1 1\n",
            "1\n"
          ],
          "name": "stdout"
        }
      ]
    },
    {
      "cell_type": "markdown",
      "metadata": {
        "id": "aLnKoeJKQCKZ"
      },
      "source": [
        "## 034 - There are few types of elements（★4）"
      ]
    },
    {
      "cell_type": "code",
      "metadata": {
        "colab": {
          "base_uri": "https://localhost:8080/"
        },
        "id": "L1-NHYdsQJDv",
        "outputId": "0c08df22-6a3a-407c-90c0-a6bcd8263bce"
      },
      "source": [
        "# WA\n",
        "from collections import defaultdict\n",
        "\n",
        "\n",
        "n, k = map(int, input().split())\n",
        "a_list = list(map(int, input().split()))\n",
        "\n",
        "a_dict = defaultdict(int)\n",
        "a_set = set()\n",
        "\n",
        "start = 0\n",
        "goal = 0\n",
        "ans = k\n",
        "\n",
        "a_dict[a_list[goal]] += 1\n",
        "a_set.add(a_list[goal])\n",
        "\n",
        "while start + k < n and goal < n:\n",
        "  if goal != n - 1:\n",
        "    if len(a_set) < k:\n",
        "      goal += 1\n",
        "      a_dict[a_list[goal]] += 1\n",
        "      a_set.add(a_list[goal])\n",
        "    elif len(a_set) == k:\n",
        "      goal += 1\n",
        "      a_dict[a_list[goal]] += 1\n",
        "      a_set.add(a_list[goal])\n",
        "      if a_list[goal] in a_set:\n",
        "        _ans = goal - start + 1\n",
        "        continue\n",
        "      else:\n",
        "        a_dict[a_list[start]] -= 1\n",
        "        if a_dict[a_list[start]] == 0:\n",
        "          a_set.remove(a_list[start])\n",
        "        start += 1\n",
        "    else:\n",
        "      a_dict[a_list[start]] -= 1\n",
        "      if a_dict[a_list[start]] == 0:\n",
        "        a_set.remove(a_list[start])\n",
        "      start += 1\n",
        "    _ans = goal - start + 1\n",
        "  else:\n",
        "    if len(a_set) > k:\n",
        "      _ans = goal - start\n",
        "    else:\n",
        "      _ans = goal - start + 1\n",
        "    break\n",
        "\n",
        "  # print(goal, start, a_set)\n",
        "  ans = max(_ans, ans)\n",
        "  \n",
        "print(ans)"
      ],
      "execution_count": null,
      "outputs": [
        {
          "output_type": "stream",
          "text": [
            "4 2\n",
            "1 1 2 1\n",
            "4\n"
          ],
          "name": "stdout"
        }
      ]
    },
    {
      "cell_type": "markdown",
      "metadata": {
        "id": "KIJjT3BPKXn6"
      },
      "source": [
        "## 036 - Max Manhattan Distance（★5）"
      ]
    },
    {
      "cell_type": "code",
      "metadata": {
        "id": "2Fb4SmvsT2_g"
      },
      "source": [
        "n, q = map(int, input().split())\n",
        "xy_list = [tuple(map(int, input().split())) for _ in range(n)]\n",
        "xy_list_rot = [(x - y, x + y) for x, y in xy_list]\n",
        "\n",
        "x_max = -float('inf')\n",
        "x_min = float('inf')\n",
        "y_max = -float('inf')\n",
        "y_min = float('inf')\n",
        "\n",
        "for x, y in xy_list_rot:\n",
        "  x_max = max(x_max, x)\n",
        "  x_min = min(x_min, x)\n",
        "  y_max = max(y_max, y)\n",
        "  y_min = min(y_min, y)\n",
        "\n",
        "for _ in range(q):\n",
        "  query = int(input())\n",
        "  ans = max(abs(xy_list_rot[query - 1][0] - x_max), abs(xy_list_rot[query - 1][0] - x_min), abs(xy_list_rot[query - 1][1] - y_max), abs(xy_list_rot[query - 1][1] - y_min))\n",
        "  print(ans)"
      ],
      "execution_count": null,
      "outputs": []
    },
    {
      "cell_type": "markdown",
      "metadata": {
        "id": "eweqDGMZjPz4"
      },
      "source": [
        "## 037 - Don't Leave the Spice（★5）"
      ]
    },
    {
      "cell_type": "code",
      "metadata": {
        "id": "mtOBXec_bxhX"
      },
      "source": [
        ""
      ],
      "execution_count": null,
      "outputs": []
    },
    {
      "cell_type": "markdown",
      "metadata": {
        "id": "VxUacrbxiHoF"
      },
      "source": [
        "## 038 - Large LCM（★3）"
      ]
    },
    {
      "cell_type": "code",
      "metadata": {
        "colab": {
          "base_uri": "https://localhost:8080/"
        },
        "id": "U0RTm0XEiGi4",
        "outputId": "debd51ee-42ce-42aa-cb54-9bda8faefe68"
      },
      "source": [
        "a, b = map(int, input().split())\n",
        "\n",
        "def gcd(x, y):\n",
        "  if x > y:\n",
        "    x, y = y, x\n",
        "  if x == 0:\n",
        "    return y\n",
        "  else:\n",
        "    return gcd(x, y % x)\n",
        "\n",
        "_ans = a * b // gcd(a, b)\n",
        "ans = _ans if _ans <= 10 ** 18 else 'Large'\n",
        "print(ans)"
      ],
      "execution_count": null,
      "outputs": [
        {
          "output_type": "stream",
          "text": [
            "1000000000000000000 3\n",
            "Large\n"
          ],
          "name": "stdout"
        }
      ]
    },
    {
      "cell_type": "markdown",
      "metadata": {
        "id": "6vbIg2jrPjA4"
      },
      "source": [
        "## 039 - Tree Distance（★5）"
      ]
    },
    {
      "cell_type": "code",
      "metadata": {
        "id": "jNq7-0rzipdj"
      },
      "source": [
        "import sys\n",
        "\n",
        "\n",
        "sys.setrecursionlimit(1000000)\n",
        "\n",
        "n = int(input())\n",
        "tree = [[] for _ in range(n)]\n",
        "\n",
        "for _ in range(n - 1):\n",
        "  a, b = map(int, input().split())\n",
        "  tree[a - 1].append(b - 1)\n",
        "  tree[b - 1].append(a - 1)\n",
        "\n",
        "cildren_num = [1] * n\n",
        "\n",
        "def dfs(now, pre):\n",
        "  for i in tree[now]:\n",
        "    if i != pre:\n",
        "      dfs(i, now)\n",
        "      cildren_num[now] += cildren_num[i]\n",
        "\n",
        "dfs(0, -1)\n",
        "\n",
        "ans = 0\n",
        "for c in cildren_num:\n",
        "  ans += c * (n - c)\n",
        "\n",
        "print(ans)"
      ],
      "execution_count": null,
      "outputs": []
    },
    {
      "cell_type": "markdown",
      "metadata": {
        "id": "6EmjzY4DPrV6"
      },
      "source": [
        "## 042 - Multiple of 9（★4）"
      ]
    },
    {
      "cell_type": "code",
      "metadata": {
        "colab": {
          "base_uri": "https://localhost:8080/"
        },
        "id": "ppHal2nMPrGu",
        "outputId": "ca0cdcd0-d057-47f4-b4ed-a77d293b99af"
      },
      "source": [
        "k = int(input())\n",
        "\n",
        "MOD = 10 ** 9 + 7\n",
        "\n",
        "if k % 9 != 0:\n",
        "  ans = 0\n",
        "else:\n",
        "  dp = [0, 1, 2, 4, 8, 16, 32, 64, 128, 256]\n",
        "  for i in range(k - 9):\n",
        "    dp.append(sum(dp[-9:])) \n",
        "  ans = dp[k]\n",
        "\n",
        "ans %= MOD\n",
        "print(ans)"
      ],
      "execution_count": null,
      "outputs": [
        {
          "output_type": "stream",
          "text": [
            "234\n",
            "757186539\n"
          ],
          "name": "stdout"
        }
      ]
    },
    {
      "cell_type": "markdown",
      "metadata": {
        "id": "hDf7n-zSPtqY"
      },
      "source": [
        "## 043 - Maze Challenge with Lack of Sleep（★4）"
      ]
    },
    {
      "cell_type": "code",
      "metadata": {
        "id": "N1NNd6wiPr5G"
      },
      "source": [
        "h, w = map(int, input().split())\n",
        "rs, cs = map(int, input().split())\n",
        "rt, ct = map(int, input().split())\n",
        "s_list = [list(map(int, input().split())) for _ in range(h)]\n",
        "\n",
        "dp = [[[0, 0, 0, 0] for _ in range(w)] for _ in range(h)]\n",
        "distance = [[folat('inf')] * w for _ in range(h)]\n",
        "\n",
        "if 0 < rs < h and"
      ],
      "execution_count": null,
      "outputs": []
    },
    {
      "cell_type": "markdown",
      "metadata": {
        "id": "ddkVQeGpLSDT"
      },
      "source": [
        "## 044 - Shift and Swapping（★3）"
      ]
    },
    {
      "cell_type": "code",
      "metadata": {
        "colab": {
          "base_uri": "https://localhost:8080/"
        },
        "id": "iVR889VtLUX5",
        "outputId": "a902e998-6fcd-40fc-9f42-3eec40ba1fd2"
      },
      "source": [
        "n, q = map(int, input().split())\n",
        "a_list = list(map(int, input().split()))\n",
        "\n",
        "cnt = 0\n",
        "for _ in range(q):\n",
        "  t, x, y = map(int, input().split())\n",
        "  index_x = (x - cnt) % n - 1\n",
        "  index_y = (y - cnt) % n - 1\n",
        "  if t == 1:\n",
        "    a_list[index_x], a_list[index_y] = a_list[index_y], a_list[index_x]\n",
        "  elif t == 2:\n",
        "    cnt += 1\n",
        "  else:\n",
        "    print(a_list[index_x])"
      ],
      "execution_count": 2,
      "outputs": [
        {
          "output_type": "stream",
          "text": [
            "8 5\n",
            "6 17 2 4 17 19 1 7\n",
            "2 0 0\n",
            "1 7 2\n",
            "1 2 6\n",
            "1 4 5\n",
            "3 4 0\n",
            "4\n"
          ],
          "name": "stdout"
        }
      ]
    },
    {
      "cell_type": "markdown",
      "metadata": {
        "id": "NzPRcFwSPxgp"
      },
      "source": [
        "## 046 - I Love 46（★3）"
      ]
    },
    {
      "cell_type": "code",
      "metadata": {
        "id": "SBlGYileWjWs"
      },
      "source": [
        "from collections import defaultdict\n",
        "\n",
        "\n",
        "n = int(input())\n",
        "a_list = list(map(int, input().split()))\n",
        "b_list = list(map(int, input().split()))\n",
        "c_list = list(map(int, input().split()))\n",
        "\n",
        "a_dict = defaultdict(int)\n",
        "b_dict = defaultdict(int)\n",
        "c_dict = defaultdict(int)\n",
        "\n",
        "\n",
        "for a in a_list:\n",
        "  a_dict[a % 46] += 1\n",
        "for b in b_list:\n",
        "  b_dict[b % 46] += 1\n",
        "for c in c_list:\n",
        "  c_dict[c % 46] += 1\n",
        "\n",
        "\n",
        "ans = 0\n",
        "\n",
        "for i in range(46):\n",
        "  for j in range(46):\n",
        "    for k in range(46):\n",
        "      if (i + j + k) % 46 == 0:\n",
        "        ans += a_dict[i] * b_dict[j] * c_dict[k]\n",
        "\n",
        "print(ans)"
      ],
      "execution_count": null,
      "outputs": []
    },
    {
      "cell_type": "markdown",
      "metadata": {
        "id": "fLwMnxMxH6dP"
      },
      "source": [
        "## 048 - I will not drop out（★3）"
      ]
    },
    {
      "cell_type": "code",
      "metadata": {
        "colab": {
          "base_uri": "https://localhost:8080/"
        },
        "id": "0Ydpwu_mH2Pz",
        "outputId": "56ef2696-c123-4cc5-dd1e-f6d1562f5b2b"
      },
      "source": [
        "from collections import defaultdict\n",
        "\n",
        "\n",
        "n, k = map(int, input().split())\n",
        "ab_list = [tuple(map(int, input().split())) for _ in range(n)]\n",
        "\n",
        "points = []\n",
        "\n",
        "for i in range(n):\n",
        "  points.append(ab_list[i][1])\n",
        "  points.append(ab_list[i][0] - ab_list[i][1])\n",
        "\n",
        "points.sort(reverse=True)\n",
        "\n",
        "ans = sum(points[:k])\n",
        "print(ans)"
      ],
      "execution_count": 2,
      "outputs": [
        {
          "output_type": "stream",
          "text": [
            "4 3\n",
            "4 3\n",
            "9 5\n",
            "15 8\n",
            "8 6\n",
            "21\n"
          ],
          "name": "stdout"
        }
      ]
    },
    {
      "cell_type": "code",
      "metadata": {
        "id": "-U8iCi1KlPpZ"
      },
      "source": [
        ""
      ],
      "execution_count": null,
      "outputs": []
    }
  ]
}