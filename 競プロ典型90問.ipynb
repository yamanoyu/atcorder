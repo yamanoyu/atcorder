{
  "nbformat": 4,
  "nbformat_minor": 0,
  "metadata": {
    "colab": {
      "name": "競プロ典型90問.ipynb",
      "provenance": [],
      "authorship_tag": "ABX9TyM185OxRFDQ2wTjRYiwiH3U",
      "include_colab_link": true
    },
    "kernelspec": {
      "name": "python3",
      "display_name": "Python 3"
    },
    "language_info": {
      "name": "python"
    }
  },
  "cells": [
    {
      "cell_type": "markdown",
      "metadata": {
        "id": "view-in-github",
        "colab_type": "text"
      },
      "source": [
        "<a href=\"https://colab.research.google.com/github/yamanoyu/atcorder/blob/master/%E7%AB%B6%E3%83%97%E3%83%AD%E5%85%B8%E5%9E%8B90%E5%95%8F.ipynb\" target=\"_parent\"><img src=\"https://colab.research.google.com/assets/colab-badge.svg\" alt=\"Open In Colab\"/></a>"
      ]
    },
    {
      "cell_type": "markdown",
      "metadata": {
        "id": "PZ-bi0ZRb1L1"
      },
      "source": [
        "## 001 - Yokan Party（★4）"
      ]
    },
    {
      "cell_type": "code",
      "metadata": {
        "colab": {
          "base_uri": "https://localhost:8080/"
        },
        "id": "_PSPZY0qbUVc",
        "outputId": "bc2bee21-964f-40c6-c9c5-3a0220aaf2c5"
      },
      "source": [
        "#WA\n",
        "from collections import defaultdict\n",
        "\n",
        "\n",
        "n, l = map(int, input().split())\n",
        "k = int(input())\n",
        "a_list = [0] + list(map(int, input().split())) + [l]\n",
        "\n",
        "diff_list = []\n",
        "\n",
        "for i in range(1, n + 2):\n",
        "  diff_list.append(a_list[i] - a_list[i - 1])\n",
        "\n",
        "for i in range(n - k):\n",
        "  diff_dict = defaultdict(int)\n",
        "  for d_k, d_v in zip(range(n + 1), diff_list):\n",
        "    diff_dict[d_k] = d_v\n",
        "\n",
        "  diff_dict_sort_list = sorted(diff_dict.items(), key=lambda x: x[1])\n",
        "\n",
        "  diff_min_index = diff_dict_sort_list[0][0]\n",
        "  if diff_min_index == 0:\n",
        "    diff_added_index = 1\n",
        "  elif diff_min_index == n - i:\n",
        "    diff_added_index = diff_min_index - 1\n",
        "  else:\n",
        "    diff_added_index = diff_min_index + 1 if diff_dict[diff_min_index + 1] < diff_dict[diff_min_index - 1] else diff_min_index - 1\n",
        "\n",
        "  diff_list[diff_added_index] += diff_list[diff_min_index]\n",
        "  diff_list.pop(diff_min_index)\n",
        "  \n",
        "ans = min(diff_list)\n",
        "print(ans)"
      ],
      "execution_count": null,
      "outputs": [
        {
          "output_type": "stream",
          "text": [
            "3 100\n",
            "2\n",
            "28 54 81\n",
            "26\n"
          ],
          "name": "stdout"
        }
      ]
    },
    {
      "cell_type": "markdown",
      "metadata": {
        "id": "64VaqtQwC0RF"
      },
      "source": [
        "## 002 - Encyclopedia of Parentheses（★3）"
      ]
    },
    {
      "cell_type": "code",
      "metadata": {
        "id": "jlAasz13lG-C",
        "colab": {
          "base_uri": "https://localhost:8080/"
        },
        "outputId": "f27de71e-6e8a-40ed-96ac-4732fafeddfc"
      },
      "source": [
        "n = int(input())\n",
        "\n",
        "if n % 2 == 0:\n",
        "  ans_list = [[] for _ in range(n // 2)]\n",
        "  ans_list[0] = ['()']\n",
        "  if n != 2:\n",
        "    n = n // 2\n",
        "    for i in range(1, n):\n",
        "      for a in ans_list[i - 1]:\n",
        "        ans_list[i].append(a + '()')\n",
        "        ans_list[i].append('()' + a)\n",
        "        ans_list[i].append('(' + a + ')')\n",
        "      \n",
        "      if i >= 3:\n",
        "        for a in ans_list[i - 2]:\n",
        "          ans_list[i].append(a + '(())')\n",
        "          ans_list[i].append('(())' + a)\n",
        "      if i >= 5:\n",
        "        for a in ans_list[i - 3]:\n",
        "          ans_list[i].append(a + '((()))')\n",
        "          ans_list[i].append('((()))' + a)\n",
        "          ans_list[i].append(a + '(()())')\n",
        "          ans_list[i].append('(()())' + a)\n",
        "      if i >= 7:\n",
        "        for a in ans_list[i - 4]:\n",
        "          ans_list[i].append(a + '(((())))')\n",
        "          ans_list[i].append('(((())))' + a)\n",
        "          ans_list[i].append(a + '((()()))')\n",
        "          ans_list[i].append('((()()))' + a)\n",
        "          ans_list[i].append(a + '(()(()))')\n",
        "          ans_list[i].append('(()(()))' + a)\n",
        "          ans_list[i].append(a + '((())())')\n",
        "          ans_list[i].append('((())())' + a)\n",
        "          ans_list[i].append(a + '(()()())')\n",
        "          ans_list[i].append('(()()())' + a)\n",
        "      if i >= 9:\n",
        "        for a in ans_list[i - 5]:\n",
        "          for b in ans_list[i - 5]:\n",
        "            ans_list[i].append(a + b)\n",
        "          \n",
        "      ans_list[i] = list(set(ans_list[i]))\n",
        "    _ans_list = sorted(ans_list[n - 1])\n",
        "  else:\n",
        "    _ans_list = ans_list[0]\n",
        "    \n",
        "  for ans in _ans_list:\n",
        "    print(ans)"
      ],
      "execution_count": 20,
      "outputs": [
        {
          "output_type": "stream",
          "text": [
            "4\n",
            "(())\n",
            "()()\n"
          ],
          "name": "stdout"
        }
      ]
    },
    {
      "cell_type": "code",
      "metadata": {
        "id": "GBcO9goNNRd-"
      },
      "source": [
        ""
      ],
      "execution_count": 17,
      "outputs": []
    }
  ]
}