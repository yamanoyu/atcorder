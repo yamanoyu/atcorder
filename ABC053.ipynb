{
 "cells": [
  {
   "cell_type": "code",
   "execution_count": 2,
   "metadata": {},
   "outputs": [
    {
     "name": "stdout",
     "output_type": "stream",
     "text": [
      "1\n",
      "ABC\n"
     ]
    }
   ],
   "source": [
    "x = int(input())\n",
    "ans = 'ABC' if x < 1200 else 'ARC'\n",
    "print(ans)"
   ]
  },
  {
   "cell_type": "markdown",
   "metadata": {},
   "source": [
    "## B - A to Z String"
   ]
  },
  {
   "cell_type": "code",
   "execution_count": 3,
   "metadata": {},
   "outputs": [
    {
     "name": "stdout",
     "output_type": "stream",
     "text": [
      "QWERTYASDFZXCV\n",
      "5\n"
     ]
    }
   ],
   "source": [
    "s = input()\n",
    "\n",
    "start_point = 10 ** 9 + 7\n",
    "end_point = 0\n",
    "\n",
    "for i in range(len(s)):\n",
    "    if s[i] == 'A':\n",
    "        start_point = min(i, start_point)\n",
    "    elif s[i] == 'Z':\n",
    "        end_point = max(i, end_point)\n",
    "\n",
    "ans = end_point - start_point + 1\n",
    "print(ans)"
   ]
  },
  {
   "cell_type": "markdown",
   "metadata": {},
   "source": [
    "## C - X: Yet Another Die Game"
   ]
  },
  {
   "cell_type": "code",
   "execution_count": 34,
   "metadata": {},
   "outputs": [
    {
     "name": "stdout",
     "output_type": "stream",
     "text": [
      "7\n",
      "2\n"
     ]
    }
   ],
   "source": [
    "x = int(input())\n",
    "\n",
    "# 6, 11, 17, 22, ....と増える\n",
    "change_times, mod = divmod(x, 11)\n",
    "\n",
    "if mod == 0:\n",
    "    ans = change_times * 2\n",
    "elif mod <= 6:\n",
    "    ans = change_times * 2 + 1\n",
    "else:\n",
    "    ans = (change_times + 1) * 2\n",
    "\n",
    "print(ans)"
   ]
  },
  {
   "cell_type": "markdown",
   "metadata": {},
   "source": [
    "## D - Card Eater"
   ]
  },
  {
   "cell_type": "code",
   "execution_count": 43,
   "metadata": {},
   "outputs": [
    {
     "name": "stdout",
     "output_type": "stream",
     "text": [
      "15\n",
      "1 3 5 2 1 3 2 8 8 6 2 6 11 1 1\n",
      "7\n"
     ]
    }
   ],
   "source": [
    "n = int(input())\n",
    "a_list = list(map(int, input().split()))\n",
    "\n",
    "a_dict = {}\n",
    "\n",
    "for a in a_list:\n",
    "    if a not in a_dict:\n",
    "        a_dict[a] = 1\n",
    "    else:\n",
    "        a_dict[a] += 1\n",
    "        \n",
    "ans = len(list(set(a_list))) if (len(list(set(a_list))) - len(a_list)) % 2 == 0 else len(list(set(a_list))) - 1\n",
    "    \n",
    "print(ans)"
   ]
  },
  {
   "cell_type": "code",
   "execution_count": null,
   "metadata": {},
   "outputs": [],
   "source": []
  },
  {
   "cell_type": "code",
   "execution_count": null,
   "metadata": {},
   "outputs": [],
   "source": []
  }
 ],
 "metadata": {
  "kernelspec": {
   "display_name": "Python 3",
   "language": "python",
   "name": "python3"
  },
  "language_info": {
   "codemirror_mode": {
    "name": "ipython",
    "version": 3
   },
   "file_extension": ".py",
   "mimetype": "text/x-python",
   "name": "python",
   "nbconvert_exporter": "python",
   "pygments_lexer": "ipython3",
   "version": "3.7.4"
  }
 },
 "nbformat": 4,
 "nbformat_minor": 4
}
