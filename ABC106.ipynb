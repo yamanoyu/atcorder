{
  "nbformat": 4,
  "nbformat_minor": 0,
  "metadata": {
    "colab": {
      "name": "ABC106.ipynb",
      "provenance": [],
      "collapsed_sections": [],
      "authorship_tag": "ABX9TyMIui4rSQRS6LBzygZrMqq4",
      "include_colab_link": true
    },
    "kernelspec": {
      "name": "python3",
      "display_name": "Python 3"
    }
  },
  "cells": [
    {
      "cell_type": "markdown",
      "metadata": {
        "id": "view-in-github",
        "colab_type": "text"
      },
      "source": [
        "<a href=\"https://colab.research.google.com/github/yamanoyu/atcorder/blob/master/ABC106.ipynb\" target=\"_parent\"><img src=\"https://colab.research.google.com/assets/colab-badge.svg\" alt=\"Open In Colab\"/></a>"
      ]
    },
    {
      "cell_type": "markdown",
      "metadata": {
        "id": "vbl765kqb_lH"
      },
      "source": [
        "## A - Garden"
      ]
    },
    {
      "cell_type": "code",
      "metadata": {
        "colab": {
          "base_uri": "https://localhost:8080/"
        },
        "id": "00rZaDKmbwnK",
        "outputId": "5f2b82f9-c8a7-4e5c-e6c4-100c90d0ad29"
      },
      "source": [
        "a, b = map(int, input().split())\n",
        "ans = (a - 1) * (b - 1)\n",
        "print(ans)"
      ],
      "execution_count": 1,
      "outputs": [
        {
          "output_type": "stream",
          "text": [
            "5 7\n",
            "24\n"
          ],
          "name": "stdout"
        }
      ]
    },
    {
      "cell_type": "markdown",
      "metadata": {
        "id": "GuYULKfYcf2z"
      },
      "source": [
        "## B - 105"
      ]
    },
    {
      "cell_type": "code",
      "metadata": {
        "colab": {
          "base_uri": "https://localhost:8080/"
        },
        "id": "DcFQzyD8cAQX",
        "outputId": "629aa6ce-500f-44cd-ebbc-a57852e78df5"
      },
      "source": [
        "n = int(input())\n",
        "\n",
        "num = 1\n",
        "ans_list = []\n",
        "\n",
        "while num <= n:\n",
        "  if num % 2 == 0:\n",
        "    num += 1\n",
        "    continue\n",
        "\n",
        "  divisor_set = set()\n",
        "  i = 1\n",
        "  while i ** 2 <= num:\n",
        "    for j in range(1, i + 1):\n",
        "      if num % j == 0:\n",
        "        divisor_set.add(j)\n",
        "        divisor_set.add(num // j)\n",
        "    i += 1\n",
        "  if len(divisor_set) == 8:\n",
        "    ans_list.append(num)\n",
        "  num += 1\n",
        "\n",
        "ans = len(ans_list)\n",
        "print(ans)"
      ],
      "execution_count": 25,
      "outputs": [
        {
          "output_type": "stream",
          "text": [
            "195\n",
            "5\n"
          ],
          "name": "stdout"
        }
      ]
    },
    {
      "cell_type": "markdown",
      "metadata": {
        "id": "yxaDDN2WfYmr"
      },
      "source": [
        "## C - To Infinity"
      ]
    },
    {
      "cell_type": "code",
      "metadata": {
        "colab": {
          "base_uri": "https://localhost:8080/"
        },
        "id": "U82Hb-C9eBuC",
        "outputId": "26e2f190-b702-4689-a304-7a048905a0ce"
      },
      "source": [
        "# 5000兆 = 5 * 10 ** 15\n",
        "s = input()\n",
        "k = int(input())\n",
        "\n",
        "s_replace = s.replace('1', '')\n",
        "\n",
        "ans = '1' if s_replace == '' else s_replace[0]\n",
        "print(ans)"
      ],
      "execution_count": 31,
      "outputs": [
        {
          "output_type": "stream",
          "text": [
            "1111111111\n",
            "122345\n",
            "1\n"
          ],
          "name": "stdout"
        }
      ]
    },
    {
      "cell_type": "markdown",
      "metadata": {
        "id": "tj3gMmvIhNgd"
      },
      "source": [
        "## D - AtCoder Express 2"
      ]
    },
    {
      "cell_type": "code",
      "metadata": {
        "id": "yIBGnSEOgSvI"
      },
      "source": [
        ""
      ],
      "execution_count": null,
      "outputs": []
    }
  ]
}