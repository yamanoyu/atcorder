{
  "nbformat": 4,
  "nbformat_minor": 0,
  "metadata": {
    "colab": {
      "name": "ABC106.ipynb",
      "provenance": [],
      "collapsed_sections": [],
      "authorship_tag": "ABX9TyOOafJoVF4XiZ1JKyv4PSW3",
      "include_colab_link": true
    },
    "kernelspec": {
      "name": "python3",
      "display_name": "Python 3"
    }
  },
  "cells": [
    {
      "cell_type": "markdown",
      "metadata": {
        "id": "view-in-github",
        "colab_type": "text"
      },
      "source": [
        "<a href=\"https://colab.research.google.com/github/yamanoyu/atcorder/blob/master/ABC106.ipynb\" target=\"_parent\"><img src=\"https://colab.research.google.com/assets/colab-badge.svg\" alt=\"Open In Colab\"/></a>"
      ]
    },
    {
      "cell_type": "markdown",
      "metadata": {
        "id": "vbl765kqb_lH"
      },
      "source": [
        "## A - Garden"
      ]
    },
    {
      "cell_type": "code",
      "metadata": {
        "colab": {
          "base_uri": "https://localhost:8080/"
        },
        "id": "00rZaDKmbwnK",
        "outputId": "5f2b82f9-c8a7-4e5c-e6c4-100c90d0ad29"
      },
      "source": [
        "a, b = map(int, input().split())\n",
        "ans = (a - 1) * (b - 1)\n",
        "print(ans)"
      ],
      "execution_count": 1,
      "outputs": [
        {
          "output_type": "stream",
          "text": [
            "5 7\n",
            "24\n"
          ],
          "name": "stdout"
        }
      ]
    },
    {
      "cell_type": "markdown",
      "metadata": {
        "id": "GuYULKfYcf2z"
      },
      "source": [
        "## B - 105"
      ]
    },
    {
      "cell_type": "code",
      "metadata": {
        "colab": {
          "base_uri": "https://localhost:8080/"
        },
        "id": "DcFQzyD8cAQX",
        "outputId": "b138982c-e52e-46f9-f7c7-bc3eda432ad6"
      },
      "source": [
        "n = int(input())\n",
        "\n",
        "num = 1\n",
        "ans_list = []\n",
        "\n",
        "while num <= n:\n",
        "  if num % 2 == 0:\n",
        "    num += 1\n",
        "    continue\n",
        "\n",
        "  divisor_set = set()\n",
        "  i = 1\n",
        "  while i ** 2 <= num:\n",
        "    for j in range(1, i + 1):\n",
        "      if num % j == 0:\n",
        "        divisor_set.add(j)\n",
        "        divisor_set.add(num // j)\n",
        "    i += 1\n",
        "  if len(divisor_set) == 8:\n",
        "    ans_list.append(num)\n",
        "  num += 1\n",
        "\n",
        "ans = len(ans_list)\n",
        "print(ans)"
      ],
      "execution_count": 18,
      "outputs": [
        {
          "output_type": "stream",
          "text": [
            "105\n",
            "1\n"
          ],
          "name": "stdout"
        }
      ]
    },
    {
      "cell_type": "code",
      "metadata": {
        "id": "U82Hb-C9eBuC"
      },
      "source": [
        ""
      ],
      "execution_count": null,
      "outputs": []
    }
  ]
}