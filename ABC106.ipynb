{
  "nbformat": 4,
  "nbformat_minor": 0,
  "metadata": {
    "colab": {
      "name": "ABC106.ipynb",
      "provenance": [],
      "collapsed_sections": [],
      "authorship_tag": "ABX9TyMfS4RI6Rv2riMALOX1CUmy",
      "include_colab_link": true
    },
    "kernelspec": {
      "name": "python3",
      "display_name": "Python 3"
    }
  },
  "cells": [
    {
      "cell_type": "markdown",
      "metadata": {
        "id": "view-in-github",
        "colab_type": "text"
      },
      "source": [
        "<a href=\"https://colab.research.google.com/github/yamanoyu/atcorder/blob/master/ABC106.ipynb\" target=\"_parent\"><img src=\"https://colab.research.google.com/assets/colab-badge.svg\" alt=\"Open In Colab\"/></a>"
      ]
    },
    {
      "cell_type": "markdown",
      "metadata": {
        "id": "vbl765kqb_lH"
      },
      "source": [
        "## A - Garden"
      ]
    },
    {
      "cell_type": "code",
      "metadata": {
        "colab": {
          "base_uri": "https://localhost:8080/"
        },
        "id": "00rZaDKmbwnK",
        "outputId": "5f2b82f9-c8a7-4e5c-e6c4-100c90d0ad29"
      },
      "source": [
        "a, b = map(int, input().split())\n",
        "ans = (a - 1) * (b - 1)\n",
        "print(ans)"
      ],
      "execution_count": null,
      "outputs": [
        {
          "output_type": "stream",
          "text": [
            "5 7\n",
            "24\n"
          ],
          "name": "stdout"
        }
      ]
    },
    {
      "cell_type": "markdown",
      "metadata": {
        "id": "GuYULKfYcf2z"
      },
      "source": [
        "## B - 105"
      ]
    },
    {
      "cell_type": "code",
      "metadata": {
        "colab": {
          "base_uri": "https://localhost:8080/"
        },
        "id": "DcFQzyD8cAQX",
        "outputId": "629aa6ce-500f-44cd-ebbc-a57852e78df5"
      },
      "source": [
        "n = int(input())\n",
        "\n",
        "num = 1\n",
        "ans_list = []\n",
        "\n",
        "while num <= n:\n",
        "  if num % 2 == 0:\n",
        "    num += 1\n",
        "    continue\n",
        "\n",
        "  divisor_set = set()\n",
        "  i = 1\n",
        "  while i ** 2 <= num:\n",
        "    for j in range(1, i + 1):\n",
        "      if num % j == 0:\n",
        "        divisor_set.add(j)\n",
        "        divisor_set.add(num // j)\n",
        "    i += 1\n",
        "  if len(divisor_set) == 8:\n",
        "    ans_list.append(num)\n",
        "  num += 1\n",
        "\n",
        "ans = len(ans_list)\n",
        "print(ans)"
      ],
      "execution_count": null,
      "outputs": [
        {
          "output_type": "stream",
          "text": [
            "195\n",
            "5\n"
          ],
          "name": "stdout"
        }
      ]
    },
    {
      "cell_type": "markdown",
      "metadata": {
        "id": "yxaDDN2WfYmr"
      },
      "source": [
        "## C - To Infinity"
      ]
    },
    {
      "cell_type": "code",
      "metadata": {
        "colab": {
          "base_uri": "https://localhost:8080/"
        },
        "id": "U82Hb-C9eBuC",
        "outputId": "1307b1bf-424c-4cf7-c291-9c3b1153e1ff"
      },
      "source": [
        "# 5000兆 = 5 * 10 ** 15\n",
        "s = input()\n",
        "k = int(input())\n",
        "\n",
        "one_num = 0\n",
        "\n",
        "for i in range(len(s)):\n",
        "  if s[i] != '1':\n",
        "    one_num = i\n",
        "    break\n",
        "\n",
        "ans = '1' if k <= one_num else s[i]\n",
        "print(ans)"
      ],
      "execution_count": 10,
      "outputs": [
        {
          "output_type": "stream",
          "text": [
            "2\n",
            "1\n",
            "2\n"
          ],
          "name": "stdout"
        }
      ]
    },
    {
      "cell_type": "markdown",
      "metadata": {
        "id": "tj3gMmvIhNgd"
      },
      "source": [
        "## D - AtCoder Express 2"
      ]
    },
    {
      "cell_type": "code",
      "metadata": {
        "id": "yIBGnSEOgSvI"
      },
      "source": [
        ""
      ],
      "execution_count": null,
      "outputs": []
    }
  ]
}