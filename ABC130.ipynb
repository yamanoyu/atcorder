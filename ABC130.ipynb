{
  "nbformat": 4,
  "nbformat_minor": 0,
  "metadata": {
    "colab": {
      "name": "ABC130.ipynb",
      "provenance": [],
      "collapsed_sections": [],
      "authorship_tag": "ABX9TyMUCKKaoFJzfPOEZ91ZKCX3",
      "include_colab_link": true
    },
    "kernelspec": {
      "name": "python3",
      "display_name": "Python 3"
    }
  },
  "cells": [
    {
      "cell_type": "markdown",
      "metadata": {
        "id": "view-in-github",
        "colab_type": "text"
      },
      "source": [
        "<a href=\"https://colab.research.google.com/github/yamanoyu/atcorder/blob/master/ABC130.ipynb\" target=\"_parent\"><img src=\"https://colab.research.google.com/assets/colab-badge.svg\" alt=\"Open In Colab\"/></a>"
      ]
    },
    {
      "cell_type": "markdown",
      "metadata": {
        "id": "WaDeVpKUaqov"
      },
      "source": [
        "## A - Rounding"
      ]
    },
    {
      "cell_type": "code",
      "metadata": {
        "colab": {
          "base_uri": "https://localhost:8080/"
        },
        "id": "3xgE6fsyagSR",
        "outputId": "c1c0e266-30e3-45f1-afb6-500bdc0f6ecc"
      },
      "source": [
        "x, a = map(int, input().split())\n",
        "ans = 0 if x < a else 10\n",
        "print(ans)"
      ],
      "execution_count": 1,
      "outputs": [
        {
          "output_type": "stream",
          "text": [
            "3 5\n",
            "0\n"
          ],
          "name": "stdout"
        }
      ]
    },
    {
      "cell_type": "markdown",
      "metadata": {
        "id": "66uqMyg8a_5e"
      },
      "source": [
        "## B - Bounding"
      ]
    },
    {
      "cell_type": "code",
      "metadata": {
        "colab": {
          "base_uri": "https://localhost:8080/"
        },
        "id": "8qCTyWItarH_",
        "outputId": "c63083ea-2f40-4f6f-ba52-8651c15ae197"
      },
      "source": [
        "n, x = map(int, input().split())\n",
        "l_list = list(map(int, input().split()))\n",
        "\n",
        "ans = 1\n",
        "d = 0\n",
        "\n",
        "for l in l_list:\n",
        "  d += l\n",
        "  if d <= x:\n",
        "    ans += 1\n",
        "  else:\n",
        "    break\n",
        "print(ans)"
      ],
      "execution_count": 5,
      "outputs": [
        {
          "output_type": "stream",
          "text": [
            "4 9\n",
            "3 3 3 3\n",
            "4\n"
          ],
          "name": "stdout"
        }
      ]
    },
    {
      "cell_type": "markdown",
      "metadata": {
        "id": "9-1MJzVbbu1k"
      },
      "source": [
        "## C - Rectangle Cutting"
      ]
    },
    {
      "cell_type": "code",
      "metadata": {
        "colab": {
          "base_uri": "https://localhost:8080/"
        },
        "id": "rJfFOY52bhvb",
        "outputId": "fa69cefc-74f2-4084-cc9a-91685c5462dc"
      },
      "source": [
        "w, h, x, y = map(int, input().split())\n",
        "if x == w / 2 and y == h / 2:\n",
        "  print(w * h / 2, 1)\n",
        "else:\n",
        "  print(w * h / 2, 0)"
      ],
      "execution_count": 6,
      "outputs": [
        {
          "output_type": "stream",
          "text": [
            "2 2 1 1\n",
            "2.0 1\n"
          ],
          "name": "stdout"
        }
      ]
    },
    {
      "cell_type": "markdown",
      "metadata": {
        "id": "0pGfAapDciFM"
      },
      "source": [
        "## D - Enough Array"
      ]
    },
    {
      "cell_type": "code",
      "metadata": {
        "colab": {
          "base_uri": "https://localhost:8080/"
        },
        "id": "HNq_2pnuchiK",
        "outputId": "080e97c3-d907-48ac-91c1-c59d720d20c9"
      },
      "source": [
        "n, k = map(int, input().split())\n",
        "a_list = list(map(int, input().split()))\n",
        "\n",
        "ans = 0\n",
        "a_part_sum = 0\n",
        "a_start = 0\n",
        "\n",
        "for i, a in enumerate(a_list):\n",
        "  a_part_sum += a\n",
        "  if a_part_sum >= k:\n",
        "    while a_part_sum >= k:\n",
        "      a_part_sum -= a_list[a_start]\n",
        "      ans += n - i\n",
        "      a_start += 1\n",
        "print(ans)"
      ],
      "execution_count": 12,
      "outputs": [
        {
          "output_type": "stream",
          "text": [
            "3 5\n",
            "3 3 3 3\n",
            "1 1 2\n",
            "2 2 3\n",
            "3 3 3\n",
            "3\n"
          ],
          "name": "stdout"
        }
      ]
    },
    {
      "cell_type": "markdown",
      "metadata": {
        "id": "HR_WJ0mvl91z"
      },
      "source": [
        "## E - Common Subsequence"
      ]
    },
    {
      "cell_type": "code",
      "metadata": {
        "id": "TJRhklAcccpk"
      },
      "source": [
        ""
      ],
      "execution_count": null,
      "outputs": []
    }
  ]
}