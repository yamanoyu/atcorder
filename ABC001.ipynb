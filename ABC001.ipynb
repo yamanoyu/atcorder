{
 "cells": [
  {
   "cell_type": "markdown",
   "metadata": {},
   "source": [
    "## A - 積雪深差"
   ]
  },
  {
   "cell_type": "code",
   "execution_count": 2,
   "metadata": {},
   "outputs": [
    {
     "name": "stdout",
     "output_type": "stream",
     "text": [
      "3\n",
      "3\n",
      "0\n"
     ]
    }
   ],
   "source": [
    "h1 = int(input())\n",
    "h2 = int(input())\n",
    " \n",
    "print(h1-h2)A - 積雪深差"
   ]
  },
  {
   "cell_type": "markdown",
   "metadata": {},
   "source": [
    "## B - 視程の通報"
   ]
  },
  {
   "cell_type": "code",
   "execution_count": 6,
   "metadata": {},
   "outputs": [
    {
     "name": "stdout",
     "output_type": "stream",
     "text": [
      "340\n",
      "03\n"
     ]
    }
   ],
   "source": [
    "m = int(input())\n",
    "\n",
    "if m < 100:\n",
    "    vv = 0\n",
    "elif 100 <= m <= 5000:\n",
    "    vv = int(m / 100)\n",
    "elif 6000 <= m <=30000:\n",
    "    vv = int(m / 1000) + 50\n",
    "elif 35000 <= m <=70000:\n",
    "    vv = int((int(m / 1000)  - 30) / 5) + 80\n",
    "elif 70000 < m:\n",
    "    vv = 89\n",
    "    \n",
    "if vv < 10:\n",
    "    vv = '0' + str(vv)\n",
    "else:\n",
    "    vv = str(vv)\n",
    "print(vv)"
   ]
  },
  {
   "cell_type": "markdown",
   "metadata": {},
   "source": [
    "## C - 風力観測"
   ]
  },
  {
   "cell_type": "code",
   "execution_count": 37,
   "metadata": {},
   "outputs": [
    {
     "name": "stdout",
     "output_type": "stream",
     "text": [
      "1 1\n",
      "C 0\n"
     ]
    }
   ],
   "source": [
    "deg, dis = map(int, input().split())\n",
    "\n",
    "if 112.5 <= deg < 337.5:\n",
    "    dir = 'NNE'\n",
    "elif 337.5 <= deg < 562.5:\n",
    "    dir = 'NE'\n",
    "elif 562.5 <= deg < 787.5:\n",
    "    dir = 'ENE'\n",
    "elif 787.5 <= deg < 1012.5:\n",
    "    dir = 'E'\n",
    "elif 1012.5 <= deg < 1237.5:\n",
    "    dir = 'ESE'\n",
    "elif 1237.5 <= deg < 1462.5:\n",
    "    dir = 'SE'\n",
    "elif 1462.5 <= deg < 1687.5:\n",
    "    dir = 'SSE'\n",
    "elif 1687.5 <= deg < 1912.5:\n",
    "    dir = 'S'\n",
    "elif 1912.5 <= deg < 2137.5:\n",
    "    dir = 'SSW'\n",
    "elif 2137.5 <= deg < 2362.5:\n",
    "    dir = 'SW'\n",
    "elif 2362.5 <= deg < 2587.5:\n",
    "    dir = 'WSW'\n",
    "elif 2587.5 <= deg < 2812.5:\n",
    "    dir = 'W'\n",
    "elif 2812.5 <= deg < 3037.5:\n",
    "    dir = 'WNW'\n",
    "elif 3037.5 <= deg < 3262.5:\n",
    "    dir = 'NW'\n",
    "elif 3262.5 <= deg < 3487.5:\n",
    "    dir = 'NNW'\n",
    "else:\n",
    "    dir = 'N'\n",
    "\n",
    "if 0 <= dis < 15:\n",
    "    w = 0\n",
    "    dir = 'C'\n",
    "elif 15 <= dis < 93:\n",
    "    w = 1\n",
    "elif 93 <= dis < 201:\n",
    "    w = 2\n",
    "elif 201 <= dis < 327:\n",
    "    w = 3\n",
    "elif 327 <= dis < 477:\n",
    "    w = 4\n",
    "elif 477 <= dis < 645:\n",
    "    w = 5\n",
    "elif 645 <= dis < 831:\n",
    "    w = 6\n",
    "elif 831 <= dis < 1029:\n",
    "    w = 7\n",
    "elif 1029 <= dis < 1245:\n",
    "    w = 8\n",
    "elif 1245 <= dis < 1467:\n",
    "    w = 9\n",
    "elif 1467 <= dis < 1707:\n",
    "    w = 10\n",
    "elif 1707 <= dis < 1959:\n",
    "    w = 11\n",
    "elif 1959 <= dis:\n",
    "    w = 12\n",
    "\n",
    "ans = str(dir) + ' ' + str(w)\n",
    "print(ans)"
   ]
  },
  {
   "cell_type": "markdown",
   "metadata": {},
   "source": [
    "## D - 感雨時刻の整理"
   ]
  },
  {
   "cell_type": "code",
   "execution_count": 190,
   "metadata": {},
   "outputs": [
    {
     "name": "stdout",
     "output_type": "stream",
     "text": [
      "1\n",
      "0000-2400\n",
      "[(0, 1440)]\n",
      "[1, 1, 1, 1, 1, 1, 1, 1, 1, 1, 1, 1, 1, 1, 1, 1, 1, 1, 1, 1, 1, 1, 1, 1, 1, 1, 1, 1, 1, 1, 1, 1, 1, 1, 1, 1, 1, 1, 1, 1, 1, 1, 1, 1, 1, 1, 1, 1, 1, 1, 1, 1, 1, 1, 1, 1, 1, 1, 1, 1, 1, 1, 1, 1, 1, 1, 1, 1, 1, 1, 1, 1, 1, 1, 1, 1, 1, 1, 1, 1, 1, 1, 1, 1, 1, 1, 1, 1, 1, 1, 1, 1, 1, 1, 1, 1, 1, 1, 1, 1, 1, 1, 1, 1, 1, 1, 1, 1, 1, 1, 1, 1, 1, 1, 1, 1, 1, 1, 1, 1, 1, 1, 1, 1, 1, 1, 1, 1, 1, 1, 1, 1, 1, 1, 1, 1, 1, 1, 1, 1, 1, 1, 1, 1, 1, 1, 1, 1, 1, 1, 1, 1, 1, 1, 1, 1, 1, 1, 1, 1, 1, 1, 1, 1, 1, 1, 1, 1, 1, 1, 1, 1, 1, 1, 1, 1, 1, 1, 1, 1, 1, 1, 1, 1, 1, 1, 1, 1, 1, 1, 1, 1, 1, 1, 1, 1, 1, 1, 1, 1, 1, 1, 1, 1, 1, 1, 1, 1, 1, 1, 1, 1, 1, 1, 1, 1, 1, 1, 1, 1, 1, 1, 1, 1, 1, 1, 1, 1, 1, 1, 1, 1, 1, 1, 1, 1, 1, 1, 1, 1, 1, 1, 1, 1, 1, 1, 1, 1, 1, 1, 1, 1, 1, 1, 1, 1, 1, 1, 1, 1, 1, 1, 1, 1, 1, 1, 1, 1, 1, 1, 1, 1, 1, 1, 1, 1, 1, 1, 1, 1, 1, 1, 1, 1, 1, 1, 1, 1, 0]\n",
      "0000-2400\n"
     ]
    }
   ],
   "source": [
    "n = int(input())\n",
    "\n",
    "def cal_min(hhmm):\n",
    "    # 0000からの経過分を出力する関数\n",
    "    hour = hhmm[:2]\n",
    "    minute = hhmm[2:]\n",
    "    return int(hour) * 60 + int(minute)\n",
    "\n",
    "def correction_time(time_tuple):\n",
    "    # 　経過分を5分ごとの区切りにする関数 (1, 34) -> (0, 35)など\n",
    "    # time_tuple　-> 開始時刻と終了時刻のタプル\n",
    "    # retern -> 補正後の開始時刻と終了時刻のタプル\n",
    "    start_time = time_tuple[0]\n",
    "    end_time = time_tuple[1]\n",
    "    start_time_cor = int(start_time / 5) * 5\n",
    "    if end_time % 5 == 0:\n",
    "        end_time_cor = end_time\n",
    "    else:\n",
    "        end_time_cor = (int(end_time / 5) + 1) * 5        \n",
    "    return start_time_cor, end_time_cor\n",
    "    \n",
    "def rev_cal_min(minute):\n",
    "    # 経過時間をhhmmに変換する関数\n",
    "    hh, mm = divmod(minute, 60)\n",
    "    return '{0:02d}'.format(hh) + '{0:02d}'.format(mm)\n",
    "\n",
    "time_list = []\n",
    "\n",
    "# 入力を取り出して5分区切りに補正\n",
    "for _ in range(n):\n",
    "    start, end = input().split('-')\n",
    "    start_min = cal_min(start)\n",
    "    end_min = cal_min(end)\n",
    "    time_list.append(correction_time((start_min, end_min)))\n",
    "\n",
    "# 一応順番に並べ替えておく\n",
    "time_list =  sorted(time_list)\n",
    "\n",
    "# print(time_list)\n",
    "\n",
    "# 0000-2400を5分ごとの配列にする\n",
    "# エラー回避のため2405もつけ加える\n",
    "five_min_list = [0] * 289\n",
    "\n",
    "# 該当の部分を1に変換\n",
    "for i in time_list:\n",
    "        five_min_list[int((i[0] / 5)) : int((i[1] / 5))] = [1] * (int((i[1] / 5) - (i[0] / 5)))\n",
    "\n",
    "# print(five_min_list)\n",
    "\n",
    "start_point = 0\n",
    "end_point = 0\n",
    "\n",
    "ans_list = []\n",
    "\n",
    "# 1がどこからどこまで連続しているかを取得\n",
    "for index, j in enumerate(five_min_list):\n",
    "    if index < end_point:\n",
    "        pass\n",
    "    else:\n",
    "        if j == 1:\n",
    "            start_point = index\n",
    "            end_point = index + 1\n",
    "            for k in range(index + 1, 288):\n",
    "                if five_min_list[k] == 1:\n",
    "                    end_point = k + 1\n",
    "                else:\n",
    "                    break\n",
    "            ans_list.append((start_point, end_point))\n",
    "\n",
    "for ans in ans_list:\n",
    "    print(rev_cal_min(ans[0] * 5) + '-' + rev_cal_min(ans[1] * 5))"
   ]
  },
  {
   "cell_type": "code",
   "execution_count": null,
   "metadata": {},
   "outputs": [],
   "source": []
  },
  {
   "cell_type": "code",
   "execution_count": null,
   "metadata": {},
   "outputs": [],
   "source": []
  },
  {
   "cell_type": "code",
   "execution_count": null,
   "metadata": {},
   "outputs": [],
   "source": []
  },
  {
   "cell_type": "code",
   "execution_count": null,
   "metadata": {},
   "outputs": [],
   "source": []
  }
 ],
 "metadata": {
  "kernelspec": {
   "display_name": "Python 3",
   "language": "python",
   "name": "python3"
  },
  "language_info": {
   "codemirror_mode": {
    "name": "ipython",
    "version": 3
   },
   "file_extension": ".py",
   "mimetype": "text/x-python",
   "name": "python",
   "nbconvert_exporter": "python",
   "pygments_lexer": "ipython3",
   "version": "3.7.4"
  }
 },
 "nbformat": 4,
 "nbformat_minor": 4
}
