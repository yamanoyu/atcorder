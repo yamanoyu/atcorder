{
  "nbformat": 4,
  "nbformat_minor": 0,
  "metadata": {
    "colab": {
      "name": "ABC001.ipynb",
      "provenance": [],
      "collapsed_sections": [],
      "authorship_tag": "ABX9TyNZ5c3mp2bPNYCSdb2Ebf24",
      "include_colab_link": true
    },
    "kernelspec": {
      "name": "python3",
      "display_name": "Python 3"
    },
    "language_info": {
      "name": "python"
    }
  },
  "cells": [
    {
      "cell_type": "markdown",
      "metadata": {
        "id": "view-in-github",
        "colab_type": "text"
      },
      "source": [
        "<a href=\"https://colab.research.google.com/github/yamanoyu/atcorder/blob/master/ABC001.ipynb\" target=\"_parent\"><img src=\"https://colab.research.google.com/assets/colab-badge.svg\" alt=\"Open In Colab\"/></a>"
      ]
    },
    {
      "cell_type": "markdown",
      "metadata": {
        "id": "epXYWu7jk2QA"
      },
      "source": [
        "## A - 積雪深差"
      ]
    },
    {
      "cell_type": "code",
      "metadata": {
        "id": "4-V6Fs4qk035"
      },
      "source": [
        "h1 = int(input())\n",
        "h2 = int(input())\n",
        "ans = h1 - h2\n",
        "print(ans)"
      ],
      "execution_count": null,
      "outputs": []
    },
    {
      "cell_type": "markdown",
      "metadata": {
        "id": "I6fJ3NhZlOcp"
      },
      "source": [
        "## B - 視程の通報"
      ]
    },
    {
      "cell_type": "code",
      "metadata": {
        "colab": {
          "base_uri": "https://localhost:8080/"
        },
        "id": "izJSWzNdk3pW",
        "outputId": "45657b68-3e1a-443b-8574-e4198f60dde9"
      },
      "source": [
        "m = int(input())\n",
        "if m < 100:\n",
        "  ans = '00'\n",
        "elif 100 <= m < 1000:\n",
        "  ans = '0' + str(m // 100)\n",
        "elif 1000 <= m <= 5000:\n",
        "  ans = str(m // 100)\n",
        "elif 6000 <= m <= 30000:\n",
        "  ans = str(m // 1000 + 50)\n",
        "elif 35000 <= m <= 70000:\n",
        "  ans = str((m // 1000 - 30) // 5 + 80)\n",
        "elif 70000 < m:\n",
        "  ans = '89'\n",
        "print(ans)"
      ],
      "execution_count": 10,
      "outputs": [
        {
          "output_type": "stream",
          "text": [
            "1230\n",
            "12\n"
          ],
          "name": "stdout"
        }
      ]
    },
    {
      "cell_type": "markdown",
      "metadata": {
        "id": "88ug50ignZp8"
      },
      "source": [
        "## C - 風力観測"
      ]
    },
    {
      "cell_type": "code",
      "metadata": {
        "colab": {
          "base_uri": "https://localhost:8080/"
        },
        "id": "YAKQliGcmt4Z",
        "outputId": "0cdb0fbd-74be-48c8-89d6-505dbe1ed49f"
      },
      "source": [
        "deg, dis = map(int, input().split())\n",
        "wind = ['N', 'NNE', 'NE', 'ENE', 'E', 'ESE', 'SE', 'SSE', 'S', 'SSW', 'SW', 'WSW', 'W', 'WNW', 'NW', 'NNW', 'N']\n",
        "wind_power = [0, 0.25, 1.55, 3.35, 5.45, 7.95, 10.75, 13.85, 17.15, 20.75, 24.45, 28.45, 32.65]\n",
        "\n",
        "dir = wind[int((deg + 112.5) / 225)]\n",
        "\n",
        "w = -1\n",
        "for i in wind_power:\n",
        "  if dis >= i * 60:\n",
        "    w += 1\n",
        "\n",
        "if w == 0:\n",
        "  print('C 0')\n",
        "else:\n",
        "  print(dir, w)"
      ],
      "execution_count": 20,
      "outputs": [
        {
          "output_type": "stream",
          "text": [
            "1462 1959\n",
            "SE 12\n"
          ],
          "name": "stdout"
        }
      ]
    },
    {
      "cell_type": "markdown",
      "metadata": {
        "id": "Skj-XUNwrLzX"
      },
      "source": [
        "## D - 感雨時刻の整理"
      ]
    },
    {
      "cell_type": "code",
      "metadata": {
        "id": "QNvBeCifqsvn"
      },
      "source": [
        ""
      ],
      "execution_count": null,
      "outputs": []
    }
  ]
}