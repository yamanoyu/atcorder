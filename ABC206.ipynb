{
  "nbformat": 4,
  "nbformat_minor": 0,
  "metadata": {
    "colab": {
      "name": "ABC206.ipynb",
      "provenance": [],
      "authorship_tag": "ABX9TyOWl+JOtI2euYyxNP+6yA91",
      "include_colab_link": true
    },
    "kernelspec": {
      "name": "python3",
      "display_name": "Python 3"
    },
    "language_info": {
      "name": "python"
    }
  },
  "cells": [
    {
      "cell_type": "markdown",
      "metadata": {
        "id": "view-in-github",
        "colab_type": "text"
      },
      "source": [
        "<a href=\"https://colab.research.google.com/github/yamanoyu/atcorder/blob/master/ABC206.ipynb\" target=\"_parent\"><img src=\"https://colab.research.google.com/assets/colab-badge.svg\" alt=\"Open In Colab\"/></a>"
      ]
    },
    {
      "cell_type": "markdown",
      "metadata": {
        "id": "5d_qUA13fpvK"
      },
      "source": [
        "## A - Maxi-Buying"
      ]
    },
    {
      "cell_type": "code",
      "metadata": {
        "colab": {
          "base_uri": "https://localhost:8080/"
        },
        "id": "HCPq3fM-I1gs",
        "outputId": "b432461b-32bc-4fe5-da51-76800ff632e5"
      },
      "source": [
        "n = int(input())\n",
        "p = int(n * 1.08)\n",
        "if p < 206:\n",
        "  ans = 'Yay!'\n",
        "elif p == 206:\n",
        "  ans = 'so-so'\n",
        "else:\n",
        "  ans = ':('\n",
        "print(ans)"
      ],
      "execution_count": 6,
      "outputs": [
        {
          "output_type": "stream",
          "text": [
            "200\n",
            ":(\n"
          ],
          "name": "stdout"
        }
      ]
    },
    {
      "cell_type": "markdown",
      "metadata": {
        "id": "AeMk62OpftYV"
      },
      "source": [
        "## B - Savings"
      ]
    },
    {
      "cell_type": "code",
      "metadata": {
        "colab": {
          "base_uri": "https://localhost:8080/"
        },
        "id": "rQVoIxZyJe30",
        "outputId": "c55d6902-6ffc-4c9e-b832-bd896bf25472"
      },
      "source": [
        "n = int(input())\n",
        "\n",
        "i = 1\n",
        "\n",
        "while True:\n",
        "  p = (i * (i + 1)) //2\n",
        "  if p >= n:\n",
        "    break\n",
        "  i += 1\n",
        "\n",
        "print(i)"
      ],
      "execution_count": 11,
      "outputs": [
        {
          "output_type": "stream",
          "text": [
            "100128\n",
            "447\n"
          ],
          "name": "stdout"
        }
      ]
    },
    {
      "cell_type": "markdown",
      "metadata": {
        "id": "IbKfn6KXfupk"
      },
      "source": [
        "## C - Swappable"
      ]
    },
    {
      "cell_type": "code",
      "metadata": {
        "colab": {
          "base_uri": "https://localhost:8080/"
        },
        "id": "_Rc4hIQuK6wN",
        "outputId": "a2d3afba-75a4-4fc6-e8e0-12cd28f43a0f"
      },
      "source": [
        "# TLE\n",
        "import bisect\n",
        "\n",
        "\n",
        "n = int(input())\n",
        "a_list = list(map(int, input().split()))\n",
        "a_list_sort = sorted(a_list)\n",
        "\n",
        "ans = 0\n",
        "\n",
        "for i, a in enumerate(a_list):\n",
        "  l = bisect.bisect_left(a_list_sort, a)\n",
        "  r = bisect.bisect_right(a_list_sort, a)\n",
        "  ans += (n - i) - (r - l)\n",
        "  a_list_sort.pop(r - 1)\n",
        "\n",
        "print(ans)"
      ],
      "execution_count": 31,
      "outputs": [
        {
          "output_type": "stream",
          "text": [
            "3\n",
            "1 7 1\n",
            "2\n"
          ],
          "name": "stdout"
        }
      ]
    },
    {
      "cell_type": "code",
      "metadata": {
        "colab": {
          "base_uri": "https://localhost:8080/"
        },
        "id": "D78ARIGyKlvT",
        "outputId": "59c06712-cda9-4c7e-9b68-40cfd42d39a6"
      },
      "source": [
        "def cmb(n, r):\n",
        "    # Combinationを算出 その1\n",
        "    # 5C2 = 10など\n",
        "    if n - r < r: r = n - r\n",
        "    if r == 0: return 1\n",
        "    if r == 1: return n\n",
        "\n",
        "    numerator = [n - r + k + 1 for k in range(r)]\n",
        "    denominator = [k + 1 for k in range(r)]\n",
        "\n",
        "    for p in range(2, r+1):\n",
        "        pivot = denominator[p - 1]\n",
        "        if pivot > 1:\n",
        "            offset = (n - r) % p\n",
        "            for k in range(p-1, r, p):\n",
        "                numerator[k - offset] /= pivot\n",
        "                denominator[k] /= pivot\n",
        "    result = 1\n",
        "    for k in range(r):\n",
        "        if numerator[k] > 1:\n",
        "            result *= int(numerator[k])\n",
        "\n",
        "    return result\n",
        "\n",
        "\n",
        "n = int(input())\n",
        "a_list = list(map(int, input().split()))\n",
        "\n",
        "\n",
        "from collections import defaultdict\n",
        "\n",
        "a_dict = defaultdict(int)\n",
        "for a in a_list:\n",
        "  a_dict[a] += 1\n",
        "\n",
        "ans = cmb(n, 2)\n",
        "\n",
        "for k, v in a_dict.items():\n",
        "  if v >= 2:\n",
        "    ans -= cmb(v, 2)\n",
        "\n",
        "print(ans)"
      ],
      "execution_count": 34,
      "outputs": [
        {
          "output_type": "stream",
          "text": [
            "20\n",
            "7 8 1 1 4 9 9 6 8 2 4 1 1 9 5 5 5 3 6 4\n",
            "173\n"
          ],
          "name": "stdout"
        }
      ]
    },
    {
      "cell_type": "markdown",
      "metadata": {
        "id": "q3TiP9xFfy8N"
      },
      "source": [
        "## D - KAIBUNsyo"
      ]
    },
    {
      "cell_type": "code",
      "metadata": {
        "colab": {
          "base_uri": "https://localhost:8080/"
        },
        "id": "2D22LH6wafno",
        "outputId": "0425b13c-d96e-4a5d-c1e2-2075e668d846"
      },
      "source": [
        "class UnionFind:\n",
        "    # if x is root: self.parents[x] = - (the number of the group nodes)\n",
        "    # else: self.parents[x] = the parent of x\n",
        "    def __init__(self, n):\n",
        "        self.n = n\n",
        "        self.parents = [-1] * n\n",
        " \n",
        "    # return the parent of x\n",
        "    def find(self, x):\n",
        "        history = []\n",
        "        while self.parents[x] >= 0:\n",
        "            history.append(x)\n",
        "            x = self.parents[x]\n",
        "        for node in history:\n",
        "            self.parents[node] = x\n",
        "        return x\n",
        " \n",
        "    # merge the group of x and the group of y\n",
        "    def union(self, x, y):\n",
        "        x = self.find(x)\n",
        "        y = self.find(y)\n",
        "        if x == y:\n",
        "            return\n",
        "        if self.parents[x] > self.parents[y]:\n",
        "            x, y = y, x\n",
        "        self.parents[x] += self.parents[y]\n",
        "        self.parents[y] = x\n",
        " \n",
        "    # return the size of the group of x\n",
        "    def size(self, x):\n",
        "        return -self.parents[self.find(x)]\n",
        " \n",
        "    # return whether x and y in a same group\n",
        "    def same(self, x, y):\n",
        "        return self.find(x) == self.find(y)\n",
        " \n",
        "    # return [all roots]\n",
        "    # O(n)\n",
        "    def roots(self):\n",
        "        return [i for i, x in enumerate(self.parents) if x < 0]\n",
        " \n",
        "    # return the number of groups\n",
        "    # O(n)\n",
        "    def group_count(self):\n",
        "        return len(self.roots())\n",
        "\n",
        "\n",
        "n = int(input())\n",
        "a_list = list(map(int, input().split()))\n",
        "\n",
        "uf = UnionFind(200000)\n",
        "ans = 0\n",
        "\n",
        "for i in range(n // 2):\n",
        "  if not uf.same(a_list[i] - 1, a_list[n - 1 - i] - 1):\n",
        "    ans += 1\n",
        "    uf.union(a_list[i] - 1, a_list[n - 1 - i] - 1)\n",
        "\n",
        "print(ans)"
      ],
      "execution_count": 73,
      "outputs": [
        {
          "output_type": "stream",
          "text": [
            "1\n",
            "2\n",
            "0\n"
          ],
          "name": "stdout"
        }
      ]
    },
    {
      "cell_type": "markdown",
      "metadata": {
        "id": "FO5EFKeVf2qz"
      },
      "source": [
        "## E - Divide Both"
      ]
    },
    {
      "cell_type": "code",
      "metadata": {
        "id": "rZeLBhsuc93U"
      },
      "source": [
        "l, r = map(int, input().split())\n",
        "\n",
        "def gcd(x: int, y: int):\n",
        "    if x > y:\n",
        "        x, y = y, x\n",
        "    if x == 0:\n",
        "        return y\n",
        "    else:\n",
        "        return gcd(x, y % x)\n",
        "\n",
        "def is_prime(n):\n",
        "    if n == 1:\n",
        "        return True\n",
        "    for i in range(2, int(n**0.5) + 1):\n",
        "        if n % i == 0:\n",
        "            return False\n",
        "    return True\n",
        "\n",
        "\n",
        "def factorization(n):\n",
        "    arr = []\n",
        "    temp = n\n",
        "    for i in range(2, int(-(-n**0.5//1))+1):\n",
        "        if temp%i==0:\n",
        "            cnt=0\n",
        "            while temp%i==0:\n",
        "                cnt+=1\n",
        "                temp //= i\n",
        "            arr.append([i, cnt])\n",
        "\n",
        "    if temp!=1:\n",
        "        arr.append([temp, 1])\n",
        "\n",
        "    if arr==[]:\n",
        "        arr.append([n, 1])\n",
        "\n",
        "    return arr\n",
        "\n",
        "ans = 0\n",
        "\n",
        "for i in range(l, r + 1):\n",
        "  if is_prime(i):\n",
        "    continue\n",
        "  else:\n",
        "    for a, _ in factorization(i):\n",
        "      ans += \n"
      ],
      "execution_count": null,
      "outputs": []
    }
  ]
}