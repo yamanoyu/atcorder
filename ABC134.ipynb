{
  "nbformat": 4,
  "nbformat_minor": 0,
  "metadata": {
    "colab": {
      "name": "ABC134.ipynb",
      "provenance": [],
      "collapsed_sections": [],
      "authorship_tag": "ABX9TyNPOXX0IUvLlVMgGDHCP0wr",
      "include_colab_link": true
    },
    "kernelspec": {
      "name": "python3",
      "display_name": "Python 3"
    }
  },
  "cells": [
    {
      "cell_type": "markdown",
      "metadata": {
        "id": "view-in-github",
        "colab_type": "text"
      },
      "source": [
        "<a href=\"https://colab.research.google.com/github/yamanoyu/atcorder/blob/master/ABC134.ipynb\" target=\"_parent\"><img src=\"https://colab.research.google.com/assets/colab-badge.svg\" alt=\"Open In Colab\"/></a>"
      ]
    },
    {
      "cell_type": "markdown",
      "metadata": {
        "id": "6A9Uu0nBOMEZ"
      },
      "source": [
        "## A - Dodecagon"
      ]
    },
    {
      "cell_type": "code",
      "metadata": {
        "colab": {
          "base_uri": "https://localhost:8080/"
        },
        "id": "gYPNdvR-OCof",
        "outputId": "58cf6b3c-30e5-4f37-cc12-b81f12864766"
      },
      "source": [
        "r = int(input())\n",
        "ans = 3 * (r ** 2)\n",
        "print(ans)"
      ],
      "execution_count": 1,
      "outputs": [
        {
          "output_type": "stream",
          "text": [
            "4\n",
            "48\n"
          ],
          "name": "stdout"
        }
      ]
    },
    {
      "cell_type": "markdown",
      "metadata": {
        "id": "n6aQf02LOcYa"
      },
      "source": [
        "## B - Golden Apple"
      ]
    },
    {
      "cell_type": "code",
      "metadata": {
        "colab": {
          "base_uri": "https://localhost:8080/"
        },
        "id": "BFMXPjO_OMr4",
        "outputId": "a1b8d3c5-6c33-4dcb-fcf6-9889f0878221"
      },
      "source": [
        "n, d = map(int, input().split())\n",
        "ans = n // (d * 2 + 1) if n % (d * 2 + 1) == 0 else n // (d * 2 + 1) + 1\n",
        "print(ans)"
      ],
      "execution_count": 3,
      "outputs": [
        {
          "output_type": "stream",
          "text": [
            "20 4\n",
            "3\n"
          ],
          "name": "stdout"
        }
      ]
    },
    {
      "cell_type": "markdown",
      "metadata": {
        "id": "ol19ao-YQpAY"
      },
      "source": [
        "## C - Exception Handling"
      ]
    },
    {
      "cell_type": "code",
      "metadata": {
        "colab": {
          "base_uri": "https://localhost:8080/"
        },
        "id": "w9lEgAPEPhBj",
        "outputId": "272635c5-6fbd-43ae-dbda-34ceaf9af46d"
      },
      "source": [
        "n = int(input())\n",
        "a_list = [int(input()) for _ in range(n)]\n",
        "a_list_sort = sorted(a_list)\n",
        "a_max = a_list_sort[-1]\n",
        "\n",
        "for i in range(n):\n",
        "  ans = a_max if a_list[i] != a_max else a_list_sort[-2]\n",
        "  print(ans)"
      ],
      "execution_count": 4,
      "outputs": [
        {
          "output_type": "stream",
          "text": [
            "3\n",
            "1\n",
            "4\n",
            "3\n",
            "4\n",
            "3\n",
            "4\n"
          ],
          "name": "stdout"
        }
      ]
    },
    {
      "cell_type": "markdown",
      "metadata": {
        "id": "P4dx8UHWRxGE"
      },
      "source": [
        "## D - Preparing Boxes"
      ]
    },
    {
      "cell_type": "code",
      "metadata": {
        "colab": {
          "base_uri": "https://localhost:8080/"
        },
        "id": "kKlvu6buRq09",
        "outputId": "8289ba7e-6a86-4734-d0e2-a239c6ccaca8"
      },
      "source": [
        "# TLE\n",
        "n = int(input())\n",
        "a_list = list(map(int, input().split()))\n",
        "\n",
        "b_list = []\n",
        "\n",
        "for i, a in zip(range(n, 0, -1), a_list[::-1]):\n",
        "  if a == 0:\n",
        "    if not b_list:\n",
        "      continue\n",
        "    else:\n",
        "      _cnt = 0\n",
        "      for b in b_list:\n",
        "        if b % i == 0:\n",
        "          _cnt += 1\n",
        "      if _cnt % 2 == 0:\n",
        "        continue\n",
        "      else:\n",
        "        b_list.append(i)\n",
        "  else:\n",
        "    if not b_list:\n",
        "      b_list.append(i)\n",
        "    else:\n",
        "      _cnt = 0\n",
        "      for b in b_list:\n",
        "        if b % i == 0:\n",
        "          _cnt += 1\n",
        "      if _cnt % 2 == 1:\n",
        "        continue\n",
        "      else:\n",
        "        b_list.append(i)\n",
        "\n",
        "print(len(b_list))\n",
        "ans = ' '.join(list(map(str, b_list)))\n",
        "print(ans)"
      ],
      "execution_count": 23,
      "outputs": [
        {
          "output_type": "stream",
          "text": [
            "3\n",
            "1  0 1\n",
            "1\n",
            "3\n"
          ],
          "name": "stdout"
        }
      ]
    },
    {
      "cell_type": "code",
      "metadata": {
        "colab": {
          "base_uri": "https://localhost:8080/"
        },
        "id": "fys2l9oqcfiD",
        "outputId": "03414586-b387-4b9b-a359-9e0f28869ec0"
      },
      "source": [
        "n = int(input())\n",
        "a_list = [0] + list(map(int, input().split()))\n",
        "\n",
        "for i in range(n // 2, 0, -1):\n",
        "  a_list[i] = sum(a_list[i::i]) % 2\n",
        "\n",
        "print(sum(a_list))\n",
        "ans = ' '.join(list(map(str, [i for i, a in enumerate(a_list) if a])))\n",
        "print(ans)"
      ],
      "execution_count": 32,
      "outputs": [
        {
          "output_type": "stream",
          "text": [
            "7\n",
            "0 0 0 1 1 1 0\n",
            "4\n",
            "3 4 5 6\n"
          ],
          "name": "stdout"
        }
      ]
    },
    {
      "cell_type": "markdown",
      "metadata": {
        "id": "wkBV4Hztj4oq"
      },
      "source": [
        "## E - Sequence Decomposing"
      ]
    },
    {
      "cell_type": "code",
      "metadata": {
        "id": "DLm5Onbsj47G"
      },
      "source": [
        ""
      ],
      "execution_count": null,
      "outputs": []
    },
    {
      "cell_type": "markdown",
      "metadata": {
        "id": "18MismENj5Qj"
      },
      "source": [
        "## F - Permutation Oddness"
      ]
    },
    {
      "cell_type": "code",
      "metadata": {
        "id": "_-13t6xLj7BH"
      },
      "source": [
        ""
      ],
      "execution_count": null,
      "outputs": []
    }
  ]
}