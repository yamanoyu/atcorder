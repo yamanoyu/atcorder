{
  "nbformat": 4,
  "nbformat_minor": 0,
  "metadata": {
    "colab": {
      "name": "ABC179.ipynb",
      "provenance": [],
      "authorship_tag": "ABX9TyPj/fYBz9W3j7HSG1d5paGa",
      "include_colab_link": true
    },
    "kernelspec": {
      "name": "python3",
      "display_name": "Python 3"
    },
    "language_info": {
      "name": "python"
    }
  },
  "cells": [
    {
      "cell_type": "markdown",
      "metadata": {
        "id": "view-in-github",
        "colab_type": "text"
      },
      "source": [
        "<a href=\"https://colab.research.google.com/github/yamanoyu/atcorder/blob/master/ABC179.ipynb\" target=\"_parent\"><img src=\"https://colab.research.google.com/assets/colab-badge.svg\" alt=\"Open In Colab\"/></a>"
      ]
    },
    {
      "cell_type": "code",
      "metadata": {
        "id": "aqCU6eRUN-CL"
      },
      "source": [
        ""
      ],
      "execution_count": null,
      "outputs": []
    },
    {
      "cell_type": "markdown",
      "metadata": {
        "id": "jghzLrwCOC07"
      },
      "source": [
        "## E - Sequence Sum"
      ]
    },
    {
      "cell_type": "code",
      "metadata": {
        "colab": {
          "base_uri": "https://localhost:8080/"
        },
        "id": "YfP2Enn6ODOd",
        "outputId": "687f8d9d-a110-45c7-b71a-b280a7f7c2c8"
      },
      "source": [
        "n, x, m = map(int, input().split())\n",
        "\n",
        "mod_list = [x]\n",
        "loop_list = []\n",
        "\n",
        "for _ in range(n - 1):\n",
        "  next_num = (mod_list[-1] ** 2) % m\n",
        "  if next_num in mod_list:\n",
        "    loop_index = mod_list.index(next_num)\n",
        "    loop_list = mod_list[loop_index:]\n",
        "    mod_list = mod_list[:loop_index]\n",
        "    break\n",
        "  else:\n",
        "    mod_list.append(next_num)\n",
        "\n",
        "mod_list_len = len(mod_list)\n",
        "mod_list_sum = sum(mod_list)\n",
        "loop_list_len = len(loop_list)\n",
        "loop_list_sum = sum(loop_list)\n",
        "\n",
        "ans = mod_list_sum + ((n - mod_list_len) // loop_list_len) * loop_list_sum + sum(loop_list[:(n - mod_list_len) % loop_list_len]) if loop_list else mod_list_sum\n",
        "print(ans)"
      ],
      "execution_count": 1,
      "outputs": [
        {
          "output_type": "stream",
          "text": [
            "1 100 10\n",
            "100\n"
          ],
          "name": "stdout"
        }
      ]
    },
    {
      "cell_type": "code",
      "metadata": {
        "id": "GQcSetxIOFYu"
      },
      "source": [
        ""
      ],
      "execution_count": null,
      "outputs": []
    }
  ]
}