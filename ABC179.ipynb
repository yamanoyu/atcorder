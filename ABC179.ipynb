{
  "nbformat": 4,
  "nbformat_minor": 0,
  "metadata": {
    "colab": {
      "name": "ABC179.ipynb",
      "provenance": [],
      "collapsed_sections": [],
      "authorship_tag": "ABX9TyMxvHkKQAdMnnk6Ce1UaaXL",
      "include_colab_link": true
    },
    "kernelspec": {
      "name": "python3",
      "display_name": "Python 3"
    },
    "language_info": {
      "name": "python"
    }
  },
  "cells": [
    {
      "cell_type": "markdown",
      "metadata": {
        "id": "view-in-github",
        "colab_type": "text"
      },
      "source": [
        "<a href=\"https://colab.research.google.com/github/yamanoyu/atcorder/blob/master/ABC179.ipynb\" target=\"_parent\"><img src=\"https://colab.research.google.com/assets/colab-badge.svg\" alt=\"Open In Colab\"/></a>"
      ]
    },
    {
      "cell_type": "markdown",
      "metadata": {
        "id": "Z8gKUKhhnTEk"
      },
      "source": [
        "## A - Plural Form"
      ]
    },
    {
      "cell_type": "code",
      "metadata": {
        "colab": {
          "base_uri": "https://localhost:8080/"
        },
        "id": "aqCU6eRUN-CL",
        "outputId": "9f3db28e-b2d3-42dc-8477-24b0f00843f4"
      },
      "source": [
        "s = input()\n",
        "ans = s + 'es' if s[-1] == 's' else s + 's'\n",
        "print(ans)"
      ],
      "execution_count": null,
      "outputs": [
        {
          "output_type": "stream",
          "text": [
            "apple\n",
            "apples\n"
          ],
          "name": "stdout"
        }
      ]
    },
    {
      "cell_type": "markdown",
      "metadata": {
        "id": "wLa-oF-UnmP9"
      },
      "source": [
        "## B - Go to Jail"
      ]
    },
    {
      "cell_type": "code",
      "metadata": {
        "colab": {
          "base_uri": "https://localhost:8080/"
        },
        "id": "fKtRDIQ8nrsR",
        "outputId": "81661fd5-7e67-47b2-ffa8-10832d4305be"
      },
      "source": [
        "n = int(input())\n",
        "d_list = [list(map(int, input().split())) for _ in range(n)]\n",
        "ans = 'No'\n",
        "for i in range(n - 2):\n",
        "  flag = 1\n",
        "  for j in range(3):\n",
        "    if d_list[i+j][0] != d_list[i+j][1]:\n",
        "      flag = 0\n",
        "  if flag:\n",
        "    ans = 'Yes'\n",
        "    break\n",
        "print(ans)"
      ],
      "execution_count": null,
      "outputs": [
        {
          "output_type": "stream",
          "text": [
            "3\n",
            "1 1\n",
            "2 2\n",
            "3 3\n",
            "Yes\n"
          ],
          "name": "stdout"
        }
      ]
    },
    {
      "cell_type": "markdown",
      "metadata": {
        "id": "6VSGf6DjFAz3"
      },
      "source": [
        "## C - A x B + C"
      ]
    },
    {
      "cell_type": "code",
      "metadata": {
        "colab": {
          "base_uri": "https://localhost:8080/"
        },
        "id": "9tvE7DS6FCKo",
        "outputId": "6f8cab33-41a6-4aa7-d51e-53ccc6eb1921"
      },
      "source": [
        "n = int(input())\n",
        "i = 1\n",
        "ans = 0\n",
        "while i ** 2 < n:\n",
        "  ans += (((n - 1) // i) * 2 - i + 1) - i\n",
        "  i += 1\n",
        "print(ans)"
      ],
      "execution_count": null,
      "outputs": [
        {
          "output_type": "stream",
          "text": [
            "1000000\n",
            "13969985\n"
          ],
          "name": "stdout"
        }
      ]
    },
    {
      "cell_type": "markdown",
      "metadata": {
        "id": "calaCIxVG2zv"
      },
      "source": [
        "## D - Leaping Tak"
      ]
    },
    {
      "cell_type": "code",
      "metadata": {
        "colab": {
          "base_uri": "https://localhost:8080/"
        },
        "id": "iBH1yFbeG327",
        "outputId": "cc7df815-9d75-4edb-c4f8-266eb61f647d"
      },
      "source": [
        "# TLE\n",
        "n, k = map(int, input().split())\n",
        "lr_lsit = [list(map(int, input().split())) for _ in range(k)]\n",
        "\n",
        "# s_list = []\n",
        "\n",
        "dp = [1] + [0] * (n - 1)\n",
        "MOD = 998244353\n",
        "\n",
        "# for _ in range(n):\n",
        "#   l, r = map(int, input().split())\n",
        "#   s_list += list(range(l, r + 1))\n",
        "\n",
        "\n",
        "for i in range(n):\n",
        "  for l, r in lr_lsit:\n",
        "    for j in range(l, r + 1):\n",
        "      if 0 <= i + j < n:\n",
        "        dp[i + j] += dp[i]\n",
        "\n",
        "ans = dp[n - 1]\n",
        "print(ans % MOD)"
      ],
      "execution_count": null,
      "outputs": [
        {
          "output_type": "stream",
          "text": [
            "5 2\n",
            "1 1\n",
            "3 4\n",
            "3\n"
          ],
          "name": "stdout"
        }
      ]
    },
    {
      "cell_type": "code",
      "metadata": {
        "colab": {
          "base_uri": "https://localhost:8080/"
        },
        "id": "4F7UYL1zU1XA",
        "outputId": "9fe80c54-1d39-403c-a38b-8c7ba9c9c078"
      },
      "source": [
        "n, k = map(int, input().split())\n",
        "lr_lsit = [list(map(int, input().split())) for _ in range(k)]\n",
        "\n",
        "dp = [1] + [0] * (n - 1)\n",
        "dp_cumsum = [0, 1] + [0] * (n - 1)\n",
        "MOD = 998244353\n",
        "\n",
        "for i in range(1, n):\n",
        "  for l, r in lr_lsit:\n",
        "    dp[i] += (dp_cumsum[max(0, i - l + 1)] - dp_cumsum[max(0, i - r)]) % MOD\n",
        "  dp_cumsum[i + 1] = dp_cumsum[i] + dp[i]\n",
        "\n",
        "ans = dp[n - 1]\n",
        "print(ans % MOD)"
      ],
      "execution_count": null,
      "outputs": [
        {
          "output_type": "stream",
          "text": [
            "5 2\n",
            "1 1\n",
            "3 4\n",
            "4\n"
          ],
          "name": "stdout"
        }
      ]
    },
    {
      "cell_type": "markdown",
      "metadata": {
        "id": "jghzLrwCOC07"
      },
      "source": [
        "## E - Sequence Sum"
      ]
    },
    {
      "cell_type": "code",
      "metadata": {
        "colab": {
          "base_uri": "https://localhost:8080/"
        },
        "id": "YfP2Enn6ODOd",
        "outputId": "687f8d9d-a110-45c7-b71a-b280a7f7c2c8"
      },
      "source": [
        "n, x, m = map(int, input().split())\n",
        "\n",
        "mod_list = [x]\n",
        "loop_list = []\n",
        "\n",
        "for _ in range(n - 1):\n",
        "  next_num = (mod_list[-1] ** 2) % m\n",
        "  if next_num in mod_list:\n",
        "    loop_index = mod_list.index(next_num)\n",
        "    loop_list = mod_list[loop_index:]\n",
        "    mod_list = mod_list[:loop_index]\n",
        "    break\n",
        "  else:\n",
        "    mod_list.append(next_num)\n",
        "\n",
        "mod_list_len = len(mod_list)\n",
        "mod_list_sum = sum(mod_list)\n",
        "loop_list_len = len(loop_list)\n",
        "loop_list_sum = sum(loop_list)\n",
        "\n",
        "ans = mod_list_sum + ((n - mod_list_len) // loop_list_len) * loop_list_sum + sum(loop_list[:(n - mod_list_len) % loop_list_len]) if loop_list else mod_list_sum\n",
        "print(ans)"
      ],
      "execution_count": null,
      "outputs": [
        {
          "output_type": "stream",
          "text": [
            "1 100 10\n",
            "100\n"
          ],
          "name": "stdout"
        }
      ]
    },
    {
      "cell_type": "markdown",
      "metadata": {
        "id": "J-2omxkaDLr5"
      },
      "source": [
        "## F - Simplified Reversi"
      ]
    },
    {
      "cell_type": "code",
      "metadata": {
        "id": "GQcSetxIOFYu",
        "colab": {
          "base_uri": "https://localhost:8080/",
          "height": 532
        },
        "outputId": "19780938-2211-49e1-dad4-805bb53ea332"
      },
      "source": [
        "n, q = map(int, input().split())\n",
        "\n",
        "ans = (n - 2) ** 2\n",
        "bottom_list = [n - 1] * (n - 2)\n",
        "right_list = [n - 1] * (n - 2)\n",
        "bottom = n - 1\n",
        "right = n - 1\n",
        "\n",
        "for _ in range(q):\n",
        "  query, x = map(int, input().split())\n",
        "  if query == 1:\n",
        "    ans -= bottom_list[x - 2] - 1\n",
        "    if x - 1 <= right:\n",
        "      for i in range(x - 1):\n",
        "        right_list[i] = x - 1\n",
        "      right = x - 1\n",
        "  else:\n",
        "    ans -= right_list[x - 2] - 1\n",
        "    if x - 1 <= bottom:\n",
        "      for i in range(x - 1):\n",
        "        bottom_list[i] = x - 1\n",
        "      bottom = x - 1\n",
        "\n",
        "print(ans)"
      ],
      "execution_count": 1,
      "outputs": [
        {
          "output_type": "error",
          "ename": "KeyboardInterrupt",
          "evalue": "ignored",
          "traceback": [
            "\u001b[0;31m---------------------------------------------------------------------------\u001b[0m",
            "\u001b[0;31mKeyboardInterrupt\u001b[0m                         Traceback (most recent call last)",
            "\u001b[0;32m/usr/local/lib/python3.7/dist-packages/ipykernel/kernelbase.py\u001b[0m in \u001b[0;36m_input_request\u001b[0;34m(self, prompt, ident, parent, password)\u001b[0m\n\u001b[1;32m    728\u001b[0m             \u001b[0;32mtry\u001b[0m\u001b[0;34m:\u001b[0m\u001b[0;34m\u001b[0m\u001b[0;34m\u001b[0m\u001b[0m\n\u001b[0;32m--> 729\u001b[0;31m                 \u001b[0mident\u001b[0m\u001b[0;34m,\u001b[0m \u001b[0mreply\u001b[0m \u001b[0;34m=\u001b[0m \u001b[0mself\u001b[0m\u001b[0;34m.\u001b[0m\u001b[0msession\u001b[0m\u001b[0;34m.\u001b[0m\u001b[0mrecv\u001b[0m\u001b[0;34m(\u001b[0m\u001b[0mself\u001b[0m\u001b[0;34m.\u001b[0m\u001b[0mstdin_socket\u001b[0m\u001b[0;34m,\u001b[0m \u001b[0;36m0\u001b[0m\u001b[0;34m)\u001b[0m\u001b[0;34m\u001b[0m\u001b[0;34m\u001b[0m\u001b[0m\n\u001b[0m\u001b[1;32m    730\u001b[0m             \u001b[0;32mexcept\u001b[0m \u001b[0mException\u001b[0m\u001b[0;34m:\u001b[0m\u001b[0;34m\u001b[0m\u001b[0;34m\u001b[0m\u001b[0m\n",
            "\u001b[0;32m/usr/local/lib/python3.7/dist-packages/jupyter_client/session.py\u001b[0m in \u001b[0;36mrecv\u001b[0;34m(self, socket, mode, content, copy)\u001b[0m\n\u001b[1;32m    802\u001b[0m         \u001b[0;32mtry\u001b[0m\u001b[0;34m:\u001b[0m\u001b[0;34m\u001b[0m\u001b[0;34m\u001b[0m\u001b[0m\n\u001b[0;32m--> 803\u001b[0;31m             \u001b[0mmsg_list\u001b[0m \u001b[0;34m=\u001b[0m \u001b[0msocket\u001b[0m\u001b[0;34m.\u001b[0m\u001b[0mrecv_multipart\u001b[0m\u001b[0;34m(\u001b[0m\u001b[0mmode\u001b[0m\u001b[0;34m,\u001b[0m \u001b[0mcopy\u001b[0m\u001b[0;34m=\u001b[0m\u001b[0mcopy\u001b[0m\u001b[0;34m)\u001b[0m\u001b[0;34m\u001b[0m\u001b[0;34m\u001b[0m\u001b[0m\n\u001b[0m\u001b[1;32m    804\u001b[0m         \u001b[0;32mexcept\u001b[0m \u001b[0mzmq\u001b[0m\u001b[0;34m.\u001b[0m\u001b[0mZMQError\u001b[0m \u001b[0;32mas\u001b[0m \u001b[0me\u001b[0m\u001b[0;34m:\u001b[0m\u001b[0;34m\u001b[0m\u001b[0;34m\u001b[0m\u001b[0m\n",
            "\u001b[0;32m/usr/local/lib/python3.7/dist-packages/zmq/sugar/socket.py\u001b[0m in \u001b[0;36mrecv_multipart\u001b[0;34m(self, flags, copy, track)\u001b[0m\n\u001b[1;32m    582\u001b[0m         \"\"\"\n\u001b[0;32m--> 583\u001b[0;31m         \u001b[0mparts\u001b[0m \u001b[0;34m=\u001b[0m \u001b[0;34m[\u001b[0m\u001b[0mself\u001b[0m\u001b[0;34m.\u001b[0m\u001b[0mrecv\u001b[0m\u001b[0;34m(\u001b[0m\u001b[0mflags\u001b[0m\u001b[0;34m,\u001b[0m \u001b[0mcopy\u001b[0m\u001b[0;34m=\u001b[0m\u001b[0mcopy\u001b[0m\u001b[0;34m,\u001b[0m \u001b[0mtrack\u001b[0m\u001b[0;34m=\u001b[0m\u001b[0mtrack\u001b[0m\u001b[0;34m)\u001b[0m\u001b[0;34m]\u001b[0m\u001b[0;34m\u001b[0m\u001b[0;34m\u001b[0m\u001b[0m\n\u001b[0m\u001b[1;32m    584\u001b[0m         \u001b[0;31m# have first part already, only loop while more to receive\u001b[0m\u001b[0;34m\u001b[0m\u001b[0;34m\u001b[0m\u001b[0;34m\u001b[0m\u001b[0m\n",
            "\u001b[0;32mzmq/backend/cython/socket.pyx\u001b[0m in \u001b[0;36mzmq.backend.cython.socket.Socket.recv\u001b[0;34m()\u001b[0m\n",
            "\u001b[0;32mzmq/backend/cython/socket.pyx\u001b[0m in \u001b[0;36mzmq.backend.cython.socket.Socket.recv\u001b[0;34m()\u001b[0m\n",
            "\u001b[0;32mzmq/backend/cython/socket.pyx\u001b[0m in \u001b[0;36mzmq.backend.cython.socket._recv_copy\u001b[0;34m()\u001b[0m\n",
            "\u001b[0;32m/usr/local/lib/python3.7/dist-packages/zmq/backend/cython/checkrc.pxd\u001b[0m in \u001b[0;36mzmq.backend.cython.checkrc._check_rc\u001b[0;34m()\u001b[0m\n",
            "\u001b[0;31mKeyboardInterrupt\u001b[0m: ",
            "\nDuring handling of the above exception, another exception occurred:\n",
            "\u001b[0;31mKeyboardInterrupt\u001b[0m                         Traceback (most recent call last)",
            "\u001b[0;32m<ipython-input-1-a2eddaf91d0d>\u001b[0m in \u001b[0;36m<module>\u001b[0;34m()\u001b[0m\n\u001b[0;32m----> 1\u001b[0;31m \u001b[0mn\u001b[0m\u001b[0;34m,\u001b[0m \u001b[0mq\u001b[0m \u001b[0;34m=\u001b[0m \u001b[0mmap\u001b[0m\u001b[0;34m(\u001b[0m\u001b[0mint\u001b[0m\u001b[0;34m,\u001b[0m \u001b[0minput\u001b[0m\u001b[0;34m(\u001b[0m\u001b[0;34m)\u001b[0m\u001b[0;34m.\u001b[0m\u001b[0msplit\u001b[0m\u001b[0;34m(\u001b[0m\u001b[0;34m)\u001b[0m\u001b[0;34m)\u001b[0m\u001b[0;34m\u001b[0m\u001b[0;34m\u001b[0m\u001b[0m\n\u001b[0m\u001b[1;32m      2\u001b[0m \u001b[0;34m\u001b[0m\u001b[0m\n\u001b[1;32m      3\u001b[0m \u001b[0mans\u001b[0m \u001b[0;34m=\u001b[0m \u001b[0;34m(\u001b[0m\u001b[0mn\u001b[0m \u001b[0;34m-\u001b[0m \u001b[0;36m2\u001b[0m\u001b[0;34m)\u001b[0m \u001b[0;34m**\u001b[0m \u001b[0;36m2\u001b[0m\u001b[0;34m\u001b[0m\u001b[0;34m\u001b[0m\u001b[0m\n\u001b[1;32m      4\u001b[0m \u001b[0mbottom\u001b[0m \u001b[0;34m=\u001b[0m \u001b[0mn\u001b[0m \u001b[0;34m-\u001b[0m \u001b[0;36m2\u001b[0m\u001b[0;34m\u001b[0m\u001b[0;34m\u001b[0m\u001b[0m\n\u001b[1;32m      5\u001b[0m \u001b[0mright\u001b[0m \u001b[0;34m=\u001b[0m \u001b[0mn\u001b[0m \u001b[0;34m-\u001b[0m \u001b[0;36m2\u001b[0m\u001b[0;34m\u001b[0m\u001b[0;34m\u001b[0m\u001b[0m\n",
            "\u001b[0;32m/usr/local/lib/python3.7/dist-packages/ipykernel/kernelbase.py\u001b[0m in \u001b[0;36mraw_input\u001b[0;34m(self, prompt)\u001b[0m\n\u001b[1;32m    702\u001b[0m             \u001b[0mself\u001b[0m\u001b[0;34m.\u001b[0m\u001b[0m_parent_ident\u001b[0m\u001b[0;34m,\u001b[0m\u001b[0;34m\u001b[0m\u001b[0;34m\u001b[0m\u001b[0m\n\u001b[1;32m    703\u001b[0m             \u001b[0mself\u001b[0m\u001b[0;34m.\u001b[0m\u001b[0m_parent_header\u001b[0m\u001b[0;34m,\u001b[0m\u001b[0;34m\u001b[0m\u001b[0;34m\u001b[0m\u001b[0m\n\u001b[0;32m--> 704\u001b[0;31m             \u001b[0mpassword\u001b[0m\u001b[0;34m=\u001b[0m\u001b[0;32mFalse\u001b[0m\u001b[0;34m,\u001b[0m\u001b[0;34m\u001b[0m\u001b[0;34m\u001b[0m\u001b[0m\n\u001b[0m\u001b[1;32m    705\u001b[0m         )\n\u001b[1;32m    706\u001b[0m \u001b[0;34m\u001b[0m\u001b[0m\n",
            "\u001b[0;32m/usr/local/lib/python3.7/dist-packages/ipykernel/kernelbase.py\u001b[0m in \u001b[0;36m_input_request\u001b[0;34m(self, prompt, ident, parent, password)\u001b[0m\n\u001b[1;32m    732\u001b[0m             \u001b[0;32mexcept\u001b[0m \u001b[0mKeyboardInterrupt\u001b[0m\u001b[0;34m:\u001b[0m\u001b[0;34m\u001b[0m\u001b[0;34m\u001b[0m\u001b[0m\n\u001b[1;32m    733\u001b[0m                 \u001b[0;31m# re-raise KeyboardInterrupt, to truncate traceback\u001b[0m\u001b[0;34m\u001b[0m\u001b[0;34m\u001b[0m\u001b[0;34m\u001b[0m\u001b[0m\n\u001b[0;32m--> 734\u001b[0;31m                 \u001b[0;32mraise\u001b[0m \u001b[0mKeyboardInterrupt\u001b[0m\u001b[0;34m\u001b[0m\u001b[0;34m\u001b[0m\u001b[0m\n\u001b[0m\u001b[1;32m    735\u001b[0m             \u001b[0;32melse\u001b[0m\u001b[0;34m:\u001b[0m\u001b[0;34m\u001b[0m\u001b[0;34m\u001b[0m\u001b[0m\n\u001b[1;32m    736\u001b[0m                 \u001b[0;32mbreak\u001b[0m\u001b[0;34m\u001b[0m\u001b[0;34m\u001b[0m\u001b[0m\n",
            "\u001b[0;31mKeyboardInterrupt\u001b[0m: "
          ]
        }
      ]
    },
    {
      "cell_type": "code",
      "metadata": {
        "id": "-mbBqFNgZqUU"
      },
      "source": [
        "N, Q = map(int, input().split())\n",
        "Queries = [tuple(map(int, input().split())) for _ in range(Q)]\n",
        "\n",
        "lefts = [N - 1] * (N - 1)\n",
        "tops = [N - 1] * (N - 1)\n",
        "left, top = N - 1, N - 1\n",
        "\n",
        "black = (N - 2) ** 2\n",
        "for t, x in Queries:\n",
        "    x -= 1  # 0-indexed\n",
        "    if t == 1:\n",
        "\n",
        "        if x < left:\n",
        "            for i in range(x, left):\n",
        "                tops[i] = top\n",
        "            left = x\n",
        "        black -= tops[x] - 1\n",
        "    else:\n",
        "\n",
        "        if x < top:\n",
        "            for i in range(x, top):\n",
        "                lefts[i] = left\n",
        "            top = x\n",
        "        black -= lefts[x] - 1\n",
        "print(black)\n"
      ],
      "execution_count": null,
      "outputs": []
    }
  ]
}