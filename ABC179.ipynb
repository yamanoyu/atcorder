{
  "nbformat": 4,
  "nbformat_minor": 0,
  "metadata": {
    "colab": {
      "name": "ABC179.ipynb",
      "provenance": [],
      "collapsed_sections": [],
      "authorship_tag": "ABX9TyMiK+hnktz8oBYP/RRlecaz",
      "include_colab_link": true
    },
    "kernelspec": {
      "name": "python3",
      "display_name": "Python 3"
    },
    "language_info": {
      "name": "python"
    }
  },
  "cells": [
    {
      "cell_type": "markdown",
      "metadata": {
        "id": "view-in-github",
        "colab_type": "text"
      },
      "source": [
        "<a href=\"https://colab.research.google.com/github/yamanoyu/atcorder/blob/master/ABC179.ipynb\" target=\"_parent\"><img src=\"https://colab.research.google.com/assets/colab-badge.svg\" alt=\"Open In Colab\"/></a>"
      ]
    },
    {
      "cell_type": "markdown",
      "metadata": {
        "id": "Z8gKUKhhnTEk"
      },
      "source": [
        "## A - Plural Form"
      ]
    },
    {
      "cell_type": "code",
      "metadata": {
        "colab": {
          "base_uri": "https://localhost:8080/"
        },
        "id": "aqCU6eRUN-CL",
        "outputId": "9f3db28e-b2d3-42dc-8477-24b0f00843f4"
      },
      "source": [
        "s = input()\n",
        "ans = s + 'es' if s[-1] == 's' else s + 's'\n",
        "print(ans)"
      ],
      "execution_count": 1,
      "outputs": [
        {
          "output_type": "stream",
          "text": [
            "apple\n",
            "apples\n"
          ],
          "name": "stdout"
        }
      ]
    },
    {
      "cell_type": "markdown",
      "metadata": {
        "id": "wLa-oF-UnmP9"
      },
      "source": [
        "## B - Go to Jail"
      ]
    },
    {
      "cell_type": "code",
      "metadata": {
        "colab": {
          "base_uri": "https://localhost:8080/"
        },
        "id": "fKtRDIQ8nrsR",
        "outputId": "81661fd5-7e67-47b2-ffa8-10832d4305be"
      },
      "source": [
        "n = int(input())\n",
        "d_list = [list(map(int, input().split())) for _ in range(n)]\n",
        "ans = 'No'\n",
        "for i in range(n - 2):\n",
        "  flag = 1\n",
        "  for j in range(3):\n",
        "    if d_list[i+j][0] != d_list[i+j][1]:\n",
        "      flag = 0\n",
        "  if flag:\n",
        "    ans = 'Yes'\n",
        "    break\n",
        "print(ans)"
      ],
      "execution_count": 5,
      "outputs": [
        {
          "output_type": "stream",
          "text": [
            "3\n",
            "1 1\n",
            "2 2\n",
            "3 3\n",
            "Yes\n"
          ],
          "name": "stdout"
        }
      ]
    },
    {
      "cell_type": "markdown",
      "metadata": {
        "id": "6VSGf6DjFAz3"
      },
      "source": [
        "## C - A x B + C"
      ]
    },
    {
      "cell_type": "code",
      "metadata": {
        "colab": {
          "base_uri": "https://localhost:8080/"
        },
        "id": "9tvE7DS6FCKo",
        "outputId": "6f8cab33-41a6-4aa7-d51e-53ccc6eb1921"
      },
      "source": [
        "n = int(input())\n",
        "i = 1\n",
        "ans = 0\n",
        "while i ** 2 < n:\n",
        "  ans += (((n - 1) // i) * 2 - i + 1) - i\n",
        "  i += 1\n",
        "print(ans)"
      ],
      "execution_count": 17,
      "outputs": [
        {
          "output_type": "stream",
          "text": [
            "1000000\n",
            "13969985\n"
          ],
          "name": "stdout"
        }
      ]
    },
    {
      "cell_type": "markdown",
      "metadata": {
        "id": "calaCIxVG2zv"
      },
      "source": [
        "## D - Leaping Tak"
      ]
    },
    {
      "cell_type": "code",
      "metadata": {
        "colab": {
          "base_uri": "https://localhost:8080/"
        },
        "id": "iBH1yFbeG327",
        "outputId": "cc7df815-9d75-4edb-c4f8-266eb61f647d"
      },
      "source": [
        "# TLE\n",
        "n, k = map(int, input().split())\n",
        "lr_lsit = [list(map(int, input().split())) for _ in range(k)]\n",
        "\n",
        "# s_list = []\n",
        "\n",
        "dp = [1] + [0] * (n - 1)\n",
        "MOD = 998244353\n",
        "\n",
        "# for _ in range(n):\n",
        "#   l, r = map(int, input().split())\n",
        "#   s_list += list(range(l, r + 1))\n",
        "\n",
        "\n",
        "for i in range(n):\n",
        "  for l, r in lr_lsit:\n",
        "    for j in range(l, r + 1):\n",
        "      if 0 <= i + j < n:\n",
        "        dp[i + j] += dp[i]\n",
        "\n",
        "ans = dp[n - 1]\n",
        "print(ans % MOD)"
      ],
      "execution_count": 20,
      "outputs": [
        {
          "output_type": "stream",
          "text": [
            "5 2\n",
            "1 1\n",
            "3 4\n",
            "3\n"
          ],
          "name": "stdout"
        }
      ]
    },
    {
      "cell_type": "code",
      "metadata": {
        "colab": {
          "base_uri": "https://localhost:8080/"
        },
        "id": "4F7UYL1zU1XA",
        "outputId": "9fe80c54-1d39-403c-a38b-8c7ba9c9c078"
      },
      "source": [
        "n, k = map(int, input().split())\n",
        "lr_lsit = [list(map(int, input().split())) for _ in range(k)]\n",
        "\n",
        "dp = [1] + [0] * (n - 1)\n",
        "dp_cumsum = [0, 1] + [0] * (n - 1)\n",
        "MOD = 998244353\n",
        "\n",
        "for i in range(1, n):\n",
        "  for l, r in lr_lsit:\n",
        "    dp[i] += (dp_cumsum[max(0, i - l + 1)] - dp_cumsum[max(0, i - r)]) % MOD\n",
        "  dp_cumsum[i + 1] = dp_cumsum[i] + dp[i]\n",
        "\n",
        "ans = dp[n - 1]\n",
        "print(ans % MOD)"
      ],
      "execution_count": 53,
      "outputs": [
        {
          "output_type": "stream",
          "text": [
            "5 2\n",
            "1 1\n",
            "3 4\n",
            "4\n"
          ],
          "name": "stdout"
        }
      ]
    },
    {
      "cell_type": "markdown",
      "metadata": {
        "id": "jghzLrwCOC07"
      },
      "source": [
        "## E - Sequence Sum"
      ]
    },
    {
      "cell_type": "code",
      "metadata": {
        "colab": {
          "base_uri": "https://localhost:8080/"
        },
        "id": "YfP2Enn6ODOd",
        "outputId": "687f8d9d-a110-45c7-b71a-b280a7f7c2c8"
      },
      "source": [
        "n, x, m = map(int, input().split())\n",
        "\n",
        "mod_list = [x]\n",
        "loop_list = []\n",
        "\n",
        "for _ in range(n - 1):\n",
        "  next_num = (mod_list[-1] ** 2) % m\n",
        "  if next_num in mod_list:\n",
        "    loop_index = mod_list.index(next_num)\n",
        "    loop_list = mod_list[loop_index:]\n",
        "    mod_list = mod_list[:loop_index]\n",
        "    break\n",
        "  else:\n",
        "    mod_list.append(next_num)\n",
        "\n",
        "mod_list_len = len(mod_list)\n",
        "mod_list_sum = sum(mod_list)\n",
        "loop_list_len = len(loop_list)\n",
        "loop_list_sum = sum(loop_list)\n",
        "\n",
        "ans = mod_list_sum + ((n - mod_list_len) // loop_list_len) * loop_list_sum + sum(loop_list[:(n - mod_list_len) % loop_list_len]) if loop_list else mod_list_sum\n",
        "print(ans)"
      ],
      "execution_count": 1,
      "outputs": [
        {
          "output_type": "stream",
          "text": [
            "1 100 10\n",
            "100\n"
          ],
          "name": "stdout"
        }
      ]
    },
    {
      "cell_type": "code",
      "metadata": {
        "id": "GQcSetxIOFYu"
      },
      "source": [
        ""
      ],
      "execution_count": null,
      "outputs": []
    }
  ]
}