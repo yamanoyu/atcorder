{
  "nbformat": 4,
  "nbformat_minor": 0,
  "metadata": {
    "colab": {
      "name": "ABC085.ipynb",
      "provenance": [],
      "collapsed_sections": [],
      "authorship_tag": "ABX9TyOADL+UNxku3D+tH8AdUb0T",
      "include_colab_link": true
    },
    "kernelspec": {
      "name": "python3",
      "display_name": "Python 3"
    }
  },
  "cells": [
    {
      "cell_type": "markdown",
      "metadata": {
        "id": "view-in-github",
        "colab_type": "text"
      },
      "source": [
        "<a href=\"https://colab.research.google.com/github/yamanoyu/atcorder/blob/master/ABC085.ipynb\" target=\"_parent\"><img src=\"https://colab.research.google.com/assets/colab-badge.svg\" alt=\"Open In Colab\"/></a>"
      ]
    },
    {
      "cell_type": "markdown",
      "metadata": {
        "id": "2E6nPmKTR-Al"
      },
      "source": [
        "## A - Already 2018"
      ]
    },
    {
      "cell_type": "code",
      "metadata": {
        "colab": {
          "base_uri": "https://localhost:8080/"
        },
        "id": "a5fRHkpqR4Y_",
        "outputId": "987d91f1-4487-4be8-d754-b37728aa51e9"
      },
      "source": [
        "s = input()\n",
        "ans = s.replace('2017', '2018')\n",
        "print(ans)"
      ],
      "execution_count": 1,
      "outputs": [
        {
          "output_type": "stream",
          "text": [
            "2017/01/07\n",
            "2018/01/07\n"
          ],
          "name": "stdout"
        }
      ]
    },
    {
      "cell_type": "markdown",
      "metadata": {
        "id": "_zL6pzGkS8wR"
      },
      "source": [
        "## B - Kagami Mochi"
      ]
    },
    {
      "cell_type": "code",
      "metadata": {
        "colab": {
          "base_uri": "https://localhost:8080/"
        },
        "id": "T-w7dprUR-ly",
        "outputId": "ca1d8c8f-2990-4f94-a103-074f51b6a03e"
      },
      "source": [
        "n = int(input())\n",
        "d_list = [int(input()) for _ in range(n)]\n",
        "\n",
        "ans = len(list(set(d_list)))\n",
        "print(ans)"
      ],
      "execution_count": 2,
      "outputs": [
        {
          "output_type": "stream",
          "text": [
            "4\n",
            "10\n",
            "8\n",
            "8\n",
            "6\n",
            "3\n"
          ],
          "name": "stdout"
        }
      ]
    },
    {
      "cell_type": "markdown",
      "metadata": {
        "id": "gO5yTSroak97"
      },
      "source": [
        "## C - Otoshidama"
      ]
    },
    {
      "cell_type": "code",
      "metadata": {
        "colab": {
          "base_uri": "https://localhost:8080/"
        },
        "id": "3FEj4tR6aZeK",
        "outputId": "125abdc6-727d-4985-a927-6b04ad069661"
      },
      "source": [
        "n, y = map(int, input().split())\n",
        "ans_list = [-1, -1, -1]\n",
        "\n",
        "for i in range(min(y // 10000 + 1, n), -1, -1):\n",
        "  for j in range(min((y - i * 10000) // 5000 + 1, n - i), -1, -1):\n",
        "    if y == i * 10000 + j * 5000 + (n - i - j) * 1000:\n",
        "      ans_list = [i, j, (y - i * 10000 - j * 5000) // 1000]\n",
        "      print(' '.join(map(str, ans_list)))\n",
        "      exit()\n",
        "\n",
        "print(' '.join(map(str, ans_list)))"
      ],
      "execution_count": 2,
      "outputs": [
        {
          "output_type": "stream",
          "text": [
            "9 45000\n",
            "4 0 5\n",
            "0 9 0\n",
            "0 9 0\n"
          ],
          "name": "stdout"
        }
      ]
    },
    {
      "cell_type": "markdown",
      "metadata": {
        "id": "lRmlzWsnmV9T"
      },
      "source": [
        "## D - Katana Thrower"
      ]
    },
    {
      "cell_type": "code",
      "metadata": {
        "colab": {
          "base_uri": "https://localhost:8080/"
        },
        "id": "xZWaCbxZjLso",
        "outputId": "e9a7dd96-10ef-4555-e640-484878610725"
      },
      "source": [
        "# TLE\n",
        "import math\n",
        "\n",
        "n, h = map(int, input().split())\n",
        "a_list = []\n",
        "b_list = []\n",
        "\n",
        "for _ in range(n):\n",
        "  a, b = map(int, input().split())\n",
        "  a_list.append(a)\n",
        "  b_list.append(b)\n",
        "\n",
        "a_max = max(a_list)\n",
        "b_list = sorted([b for b in b_list if b  > a_max], reverse=True)\n",
        "\n",
        "damage = 0\n",
        "ans = 0\n",
        "\n",
        "while damage < h:\n",
        "  if b_list != [] and b_list[0] > a_max:\n",
        "    damage += b_list[0]\n",
        "    b_list.pop(0)\n",
        "    ans += 1\n",
        "  else:\n",
        "    ans += math.ceil((h - damage) / a_max)\n",
        "    break\n",
        "\n",
        "print(ans)"
      ],
      "execution_count": 8,
      "outputs": [
        {
          "output_type": "stream",
          "text": [
            "1 10\n",
            "3 5\n",
            "3\n"
          ],
          "name": "stdout"
        }
      ]
    },
    {
      "cell_type": "code",
      "metadata": {
        "colab": {
          "base_uri": "https://localhost:8080/"
        },
        "id": "y49l0OLL9jaN",
        "outputId": "89736e8e-3b61-4d05-9278-9a02c1abe3eb"
      },
      "source": [
        "import math\n",
        "\n",
        "n, h = map(int, input().split())\n",
        "a_list = []\n",
        "b_list = []\n",
        "\n",
        "for _ in range(n):\n",
        "  a, b = map(int, input().split())\n",
        "  a_list.append(a)\n",
        "  b_list.append(b)\n",
        "\n",
        "a_max = max(a_list)\n",
        "b_list = sorted([b for b in b_list if b  > a_max], reverse=True)\n",
        "\n",
        "ans = 0\n",
        "\n",
        "for b in b_list:\n",
        "  if h > 0:\n",
        "    h -= b\n",
        "    ans += 1\n",
        "  else:\n",
        "    break\n",
        "\n",
        "if h > 0: ans += math.ceil(h / a_max)\n",
        "\n",
        "print(ans)"
      ],
      "execution_count": 11,
      "outputs": [
        {
          "output_type": "stream",
          "text": [
            "1 10\n",
            "5 5\n",
            "2\n"
          ],
          "name": "stdout"
        }
      ]
    }
  ]
}