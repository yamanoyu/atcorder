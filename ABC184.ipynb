{
  "nbformat": 4,
  "nbformat_minor": 0,
  "metadata": {
    "colab": {
      "name": "ABC184.ipynb",
      "provenance": [],
      "collapsed_sections": [],
      "authorship_tag": "ABX9TyPczm95TcsMyvhyYgqDmjXa",
      "include_colab_link": true
    },
    "kernelspec": {
      "name": "python3",
      "display_name": "Python 3"
    }
  },
  "cells": [
    {
      "cell_type": "markdown",
      "metadata": {
        "id": "view-in-github",
        "colab_type": "text"
      },
      "source": [
        "<a href=\"https://colab.research.google.com/github/yamanoyu/atcorder/blob/master/ABC184.ipynb\" target=\"_parent\"><img src=\"https://colab.research.google.com/assets/colab-badge.svg\" alt=\"Open In Colab\"/></a>"
      ]
    },
    {
      "cell_type": "markdown",
      "metadata": {
        "id": "cs7xCA4i0stH"
      },
      "source": [
        "## A - Determinant"
      ]
    },
    {
      "cell_type": "code",
      "metadata": {
        "colab": {
          "base_uri": "https://localhost:8080/"
        },
        "id": "G2y1jdKR0k96",
        "outputId": "135f2c65-e1ea-4a89-b49e-e61c185e9b67"
      },
      "source": [
        "a, b = map(int, input().split())\n",
        "c, d = map(int, input().split())\n",
        "ans = a* d - c * b\n",
        "print(ans)"
      ],
      "execution_count": null,
      "outputs": [
        {
          "output_type": "stream",
          "text": [
            "1 2\n",
            "3 4\n",
            "-2\n"
          ],
          "name": "stdout"
        }
      ]
    },
    {
      "cell_type": "markdown",
      "metadata": {
        "id": "hdyhJ24J0Ykq"
      },
      "source": [
        "## B - Quizzes"
      ]
    },
    {
      "cell_type": "code",
      "metadata": {
        "colab": {
          "base_uri": "https://localhost:8080/"
        },
        "id": "6viinHo209JS",
        "outputId": "ccd67e03-18e3-4c69-8486-bfe8e15db4d1"
      },
      "source": [
        "n, x = map(int, input().split())\n",
        "s = input()\n",
        "\n",
        "ans = x\n",
        "\n",
        "for i in range(n):\n",
        "  if s[i] == 'o':\n",
        "    ans += 1\n",
        "  else:\n",
        "    ans = max(0, ans -1)\n",
        "print(ans)"
      ],
      "execution_count": null,
      "outputs": [
        {
          "output_type": "stream",
          "text": [
            "20 199999\n",
            "oooooooooxoooooooooo\n",
            "200017\n"
          ],
          "name": "stdout"
        }
      ]
    },
    {
      "cell_type": "markdown",
      "metadata": {
        "id": "1OoEtEcV0cZv"
      },
      "source": [
        "## C - Super Ryuma"
      ]
    },
    {
      "cell_type": "code",
      "metadata": {
        "id": "lw5YRUsq1fI3"
      },
      "source": [
        "r1, c1 = map(int, input().split())\n",
        "r2, c2 = map(int, input().split())\n",
        "r, c = r2 - r1, c2 - c1\n",
        "\n",
        "if (r1, c1) == (r2, c2):\n",
        "  ans = 0\n",
        "elif r1 - c1 == r2 - c2:\n",
        "  ans = 1\n",
        "elif r1 + c1 == r2 + c2:\n",
        "  ans = 1\n",
        "elif abs(r) + abs(c) <= 3:\n",
        "  ans = 1\n",
        "elif (r + c) % 2 == 0:\n",
        "  ans = 2\n",
        "elif abs(r) + abs(c) <= 6:\n",
        "    ans = 2\n",
        "else:\n",
        "  if abs(r + c) <= 3 or abs(r - c) <= 3:\n",
        "    ans = 2\n",
        "  else:\n",
        "    ans = 3\n",
        "print(ans)"
      ],
      "execution_count": null,
      "outputs": []
    },
    {
      "cell_type": "markdown",
      "metadata": {
        "id": "18ytbfAL0iNF"
      },
      "source": [
        "## F - Programming Contest"
      ]
    },
    {
      "cell_type": "code",
      "metadata": {
        "id": "DaZTweagGI_F"
      },
      "source": [
        "import heapq\n",
        "\n",
        "n, t = map(int, input().split())\n",
        "a_list = list(map(int, input().split()))\n",
        "\n",
        "times_list = set([0])\n",
        "\n",
        "for a in a_list:\n",
        "  _times_list = times_list.copy()\n",
        "  for _times in _times_list:\n",
        "    new_time = _times + a\n",
        "    if new_time < t:\n",
        "      times_list.add(new_time)\n",
        "    elif new_time == t:\n",
        "      print(t)\n",
        "      exit()\n",
        "\n",
        "# ans = max(times_list)\n",
        "times_list = list(map(lambda x: x * (-1), times_list))\n",
        "heapq.heapify(times_list)\n",
        "ans = heapq.heappop(times_list) * (-1)\n",
        "\n",
        "print(ans)"
      ],
      "execution_count": null,
      "outputs": []
    },
    {
      "cell_type": "code",
      "metadata": {
        "id": "U7_kiU_yGxO4"
      },
      "source": [
        "from collections import defaultdict\n",
        "\n",
        "n, t = map(int, input().split())\n",
        "a_list = list(map(int, input().split()))\n",
        "\n",
        "wv_list = [[a, a] for a in a_list]\n",
        "\n",
        "value_per_weight = defaultdict(int)\n",
        "value_per_weight[0] = 0\n",
        "\n",
        "for wv in wv_list:\n",
        "  _value_per_weight = value_per_weight.copy()\n",
        "  for key, val in _value_per_weight.items():\n",
        "    if wv[0] + key <= t:\n",
        "      value_per_weight[wv[0] + key] = max(value_per_weight[wv[0] + key], wv[1] + val)\n",
        "\n",
        "ans = max(value_per_weight.values())\n",
        "print(ans)"
      ],
      "execution_count": null,
      "outputs": []
    }
  ]
}