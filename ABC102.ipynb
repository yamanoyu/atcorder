{
  "nbformat": 4,
  "nbformat_minor": 0,
  "metadata": {
    "colab": {
      "name": "ABC102.ipynb",
      "provenance": [],
      "collapsed_sections": [],
      "authorship_tag": "ABX9TyOC/WQcItzqxLkhOrWG+a1r",
      "include_colab_link": true
    },
    "kernelspec": {
      "name": "python3",
      "display_name": "Python 3"
    }
  },
  "cells": [
    {
      "cell_type": "markdown",
      "metadata": {
        "id": "view-in-github",
        "colab_type": "text"
      },
      "source": [
        "<a href=\"https://colab.research.google.com/github/yamanoyu/atcorder/blob/master/ABC102.ipynb\" target=\"_parent\"><img src=\"https://colab.research.google.com/assets/colab-badge.svg\" alt=\"Open In Colab\"/></a>"
      ]
    },
    {
      "cell_type": "markdown",
      "metadata": {
        "id": "QCx7KXW5SXjh"
      },
      "source": [
        "## A - Multiple of 2 and N"
      ]
    },
    {
      "cell_type": "code",
      "metadata": {
        "colab": {
          "base_uri": "https://localhost:8080/"
        },
        "id": "sTGPEtWuSWzg",
        "outputId": "77eb1124-5153-4ff0-fb10-2b35faaf88b5"
      },
      "source": [
        "n = int(input())\n",
        "ans = n * 2 if n % 2 != 0 else n\n",
        "print(ans)"
      ],
      "execution_count": 1,
      "outputs": [
        {
          "output_type": "stream",
          "text": [
            "3\n",
            "6\n"
          ],
          "name": "stdout"
        }
      ]
    },
    {
      "cell_type": "markdown",
      "metadata": {
        "id": "QxprzylfSlvR"
      },
      "source": [
        "## B - Maximum Difference"
      ]
    },
    {
      "cell_type": "code",
      "metadata": {
        "colab": {
          "base_uri": "https://localhost:8080/"
        },
        "id": "B4ZqCrpXSYK4",
        "outputId": "98638eac-25ca-4ac2-9c1d-64d14641c885"
      },
      "source": [
        "n = int(input())\n",
        "a_list = list(map(int, input().split()))\n",
        "ans = max(a_list) - min(a_list)\n",
        "print(ans)"
      ],
      "execution_count": 2,
      "outputs": [
        {
          "output_type": "stream",
          "text": [
            "4\n",
            "1 4 6 3\n",
            "5\n"
          ],
          "name": "stdout"
        }
      ]
    },
    {
      "cell_type": "markdown",
      "metadata": {
        "id": "6O20xk97S66B"
      },
      "source": [
        "## C - Linear Approximation"
      ]
    },
    {
      "cell_type": "code",
      "metadata": {
        "colab": {
          "base_uri": "https://localhost:8080/"
        },
        "id": "0spbK1EtSou9",
        "outputId": "8c858903-b64d-4cd9-e551-9f4433436ef3"
      },
      "source": [
        "n = int(input())\n",
        "a_list = list(map(int, input().split()))\n",
        "\n",
        "b_list = [a - i for i, a in enumerate(a_list)]\n",
        "b_list.sort()\n",
        "\n",
        "b = b_list[n // 2]\n",
        "\n",
        "ans = sum([abs(a - b - i) for i, a in enumerate(a_list)])\n",
        "print(ans)"
      ],
      "execution_count": 4,
      "outputs": [
        {
          "output_type": "stream",
          "text": [
            "5\n",
            "2 2 3 5 5\n",
            "2\n"
          ],
          "name": "stdout"
        }
      ]
    },
    {
      "cell_type": "markdown",
      "metadata": {
        "id": "WZnQab68W7GE"
      },
      "source": [
        "## D - Equal Cut"
      ]
    },
    {
      "cell_type": "code",
      "metadata": {
        "id": "WnP3cw7bWsD4"
      },
      "source": [
        ""
      ],
      "execution_count": null,
      "outputs": []
    }
  ]
}