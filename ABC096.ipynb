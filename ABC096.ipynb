{
  "nbformat": 4,
  "nbformat_minor": 0,
  "metadata": {
    "colab": {
      "name": "ABC096.ipynb",
      "provenance": [],
      "collapsed_sections": [],
      "authorship_tag": "ABX9TyNWrWs1r8LgPdRDmYlgl8WV",
      "include_colab_link": true
    },
    "kernelspec": {
      "name": "python3",
      "display_name": "Python 3"
    }
  },
  "cells": [
    {
      "cell_type": "markdown",
      "metadata": {
        "id": "view-in-github",
        "colab_type": "text"
      },
      "source": [
        "<a href=\"https://colab.research.google.com/github/yamanoyu/atcorder/blob/master/ABC096.ipynb\" target=\"_parent\"><img src=\"https://colab.research.google.com/assets/colab-badge.svg\" alt=\"Open In Colab\"/></a>"
      ]
    },
    {
      "cell_type": "markdown",
      "metadata": {
        "id": "1Z_R7nTHNWGp"
      },
      "source": [
        "## A - Day of Takahashi"
      ]
    },
    {
      "cell_type": "code",
      "metadata": {
        "colab": {
          "base_uri": "https://localhost:8080/"
        },
        "id": "ycDMvaR4NSs_",
        "outputId": "9fb45299-6eb8-4f54-817c-5b173924fa50"
      },
      "source": [
        "a, b = map(int, input().split())\n",
        "ans = a if a <= b else a - 1\n",
        "print(ans)"
      ],
      "execution_count": 1,
      "outputs": [
        {
          "output_type": "stream",
          "text": [
            "12  10\n",
            "11\n"
          ],
          "name": "stdout"
        }
      ]
    },
    {
      "cell_type": "markdown",
      "metadata": {
        "id": "YZcUYaCokzZI"
      },
      "source": [
        "## B - Maximum Sum"
      ]
    },
    {
      "cell_type": "code",
      "metadata": {
        "colab": {
          "base_uri": "https://localhost:8080/"
        },
        "id": "4Zy_caMANWbn",
        "outputId": "1560a377-bbed-4744-c5b6-e8a308322c87"
      },
      "source": [
        "abc_list = list(map(int, input().split()))\n",
        "k = int(input())\n",
        "ans = sum(abc_list) + max(abc_list) * (2 ** k - 1)\n",
        "print(ans)"
      ],
      "execution_count": 10,
      "outputs": [
        {
          "output_type": "stream",
          "text": [
            "3  3   4\n",
            "2\n",
            "22\n"
          ],
          "name": "stdout"
        }
      ]
    },
    {
      "cell_type": "markdown",
      "metadata": {
        "id": "w28_Y9j1mQ1z"
      },
      "source": [
        "## C - Grid Repainting 2"
      ]
    },
    {
      "cell_type": "code",
      "metadata": {
        "colab": {
          "base_uri": "https://localhost:8080/"
        },
        "id": "WPlnC5lElFqA",
        "outputId": "24cb42e1-3d41-457c-aa4a-06bf55e4236e"
      },
      "source": [
        "h, w= map(int, input().split())\n",
        "s_list = [list(input()) for _ in range(h)]\n",
        "\n",
        "ans = 'Yes'\n",
        "\n",
        "for i in range(h):\n",
        "  for j in range(w):\n",
        "    if i == 0:\n",
        "      if j == 0:\n",
        "        if s_list[i][j] == '#' and s_list[i + 1][j] == '.' and s_list[i][j + 1] == '.':\n",
        "          ans = 'No'\n",
        "      elif j == w - 1:\n",
        "        if s_list[i][j] == '#' and s_list[i + 1][j] == '.' and s_list[i][j - 1] == '.':\n",
        "          ans = 'No'\n",
        "      else:\n",
        "        if s_list[i][j] == '#' and s_list[i + 1][j] == '.' and s_list[i][j - 1] == '.' and s_list[i][j + 1] == '.':\n",
        "          ans = 'No'\n",
        "    if i == h -  1:\n",
        "      if j == 0:\n",
        "        if s_list[i][j] == '#' and s_list[i - 1][j] == '.' and s_list[i][j + 1] == '.':\n",
        "          ans = 'No'\n",
        "      elif j == w - 1:\n",
        "        if s_list[i][j] == '#' and s_list[i - 1][j] == '.' and s_list[i][j - 1] == '.':\n",
        "          ans = 'No'\n",
        "      else:\n",
        "        if s_list[i][j] == '#' and s_list[i - 1][j] == '.' and s_list[i][j - 1] == '.' and s_list[i][j + 1] == '.':\n",
        "          ans = 'No'\n",
        "    else:\n",
        "      if j == 0:\n",
        "        if s_list[i][j] == '#' and s_list[i - 1][j] == '.' and s_list[i + 1][j] == '.' and s_list[i][j + 1] == '.':\n",
        "          ans = 'No'\n",
        "      elif j == w - 1:\n",
        "        if s_list[i][j] == '#' and s_list[i - 1][j] == '.' and s_list[i + 1][j] == '.' and s_list[i][j - 1] == '.':\n",
        "          ans = 'No'\n",
        "      else:\n",
        "        if s_list[i][j] == '#' and s_list[i - 1][j] == '.' and s_list[i + 1][j] == '.' and s_list[i][j - 1] == '.' and s_list[i][j + 1] == '.':\n",
        "          ans = 'No'      \n",
        "\n",
        "print(ans)"
      ],
      "execution_count": 9,
      "outputs": [
        {
          "output_type": "stream",
          "text": [
            "3 3\n",
            ".#.\n",
            "###\n",
            ".#.\n",
            "Yes\n"
          ],
          "name": "stdout"
        }
      ]
    },
    {
      "cell_type": "markdown",
      "metadata": {
        "id": "gajTX54Uy-BD"
      },
      "source": [
        "## D - Five, Five Everywhere"
      ]
    },
    {
      "cell_type": "code",
      "metadata": {
        "id": "ws6uggX2ylyF"
      },
      "source": [
        ""
      ],
      "execution_count": null,
      "outputs": []
    }
  ]
}