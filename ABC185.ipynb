{
  "nbformat": 4,
  "nbformat_minor": 0,
  "metadata": {
    "colab": {
      "name": "ABC185.ipynb",
      "provenance": [],
      "collapsed_sections": [],
      "authorship_tag": "ABX9TyPrYQeFwITr5qqyU+RvcRUT",
      "include_colab_link": true
    },
    "kernelspec": {
      "name": "python3",
      "display_name": "Python 3"
    }
  },
  "cells": [
    {
      "cell_type": "markdown",
      "metadata": {
        "id": "view-in-github",
        "colab_type": "text"
      },
      "source": [
        "<a href=\"https://colab.research.google.com/github/yamanoyu/atcorder/blob/master/ABC185.ipynb\" target=\"_parent\"><img src=\"https://colab.research.google.com/assets/colab-badge.svg\" alt=\"Open In Colab\"/></a>"
      ]
    },
    {
      "cell_type": "markdown",
      "metadata": {
        "id": "Q73nQB9FDTpX"
      },
      "source": [
        "## A - ABC Preparation"
      ]
    },
    {
      "cell_type": "code",
      "metadata": {
        "colab": {
          "base_uri": "https://localhost:8080/"
        },
        "id": "DrF02GvHDRZB",
        "outputId": "1790c71c-dbe3-41d6-cbb3-23e8e1b096ac"
      },
      "source": [
        "a_list = list(map(int, input().split()))\n",
        "ans = min(a_list)\n",
        "print(ans)"
      ],
      "execution_count": null,
      "outputs": [
        {
          "output_type": "stream",
          "text": [
            "1 2 3 4\n",
            "1\n"
          ],
          "name": "stdout"
        }
      ]
    },
    {
      "cell_type": "markdown",
      "metadata": {
        "id": "JRrRFBftD4_g"
      },
      "source": [
        "## B - Smartphone Addiction"
      ]
    },
    {
      "cell_type": "code",
      "metadata": {
        "colab": {
          "base_uri": "https://localhost:8080/"
        },
        "id": "q2RD5lpHDXUT",
        "outputId": "c81341ea-d238-4b78-9d40-8ee6e35a2a06"
      },
      "source": [
        "n, m, t = map(int, input().split())\n",
        "battery = n\n",
        "time = 0\n",
        "ans = 'Yes'\n",
        "for _ in range(m):\n",
        "  a, b = map(int, input().split())\n",
        "  battery -= a - time\n",
        "  time = b\n",
        "  if battery <= 0:\n",
        "    ans = 'No'\n",
        "    break\n",
        "  battery += (b - a)\n",
        "  battery = min(battery, n)\n",
        "  \n",
        "\n",
        "battery -= t - time\n",
        "if battery <= 0:\n",
        "  ans = 'No'\n",
        "\n",
        "print(ans)"
      ],
      "execution_count": null,
      "outputs": [
        {
          "output_type": "stream",
          "text": [
            "10 2 20\n",
            "9 11\n",
            "13 17\n",
            "Yes\n"
          ],
          "name": "stdout"
        }
      ]
    },
    {
      "cell_type": "markdown",
      "metadata": {
        "id": "Ypx_gYxLHbEa"
      },
      "source": [
        "## C - Duodecim Ferra"
      ]
    },
    {
      "cell_type": "code",
      "metadata": {
        "colab": {
          "base_uri": "https://localhost:8080/"
        },
        "id": "wKtA0EazFkt8",
        "outputId": "64d28244-a7d6-4624-ad38-158fbcd75936"
      },
      "source": [
        "# TLE\n",
        "import itertools\n",
        "\n",
        "l = int(input())\n",
        "\n",
        "ans = len(list(itertools.combinations(list(range(l - 1)), l - 12)))\n",
        "print(ans)"
      ],
      "execution_count": null,
      "outputs": [
        {
          "output_type": "stream",
          "text": [
            "13\n",
            "12\n"
          ],
          "name": "stdout"
        }
      ]
    },
    {
      "cell_type": "code",
      "metadata": {
        "colab": {
          "base_uri": "https://localhost:8080/"
        },
        "id": "NSnIreo_Hshj",
        "outputId": "2f502295-9e53-49c4-8331-b5ff36691cff"
      },
      "source": [
        "import math\n",
        "def combinations_count(n, r):\n",
        "  return math.factorial(n) // (math.factorial(n - r) * math.factorial(r))\n",
        "l = int(input())\n",
        "ans = combinations_count(l - 1, l - 12) \n",
        "print(ans)"
      ],
      "execution_count": null,
      "outputs": [
        {
          "output_type": "stream",
          "text": [
            "17\n",
            "4368\n"
          ],
          "name": "stdout"
        }
      ]
    },
    {
      "cell_type": "markdown",
      "metadata": {
        "id": "XAPXqQLWHsFE"
      },
      "source": [
        " ## D - Stamp"
      ]
    },
    {
      "cell_type": "code",
      "metadata": {
        "colab": {
          "base_uri": "https://localhost:8080/"
        },
        "id": "dneiJECdHyWT",
        "outputId": "96d9f27d-57da-405e-c9b7-64daae044ddd"
      },
      "source": [
        "import math\n",
        "\n",
        "n, m = map(int, input().split())\n",
        "a_list = list(map(int, input().split()))\n",
        "\n",
        "if n == m:\n",
        "  ans = 0\n",
        "elif m == 0:\n",
        "  ans = 1\n",
        "else:\n",
        "  a_list.sort()\n",
        "\n",
        "  k = 10 ** 18\n",
        "  for i in range(1, m):\n",
        "    diff = a_list[i] - a_list[i - 1] - 1\n",
        "    if diff != 0:\n",
        "      k = min(k, a_list[i] - a_list[i - 1] - 1)\n",
        "\n",
        "  if a_list[0] != 1:\n",
        "    k = min(k, a_list[0] - 1)\n",
        "  if a_list[-1] != n:\n",
        "    k = min(k, n - a_list[-1])\n",
        "\n",
        "  ans = 0\n",
        "\n",
        "  for i in range(1, m):\n",
        "    ans += math.ceil((a_list[i] - a_list[i - 1] - 1) / k)\n",
        "\n",
        "  if a_list[0] != 1:\n",
        "    ans += math.ceil((a_list[0] - 1) / k)\n",
        "  if a_list[-1] != n:\n",
        "    ans += math.ceil((n - a_list[-1]) / k)\n",
        "\n",
        "print(ans)"
      ],
      "execution_count": null,
      "outputs": [
        {
          "output_type": "stream",
          "text": [
            "5 4\n",
            "1 2 5 4\n",
            "1\n"
          ],
          "name": "stdout"
        }
      ]
    },
    {
      "cell_type": "markdown",
      "metadata": {
        "id": "SKHQ1FJsQG_S"
      },
      "source": [
        "## E - Sequence Matching"
      ]
    },
    {
      "cell_type": "code",
      "metadata": {
        "colab": {
          "base_uri": "https://localhost:8080/"
        },
        "id": "RZ_68XPme9Z1",
        "outputId": "48743cfd-2ecf-4836-a029-de3f4f9269aa"
      },
      "source": [
        "n, m = map(int, input().split())\n",
        "a_list = list(map(int, input().split()))\n",
        "b_list = list(map(int, input().split()))\n",
        "\n",
        "dp = [[10 ** 9] * (m + 1) for _ in range(n + 1)]\n",
        "\n",
        "for i in range(n + 1):\n",
        "  for j in range(m + 1):\n",
        "    if i == 0 and j == 0:\n",
        "      dp[i][j] = 0\n",
        "    elif i == 0:\n",
        "      dp[i][j] = j\n",
        "    elif j == 0:\n",
        "      dp[i][j] = i\n",
        "    else:\n",
        "      if a_list[i - 1] == b_list[j - 1]:\n",
        "        dp[i][j] = min(dp[i - 1][j] + 1, dp[i][j - 1] + 1, dp[i - 1][j - 1])\n",
        "      else:\n",
        "        dp[i][j] = min(dp[i - 1][j] + 1, dp[i][j - 1] + 1, dp[i - 1][j - 1] + 1)\n",
        "\n",
        "ans = dp[i][j]\n",
        "print(ans)"
      ],
      "execution_count": null,
      "outputs": [
        {
          "output_type": "stream",
          "text": [
            "4 3\n",
            "1 2 1 3\n",
            "1 3 1\n",
            "2\n"
          ],
          "name": "stdout"
        }
      ]
    },
    {
      "cell_type": "markdown",
      "metadata": {
        "id": "MHWU3jQrLkPX"
      },
      "source": [
        "## F - Range Xor Query"
      ]
    },
    {
      "cell_type": "code",
      "metadata": {
        "colab": {
          "base_uri": "https://localhost:8080/"
        },
        "id": "OMpuG0mkLl_J",
        "outputId": "c3b2f199-84b1-497b-e40a-e710dee9bc87"
      },
      "source": [
        "# TLE\n",
        "n, q = map(int, input().split())\n",
        "a_list = list(map(int, input().split()))\n",
        "a_xor_list = [a_list[0]]\n",
        "\n",
        "for i in range(1, n):\n",
        "  a_xor_list.append(a_xor_list[-1] ^ a_list[i])\n",
        "\n",
        "for _ in range(q):\n",
        "  t, x, y = list(map(int, input().split()))\n",
        "  if t == 1:\n",
        "    for j in range(x - 1, n):\n",
        "      a_xor_list[j] ^= y\n",
        "  else:\n",
        "    ans = a_xor_list[y - 1] ^ a_xor_list[x - 2] if x > 1 else a_xor_list[y - 1]\n",
        "    print(ans)"
      ],
      "execution_count": null,
      "outputs": [
        {
          "output_type": "stream",
          "text": [
            "1 1\n",
            "1\n",
            "2 1 1\n",
            "1\n"
          ],
          "name": "stdout"
        }
      ]
    },
    {
      "cell_type": "code",
      "metadata": {
        "colab": {
          "base_uri": "https://localhost:8080/"
        },
        "id": "i6TpVxSpZIby",
        "outputId": "aa4c25e2-d8b4-4253-8730-65888f07de79"
      },
      "source": [
        "n, q = map(int, input().split())\n",
        "a_list = list(map(int, input().split()))\n",
        "\n",
        "_node_num = len(bin(n - 1)[2:]) + 1\n",
        "segment_tree_list = [0] * (2 ** _node_num)\n",
        "\n",
        "node_num = 2 ** (_node_num - 1)\n",
        "\n",
        "for i in range(n):\n",
        "  segment_tree_list[node_num + i] = a_list[i]\n",
        "\n",
        "while node_num > 0:\n",
        "  node_num //= 2\n",
        "  for i in range(node_num):\n",
        "    segment_tree_list[node_num + i] = segment_tree_list[2 * (node_num + i)] ^ segment_tree_list[2 * (node_num + i) + 1]\n",
        "\n",
        "\n",
        "def solve_index(segment_tree_num, index):\n",
        "  ret = 1\n",
        "  ret_list = []\n",
        "  while segment_tree_num > 0:\n",
        "    if index == segment_tree_num:\n",
        "      ret_list.append(ret)\n",
        "      break\n",
        "    elif index > segment_tree_num // 2:\n",
        "      ret_list.append(ret * 2)\n",
        "      ret = ret * 2 + 1\n",
        "      segment_tree_num //= 2\n",
        "      index -= segment_tree_num\n",
        "    else:\n",
        "      ret = ret * 2\n",
        "      segment_tree_num //= 2\n",
        "  return ret_list\n",
        "\n",
        "for _ in range(q):\n",
        "  t, x, y = list(map(int, input().split()))\n",
        "  if t == 1:\n",
        "    _n = 2 ** (_node_num - 1) + x - 1\n",
        "    while _n > 0:\n",
        "      segment_tree_list[_n] ^= y\n",
        "      _n //= 2\n",
        "\n",
        "  else:\n",
        "    segment_tree_list_sum_y = 0\n",
        "    segment_tree_list_sum_x = 0\n",
        "    \n",
        "    for si in solve_index(2 ** (_node_num - 1), y):\n",
        "      segment_tree_list_sum_y ^= segment_tree_list[si]\n",
        "\n",
        "    for si in solve_index(2 ** (_node_num - 1), x - 1):\n",
        "      segment_tree_list_sum_x ^= segment_tree_list[si]\n",
        "\n",
        "    ans = segment_tree_list_sum_y ^ segment_tree_list_sum_x\n",
        "\n",
        "    print(ans)"
      ],
      "execution_count": 103,
      "outputs": [
        {
          "output_type": "stream",
          "text": [
            "3 4\n",
            "1 2 3\n",
            "2 1 3\n",
            "0\n",
            "2 2 3\n",
            "1\n",
            "1 2 3\n",
            "2 2 3\n",
            "2\n"
          ],
          "name": "stdout"
        }
      ]
    }
  ]
}