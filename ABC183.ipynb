{
  "nbformat": 4,
  "nbformat_minor": 0,
  "metadata": {
    "colab": {
      "name": "ABC183.ipynb",
      "provenance": [],
      "authorship_tag": "ABX9TyNNLV9YycFSTTeNgSlgMmjn",
      "include_colab_link": true
    },
    "kernelspec": {
      "name": "python3",
      "display_name": "Python 3"
    }
  },
  "cells": [
    {
      "cell_type": "markdown",
      "metadata": {
        "id": "view-in-github",
        "colab_type": "text"
      },
      "source": [
        "<a href=\"https://colab.research.google.com/github/yamanoyu/atcorder/blob/master/ABC183.ipynb\" target=\"_parent\"><img src=\"https://colab.research.google.com/assets/colab-badge.svg\" alt=\"Open In Colab\"/></a>"
      ]
    },
    {
      "cell_type": "markdown",
      "metadata": {
        "id": "Hwuwgq1txXY0"
      },
      "source": [
        "## A - ReLU"
      ]
    },
    {
      "cell_type": "code",
      "metadata": {
        "id": "Hcjws_IPwlf4",
        "outputId": "fe65e79f-221e-4bf8-ffc0-25d83e6bf5f7",
        "colab": {
          "base_uri": "https://localhost:8080/"
        }
      },
      "source": [
        "x = int(input())\n",
        "ans = x if x >= 0 else 0\n",
        "print(ans)"
      ],
      "execution_count": 3,
      "outputs": [
        {
          "output_type": "stream",
          "text": [
            "2\n",
            "2\n"
          ],
          "name": "stdout"
        }
      ]
    },
    {
      "cell_type": "markdown",
      "metadata": {
        "id": "eKt3Xm4TxX14"
      },
      "source": [
        "## B - Billiards"
      ]
    },
    {
      "cell_type": "code",
      "metadata": {
        "id": "d7lgvAAcx9d1",
        "outputId": "be367acf-d7b2-4ccf-abbd-11c24432e131",
        "colab": {
          "base_uri": "https://localhost:8080/"
        }
      },
      "source": [
        "sx, sy, gx, gy = map(int, input().split())\n",
        "ans = ((gx - sx) * sy) / (sy + gy) + sx\n",
        "print(ans)"
      ],
      "execution_count": 8,
      "outputs": [
        {
          "output_type": "stream",
          "text": [
            "7 2 1 1\n",
            "3.0\n"
          ],
          "name": "stdout"
        }
      ]
    },
    {
      "cell_type": "markdown",
      "metadata": {
        "id": "Ppw6AR5HxYAA"
      },
      "source": [
        "## C - Travel"
      ]
    },
    {
      "cell_type": "code",
      "metadata": {
        "id": "tNU4k5QkzMKM",
        "outputId": "830a6424-38c2-4ea1-ee5a-5ab73f4487f3",
        "colab": {
          "base_uri": "https://localhost:8080/",
          "height": 321
        }
      },
      "source": [
        "import itertools\n",
        "\n",
        "n, k = map(int, input().split())\n",
        "t_list = [list(map(int, input().split())) for _ in range(n)]\n",
        "\n",
        "ans = 0\n",
        "\n",
        "for permutation in list(itertools.permutations(list(range(2, n+1)))):\n",
        "  permutation = [1] + list(permutation) + [1]\n",
        "  cost = 0\n",
        "  for i in range(len(permutation) - 1):\n",
        "    cost += t_list[permutation[i] - 1][permutation[i + 1] - 1]\n",
        "\n",
        "  if cost == k: ans += 1\n",
        "\n",
        "print(ans)"
      ],
      "execution_count": 9,
      "outputs": [
        {
          "output_type": "stream",
          "text": [
            "4 330\n",
            "0 1 10 100\n",
            "1 0 20 200\n",
            "10 20 0 300\n",
            "100 200 300 0\n"
          ],
          "name": "stdout"
        },
        {
          "output_type": "error",
          "ename": "TypeError",
          "evalue": "ignored",
          "traceback": [
            "\u001b[0;31m---------------------------------------------------------------------------\u001b[0m",
            "\u001b[0;31mTypeError\u001b[0m                                 Traceback (most recent call last)",
            "\u001b[0;32m<ipython-input-9-3e5d1ebd4353>\u001b[0m in \u001b[0;36m<module>\u001b[0;34m()\u001b[0m\n\u001b[1;32m      7\u001b[0m \u001b[0;34m\u001b[0m\u001b[0m\n\u001b[1;32m      8\u001b[0m \u001b[0;32mfor\u001b[0m \u001b[0mpermutation\u001b[0m \u001b[0;32min\u001b[0m \u001b[0mlist\u001b[0m\u001b[0;34m(\u001b[0m\u001b[0mitertools\u001b[0m\u001b[0;34m.\u001b[0m\u001b[0mpermutations\u001b[0m\u001b[0;34m(\u001b[0m\u001b[0mlist\u001b[0m\u001b[0;34m(\u001b[0m\u001b[0mrange\u001b[0m\u001b[0;34m(\u001b[0m\u001b[0;36m2\u001b[0m\u001b[0;34m,\u001b[0m \u001b[0mn\u001b[0m\u001b[0;34m+\u001b[0m\u001b[0;36m1\u001b[0m\u001b[0;34m)\u001b[0m\u001b[0;34m)\u001b[0m\u001b[0;34m)\u001b[0m\u001b[0;34m)\u001b[0m\u001b[0;34m:\u001b[0m\u001b[0;34m\u001b[0m\u001b[0;34m\u001b[0m\u001b[0m\n\u001b[0;32m----> 9\u001b[0;31m   \u001b[0mpermutation\u001b[0m \u001b[0;34m=\u001b[0m \u001b[0;34m[\u001b[0m\u001b[0;36m1\u001b[0m\u001b[0;34m]\u001b[0m \u001b[0;34m+\u001b[0m \u001b[0mpermutation\u001b[0m \u001b[0;34m+\u001b[0m \u001b[0;34m[\u001b[0m\u001b[0;36m1\u001b[0m\u001b[0;34m]\u001b[0m\u001b[0;34m\u001b[0m\u001b[0;34m\u001b[0m\u001b[0m\n\u001b[0m\u001b[1;32m     10\u001b[0m   \u001b[0mcost\u001b[0m \u001b[0;34m=\u001b[0m \u001b[0;36m0\u001b[0m\u001b[0;34m\u001b[0m\u001b[0;34m\u001b[0m\u001b[0m\n\u001b[1;32m     11\u001b[0m   \u001b[0;32mfor\u001b[0m \u001b[0mi\u001b[0m \u001b[0;32min\u001b[0m \u001b[0mrange\u001b[0m\u001b[0;34m(\u001b[0m\u001b[0mlen\u001b[0m\u001b[0;34m(\u001b[0m\u001b[0mpermutation\u001b[0m\u001b[0;34m)\u001b[0m \u001b[0;34m-\u001b[0m \u001b[0;36m1\u001b[0m\u001b[0;34m)\u001b[0m\u001b[0;34m:\u001b[0m\u001b[0;34m\u001b[0m\u001b[0;34m\u001b[0m\u001b[0m\n",
            "\u001b[0;31mTypeError\u001b[0m: can only concatenate list (not \"tuple\") to list"
          ]
        }
      ]
    },
    {
      "cell_type": "markdown",
      "metadata": {
        "id": "VhsDCx_zxYKh"
      },
      "source": [
        "## D - Water Heater"
      ]
    },
    {
      "cell_type": "code",
      "metadata": {
        "id": "AfVbk4mPxcoo",
        "outputId": "cf8b35fb-35f4-4191-9527-eb0c649baa85",
        "colab": {
          "base_uri": "https://localhost:8080/"
        }
      },
      "source": [
        "n, w = map(int, input().split())\n",
        "max_time = 2 * (10 ** 5)\n",
        "water_list = [0] * (max_time + 1)\n",
        "hot_water = 0\n",
        "ans = 'Yes'\n",
        "\n",
        "for _ in range(n):\n",
        "  s, t, p = map(int, input().split())\n",
        "  water_list[s] += p\n",
        "  water_list[t] -= p\n",
        "\n",
        "for water in water_list:\n",
        "  hot_water += water\n",
        "  if hot_water > w:\n",
        "    ans = 'No'\n",
        "\n",
        "print(ans)"
      ],
      "execution_count": 12,
      "outputs": [
        {
          "output_type": "stream",
          "text": [
            "4 10\n",
            "1 3 5\n",
            "2 4 4\n",
            "3 10 6\n",
            "2 3 1\n",
            "No\n"
          ],
          "name": "stdout"
        }
      ]
    },
    {
      "cell_type": "markdown",
      "metadata": {
        "id": "OpFscJ5x7tMW"
      },
      "source": [
        "## E - Queen on Grid"
      ]
    },
    {
      "cell_type": "code",
      "metadata": {
        "id": "14Y6YVRi5lc8"
      },
      "source": [
        ""
      ],
      "execution_count": null,
      "outputs": []
    },
    {
      "cell_type": "markdown",
      "metadata": {
        "id": "1GjPu0Gx8wra"
      },
      "source": [
        "## F - Confluence"
      ]
    },
    {
      "cell_type": "code",
      "metadata": {
        "id": "PSyy32jV8z8J"
      },
      "source": [
        "n, q = map(int, input().split())\n",
        "c_list = list(input().split())\n",
        "group_list = [str(g + 1) for g in range(n)]\n",
        "groups_list = [[0] for _ in range(n)]\n",
        "\n",
        "for _ in range(q):\n",
        "  query, a, b = input().split()\n",
        "  if query == '1':\n",
        "    if int(a) > int(b): a, b = b, a\n",
        "    groups = ',' + ','.join(group_list) + ','\n",
        "    new_groups = groups.replace(',' + group_list[int(b)-1] + ',', ',' + group_list[int(a)-1] + ',')\n",
        "    group_list = new_groups.split(',')[1:-1]\n",
        "    groups_list[int(group_list[int(a)-1])] += groups_list[int(group_list[int(b)-1])]\n",
        "    groups_list[int(group_list[int(b)-1])] = []\n",
        "\n",
        "  else:\n",
        "    ans = groups_list[int(group_list[int(a) - 1]) - 1].count(b)\n",
        "\n",
        "    print(ans)"
      ],
      "execution_count": null,
      "outputs": []
    },
    {
      "cell_type": "code",
      "metadata": {
        "id": "39uvzQsVD60B",
        "outputId": "dd9d21e3-0dc2-406f-dbe1-8b6792bdfcde",
        "colab": {
          "base_uri": "https://localhost:8080/"
        }
      },
      "source": [
        "['2'] + ['3', '4']"
      ],
      "execution_count": 15,
      "outputs": [
        {
          "output_type": "execute_result",
          "data": {
            "text/plain": [
              "['2', '3', '4']"
            ]
          },
          "metadata": {
            "tags": []
          },
          "execution_count": 15
        }
      ]
    },
    {
      "cell_type": "code",
      "metadata": {
        "id": "C0z4v26wEBXX"
      },
      "source": [
        ""
      ],
      "execution_count": null,
      "outputs": []
    }
  ]
}