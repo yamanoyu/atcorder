{
  "nbformat": 4,
  "nbformat_minor": 0,
  "metadata": {
    "colab": {
      "name": "ABC161.ipynb",
      "provenance": [],
      "authorship_tag": "ABX9TyN6oxa5GxU/IgAgt/Rp2L/7",
      "include_colab_link": true
    },
    "kernelspec": {
      "name": "python3",
      "display_name": "Python 3"
    }
  },
  "cells": [
    {
      "cell_type": "markdown",
      "metadata": {
        "id": "view-in-github",
        "colab_type": "text"
      },
      "source": [
        "<a href=\"https://colab.research.google.com/github/yamanoyu/atcorder/blob/master/ABC161.ipynb\" target=\"_parent\"><img src=\"https://colab.research.google.com/assets/colab-badge.svg\" alt=\"Open In Colab\"/></a>"
      ]
    },
    {
      "cell_type": "markdown",
      "metadata": {
        "id": "zrprrFUq-B_n"
      },
      "source": [
        "## A - ABC Swap"
      ]
    },
    {
      "cell_type": "code",
      "metadata": {
        "colab": {
          "base_uri": "https://localhost:8080/"
        },
        "id": "iufdsn2R-ANh",
        "outputId": "f19ce9bf-c326-4d2c-c4c6-0b7baa944eb0"
      },
      "source": [
        "x, y, z = map(int, input().split())\n",
        "ans = str(z) + ' ' + str(x) + ' ' + str(y)\n",
        "print(ans)"
      ],
      "execution_count": 1,
      "outputs": [
        {
          "output_type": "stream",
          "text": [
            "1 2 3\n",
            "3 1 2\n"
          ],
          "name": "stdout"
        }
      ]
    },
    {
      "cell_type": "markdown",
      "metadata": {
        "id": "cDigHVufDHLV"
      },
      "source": [
        "## B - Popular Vote"
      ]
    },
    {
      "cell_type": "code",
      "metadata": {
        "colab": {
          "base_uri": "https://localhost:8080/"
        },
        "id": "iHjTdRn--FBB",
        "outputId": "6df7c4a7-2da5-49dc-9f76-6efb3f044fb3"
      },
      "source": [
        "n, m = map(int, input().split())\n",
        "a_list = list(map(int, input().split()))\n",
        "a_list.sort(reverse=True)\n",
        "ans = 'Yes' if a_list[m - 1] >= sum(a_list) / (4 * m) else 'No'\n",
        "print(ans)"
      ],
      "execution_count": 5,
      "outputs": [
        {
          "output_type": "stream",
          "text": [
            "4 1\n",
            "5 4 2 1\n",
            "Yes\n"
          ],
          "name": "stdout"
        }
      ]
    },
    {
      "cell_type": "markdown",
      "metadata": {
        "id": "iHVqZv0DT5Lo"
      },
      "source": [
        "## C - Replacing Integer"
      ]
    },
    {
      "cell_type": "code",
      "metadata": {
        "colab": {
          "base_uri": "https://localhost:8080/"
        },
        "id": "GivEdagoTNkl",
        "outputId": "7d242664-6e68-45d8-efb2-1e97055a40e7"
      },
      "source": [
        "n, k = map(int, input().split())\n",
        "\n",
        "if n > k:\n",
        "  n = n % k\n",
        "\n",
        "ans = min(k - n, n)\n",
        "print(ans)"
      ],
      "execution_count": 9,
      "outputs": [
        {
          "output_type": "stream",
          "text": [
            "2 6\n",
            "2\n"
          ],
          "name": "stdout"
        }
      ]
    },
    {
      "cell_type": "markdown",
      "metadata": {
        "id": "Kcg_M7rzaIlQ"
      },
      "source": [
        "## D - Lunlun Number"
      ]
    },
    {
      "cell_type": "code",
      "metadata": {
        "colab": {
          "base_uri": "https://localhost:8080/"
        },
        "id": "DLAcTm-OZ_-T",
        "outputId": "ce91680e-a6dc-4eef-f633-92d16524fb62"
      },
      "source": [
        "from queue import Queue\n",
        "\n",
        "\n",
        "k = int(input())\n",
        "q = Queue()\n",
        "for i in range(1, 10):\n",
        "  q.put(i)\n",
        "\n",
        "for _ in range(k):\n",
        "  ans = q.get()\n",
        "  if ans % 10 != 0: q.put(ans * 10 + ans % 10 - 1)\n",
        "  q.put(ans * 10 + ans % 10)\n",
        "  if ans % 10 != 9: q.put(ans * 10 + ans % 10 + 1)\n",
        "\n",
        "print(ans)"
      ],
      "execution_count": 21,
      "outputs": [
        {
          "output_type": "stream",
          "text": [
            "100000\n",
            "3234566667\n"
          ],
          "name": "stdout"
        }
      ]
    }
  ]
}