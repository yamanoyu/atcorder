{
  "nbformat": 4,
  "nbformat_minor": 0,
  "metadata": {
    "colab": {
      "name": "ABC095.ipynb",
      "provenance": [],
      "collapsed_sections": [],
      "authorship_tag": "ABX9TyMwEf0UE0UQZCnYPOkLN2YE",
      "include_colab_link": true
    },
    "kernelspec": {
      "name": "python3",
      "display_name": "Python 3"
    }
  },
  "cells": [
    {
      "cell_type": "markdown",
      "metadata": {
        "id": "view-in-github",
        "colab_type": "text"
      },
      "source": [
        "<a href=\"https://colab.research.google.com/github/yamanoyu/atcorder/blob/master/ABC095.ipynb\" target=\"_parent\"><img src=\"https://colab.research.google.com/assets/colab-badge.svg\" alt=\"Open In Colab\"/></a>"
      ]
    },
    {
      "cell_type": "markdown",
      "metadata": {
        "id": "kMLRv7bVduF2"
      },
      "source": [
        "## A - Something on It"
      ]
    },
    {
      "cell_type": "code",
      "metadata": {
        "colab": {
          "base_uri": "https://localhost:8080/"
        },
        "id": "Uor9jdugcvbf",
        "outputId": "3165054d-fc9f-49ab-fd37-b45e1801c58c"
      },
      "source": [
        "s = input()\n",
        "ans = 700 + s.count('o') * 100\n",
        "print(ans)"
      ],
      "execution_count": 1,
      "outputs": [
        {
          "output_type": "stream",
          "text": [
            "oxo\n",
            "1100\n"
          ],
          "name": "stdout"
        }
      ]
    },
    {
      "cell_type": "markdown",
      "metadata": {
        "id": "T48UjRnDeD17"
      },
      "source": [
        "## B - Bitter Alchemy"
      ]
    },
    {
      "cell_type": "code",
      "metadata": {
        "colab": {
          "base_uri": "https://localhost:8080/"
        },
        "id": "yxWJmS3zdudg",
        "outputId": "0dabf9bc-5482-423f-a25a-74710200f556"
      },
      "source": [
        "n, x = map(int, input().split())\n",
        "m_list = [int(input()) for _ in range(n)]\n",
        "ans = (x - sum(m_list)) // min(m_list) + n\n",
        "print(ans)"
      ],
      "execution_count": 3,
      "outputs": [
        {
          "output_type": "stream",
          "text": [
            "3 1000\n",
            "120\n",
            "140\n",
            "100\n",
            "9\n"
          ],
          "name": "stdout"
        }
      ]
    },
    {
      "cell_type": "markdown",
      "metadata": {
        "id": "NJvc3vJHe1PV"
      },
      "source": [
        "## C - Half and Half"
      ]
    },
    {
      "cell_type": "code",
      "metadata": {
        "colab": {
          "base_uri": "https://localhost:8080/"
        },
        "id": "MtYQz0gIej76",
        "outputId": "6bfd7db2-d6a8-44ab-c0eb-5e755784008f"
      },
      "source": [
        "a, b, c, x, y = map(int, input().split())\n",
        "if x > y:\n",
        "  ans = min(a * x + b * y, y * c * 2 + (x - y) * a, x * c * 2)\n",
        "else:\n",
        "  ans = min(a * x + b * y, x * c * 2 + (y - x) * b, y * c * 2)\n",
        "print(ans)"
      ],
      "execution_count": 9,
      "outputs": [
        {
          "output_type": "stream",
          "text": [
            "1500 2000 500 90000 100000\n",
            "100000000\n"
          ],
          "name": "stdout"
        }
      ]
    },
    {
      "cell_type": "markdown",
      "metadata": {
        "id": "HS857sr8hF4u"
      },
      "source": [
        "## D - Static Sushi"
      ]
    },
    {
      "cell_type": "code",
      "metadata": {
        "id": "Lk1yJ3CMgRKl"
      },
      "source": [
        ""
      ],
      "execution_count": 6,
      "outputs": []
    }
  ]
}