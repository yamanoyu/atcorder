{
  "nbformat": 4,
  "nbformat_minor": 0,
  "metadata": {
    "colab": {
      "name": "ABC142.ipynb",
      "provenance": [],
      "collapsed_sections": [],
      "authorship_tag": "ABX9TyM/Ucjvym4pFN5I+OAHzxlZ",
      "include_colab_link": true
    },
    "kernelspec": {
      "name": "python3",
      "display_name": "Python 3"
    }
  },
  "cells": [
    {
      "cell_type": "markdown",
      "metadata": {
        "id": "view-in-github",
        "colab_type": "text"
      },
      "source": [
        "<a href=\"https://colab.research.google.com/github/yamanoyu/atcorder/blob/master/ABC142.ipynb\" target=\"_parent\"><img src=\"https://colab.research.google.com/assets/colab-badge.svg\" alt=\"Open In Colab\"/></a>"
      ]
    },
    {
      "cell_type": "markdown",
      "metadata": {
        "id": "36pjZxN-mdje"
      },
      "source": [
        "## A - Odds of Oddness"
      ]
    },
    {
      "cell_type": "code",
      "metadata": {
        "colab": {
          "base_uri": "https://localhost:8080/"
        },
        "id": "qKKwS6i2mTMW",
        "outputId": "9e654678-3e3a-4f56-8858-7a5a956f40b3"
      },
      "source": [
        "n = int(input())\n",
        "ans = 0.5 if n % 2 == 0 else (n - n // 2) / n\n",
        "print(ans)"
      ],
      "execution_count": 2,
      "outputs": [
        {
          "output_type": "stream",
          "text": [
            "1\n",
            "1.0\n"
          ],
          "name": "stdout"
        }
      ]
    },
    {
      "cell_type": "markdown",
      "metadata": {
        "id": "jzmeacsmmy2K"
      },
      "source": [
        "## B - Roller Coaster"
      ]
    },
    {
      "cell_type": "code",
      "metadata": {
        "colab": {
          "base_uri": "https://localhost:8080/"
        },
        "id": "umo6yfbNmd6m",
        "outputId": "72be5fd6-d95b-4d23-ba81-ee4a99e419f9"
      },
      "source": [
        "n, k = map(int, input().split())\n",
        "h_list = list(map(int, input().split()))\n",
        "ans = 0\n",
        "for h in h_list:\n",
        "  if h >= k: ans += 1\n",
        "print(ans)"
      ],
      "execution_count": 4,
      "outputs": [
        {
          "output_type": "stream",
          "text": [
            "4 150\n",
            "150 140 100 200\n",
            "2\n"
          ],
          "name": "stdout"
        }
      ]
    },
    {
      "cell_type": "markdown",
      "metadata": {
        "id": "x2gr9XQqnNwA"
      },
      "source": [
        "## C - Go to School"
      ]
    },
    {
      "cell_type": "code",
      "metadata": {
        "colab": {
          "base_uri": "https://localhost:8080/"
        },
        "id": "dKSb1rQbnDrl",
        "outputId": "e3294ad5-c056-4c3c-af76-0a7a1f72e3b7"
      },
      "source": [
        "n = int(input())\n",
        "a_list = list(map(int, input().split()))\n",
        "\n",
        "a_dict = {}\n",
        "for i, a in zip(range(1, n+1), a_list):\n",
        "  a_dict[i] = a\n",
        "\n",
        "a_dict_sort = sorted(a_dict.items(), key=lambda x:x[1])\n",
        "ans_list = []\n",
        "\n",
        "for a_k, a_v in a_dict_sort:\n",
        "  ans_list.append(str(a_k))\n",
        "\n",
        "ans = ' '.join(ans_list)\n",
        "print(ans)"
      ],
      "execution_count": 5,
      "outputs": [
        {
          "output_type": "stream",
          "text": [
            "3\n",
            "2 3 1\n",
            "3 1 2\n"
          ],
          "name": "stdout"
        }
      ]
    },
    {
      "cell_type": "markdown",
      "metadata": {
        "id": "BUbKHcNroccn"
      },
      "source": [
        "## D - Disjoint Set of Common Divisors"
      ]
    },
    {
      "cell_type": "code",
      "metadata": {
        "colab": {
          "base_uri": "https://localhost:8080/"
        },
        "id": "zkVCHifYoWH5",
        "outputId": "36eaa9cc-7bde-46fa-a586-c7eb61457e36"
      },
      "source": [
        "import math\n",
        "\n",
        "\n",
        "def factorization(n):\n",
        "  # 素因数分解 その2\n",
        "  # prime_factorization(24) の場合 [[2, 3], [3, 1]] (s^3 * 3^1)を返す\n",
        "  if n == 1: return []\n",
        "  factorization_list = []\n",
        "  i = 2\n",
        "  _n = n\n",
        "  while i ** 2 <= n:\n",
        "    cnt = 0\n",
        "    while _n % i == 0:\n",
        "      cnt += 1\n",
        "      _n //= i\n",
        "    factorization_list.append([i, cnt])\n",
        "    i += 1\n",
        "  \n",
        "  if _n != 1: factorization_list.append([_n, 1])\n",
        "  if factorization_list == []: factorization_list.append([n, 1])\n",
        "\n",
        "  return factorization_list\n",
        "\n",
        "\n",
        "a, b = map(int, input().split())\n",
        "\n",
        "factorization_list = [f[0] for f in factorization(math.gcd(a, b)) if f[1] != 0]\n",
        "ans = len(factorization_list) + 1\n",
        "print(ans)"
      ],
      "execution_count": 5,
      "outputs": [
        {
          "output_type": "stream",
          "text": [
            "420 660\n",
            "60\n",
            "[2, 3, 5]\n",
            "4\n"
          ],
          "name": "stdout"
        }
      ]
    },
    {
      "cell_type": "markdown",
      "metadata": {
        "id": "Yve4wtxYBckL"
      },
      "source": [
        "## E - Get Everything"
      ]
    },
    {
      "cell_type": "code",
      "metadata": {
        "id": "EBGQLvsmBSDO"
      },
      "source": [
        ""
      ],
      "execution_count": null,
      "outputs": []
    },
    {
      "cell_type": "markdown",
      "metadata": {
        "id": "KhyEG6EeBfoY"
      },
      "source": [
        "## F - Pure"
      ]
    },
    {
      "cell_type": "code",
      "metadata": {
        "id": "2Rtcnq1BBc_c"
      },
      "source": [
        ""
      ],
      "execution_count": null,
      "outputs": []
    }
  ]
}