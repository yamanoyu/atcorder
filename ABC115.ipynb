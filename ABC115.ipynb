{
  "nbformat": 4,
  "nbformat_minor": 0,
  "metadata": {
    "colab": {
      "name": "ABC115.ipynb",
      "provenance": [],
      "collapsed_sections": [],
      "authorship_tag": "ABX9TyNlonO9A6Zs5wTXBCqiqGsD",
      "include_colab_link": true
    },
    "kernelspec": {
      "name": "python3",
      "display_name": "Python 3"
    }
  },
  "cells": [
    {
      "cell_type": "markdown",
      "metadata": {
        "id": "view-in-github",
        "colab_type": "text"
      },
      "source": [
        "<a href=\"https://colab.research.google.com/github/yamanoyu/atcorder/blob/master/ABC115.ipynb\" target=\"_parent\"><img src=\"https://colab.research.google.com/assets/colab-badge.svg\" alt=\"Open In Colab\"/></a>"
      ]
    },
    {
      "cell_type": "markdown",
      "metadata": {
        "id": "3KYoHej-rqE5"
      },
      "source": [
        "## A - Christmas Eve Eve Eve"
      ]
    },
    {
      "cell_type": "code",
      "metadata": {
        "colab": {
          "base_uri": "https://localhost:8080/"
        },
        "id": "QM9sfKp8qtet",
        "outputId": "5e0ec7ac-ce5a-4ed0-a786-0c8f35574f9e"
      },
      "source": [
        "d = int(input())\n",
        "ans_list = ['Christmas', 'Christmas Eve', 'Christmas Eve Eve', 'Christmas Eve Eve Eve']\n",
        "ans = ans_list[25 - d]\n",
        "print(ans)"
      ],
      "execution_count": 2,
      "outputs": [
        {
          "output_type": "stream",
          "text": [
            "25\n",
            "Christmas\n"
          ],
          "name": "stdout"
        }
      ]
    },
    {
      "cell_type": "markdown",
      "metadata": {
        "id": "MgDmCnnssFn1"
      },
      "source": [
        "## B - Christmas Eve Eve"
      ]
    },
    {
      "cell_type": "code",
      "metadata": {
        "colab": {
          "base_uri": "https://localhost:8080/"
        },
        "id": "ZCre7Qa_rqbV",
        "outputId": "d7da66a8-a3bb-4e90-801c-23da22b3b7af"
      },
      "source": [
        "n = int(input())\n",
        "p_list = [int(input()) for _ in range(n)]\n",
        "ans = sum(p_list) - max(p_list) // 2\n",
        "print(ans)"
      ],
      "execution_count": 3,
      "outputs": [
        {
          "output_type": "stream",
          "text": [
            "3\n",
            "4980\n",
            "7980\n",
            "6980\n",
            "15950\n"
          ],
          "name": "stdout"
        }
      ]
    },
    {
      "cell_type": "markdown",
      "metadata": {
        "id": "xAWoorKrsfG3"
      },
      "source": [
        "## C - Christmas Eve"
      ]
    },
    {
      "cell_type": "code",
      "metadata": {
        "colab": {
          "base_uri": "https://localhost:8080/"
        },
        "id": "K2ij_cXNsXup",
        "outputId": "0c3e8b7f-460c-4728-a6a9-4fb6a086fa32"
      },
      "source": [
        "n, k = map(int, input().split())\n",
        "h_list = [int(input()) for _ in range(n)]\n",
        "h_list.sort(reverse=True)\n",
        "ans = 10 ** 9\n",
        "for i in range(n - k + 1):\n",
        "  ans = min(ans, h_list[i] - h_list[i + k - 1])\n",
        "print(ans)"
      ],
      "execution_count": 6,
      "outputs": [
        {
          "output_type": "stream",
          "text": [
            "5 3\n",
            "10\n",
            "15\n",
            "11\n",
            "14\n",
            "12\n",
            "2\n"
          ],
          "name": "stdout"
        }
      ]
    },
    {
      "cell_type": "markdown",
      "metadata": {
        "id": "y-Ff1ZS7tgra"
      },
      "source": [
        "## D - Christmas"
      ]
    },
    {
      "cell_type": "code",
      "metadata": {
        "id": "350VbqRwtSg_"
      },
      "source": [
        ""
      ],
      "execution_count": null,
      "outputs": []
    }
  ]
}