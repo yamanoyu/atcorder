{
  "nbformat": 4,
  "nbformat_minor": 0,
  "metadata": {
    "colab": {
      "name": "ABC109.ipynb",
      "provenance": [],
      "collapsed_sections": [],
      "authorship_tag": "ABX9TyOJW0ceDwY60Nn7F7HrU/+0",
      "include_colab_link": true
    },
    "kernelspec": {
      "name": "python3",
      "display_name": "Python 3"
    }
  },
  "cells": [
    {
      "cell_type": "markdown",
      "metadata": {
        "id": "view-in-github",
        "colab_type": "text"
      },
      "source": [
        "<a href=\"https://colab.research.google.com/github/yamanoyu/atcorder/blob/master/ABC109.ipynb\" target=\"_parent\"><img src=\"https://colab.research.google.com/assets/colab-badge.svg\" alt=\"Open In Colab\"/></a>"
      ]
    },
    {
      "cell_type": "markdown",
      "metadata": {
        "id": "55PSY2Rg8YV-"
      },
      "source": [
        "## A - ABC333"
      ]
    },
    {
      "cell_type": "code",
      "metadata": {
        "colab": {
          "base_uri": "https://localhost:8080/"
        },
        "id": "-uJy4mej74C9",
        "outputId": "7721cf73-7ea1-466e-e104-59bca9ec0d2d"
      },
      "source": [
        "a, b = map(int, input().split())\n",
        "ans = 'No' if (a * b) % 2 == 0 else 'Yes'\n",
        "print(ans)"
      ],
      "execution_count": 6,
      "outputs": [
        {
          "output_type": "stream",
          "text": [
            "1 2\n",
            "No\n"
          ],
          "name": "stdout"
        }
      ]
    },
    {
      "cell_type": "markdown",
      "metadata": {
        "id": "pPaxkcrm8Z6J"
      },
      "source": [
        "## B - Shiritori"
      ]
    },
    {
      "cell_type": "code",
      "metadata": {
        "colab": {
          "base_uri": "https://localhost:8080/"
        },
        "id": "rVGyKD4k8GxL",
        "outputId": "c823e5c5-f8dd-4135-c7ef-6c4b2e5cc98d"
      },
      "source": [
        "n = int(input())\n",
        "\n",
        "ans = 'Yes'\n",
        "w = input()\n",
        "init_word = w[-1]\n",
        "word_list = [w]\n",
        "\n",
        "for _ in range(n - 1):\n",
        "  w = input()\n",
        "  if w[0] == init_word and w not in word_list:\n",
        "    init_word = w[-1]\n",
        "    word_list.append(w)\n",
        "  else:\n",
        "    ans = 'No'\n",
        "\n",
        "print(ans)"
      ],
      "execution_count": 14,
      "outputs": [
        {
          "output_type": "stream",
          "text": [
            "3\n",
            "abc\n",
            "arc\n",
            "agc\n",
            "No\n"
          ],
          "name": "stdout"
        }
      ]
    },
    {
      "cell_type": "markdown",
      "metadata": {
        "id": "5UiOcPg9-qmj"
      },
      "source": [
        "## C - Skip"
      ]
    },
    {
      "cell_type": "code",
      "metadata": {
        "colab": {
          "base_uri": "https://localhost:8080/"
        },
        "id": "fL96NsdH9b9J",
        "outputId": "93d160d8-3e35-46fb-9dfa-a6bff0d9ce2a"
      },
      "source": [
        "n, x = map(int, input().split())\n",
        "x_list = list(map(int, input().split()))\n",
        "\n",
        "x_list.append(x)\n",
        "x_list.sort()\n",
        "\n",
        "x_diff_list = [x_list[i+1] - x_list[i] for i in range(n)]\n",
        "\n",
        "\n",
        "def gcd(a, b):\n",
        "  if a == 0 and b == 0:\n",
        "    return 0\n",
        "  elif a == 0:\n",
        "    return b\n",
        "  elif b == 0:\n",
        "    return a\n",
        "  else:\n",
        "    if a < b:\n",
        "      a, b = b, a\n",
        "    return gcd(b, a % b)\n",
        "\n",
        "ans = x_diff_list[0]\n",
        "\n",
        "for i in range(1, n):  \n",
        "  ans = gcd(ans, x_diff_list[i])\n",
        "\n",
        "print(ans)"
      ],
      "execution_count": 29,
      "outputs": [
        {
          "output_type": "stream",
          "text": [
            "3 3\n",
            "1 7 11\n",
            "2\n"
          ],
          "name": "stdout"
        }
      ]
    },
    {
      "cell_type": "markdown",
      "metadata": {
        "id": "ne64fWWkHVQZ"
      },
      "source": [
        "## D - Make Them Even"
      ]
    },
    {
      "cell_type": "code",
      "metadata": {
        "id": "lMRpkqSvCvlQ"
      },
      "source": [
        ""
      ],
      "execution_count": 22,
      "outputs": []
    },
    {
      "cell_type": "code",
      "metadata": {
        "id": "olMvIeidEiL7"
      },
      "source": [
        ""
      ],
      "execution_count": null,
      "outputs": []
    }
  ]
}