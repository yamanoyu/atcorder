{
  "nbformat": 4,
  "nbformat_minor": 0,
  "metadata": {
    "colab": {
      "name": "ABC109.ipynb",
      "provenance": [],
      "collapsed_sections": [],
      "authorship_tag": "ABX9TyPLgzkfWzA7+fIwZVC1X1wm",
      "include_colab_link": true
    },
    "kernelspec": {
      "name": "python3",
      "display_name": "Python 3"
    }
  },
  "cells": [
    {
      "cell_type": "markdown",
      "metadata": {
        "id": "view-in-github",
        "colab_type": "text"
      },
      "source": [
        "<a href=\"https://colab.research.google.com/github/yamanoyu/atcorder/blob/master/ABC109.ipynb\" target=\"_parent\"><img src=\"https://colab.research.google.com/assets/colab-badge.svg\" alt=\"Open In Colab\"/></a>"
      ]
    },
    {
      "cell_type": "markdown",
      "metadata": {
        "id": "55PSY2Rg8YV-"
      },
      "source": [
        "## A - ABC333"
      ]
    },
    {
      "cell_type": "code",
      "metadata": {
        "colab": {
          "base_uri": "https://localhost:8080/"
        },
        "id": "-uJy4mej74C9",
        "outputId": "7721cf73-7ea1-466e-e104-59bca9ec0d2d"
      },
      "source": [
        "a, b = map(int, input().split())\n",
        "ans = 'No' if (a * b) % 2 == 0 else 'Yes'\n",
        "print(ans)"
      ],
      "execution_count": null,
      "outputs": [
        {
          "output_type": "stream",
          "text": [
            "1 2\n",
            "No\n"
          ],
          "name": "stdout"
        }
      ]
    },
    {
      "cell_type": "markdown",
      "metadata": {
        "id": "pPaxkcrm8Z6J"
      },
      "source": [
        "## B - Shiritori"
      ]
    },
    {
      "cell_type": "code",
      "metadata": {
        "colab": {
          "base_uri": "https://localhost:8080/"
        },
        "id": "rVGyKD4k8GxL",
        "outputId": "c823e5c5-f8dd-4135-c7ef-6c4b2e5cc98d"
      },
      "source": [
        "n = int(input())\n",
        "\n",
        "ans = 'Yes'\n",
        "w = input()\n",
        "init_word = w[-1]\n",
        "word_list = [w]\n",
        "\n",
        "for _ in range(n - 1):\n",
        "  w = input()\n",
        "  if w[0] == init_word and w not in word_list:\n",
        "    init_word = w[-1]\n",
        "    word_list.append(w)\n",
        "  else:\n",
        "    ans = 'No'\n",
        "\n",
        "print(ans)"
      ],
      "execution_count": null,
      "outputs": [
        {
          "output_type": "stream",
          "text": [
            "3\n",
            "abc\n",
            "arc\n",
            "agc\n",
            "No\n"
          ],
          "name": "stdout"
        }
      ]
    },
    {
      "cell_type": "markdown",
      "metadata": {
        "id": "5UiOcPg9-qmj"
      },
      "source": [
        "## C - Skip"
      ]
    },
    {
      "cell_type": "code",
      "metadata": {
        "colab": {
          "base_uri": "https://localhost:8080/"
        },
        "id": "fL96NsdH9b9J",
        "outputId": "93d160d8-3e35-46fb-9dfa-a6bff0d9ce2a"
      },
      "source": [
        "n, x = map(int, input().split())\n",
        "x_list = list(map(int, input().split()))\n",
        "\n",
        "x_list.append(x)\n",
        "x_list.sort()\n",
        "\n",
        "x_diff_list = [x_list[i+1] - x_list[i] for i in range(n)]\n",
        "\n",
        "\n",
        "def gcd(a, b):\n",
        "  if a == 0 and b == 0:\n",
        "    return 0\n",
        "  elif a == 0:\n",
        "    return b\n",
        "  elif b == 0:\n",
        "    return a\n",
        "  else:\n",
        "    if a < b:\n",
        "      a, b = b, a\n",
        "    return gcd(b, a % b)\n",
        "\n",
        "ans = x_diff_list[0]\n",
        "\n",
        "for i in range(1, n):  \n",
        "  ans = gcd(ans, x_diff_list[i])\n",
        "\n",
        "print(ans)"
      ],
      "execution_count": null,
      "outputs": [
        {
          "output_type": "stream",
          "text": [
            "3 3\n",
            "1 7 11\n",
            "2\n"
          ],
          "name": "stdout"
        }
      ]
    },
    {
      "cell_type": "markdown",
      "metadata": {
        "id": "ne64fWWkHVQZ"
      },
      "source": [
        "## D - Make Them Even"
      ]
    },
    {
      "cell_type": "code",
      "metadata": {
        "id": "lMRpkqSvCvlQ",
        "colab": {
          "base_uri": "https://localhost:8080/"
        },
        "outputId": "e6c665dc-aa13-4c2d-84d1-898bf8453375"
      },
      "source": [
        "h, w = map(int, input().split())\n",
        "a_list = []\n",
        "\n",
        "line = 0\n",
        "for _ in range(h):\n",
        "  a_list_part = list(map(int, input().split()))\n",
        "  if line % 2 != 0:\n",
        "     a_list_part.reverse()\n",
        "  a_list.extend(a_list_part)\n",
        "  line += 1\n",
        "\n",
        "ans_list = []\n",
        "\n",
        "for i in range(h * w - 1):\n",
        "  if a_list[i] % 2 != 0:\n",
        "    ans_list.append(i)\n",
        "    a_list[i + 1] += 1\n",
        "\n",
        "print(len(ans_list))\n",
        "\n",
        "for ans in ans_list:\n",
        "  _ans_y, _ans_x = divmod(ans + 1, w)\n",
        "  if _ans_x == 0: _ans_y, _ans_x = _ans_y - 1, w\n",
        "  if _ans_y % 2 == 0:\n",
        "    ans_y, ans_x = _ans_y + 1, _ans_x\n",
        "  else:\n",
        "    ans_y, ans_x = _ans_y + 1, w - _ans_x + 1\n",
        "\n",
        "  _ans_y_next, _ans_x_next = divmod(ans + 2, w)\n",
        "  if _ans_x_next == 0: _ans_y_next, _ans_x_next = _ans_y_next - 1, w\n",
        "  if _ans_y_next % 2 == 0:\n",
        "      ans_y_next, ans_x_next = _ans_y_next + 1, _ans_x_next\n",
        "  else:\n",
        "    ans_y_next, ans_x_next = _ans_y_next + 1, w - _ans_x_next + 1\n",
        "\n",
        "  print(ans_y, ans_x, ans_y_next, ans_x_next)"
      ],
      "execution_count": 43,
      "outputs": [
        {
          "output_type": "stream",
          "text": [
            "1 5\n",
            "9 9 9 9\n",
            "2\n",
            "1 1 1 2\n",
            "1 3 1 4\n"
          ],
          "name": "stdout"
        }
      ]
    }
  ]
}