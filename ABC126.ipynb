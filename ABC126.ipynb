{
  "nbformat": 4,
  "nbformat_minor": 0,
  "metadata": {
    "colab": {
      "name": "ABC126.ipynb",
      "provenance": [],
      "collapsed_sections": [],
      "authorship_tag": "ABX9TyM4p8bl0T56Wf19gCSRJqjI",
      "include_colab_link": true
    },
    "kernelspec": {
      "name": "python3",
      "display_name": "Python 3"
    }
  },
  "cells": [
    {
      "cell_type": "markdown",
      "metadata": {
        "id": "view-in-github",
        "colab_type": "text"
      },
      "source": [
        "<a href=\"https://colab.research.google.com/github/yamanoyu/atcorder/blob/master/ABC126.ipynb\" target=\"_parent\"><img src=\"https://colab.research.google.com/assets/colab-badge.svg\" alt=\"Open In Colab\"/></a>"
      ]
    },
    {
      "cell_type": "markdown",
      "metadata": {
        "id": "A1bHq8VAqKzw"
      },
      "source": [
        "## A - Changing a Character"
      ]
    },
    {
      "cell_type": "code",
      "metadata": {
        "colab": {
          "base_uri": "https://localhost:8080/"
        },
        "id": "0RVk5jGFqG3v",
        "outputId": "83a99a5b-414d-4ef5-8d0e-a380b29d4745"
      },
      "source": [
        "n, k = map(int, input().split())\n",
        "s_list = list(input())\n",
        "s_list[k - 1] = s_list[k - 1].lower()\n",
        "ans = ''.join(s_list)\n",
        "print(ans)"
      ],
      "execution_count": 3,
      "outputs": [
        {
          "output_type": "stream",
          "text": [
            "3 1\n",
            "ABC\n",
            "aBC\n"
          ],
          "name": "stdout"
        }
      ]
    },
    {
      "cell_type": "markdown",
      "metadata": {
        "id": "iKU7hXUHq0UH"
      },
      "source": [
        "## B - YYMM or MMYY"
      ]
    },
    {
      "cell_type": "code",
      "metadata": {
        "colab": {
          "base_uri": "https://localhost:8080/"
        },
        "id": "Dyl4getbqaN0",
        "outputId": "5dd83691-0192-489a-dd07-6be3eea67026"
      },
      "source": [
        "s = input()\n",
        "\n",
        "front = int(s[:2])\n",
        "back = int(s[2:])\n",
        "\n",
        "if front > 12 or front < 1:\n",
        "  if back >= 1 and back <= 12:\n",
        "    ans = 'YYMM'\n",
        "  else:\n",
        "    ans = 'NA'\n",
        "else:\n",
        "  if back >= 1 and back <= 12:\n",
        "    ans = 'AMBIGUOUS'\n",
        "  else:\n",
        "    ans = 'MMYY'\n",
        "    \n",
        "print(ans)"
      ],
      "execution_count": 6,
      "outputs": [
        {
          "output_type": "stream",
          "text": [
            "1700\n",
            "NA\n"
          ],
          "name": "stdout"
        }
      ]
    },
    {
      "cell_type": "markdown",
      "metadata": {
        "id": "eoykXhM-sFL-"
      },
      "source": [
        "## C - Dice and Coin"
      ]
    },
    {
      "cell_type": "code",
      "metadata": {
        "colab": {
          "base_uri": "https://localhost:8080/"
        },
        "id": "Vb97V9YKrl_T",
        "outputId": "7c1797a8-64cf-4e19-e39b-9792d059e5d6"
      },
      "source": [
        "n, k = map(int, input().split())\n",
        "\n",
        "def roll_times(n):\n",
        "  i = 0\n",
        "  while n < k:\n",
        "    i += 1\n",
        "    n *= 2\n",
        "  return i\n",
        "\n",
        "ans = 0\n",
        "\n",
        "for i in range(1, n + 1):\n",
        "  ans += (0.5 ** (roll_times(i))) / n\n",
        "\n",
        "print(ans)"
      ],
      "execution_count": 57,
      "outputs": [
        {
          "output_type": "stream",
          "text": [
            "3 10\n",
            "0.14583333333333331\n"
          ],
          "name": "stdout"
        }
      ]
    },
    {
      "cell_type": "markdown",
      "metadata": {
        "id": "OPJ2_98v0C-i"
      },
      "source": [
        "## D - Even Relation"
      ]
    },
    {
      "cell_type": "code",
      "metadata": {
        "colab": {
          "base_uri": "https://localhost:8080/"
        },
        "id": "JyAxMldFy728",
        "outputId": "742e2c98-d214-49b4-aa9e-c7266b81cfcb"
      },
      "source": [
        "# WA\n",
        "\n",
        "n = int(input())\n",
        "color_list = [-1] * n\n",
        "\n",
        "uvw_list = [list(map(int, input().split())) for _ in range(n - 1)]\n",
        "uvw_list.sort()\n",
        "\n",
        "for u, v, w in uvw_list:\n",
        "  if color_list[u - 1] == -1 and color_list[v - 1] == -1:\n",
        "    if w % 2 == 0:\n",
        "      color_list[u - 1] = 1\n",
        "      color_list[v - 1] = 1\n",
        "    else:\n",
        "      color_list[u - 1] = 1\n",
        "      color_list[v - 1] = 0\n",
        "  elif color_list[u - 1] != -1:\n",
        "    if w % 2 == 0:\n",
        "      color_list[v - 1] = color_list[u - 1]\n",
        "    else:\n",
        "      color_list[v - 1] = 1 - color_list[u - 1]\n",
        "\n",
        "for color in color_list:\n",
        "  print(color)"
      ],
      "execution_count": 61,
      "outputs": [
        {
          "output_type": "stream",
          "text": [
            "3\n",
            "1 2 2\n",
            "2 3 1\n",
            "1\n",
            "1\n",
            "0\n"
          ],
          "name": "stdout"
        }
      ]
    },
    {
      "cell_type": "markdown",
      "metadata": {
        "id": "6Z80I-LC4Qtu"
      },
      "source": [
        "## E - 1 or 2"
      ]
    },
    {
      "cell_type": "code",
      "metadata": {
        "colab": {
          "base_uri": "https://localhost:8080/"
        },
        "id": "OPSuM7Dby9x5",
        "outputId": "fe99124c-b044-44e7-ba92-1a8e83551f72"
      },
      "source": [
        "class UnionFind:\n",
        "    # if x is root: self.parents[x] = - (the number of the group nodes)\n",
        "    # else: self.parents[x] = the parent of x\n",
        "    def __init__(self, n):\n",
        "        self.n = n\n",
        "        self.parents = [-1] * n\n",
        " \n",
        "    # return the parent of x\n",
        "    def find(self, x):\n",
        "        history = []\n",
        "        while self.parents[x] >= 0:\n",
        "            history.append(x)\n",
        "            x = self.parents[x]\n",
        "        for node in history:\n",
        "            self.parents[node] = x\n",
        "        return x\n",
        " \n",
        "    # merge the group of x and the group of y\n",
        "    def union(self, x, y):\n",
        "        x = self.find(x)\n",
        "        y = self.find(y)\n",
        "        if x == y:\n",
        "            return\n",
        "        if self.parents[x] > self.parents[y]:\n",
        "            x, y = y, x\n",
        "        self.parents[x] += self.parents[y]\n",
        "        self.parents[y] = x\n",
        " \n",
        "    # return the size of the group of x\n",
        "    def size(self, x):\n",
        "        return -self.parents[self.find(x)]\n",
        " \n",
        "    # return whether x and y in a same group\n",
        "    def same(self, x, y):\n",
        "        return self.find(x) == self.find(y)\n",
        " \n",
        "    # return [all roots]\n",
        "    # O(n)\n",
        "    def roots(self):\n",
        "        return [i for i, x in enumerate(self.parents) if x < 0]\n",
        " \n",
        "    # return the number of groups\n",
        "    # O(n)\n",
        "    def group_count(self):\n",
        "        return len(self.roots())\n",
        "\n",
        "\n",
        "n, m = map(int, input().split())\n",
        "\n",
        "uf = UnionFind(n)\n",
        "\n",
        "for _ in range(m):\n",
        "  x, y, z = map(int, input().split())\n",
        "  uf.union(x - 1, y - 1)\n",
        "\n",
        "ans = uf.group_count()\n",
        "\n",
        "print(ans)"
      ],
      "execution_count": 64,
      "outputs": [
        {
          "output_type": "stream",
          "text": [
            "3 1\n",
            "1 2 1\n",
            "2\n"
          ],
          "name": "stdout"
        }
      ]
    },
    {
      "cell_type": "markdown",
      "metadata": {
        "id": "vjFPCK7R_kfT"
      },
      "source": [
        "## F - XOR Matching"
      ]
    },
    {
      "cell_type": "code",
      "metadata": {
        "colab": {
          "base_uri": "https://localhost:8080/"
        },
        "id": "RfZLHnKu-wBC",
        "outputId": "37314680-e4ec-40f3-8a89-82c6b07bd956"
      },
      "source": [
        "# 0 xor 1 xor 2 xor .... xor 2 ** n - 1 = 0 \n",
        "# a xor b = c\n",
        "# a xor b xor b = c xor b\n",
        "# a = c xor b\n",
        "\n",
        "m, k = map(int, input().split())\n",
        "\n",
        "if m == 0:\n",
        "  ans_list = ['0', '0'] if k == 0 else ['-1']\n",
        "elif m == 1:\n",
        "  ans_list = ['0', '0', '1', '1'] if k == 0 else ['-1']\n",
        "else:\n",
        "  if k >= 2 ** m:\n",
        "    ans_list = ['-1']\n",
        "  else:\n",
        "    a = list(map(str, [i for i in range(2 ** m) if i != k]))\n",
        "    ans_list = a + [str(k)] + a[::-1] + [str(k)]\n",
        "\n",
        "ans = ' '.join(ans_list)\n",
        "print(ans)"
      ],
      "execution_count": 86,
      "outputs": [
        {
          "output_type": "stream",
          "text": [
            "0 0\n",
            "-1\n"
          ],
          "name": "stdout"
        }
      ]
    }
  ]
}