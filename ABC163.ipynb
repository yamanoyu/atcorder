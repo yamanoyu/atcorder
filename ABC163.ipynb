{
  "nbformat": 4,
  "nbformat_minor": 0,
  "metadata": {
    "colab": {
      "name": "ABC163.ipynb",
      "provenance": [],
      "authorship_tag": "ABX9TyNlx4H+Gl0WnFm6pXKIEgNQ",
      "include_colab_link": true
    },
    "kernelspec": {
      "name": "python3",
      "display_name": "Python 3"
    }
  },
  "cells": [
    {
      "cell_type": "markdown",
      "metadata": {
        "id": "view-in-github",
        "colab_type": "text"
      },
      "source": [
        "<a href=\"https://colab.research.google.com/github/yamanoyu/atcorder/blob/master/ABC163.ipynb\" target=\"_parent\"><img src=\"https://colab.research.google.com/assets/colab-badge.svg\" alt=\"Open In Colab\"/></a>"
      ]
    },
    {
      "cell_type": "markdown",
      "metadata": {
        "id": "HlrkVRXBeGpN"
      },
      "source": [
        "## A - Circle Pond"
      ]
    },
    {
      "cell_type": "code",
      "metadata": {
        "colab": {
          "base_uri": "https://localhost:8080/"
        },
        "id": "cpo8CZe-aClx",
        "outputId": "14a773eb-5b5d-44da-c696-126df748affe"
      },
      "source": [
        "import math\n",
        "\n",
        "\n",
        "r = int(input())\n",
        "ans = math.pi * 2 * r\n",
        "print(ans)"
      ],
      "execution_count": 4,
      "outputs": [
        {
          "output_type": "stream",
          "text": [
            "73\n",
            "458.6725274241098\n"
          ],
          "name": "stdout"
        }
      ]
    },
    {
      "cell_type": "markdown",
      "metadata": {
        "id": "Xk2VGGjtehqa"
      },
      "source": [
        "## B - Homework"
      ]
    },
    {
      "cell_type": "code",
      "metadata": {
        "colab": {
          "base_uri": "https://localhost:8080/"
        },
        "id": "f5rXkpOsdyHh",
        "outputId": "c39629b7-b6b3-446f-a720-2b0a12d43452"
      },
      "source": [
        "n, m = map(int, input().split())\n",
        "a_list = list(map(int, input().split()))\n",
        "\n",
        "ans = n - sum(a_list)\n",
        "if ans < 0:\n",
        "  ans = -1\n",
        "print(ans)"
      ],
      "execution_count": 5,
      "outputs": [
        {
          "output_type": "stream",
          "text": [
            "314 15\n",
            "9 26 5 35 8 9 79 3 23 8 46 2 6 43 3\n",
            "9\n"
          ],
          "name": "stdout"
        }
      ]
    },
    {
      "cell_type": "markdown",
      "metadata": {
        "id": "Nq-MoEd3fMY6"
      },
      "source": [
        "## C - management"
      ]
    },
    {
      "cell_type": "code",
      "metadata": {
        "colab": {
          "base_uri": "https://localhost:8080/"
        },
        "id": "sY-vqloSfA8m",
        "outputId": "e3c4d097-eb79-4ffa-c46b-fff3d8547a0f"
      },
      "source": [
        "n = int(input())\n",
        "a_list = list(map(int, input().split()))\n",
        "\n",
        "ans_dict = {}\n",
        "for k, v in zip(range(1, n+1), [0] * n):\n",
        "  ans_dict[k] = v\n",
        "\n",
        "for a in a_list:\n",
        "  ans_dict[a] += 1\n",
        "\n",
        "ans_list = sorted(ans_dict.items(), key=lambda x: x[0])\n",
        "\n",
        "for _, ans in ans_list:\n",
        "  print(ans)"
      ],
      "execution_count": 8,
      "outputs": [
        {
          "output_type": "stream",
          "text": [
            "5\n",
            "1 1 2 2\n",
            "2\n",
            "2\n",
            "0\n",
            "0\n",
            "0\n"
          ],
          "name": "stdout"
        }
      ]
    },
    {
      "cell_type": "markdown",
      "metadata": {
        "id": "5Itf84gngwbD"
      },
      "source": [
        "## D - Sum of Large Numbers"
      ]
    },
    {
      "cell_type": "code",
      "metadata": {
        "id": "-s0RZlROgFby"
      },
      "source": [
        ""
      ],
      "execution_count": null,
      "outputs": []
    }
  ]
}