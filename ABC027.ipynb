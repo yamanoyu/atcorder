{
 "cells": [
  {
   "cell_type": "markdown",
   "metadata": {},
   "source": [
    "## A - 長方形"
   ]
  },
  {
   "cell_type": "code",
   "execution_count": 4,
   "metadata": {},
   "outputs": [
    {
     "name": "stdout",
     "output_type": "stream",
     "text": [
      "5 5 5\n",
      "5\n"
     ]
    }
   ],
   "source": [
    "l_list = list(map(int, input().split()))\n",
    "\n",
    "ans = ''\n",
    "for l in l_list:\n",
    "    if l_list.count(l) == 1or l_list.count(l) == 3:\n",
    "        ans = l\n",
    "        break\n",
    "\n",
    "print(ans)"
   ]
  },
  {
   "cell_type": "markdown",
   "metadata": {},
   "source": [
    "## B - 島と橋"
   ]
  },
  {
   "cell_type": "code",
   "execution_count": 42,
   "metadata": {},
   "outputs": [
    {
     "name": "stdout",
     "output_type": "stream",
     "text": [
      "5\n",
      "2 0 0 0 3\n",
      "3\n"
     ]
    }
   ],
   "source": [
    "n = int(input())\n",
    "a_list = list(map(int, input().split()))\n",
    "\n",
    "ans = 0\n",
    "\n",
    "if sum(a_list) % n != 0:\n",
    "    ans = -1\n",
    "else:\n",
    "    average_people = sum(a_list) // n\n",
    "    for i in range(1, n):\n",
    "        if sum(a_list[:i]) == average_people * i:\n",
    "            pass\n",
    "        else:\n",
    "            ans += 1\n",
    "    \n",
    "print(ans)"
   ]
  },
  {
   "cell_type": "markdown",
   "metadata": {},
   "source": [
    "## C - 倍々ゲーム"
   ]
  },
  {
   "cell_type": "code",
   "execution_count": null,
   "metadata": {},
   "outputs": [],
   "source": [
    "n = int(input())\n",
    "\n",
    "while True:\n",
    "    num_last_lose = (n + 1) // 2 + 1"
   ]
  }
 ],
 "metadata": {
  "kernelspec": {
   "display_name": "Python 3",
   "language": "python",
   "name": "python3"
  },
  "language_info": {
   "codemirror_mode": {
    "name": "ipython",
    "version": 3
   },
   "file_extension": ".py",
   "mimetype": "text/x-python",
   "name": "python",
   "nbconvert_exporter": "python",
   "pygments_lexer": "ipython3",
   "version": "3.7.4"
  }
 },
 "nbformat": 4,
 "nbformat_minor": 4
}
