{
  "nbformat": 4,
  "nbformat_minor": 0,
  "metadata": {
    "colab": {
      "name": "ABC210.ipynb",
      "provenance": [],
      "authorship_tag": "ABX9TyP7SsPck/l1Nv5giJrsgieK",
      "include_colab_link": true
    },
    "kernelspec": {
      "name": "python3",
      "display_name": "Python 3"
    },
    "language_info": {
      "name": "python"
    }
  },
  "cells": [
    {
      "cell_type": "markdown",
      "metadata": {
        "id": "view-in-github",
        "colab_type": "text"
      },
      "source": [
        "<a href=\"https://colab.research.google.com/github/yamanoyu/atcorder/blob/master/ABC210.ipynb\" target=\"_parent\"><img src=\"https://colab.research.google.com/assets/colab-badge.svg\" alt=\"Open In Colab\"/></a>"
      ]
    },
    {
      "cell_type": "markdown",
      "metadata": {
        "id": "qBSirmwM872r"
      },
      "source": [
        "## A - Cabbages"
      ]
    },
    {
      "cell_type": "code",
      "metadata": {
        "colab": {
          "base_uri": "https://localhost:8080/"
        },
        "id": "H3M-LOIA830Z",
        "outputId": "530fefb3-8c30-4998-81f4-40e014ae4dbd"
      },
      "source": [
        "n, a, x, y = map(int, input().split())\n",
        "ans = a * x + (n - a) * y if n > a else n * x\n",
        "print(ans)"
      ],
      "execution_count": null,
      "outputs": [
        {
          "output_type": "stream",
          "text": [
            "1 2 3 4\n",
            "6\n"
          ],
          "name": "stdout"
        }
      ]
    },
    {
      "cell_type": "markdown",
      "metadata": {
        "id": "iwGPOVZO9b2E"
      },
      "source": [
        "## B - Bouzu Mekuri"
      ]
    },
    {
      "cell_type": "code",
      "metadata": {
        "colab": {
          "base_uri": "https://localhost:8080/"
        },
        "id": "_GRcjzUQ88pi",
        "outputId": "a7d4d08f-3edf-4a75-e64d-93e9de0a3a5d"
      },
      "source": [
        "n = int(input())\n",
        "s = input()\n",
        "\n",
        "for i, j in enumerate(s):\n",
        "  if j == '1':\n",
        "    if i % 2 == 0:\n",
        "      ans = 'Takahashi'\n",
        "    else:\n",
        "      ans = 'Aoki'\n",
        "    break\n",
        "\n",
        "print(ans)  "
      ],
      "execution_count": null,
      "outputs": [
        {
          "output_type": "stream",
          "text": [
            "5\n",
            "00101\n",
            "Takahashi\n"
          ],
          "name": "stdout"
        }
      ]
    },
    {
      "cell_type": "markdown",
      "metadata": {
        "id": "LDSYrh0h_Hjx"
      },
      "source": [
        "## C - Colorful Candies"
      ]
    },
    {
      "cell_type": "code",
      "metadata": {
        "colab": {
          "base_uri": "https://localhost:8080/"
        },
        "id": "sGpq4nOY90Zp",
        "outputId": "878d7bb8-6e40-4690-b092-d2f825c61af9"
      },
      "source": [
        "from collections import defaultdict\n",
        "\n",
        "\n",
        "n, k = map(int, input().split())\n",
        "c_list = list(map(int, input().split()))\n",
        "\n",
        "candy_dict = defaultdict(int)\n",
        "\n",
        "for i in range(k):\n",
        "  candy_dict[c_list[i]] += 1\n",
        "\n",
        "_ans = len(candy_dict.keys())\n",
        "ans = _ans\n",
        "\n",
        "for i in range(n - k):\n",
        "  c_now = c_list[i + k]\n",
        "  c_remove = c_list[i]\n",
        "\n",
        "  candy_dict[c_now] += 1\n",
        "\n",
        "  if candy_dict[c_now] == 1:\n",
        "    _ans += 1\n",
        "  else:\n",
        "    pass\n",
        "\n",
        "  if candy_dict[c_remove] == 1:\n",
        "    _ans -= 1\n",
        "  else:\n",
        "    pass\n",
        "  \n",
        "  candy_dict[c_remove] -= 1\n",
        "  ans = max(ans, _ans)\n",
        "\n",
        "print(ans)"
      ],
      "execution_count": null,
      "outputs": [
        {
          "output_type": "stream",
          "text": [
            "2 1\n",
            "1 1\n",
            "1\n"
          ],
          "name": "stdout"
        }
      ]
    },
    {
      "cell_type": "markdown",
      "metadata": {
        "id": "gPGxc81UT0WN"
      },
      "source": [
        "## D - National Railway"
      ]
    },
    {
      "cell_type": "code",
      "metadata": {
        "id": "YiVNdhLT_6x7",
        "colab": {
          "base_uri": "https://localhost:8080/"
        },
        "outputId": "4194a5e6-7ceb-47cf-a79f-bdf25284f6bc"
      },
      "source": [
        "import copy\n",
        "\n",
        "\n",
        "h, w, c = map(int, input().split())\n",
        "a_list = [list(map(int, input().split())) for _ in range(h)]\n",
        "INF = 1e14\n",
        " \n",
        "ans = INF\n",
        "\n",
        "for _ in range(2):\n",
        "  dp = copy.deepcopy(a_list)\n",
        "  for i in range(h):\n",
        "    for j in range(w):\n",
        "      if i > 0:\n",
        "        dp[i][j] = min(dp[i - 1][j] + c, dp[i][j])\n",
        "        ans = min(ans, dp[i - 1][j] + c + a_list[i][j])\n",
        "      if j > 0:\n",
        "        dp[i][j] = min(dp[i][j - 1] + c, dp[i][j])\n",
        "        ans = min(ans, dp[i][j - 1] + c + a_list[i][j])\n",
        "      \n",
        "  a_list = a_list[::-1]\n",
        "\n",
        "print(ans)"
      ],
      "execution_count": null,
      "outputs": [
        {
          "output_type": "stream",
          "text": [
            "3 4 2\n",
            "1 7 7 9\n",
            "9 6 3 7\n",
            "7 8 6 4\n"
          ],
          "name": "stdout"
        }
      ]
    },
    {
      "cell_type": "code",
      "metadata": {
        "colab": {
          "base_uri": "https://localhost:8080/"
        },
        "id": "ovs733kVT5IS",
        "outputId": "cc401db7-cb0e-4516-b248-f3940fbd582d"
      },
      "source": [
        "A"
      ],
      "execution_count": null,
      "outputs": [
        {
          "output_type": "execute_result",
          "data": {
            "text/plain": [
              "[[1, 7, 7, 9], [9, 6, 3, 7], [7, 8, 6, 4]]"
            ]
          },
          "metadata": {
            "tags": []
          },
          "execution_count": 2
        }
      ]
    },
    {
      "cell_type": "code",
      "metadata": {
        "id": "k6lBs2vaUAKC",
        "colab": {
          "base_uri": "https://localhost:8080/"
        },
        "outputId": "0aa4ffc7-4208-4411-d3e3-54e89b0652a6"
      },
      "source": [
        "dp"
      ],
      "execution_count": null,
      "outputs": [
        {
          "output_type": "execute_result",
          "data": {
            "text/plain": [
              "[[1, 7, 7, 9], [9, 6, 3, 7], [7, 8, 6, 4]]"
            ]
          },
          "metadata": {
            "tags": []
          },
          "execution_count": 3
        }
      ]
    },
    {
      "cell_type": "code",
      "metadata": {
        "id": "keKxq0S2UBCG"
      },
      "source": [
        ""
      ],
      "execution_count": null,
      "outputs": []
    }
  ]
}