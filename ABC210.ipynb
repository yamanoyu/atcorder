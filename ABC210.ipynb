{
  "nbformat": 4,
  "nbformat_minor": 0,
  "metadata": {
    "colab": {
      "name": "ABC210.ipynb",
      "provenance": [],
      "authorship_tag": "ABX9TyM/B2A5LCBea1wk9+PAMgcV",
      "include_colab_link": true
    },
    "kernelspec": {
      "name": "python3",
      "display_name": "Python 3"
    },
    "language_info": {
      "name": "python"
    }
  },
  "cells": [
    {
      "cell_type": "markdown",
      "metadata": {
        "id": "view-in-github",
        "colab_type": "text"
      },
      "source": [
        "<a href=\"https://colab.research.google.com/github/yamanoyu/atcorder/blob/master/ABC210.ipynb\" target=\"_parent\"><img src=\"https://colab.research.google.com/assets/colab-badge.svg\" alt=\"Open In Colab\"/></a>"
      ]
    },
    {
      "cell_type": "markdown",
      "metadata": {
        "id": "qBSirmwM872r"
      },
      "source": [
        "## A - Cabbages"
      ]
    },
    {
      "cell_type": "code",
      "metadata": {
        "colab": {
          "base_uri": "https://localhost:8080/"
        },
        "id": "H3M-LOIA830Z",
        "outputId": "530fefb3-8c30-4998-81f4-40e014ae4dbd"
      },
      "source": [
        "n, a, x, y = map(int, input().split())\n",
        "ans = a * x + (n - a) * y if n > a else n * x\n",
        "print(ans)"
      ],
      "execution_count": 4,
      "outputs": [
        {
          "output_type": "stream",
          "text": [
            "1 2 3 4\n",
            "6\n"
          ],
          "name": "stdout"
        }
      ]
    },
    {
      "cell_type": "markdown",
      "metadata": {
        "id": "iwGPOVZO9b2E"
      },
      "source": [
        "## B - Bouzu Mekuri"
      ]
    },
    {
      "cell_type": "code",
      "metadata": {
        "colab": {
          "base_uri": "https://localhost:8080/"
        },
        "id": "_GRcjzUQ88pi",
        "outputId": "a7d4d08f-3edf-4a75-e64d-93e9de0a3a5d"
      },
      "source": [
        "n = int(input())\n",
        "s = input()\n",
        "\n",
        "for i, j in enumerate(s):\n",
        "  if j == '1':\n",
        "    if i % 2 == 0:\n",
        "      ans = 'Takahashi'\n",
        "    else:\n",
        "      ans = 'Aoki'\n",
        "    break\n",
        "\n",
        "print(ans)  "
      ],
      "execution_count": 3,
      "outputs": [
        {
          "output_type": "stream",
          "text": [
            "5\n",
            "00101\n",
            "Takahashi\n"
          ],
          "name": "stdout"
        }
      ]
    },
    {
      "cell_type": "markdown",
      "metadata": {
        "id": "LDSYrh0h_Hjx"
      },
      "source": [
        "## C - Colorful Candies"
      ]
    },
    {
      "cell_type": "code",
      "metadata": {
        "colab": {
          "base_uri": "https://localhost:8080/"
        },
        "id": "sGpq4nOY90Zp",
        "outputId": "878d7bb8-6e40-4690-b092-d2f825c61af9"
      },
      "source": [
        "from collections import defaultdict\n",
        "\n",
        "\n",
        "n, k = map(int, input().split())\n",
        "c_list = list(map(int, input().split()))\n",
        "\n",
        "candy_dict = defaultdict(int)\n",
        "\n",
        "for i in range(k):\n",
        "  candy_dict[c_list[i]] += 1\n",
        "\n",
        "_ans = len(candy_dict.keys())\n",
        "ans = _ans\n",
        "\n",
        "for i in range(n - k):\n",
        "  c_now = c_list[i + k]\n",
        "  c_remove = c_list[i]\n",
        "\n",
        "  candy_dict[c_now] += 1\n",
        "\n",
        "  if candy_dict[c_now] == 1:\n",
        "    _ans += 1\n",
        "  else:\n",
        "    pass\n",
        "\n",
        "  if candy_dict[c_remove] == 1:\n",
        "    _ans -= 1\n",
        "  else:\n",
        "    pass\n",
        "  \n",
        "  candy_dict[c_remove] -= 1\n",
        "  ans = max(ans, _ans)\n",
        "\n",
        "print(ans)"
      ],
      "execution_count": 33,
      "outputs": [
        {
          "output_type": "stream",
          "text": [
            "2 1\n",
            "1 1\n",
            "1\n"
          ],
          "name": "stdout"
        }
      ]
    },
    {
      "cell_type": "code",
      "metadata": {
        "id": "YiVNdhLT_6x7"
      },
      "source": [
        ""
      ],
      "execution_count": 13,
      "outputs": []
    }
  ]
}