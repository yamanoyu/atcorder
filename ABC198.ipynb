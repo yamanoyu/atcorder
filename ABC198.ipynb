{
  "nbformat": 4,
  "nbformat_minor": 0,
  "metadata": {
    "colab": {
      "name": "ABC198.ipynb",
      "provenance": [],
      "authorship_tag": "ABX9TyPAwota8ssSD4D93gyRPwkq",
      "include_colab_link": true
    },
    "kernelspec": {
      "name": "python3",
      "display_name": "Python 3"
    },
    "language_info": {
      "name": "python"
    }
  },
  "cells": [
    {
      "cell_type": "markdown",
      "metadata": {
        "id": "view-in-github",
        "colab_type": "text"
      },
      "source": [
        "<a href=\"https://colab.research.google.com/github/yamanoyu/atcorder/blob/master/ABC198.ipynb\" target=\"_parent\"><img src=\"https://colab.research.google.com/assets/colab-badge.svg\" alt=\"Open In Colab\"/></a>"
      ]
    },
    {
      "cell_type": "markdown",
      "metadata": {
        "id": "oUWBxmVXJNXP"
      },
      "source": [
        "## A - Div"
      ]
    },
    {
      "cell_type": "code",
      "metadata": {
        "colab": {
          "base_uri": "https://localhost:8080/"
        },
        "id": "qWwDUUVZy88B",
        "outputId": "2fa52f99-f954-4ab2-be71-d8ca1c8cbb4e"
      },
      "source": [
        "n = int(input())\n",
        "ans = n - 1\n",
        "print(ans)"
      ],
      "execution_count": 4,
      "outputs": [
        {
          "output_type": "stream",
          "text": [
            "3\n",
            "2\n"
          ],
          "name": "stdout"
        }
      ]
    },
    {
      "cell_type": "markdown",
      "metadata": {
        "id": "AtfMhExnJQk0"
      },
      "source": [
        "## B - Palindrome with leading zeros"
      ]
    },
    {
      "cell_type": "code",
      "metadata": {
        "colab": {
          "base_uri": "https://localhost:8080/"
        },
        "id": "tsAmuat-zfbO",
        "outputId": "3ed6f7c4-a28e-46b2-b49e-82e0a95613e9"
      },
      "source": [
        "n = input()\n",
        "\n",
        "for i in range(len(n) - 1, -1, -1):\n",
        "  if n[i] == '0':\n",
        "    continue\n",
        "  else:\n",
        "    break\n",
        "\n",
        "_n = (n[::-1])[-i-1:]\n",
        "\n",
        "ans = 'Yes' if n[:i+1] == _n else 'No'\n",
        "print(ans)"
      ],
      "execution_count": 36,
      "outputs": [
        {
          "output_type": "stream",
          "text": [
            "777\n",
            "Yes\n"
          ],
          "name": "stdout"
        }
      ]
    },
    {
      "cell_type": "markdown",
      "metadata": {
        "id": "xdOjVkcAJSwp"
      },
      "source": [
        "## C - Compass Walking"
      ]
    },
    {
      "cell_type": "code",
      "metadata": {
        "colab": {
          "base_uri": "https://localhost:8080/"
        },
        "id": "_AX4_URa1aCg",
        "outputId": "17811c69-47be-4a86-ce7a-82146663e715"
      },
      "source": [
        "r, x, y = map(int, input().split())\n",
        "length = (x ** 2 + y ** 2) ** 0.5\n",
        "\n",
        "if length < r:\n",
        "  ans = 2\n",
        "else:\n",
        "  ans = int(length // r) if length % r == 0 else int(length // r) + 1\n",
        "print(ans)"
      ],
      "execution_count": 48,
      "outputs": [
        {
          "output_type": "stream",
          "text": [
            "1 0 2\n",
            "2\n"
          ],
          "name": "stdout"
        }
      ]
    },
    {
      "cell_type": "markdown",
      "metadata": {
        "id": "FXVnkZ5WJVIp"
      },
      "source": [
        "## D - Send More Money"
      ]
    },
    {
      "cell_type": "code",
      "metadata": {
        "colab": {
          "base_uri": "https://localhost:8080/"
        },
        "id": "oe1v6zFH2Hfk",
        "outputId": "d77b522a-db22-44a8-e48b-1419681ef1d0"
      },
      "source": [
        "import itertools\n",
        "\n",
        "\n",
        "s1 = input()\n",
        "s2 = input()\n",
        "s3 = input()\n",
        "\n",
        "w_set = set()\n",
        "\n",
        "w_set |= set(list(s1))\n",
        "w_set |= set(list(s2))\n",
        "w_set |= set(list(s3))\n",
        "\n",
        "w_list = list(w_set)\n",
        "\n",
        "ans = 1\n",
        "\n",
        "if len(w_list) <= 10:\n",
        "  for c in itertools.permutations(['0', '1', '2', '3', '4', '5', '6', '7', '8', '9']):\n",
        "    n1 = ''\n",
        "    n2 = ''\n",
        "    n3 = ''\n",
        "    for s in s1:\n",
        "      n1 += c[w_list.index(s)]\n",
        "    for s in s2:\n",
        "      n2 += c[w_list.index(s)]\n",
        "    for s in s3:\n",
        "      n3 += c[w_list.index(s)]\n",
        "\n",
        "    if n1[0] != '0' and n2[0] != '0' and n3[0] != '0' and int(n1) + int(n2) == int(n3):\n",
        "      ans = 0\n",
        "      print(n1)\n",
        "      print(n2)\n",
        "      print(n3)\n",
        "      break\n",
        "\n",
        "if ans == 1: print('UNSOLVABLE')"
      ],
      "execution_count": 63,
      "outputs": [
        {
          "output_type": "stream",
          "text": [
            "send\n",
            "more\n",
            "money\n",
            "9567\n",
            "1085\n",
            "10652\n"
          ],
          "name": "stdout"
        }
      ]
    },
    {
      "cell_type": "markdown",
      "metadata": {
        "id": "pRE2mor5JKSY"
      },
      "source": [
        "## E - Unique Color"
      ]
    },
    {
      "cell_type": "code",
      "metadata": {
        "colab": {
          "base_uri": "https://localhost:8080/"
        },
        "id": "B2wFw6Av6Hhn",
        "outputId": "c3fe1192-fc7f-4ed8-9382-31501ceb6f45"
      },
      "source": [
        "n = int(input())\n",
        "c_list = list(map(int, input().split()))\n",
        "ab_list = []\n",
        "\n",
        "for _ in range(n):\n",
        "  a, b = map(int, input().split())\n",
        "  if a > b:\n",
        "    a, b = b, a\n",
        "  ab_list.append([a, b])\n",
        "\n",
        "ab_list.sort()\n",
        "\n",
        "path_list = [[i] for i in range(1, n + 1)]\n",
        "\n",
        "for ab in ab_list:\n",
        "  if ab[0] == 1:\n",
        "    if path_list[ab[1] - 1][-1] != 1:\n",
        "      path_list[ab[1] - 1].append(1)\n",
        "  else:\n",
        "\n",
        "\n",
        "\n"
      ],
      "execution_count": 65,
      "outputs": [
        {
          "output_type": "stream",
          "text": [
            "3\n",
            "1 2\n",
            "2 1\n",
            "3 2\n",
            "4 5\n"
          ],
          "name": "stdout"
        }
      ]
    },
    {
      "cell_type": "code",
      "metadata": {
        "colab": {
          "base_uri": "https://localhost:8080/",
          "height": 134
        },
        "id": "app_sBqK-RWD",
        "outputId": "8b46eeee-3802-472e-f451-df66ae9b6259"
      },
      "source": [
        "import networkx as nx\n",
        "\n",
        "root = 3\n",
        "G = nx.Graph()\n",
        "\n",
        "\n",
        "edges =[(3,1),(3,2),(3,4),(1,5),...,(10,12)]\n",
        "\n",
        "S = []\n",
        "l = list(G.neighbors(root))  #rootと連結しているノードのリストを返す(この場合, l=[1,2,4])\n",
        "for i in l:\n",
        "    S.append([root, i])\n",
        "print(S) #S=[[3,1],[3,2],[3,4]]\n",
        "\n",
        "for k in range(len(S))　#リスト内のリストの数\n",
        "    l = list(G.neighbors(S[k][1])\n",
        "    for i in l:\n",
        "        S.append([S[k], i])\n",
        "\n",
        "print(S)"
      ],
      "execution_count": 69,
      "outputs": [
        {
          "output_type": "error",
          "ename": "SyntaxError",
          "evalue": "ignored",
          "traceback": [
            "\u001b[0;36m  File \u001b[0;32m\"<ipython-input-69-30f08793adb9>\"\u001b[0;36m, line \u001b[0;32m15\u001b[0m\n\u001b[0;31m    for k in range(len(S))　#リスト内のリストの数\u001b[0m\n\u001b[0m                          ^\u001b[0m\n\u001b[0;31mSyntaxError\u001b[0m\u001b[0;31m:\u001b[0m invalid character in identifier\n"
          ]
        }
      ]
    },
    {
      "cell_type": "code",
      "metadata": {
        "id": "2d-lCSLtB_BS"
      },
      "source": [
        "import networkx as nx\n",
        "\n",
        "root = 3\n",
        "G = nx.Graph()\n",
        "\n",
        "\n",
        "edges =[(3,1),(3,2),(3,4),(1,5),...,(10,12)]"
      ],
      "execution_count": 70,
      "outputs": []
    },
    {
      "cell_type": "code",
      "metadata": {
        "id": "lKg7p7oFH8ZU"
      },
      "source": [
        ""
      ],
      "execution_count": null,
      "outputs": []
    }
  ]
}