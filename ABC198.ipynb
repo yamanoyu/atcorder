{
  "nbformat": 4,
  "nbformat_minor": 0,
  "metadata": {
    "colab": {
      "name": "ABC198.ipynb",
      "provenance": [],
      "authorship_tag": "ABX9TyOYn7430FlmA0di6NaI0jcv",
      "include_colab_link": true
    },
    "kernelspec": {
      "name": "python3",
      "display_name": "Python 3"
    },
    "language_info": {
      "name": "python"
    }
  },
  "cells": [
    {
      "cell_type": "markdown",
      "metadata": {
        "id": "view-in-github",
        "colab_type": "text"
      },
      "source": [
        "<a href=\"https://colab.research.google.com/github/yamanoyu/atcorder/blob/master/ABC198.ipynb\" target=\"_parent\"><img src=\"https://colab.research.google.com/assets/colab-badge.svg\" alt=\"Open In Colab\"/></a>"
      ]
    },
    {
      "cell_type": "markdown",
      "metadata": {
        "id": "oUWBxmVXJNXP"
      },
      "source": [
        "## A - Div"
      ]
    },
    {
      "cell_type": "code",
      "metadata": {
        "colab": {
          "base_uri": "https://localhost:8080/"
        },
        "id": "qWwDUUVZy88B",
        "outputId": "2fa52f99-f954-4ab2-be71-d8ca1c8cbb4e"
      },
      "source": [
        "n = int(input())\n",
        "ans = n - 1\n",
        "print(ans)"
      ],
      "execution_count": null,
      "outputs": [
        {
          "output_type": "stream",
          "text": [
            "3\n",
            "2\n"
          ],
          "name": "stdout"
        }
      ]
    },
    {
      "cell_type": "markdown",
      "metadata": {
        "id": "AtfMhExnJQk0"
      },
      "source": [
        "## B - Palindrome with leading zeros"
      ]
    },
    {
      "cell_type": "code",
      "metadata": {
        "colab": {
          "base_uri": "https://localhost:8080/"
        },
        "id": "tsAmuat-zfbO",
        "outputId": "3ed6f7c4-a28e-46b2-b49e-82e0a95613e9"
      },
      "source": [
        "n = input()\n",
        "\n",
        "for i in range(len(n) - 1, -1, -1):\n",
        "  if n[i] == '0':\n",
        "    continue\n",
        "  else:\n",
        "    break\n",
        "\n",
        "_n = (n[::-1])[-i-1:]\n",
        "\n",
        "ans = 'Yes' if n[:i+1] == _n else 'No'\n",
        "print(ans)"
      ],
      "execution_count": null,
      "outputs": [
        {
          "output_type": "stream",
          "text": [
            "777\n",
            "Yes\n"
          ],
          "name": "stdout"
        }
      ]
    },
    {
      "cell_type": "markdown",
      "metadata": {
        "id": "xdOjVkcAJSwp"
      },
      "source": [
        "## C - Compass Walking"
      ]
    },
    {
      "cell_type": "code",
      "metadata": {
        "colab": {
          "base_uri": "https://localhost:8080/"
        },
        "id": "_AX4_URa1aCg",
        "outputId": "17811c69-47be-4a86-ce7a-82146663e715"
      },
      "source": [
        "r, x, y = map(int, input().split())\n",
        "length = (x ** 2 + y ** 2) ** 0.5\n",
        "\n",
        "if length < r:\n",
        "  ans = 2\n",
        "else:\n",
        "  ans = int(length // r) if length % r == 0 else int(length // r) + 1\n",
        "print(ans)"
      ],
      "execution_count": null,
      "outputs": [
        {
          "output_type": "stream",
          "text": [
            "1 0 2\n",
            "2\n"
          ],
          "name": "stdout"
        }
      ]
    },
    {
      "cell_type": "markdown",
      "metadata": {
        "id": "FXVnkZ5WJVIp"
      },
      "source": [
        "## D - Send More Money"
      ]
    },
    {
      "cell_type": "code",
      "metadata": {
        "colab": {
          "base_uri": "https://localhost:8080/"
        },
        "id": "oe1v6zFH2Hfk",
        "outputId": "d77b522a-db22-44a8-e48b-1419681ef1d0"
      },
      "source": [
        "import itertools\n",
        "\n",
        "\n",
        "s1 = input()\n",
        "s2 = input()\n",
        "s3 = input()\n",
        "\n",
        "w_set = set()\n",
        "\n",
        "w_set |= set(list(s1))\n",
        "w_set |= set(list(s2))\n",
        "w_set |= set(list(s3))\n",
        "\n",
        "w_list = list(w_set)\n",
        "\n",
        "ans = 1\n",
        "\n",
        "if len(w_list) <= 10:\n",
        "  for c in itertools.permutations(['0', '1', '2', '3', '4', '5', '6', '7', '8', '9']):\n",
        "    n1 = ''\n",
        "    n2 = ''\n",
        "    n3 = ''\n",
        "    for s in s1:\n",
        "      n1 += c[w_list.index(s)]\n",
        "    for s in s2:\n",
        "      n2 += c[w_list.index(s)]\n",
        "    for s in s3:\n",
        "      n3 += c[w_list.index(s)]\n",
        "\n",
        "    if n1[0] != '0' and n2[0] != '0' and n3[0] != '0' and int(n1) + int(n2) == int(n3):\n",
        "      ans = 0\n",
        "      print(n1)\n",
        "      print(n2)\n",
        "      print(n3)\n",
        "      break\n",
        "\n",
        "if ans == 1: print('UNSOLVABLE')"
      ],
      "execution_count": null,
      "outputs": [
        {
          "output_type": "stream",
          "text": [
            "send\n",
            "more\n",
            "money\n",
            "9567\n",
            "1085\n",
            "10652\n"
          ],
          "name": "stdout"
        }
      ]
    },
    {
      "cell_type": "markdown",
      "metadata": {
        "id": "pRE2mor5JKSY"
      },
      "source": [
        "## E - Unique Color"
      ]
    },
    {
      "cell_type": "code",
      "metadata": {
        "colab": {
          "base_uri": "https://localhost:8080/"
        },
        "id": "B2wFw6Av6Hhn",
        "outputId": "6c3a5a81-10ae-4765-97c8-8c073deeff48"
      },
      "source": [
        "import sys\n",
        "\n",
        "\n",
        "sys.setrecursionlimit(10 ** 6)\n",
        "\n",
        "n = int(input())\n",
        "c_list = list(map(int, input().split()))\n",
        "tree_list = [[] for _ in range(n)]\n",
        "\n",
        "for _ in range(n - 1):\n",
        "  a, b = map(int, input().split())\n",
        "  tree_list[a - 1].append(b - 1)\n",
        "  tree_list[b - 1].append(a - 1)\n",
        "\n",
        "color_num_list = [0] * (10 ** 5 + 1)\n",
        "ans_list = []\n",
        "\n",
        "\n",
        "def dfs(node, befor_node):\n",
        "  color_num_list[c_list[node]] += 1\n",
        "  if color_num_list[c_list[node]] == 1:\n",
        "    ans_list.append(node)\n",
        "  \n",
        "  for next_node in tree_list[node]:\n",
        "    if next_node == befor_node:\n",
        "      continue\n",
        "    dfs(next_node, node)\n",
        "\n",
        "  color_num_list[c_list[node]] -= 1\n",
        "\n",
        "\n",
        "dfs(0, -1)\n",
        "ans_list.sort()\n",
        "\n",
        "for ans in ans_list:\n",
        "  print(ans + 1)"
      ],
      "execution_count": 2,
      "outputs": [
        {
          "output_type": "stream",
          "text": [
            "6\n",
            "2 7 1 8 2 8\n",
            "1 2\n",
            "3 6\n",
            "3 2\n",
            "4 3\n",
            "2 5\n",
            "1\n",
            "2\n",
            "3\n",
            "4\n",
            "6\n"
          ],
          "name": "stdout"
        }
      ]
    }
  ]
}