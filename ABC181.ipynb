{
  "nbformat": 4,
  "nbformat_minor": 0,
  "metadata": {
    "kernelspec": {
      "display_name": "Python 3",
      "language": "python",
      "name": "python3"
    },
    "language_info": {
      "codemirror_mode": {
        "name": "ipython",
        "version": 3
      },
      "file_extension": ".py",
      "mimetype": "text/x-python",
      "name": "python",
      "nbconvert_exporter": "python",
      "pygments_lexer": "ipython3",
      "version": "3.7.4"
    },
    "colab": {
      "name": "ABC181.ipynb",
      "provenance": []
    }
  },
  "cells": [
    {
      "cell_type": "markdown",
      "metadata": {
        "id": "O-xwsGKOuppA"
      },
      "source": [
        "## A - Heavy Rotation"
      ]
    },
    {
      "cell_type": "code",
      "metadata": {
        "id": "Y0CjbcdbuppD",
        "outputId": "129d0652-e9f1-43b0-dc48-653f0c6f4c34"
      },
      "source": [
        "n = int(input())\n",
        "ans = 'White' if n % 2 == 0 else 'Black'\n",
        "print(ans)"
      ],
      "execution_count": null,
      "outputs": [
        {
          "output_type": "stream",
          "text": [
            "2\n",
            "White\n"
          ],
          "name": "stdout"
        }
      ]
    },
    {
      "cell_type": "markdown",
      "metadata": {
        "id": "4LWbFSy2uppD"
      },
      "source": [
        "## B - Trapezoid Sum"
      ]
    },
    {
      "cell_type": "code",
      "metadata": {
        "id": "JACfsz1uuppE",
        "outputId": "af3ef77d-88f2-4bc8-b24e-18870e5f9372"
      },
      "source": [
        "n = int(input())\n",
        "ans = 0\n",
        "for _ in range(n):\n",
        "    a, b = map(int, input().split())\n",
        "    ans += (a + b) * (b - a + 1) // 2\n",
        "print(ans)"
      ],
      "execution_count": null,
      "outputs": [
        {
          "output_type": "stream",
          "text": [
            "2\n",
            "1 3\n",
            "3 5\n",
            "18\n"
          ],
          "name": "stdout"
        }
      ]
    },
    {
      "cell_type": "markdown",
      "metadata": {
        "id": "aedsMBM_uppE"
      },
      "source": [
        "## C - Collinearity"
      ]
    },
    {
      "cell_type": "code",
      "metadata": {
        "id": "1syX05e3uppE",
        "outputId": "d37d2896-cd57-47ae-bba5-3d087354a1a4"
      },
      "source": [
        "import itertools\n",
        "\n",
        "n = int(input())\n",
        "xy_list = [list(map(int, input().split())) for _ in range(n)]\n",
        "\n",
        "ans = 'No'\n",
        "\n",
        "for combination in itertools.combinations(xy_list, 2):\n",
        "    # y = ax + b\n",
        "    try:\n",
        "        a = (combination[0][1] - combination[1][1]) / (combination[0][0] - combination[1][0])\n",
        "        b = combination[0][1] - a * combination[0][0]\n",
        "        \n",
        "        for xy in xy_list:\n",
        "            if xy not in combination and xy[1] == a * xy[0] + b:\n",
        "                ans = 'Yes'\n",
        "                break\n",
        "                \n",
        "    except ZeroDivisionError:\n",
        "        for xy in xy_list:\n",
        "            if xy not in combination and xy[0] == combination[0][0]:\n",
        "                ans = 'Yes'\n",
        "                break\n",
        "\n",
        "print(ans)"
      ],
      "execution_count": null,
      "outputs": [
        {
          "output_type": "stream",
          "text": [
            "4\n",
            "0 1\n",
            "0 2\n",
            "0 3\n",
            "1 1\n",
            "Yes\n"
          ],
          "name": "stdout"
        }
      ]
    },
    {
      "cell_type": "markdown",
      "metadata": {
        "id": "YPeyLubZuppE"
      },
      "source": [
        "## D - Hachi"
      ]
    },
    {
      "cell_type": "code",
      "metadata": {
        "id": "SecGpZ91uppF",
        "colab": {
          "base_uri": "https://localhost:8080/"
        },
        "outputId": "e52a487e-2743-4dda-dfa4-602b9a008560"
      },
      "source": [
        "s = input()\n",
        "s_len = len(s)\n",
        "eight_div_list = [str(n).zfill(3) for n in range(1000) if n % 8 == 0]\n",
        "\n",
        "if s_len == 1:\n",
        "  ans = 'Yes' if int(s) % 8 == 0 else 'No'\n",
        "elif s_len == 2:\n",
        "  ans = 'Yes' if int(s) % 8 == 0 or int(s[1] + s[0]) % 8 == 0 else 'No'\n",
        "else:\n",
        "  ans = 'No'\n",
        "  for eight_div in eight_div_list:\n",
        "    _s_list = list(s)\n",
        "    f = 0\n",
        "    for i in range(3):\n",
        "      if eight_div[i] in _s_list:\n",
        "        _s_list.remove(eight_div[i])\n",
        "      else:\n",
        "        f = 1\n",
        "        break\n",
        "    if f == 0:\n",
        "      ans = 'Yes'\n",
        "      break\n",
        "\n",
        "print(ans)"
      ],
      "execution_count": null,
      "outputs": [
        {
          "output_type": "stream",
          "text": [
            "42\n",
            "Yes\n"
          ],
          "name": "stdout"
        }
      ]
    },
    {
      "cell_type": "markdown",
      "metadata": {
        "id": "2AtS54MOgRhd"
      },
      "source": [
        "## E - Transformable Teacher"
      ]
    },
    {
      "cell_type": "code",
      "metadata": {
        "id": "dCFmIuFNgUEh",
        "outputId": "f16fd4af-7fd0-4c2f-ccfd-bf2a3ea5f631",
        "colab": {
          "base_uri": "https://localhost:8080/"
        }
      },
      "source": [
        "import bisect\n",
        "\n",
        "\n",
        "n, m = map(int, input().split())\n",
        "h_list = list(map(int, input().split()))\n",
        "w_list = list(map(int, input().split()))\n",
        "\n",
        "h_list.sort()\n",
        "w_list.sort()\n",
        "\n",
        "ans = 10 ** 18 + 1\n",
        "\n",
        "h_diff_list_1 = [0]\n",
        "h_diff_list_2 = [0]\n",
        "\n",
        "for i in range(0, n - 1, 2):\n",
        "  h_diff_list_1.append(h_diff_list_1[-1] + h_list[i + 1] - h_list[i])\n",
        "for i in range(1, n, 2):\n",
        "  h_diff_list_2.append(h_diff_list_2[-1] + h_list[i + 1] - h_list[i])\n",
        "\n",
        "for j in range(m):\n",
        "  insert_point = bisect.bisect_left(h_list, w_list[j])\n",
        "  w_diff = w_list[j] - h_list[insert_point - 1] if insert_point % 2 != 0 else h_list[insert_point] - w_list[j]\n",
        "  _ans = h_diff_list_1[insert_point // 2] + h_diff_list_2[-1] - h_diff_list_2[insert_point // 2] + w_diff\n",
        "  ans = min(ans, _ans)\n",
        "\n",
        "print(ans)"
      ],
      "execution_count": 11,
      "outputs": [
        {
          "output_type": "stream",
          "text": [
            "5 3\n",
            "1 2 3 4 7\n",
            "1 3 8\n",
            "3\n"
          ],
          "name": "stdout"
        }
      ]
    }
  ]
}