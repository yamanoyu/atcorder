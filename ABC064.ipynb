{
  "nbformat": 4,
  "nbformat_minor": 0,
  "metadata": {
    "colab": {
      "name": "ABC064.ipynb",
      "provenance": [],
      "collapsed_sections": [],
      "authorship_tag": "ABX9TyO7n/wW1bS9PjDO7uI7NsbM",
      "include_colab_link": true
    },
    "kernelspec": {
      "name": "python3",
      "display_name": "Python 3"
    }
  },
  "cells": [
    {
      "cell_type": "markdown",
      "metadata": {
        "id": "view-in-github",
        "colab_type": "text"
      },
      "source": [
        "<a href=\"https://colab.research.google.com/github/yamanoyu/atcorder/blob/master/ABC064.ipynb\" target=\"_parent\"><img src=\"https://colab.research.google.com/assets/colab-badge.svg\" alt=\"Open In Colab\"/></a>"
      ]
    },
    {
      "cell_type": "markdown",
      "metadata": {
        "id": "4UP3nlEzyjRw"
      },
      "source": [
        ""
      ]
    },
    {
      "cell_type": "markdown",
      "metadata": {
        "id": "xkTuXQEIykSV"
      },
      "source": [
        "## A - RGB Cards"
      ]
    },
    {
      "cell_type": "code",
      "metadata": {
        "id": "NmZDtlbeyk5B",
        "outputId": "b12f61ae-55db-4e45-8510-7ee79bc89c17",
        "colab": {
          "base_uri": "https://localhost:8080/"
        }
      },
      "source": [
        "r, g, b = input().split()\n",
        "rgb = int(r + g + b)\n",
        "ans = 'YES' if rgb % 4 == 0 else 'NO'\n",
        "print(ans)"
      ],
      "execution_count": 2,
      "outputs": [
        {
          "output_type": "stream",
          "text": [
            "4 3 2\n",
            "YES\n"
          ],
          "name": "stdout"
        }
      ]
    },
    {
      "cell_type": "markdown",
      "metadata": {
        "id": "NO6tUmcazAOd"
      },
      "source": [
        "## B - Traveling AtCoDeer Problem"
      ]
    },
    {
      "cell_type": "code",
      "metadata": {
        "id": "AZVol18ly5pV",
        "outputId": "02cfb11b-78cf-4a85-c991-9e8ecea9e9f5",
        "colab": {
          "base_uri": "https://localhost:8080/"
        }
      },
      "source": [
        "n = int(input())\n",
        "a_list = list(map(int, input().split()))\n",
        "\n",
        "a_list.sort()\n",
        "\n",
        "ans = a_list[-1] - a_list[0]\n",
        "\n",
        "print(ans)"
      ],
      "execution_count": 3,
      "outputs": [
        {
          "output_type": "stream",
          "text": [
            "4\n",
            "2 3 4 5\n",
            "3\n"
          ],
          "name": "stdout"
        }
      ]
    },
    {
      "cell_type": "markdown",
      "metadata": {
        "id": "uiNbzMBpze4C"
      },
      "source": [
        "## C - Colorful Leaderboard"
      ]
    },
    {
      "cell_type": "code",
      "metadata": {
        "id": "FsMuCBItzZBJ",
        "outputId": "92471524-be77-4874-9662-f4b053ce7cff",
        "colab": {
          "base_uri": "https://localhost:8080/"
        }
      },
      "source": [
        "n = int(input())\n",
        "a_list = list(map(int, input().split()))\n",
        "\n",
        "color_list = []\n",
        "rainbow_count = 0\n",
        "\n",
        "for a in a_list:\n",
        "  color = a // 400\n",
        "  if color <= 7:\n",
        "    color_list.append(color)\n",
        "  else:\n",
        "    rainbow_count += 1\n",
        "\n",
        "ans_min = max(1, len(list(set(color_list))))\n",
        "ans_max = max(1, len(list(set(color_list))) + rainbow_count)\n",
        "\n",
        "print(ans_min, ans_max)"
      ],
      "execution_count": 15,
      "outputs": [
        {
          "output_type": "stream",
          "text": [
            "3\n",
            "2 3 500\n",
            "2 2\n"
          ],
          "name": "stdout"
        }
      ]
    },
    {
      "cell_type": "markdown",
      "metadata": {
        "id": "efgOsdcg3UjC"
      },
      "source": [
        "## D - Insertion"
      ]
    },
    {
      "cell_type": "code",
      "metadata": {
        "id": "ubWa4dqP1gJS"
      },
      "source": [
        "n = int(input())\n",
        "s_list = list(input())\n",
        "\n"
      ],
      "execution_count": 15,
      "outputs": []
    }
  ]
}