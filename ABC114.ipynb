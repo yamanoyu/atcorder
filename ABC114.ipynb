{
  "nbformat": 4,
  "nbformat_minor": 0,
  "metadata": {
    "colab": {
      "name": "ABC114.ipynb",
      "provenance": [],
      "collapsed_sections": [],
      "authorship_tag": "ABX9TyOy3lRcX1J7qN1rwI2e0qrg",
      "include_colab_link": true
    },
    "kernelspec": {
      "name": "python3",
      "display_name": "Python 3"
    }
  },
  "cells": [
    {
      "cell_type": "markdown",
      "metadata": {
        "id": "view-in-github",
        "colab_type": "text"
      },
      "source": [
        "<a href=\"https://colab.research.google.com/github/yamanoyu/atcorder/blob/master/ABC114.ipynb\" target=\"_parent\"><img src=\"https://colab.research.google.com/assets/colab-badge.svg\" alt=\"Open In Colab\"/></a>"
      ]
    },
    {
      "cell_type": "markdown",
      "metadata": {
        "id": "TwCJT0GMCs41"
      },
      "source": [
        "## A - 753"
      ]
    },
    {
      "cell_type": "code",
      "metadata": {
        "colab": {
          "base_uri": "https://localhost:8080/"
        },
        "id": "r7bIvTYTCpbb",
        "outputId": "50d38ecb-af1b-4015-83df-73e1f3b42267"
      },
      "source": [
        "x = int(input())\n",
        "year_list = [3, 5, 7]\n",
        "ans = 'YES' if x in year_list else 'NO'\n",
        "print(ans)"
      ],
      "execution_count": 1,
      "outputs": [
        {
          "output_type": "stream",
          "text": [
            "5\n",
            "Yes\n"
          ],
          "name": "stdout"
        }
      ]
    },
    {
      "cell_type": "markdown",
      "metadata": {
        "id": "lgKsPc49DFbN"
      },
      "source": [
        "## B - 754"
      ]
    },
    {
      "cell_type": "code",
      "metadata": {
        "colab": {
          "base_uri": "https://localhost:8080/"
        },
        "id": "dKDW2leoCtcf",
        "outputId": "0f545537-a36d-4f00-f7c2-916cf6bd9e99"
      },
      "source": [
        "s = input()\n",
        "ans = 753\n",
        "for i in range(len(s) - 2):\n",
        "  ans = min(ans, abs(int(s[i:i+3]) - 753))\n",
        "print(ans)"
      ],
      "execution_count": 3,
      "outputs": [
        {
          "output_type": "stream",
          "text": [
            "35753\n",
            "0\n"
          ],
          "name": "stdout"
        }
      ]
    },
    {
      "cell_type": "markdown",
      "metadata": {
        "id": "YT1os3L1Dqle"
      },
      "source": [
        "## C - 75"
      ]
    },
    {
      "cell_type": "code",
      "metadata": {
        "colab": {
          "base_uri": "https://localhost:8080/"
        },
        "id": "kZZori-fDi22",
        "outputId": "bf5b3448-c728-4d47-d10f-7ed8978fb38e"
      },
      "source": [
        "n = int(input())\n",
        "\n",
        "def ternary(n):\n",
        "  if n == 0:\n",
        "    return '0'\n",
        "  nums = []\n",
        "  while n:\n",
        "    n, r = divmod(n, 3)\n",
        "    nums.append(str(r))\n",
        "  return ''.join(reversed(nums))\n",
        "\n",
        "\n",
        "ans_list = []\n",
        "for i in range(5, 19678):\n",
        "  for k in range(3, 10):\n",
        "    i_ternary = ternary(i).zfill(k)\n",
        "    if all(i_ternary.count(c) > 0 for c in '012'):\n",
        "      num = int(i_ternary.replace('0', '3').replace('1', '5').replace('2', '7'))\n",
        "      if num <= n:\n",
        "        ans_list.append(num)\n",
        "\n",
        "ans = len(set(ans_list))\n",
        "print(ans)"
      ],
      "execution_count": 68,
      "outputs": [
        {
          "output_type": "stream",
          "text": [
            "999999999\n",
            "[357, 3357, 33357, 333357, 3333357, 33333357, 333333357, 375, 3375, 33375]\n",
            "26484\n"
          ],
          "name": "stdout"
        }
      ]
    },
    {
      "cell_type": "markdown",
      "metadata": {
        "id": "iyLapfoaZRZp"
      },
      "source": [
        "## D - 756"
      ]
    },
    {
      "cell_type": "code",
      "metadata": {
        "colab": {
          "base_uri": "https://localhost:8080/"
        },
        "id": "zfd1L16IZRxw",
        "outputId": "6380fe89-6580-449a-f7fc-6eaee7640da7"
      },
      "source": [
        "n = int(input())\n",
        "\n",
        "def sieve_of_eratosthenes(n):\n",
        "    if n == 1: return []\n",
        "    # n以下の素数を出力\n",
        "    prime_num_list = [2]\n",
        "    number_list = [num for num in range(3, n + 1, 2)]\n",
        "\n",
        "    while True:\n",
        "      p = number_list[0]\n",
        "      if p ** 2 > n:\n",
        "        return prime_num_list + number_list\n",
        "        break\n",
        "      prime_num_list.append(p)\n",
        "      number_list = [num for num in number_list if num % p != 0]\n",
        "\n",
        "def factorization(n):\n",
        "  # 素因数分解 その2\n",
        "  # prime_factorization(24) の場合 [[2, 3], [3, 1]] (s^3 * 3^1)を返す\n",
        "  if n == 1: return []\n",
        "  factorization_list = []\n",
        "  i = 2\n",
        "  _n = n\n",
        "  while i ** 2 <= n:\n",
        "    cnt = 0\n",
        "    while _n % i == 0:\n",
        "      cnt += 1\n",
        "      _n //= i\n",
        "    factorization_list.append([i, cnt])\n",
        "    i += 1\n",
        "  \n",
        "  if _n != 1: factorization_list.append([_n, 1])\n",
        "  if factorization_list == []: factorization_list.append([n, 1])\n",
        "\n",
        "  return factorization_list\n",
        "\n",
        "def cmb(n, r):\n",
        "    # Combinationを算出 その1\n",
        "    # 5C2 = 10など\n",
        "    if n - r < r: r = n - r\n",
        "    if r == 0: return 1\n",
        "    if r == 1: return n\n",
        "\n",
        "    numerator = [n - r + k + 1 for k in range(r)]\n",
        "    denominator = [k + 1 for k in range(r)]\n",
        "\n",
        "    for p in range(2, r+1):\n",
        "        pivot = denominator[p - 1]\n",
        "        if pivot > 1:\n",
        "            offset = (n - r) % p\n",
        "            for k in range(p-1, r, p):\n",
        "                numerator[k - offset] /= pivot\n",
        "                denominator[k] /= pivot\n",
        "    result = 1\n",
        "    for k in range(r):\n",
        "        if numerator[k] > 1:\n",
        "            result *= int(numerator[k])\n",
        "\n",
        "    return result\n",
        "\n",
        "\n",
        "prime_num_dict = dict()\n",
        "\n",
        "for num in sieve_of_eratosthenes(n):\n",
        "  prime_num_dict[num] = 0\n",
        "\n",
        "for i in range(2, n + 1):\n",
        "  factorization_list = factorization(i)\n",
        "  for f in factorization_list:\n",
        "    if f[1] != 0:\n",
        "      prime_num_dict[f[0]] += f[1]\n",
        "\n",
        "over_74 = []\n",
        "over_24 = []\n",
        "over_14 = []\n",
        "over_4 = []\n",
        "over_2 = []\n",
        "\n",
        "for key, val in prime_num_dict.items():\n",
        "  if val >= 74:\n",
        "    over_74.append(key)\n",
        "  if val >= 24:\n",
        "    over_24.append(key)\n",
        "  if val >= 14:\n",
        "    over_14.append(key)\n",
        "  if val >= 4:\n",
        "    over_4.append(key)\n",
        "  if val >= 2:\n",
        "    over_2.append(key)\n",
        "\n",
        "# print('74', over_74)\n",
        "# print('24', over_24)\n",
        "# print('14', over_14)\n",
        "# print('4', over_4)\n",
        "# print('2', over_2)\n",
        "\n",
        "ans = len(over_74)\n",
        "ans += len(over_24) * (len(over_2) - 1)\n",
        "ans += len(over_14) * (len(over_4) - 1)\n",
        "if over_4: ans += cmb(len(over_4), 2) * (len(over_2) - 2)\n",
        "\n",
        "print(ans)"
      ],
      "execution_count": 94,
      "outputs": [
        {
          "output_type": "stream",
          "text": [
            "1\n",
            "0\n"
          ],
          "name": "stdout"
        }
      ]
    }
  ]
}