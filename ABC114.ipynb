{
  "nbformat": 4,
  "nbformat_minor": 0,
  "metadata": {
    "colab": {
      "name": "ABC114.ipynb",
      "provenance": [],
      "collapsed_sections": [],
      "authorship_tag": "ABX9TyO8tapaMsR85Pc8ovR70X2g",
      "include_colab_link": true
    },
    "kernelspec": {
      "name": "python3",
      "display_name": "Python 3"
    }
  },
  "cells": [
    {
      "cell_type": "markdown",
      "metadata": {
        "id": "view-in-github",
        "colab_type": "text"
      },
      "source": [
        "<a href=\"https://colab.research.google.com/github/yamanoyu/atcorder/blob/master/ABC114.ipynb\" target=\"_parent\"><img src=\"https://colab.research.google.com/assets/colab-badge.svg\" alt=\"Open In Colab\"/></a>"
      ]
    },
    {
      "cell_type": "markdown",
      "metadata": {
        "id": "TwCJT0GMCs41"
      },
      "source": [
        "## A - 753"
      ]
    },
    {
      "cell_type": "code",
      "metadata": {
        "colab": {
          "base_uri": "https://localhost:8080/"
        },
        "id": "r7bIvTYTCpbb",
        "outputId": "50d38ecb-af1b-4015-83df-73e1f3b42267"
      },
      "source": [
        "x = int(input())\n",
        "year_list = [3, 5, 7]\n",
        "ans = 'YES' if x in year_list else 'NO'\n",
        "print(ans)"
      ],
      "execution_count": 1,
      "outputs": [
        {
          "output_type": "stream",
          "text": [
            "5\n",
            "Yes\n"
          ],
          "name": "stdout"
        }
      ]
    },
    {
      "cell_type": "markdown",
      "metadata": {
        "id": "lgKsPc49DFbN"
      },
      "source": [
        "## B - 754"
      ]
    },
    {
      "cell_type": "code",
      "metadata": {
        "colab": {
          "base_uri": "https://localhost:8080/"
        },
        "id": "dKDW2leoCtcf",
        "outputId": "0f545537-a36d-4f00-f7c2-916cf6bd9e99"
      },
      "source": [
        "s = input()\n",
        "ans = 753\n",
        "for i in range(len(s) - 2):\n",
        "  ans = min(ans, abs(int(s[i:i+3]) - 753))\n",
        "print(ans)"
      ],
      "execution_count": 3,
      "outputs": [
        {
          "output_type": "stream",
          "text": [
            "35753\n",
            "0\n"
          ],
          "name": "stdout"
        }
      ]
    },
    {
      "cell_type": "markdown",
      "metadata": {
        "id": "YT1os3L1Dqle"
      },
      "source": [
        "## C - 75"
      ]
    },
    {
      "cell_type": "code",
      "metadata": {
        "colab": {
          "base_uri": "https://localhost:8080/"
        },
        "id": "kZZori-fDi22",
        "outputId": "bf5b3448-c728-4d47-d10f-7ed8978fb38e"
      },
      "source": [
        "n = int(input())\n",
        "\n",
        "def ternary(n):\n",
        "  if n == 0:\n",
        "    return '0'\n",
        "  nums = []\n",
        "  while n:\n",
        "    n, r = divmod(n, 3)\n",
        "    nums.append(str(r))\n",
        "  return ''.join(reversed(nums))\n",
        "\n",
        "\n",
        "ans_list = []\n",
        "for i in range(5, 19678):\n",
        "  for k in range(3, 10):\n",
        "    i_ternary = ternary(i).zfill(k)\n",
        "    if all(i_ternary.count(c) > 0 for c in '012'):\n",
        "      num = int(i_ternary.replace('0', '3').replace('1', '5').replace('2', '7'))\n",
        "      if num <= n:\n",
        "        ans_list.append(num)\n",
        "\n",
        "ans = len(set(ans_list))\n",
        "print(ans)"
      ],
      "execution_count": 68,
      "outputs": [
        {
          "output_type": "stream",
          "text": [
            "999999999\n",
            "[357, 3357, 33357, 333357, 3333357, 33333357, 333333357, 375, 3375, 33375]\n",
            "26484\n"
          ],
          "name": "stdout"
        }
      ]
    },
    {
      "cell_type": "markdown",
      "metadata": {
        "id": "iyLapfoaZRZp"
      },
      "source": [
        "## D - 756"
      ]
    },
    {
      "cell_type": "code",
      "metadata": {
        "id": "zfd1L16IZRxw"
      },
      "source": [
        "n = input()\n"
      ],
      "execution_count": null,
      "outputs": []
    }
  ]
}