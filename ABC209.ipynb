{
  "nbformat": 4,
  "nbformat_minor": 0,
  "metadata": {
    "colab": {
      "name": "ABC209.ipynb",
      "provenance": [],
      "authorship_tag": "ABX9TyN0frX41OjHTe7VV+ztDFFT",
      "include_colab_link": true
    },
    "kernelspec": {
      "name": "python3",
      "display_name": "Python 3"
    },
    "language_info": {
      "name": "python"
    }
  },
  "cells": [
    {
      "cell_type": "markdown",
      "metadata": {
        "id": "view-in-github",
        "colab_type": "text"
      },
      "source": [
        "<a href=\"https://colab.research.google.com/github/yamanoyu/atcorder/blob/master/ABC209.ipynb\" target=\"_parent\"><img src=\"https://colab.research.google.com/assets/colab-badge.svg\" alt=\"Open In Colab\"/></a>"
      ]
    },
    {
      "cell_type": "markdown",
      "metadata": {
        "id": "hPPT5185sOQ2"
      },
      "source": [
        "## A - Counting"
      ]
    },
    {
      "cell_type": "code",
      "metadata": {
        "id": "iowDc1p6hUUl"
      },
      "source": [
        "a, b = map(int, input().split())\n",
        "ans = b - a + 1 if a <= b else 0\n",
        "print(ans)"
      ],
      "execution_count": null,
      "outputs": []
    },
    {
      "cell_type": "markdown",
      "metadata": {
        "id": "N0jO5P7hsYoJ"
      },
      "source": [
        "## B - Can you buy them all?"
      ]
    },
    {
      "cell_type": "code",
      "metadata": {
        "colab": {
          "base_uri": "https://localhost:8080/"
        },
        "id": "UfQeLBE4sOub",
        "outputId": "a0690367-098d-4829-cba5-3a5413cb0fac"
      },
      "source": [
        "n, x = map(int, input().split())\n",
        "a_list = list(map(int, input().split()))\n",
        "\n",
        "cnt = 0\n",
        "\n",
        "for i, a in enumerate(a_list):\n",
        "  if i % 2 == 0:\n",
        "    cnt += a\n",
        "  else:\n",
        "    cnt += a - 1\n",
        "\n",
        "ans = 'Yes' if cnt <= x else 'No'\n",
        "print(ans)"
      ],
      "execution_count": 2,
      "outputs": [
        {
          "output_type": "stream",
          "text": [
            "2 3\n",
            "1 3\n",
            "Yes\n"
          ],
          "name": "stdout"
        }
      ]
    },
    {
      "cell_type": "markdown",
      "metadata": {
        "id": "_xPNiYY4taie"
      },
      "source": [
        "## C - Not Equal"
      ]
    },
    {
      "cell_type": "code",
      "metadata": {
        "colab": {
          "base_uri": "https://localhost:8080/"
        },
        "id": "lzlBHLDjtOlE",
        "outputId": "e43ed118-d1ec-4520-c2ce-8c2bd33c65d2"
      },
      "source": [
        "n = int(input())\n",
        "c_list = list(map(int, input().split()))\n",
        "c_list.sort()\n",
        "\n",
        "MOD = 10 ** 9 + 7\n",
        "\n",
        "ans = 1\n",
        "\n",
        "for i, c in enumerate(c_list):\n",
        "  ans *= (c - i) % MOD\n",
        "  ans %= MOD\n",
        "  \n",
        "print(ans)"
      ],
      "execution_count": 13,
      "outputs": [
        {
          "output_type": "stream",
          "text": [
            "10\n",
            "999999917 999999914 999999923 999999985 999999907 999999965 999999914 999999908 999999951 999999979\n",
            "405924645\n"
          ],
          "name": "stdout"
        }
      ]
    },
    {
      "cell_type": "code",
      "metadata": {
        "id": "QKigBBOzePve"
      },
      "source": [
        ""
      ],
      "execution_count": 7,
      "outputs": []
    }
  ]
}