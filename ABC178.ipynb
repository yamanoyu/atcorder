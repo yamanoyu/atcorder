{
  "nbformat": 4,
  "nbformat_minor": 0,
  "metadata": {
    "colab": {
      "name": "ABC178.ipynb",
      "provenance": [],
      "authorship_tag": "ABX9TyO1ZAyMW41PLONky2llpkuc",
      "include_colab_link": true
    },
    "kernelspec": {
      "name": "python3",
      "display_name": "Python 3"
    },
    "language_info": {
      "name": "python"
    }
  },
  "cells": [
    {
      "cell_type": "markdown",
      "metadata": {
        "id": "view-in-github",
        "colab_type": "text"
      },
      "source": [
        "<a href=\"https://colab.research.google.com/github/yamanoyu/atcorder/blob/master/ABC178.ipynb\" target=\"_parent\"><img src=\"https://colab.research.google.com/assets/colab-badge.svg\" alt=\"Open In Colab\"/></a>"
      ]
    },
    {
      "cell_type": "markdown",
      "metadata": {
        "id": "XPzc3vNDEzW2"
      },
      "source": [
        "## A - Not"
      ]
    },
    {
      "cell_type": "code",
      "metadata": {
        "colab": {
          "base_uri": "https://localhost:8080/"
        },
        "id": "xAcvJmrWEdcY",
        "outputId": "17485991-d77a-4fae-80c3-f5dd28b601bf"
      },
      "source": [
        "x = int(input())\n",
        "ans = abs(x - 1)\n",
        "print(ans)"
      ],
      "execution_count": 1,
      "outputs": [
        {
          "output_type": "stream",
          "text": [
            "1\n",
            "0\n"
          ],
          "name": "stdout"
        }
      ]
    },
    {
      "cell_type": "markdown",
      "metadata": {
        "id": "4kK6Qu84FFx2"
      },
      "source": [
        "## B - Product Max"
      ]
    },
    {
      "cell_type": "code",
      "metadata": {
        "colab": {
          "base_uri": "https://localhost:8080/"
        },
        "id": "Ao09QzS1E85Z",
        "outputId": "eb5567dc-970a-46b8-a9f0-a49289db555f"
      },
      "source": [
        "a, b, c, d = map(int, input().split())\n",
        "ans = max(a * c, b * c, a * d, b * d)\n",
        "print(ans)"
      ],
      "execution_count": 2,
      "outputs": [
        {
          "output_type": "stream",
          "text": [
            "3 5 -4 -2\n",
            "-6\n"
          ],
          "name": "stdout"
        }
      ]
    },
    {
      "cell_type": "markdown",
      "metadata": {
        "id": "Zj0iDlWJFkS_"
      },
      "source": [
        "## C - Ubiquity"
      ]
    },
    {
      "cell_type": "code",
      "metadata": {
        "colab": {
          "base_uri": "https://localhost:8080/"
        },
        "id": "dA75yLN2FcZk",
        "outputId": "c6231cea-1eb6-458c-829b-76c397722f5a"
      },
      "source": [
        "n = int(input())\n",
        "MOD = 10 ** 9 + 7\n",
        "\n",
        "ans = pow(10, n, MOD) - pow(9, n, MOD) * 2 + pow(8, n, MOD)\n",
        "\n",
        "print(ans % MOD)"
      ],
      "execution_count": 5,
      "outputs": [
        {
          "output_type": "stream",
          "text": [
            "869121\n",
            "2511445\n"
          ],
          "name": "stdout"
        }
      ]
    },
    {
      "cell_type": "markdown",
      "metadata": {
        "id": "NhaDkykCHV1-"
      },
      "source": [
        "## D - Redistribution"
      ]
    },
    {
      "cell_type": "code",
      "metadata": {
        "colab": {
          "base_uri": "https://localhost:8080/"
        },
        "id": "2o6vX2viHD6B",
        "outputId": "973480f3-472d-4610-f732-1cc034a004e0"
      },
      "source": [
        "s = int(input())\n",
        "MOD = 10 ** 9 + 7\n",
        "\n",
        "\n",
        "def cmb(n, r):\n",
        "    # Combinationを算出 その1\n",
        "    # 5C2 = 10など\n",
        "    if n - r < r: r = n - r\n",
        "    if r == 0: return 1\n",
        "    if r == 1: return n\n",
        "\n",
        "    numerator = [n - r + k + 1 for k in range(r)]\n",
        "    denominator = [k + 1 for k in range(r)]\n",
        "\n",
        "    for p in range(2, r+1):\n",
        "        pivot = denominator[p - 1]\n",
        "        if pivot > 1:\n",
        "            offset = (n - r) % p\n",
        "            for k in range(p-1, r, p):\n",
        "                numerator[k - offset] /= pivot\n",
        "                denominator[k] /= pivot\n",
        "    result = 1\n",
        "    for k in range(r):\n",
        "        if numerator[k] > 1:\n",
        "            result *= int(numerator[k])\n",
        "\n",
        "    return result\n",
        "\n",
        "\n",
        "div_max = s // 3\n",
        "ans = 0\n",
        "\n",
        "for i in range(1, div_max + 1):\n",
        "  ans += cmb(s - i * 2 - 1, i - 1) % MOD\n",
        "\n",
        "print(ans % MOD)"
      ],
      "execution_count": 16,
      "outputs": [
        {
          "output_type": "stream",
          "text": [
            "1729\n",
            "294867501\n"
          ],
          "name": "stdout"
        }
      ]
    },
    {
      "cell_type": "code",
      "metadata": {
        "id": "9Bv-d0CxICwo"
      },
      "source": [
        ""
      ],
      "execution_count": null,
      "outputs": []
    }
  ]
}