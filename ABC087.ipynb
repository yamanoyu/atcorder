{
  "nbformat": 4,
  "nbformat_minor": 0,
  "metadata": {
    "colab": {
      "name": "ABC087.ipynb",
      "provenance": [],
      "collapsed_sections": [],
      "authorship_tag": "ABX9TyNEq0jdEa2w6eCD+Nktn1e0",
      "include_colab_link": true
    },
    "kernelspec": {
      "name": "python3",
      "display_name": "Python 3"
    }
  },
  "cells": [
    {
      "cell_type": "markdown",
      "metadata": {
        "id": "view-in-github",
        "colab_type": "text"
      },
      "source": [
        "<a href=\"https://colab.research.google.com/github/yamanoyu/atcorder/blob/master/ABC087.ipynb\" target=\"_parent\"><img src=\"https://colab.research.google.com/assets/colab-badge.svg\" alt=\"Open In Colab\"/></a>"
      ]
    },
    {
      "cell_type": "markdown",
      "metadata": {
        "id": "a8xBSg67kFTF"
      },
      "source": [
        "## A - Buying Sweets"
      ]
    },
    {
      "cell_type": "code",
      "metadata": {
        "colab": {
          "base_uri": "https://localhost:8080/"
        },
        "id": "KqyBX-SYj5VS",
        "outputId": "4c677e1e-1180-41d6-c854-4faa9cb409a0"
      },
      "source": [
        "x = int(input())\n",
        "a = int(input())\n",
        "b = int(input())\n",
        "ans = (x - a) % b\n",
        "print(ans)"
      ],
      "execution_count": 1,
      "outputs": [
        {
          "output_type": "stream",
          "text": [
            "100\n",
            "1\n",
            "2\n",
            "1\n"
          ],
          "name": "stdout"
        }
      ]
    },
    {
      "cell_type": "markdown",
      "metadata": {
        "id": "0Mp50nW_kVoF"
      },
      "source": [
        "## B - Coins"
      ]
    },
    {
      "cell_type": "code",
      "metadata": {
        "colab": {
          "base_uri": "https://localhost:8080/"
        },
        "id": "SVie8dVGkF_5",
        "outputId": "d7062bc3-15a8-4dca-8713-f78fd5e651ee"
      },
      "source": [
        "a = int(input())\n",
        "b = int(input())\n",
        "c = int(input())\n",
        "x = int(input())\n",
        "\n",
        "ans = 0\n",
        "\n",
        "for i in range(a + 1):\n",
        "  for j in range(b + 1):\n",
        "    for k in range(c + 1):\n",
        "      sum_money = 500 * i + 100 * j + 50 * k\n",
        "      if sum_money == x: ans += 1\n",
        "\n",
        "print(ans)"
      ],
      "execution_count": 11,
      "outputs": [
        {
          "output_type": "stream",
          "text": [
            "2\n",
            "2\n",
            "2\n",
            "100\n",
            "2\n"
          ],
          "name": "stdout"
        }
      ]
    },
    {
      "cell_type": "markdown",
      "metadata": {
        "id": "_AKurdOFl2AZ"
      },
      "source": [
        "## C - Candies"
      ]
    },
    {
      "cell_type": "code",
      "metadata": {
        "colab": {
          "base_uri": "https://localhost:8080/"
        },
        "id": "h5Cl7fwWkdXt",
        "outputId": "e818db3b-8906-4623-d48d-b0ad58a8cf25"
      },
      "source": [
        "n = int(input())\n",
        "a1_list = list(map(int, input().split()))\n",
        "a2_list = list(map(int, input().split()))\n",
        "\n",
        "ans = 0\n",
        "\n",
        "for i in range(n):\n",
        "  ans = max(ans, sum(a1_list[: i + 1]) + sum(a2_list[i :]))\n",
        "\n",
        "print(ans)"
      ],
      "execution_count": 14,
      "outputs": [
        {
          "output_type": "stream",
          "text": [
            "5\n",
            "3 2 2 4 1\n",
            "1 2 2 2 1\n",
            "14\n"
          ],
          "name": "stdout"
        }
      ]
    },
    {
      "cell_type": "markdown",
      "metadata": {
        "id": "tTK159i1HXcS"
      },
      "source": [
        "## D - People on a Line"
      ]
    },
    {
      "cell_type": "code",
      "metadata": {
        "id": "rWdjxx01GuKC"
      },
      "source": [
        "n, m = map(int, input().split())\n",
        "\n",
        "position_lsit = [10 ** 18] * (n)\n",
        "\n",
        "for _ in range(m):\n",
        "  l, r, d = map(int, input().split())\n",
        "  \n",
        "\n"
      ],
      "execution_count": null,
      "outputs": []
    }
  ]
}