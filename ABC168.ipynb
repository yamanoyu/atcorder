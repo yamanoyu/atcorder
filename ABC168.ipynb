{
  "nbformat": 4,
  "nbformat_minor": 0,
  "metadata": {
    "colab": {
      "name": "ABC168.ipynb",
      "provenance": [],
      "authorship_tag": "ABX9TyP1U3kuckKayMOayJghOu3B",
      "include_colab_link": true
    },
    "kernelspec": {
      "name": "python3",
      "display_name": "Python 3"
    }
  },
  "cells": [
    {
      "cell_type": "markdown",
      "metadata": {
        "id": "view-in-github",
        "colab_type": "text"
      },
      "source": [
        "<a href=\"https://colab.research.google.com/github/yamanoyu/atcorder/blob/master/ABC168.ipynb\" target=\"_parent\"><img src=\"https://colab.research.google.com/assets/colab-badge.svg\" alt=\"Open In Colab\"/></a>"
      ]
    },
    {
      "cell_type": "markdown",
      "metadata": {
        "id": "CqUJWG1I5oVG"
      },
      "source": [
        "## A - ∴ (Therefore)"
      ]
    },
    {
      "cell_type": "code",
      "metadata": {
        "colab": {
          "base_uri": "https://localhost:8080/"
        },
        "id": "Kcm2LnQV5exl",
        "outputId": "d0265d30-c06d-41c1-8c3d-7345eded2c73"
      },
      "source": [
        "n = input()\n",
        "if int(n[-1]) in [2, 4, 5, 7, 9]:\n",
        "  ans = 'hon'\n",
        "elif int(n[-1]) in [0, 1, 6, 8]:\n",
        "  ans = 'pon'\n",
        "else:\n",
        "  ans = 'bon'\n",
        "print(ans)"
      ],
      "execution_count": null,
      "outputs": [
        {
          "output_type": "stream",
          "text": [
            "16\n",
            "pon\n"
          ],
          "name": "stdout"
        }
      ]
    },
    {
      "cell_type": "markdown",
      "metadata": {
        "id": "ZhspU9i66o76"
      },
      "source": [
        "## B - ... (Triple Dots)"
      ]
    },
    {
      "cell_type": "code",
      "metadata": {
        "colab": {
          "base_uri": "https://localhost:8080/"
        },
        "id": "hFKlU_Z35o59",
        "outputId": "bda8ea3f-e96d-4ef9-c12b-56945a2e02a0"
      },
      "source": [
        "k = int(input())\n",
        "s = input()\n",
        "ans = s[:k] + '...' if len(s) > k else s\n",
        "print(ans)"
      ],
      "execution_count": null,
      "outputs": [
        {
          "output_type": "stream",
          "text": [
            "1\n",
            "z\n",
            "z\n"
          ],
          "name": "stdout"
        }
      ]
    },
    {
      "cell_type": "markdown",
      "metadata": {
        "id": "R1tNYcKe8A6y"
      },
      "source": [
        "## C - : (Colon)"
      ]
    },
    {
      "cell_type": "code",
      "metadata": {
        "colab": {
          "base_uri": "https://localhost:8080/"
        },
        "id": "YYQNC4Y37iHZ",
        "outputId": "e94fc88d-be75-4127-e67c-55b4c9c59c32"
      },
      "source": [
        "import math\n",
        "\n",
        "\n",
        "a, b, h, m = map(int, input().split())\n",
        "d = abs((h * 30 + (m / 60) * 30) - (m * 6))\n",
        "d = min(360 - d, d)\n",
        "\n",
        "ans = math.sqrt(a ** 2 + b ** 2 - 2 * a * b * math.cos(math.pi * 2 * d / 360))\n",
        "print(ans)"
      ],
      "execution_count": null,
      "outputs": [
        {
          "output_type": "stream",
          "text": [
            "3 4 10 40\n",
            "4.564257194330056\n"
          ],
          "name": "stdout"
        }
      ]
    },
    {
      "cell_type": "markdown",
      "metadata": {
        "id": "2KivBAMz_-m1"
      },
      "source": [
        "## D - .. (Double Dots)"
      ]
    },
    {
      "cell_type": "code",
      "metadata": {
        "colab": {
          "base_uri": "https://localhost:8080/"
        },
        "id": "fy0huiUM-DH6",
        "outputId": "98e66aee-9159-4272-c917-6fcd7dae96cb"
      },
      "source": [
        "import networkx as nx\n",
        "\n",
        "\n",
        "n, m = map(int, input().split())\n",
        "ab_list = [list(map(int, input().split())) for _ in range(m)]\n",
        "\n",
        "G = nx.Graph()\n",
        "G.add_edges_from(ab_list)\n",
        "d = nx.predecessor(G, source=1)\n",
        "\n",
        "ans_list = []\n",
        "ans_init = 'Yes'\n",
        "\n",
        "for i in range(2, n + 1):\n",
        "  if d[i] != []:\n",
        "    ans_list.append(d[i][0])\n",
        "  else:\n",
        "    ans_init = 'No'\n",
        "    break\n",
        "\n",
        "print(ans_init)\n",
        "if ans_init == 'Yes':\n",
        "  for ans in ans_list:\n",
        "    print(ans)"
      ],
      "execution_count": null,
      "outputs": [
        {
          "output_type": "stream",
          "text": [
            "4 4\n",
            "1 2\n",
            "2 3\n",
            "3 4\n",
            "4 2\n",
            "Yes\n",
            "1\n",
            "2\n",
            "2\n"
          ],
          "name": "stdout"
        }
      ]
    }
  ]
}