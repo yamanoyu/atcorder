{
  "nbformat": 4,
  "nbformat_minor": 0,
  "metadata": {
    "colab": {
      "name": "BAC144.ipynb",
      "provenance": [],
      "collapsed_sections": [],
      "authorship_tag": "ABX9TyM+CbYQsNK+1GQnTikO9GC6",
      "include_colab_link": true
    },
    "kernelspec": {
      "name": "python3",
      "display_name": "Python 3"
    }
  },
  "cells": [
    {
      "cell_type": "markdown",
      "metadata": {
        "id": "view-in-github",
        "colab_type": "text"
      },
      "source": [
        "<a href=\"https://colab.research.google.com/github/yamanoyu/atcorder/blob/master/BAC144.ipynb\" target=\"_parent\"><img src=\"https://colab.research.google.com/assets/colab-badge.svg\" alt=\"Open In Colab\"/></a>"
      ]
    },
    {
      "cell_type": "markdown",
      "metadata": {
        "id": "WdsAcNUWJKKe"
      },
      "source": [
        "## A - 9x9"
      ]
    },
    {
      "cell_type": "code",
      "metadata": {
        "colab": {
          "base_uri": "https://localhost:8080/"
        },
        "id": "6CCt4h-sJFny",
        "outputId": "93ec0109-b284-4d38-9d4c-b555dc4cd330"
      },
      "source": [
        "a, b = map(int, input().split())\n",
        "ans = a * b if a < 10 and b < 10 else -1\n",
        "print(ans)"
      ],
      "execution_count": 1,
      "outputs": [
        {
          "output_type": "stream",
          "text": [
            "5 10\n",
            "-1\n"
          ],
          "name": "stdout"
        }
      ]
    },
    {
      "cell_type": "markdown",
      "metadata": {
        "id": "-22eK3RHJbeE"
      },
      "source": [
        "## B - 81"
      ]
    },
    {
      "cell_type": "code",
      "metadata": {
        "colab": {
          "base_uri": "https://localhost:8080/"
        },
        "id": "A2zirqB7JKlZ",
        "outputId": "279959dc-b675-4af5-8db0-27fcdb7216b1"
      },
      "source": [
        "n = int(input())\n",
        "ans_list = []\n",
        "\n",
        "for i in range(10):\n",
        "  for j in range(10):\n",
        "    ans_list.append(i * j)\n",
        "\n",
        "ans = 'Yes' if n in ans_list else 'No'\n",
        "print(ans)"
      ],
      "execution_count": 5,
      "outputs": [
        {
          "output_type": "stream",
          "text": [
            "90\n",
            "No\n"
          ],
          "name": "stdout"
        }
      ]
    },
    {
      "cell_type": "markdown",
      "metadata": {
        "id": "3VEU_GjXKh0y"
      },
      "source": [
        "## C - Walk on Multiplication Table"
      ]
    },
    {
      "cell_type": "code",
      "metadata": {
        "colab": {
          "base_uri": "https://localhost:8080/"
        },
        "id": "LFPnbB7_KZP-",
        "outputId": "7b64405b-69eb-4b16-83a6-7e8c43c4d1aa"
      },
      "source": [
        "import math\n",
        "\n",
        "\n",
        "n = int(input())\n",
        "middle_num = math.floor(math.sqrt(n))\n",
        "\n",
        "for i in range(middle_num, 0, -1):\n",
        "  if n % i == 0:\n",
        "    break\n",
        "ans = i + n // i - 2\n",
        "print(ans)"
      ],
      "execution_count": 8,
      "outputs": [
        {
          "output_type": "stream",
          "text": [
            "50\n",
            "13\n"
          ],
          "name": "stdout"
        }
      ]
    },
    {
      "cell_type": "markdown",
      "metadata": {
        "id": "vqvXbSBpMAS8"
      },
      "source": [
        "## D - Water Bottle"
      ]
    },
    {
      "cell_type": "code",
      "metadata": {
        "colab": {
          "base_uri": "https://localhost:8080/"
        },
        "id": "SzZrl33vKiO1",
        "outputId": "ee318339-8a07-41fe-dc9c-84ce4a20d419"
      },
      "source": [
        "# import decimal\n",
        "import math\n",
        "\n",
        "\n",
        "a, b, x = map(int, input().split())\n",
        "water_bottle = (a ** 2) * b\n",
        "\n",
        "if x >= water_bottle * 0.5:\n",
        "  ans = math.degrees(math.atan(2 * (water_bottle - x) / (a ** 3)))\n",
        "else:\n",
        "  ans = math.degrees(math.atan((0.5 * a * (b ** 2)) / x))\n",
        "\n",
        "print(ans)"
      ],
      "execution_count": 18,
      "outputs": [
        {
          "output_type": "stream",
          "text": [
            "12 21 10\n",
            "89.78346369338755\n"
          ],
          "name": "stdout"
        }
      ]
    },
    {
      "cell_type": "markdown",
      "metadata": {
        "id": "bmtL4sbZQNCM"
      },
      "source": [
        "## E - Gluttony"
      ]
    },
    {
      "cell_type": "code",
      "metadata": {
        "id": "2IdaL0atOyIK"
      },
      "source": [
        ""
      ],
      "execution_count": null,
      "outputs": []
    },
    {
      "cell_type": "markdown",
      "metadata": {
        "id": "aeCLALdzQQww"
      },
      "source": [
        "## F - Fork in the Road"
      ]
    },
    {
      "cell_type": "code",
      "metadata": {
        "id": "mTljpSq3QRNQ"
      },
      "source": [
        ""
      ],
      "execution_count": null,
      "outputs": []
    }
  ]
}