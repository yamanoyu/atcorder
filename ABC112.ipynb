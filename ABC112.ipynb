{
  "nbformat": 4,
  "nbformat_minor": 0,
  "metadata": {
    "colab": {
      "name": "ABC112.ipynb",
      "provenance": [],
      "authorship_tag": "ABX9TyNG/FZOeFsXwS0kkxpiD1uE",
      "include_colab_link": true
    },
    "kernelspec": {
      "name": "python3",
      "display_name": "Python 3"
    }
  },
  "cells": [
    {
      "cell_type": "markdown",
      "metadata": {
        "id": "view-in-github",
        "colab_type": "text"
      },
      "source": [
        "<a href=\"https://colab.research.google.com/github/yamanoyu/atcorder/blob/master/ABC112.ipynb\" target=\"_parent\"><img src=\"https://colab.research.google.com/assets/colab-badge.svg\" alt=\"Open In Colab\"/></a>"
      ]
    },
    {
      "cell_type": "markdown",
      "metadata": {
        "id": "ntdwdnjfbrOV"
      },
      "source": [
        "## A - Programming Education"
      ]
    },
    {
      "cell_type": "code",
      "metadata": {
        "colab": {
          "base_uri": "https://localhost:8080/"
        },
        "id": "Wq3QF3rbbp8f",
        "outputId": "475364ff-cb50-4f29-a99e-21a77b6103f1"
      },
      "source": [
        "n = int(input())\n",
        "if n == 1:\n",
        "  ans = 'Hello World'\n",
        "else:\n",
        "  a = int(input())\n",
        "  b = int(input())\n",
        "  ans = a + b\n",
        "print(ans)"
      ],
      "execution_count": null,
      "outputs": [
        {
          "output_type": "stream",
          "text": [
            "1\n",
            "Hello World\n"
          ],
          "name": "stdout"
        }
      ]
    },
    {
      "cell_type": "markdown",
      "metadata": {
        "id": "ycP1sQcDcJ3D"
      },
      "source": [
        "## B - Time Limit Exceeded"
      ]
    },
    {
      "cell_type": "code",
      "metadata": {
        "colab": {
          "base_uri": "https://localhost:8080/"
        },
        "id": "xQOAgToQbsMh",
        "outputId": "52a9e6ca-ec11-42af-c7a0-cbb559514da6"
      },
      "source": [
        "n, t = map(int, input().split())\n",
        "ct_list = []\n",
        "\n",
        "for _ in range(n):\n",
        "  ct = list(map(int, input().split()))\n",
        "  ct_list.append(ct)\n",
        "\n",
        "ans_list = [ct[0] for ct in ct_list if ct[1] <= t]\n",
        "ans = min(ans_list) if ans_list else 'TLE'\n",
        "\n",
        "print(ans)"
      ],
      "execution_count": null,
      "outputs": [
        {
          "output_type": "stream",
          "text": [
            "3 70\n",
            "7 60\n",
            "1 80\n",
            "4 50\n",
            "4\n"
          ],
          "name": "stdout"
        }
      ]
    },
    {
      "cell_type": "markdown",
      "metadata": {
        "id": "WL5mvbT9fSTs"
      },
      "source": [
        "## C - Pyramid"
      ]
    },
    {
      "cell_type": "code",
      "metadata": {
        "colab": {
          "base_uri": "https://localhost:8080/"
        },
        "id": "SFnMlN4IeWnW",
        "outputId": "88e7021f-44aa-4550-dd15-f00c1e11ee81"
      },
      "source": [
        "n = int(input())\n",
        "\n",
        "x_list = list(range(101))\n",
        "y_list = list(range(101))\n",
        "xyh_list = []\n",
        "\n",
        "for _ in range(n):\n",
        "  xyh = list(map(int, input().split()))\n",
        "  xyh_list.append(xyh)\n",
        "\n",
        "xyh_list = sorted(xyh_list, key=lambda x: x[2], reverse=True)\n",
        "\n",
        "for x in x_list:\n",
        "  for y in x_list:\n",
        "    ch_list = []\n",
        "    for xyh in xyh_list:\n",
        "      if xyh[2] != 0:\n",
        "        ch = xyh[2] + abs(xyh[0] - x) + abs(xyh[1] - y)\n",
        "        ch_list.append(ch)\n",
        "      else:\n",
        "        if ch_list:\n",
        "          ch = xyh[2] + abs(xyh[0] - x) + abs(xyh[1] - y)\n",
        "          if ch <= max(ch_list): ch_list.append(ch)\n",
        "    \n",
        "    if len(set(ch_list)) == 1:\n",
        "      ans_list = [x, y, set(ch_list).pop()]\n",
        "      break\n",
        "\n",
        "ans = ' '.join(map(str, ans_list))\n",
        "print(ans)"
      ],
      "execution_count": null,
      "outputs": [
        {
          "output_type": "stream",
          "text": [
            "3\n",
            "99 1 191\n",
            "100 1 192\n",
            "99 0 193\n",
            "100 0 193\n"
          ],
          "name": "stdout"
        }
      ]
    },
    {
      "cell_type": "markdown",
      "metadata": {
        "id": "3Gi20zmQxT8_"
      },
      "source": [
        "## D - Partition"
      ]
    },
    {
      "cell_type": "code",
      "metadata": {
        "colab": {
          "base_uri": "https://localhost:8080/"
        },
        "id": "-dC4HwTHs9LA",
        "outputId": "c7caaaaf-d22d-4d39-8be4-9b12cb4f6c9a"
      },
      "source": [
        "n, m = map(int, input().split())\n",
        "\n",
        "ans = 1\n",
        "\n",
        "for i in range(m // n, 0, -1):\n",
        "  if m % i == 0:\n",
        "    ans = i\n",
        "    break\n",
        "\n",
        "print(ans)"
      ],
      "execution_count": null,
      "outputs": [
        {
          "output_type": "stream",
          "text": [
            "100000 1000000000\n",
            "10000\n"
          ],
          "name": "stdout"
        }
      ]
    }
  ]
}