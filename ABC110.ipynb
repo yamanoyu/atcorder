{
  "nbformat": 4,
  "nbformat_minor": 0,
  "metadata": {
    "colab": {
      "name": "ABC110.ipynb",
      "provenance": [],
      "collapsed_sections": [],
      "authorship_tag": "ABX9TyOF44t8U458rmKXsiSBb86l",
      "include_colab_link": true
    },
    "kernelspec": {
      "name": "python3",
      "display_name": "Python 3"
    }
  },
  "cells": [
    {
      "cell_type": "markdown",
      "metadata": {
        "id": "view-in-github",
        "colab_type": "text"
      },
      "source": [
        "<a href=\"https://colab.research.google.com/github/yamanoyu/atcorder/blob/master/ABC110.ipynb\" target=\"_parent\"><img src=\"https://colab.research.google.com/assets/colab-badge.svg\" alt=\"Open In Colab\"/></a>"
      ]
    },
    {
      "cell_type": "markdown",
      "metadata": {
        "id": "5mUM8MPrUDkf"
      },
      "source": [
        "## A - Maximize the Formula"
      ]
    },
    {
      "cell_type": "code",
      "metadata": {
        "colab": {
          "base_uri": "https://localhost:8080/"
        },
        "id": "AFVeBGw9T6G4",
        "outputId": "cb8ffaef-a110-4db0-a701-c7fa4979f672"
      },
      "source": [
        "abc_list = list(input().split())\n",
        "abc_list.sort()\n",
        "ans = int(abc_list[2] + abc_list[1]) + int(abc_list[0])\n",
        "print(ans)"
      ],
      "execution_count": 1,
      "outputs": [
        {
          "output_type": "stream",
          "text": [
            "1 5 2\n",
            "53\n"
          ],
          "name": "stdout"
        }
      ]
    },
    {
      "cell_type": "markdown",
      "metadata": {
        "id": "ClVDYbYnUmv4"
      },
      "source": [
        "## B - 1 Dimensional World's Tale"
      ]
    },
    {
      "cell_type": "code",
      "metadata": {
        "colab": {
          "base_uri": "https://localhost:8080/"
        },
        "id": "06naHsJKUEf4",
        "outputId": "6af9a6ae-735a-44fd-c182-fabd06bc1b9b"
      },
      "source": [
        "n, m, x, y = map(int, input().split())\n",
        "x_list = list(map(int, input().split()))\n",
        "y_list = list(map(int, input().split()))\n",
        "\n",
        "x_list.sort()\n",
        "y_list.sort()\n",
        "\n",
        "ans = 'No War' if max(x_list[-1], x) < min(y_list[0], y) else 'War'\n",
        "\n",
        "print(ans)"
      ],
      "execution_count": 2,
      "outputs": [
        {
          "output_type": "stream",
          "text": [
            "3 2 10 20\n",
            "8 15 13\n",
            "16 22\n",
            "No War\n"
          ],
          "name": "stdout"
        }
      ]
    },
    {
      "cell_type": "markdown",
      "metadata": {
        "id": "iwe-P30XVgPy"
      },
      "source": [
        "## C - String Transformation"
      ]
    },
    {
      "cell_type": "code",
      "metadata": {
        "colab": {
          "base_uri": "https://localhost:8080/"
        },
        "id": "WPExypUWVZjU",
        "outputId": "32947dd4-7e6c-4c38-e498-c0082ec200b9"
      },
      "source": [
        "from collections import defaultdict\n",
        "\n",
        "s = input()\n",
        "t = input()\n",
        "\n",
        "s_dict = defaultdict(int)\n",
        "t_dict = defaultdict(int)\n",
        "\n",
        "for s_w in s:\n",
        "  s_dict[s_w] += 1\n",
        "\n",
        "for t_w in t:\n",
        "  t_dict[t_w] += 1\n",
        "\n",
        "s_dict_sort = sorted(s_dict.items(), key=lambda x: x[1])\n",
        "t_dict_sort = sorted(t_dict.items(), key=lambda x: x[1])\n",
        "\n",
        "ans = 'Yes'\n",
        "\n",
        "for s, t in zip(s_dict_sort, t_dict_sort):\n",
        "  if s[1] != t[1]:\n",
        "    ans = 'No'\n",
        "    break\n",
        "\n",
        "print(ans)"
      ],
      "execution_count": 12,
      "outputs": [
        {
          "output_type": "stream",
          "text": [
            "azzel\n",
            "apple\n",
            "('a', 1) ('a', 1)\n",
            "('e', 1) ('l', 1)\n",
            "('l', 1) ('e', 1)\n",
            "('z', 2) ('p', 2)\n",
            "Yes\n"
          ],
          "name": "stdout"
        }
      ]
    },
    {
      "cell_type": "markdown",
      "metadata": {
        "id": "WtSZeGBvYzv9"
      },
      "source": [
        "## D - Factorization"
      ]
    },
    {
      "cell_type": "code",
      "metadata": {
        "id": "HyssbeRjWrBr"
      },
      "source": [
        ""
      ],
      "execution_count": null,
      "outputs": []
    }
  ]
}