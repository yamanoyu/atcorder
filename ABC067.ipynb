{
  "nbformat": 4,
  "nbformat_minor": 0,
  "metadata": {
    "colab": {
      "name": "ABC067.ipynb",
      "provenance": [],
      "authorship_tag": "ABX9TyOI7LM5xTza1iyY/KI3tjKi",
      "include_colab_link": true
    },
    "kernelspec": {
      "name": "python3",
      "display_name": "Python 3"
    }
  },
  "cells": [
    {
      "cell_type": "markdown",
      "metadata": {
        "id": "view-in-github",
        "colab_type": "text"
      },
      "source": [
        "<a href=\"https://colab.research.google.com/github/yamanoyu/atcorder/blob/master/ABC067.ipynb\" target=\"_parent\"><img src=\"https://colab.research.google.com/assets/colab-badge.svg\" alt=\"Open In Colab\"/></a>"
      ]
    },
    {
      "cell_type": "markdown",
      "metadata": {
        "id": "Kclmi7ApXZa_"
      },
      "source": [
        "## A - Sharing Cookies"
      ]
    },
    {
      "cell_type": "code",
      "metadata": {
        "id": "AS68Hi3BXWzi"
      },
      "source": [
        "a, b = map(int, input().split())\n",
        "ans = 'Possible' if a % 3 ==0 or b % 3 ==0 or (a + b) % 3 ==0 else 'Impossible'\n",
        "print(ans)"
      ],
      "execution_count": null,
      "outputs": []
    },
    {
      "cell_type": "markdown",
      "metadata": {
        "id": "1JmsOjY2X12d"
      },
      "source": [
        "## B - Snake Toy"
      ]
    },
    {
      "cell_type": "code",
      "metadata": {
        "id": "4ECm9covXaXo",
        "outputId": "2d4d3785-e17e-4993-abfb-e26d2d868466",
        "colab": {
          "base_uri": "https://localhost:8080/"
        }
      },
      "source": [
        "n, k = map(int, input().split())\n",
        "l_list = list(map(int, input().split()))\n",
        "l_list.sort()\n",
        "ans = sum(l_list[-k:])\n",
        "print(ans)"
      ],
      "execution_count": 6,
      "outputs": [
        {
          "output_type": "stream",
          "text": [
            "15 14\n",
            "50 26 27 21 41 7 42 35 7 5 5 36 39 1 45\n",
            "386\n"
          ],
          "name": "stdout"
        }
      ]
    },
    {
      "cell_type": "markdown",
      "metadata": {
        "id": "kNjk7M4EY04n"
      },
      "source": [
        "## C - Splitting Pile"
      ]
    },
    {
      "cell_type": "code",
      "metadata": {
        "id": "BhBa4WQeYbs3",
        "outputId": "6509b804-1a73-4a6d-b905-f1f1383ee489",
        "colab": {
          "base_uri": "https://localhost:8080/"
        }
      },
      "source": [
        "n = int(input())\n",
        "a_list = list(map(int, input().split()))\n",
        "\n",
        "a_sum = sum(a_list)\n",
        "\n",
        "x = 0\n",
        "# diff_xy = 10 ** 18 + 7\n",
        "diff_xy = float('inf')\n",
        "\n",
        "for a in a_list[:-1]:\n",
        "  x += a\n",
        "  y = a_sum - x\n",
        "  diff_xy = min(diff_xy, abs(x - y))\n",
        "\n",
        "print(diff_xy)"
      ],
      "execution_count": 15,
      "outputs": [
        {
          "output_type": "stream",
          "text": [
            "2\n",
            "10000000000 -1000000000\n",
            "11000000000\n"
          ],
          "name": "stdout"
        }
      ]
    },
    {
      "cell_type": "markdown",
      "metadata": {
        "id": "sAZVr2O_ahTp"
      },
      "source": [
        "## D - Fennec VS. Snuke"
      ]
    },
    {
      "cell_type": "code",
      "metadata": {
        "id": "T1NKX2ZUYog9"
      },
      "source": [
        ""
      ],
      "execution_count": null,
      "outputs": []
    }
  ]
}