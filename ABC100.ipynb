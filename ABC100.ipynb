{
  "nbformat": 4,
  "nbformat_minor": 0,
  "metadata": {
    "colab": {
      "name": "ABC100.ipynb",
      "provenance": [],
      "collapsed_sections": [],
      "authorship_tag": "ABX9TyOgN6r7ZSRLv0yASaQOwi7B",
      "include_colab_link": true
    },
    "kernelspec": {
      "name": "python3",
      "display_name": "Python 3"
    }
  },
  "cells": [
    {
      "cell_type": "markdown",
      "metadata": {
        "id": "view-in-github",
        "colab_type": "text"
      },
      "source": [
        "<a href=\"https://colab.research.google.com/github/yamanoyu/atcorder/blob/master/ABC100.ipynb\" target=\"_parent\"><img src=\"https://colab.research.google.com/assets/colab-badge.svg\" alt=\"Open In Colab\"/></a>"
      ]
    },
    {
      "cell_type": "markdown",
      "metadata": {
        "id": "kstZGkcKcHil"
      },
      "source": [
        "## A - Happy Birthday!"
      ]
    },
    {
      "cell_type": "code",
      "metadata": {
        "colab": {
          "base_uri": "https://localhost:8080/"
        },
        "id": "uQC0rN3jcF4a",
        "outputId": "86b90e42-baff-4d29-81cc-8af2124ea759"
      },
      "source": [
        "a, b = map(int, input().split())\n",
        "ans = 'Yay!' if a <= 8 and b <= 8 else ':('\n",
        "print(ans)"
      ],
      "execution_count": 1,
      "outputs": [
        {
          "output_type": "stream",
          "text": [
            "8 8\n",
            "Yay!\n"
          ],
          "name": "stdout"
        }
      ]
    },
    {
      "cell_type": "markdown",
      "metadata": {
        "id": "r5OfR6IncjeY"
      },
      "source": [
        "## B - Ringo's Favorite Numbers"
      ]
    },
    {
      "cell_type": "code",
      "metadata": {
        "colab": {
          "base_uri": "https://localhost:8080/"
        },
        "id": "tQN1SZAJcH-9",
        "outputId": "b4e87d78-18cf-44d4-8e8b-82ea0d7431b7"
      },
      "source": [
        "d, n = map(int, input().split())\n",
        "ans = (100 ** d) * n if n != 100 else (100 ** d) * (n + 1)\n",
        "print(ans)"
      ],
      "execution_count": 8,
      "outputs": [
        {
          "output_type": "stream",
          "text": [
            "0  100\n",
            "100\n",
            "True\n"
          ],
          "name": "stdout"
        }
      ]
    },
    {
      "cell_type": "markdown",
      "metadata": {
        "id": "DDpOopF7fQrv"
      },
      "source": [
        "## C - *3 or /2"
      ]
    },
    {
      "cell_type": "code",
      "metadata": {
        "colab": {
          "base_uri": "https://localhost:8080/"
        },
        "id": "lktRORybdlS6",
        "outputId": "b58f85af-f2b8-4e8a-bb33-2a830f9003c5"
      },
      "source": [
        "n = int(input())\n",
        "a_list = list(map(int, input().split()))\n",
        "\n",
        "ans = 0\n",
        "\n",
        "while a_list:\n",
        "  a_list = [a // 2 for a in a_list if a % 2 == 0]\n",
        "  ans += len(a_list)\n",
        "  \n",
        "print(ans)"
      ],
      "execution_count": 13,
      "outputs": [
        {
          "output_type": "stream",
          "text": [
            "10\n",
            "2184 2126 1721 1800 1024 2528 3360 1945 1280 1776\n",
            "39\n"
          ],
          "name": "stdout"
        }
      ]
    },
    {
      "cell_type": "markdown",
      "metadata": {
        "id": "X_PanvuYlL0G"
      },
      "source": [
        "## D - Patisserie ABC"
      ]
    },
    {
      "cell_type": "code",
      "metadata": {
        "colab": {
          "base_uri": "https://localhost:8080/"
        },
        "id": "b75Gvw5xkOgQ",
        "outputId": "9c6c71ab-3f27-44fa-ef46-9eb7d41f5d1c"
      },
      "source": [
        "n, m = map(int, input().split())\n",
        "xyz_list = []\n",
        "xy_list = []\n",
        "xz_list = []\n",
        "yz_list = []\n",
        "x_list = []\n",
        "y_list = []\n",
        "z_list = []\n",
        "minus_list = []\n",
        "\n",
        "\n",
        "for _ in range(n):\n",
        "  x, y, z = map(int, input().split())\n",
        "  xyz_list.append(x + y + z)\n",
        "  xy_list.append(x + y - z)\n",
        "  xz_list.append(x - y + z)\n",
        "  yz_list.append(- x + y + z)\n",
        "  x_list.append(x - y - z)\n",
        "  y_list.append(- x + y - z)\n",
        "  z_list.append(- x - y + z)\n",
        "  minus_list.append(- x - y - z)\n",
        "\n",
        "xyz_list.sort(reverse=True)\n",
        "xy_list.sort(reverse=True)\n",
        "xz_list.sort(reverse=True)\n",
        "yz_list.sort(reverse=True)\n",
        "x_list.sort(reverse=True)\n",
        "y_list.sort(reverse=True)\n",
        "z_list.sort(reverse=True)\n",
        "minus_list.sort(reverse=True)\n",
        "\n",
        "ans = max(sum(xyz_list[:m]), sum(xy_list[:m]), sum(xz_list[:m]), sum(yz_list[:m]), sum(x_list[:m]), sum(y_list[:m]), sum(z_list[:m]), sum(minus_list[:m]), )\n",
        "print(ans)"
      ],
      "execution_count": 20,
      "outputs": [
        {
          "output_type": "stream",
          "text": [
            "5 3\n",
            "3 1 4\n",
            "1 5 9\n",
            "2 6 5\n",
            "3 5 8\n",
            "9 7 9\n",
            "56\n"
          ],
          "name": "stdout"
        }
      ]
    }
  ]
}