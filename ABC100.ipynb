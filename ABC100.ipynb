{
  "nbformat": 4,
  "nbformat_minor": 0,
  "metadata": {
    "colab": {
      "name": "ABC100.ipynb",
      "provenance": [],
      "collapsed_sections": [],
      "authorship_tag": "ABX9TyMe+HZ+n8P/jghJmqR9VxLs",
      "include_colab_link": true
    },
    "kernelspec": {
      "name": "python3",
      "display_name": "Python 3"
    }
  },
  "cells": [
    {
      "cell_type": "markdown",
      "metadata": {
        "id": "view-in-github",
        "colab_type": "text"
      },
      "source": [
        "<a href=\"https://colab.research.google.com/github/yamanoyu/atcorder/blob/master/ABC100.ipynb\" target=\"_parent\"><img src=\"https://colab.research.google.com/assets/colab-badge.svg\" alt=\"Open In Colab\"/></a>"
      ]
    },
    {
      "cell_type": "markdown",
      "metadata": {
        "id": "kstZGkcKcHil"
      },
      "source": [
        "## A - Happy Birthday!"
      ]
    },
    {
      "cell_type": "code",
      "metadata": {
        "colab": {
          "base_uri": "https://localhost:8080/"
        },
        "id": "uQC0rN3jcF4a",
        "outputId": "86b90e42-baff-4d29-81cc-8af2124ea759"
      },
      "source": [
        "a, b = map(int, input().split())\n",
        "ans = 'Yay!' if a <= 8 and b <= 8 else ':('\n",
        "print(ans)"
      ],
      "execution_count": 1,
      "outputs": [
        {
          "output_type": "stream",
          "text": [
            "8 8\n",
            "Yay!\n"
          ],
          "name": "stdout"
        }
      ]
    },
    {
      "cell_type": "markdown",
      "metadata": {
        "id": "r5OfR6IncjeY"
      },
      "source": [
        "## B - Ringo's Favorite Numbers"
      ]
    },
    {
      "cell_type": "code",
      "metadata": {
        "colab": {
          "base_uri": "https://localhost:8080/"
        },
        "id": "tQN1SZAJcH-9",
        "outputId": "b4e87d78-18cf-44d4-8e8b-82ea0d7431b7"
      },
      "source": [
        "d, n = map(int, input().split())\n",
        "ans = (100 ** d) * n if n != 100 else (100 ** d) * (n + 1)\n",
        "print(ans)"
      ],
      "execution_count": 8,
      "outputs": [
        {
          "output_type": "stream",
          "text": [
            "0  100\n",
            "100\n",
            "True\n"
          ],
          "name": "stdout"
        }
      ]
    },
    {
      "cell_type": "markdown",
      "metadata": {
        "id": "DDpOopF7fQrv"
      },
      "source": [
        "## C - *3 or /2"
      ]
    },
    {
      "cell_type": "code",
      "metadata": {
        "colab": {
          "base_uri": "https://localhost:8080/"
        },
        "id": "lktRORybdlS6",
        "outputId": "b58f85af-f2b8-4e8a-bb33-2a830f9003c5"
      },
      "source": [
        "n = int(input())\n",
        "a_list = list(map(int, input().split()))\n",
        "\n",
        "ans = 0\n",
        "\n",
        "while a_list:\n",
        "  a_list = [a // 2 for a in a_list if a % 2 == 0]\n",
        "  ans += len(a_list)\n",
        "  \n",
        "print(ans)"
      ],
      "execution_count": 13,
      "outputs": [
        {
          "output_type": "stream",
          "text": [
            "10\n",
            "2184 2126 1721 1800 1024 2528 3360 1945 1280 1776\n",
            "39\n"
          ],
          "name": "stdout"
        }
      ]
    },
    {
      "cell_type": "markdown",
      "metadata": {
        "id": "X_PanvuYlL0G"
      },
      "source": [
        "## D - Patisserie ABC"
      ]
    },
    {
      "cell_type": "code",
      "metadata": {
        "id": "b75Gvw5xkOgQ"
      },
      "source": [
        ""
      ],
      "execution_count": null,
      "outputs": []
    }
  ]
}