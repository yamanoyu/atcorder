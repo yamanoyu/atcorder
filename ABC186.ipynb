{
  "nbformat": 4,
  "nbformat_minor": 0,
  "metadata": {
    "colab": {
      "name": "ABC186.ipynb",
      "provenance": [],
      "collapsed_sections": [],
      "authorship_tag": "ABX9TyM5aOlKt5Ltj18ca3+NnKEj",
      "include_colab_link": true
    },
    "kernelspec": {
      "name": "python3",
      "display_name": "Python 3"
    }
  },
  "cells": [
    {
      "cell_type": "markdown",
      "metadata": {
        "id": "view-in-github",
        "colab_type": "text"
      },
      "source": [
        "<a href=\"https://colab.research.google.com/github/yamanoyu/atcorder/blob/master/ABC186.ipynb\" target=\"_parent\"><img src=\"https://colab.research.google.com/assets/colab-badge.svg\" alt=\"Open In Colab\"/></a>"
      ]
    },
    {
      "cell_type": "markdown",
      "metadata": {
        "id": "afJdgh6Qryky"
      },
      "source": [
        "## A - Brick"
      ]
    },
    {
      "cell_type": "code",
      "metadata": {
        "colab": {
          "base_uri": "https://localhost:8080/"
        },
        "id": "MA7x_pI9rwEW",
        "outputId": "eb31ead4-3411-4c9d-e330-5f49e29c312d"
      },
      "source": [
        "n, w = map(int, input().split())\n",
        "ans = n // w\n",
        "print(ans)"
      ],
      "execution_count": 2,
      "outputs": [
        {
          "output_type": "stream",
          "text": [
            "10 3\n",
            "3\n"
          ],
          "name": "stdout"
        }
      ]
    },
    {
      "cell_type": "markdown",
      "metadata": {
        "id": "FmeEOm_638Rd"
      },
      "source": [
        "## B - Blocks on Grid"
      ]
    },
    {
      "cell_type": "code",
      "metadata": {
        "colab": {
          "base_uri": "https://localhost:8080/"
        },
        "id": "gV6WWkb9rzSl",
        "outputId": "919bd8e6-fd56-430f-b352-82437f4242dc"
      },
      "source": [
        "h, w = map(int, input().split())\n",
        "a_min = 101\n",
        "a_list = [list(map(int, input().split())) for _ in range(h)]\n",
        "for a in a_list:\n",
        "  a_min = min(a_min, min(a))\n",
        "\n",
        "ans = 0\n",
        "for a in a_list:\n",
        "  ans += (sum(a) - a_min * w)\n",
        "print(ans)"
      ],
      "execution_count": 47,
      "outputs": [
        {
          "output_type": "stream",
          "text": [
            "2 3\n",
            "2 2 3\n",
            "3 2 2\n",
            "2\n"
          ],
          "name": "stdout"
        }
      ]
    },
    {
      "cell_type": "markdown",
      "metadata": {
        "id": "_m3_efm84oAU"
      },
      "source": [
        "## C - Unlucky 7"
      ]
    },
    {
      "cell_type": "code",
      "metadata": {
        "colab": {
          "base_uri": "https://localhost:8080/"
        },
        "id": "Vuw-OxPA4C3D",
        "outputId": "cf4f4952-c626-4d8a-de4c-fdd447735665"
      },
      "source": [
        "n = int(input())\n",
        "\n",
        "ans = n\n",
        "\n",
        "for i in range(1, n + 1):\n",
        "  if '7' in str(i) or '7' in str(oct(i)):\n",
        "    ans -= 1\n",
        "print(ans)"
      ],
      "execution_count": 12,
      "outputs": [
        {
          "output_type": "stream",
          "text": [
            "20\n",
            "17\n"
          ],
          "name": "stdout"
        }
      ]
    },
    {
      "cell_type": "markdown",
      "metadata": {
        "id": "I6IMmHYY5VaI"
      },
      "source": [
        "## D - Sum of difference"
      ]
    },
    {
      "cell_type": "code",
      "metadata": {
        "colab": {
          "base_uri": "https://localhost:8080/"
        },
        "id": "_XOtVEJ280cj",
        "outputId": "99898edd-fca4-4c50-ff06-510484a02de6"
      },
      "source": [
        "n = int(input())\n",
        "a_list = list(map(int, input().split()))\n",
        "a_list.sort()\n",
        "\n",
        "sigma = a_list[0] + (n - 1) * a_list[n-1]\n",
        "for i in range(1, n - 1):\n",
        "  sigma += (2 * i + 1) * a_list[i]\n",
        "\n",
        "ans = sigma - n * sum(a_list[:-1])\n",
        "print(ans)"
      ],
      "execution_count": 46,
      "outputs": [
        {
          "output_type": "stream",
          "text": [
            "3\n",
            "5 1 2\n",
            "8\n"
          ],
          "name": "stdout"
        }
      ]
    },
    {
      "cell_type": "markdown",
      "metadata": {
        "id": "NsAFHcn2CVlQ"
      },
      "source": [
        "## E - Throne"
      ]
    },
    {
      "cell_type": "code",
      "metadata": {
        "id": "35GGwEH-A8KD"
      },
      "source": [
        "t = int(input())\n",
        "\n",
        "for _ in range(t):\n",
        "  n, s, k = map(int, input().split())\n",
        "  "
      ],
      "execution_count": null,
      "outputs": []
    }
  ]
}