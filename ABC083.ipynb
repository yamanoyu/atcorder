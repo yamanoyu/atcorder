{
  "nbformat": 4,
  "nbformat_minor": 0,
  "metadata": {
    "colab": {
      "name": "ABC083.ipynb",
      "provenance": [],
      "collapsed_sections": [],
      "authorship_tag": "ABX9TyNCkAr7dqjvtW5SIqcWH1BC",
      "include_colab_link": true
    },
    "kernelspec": {
      "name": "python3",
      "display_name": "Python 3"
    }
  },
  "cells": [
    {
      "cell_type": "markdown",
      "metadata": {
        "id": "view-in-github",
        "colab_type": "text"
      },
      "source": [
        "<a href=\"https://colab.research.google.com/github/yamanoyu/atcorder/blob/master/ABC083.ipynb\" target=\"_parent\"><img src=\"https://colab.research.google.com/assets/colab-badge.svg\" alt=\"Open In Colab\"/></a>"
      ]
    },
    {
      "cell_type": "markdown",
      "metadata": {
        "id": "L8iXDqLEv9qf"
      },
      "source": [
        "## A - Libra"
      ]
    },
    {
      "cell_type": "code",
      "metadata": {
        "colab": {
          "base_uri": "https://localhost:8080/"
        },
        "id": "qFGH44eYwDlB",
        "outputId": "12ea4f63-18cb-46dc-fd25-98e3b0d294ef"
      },
      "source": [
        "a, b, c, d = map(int, input().split())\n",
        "if a + b > c + d:\n",
        "  ans = 'Left'\n",
        "elif a + b < c + d:\n",
        "  ans = 'Right'\n",
        "else:\n",
        "  ans = 'Balanced'\n",
        "print(ans)"
      ],
      "execution_count": 3,
      "outputs": [
        {
          "output_type": "stream",
          "text": [
            "1 2 3 4\n",
            "Right\n"
          ],
          "name": "stdout"
        }
      ]
    },
    {
      "cell_type": "markdown",
      "metadata": {
        "id": "jvD8acM3wqHQ"
      },
      "source": [
        "## B - Some Sums"
      ]
    },
    {
      "cell_type": "code",
      "metadata": {
        "colab": {
          "base_uri": "https://localhost:8080/"
        },
        "id": "xpu9q8Tzv-L1",
        "outputId": "034d9f84-1715-4ca2-9a9a-69d29ba6c09a"
      },
      "source": [
        "n, a, b = map(int, input().split())\n",
        "ans = 0\n",
        "for i in range(1, n+1):\n",
        "  n_sum = sum(list(map(int, list(str(i)))))\n",
        "  if a <= n_sum and n_sum <= b: ans += i\n",
        "print(ans)"
      ],
      "execution_count": 7,
      "outputs": [
        {
          "output_type": "stream",
          "text": [
            "20 2 5\n",
            "84\n"
          ],
          "name": "stdout"
        }
      ]
    },
    {
      "cell_type": "markdown",
      "metadata": {
        "id": "EgrcZsC0xzdb"
      },
      "source": [
        "## C - Multiple Gift"
      ]
    },
    {
      "cell_type": "code",
      "metadata": {
        "colab": {
          "base_uri": "https://localhost:8080/"
        },
        "id": "rp4vKeglxN4Q",
        "outputId": "dd34adf5-f70c-477f-c5b2-ded7b63fc748"
      },
      "source": [
        "x, y = map(int, input().split())\n",
        "ans = 1\n",
        "while x * (2 ** ans) <= y:\n",
        "  ans += 1\n",
        "print(ans)"
      ],
      "execution_count": 18,
      "outputs": [
        {
          "output_type": "stream",
          "text": [
            "25 100\n",
            "3\n"
          ],
          "name": "stdout"
        }
      ]
    },
    {
      "cell_type": "markdown",
      "metadata": {
        "id": "EjDigrZ3zVXA"
      },
      "source": [
        "## D - Wide Flip"
      ]
    },
    {
      "cell_type": "code",
      "metadata": {
        "colab": {
          "base_uri": "https://localhost:8080/"
        },
        "id": "5GyJP2D1ym1_",
        "outputId": "f63453e0-9bf8-486b-a03e-700386341b63"
      },
      "source": [
        "s_list = list(input())\n",
        "\n",
        "ans = len(s_list)\n",
        "\n",
        "if len(set(s_list)) == 1:\n",
        "  pass\n",
        "else:\n",
        "  for i, s in enumerate(s_list):\n",
        "    if i > 0:\n",
        "      if s_list[i] != s_list[i - 1]: ans = min(ans, max(i, len(s_list) - i))\n",
        "\n",
        "print(ans)"
      ],
      "execution_count": 21,
      "outputs": [
        {
          "output_type": "stream",
          "text": [
            "111\n",
            "3\n"
          ],
          "name": "stdout"
        }
      ]
    }
  ]
}