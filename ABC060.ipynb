{
  "nbformat": 4,
  "nbformat_minor": 0,
  "metadata": {
    "colab": {
      "name": "ABC060.ipynb",
      "provenance": [],
      "collapsed_sections": [],
      "authorship_tag": "ABX9TyNiA8GBZZyqxpBPDGRKezi3",
      "include_colab_link": true
    },
    "kernelspec": {
      "name": "python3",
      "display_name": "Python 3"
    }
  },
  "cells": [
    {
      "cell_type": "markdown",
      "metadata": {
        "id": "view-in-github",
        "colab_type": "text"
      },
      "source": [
        "<a href=\"https://colab.research.google.com/github/yamanoyu/atcorder/blob/master/ABC060.ipynb\" target=\"_parent\"><img src=\"https://colab.research.google.com/assets/colab-badge.svg\" alt=\"Open In Colab\"/></a>"
      ]
    },
    {
      "cell_type": "markdown",
      "metadata": {
        "id": "qzLVrgT5ScPA"
      },
      "source": [
        "## A - Shiritori"
      ]
    },
    {
      "cell_type": "code",
      "metadata": {
        "id": "L_GhpaCNSbbK",
        "outputId": "224eb681-8aa3-49e3-d21f-9a5909c6a06f",
        "colab": {
          "base_uri": "https://localhost:8080/"
        }
      },
      "source": [
        "a, b, c = input().split()\n",
        "ans = 'YES' if a[-1] == b[0] and b[-1] == c[0] else 'NO'\n",
        "print(ans)"
      ],
      "execution_count": 1,
      "outputs": [
        {
          "output_type": "stream",
          "text": [
            "rng gorilla apple\n",
            "YES\n"
          ],
          "name": "stdout"
        }
      ]
    },
    {
      "cell_type": "markdown",
      "metadata": {
        "id": "rVFDT0-BTToo"
      },
      "source": [
        "## B - Choose Integers"
      ]
    },
    {
      "cell_type": "code",
      "metadata": {
        "id": "REFXXxueTAre",
        "outputId": "9d81f37d-eaaf-42fb-eb1a-16faf60c6140",
        "colab": {
          "base_uri": "https://localhost:8080/"
        }
      },
      "source": [
        "a, b, c = map(int, input().split())\n",
        "ans = 'NO'\n",
        "\n",
        "for i in range(1, b+1):\n",
        "  if (i * a) % b == c:\n",
        "    ans = 'YES'\n",
        "    break\n",
        "    \n",
        "print(ans)"
      ],
      "execution_count": 4,
      "outputs": [
        {
          "output_type": "stream",
          "text": [
            "2 2 1\n",
            "NO\n"
          ],
          "name": "stdout"
        }
      ]
    },
    {
      "cell_type": "markdown",
      "metadata": {
        "id": "GZu5aRXGXdAO"
      },
      "source": [
        "## C - Sentou"
      ]
    },
    {
      "cell_type": "code",
      "metadata": {
        "id": "-ZqK4DC-WOzP",
        "outputId": "ba95ef2a-8bb1-4bca-a1b0-ef58b9a3961c",
        "colab": {
          "base_uri": "https://localhost:8080/"
        }
      },
      "source": [
        "n, t = map(int, input().split())\n",
        "t_list = list(map(int, input().split()))\n",
        "\n",
        "ans = 0\n",
        "start_time = 0\n",
        "end_time = t\n",
        "\n",
        "for i in range(1, len(t_list)):\n",
        "  if t_list[i] <= end_time:\n",
        "    end_time = t_list[i] + t\n",
        "  else:\n",
        "    ans += end_time - start_time\n",
        "    start_time = t_list[i]\n",
        "    end_time = start_time + t\n",
        "\n",
        "ans += end_time - start_time\n",
        "\n",
        "print(ans)"
      ],
      "execution_count": 9,
      "outputs": [
        {
          "output_type": "stream",
          "text": [
            "9 10\n",
            "0 3 5 7 100 110 200 300 311\n",
            "67\n"
          ],
          "name": "stdout"
        }
      ]
    },
    {
      "cell_type": "markdown",
      "metadata": {
        "id": "g8__fdhma_MW"
      },
      "source": [
        "## D - Simple Knapsack"
      ]
    },
    {
      "cell_type": "code",
      "metadata": {
        "id": "WkNMA2NeY5Bf",
        "outputId": "bd802ac2-f1ce-488f-815b-61af2629bd81",
        "colab": {
          "base_uri": "https://localhost:8080/"
        }
      },
      "source": [
        "from collections import defaultdict\n",
        "\n",
        "n, w = map(int, input().split())\n",
        "wv_list = [list(map(int, input().split())) for _ in range(n)]\n",
        "\n",
        "value_per_weight = defaultdict(int)\n",
        "value_per_weight[0] = 0\n",
        "\n",
        "for wv in wv_list:\n",
        "  _value_per_weight = value_per_weight.copy()\n",
        "  for key, val in _value_per_weight.items():\n",
        "    if wv[0] + key <= w:\n",
        "      value_per_weight[wv[0] + key] = max(value_per_weight[wv[0] + key], wv[1] + val)\n",
        "\n",
        "ans = max(value_per_weight.values())\n",
        "print(ans)"
      ],
      "execution_count": 14,
      "outputs": [
        {
          "output_type": "stream",
          "text": [
            "4 6\n",
            "2 1\n",
            "3 4\n",
            "4 10\n",
            "3 4\n",
            "11\n"
          ],
          "name": "stdout"
        }
      ]
    }
  ]
}