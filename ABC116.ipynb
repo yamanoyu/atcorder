{
  "nbformat": 4,
  "nbformat_minor": 0,
  "metadata": {
    "colab": {
      "name": "ABC116.ipynb",
      "provenance": [],
      "collapsed_sections": [],
      "authorship_tag": "ABX9TyNXDVfCYXwu73wNKOxCECKp",
      "include_colab_link": true
    },
    "kernelspec": {
      "name": "python3",
      "display_name": "Python 3"
    }
  },
  "cells": [
    {
      "cell_type": "markdown",
      "metadata": {
        "id": "view-in-github",
        "colab_type": "text"
      },
      "source": [
        "<a href=\"https://colab.research.google.com/github/yamanoyu/atcorder/blob/master/ABC116.ipynb\" target=\"_parent\"><img src=\"https://colab.research.google.com/assets/colab-badge.svg\" alt=\"Open In Colab\"/></a>"
      ]
    },
    {
      "cell_type": "markdown",
      "metadata": {
        "id": "sIZTMKdvkidp"
      },
      "source": [
        "## A - Right Triangle"
      ]
    },
    {
      "cell_type": "code",
      "metadata": {
        "colab": {
          "base_uri": "https://localhost:8080/"
        },
        "id": "J1GGNwb1kZXW",
        "outputId": "d821eefc-0644-4471-c526-cd65594136c5"
      },
      "source": [
        "ab, bc , ca = map(int, input().split())\n",
        "ans = (ab * bc) // 2\n",
        "print(ans)"
      ],
      "execution_count": null,
      "outputs": [
        {
          "output_type": "stream",
          "text": [
            "3 4 5\n",
            "6\n"
          ],
          "name": "stdout"
        }
      ]
    },
    {
      "cell_type": "markdown",
      "metadata": {
        "id": "b_QT_gnqk5mb"
      },
      "source": [
        "## B - Collatz Problem"
      ]
    },
    {
      "cell_type": "code",
      "metadata": {
        "colab": {
          "base_uri": "https://localhost:8080/"
        },
        "id": "dDgy6dJFkkVs",
        "outputId": "d888940d-cf3a-452f-e903-9b25215a13f1"
      },
      "source": [
        "s = int(input())\n",
        "\n",
        "ans_list = [s]\n",
        "ans = 1\n",
        "\n",
        "while True:\n",
        "  if ans_list[-1] % 2 == 0:\n",
        "    _ans = ans_list[-1] // 2\n",
        "  else:\n",
        "    _ans = (ans_list[-1]) * 3 + 1\n",
        "  ans += 1\n",
        "\n",
        "  if _ans in ans_list:\n",
        "    break\n",
        "  else:\n",
        "    ans_list.append(_ans)\n",
        "\n",
        "print(ans)"
      ],
      "execution_count": null,
      "outputs": [
        {
          "output_type": "stream",
          "text": [
            "54\n",
            "114\n"
          ],
          "name": "stdout"
        }
      ]
    },
    {
      "cell_type": "markdown",
      "metadata": {
        "id": "4N4ZLXbIpwDb"
      },
      "source": [
        "## C - Grand Garden"
      ]
    },
    {
      "cell_type": "code",
      "metadata": {
        "colab": {
          "base_uri": "https://localhost:8080/"
        },
        "id": "hOFp6HnVmIfa",
        "outputId": "85c9e691-731c-4bdc-dc9e-b0967225905d"
      },
      "source": [
        "n = int(input())\n",
        "h_list = list(map(int, input().split()))\n",
        "init_list = [0] * n\n",
        "\n",
        "ans = 0\n",
        "\n",
        "while h_list != [0] * len(h_list):\n",
        "  _i = 0\n",
        "  if h_list.count(0) == 0:\n",
        "    water = min(h_list)\n",
        "    h_list = [h - water for h in h_list]\n",
        "    ans += water\n",
        "  else:\n",
        "    for i, h in enumerate(h_list):\n",
        "      if h == 0:\n",
        "        if _i != i:\n",
        "          water = min(h_list[_i:i])\n",
        "          h_list[_i:i] = [h - water for h in h_list[_i:i]]\n",
        "          ans += water\n",
        "          _i = i\n",
        "        else:\n",
        "          _i = i + 1\n",
        "    \n",
        "    zs = 0\n",
        "    for i, h in enumerate(h_list):\n",
        "      if h == 0:\n",
        "        zs += 1\n",
        "      else:\n",
        "        h_list = h_list[i:]\n",
        "        break\n",
        "\n",
        "print(ans)"
      ],
      "execution_count": 11,
      "outputs": [
        {
          "output_type": "stream",
          "text": [
            "8\n",
            "4 23 75 0 23 96 50 100\n",
            "221\n"
          ],
          "name": "stdout"
        }
      ]
    },
    {
      "cell_type": "code",
      "metadata": {
        "colab": {
          "base_uri": "https://localhost:8080/"
        },
        "id": "y9jUZ8xgObqB",
        "outputId": "bdb6cca1-63bc-4802-b8ae-b24c039f8e7b"
      },
      "source": [
        "n = int(input())\n",
        "h_list = list(map(int, input().split()))\n",
        "ans = 0\n",
        "j = 0\n",
        "for i in h_list:\n",
        "  ans += max(i - j,0)\n",
        "  j = i\n",
        "print(ans)"
      ],
      "execution_count": 21,
      "outputs": [
        {
          "output_type": "stream",
          "text": [
            "8\n",
            "4 23 75 0 23 96 50 100\n",
            "221\n"
          ],
          "name": "stdout"
        }
      ]
    },
    {
      "cell_type": "markdown",
      "metadata": {
        "id": "gLF3cIbDMXhJ"
      },
      "source": [
        "## D - Various Sushi"
      ]
    },
    {
      "cell_type": "code",
      "metadata": {
        "id": "PrcYdvRcr0nM"
      },
      "source": [
        "from collections import defaultdict\n",
        "\n",
        "\n",
        "n, k = map(int, input().split())\n",
        "\n",
        "td_dict = defaultdict(int)\n",
        "\n",
        "for _ in range(n):\n",
        "  t, d = map(int, input().split())\n",
        "  td_dict[t] = d"
      ],
      "execution_count": null,
      "outputs": []
    }
  ]
}