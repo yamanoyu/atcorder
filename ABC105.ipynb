{
  "nbformat": 4,
  "nbformat_minor": 0,
  "metadata": {
    "colab": {
      "name": "ABC105.ipynb",
      "provenance": [],
      "collapsed_sections": [],
      "authorship_tag": "ABX9TyPjgXWQTVOb0uhxK5aCWFY1",
      "include_colab_link": true
    },
    "kernelspec": {
      "name": "python3",
      "display_name": "Python 3"
    }
  },
  "cells": [
    {
      "cell_type": "markdown",
      "metadata": {
        "id": "view-in-github",
        "colab_type": "text"
      },
      "source": [
        "<a href=\"https://colab.research.google.com/github/yamanoyu/atcorder/blob/master/ABC105.ipynb\" target=\"_parent\"><img src=\"https://colab.research.google.com/assets/colab-badge.svg\" alt=\"Open In Colab\"/></a>"
      ]
    },
    {
      "cell_type": "markdown",
      "metadata": {
        "id": "nvCw2n8vFH75"
      },
      "source": [
        "## A - AtCoder Crackers"
      ]
    },
    {
      "cell_type": "code",
      "metadata": {
        "colab": {
          "base_uri": "https://localhost:8080/"
        },
        "id": "ePN8TW8eFLOa",
        "outputId": "8d17bbb3-27a0-4d6e-f9fb-931197fd764f"
      },
      "source": [
        "n, k = map(int, input().split())\n",
        "ans = n % k\n",
        "print(ans)"
      ],
      "execution_count": 2,
      "outputs": [
        {
          "output_type": "stream",
          "text": [
            "100 10\n",
            "0\n"
          ],
          "name": "stdout"
        }
      ]
    },
    {
      "cell_type": "markdown",
      "metadata": {
        "id": "H1T80xYwFiwC"
      },
      "source": [
        "## B - Cakes and Donuts"
      ]
    },
    {
      "cell_type": "code",
      "metadata": {
        "colab": {
          "base_uri": "https://localhost:8080/"
        },
        "id": "qczwnQAeE_5n",
        "outputId": "1d6b6c4e-6d46-46e4-f80c-444a3812db6e"
      },
      "source": [
        "n = int(input())\n",
        "\n",
        "ans_list = []\n",
        "\n",
        "for i in range(26):\n",
        "  for j in range(15):\n",
        "    ans_list.append(7 * j  + 4 * i)\n",
        "\n",
        "ans = 'Yes' if n in ans_list else 'No'\n",
        "print(ans)"
      ],
      "execution_count": 5,
      "outputs": [
        {
          "output_type": "stream",
          "text": [
            "3\n",
            "No\n"
          ],
          "name": "stdout"
        }
      ]
    },
    {
      "cell_type": "markdown",
      "metadata": {
        "id": "88YTOxQqGiwM"
      },
      "source": [
        "## C - Base -2 Number"
      ]
    },
    {
      "cell_type": "code",
      "metadata": {
        "colab": {
          "base_uri": "https://localhost:8080/"
        },
        "id": "-shiAEd5FJjc",
        "outputId": "ec000f65-8f9a-4a88-83c5-fe88ef75c4ab"
      },
      "source": [
        "n = int(input())\n",
        "i = 1\n",
        "ans_list = []\n",
        "while n != 0:\n",
        "  if n % 2 ** i == 0:\n",
        "    ans_list.append('0')\n",
        "  else:\n",
        "    ans_list.append('1')\n",
        "    n -= (-2) ** (i - 1)\n",
        "  i += 1\n",
        "\n",
        "ans = ''.join(reversed(ans_list))\n",
        "print(ans)"
      ],
      "execution_count": 17,
      "outputs": [
        {
          "output_type": "stream",
          "text": [
            "123456789\n",
            "11000101011001101110100010101\n"
          ],
          "name": "stdout"
        }
      ]
    },
    {
      "cell_type": "markdown",
      "metadata": {
        "id": "KFwV9tYelmeY"
      },
      "source": [
        "## D - Candy Distribution"
      ]
    },
    {
      "cell_type": "code",
      "metadata": {
        "colab": {
          "base_uri": "https://localhost:8080/"
        },
        "id": "KxZLpwz0ljr7",
        "outputId": "0d743565-1c50-45ad-ec86-cfb307ef1759"
      },
      "source": [
        "from collections import defaultdict\n",
        "import math\n",
        "\n",
        "\n",
        "n, m = map(int, input().split())\n",
        "a_list = list(map(int, input().split()))\n",
        "\n",
        "a_sum = 0\n",
        "a_mod_dict = defaultdict(int)\n",
        "\n",
        "for a in a_list:\n",
        "  a_sum += a\n",
        "  a_sum = a_sum % m\n",
        "  a_mod_dict[a_sum] += 1\n",
        "\n",
        "\n",
        "def combination_count(n, r):\n",
        "    return math.factorial(n) // (math.factorial(n - r) * math.factorial(r))\n",
        "\n",
        "ans = a_mod_dict[0]\n",
        "\n",
        "for k, v in a_mod_dict.items():\n",
        "  if v >= 2: ans += combination_count(v, 2)\n",
        "\n",
        "print(ans)"
      ],
      "execution_count": 33,
      "outputs": [
        {
          "output_type": "stream",
          "text": [
            "10 400000000\n",
            "1000000000 1000000000 1000000000 1000000000 1000000000 1000000000 1000000000 1000000000 1000000000 1000000000\n",
            "25\n"
          ],
          "name": "stdout"
        }
      ]
    }
  ]
}