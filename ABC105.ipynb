{
  "nbformat": 4,
  "nbformat_minor": 0,
  "metadata": {
    "colab": {
      "name": "ABC105.ipynb",
      "provenance": [],
      "authorship_tag": "ABX9TyMI96PeSuWnVa/sEilqFDHw",
      "include_colab_link": true
    },
    "kernelspec": {
      "name": "python3",
      "display_name": "Python 3"
    }
  },
  "cells": [
    {
      "cell_type": "markdown",
      "metadata": {
        "id": "view-in-github",
        "colab_type": "text"
      },
      "source": [
        "<a href=\"https://colab.research.google.com/github/yamanoyu/atcorder/blob/master/ABC105.ipynb\" target=\"_parent\"><img src=\"https://colab.research.google.com/assets/colab-badge.svg\" alt=\"Open In Colab\"/></a>"
      ]
    },
    {
      "cell_type": "markdown",
      "metadata": {
        "id": "nvCw2n8vFH75"
      },
      "source": [
        "## A - AtCoder Crackers"
      ]
    },
    {
      "cell_type": "code",
      "metadata": {
        "colab": {
          "base_uri": "https://localhost:8080/"
        },
        "id": "ePN8TW8eFLOa",
        "outputId": "8d17bbb3-27a0-4d6e-f9fb-931197fd764f"
      },
      "source": [
        "n, k = map(int, input().split())\n",
        "ans = n % k\n",
        "print(ans)"
      ],
      "execution_count": 2,
      "outputs": [
        {
          "output_type": "stream",
          "text": [
            "100 10\n",
            "0\n"
          ],
          "name": "stdout"
        }
      ]
    },
    {
      "cell_type": "markdown",
      "metadata": {
        "id": "H1T80xYwFiwC"
      },
      "source": [
        "## B - Cakes and Donuts"
      ]
    },
    {
      "cell_type": "code",
      "metadata": {
        "colab": {
          "base_uri": "https://localhost:8080/"
        },
        "id": "qczwnQAeE_5n",
        "outputId": "1d6b6c4e-6d46-46e4-f80c-444a3812db6e"
      },
      "source": [
        "n = int(input())\n",
        "\n",
        "ans_list = []\n",
        "\n",
        "for i in range(26):\n",
        "  for j in range(15):\n",
        "    ans_list.append(7 * j  + 4 * i)\n",
        "\n",
        "ans = 'Yes' if n in ans_list else 'No'\n",
        "print(ans)"
      ],
      "execution_count": 5,
      "outputs": [
        {
          "output_type": "stream",
          "text": [
            "3\n",
            "No\n"
          ],
          "name": "stdout"
        }
      ]
    },
    {
      "cell_type": "code",
      "metadata": {
        "id": "-shiAEd5FJjc"
      },
      "source": [
        ""
      ],
      "execution_count": null,
      "outputs": []
    }
  ]
}