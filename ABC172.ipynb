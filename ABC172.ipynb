{
  "nbformat": 4,
  "nbformat_minor": 0,
  "metadata": {
    "colab": {
      "name": "ABC172.ipynb",
      "provenance": [],
      "authorship_tag": "ABX9TyNTv9bEooC75UU2EGkIKyON",
      "include_colab_link": true
    },
    "kernelspec": {
      "name": "python3",
      "display_name": "Python 3"
    }
  },
  "cells": [
    {
      "cell_type": "markdown",
      "metadata": {
        "id": "view-in-github",
        "colab_type": "text"
      },
      "source": [
        "<a href=\"https://colab.research.google.com/github/yamanoyu/atcorder/blob/master/ABC172.ipynb\" target=\"_parent\"><img src=\"https://colab.research.google.com/assets/colab-badge.svg\" alt=\"Open In Colab\"/></a>"
      ]
    },
    {
      "cell_type": "markdown",
      "metadata": {
        "id": "BsCBRYnsTlkL"
      },
      "source": [
        "## A - Calc"
      ]
    },
    {
      "cell_type": "code",
      "metadata": {
        "colab": {
          "base_uri": "https://localhost:8080/"
        },
        "id": "PkjeW-raTaJq",
        "outputId": "c06c1a72-930f-4684-fbe2-204d78c94d26"
      },
      "source": [
        "a = int(input())\n",
        "ans = a + a ** 2 + a ** 3\n",
        "print(ans)"
      ],
      "execution_count": 1,
      "outputs": [
        {
          "output_type": "stream",
          "text": [
            "2\n",
            "14\n"
          ],
          "name": "stdout"
        }
      ]
    },
    {
      "cell_type": "markdown",
      "metadata": {
        "id": "kZb0tyIfUAoT"
      },
      "source": [
        "## B - Minor Change"
      ]
    },
    {
      "cell_type": "code",
      "metadata": {
        "colab": {
          "base_uri": "https://localhost:8080/"
        },
        "id": "2cLUII6rToWW",
        "outputId": "59f7c5b1-5019-4ee1-9f35-6f8a4e8cd561"
      },
      "source": [
        "s = input()\n",
        "t = input()\n",
        "ans = 0\n",
        "for i in range(len(s)):\n",
        "  if s[i] != t[i]: ans += 1\n",
        "print(ans)"
      ],
      "execution_count": 2,
      "outputs": [
        {
          "output_type": "stream",
          "text": [
            "cupofcoffee\n",
            "cupofhottea\n",
            "4\n"
          ],
          "name": "stdout"
        }
      ]
    },
    {
      "cell_type": "markdown",
      "metadata": {
        "id": "sfcMvD9qVkKE"
      },
      "source": [
        "## C - Tsundoku"
      ]
    },
    {
      "cell_type": "code",
      "metadata": {
        "colab": {
          "base_uri": "https://localhost:8080/"
        },
        "id": "lzLmnzQYUroj",
        "outputId": "e92fb3a4-88a7-4264-8bb0-35c054169101"
      },
      "source": [
        "# WA\n",
        "n, m, k = map(int, input().split())\n",
        "a_list = list(map(int, input().split()))\n",
        "b_list = list(map(int, input().split()))\n",
        "\n",
        "ans = 0\n",
        "time = 0\n",
        "\n",
        "while time <= k and (a_list or b_list):\n",
        "  if a_list and b_list:\n",
        "    if a_list[0] >= b_list[0]:\n",
        "      _time = b_list.pop(0)\n",
        "    else:\n",
        "      _time = a_list.pop(0)\n",
        "  else:\n",
        "    if a_list:\n",
        "      _time = a_list.pop(0)\n",
        "    else:\n",
        "      _time = b_list.pop(0)\n",
        "  time += _time\n",
        "  if time <= k: ans += 1\n",
        "print(ans)"
      ],
      "execution_count": 3,
      "outputs": [
        {
          "output_type": "stream",
          "text": [
            "3 4 240\n",
            "60 90 120\n",
            "80 150 80 150\n",
            "4\n"
          ],
          "name": "stdout"
        }
      ]
    },
    {
      "cell_type": "code",
      "metadata": {
        "colab": {
          "base_uri": "https://localhost:8080/"
        },
        "id": "5-XZmT9sYLeY",
        "outputId": "e3a591be-1304-43f8-eea3-91f7abf39e3c"
      },
      "source": [
        "import bisect\n",
        "\n",
        "\n",
        "n, m, k = map(int, input().split())\n",
        "a_list = list(map(int, input().split()))\n",
        "b_list = list(map(int, input().split()))\n",
        "\n",
        "a_sum = [0]\n",
        "b_sum = [0]\n",
        "\n",
        "for a in a_list:\n",
        "  a_sum.append(a_sum[-1] + a)\n",
        "\n",
        "for b in b_list:\n",
        "  b_sum.append(b_sum[-1] + b)\n",
        "\n",
        "ans = 0\n",
        "time = 0\n",
        "\n",
        "for i in range(n+1):\n",
        "  if a_sum[i] > k:\n",
        "    break\n",
        "  j = bisect.bisect_right(b_sum, k - a_sum[i])\n",
        "  j -= 1\n",
        "  ans = max(ans, i + j)\n",
        "\n",
        "print(ans)"
      ],
      "execution_count": 4,
      "outputs": [
        {
          "output_type": "stream",
          "text": [
            "2 2 4\n",
            "3 1\n",
            "2 3\n",
            "2\n"
          ],
          "name": "stdout"
        }
      ]
    },
    {
      "cell_type": "code",
      "metadata": {
        "id": "S-K4I2u1iYLr"
      },
      "source": [
        ""
      ],
      "execution_count": null,
      "outputs": []
    }
  ]
}