{
  "nbformat": 4,
  "nbformat_minor": 0,
  "metadata": {
    "colab": {
      "name": "ABC098.ipynb",
      "provenance": [],
      "collapsed_sections": [],
      "authorship_tag": "ABX9TyMplzEdZNKAkHwyPfv0Vclw",
      "include_colab_link": true
    },
    "kernelspec": {
      "name": "python3",
      "display_name": "Python 3"
    }
  },
  "cells": [
    {
      "cell_type": "markdown",
      "metadata": {
        "id": "view-in-github",
        "colab_type": "text"
      },
      "source": [
        "<a href=\"https://colab.research.google.com/github/yamanoyu/atcorder/blob/master/ABC098.ipynb\" target=\"_parent\"><img src=\"https://colab.research.google.com/assets/colab-badge.svg\" alt=\"Open In Colab\"/></a>"
      ]
    },
    {
      "cell_type": "markdown",
      "metadata": {
        "id": "38_aNjqojMCj"
      },
      "source": [
        "## A - Add Sub Mul"
      ]
    },
    {
      "cell_type": "code",
      "metadata": {
        "colab": {
          "base_uri": "https://localhost:8080/"
        },
        "id": "3vyz1BaejIN9",
        "outputId": "47758de8-4818-4329-d50c-2fcb1ca07fbc"
      },
      "source": [
        "a, b = map(int, input().split())\n",
        "ans = max(a + b, a - b, a * b)\n",
        "print(ans)"
      ],
      "execution_count": null,
      "outputs": [
        {
          "output_type": "stream",
          "text": [
            "3 4\n",
            "12\n"
          ],
          "name": "stdout"
        }
      ]
    },
    {
      "cell_type": "markdown",
      "metadata": {
        "id": "TR6gKWodjetR"
      },
      "source": [
        "## B - Cut and Count"
      ]
    },
    {
      "cell_type": "code",
      "metadata": {
        "colab": {
          "base_uri": "https://localhost:8080/"
        },
        "id": "0DOHqc3ijL4V",
        "outputId": "cb0fb219-8c97-4910-8182-3da34b7b34eb"
      },
      "source": [
        "n = int(input())\n",
        "s = input()\n",
        "\n",
        "ans = 0\n",
        "\n",
        "for i in range(1, n):\n",
        "  ans = max(ans, len(set(s[:i]) & set(s[i:])))\n",
        "\n",
        "print(ans)"
      ],
      "execution_count": null,
      "outputs": [
        {
          "output_type": "stream",
          "text": [
            "6\n",
            "aabbca\n",
            "2\n"
          ],
          "name": "stdout"
        }
      ]
    },
    {
      "cell_type": "markdown",
      "metadata": {
        "id": "WzarA0jZkgX_"
      },
      "source": [
        "## C - Attention"
      ]
    },
    {
      "cell_type": "code",
      "metadata": {
        "id": "54_xhz28jMnt",
        "colab": {
          "base_uri": "https://localhost:8080/"
        },
        "outputId": "202d7acb-20dd-4768-e22e-72ece50c1b75"
      },
      "source": [
        "# TLE\n",
        "n = int(input())\n",
        "s_list = list(input())\n",
        "\n",
        "ans = 10 ** 18\n",
        "\n",
        "for i in range(n):\n",
        "  ans = min(ans, s_list[:i].count('W') + s_list[i + 1:].count('E'))\n",
        "\n",
        "print(ans)"
      ],
      "execution_count": 4,
      "outputs": [
        {
          "output_type": "stream",
          "text": [
            "\n",
            "0\n"
          ],
          "name": "stdout"
        }
      ]
    },
    {
      "cell_type": "code",
      "metadata": {
        "colab": {
          "base_uri": "https://localhost:8080/"
        },
        "id": "DUsMFzVnJqZ5",
        "outputId": "ec0325e2-39d6-4984-d662-193c0a66d2b5"
      },
      "source": [
        "n = int(input())\n",
        "s_list = list(input())\n",
        "\n",
        "ans_list = [s_list[1:].count('E')]\n",
        "i_dir = s_list[0]\n",
        "\n",
        "for i in range(1, n):\n",
        "  if i_dir == 'W':\n",
        "    if s_list[i] == 'W':\n",
        "      ans_list.append(ans_list[-1] + 1)\n",
        "  else:\n",
        "    if s_list[i] == 'E':\n",
        "      ans_list.append(ans_list[-1] - 1)\n",
        "  i_dir = s_list[i]\n",
        "\n",
        "ans = min(ans_list)\n",
        "print(ans)"
      ],
      "execution_count": 7,
      "outputs": [
        {
          "output_type": "stream",
          "text": [
            "12\n",
            "WEWEWEEEWWWE\n",
            "4\n"
          ],
          "name": "stdout"
        }
      ]
    },
    {
      "cell_type": "markdown",
      "metadata": {
        "id": "7HVI9M0bN4yd"
      },
      "source": [
        "## D - Xor Sum 2"
      ]
    },
    {
      "cell_type": "code",
      "metadata": {
        "id": "M2bAALWONq-5"
      },
      "source": [
        ""
      ],
      "execution_count": null,
      "outputs": []
    }
  ]
}