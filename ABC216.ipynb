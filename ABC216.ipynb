{
  "nbformat": 4,
  "nbformat_minor": 0,
  "metadata": {
    "colab": {
      "name": "ABC216.ipynb",
      "provenance": [],
      "authorship_tag": "ABX9TyMXT24hay2pzqrDGSss6lfI",
      "include_colab_link": true
    },
    "kernelspec": {
      "name": "python3",
      "display_name": "Python 3"
    },
    "language_info": {
      "name": "python"
    }
  },
  "cells": [
    {
      "cell_type": "markdown",
      "metadata": {
        "id": "view-in-github",
        "colab_type": "text"
      },
      "source": [
        "<a href=\"https://colab.research.google.com/github/yamanoyu/atcorder/blob/master/ABC216.ipynb\" target=\"_parent\"><img src=\"https://colab.research.google.com/assets/colab-badge.svg\" alt=\"Open In Colab\"/></a>"
      ]
    },
    {
      "cell_type": "markdown",
      "metadata": {
        "id": "Vh5aeycyUWbx"
      },
      "source": [
        "## A - Signed Difficulty"
      ]
    },
    {
      "cell_type": "code",
      "metadata": {
        "colab": {
          "base_uri": "https://localhost:8080/"
        },
        "id": "NmmgvAT7UQU0",
        "outputId": "16dee485-d8c6-4a48-fd03-8580ea9f6a77"
      },
      "source": [
        "x, y = map(int, input().split('.'))\n",
        "if 0 <= y <= 2:\n",
        "  ans = str(x) + '-'\n",
        "elif 7 <= y <= 9:\n",
        "  ans = str(x) + '+'\n",
        "else:\n",
        "  ans = str(x)\n",
        "print(ans)"
      ],
      "execution_count": 1,
      "outputs": [
        {
          "output_type": "stream",
          "name": "stdout",
          "text": [
            "15.8\n",
            "15+\n"
          ]
        }
      ]
    },
    {
      "cell_type": "markdown",
      "metadata": {
        "id": "fVVBVoifU7fG"
      },
      "source": [
        "## B - Same Name"
      ]
    },
    {
      "cell_type": "code",
      "metadata": {
        "colab": {
          "base_uri": "https://localhost:8080/"
        },
        "id": "LN177iuQUW4y",
        "outputId": "782e8266-7733-4697-bb02-07e550675d9c"
      },
      "source": [
        "n = int(input())\n",
        "st_set = set()\n",
        "\n",
        "ans = 'No'\n",
        "\n",
        "for _ in range(n):\n",
        "  s, t = input().split()\n",
        "  st = s + ' ' + t\n",
        "  if st in st_set:\n",
        "    ans = 'Yes'\n",
        "    break\n",
        "  else:\n",
        "    st_set.add(st)\n",
        "\n",
        "print(ans)"
      ],
      "execution_count": 5,
      "outputs": [
        {
          "output_type": "stream",
          "name": "stdout",
          "text": [
            "2\n",
            "a d\n",
            "a d\n",
            "Yes\n"
          ]
        }
      ]
    },
    {
      "cell_type": "markdown",
      "metadata": {
        "id": "AJZhirt4Vm1v"
      },
      "source": [
        "## C - Many Balls"
      ]
    },
    {
      "cell_type": "code",
      "metadata": {
        "colab": {
          "base_uri": "https://localhost:8080/"
        },
        "id": "qExD58D0Vblc",
        "outputId": "94522f34-6915-4e88-bd40-2e9b869dccdb"
      },
      "source": [
        "n = int(input())\n",
        "\n",
        "ans = ''\n",
        "\n",
        "while n > 0:\n",
        "  if n % 2:\n",
        "    ans = 'A' + ans\n",
        "    n -= 1\n",
        "  else:\n",
        "    ans = 'B' + ans\n",
        "    n //= 2\n",
        "\n",
        "print(ans)"
      ],
      "execution_count": 24,
      "outputs": [
        {
          "output_type": "stream",
          "name": "stdout",
          "text": [
            "9\n",
            "ABBBA\n"
          ]
        }
      ]
    }
  ]
}