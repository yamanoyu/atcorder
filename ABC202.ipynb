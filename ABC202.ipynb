{
  "nbformat": 4,
  "nbformat_minor": 0,
  "metadata": {
    "colab": {
      "name": "ABC202.ipynb",
      "provenance": [],
      "collapsed_sections": [],
      "authorship_tag": "ABX9TyMWoAzV5pgtnriPkbK6iG0b",
      "include_colab_link": true
    },
    "kernelspec": {
      "name": "python3",
      "display_name": "Python 3"
    },
    "language_info": {
      "name": "python"
    }
  },
  "cells": [
    {
      "cell_type": "markdown",
      "metadata": {
        "id": "view-in-github",
        "colab_type": "text"
      },
      "source": [
        "<a href=\"https://colab.research.google.com/github/yamanoyu/atcorder/blob/master/ABC202.ipynb\" target=\"_parent\"><img src=\"https://colab.research.google.com/assets/colab-badge.svg\" alt=\"Open In Colab\"/></a>"
      ]
    },
    {
      "cell_type": "markdown",
      "metadata": {
        "id": "uZurE-P_QHxB"
      },
      "source": [
        "## A - Three Dice"
      ]
    },
    {
      "cell_type": "code",
      "metadata": {
        "colab": {
          "base_uri": "https://localhost:8080/"
        },
        "id": "Cjr0VPOs8f8s",
        "outputId": "c9d2af2b-e467-46e3-c91e-d97432e8485d"
      },
      "source": [
        "a, b, c = map(int, input().split())\n",
        "ans = 21 - (a + b + c)\n",
        "print(ans)"
      ],
      "execution_count": 2,
      "outputs": [
        {
          "output_type": "stream",
          "text": [
            "1 4 3\n",
            "8\n"
          ],
          "name": "stdout"
        }
      ]
    },
    {
      "cell_type": "markdown",
      "metadata": {
        "id": "5Lu3guGnQKbo"
      },
      "source": [
        "## B - 180°"
      ]
    },
    {
      "cell_type": "code",
      "metadata": {
        "colab": {
          "base_uri": "https://localhost:8080/"
        },
        "id": "9Apvdmm_8qmw",
        "outputId": "bb92daa2-e11f-4195-c087-267c0493840d"
      },
      "source": [
        "s_list = list(input())\n",
        "ans = ''\n",
        "for s in s_list[::-1]:\n",
        "  if s == '6':\n",
        "    ans += '9'\n",
        "  elif s == '9':\n",
        "    ans += '6'\n",
        "  else:\n",
        "    ans += s\n",
        "print(ans)"
      ],
      "execution_count": 3,
      "outputs": [
        {
          "output_type": "stream",
          "text": [
            "0601889\n",
            "6881090\n"
          ],
          "name": "stdout"
        }
      ]
    },
    {
      "cell_type": "markdown",
      "metadata": {
        "id": "lDokCqCuQMiU"
      },
      "source": [
        "## C - Made Up"
      ]
    },
    {
      "cell_type": "code",
      "metadata": {
        "colab": {
          "base_uri": "https://localhost:8080/"
        },
        "id": "zIxPDP5-9L6a",
        "outputId": "59b38c21-81cb-4d31-92a8-a672da3104f6"
      },
      "source": [
        "from collections import defaultdict\n",
        "\n",
        "\n",
        "n = int(input())\n",
        "a_list = list(map(int, input().split()))\n",
        "b_list = list(map(int, input().split()))\n",
        "c_list = list(map(int, input().split()))\n",
        "\n",
        "b_dict = defaultdict(int)\n",
        "\n",
        "for c in c_list:\n",
        "  if c <= n:\n",
        "    b_dict[b_list[c - 1]] += 1\n",
        "\n",
        "ans = 0\n",
        "\n",
        "for a in a_list:\n",
        "  ans += b_dict[a]\n",
        "\n",
        "print(ans)"
      ],
      "execution_count": 8,
      "outputs": [
        {
          "output_type": "stream",
          "text": [
            "3\n",
            "1 2 2\n",
            "3 1 2\n",
            "2 3 2\n",
            "4\n"
          ],
          "name": "stdout"
        }
      ]
    },
    {
      "cell_type": "markdown",
      "metadata": {
        "id": "YEOlrZiEQOyv"
      },
      "source": [
        "## D - aab aba baa"
      ]
    },
    {
      "cell_type": "code",
      "metadata": {
        "colab": {
          "base_uri": "https://localhost:8080/"
        },
        "id": "TwwImMHr9sDh",
        "outputId": "e495a4b3-3a81-4779-c084-6233e83e9694"
      },
      "source": [
        "def cmb(n, r):\n",
        "    # Combinationを算出 その1\n",
        "    # 5C2 = 10など\n",
        "    if n - r < r: r = n - r\n",
        "    if r == 0: return 1\n",
        "    if r == 1: return n\n",
        "\n",
        "    numerator = [n - r + k + 1 for k in range(r)]\n",
        "    denominator = [k + 1 for k in range(r)]\n",
        "\n",
        "    for p in range(2, r+1):\n",
        "        pivot = denominator[p - 1]\n",
        "        if pivot > 1:\n",
        "            offset = (n - r) % p\n",
        "            for k in range(p-1, r, p):\n",
        "                numerator[k - offset] /= pivot\n",
        "                denominator[k] /= pivot\n",
        "    result = 1\n",
        "    for k in range(r):\n",
        "        if numerator[k] > 1:\n",
        "            result *= int(numerator[k])\n",
        "\n",
        "    return result\n",
        "\n",
        "\n",
        "a, b, k = map(int, input().split())\n",
        "\n",
        "ans = ''\n",
        "a_cnt = a\n",
        "b_cnt = b\n",
        "k_cnt = k\n",
        "\n",
        "while k > 0:\n",
        "  if a_cnt == 0:\n",
        "    ans += 'b' * b_cnt\n",
        "    break\n",
        "  if b_cnt == 0:\n",
        "    ans += 'a' * a_cnt\n",
        "    break\n",
        "\n",
        "  init_a_cnt = cmb(a_cnt + b_cnt - 1, a_cnt - 1)\n",
        "\n",
        "  if k_cnt > init_a_cnt:\n",
        "    ans += 'b'\n",
        "    b_cnt -= 1\n",
        "    k_cnt -= init_a_cnt\n",
        "  else:\n",
        "    ans += 'a'\n",
        "    a_cnt -= 1\n",
        "\n",
        "print(ans)"
      ],
      "execution_count": 17,
      "outputs": [
        {
          "output_type": "stream",
          "text": [
            "30 30 118264581564861424\n",
            "bbbbbbbbbbbbbbbbbbbbbbbbbbbbbbaaaaaaaaaaaaaaaaaaaaaaaaaaaaaa\n"
          ],
          "name": "stdout"
        }
      ]
    },
    {
      "cell_type": "markdown",
      "metadata": {
        "id": "Re0yXfCQQSjI"
      },
      "source": [
        "## E - Count Descendants"
      ]
    },
    {
      "cell_type": "code",
      "metadata": {
        "id": "qzyk5cetQUBr"
      },
      "source": [
        ""
      ],
      "execution_count": null,
      "outputs": []
    }
  ]
}