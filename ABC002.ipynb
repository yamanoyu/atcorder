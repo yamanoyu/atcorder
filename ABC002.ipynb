{
  "nbformat": 4,
  "nbformat_minor": 0,
  "metadata": {
    "colab": {
      "name": "ABC002.ipynb",
      "provenance": [],
      "authorship_tag": "ABX9TyMtX5r7r+b2AhQpblyBg7EV",
      "include_colab_link": true
    },
    "kernelspec": {
      "name": "python3",
      "display_name": "Python 3"
    },
    "language_info": {
      "name": "python"
    }
  },
  "cells": [
    {
      "cell_type": "markdown",
      "metadata": {
        "id": "view-in-github",
        "colab_type": "text"
      },
      "source": [
        "<a href=\"https://colab.research.google.com/github/yamanoyu/atcorder/blob/master/ABC002.ipynb\" target=\"_parent\"><img src=\"https://colab.research.google.com/assets/colab-badge.svg\" alt=\"Open In Colab\"/></a>"
      ]
    },
    {
      "cell_type": "markdown",
      "metadata": {
        "id": "ZpvgNCLz2KHi"
      },
      "source": [
        "## A - 正直者"
      ]
    },
    {
      "cell_type": "code",
      "metadata": {
        "colab": {
          "base_uri": "https://localhost:8080/"
        },
        "id": "7exbjlYg2GCx",
        "outputId": "51b2b91c-598f-4fac-99a8-0edee9f7631a"
      },
      "source": [
        "x, y = map(int, input().split())\n",
        "ans = max(x, y)\n",
        "print(ans)"
      ],
      "execution_count": null,
      "outputs": [
        {
          "output_type": "stream",
          "text": [
            "1 2\n",
            "2\n"
          ],
          "name": "stdout"
        }
      ]
    },
    {
      "cell_type": "markdown",
      "metadata": {
        "id": "tF6aVwO82Wi6"
      },
      "source": [
        "## B - 罠"
      ]
    },
    {
      "cell_type": "code",
      "metadata": {
        "colab": {
          "base_uri": "https://localhost:8080/"
        },
        "id": "CrITx4St2Ke5",
        "outputId": "6512d590-a925-40f2-cc4e-c4ef1b7ab25e"
      },
      "source": [
        "w = input()\n",
        "aiueo = ['a', 'i', 'u', 'e', 'o']\n",
        "ans = ''\n",
        "for i in w:\n",
        "  if i not in aiueo:\n",
        "    ans += i\n",
        "print(ans)"
      ],
      "execution_count": null,
      "outputs": [
        {
          "output_type": "stream",
          "text": [
            "chokudai\n",
            "chkd\n"
          ],
          "name": "stdout"
        }
      ]
    },
    {
      "cell_type": "markdown",
      "metadata": {
        "id": "HMbdxlT72tar"
      },
      "source": [
        "## C - 直訴"
      ]
    },
    {
      "cell_type": "code",
      "metadata": {
        "colab": {
          "base_uri": "https://localhost:8080/"
        },
        "id": "lFjxIYT62o-F",
        "outputId": "ccf04ca7-b663-4f88-ee77-8aaaecae070f"
      },
      "source": [
        "xa, ya, xb, yb, xc, yc = map(int, input().split())\n",
        "\n",
        "x1 = xb - xa\n",
        "x2 = xc - xa\n",
        "y1 = yb - ya\n",
        "y2 = yc - ya\n",
        "\n",
        "ans = abs(x1 * y2 - x2 * y1) / 2\n",
        "print(ans)"
      ],
      "execution_count": null,
      "outputs": [
        {
          "output_type": "stream",
          "text": [
            "1 0 3 0 2 5\n",
            "5.0\n"
          ],
          "name": "stdout"
        }
      ]
    },
    {
      "cell_type": "markdown",
      "metadata": {
        "id": "1QD-bV4n3j2U"
      },
      "source": [
        "## D - 派閥"
      ]
    },
    {
      "cell_type": "code",
      "metadata": {
        "id": "BJT7wUI63YdD",
        "colab": {
          "base_uri": "https://localhost:8080/"
        },
        "outputId": "e1191434-2fd9-4636-f0ff-817b1bdaccf5"
      },
      "source": [
        "import itertools\n",
        "\n",
        "\n",
        "n, m = map(int, input().split())\n",
        "friend_list = [tuple(map(int, input().split())) for _ in range(m)]\n",
        "\n",
        "group_list = []\n",
        "\n",
        "for i in range(2 ** n):\n",
        "  group_list.append(bin(i)[2:].zfill(n))\n",
        "\n",
        "ans = 1\n",
        "\n",
        "for group in group_list:\n",
        "  g_list = []\n",
        "\n",
        "  for i in range(n):\n",
        "    if group[i] == '1':\n",
        "      g_list.append(i + 1)\n",
        "\n",
        "  if len(g_list) <= ans:\n",
        "    continue\n",
        "  else:\n",
        "    f = 0\n",
        "    for g in itertools.combinations(g_list, 2):\n",
        "      if g not in friend_list:\n",
        "        f = 1\n",
        "        break\n",
        "    if f == 0:\n",
        "      ans = len(g_list)\n",
        "\n",
        "print(ans)"
      ],
      "execution_count": 16,
      "outputs": [
        {
          "output_type": "stream",
          "text": [
            "12 0\n",
            "1\n"
          ],
          "name": "stdout"
        }
      ]
    }
  ]
}