{
  "nbformat": 4,
  "nbformat_minor": 0,
  "metadata": {
    "colab": {
      "name": "ABC171.ipynb",
      "provenance": [],
      "authorship_tag": "ABX9TyPgux7zaLI5T1VtjMBZcENX",
      "include_colab_link": true
    },
    "kernelspec": {
      "name": "python3",
      "display_name": "Python 3"
    }
  },
  "cells": [
    {
      "cell_type": "markdown",
      "metadata": {
        "id": "view-in-github",
        "colab_type": "text"
      },
      "source": [
        "<a href=\"https://colab.research.google.com/github/yamanoyu/atcorder/blob/master/ABC171.ipynb\" target=\"_parent\"><img src=\"https://colab.research.google.com/assets/colab-badge.svg\" alt=\"Open In Colab\"/></a>"
      ]
    },
    {
      "cell_type": "markdown",
      "metadata": {
        "id": "q81cUexOwmT5"
      },
      "source": [
        "## A - αlphabet"
      ]
    },
    {
      "cell_type": "code",
      "metadata": {
        "colab": {
          "base_uri": "https://localhost:8080/"
        },
        "id": "8gM7dqZfqEwU",
        "outputId": "6e1c90b3-3a03-4512-cdb9-a1acf3541daa"
      },
      "source": [
        "a = input()\n",
        "ans = 'A' if a.isupper() else 'a'\n",
        "print(ans)"
      ],
      "execution_count": 1,
      "outputs": [
        {
          "output_type": "stream",
          "text": [
            "d\n",
            "a\n"
          ],
          "name": "stdout"
        }
      ]
    },
    {
      "cell_type": "markdown",
      "metadata": {
        "id": "0yxz2ZKrxGFf"
      },
      "source": [
        "## B - Mix Juice"
      ]
    },
    {
      "cell_type": "code",
      "metadata": {
        "colab": {
          "base_uri": "https://localhost:8080/"
        },
        "id": "nyd6PT6RwmqK",
        "outputId": "4ec99036-e94a-4e96-a9c3-433b32a96775"
      },
      "source": [
        "n, k = map(int, input().split())\n",
        "p_list = list(map(int, input().split()))\n",
        "p_list.sort()\n",
        "ans = sum(p_list[:k])\n",
        "print(ans)"
      ],
      "execution_count": 4,
      "outputs": [
        {
          "output_type": "stream",
          "text": [
            "5 3\n",
            "50 100 80 120 80\n",
            "210\n"
          ],
          "name": "stdout"
        }
      ]
    },
    {
      "cell_type": "markdown",
      "metadata": {
        "id": "wn4b5qaFUEWt"
      },
      "source": [
        "## C - One Quadrillion and One Dalmatians"
      ]
    },
    {
      "cell_type": "code",
      "metadata": {
        "colab": {
          "base_uri": "https://localhost:8080/"
        },
        "id": "p0LJOhzWxTdI",
        "outputId": "f9d4484c-c991-454e-d224-c612ed0fc1c2"
      },
      "source": [
        "# WA\n",
        "\n",
        "n = int(input())\n",
        "n -= 1\n",
        "\n",
        "ans_list = [0] * 12\n",
        "\n",
        "while n > 0:\n",
        "  i = 0\n",
        "  while pow(26, i) <= n:\n",
        "    i += 1\n",
        "  if i > 1:\n",
        "    ans_list[i] = n // pow(26, i - 1)\n",
        "    n = n % pow(26, i-1)\n",
        "  else:\n",
        "    ans_list[1] = n\n",
        "    break\n",
        "  print(i, n)\n",
        "\n",
        "ans = ''\n",
        "for a in ans_list:\n",
        "  if a != 0: ans += chr(a + 96)\n",
        "print(ans_list)\n",
        "print(ans)"
      ],
      "execution_count": 119,
      "outputs": [
        {
          "output_type": "stream",
          "text": [
            "703\n",
            "3 26\n",
            "2 0\n",
            "[0, 0, 1, 1, 0, 0, 0, 0, 0, 0, 0, 0]\n",
            "aa\n"
          ],
          "name": "stdout"
        }
      ]
    },
    {
      "cell_type": "code",
      "metadata": {
        "colab": {
          "base_uri": "https://localhost:8080/"
        },
        "id": "7ombBRNJZfwv",
        "outputId": "7a265a79-f841-4b05-e813-61334b70c8f4"
      },
      "source": [
        "n = int(input())\n",
        "ans_list = []\n",
        "while n > 0:\n",
        "  n -= 1\n",
        "  ans_list.append(n % 26)\n",
        "  n //= 26\n",
        "\n",
        "ans_list.reverse()\n",
        "\n",
        "ans = ''\n",
        "for a in ans_list:\n",
        "  ans += chr(a + 97)\n",
        "print(ans)"
      ],
      "execution_count": 124,
      "outputs": [
        {
          "output_type": "stream",
          "text": [
            "702\n",
            "zz\n"
          ],
          "name": "stdout"
        }
      ]
    },
    {
      "cell_type": "markdown",
      "metadata": {
        "id": "m7Q_PMNqX-vX"
      },
      "source": [
        "## D - Replacing"
      ]
    },
    {
      "cell_type": "code",
      "metadata": {
        "id": "4tgQmnMfbI_D"
      },
      "source": [
        ""
      ],
      "execution_count": null,
      "outputs": []
    }
  ]
}