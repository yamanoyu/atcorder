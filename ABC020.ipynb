{
 "cells": [
  {
   "cell_type": "markdown",
   "metadata": {},
   "source": [
    "## A - クイズ"
   ]
  },
  {
   "cell_type": "code",
   "execution_count": null,
   "metadata": {},
   "outputs": [],
   "source": [
    "q = int(input())\n",
    "ans = 'ABC' if q ==1 else 'chokudai'\n",
    "print(ans)"
   ]
  },
  {
   "cell_type": "markdown",
   "metadata": {},
   "source": [
    "## B - 足し算"
   ]
  },
  {
   "cell_type": "code",
   "execution_count": 4,
   "metadata": {},
   "outputs": [
    {
     "name": "stdout",
     "output_type": "stream",
     "text": [
      "2 3\n",
      "46\n"
     ]
    }
   ],
   "source": [
    "a, b = input().split()\n",
    "ab = a + b\n",
    "ans = int(ab) * 2\n",
    "print(ans)"
   ]
  },
  {
   "cell_type": "markdown",
   "metadata": {},
   "source": [
    "## C - 壁抜け"
   ]
  },
  {
   "cell_type": "code",
   "execution_count": 14,
   "metadata": {},
   "outputs": [
    {
     "name": "stdout",
     "output_type": "stream",
     "text": [
      "3 4 7\n",
      "S##G\n",
      ".##.\n",
      "..#.\n",
      "7\n"
     ]
    }
   ],
   "source": [
    "# 未実装\n",
    "# block_costが極端に大きい場合のみOK\n",
    "\n",
    "h, w, t = map(int, input().split())\n",
    "squares_list = [list(input()) for _ in range(h)]\n",
    "\n",
    "inf = 10 ** 13\n",
    "block_cost = 10 ** 4\n",
    "\n",
    "min_cost = [[inf] * w for _ in range(h)]  # [[inf] * w] * hはダメ\n",
    "\n",
    "# startとgoalの場所を調べる\n",
    "for h_num in range(h):\n",
    "    for w_num in range(w):\n",
    "        if squares_list[h_num][w_num] == 'S':\n",
    "            start_h, start_w = h_num, w_num\n",
    "        if squares_list[h_num][w_num] == 'G':\n",
    "            goal_h, goal_w = h_num, w_num\n",
    "\n",
    "# startのコストを0に\n",
    "min_cost[start_h][start_w] = 0\n",
    "\n",
    "def next_coordinate_cost(xy_list):\n",
    "    # 座標を与えたら次の座標のコストを変更して、隣接する座標をlistで返す関数\n",
    "    next_xy = []\n",
    "    x, y = xy_list\n",
    "    \n",
    "    for i, j in [[1, 0], [-1, 0], [0, 1], [0, -1]]:\n",
    "        next_x = x + i\n",
    "        next_y = y + j\n",
    "        \n",
    "        if 0 <= next_x < w and 0 <= next_y < h:\n",
    "            if squares_list[next_y][next_x] != '#':\n",
    "                min_cost[next_y][next_x] = min(min_cost[next_y][next_x], min_cost[y][x] + 1)\n",
    "            else:\n",
    "                min_cost[next_y][next_x] = min(min_cost[next_y][next_x], min_cost[y][x] + block_cost)\n",
    "            \n",
    "            next_xy.append([next_x, next_y])\n",
    "    \n",
    "    return next_xy\n",
    "\n",
    "\n",
    "points = [[start_w, start_h]]\n",
    "\n",
    "while min_cost[goal_h][goal_w] == inf:\n",
    "    next_points = []\n",
    "    for point in points:\n",
    "        next_points += next_coordinate_cost(point)\n",
    "    points = [list(items) for items in set(tuple(tmp) for tmp in next_points)]\n",
    "\n",
    "\n",
    "black_times, white_times = divmod(min_cost[goal_h][goal_w], block_cost)\n",
    "\n",
    "ans = t - white_times // black_times\n",
    "\n",
    "print(ans)"
   ]
  },
  {
   "cell_type": "markdown",
   "metadata": {},
   "source": [
    "## D - LCM Rush"
   ]
  },
  {
   "cell_type": "code",
   "execution_count": 42,
   "metadata": {},
   "outputs": [
    {
     "name": "stdout",
     "output_type": "stream",
     "text": [
      "10000 100\n",
      "865504986\n"
     ]
    }
   ],
   "source": [
    "n, k = map(int, input().split())\n",
    "\n",
    "mod = 10 ** 9 + 7\n",
    "\n",
    "def lcm(a, b):\n",
    "    # 最小公倍数を求める\n",
    "    times = 1\n",
    "    while a * times % b != 0:\n",
    "        times += 1\n",
    "    return a * times\n",
    "\n",
    "\n",
    "ans = sum([lcm(i, k) for i in range(1, n+1)]) % mod\n",
    "print(ans)"
   ]
  },
  {
   "cell_type": "code",
   "execution_count": null,
   "metadata": {},
   "outputs": [],
   "source": []
  },
  {
   "cell_type": "code",
   "execution_count": null,
   "metadata": {},
   "outputs": [],
   "source": []
  },
  {
   "cell_type": "code",
   "execution_count": null,
   "metadata": {},
   "outputs": [],
   "source": []
  },
  {
   "cell_type": "code",
   "execution_count": null,
   "metadata": {},
   "outputs": [],
   "source": []
  }
 ],
 "metadata": {
  "kernelspec": {
   "display_name": "Python 3",
   "language": "python",
   "name": "python3"
  },
  "language_info": {
   "codemirror_mode": {
    "name": "ipython",
    "version": 3
   },
   "file_extension": ".py",
   "mimetype": "text/x-python",
   "name": "python",
   "nbconvert_exporter": "python",
   "pygments_lexer": "ipython3",
   "version": "3.7.4"
  }
 },
 "nbformat": 4,
 "nbformat_minor": 4
}
