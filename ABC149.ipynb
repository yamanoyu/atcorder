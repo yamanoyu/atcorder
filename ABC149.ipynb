{
  "nbformat": 4,
  "nbformat_minor": 0,
  "metadata": {
    "colab": {
      "name": "ABC149.ipynb",
      "provenance": [],
      "collapsed_sections": [],
      "authorship_tag": "ABX9TyN02PJKKmNWGXlUE62lZmxT",
      "include_colab_link": true
    },
    "kernelspec": {
      "name": "python3",
      "display_name": "Python 3"
    }
  },
  "cells": [
    {
      "cell_type": "markdown",
      "metadata": {
        "id": "view-in-github",
        "colab_type": "text"
      },
      "source": [
        "<a href=\"https://colab.research.google.com/github/yamanoyu/atcorder/blob/master/ABC149.ipynb\" target=\"_parent\"><img src=\"https://colab.research.google.com/assets/colab-badge.svg\" alt=\"Open In Colab\"/></a>"
      ]
    },
    {
      "cell_type": "markdown",
      "metadata": {
        "id": "LS3LNwoIr-9i"
      },
      "source": [
        "## A - Strings"
      ]
    },
    {
      "cell_type": "code",
      "metadata": {
        "colab": {
          "base_uri": "https://localhost:8080/"
        },
        "id": "lfu_6bhGr7m5",
        "outputId": "d3ce987e-0bbb-4982-9d41-fb0e841ff28e"
      },
      "source": [
        "s, t = input().split()\n",
        "ans = t + s\n",
        "print(ans)"
      ],
      "execution_count": 1,
      "outputs": [
        {
          "output_type": "stream",
          "text": [
            "a b\n",
            "ba\n"
          ],
          "name": "stdout"
        }
      ]
    },
    {
      "cell_type": "markdown",
      "metadata": {
        "id": "p7M1G3resKko"
      },
      "source": [
        "## B - Greedy Takahashi"
      ]
    },
    {
      "cell_type": "code",
      "metadata": {
        "colab": {
          "base_uri": "https://localhost:8080/"
        },
        "id": "m0V5eReAr_Wn",
        "outputId": "0137fcf6-7d58-4404-98e9-53f3fc1dfc9f"
      },
      "source": [
        "a, b, k = map(int, input().split())\n",
        "\n",
        "if k <= a:\n",
        "  ans_list = [a - k, b]\n",
        "else:\n",
        "  ans_list = [0, max(0, b - (k - a))]\n",
        "\n",
        "ans = ' '.join(map(str, ans_list))\n",
        "print(ans)"
      ],
      "execution_count": 4,
      "outputs": [
        {
          "output_type": "stream",
          "text": [
            "500000000000 500000000000 1000000000000\n",
            "0 0\n"
          ],
          "name": "stdout"
        }
      ]
    },
    {
      "cell_type": "markdown",
      "metadata": {
        "id": "vY5aS_SVtFsc"
      },
      "source": [
        "## C - Next Prime"
      ]
    },
    {
      "cell_type": "code",
      "metadata": {
        "colab": {
          "base_uri": "https://localhost:8080/"
        },
        "id": "PT3-wiSvtAU9",
        "outputId": "83c03be7-4efd-41ac-d22f-08c48baaec9f"
      },
      "source": [
        "import bisect\n",
        "\n",
        "\n",
        "x = int(input())\n",
        "\n",
        "def sieve_of_eratosthenes(n):\n",
        "    # n以下の素数を出力\n",
        "    prime_num_list = [2]\n",
        "    number_list = [num for num in range(3, n, 2)]\n",
        "\n",
        "    while True:\n",
        "      p = number_list[0]\n",
        "      if p ** 2 > n:\n",
        "        return prime_num_list + number_list\n",
        "        break\n",
        "      prime_num_list.append(p)\n",
        "      number_list = [num for num in number_list if num % p != 0]\n",
        "\n",
        "\n",
        "prime_list = sieve_of_eratosthenes(10 ** 5 + 4)\n",
        "\n",
        "ans = prime_list[bisect.bisect_right(prime_list, x)] if x not in prime_list else x\n",
        "print(ans)"
      ],
      "execution_count": 11,
      "outputs": [
        {
          "output_type": "stream",
          "text": [
            "2\n",
            "2\n"
          ],
          "name": "stdout"
        }
      ]
    },
    {
      "cell_type": "markdown",
      "metadata": {
        "id": "r3cOQLIXw0Gd"
      },
      "source": [
        "## D - Prediction and Restriction"
      ]
    },
    {
      "cell_type": "code",
      "metadata": {
        "colab": {
          "base_uri": "https://localhost:8080/"
        },
        "id": "2doqTx_NwGkP",
        "outputId": "3b618553-0cfe-4883-e454-d5dedbd47982"
      },
      "source": [
        "n, k = map(int, input().split())\n",
        "r, s, p = map(int, input().split())\n",
        "t_list = list(input())\n",
        "\n",
        "ans = 0\n",
        "\n",
        "for i in range(k):\n",
        "  hand = ''\n",
        "  for j in t_list[i::k]:\n",
        "    if hand != j:\n",
        "      if j == 'r':\n",
        "        ans += p\n",
        "        hand = 'r'\n",
        "      elif j == 's':\n",
        "        ans += r\n",
        "        hand = 's'\n",
        "      else:\n",
        "        ans += s\n",
        "        hand = 'p'\n",
        "    else:\n",
        "      hand = ''\n",
        "\n",
        "print(ans)"
      ],
      "execution_count": 13,
      "outputs": [
        {
          "output_type": "stream",
          "text": [
            "30 5\n",
            "325 234 123\n",
            "rspsspspsrpspsppprpsprpssprpsr\n",
            "4996\n"
          ],
          "name": "stdout"
        }
      ]
    },
    {
      "cell_type": "markdown",
      "metadata": {
        "id": "5cpK4_WI_a1T"
      },
      "source": [
        "## E - Handshake"
      ]
    },
    {
      "cell_type": "code",
      "metadata": {
        "id": "jXUl9b9B_K_Y"
      },
      "source": [
        ""
      ],
      "execution_count": null,
      "outputs": []
    },
    {
      "cell_type": "markdown",
      "metadata": {
        "id": "qVCwnDUM_dgf"
      },
      "source": [
        "## F - Surrounded Nodes"
      ]
    },
    {
      "cell_type": "code",
      "metadata": {
        "id": "PvKGcFjN_d75"
      },
      "source": [
        ""
      ],
      "execution_count": null,
      "outputs": []
    }
  ]
}