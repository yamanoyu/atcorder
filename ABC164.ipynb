{
  "nbformat": 4,
  "nbformat_minor": 0,
  "metadata": {
    "colab": {
      "name": "ABC164.ipynb",
      "provenance": [],
      "collapsed_sections": [],
      "authorship_tag": "ABX9TyMBn8stXyQMk0R4J8RGkZeN",
      "include_colab_link": true
    },
    "kernelspec": {
      "name": "python3",
      "display_name": "Python 3"
    }
  },
  "cells": [
    {
      "cell_type": "markdown",
      "metadata": {
        "id": "view-in-github",
        "colab_type": "text"
      },
      "source": [
        "<a href=\"https://colab.research.google.com/github/yamanoyu/atcorder/blob/master/ABC164.ipynb\" target=\"_parent\"><img src=\"https://colab.research.google.com/assets/colab-badge.svg\" alt=\"Open In Colab\"/></a>"
      ]
    },
    {
      "cell_type": "markdown",
      "metadata": {
        "id": "0R4ZaD0Q_7Zv"
      },
      "source": [
        "## A - Sheep and Wolves"
      ]
    },
    {
      "cell_type": "code",
      "metadata": {
        "colab": {
          "base_uri": "https://localhost:8080/"
        },
        "id": "0CMJdV5S-ps3",
        "outputId": "381d7284-1a29-4443-f0fe-10dc585065d8"
      },
      "source": [
        "s, w = map(int, input().split())\n",
        "ans = 'unsafe' if s <= w else 'safe'\n",
        "print(ans)"
      ],
      "execution_count": null,
      "outputs": [
        {
          "output_type": "stream",
          "text": [
            "10 10\n",
            "unsafe\n"
          ],
          "name": "stdout"
        }
      ]
    },
    {
      "cell_type": "markdown",
      "metadata": {
        "id": "VDibSNDL_4-W"
      },
      "source": [
        "## B - Battle"
      ]
    },
    {
      "cell_type": "code",
      "metadata": {
        "colab": {
          "base_uri": "https://localhost:8080/"
        },
        "id": "oEK91sUi_-dV",
        "outputId": "f097fa17-d81b-4ab0-87c1-ed508b9450c3"
      },
      "source": [
        "a, b, c, d = map(int, input().split())\n",
        "\n",
        "takahashi = c // b + 1 if c % b != 0 else c // b\n",
        "aoki = a // d + 1 if a % d != 0 else a // d\n",
        "ans = 'Yes' if takahashi <= aoki else 'No'\n",
        "\n",
        "print(ans)"
      ],
      "execution_count": null,
      "outputs": [
        {
          "output_type": "stream",
          "text": [
            "10 9 10 10\n",
            "1 2\n",
            "Yes\n"
          ],
          "name": "stdout"
        }
      ]
    },
    {
      "cell_type": "markdown",
      "metadata": {
        "id": "cmfv1iqdDcvk"
      },
      "source": [
        "## C - gacha"
      ]
    },
    {
      "cell_type": "code",
      "metadata": {
        "colab": {
          "base_uri": "https://localhost:8080/"
        },
        "id": "Znv-840WDejZ",
        "outputId": "e9fa3a8e-ec29-4b0e-d53d-ee5000a217cf"
      },
      "source": [
        "n = int(input())\n",
        "s_list = [input() for _ in range(n)]\n",
        "\n",
        "ans = len(set(s_list))\n",
        "print(ans)"
      ],
      "execution_count": null,
      "outputs": [
        {
          "output_type": "stream",
          "text": [
            "1\n",
            "a\n",
            "1\n"
          ],
          "name": "stdout"
        }
      ]
    },
    {
      "cell_type": "markdown",
      "metadata": {
        "id": "zZU5IL5JD2_Z"
      },
      "source": [
        "## D - Multiple of 2019"
      ]
    },
    {
      "cell_type": "code",
      "metadata": {
        "colab": {
          "base_uri": "https://localhost:8080/"
        },
        "id": "o_HIpchgEG6o",
        "outputId": "a8620b5d-d902-4d44-fde1-501eca63d8d6"
      },
      "source": [
        "# TLE\n",
        "s = input()\n",
        "s_len = len(s)\n",
        "\n",
        "dp = [[-1] * s_len for _ in range(s_len)]\n",
        "\n",
        "ans = 0\n",
        "for i in range(s_len):\n",
        "  for j in range(i, s_len):\n",
        "    if i == j:\n",
        "      dp[i][j] = int(s[i]) % 2019\n",
        "    else:\n",
        "      dp[i][j] = (dp[i][j - 1] * 10 + int(s[j])) % 2019\n",
        "      if dp[i][j] == 0: ans += 1\n",
        "\n",
        "print(ans)"
      ],
      "execution_count": 1,
      "outputs": [
        {
          "output_type": "stream",
          "text": [
            "1817181712114\n",
            "3\n"
          ],
          "name": "stdout"
        }
      ]
    },
    {
      "cell_type": "code",
      "metadata": {
        "id": "bj9sSesyggU6",
        "colab": {
          "base_uri": "https://localhost:8080/"
        },
        "outputId": "c51317c6-cf90-451f-f7c6-2d5fb5a9ac9f"
      },
      "source": [
        "# TLE\n",
        "from collections import defaultdict\n",
        "\n",
        "\n",
        "s = input()\n",
        "s_len = len(s)\n",
        "\n",
        "dp_list = [0]\n",
        "\n",
        "for i in range(s_len-1, -1, -1):\n",
        "  dp_list.append((int(s[i]) * (10 ** (s_len - i - 1)) + dp_list[-1]) % 2019)\n",
        "\n",
        "dp_dict = defaultdict(int)\n",
        "for dp in dp_list:\n",
        "  dp_dict[dp] += 1\n",
        "\n",
        "ans = 0\n",
        "for _, dp_v in dp_dict.items():\n",
        "  ans += dp_v * (dp_v - 1) // 2\n",
        "\n",
        "print(ans)"
      ],
      "execution_count": 12,
      "outputs": [
        {
          "output_type": "stream",
          "text": [
            "2119\n",
            "0\n"
          ],
          "name": "stdout"
        }
      ]
    },
    {
      "cell_type": "code",
      "metadata": {
        "colab": {
          "base_uri": "https://localhost:8080/"
        },
        "id": "jkY6Z-CQw0kp",
        "outputId": "63f58f60-5ad2-40e7-80f6-c4e0f7e0cb44"
      },
      "source": [
        "from collections import defaultdict\n",
        "\n",
        "\n",
        "s = input()\n",
        "s_len = len(s)\n",
        "\n",
        "dp_list = [0]\n",
        "dp_dict = defaultdict(int)\n",
        "dp_dict[0] = 1\n",
        "\n",
        "for i in range(s_len-1, -1, -1):\n",
        "  mod2019 = (int(s[i]) * pow(10, s_len - i - 1, 2019) + dp_list[-1]) % 2019\n",
        "  dp_list.append(mod2019)\n",
        "  dp_dict[mod2019] += 1\n",
        "  \n",
        "ans = 0\n",
        "for _, dp_v in dp_dict.items():\n",
        "  ans += dp_v * (dp_v - 1) // 2\n",
        "\n",
        "print(ans)"
      ],
      "execution_count": 22,
      "outputs": [
        {
          "output_type": "stream",
          "text": [
            "1817181712114\n",
            "[0, 4, 14, 114, 95, 0, 1426, 2, 1165, 95, 1917, 1924, 465, 1165]\n",
            "3\n"
          ],
          "name": "stdout"
        }
      ]
    }
  ]
}