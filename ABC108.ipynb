{
  "nbformat": 4,
  "nbformat_minor": 0,
  "metadata": {
    "colab": {
      "name": "ABC108.ipynb",
      "provenance": [],
      "collapsed_sections": [],
      "authorship_tag": "ABX9TyOL6vwmNawYzwE3+9wRlE65",
      "include_colab_link": true
    },
    "kernelspec": {
      "name": "python3",
      "display_name": "Python 3"
    }
  },
  "cells": [
    {
      "cell_type": "markdown",
      "metadata": {
        "id": "view-in-github",
        "colab_type": "text"
      },
      "source": [
        "<a href=\"https://colab.research.google.com/github/yamanoyu/atcorder/blob/master/ABC108.ipynb\" target=\"_parent\"><img src=\"https://colab.research.google.com/assets/colab-badge.svg\" alt=\"Open In Colab\"/></a>"
      ]
    },
    {
      "cell_type": "markdown",
      "metadata": {
        "id": "HluUa6B95YD1"
      },
      "source": [
        "## A - Pair"
      ]
    },
    {
      "cell_type": "code",
      "metadata": {
        "colab": {
          "base_uri": "https://localhost:8080/"
        },
        "id": "JoMLYhZp5QTP",
        "outputId": "83d50245-b002-4b21-a25a-73fd77750cf0"
      },
      "source": [
        "k = int(input())\n",
        "ans = (k // 2) * (k - k // 2)\n",
        "print(ans)"
      ],
      "execution_count": 3,
      "outputs": [
        {
          "output_type": "stream",
          "text": [
            "2\n",
            "1\n"
          ],
          "name": "stdout"
        }
      ]
    },
    {
      "cell_type": "markdown",
      "metadata": {
        "id": "Kt94zbKs54_I"
      },
      "source": [
        "## B - Ruined Square"
      ]
    },
    {
      "cell_type": "code",
      "metadata": {
        "colab": {
          "base_uri": "https://localhost:8080/"
        },
        "id": "3oCp7yMx5YxN",
        "outputId": "07df45d2-3911-427d-81bb-dd1cde683375"
      },
      "source": [
        "x1, y1, x2, y2 = map(int, input().split())\n",
        "x3, y3 = x2 - (y2 - y1), y2 + (x2 - x1)\n",
        "x4, y4 = x1 + (y1 - y2), y1 - (x1 - x2)\n",
        "print(x3, y3, x4, y4)"
      ],
      "execution_count": 7,
      "outputs": [
        {
          "output_type": "stream",
          "text": [
            "0 0 0 1\n",
            "-1 1 -1 0\n"
          ],
          "name": "stdout"
        }
      ]
    },
    {
      "cell_type": "markdown",
      "metadata": {
        "id": "L7ZULIe9-HpH"
      },
      "source": [
        "## C - Triangular Relationship"
      ]
    },
    {
      "cell_type": "code",
      "metadata": {
        "colab": {
          "base_uri": "https://localhost:8080/"
        },
        "id": "xI_EJmhm9qIc",
        "outputId": "55b101cc-d73c-4849-f39d-ba2999df15b3"
      },
      "source": [
        "n, k = map(int, input().split())\n",
        "\n",
        "ans = (n // k) ** 3\n",
        "\n",
        "if k % 2 == 0:\n",
        "  ans += (n // k) ** 3 if n % k < k // 2 else (n // k + 1) ** 3\n",
        "\n",
        "print(ans)"
      ],
      "execution_count": 17,
      "outputs": [
        {
          "output_type": "stream",
          "text": [
            "2 1\n",
            "8\n"
          ],
          "name": "stdout"
        }
      ]
    },
    {
      "cell_type": "markdown",
      "metadata": {
        "id": "cO61bV2kAGKO"
      },
      "source": [
        "## D - All Your Paths are Different Lengths"
      ]
    },
    {
      "cell_type": "code",
      "metadata": {
        "id": "ITDSzt_x-4nY"
      },
      "source": [
        ""
      ],
      "execution_count": 17,
      "outputs": []
    }
  ]
}