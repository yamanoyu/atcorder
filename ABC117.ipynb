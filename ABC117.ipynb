{
  "nbformat": 4,
  "nbformat_minor": 0,
  "metadata": {
    "colab": {
      "name": "ABC117.ipynb",
      "provenance": [],
      "authorship_tag": "ABX9TyMHaglJ1yNASw4r5qHqBkdi",
      "include_colab_link": true
    },
    "kernelspec": {
      "name": "python3",
      "display_name": "Python 3"
    }
  },
  "cells": [
    {
      "cell_type": "markdown",
      "metadata": {
        "id": "view-in-github",
        "colab_type": "text"
      },
      "source": [
        "<a href=\"https://colab.research.google.com/github/yamanoyu/atcorder/blob/master/ABC117.ipynb\" target=\"_parent\"><img src=\"https://colab.research.google.com/assets/colab-badge.svg\" alt=\"Open In Colab\"/></a>"
      ]
    },
    {
      "cell_type": "markdown",
      "metadata": {
        "id": "daiV4rQSDoaU"
      },
      "source": [
        "## A - Entrance Examination"
      ]
    },
    {
      "cell_type": "code",
      "metadata": {
        "colab": {
          "base_uri": "https://localhost:8080/"
        },
        "id": "NeTr0EFnDlgO",
        "outputId": "55f9c883-153d-4171-d18e-34fbd6836e29"
      },
      "source": [
        "t, x = map(int, input().split())\n",
        "ans = t / x\n",
        "print(ans)"
      ],
      "execution_count": 2,
      "outputs": [
        {
          "output_type": "stream",
          "text": [
            "99 1\n",
            "99.0\n"
          ],
          "name": "stdout"
        }
      ]
    },
    {
      "cell_type": "markdown",
      "metadata": {
        "id": "h0BavwnND6iy"
      },
      "source": [
        "## B - Polygon"
      ]
    },
    {
      "cell_type": "code",
      "metadata": {
        "colab": {
          "base_uri": "https://localhost:8080/"
        },
        "id": "sWoTBpXEDo5P",
        "outputId": "39cc0025-18da-4747-eebe-5ac5387a3c74"
      },
      "source": [
        "n = int(input())\n",
        "l_list = list(map(int, input().split()))\n",
        "ans = 'Yes' if max(l_list) < sum(l_list) - max(l_list) else 'No'\n",
        "print(ans)"
      ],
      "execution_count": 5,
      "outputs": [
        {
          "output_type": "stream",
          "text": [
            "4\n",
            "3 8 5 1\n",
            "Yes\n"
          ],
          "name": "stdout"
        }
      ]
    },
    {
      "cell_type": "markdown",
      "metadata": {
        "id": "8Ndsn1ZnE0K4"
      },
      "source": [
        "## C - Streamline"
      ]
    },
    {
      "cell_type": "code",
      "metadata": {
        "colab": {
          "base_uri": "https://localhost:8080/"
        },
        "id": "02RBr4D6EfNu",
        "outputId": "e07874ce-13d0-45f4-e906-f14cf43994e9"
      },
      "source": [
        "n, m = map(int, input().split())\n",
        "x_list = list(map(int, input().split()))\n",
        "x_list.sort()\n",
        "\n",
        "if n >= m: ans = 0\n",
        "elif n == 1: ans = x_list[-1] - x_list[0]\n",
        "else:\n",
        "  x_diff_list = [x_list[i] - x_list[i - 1] for i in range(1, m)]\n",
        "  x_diff_list.sort()\n",
        "  ans = sum(x_diff_list[:- (n - 1)])\n",
        "    \n",
        "print(ans)"
      ],
      "execution_count": 12,
      "outputs": [
        {
          "output_type": "stream",
          "text": [
            "3 7\n",
            "-10 -3 0 9 -100 2 17\n",
            "[-100, -10, -3, 0, 2, 9, 17]\n",
            "[2, 3, 7, 7, 8, 90]\n",
            "19\n"
          ],
          "name": "stdout"
        }
      ]
    },
    {
      "cell_type": "markdown",
      "metadata": {
        "id": "6Gxubo3JJH12"
      },
      "source": [
        "## D - XXOR"
      ]
    },
    {
      "cell_type": "code",
      "metadata": {
        "id": "rrhK3syrGgpA"
      },
      "source": [
        "n, k = map(int, input().split())\n",
        "a_list = list(map(int, input().split()))"
      ],
      "execution_count": null,
      "outputs": []
    }
  ]
}