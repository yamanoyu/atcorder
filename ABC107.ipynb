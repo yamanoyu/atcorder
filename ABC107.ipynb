{
  "nbformat": 4,
  "nbformat_minor": 0,
  "metadata": {
    "colab": {
      "name": "ABC107.ipynb",
      "provenance": [],
      "collapsed_sections": [],
      "authorship_tag": "ABX9TyNLtxR+0z2xgKRlDFbFLX0Z",
      "include_colab_link": true
    },
    "kernelspec": {
      "name": "python3",
      "display_name": "Python 3"
    }
  },
  "cells": [
    {
      "cell_type": "markdown",
      "metadata": {
        "id": "view-in-github",
        "colab_type": "text"
      },
      "source": [
        "<a href=\"https://colab.research.google.com/github/yamanoyu/atcorder/blob/master/ABC107.ipynb\" target=\"_parent\"><img src=\"https://colab.research.google.com/assets/colab-badge.svg\" alt=\"Open In Colab\"/></a>"
      ]
    },
    {
      "cell_type": "markdown",
      "metadata": {
        "id": "kJ8E740de-GM"
      },
      "source": [
        "## A - Train"
      ]
    },
    {
      "cell_type": "code",
      "metadata": {
        "colab": {
          "base_uri": "https://localhost:8080/"
        },
        "id": "ldW2npkye73F",
        "outputId": "f1e2f539-6035-428c-a3c9-e927da871b41"
      },
      "source": [
        "n, i = map(int, input().split())\n",
        "ans = n - i + 1\n",
        "print(ans)"
      ],
      "execution_count": 2,
      "outputs": [
        {
          "output_type": "stream",
          "text": [
            "15 11\n",
            "5\n"
          ],
          "name": "stdout"
        }
      ]
    },
    {
      "cell_type": "markdown",
      "metadata": {
        "id": "IzQ1h3Q4fP9a"
      },
      "source": [
        "## B - Grid Compression"
      ]
    },
    {
      "cell_type": "code",
      "metadata": {
        "colab": {
          "base_uri": "https://localhost:8080/"
        },
        "id": "nRGqQq-Je-hp",
        "outputId": "63c5bb91-f0f5-44df-bd6a-0153783f05a2"
      },
      "source": [
        "h, w = map(int, input().split())\n",
        "a_list = [list(input()) for _ in range(h)]\n",
        "\n",
        "remve_columns = set([i for i in range(w)])\n",
        "\n",
        "a_list = [a for a in a_list if a != ['.'] * w]\n",
        "\n",
        "for i, a in enumerate(a_list):\n",
        "  remve_columns &= set([index for index, val in enumerate(a) if val == '.'])\n",
        "\n",
        "ans_list = []\n",
        "\n",
        "for a in a_list:\n",
        "  a = [val for index, val in enumerate(a) if index not in remve_columns]\n",
        "  ans_list.append(a)\n",
        "\n",
        "for ans in ans_list:\n",
        "  print(''.join(ans))"
      ],
      "execution_count": 19,
      "outputs": [
        {
          "output_type": "stream",
          "text": [
            "3 3\n",
            "#..\n",
            ".#.\n",
            "..#\n",
            "#..\n",
            ".#.\n",
            "..#\n"
          ],
          "name": "stdout"
        }
      ]
    },
    {
      "cell_type": "markdown",
      "metadata": {
        "id": "ZUF5WhSzl-Ps"
      },
      "source": [
        "## C - Candles"
      ]
    },
    {
      "cell_type": "code",
      "metadata": {
        "colab": {
          "base_uri": "https://localhost:8080/"
        },
        "id": "5bjLEhJGgm_b",
        "outputId": "88f09701-cad5-43e3-c565-ef221fc24fa0"
      },
      "source": [
        "n, k = map(int, input().split())\n",
        "x_list = list(map(int, input().split()))\n",
        "\n",
        "ans = 10 ** 18\n",
        "\n",
        "for i in range(n - k + 1):\n",
        "  ans = min(ans, abs(x_list[i]) + abs(x_list[i] - x_list[i + k - 1]), abs(x_list[i + k - 1]) + abs(x_list[i] - x_list[i + k - 1]))\n",
        "\n",
        "print(ans)"
      ],
      "execution_count": 32,
      "outputs": [
        {
          "output_type": "stream",
          "text": [
            "8 5 \n",
            "-9 -7 -4 -3 1 2 3 4\n",
            "10\n"
          ],
          "name": "stdout"
        }
      ]
    },
    {
      "cell_type": "markdown",
      "metadata": {
        "id": "FkK3oJGGtBGs"
      },
      "source": [
        "## D - Median of Medians"
      ]
    },
    {
      "cell_type": "code",
      "metadata": {
        "id": "7-6DaxOpgpnI"
      },
      "source": [
        ""
      ],
      "execution_count": null,
      "outputs": []
    }
  ]
}