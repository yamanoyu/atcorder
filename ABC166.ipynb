{
  "nbformat": 4,
  "nbformat_minor": 0,
  "metadata": {
    "colab": {
      "name": "ABC166.ipynb",
      "provenance": [],
      "collapsed_sections": [],
      "authorship_tag": "ABX9TyNo9AWf4F1sDa0e+PLpSP9X",
      "include_colab_link": true
    },
    "kernelspec": {
      "name": "python3",
      "display_name": "Python 3"
    }
  },
  "cells": [
    {
      "cell_type": "markdown",
      "metadata": {
        "id": "view-in-github",
        "colab_type": "text"
      },
      "source": [
        "<a href=\"https://colab.research.google.com/github/yamanoyu/atcorder/blob/master/ABC166.ipynb\" target=\"_parent\"><img src=\"https://colab.research.google.com/assets/colab-badge.svg\" alt=\"Open In Colab\"/></a>"
      ]
    },
    {
      "cell_type": "markdown",
      "metadata": {
        "id": "tRzNYDA58B3-"
      },
      "source": [
        "## A - A?C"
      ]
    },
    {
      "cell_type": "code",
      "metadata": {
        "colab": {
          "base_uri": "https://localhost:8080/"
        },
        "id": "0kMlSIeh78dw",
        "outputId": "e5894159-cc0a-43c8-f389-76ea090db602"
      },
      "source": [
        "s = input()\n",
        "ans = 'ABC' if s == 'ARC' else 'ARC'\n",
        "print(ans)"
      ],
      "execution_count": null,
      "outputs": [
        {
          "output_type": "stream",
          "text": [
            "ARC\n",
            "ABC\n"
          ],
          "name": "stdout"
        }
      ]
    },
    {
      "cell_type": "markdown",
      "metadata": {
        "id": "gc6jANJM8YDt"
      },
      "source": [
        "## B - Trick or Treat"
      ]
    },
    {
      "cell_type": "code",
      "metadata": {
        "colab": {
          "base_uri": "https://localhost:8080/"
        },
        "id": "0ZxZetgw8D7m",
        "outputId": "e517c62e-7cd8-4039-b4e6-39f011176794"
      },
      "source": [
        "n, k = map(int, input().split())\n",
        "ans_set = set(range(1, n+1))\n",
        "\n",
        "for _ in range(k):\n",
        "  d = int(input())\n",
        "  a_list = list(map(int, input().split()))\n",
        "\n",
        "  for a in a_list:\n",
        "    if a in ans_set: ans_set.remove(a)\n",
        "    \n",
        "ans = len(ans_set)\n",
        "print(ans)"
      ],
      "execution_count": null,
      "outputs": [
        {
          "output_type": "stream",
          "text": [
            "3 2\n",
            "2\n",
            "1 3\n",
            "1\n",
            "3\n",
            "1\n"
          ],
          "name": "stdout"
        }
      ]
    },
    {
      "cell_type": "markdown",
      "metadata": {
        "id": "ktdSQde99jyk"
      },
      "source": [
        "## C - Peaks"
      ]
    },
    {
      "cell_type": "code",
      "metadata": {
        "colab": {
          "base_uri": "https://localhost:8080/"
        },
        "id": "-p6pjeUhBWWN",
        "outputId": "8593b914-a6b9-4985-9c17-d456b36138f1"
      },
      "source": [
        "n, m = map(int, input().split())\n",
        "h_list = list(map(int, input().split()))\n",
        "\n",
        "road_list = [0] * n\n",
        "\n",
        "for _ in range(m):\n",
        "  a, b = list(map(int, input().split()))\n",
        "  if h_list[a - 1] >= h_list[b - 1]:\n",
        "    road_list[b - 1] = -1\n",
        "  if h_list[a - 1] <= h_list[b - 1]:\n",
        "    road_list[a - 1] = -1\n",
        "  \n",
        "ans = road_list.count(0)\n",
        "print(ans)"
      ],
      "execution_count": 7,
      "outputs": [
        {
          "output_type": "stream",
          "text": [
            "4 3\n",
            "1 2 3 4\n",
            "1 3\n",
            "2 3\n",
            "2 4\n",
            "2\n"
          ],
          "name": "stdout"
        }
      ]
    },
    {
      "cell_type": "markdown",
      "metadata": {
        "id": "3kUpZbOXDLKZ"
      },
      "source": [
        "## D - I hate Factorization"
      ]
    },
    {
      "cell_type": "code",
      "metadata": {
        "colab": {
          "base_uri": "https://localhost:8080/"
        },
        "id": "pRZcG34cDL6y",
        "outputId": "c4a05a0c-651c-4a5c-ed92-565279c2f1ec"
      },
      "source": [
        "x = int(input())\n",
        "\n",
        "for a in range(-118, 120):\n",
        "  for b in range(-119, 119):\n",
        "    if pow(a, 5) - pow(b, 5) == x:\n",
        "      print(a, b)\n",
        "      exit()"
      ],
      "execution_count": 12,
      "outputs": [
        {
          "output_type": "stream",
          "text": [
            "33\n",
            "1 -2\n",
            "2 -1\n"
          ],
          "name": "stdout"
        }
      ]
    }
  ]
}