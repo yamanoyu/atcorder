{
  "nbformat": 4,
  "nbformat_minor": 0,
  "metadata": {
    "colab": {
      "name": "ABC173.ipynb",
      "provenance": [],
      "collapsed_sections": [],
      "authorship_tag": "ABX9TyP+J0o630Hpz4vQzcza+s+0",
      "include_colab_link": true
    },
    "kernelspec": {
      "name": "python3",
      "display_name": "Python 3"
    },
    "language_info": {
      "name": "python"
    }
  },
  "cells": [
    {
      "cell_type": "markdown",
      "metadata": {
        "id": "view-in-github",
        "colab_type": "text"
      },
      "source": [
        "<a href=\"https://colab.research.google.com/github/yamanoyu/atcorder/blob/master/ABC173.ipynb\" target=\"_parent\"><img src=\"https://colab.research.google.com/assets/colab-badge.svg\" alt=\"Open In Colab\"/></a>"
      ]
    },
    {
      "cell_type": "markdown",
      "metadata": {
        "id": "Qe0PD-HC3YFA"
      },
      "source": [
        "## A - Payment"
      ]
    },
    {
      "cell_type": "code",
      "metadata": {
        "colab": {
          "base_uri": "https://localhost:8080/"
        },
        "id": "gg2Hr6W13KHX",
        "outputId": "477df14a-6e85-496d-a560-08698ae9c822"
      },
      "source": [
        "n = int(input())\n",
        "ans = 1000 - n % 1000 if n % 1000 != 0 else 0\n",
        "print(ans)"
      ],
      "execution_count": 2,
      "outputs": [
        {
          "output_type": "stream",
          "text": [
            "1900\n",
            "100\n"
          ],
          "name": "stdout"
        }
      ]
    },
    {
      "cell_type": "markdown",
      "metadata": {
        "id": "j9bBOEuv4LT8"
      },
      "source": [
        "## B - Judge Status Summary"
      ]
    },
    {
      "cell_type": "code",
      "metadata": {
        "colab": {
          "base_uri": "https://localhost:8080/"
        },
        "id": "tFcnmeSe3Y1H",
        "outputId": "f07fa48a-9769-4a09-9844-527ecefae3df"
      },
      "source": [
        "from collections import defaultdict\n",
        "\n",
        "\n",
        "n = int(input())\n",
        "ans_dict = defaultdict(int)\n",
        "\n",
        "for _ in range(n):\n",
        "  s = input()\n",
        "  ans_dict[s] += 1\n",
        "\n",
        "result_lsit = ['AC', 'WA', 'TLE', 'RE']\n",
        "for r in result_lsit:\n",
        "  print(r, ' x ', ans_dict[r])"
      ],
      "execution_count": 5,
      "outputs": [
        {
          "output_type": "stream",
          "text": [
            "4\n",
            "AC\n",
            "WA\n",
            "TLE\n",
            "RE\n",
            "AC  x  1\n",
            "WA  x  1\n",
            "TLE  x  1\n",
            "RE  x  1\n"
          ],
          "name": "stdout"
        }
      ]
    },
    {
      "cell_type": "markdown",
      "metadata": {
        "id": "KMcr0Ovd5RvQ"
      },
      "source": [
        "## C - H and V"
      ]
    },
    {
      "cell_type": "code",
      "metadata": {
        "colab": {
          "base_uri": "https://localhost:8080/"
        },
        "id": "EoRWRWX45CyG",
        "outputId": "ea5385dd-5719-473d-bba2-e4c049410fb1"
      },
      "source": [
        "import itertools\n",
        "\n",
        "\n",
        "h, w, k = map(int, input().split())\n",
        "c_list = [list(input()) for _ in range(h)]\n",
        "\n",
        "ans = 0\n",
        "hw_list = []\n",
        "\n",
        "for n in range(2 ** (h + w)):\n",
        "  _hw_list = []\n",
        "  bit_flag = bin(n)[2:].zfill(h + w)\n",
        "  for bf_i, bf in enumerate(bit_flag):\n",
        "    if bf == '1':\n",
        "      _hw_list.append(bf_i)\n",
        "  hw_list.append(_hw_list)  \n",
        "\n",
        "for hw in hw_list:\n",
        "  _ans = 0\n",
        "  h_del = []\n",
        "  w_del = []\n",
        "\n",
        "  for i in hw:\n",
        "    if i < h:\n",
        "      h_del.append(i)\n",
        "    else:\n",
        "      i -= h\n",
        "      w_del.append(i)\n",
        "\n",
        "  for index, c in enumerate(c_list):\n",
        "    if index not in h_del:\n",
        "      for j in range(w):\n",
        "        if j not in w_del and c[j] == '#':\n",
        "          _ans += 1\n",
        "  if _ans == k: ans += 1\n",
        "  \n",
        "print(ans)"
      ],
      "execution_count": 23,
      "outputs": [
        {
          "output_type": "stream",
          "text": [
            "2 3 4\n",
            "..#\n",
            "###\n",
            "[[], [4], [3], [3, 4], [2], [2, 4], [2, 3], [2, 3, 4], [1], [1, 4], [1, 3], [1, 3, 4], [1, 2], [1, 2, 4], [1, 2, 3], [1, 2, 3, 4], [0], [0, 4], [0, 3], [0, 3, 4], [0, 2], [0, 2, 4], [0, 2, 3], [0, 2, 3, 4], [0, 1], [0, 1, 4], [0, 1, 3], [0, 1, 3, 4], [0, 1, 2], [0, 1, 2, 4], [0, 1, 2, 3], [0, 1, 2, 3, 4]]\n",
            "[] []\n",
            "[] [2]\n",
            "[] [1]\n",
            "[] [1, 2]\n",
            "[] [0]\n",
            "[] [0, 2]\n",
            "[] [0, 1]\n",
            "[] [0, 1, 2]\n",
            "[1] []\n",
            "[1] [2]\n",
            "[1] [1]\n",
            "[1] [1, 2]\n",
            "[1] [0]\n",
            "[1] [0, 2]\n",
            "[1] [0, 1]\n",
            "[1] [0, 1, 2]\n",
            "[0] []\n",
            "[0] [2]\n",
            "[0] [1]\n",
            "[0] [1, 2]\n",
            "[0] [0]\n",
            "[0] [0, 2]\n",
            "[0] [0, 1]\n",
            "[0] [0, 1, 2]\n",
            "[0, 1] []\n",
            "[0, 1] [2]\n",
            "[0, 1] [1]\n",
            "[0, 1] [1, 2]\n",
            "[0, 1] [0]\n",
            "[0, 1] [0, 2]\n",
            "[0, 1] [0, 1]\n",
            "[0, 1] [0, 1, 2]\n",
            "1\n"
          ],
          "name": "stdout"
        }
      ]
    },
    {
      "cell_type": "markdown",
      "metadata": {
        "id": "FPiij-93O2Of"
      },
      "source": [
        "## D - Chat in a Circle"
      ]
    },
    {
      "cell_type": "code",
      "metadata": {
        "id": "SUXEURZ8If_8"
      },
      "source": [
        ""
      ],
      "execution_count": 24,
      "outputs": []
    }
  ]
}