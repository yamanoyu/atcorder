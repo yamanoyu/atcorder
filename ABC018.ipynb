{
 "cells": [
  {
   "cell_type": "markdown",
   "metadata": {},
   "source": [
    "## A - 豆まき"
   ]
  },
  {
   "cell_type": "code",
   "execution_count": 4,
   "metadata": {},
   "outputs": [
    {
     "name": "stdout",
     "output_type": "stream",
     "text": [
      "6\n",
      "45\n",
      "345\n",
      "3\n",
      "2\n",
      "1\n"
     ]
    }
   ],
   "source": [
    "scores = []\n",
    "for _ in range(3):\n",
    "    scores.append(int(input()))\n",
    "score_rank = sorted(scores, reverse=True)\n",
    "\n",
    "for score in scores:\n",
    "    ans = score_rank.index(score) + 1\n",
    "    print(ans)"
   ]
  },
  {
   "cell_type": "markdown",
   "metadata": {},
   "source": [
    "## B - 文字列の反転"
   ]
  },
  {
   "cell_type": "code",
   "execution_count": 45,
   "metadata": {},
   "outputs": [
    {
     "name": "stdout",
     "output_type": "stream",
     "text": [
      "abcdef\n",
      "2\n",
      "3 5\n",
      "1 4\n",
      "['a', 'b', 'e', 'd', 'c', 'f']\n",
      "['d', 'e', 'b', 'a', 'c', 'f']\n",
      "debacf\n"
     ]
    }
   ],
   "source": [
    "s = list(input())\n",
    "n = int(input())\n",
    "reverse_list = [list(map(int, input().split())) for _ in range(n)]\n",
    "\n",
    "for r in reverse_list:\n",
    "    s = s[:r[0]-1] + list(reversed(s[r[0]-1:r[1]])) + s[r[1]:]\n",
    "\n",
    "ans = ''.join(s)\n",
    "print(ans)"
   ]
  },
  {
   "cell_type": "markdown",
   "metadata": {},
   "source": [
    "## C - 菱型カウント"
   ]
  },
  {
   "cell_type": "code",
   "execution_count": 72,
   "metadata": {},
   "outputs": [
    {
     "name": "stdout",
     "output_type": "stream",
     "text": [
      "4 5 2\n",
      "xoooo\n",
      "oooox\n",
      "ooooo\n",
      "oxxoo\n",
      "3\n"
     ]
    }
   ],
   "source": [
    "# 未実装\n",
    "r, c, k = map(int, input().split())\n",
    "s_list = [list(input()) for _ in range(r)]\n",
    "\n",
    "x_list = list(range(k, r - k + 2))\n",
    "y_list = list(range(k, c - k + 2))\n",
    "\n",
    "ans = 0\n",
    "\n",
    "for x in x_list:\n",
    "    for y in y_list:\n",
    "        if s_list[x-1][y-1] == 'x':\n",
    "            break\n",
    "        else:\n",
    "            m_list = []\n",
    "            for m in range(k):\n",
    "                for mk in range(k-m):\n",
    "                    try:\n",
    "                        m_list.append(s_list[x-1+m][y-1+mk])\n",
    "                        m_list.append(s_list[x-1+m][y-1-mk])\n",
    "                        m_list.append(s_list[x-1-m][y-1+mk])\n",
    "                        m_list.append(s_list[x-1-m][y-1-mk])\n",
    "                    except IndexError:\n",
    "                        break\n",
    "\n",
    "            if m_list.count('o') == k * (k + 1) * 2:\n",
    "                ans += 1\n",
    "\n",
    "print(ans)"
   ]
  },
  {
   "cell_type": "markdown",
   "metadata": {},
   "source": [
    "## D - バレンタインデー"
   ]
  },
  {
   "cell_type": "code",
   "execution_count": 74,
   "metadata": {},
   "outputs": [
    {
     "name": "stdout",
     "output_type": "stream",
     "text": [
      "3 4 2 3 7\n",
      "1 1 9\n",
      "1 2 7\n",
      "1 3 15\n",
      "1 4 6\n",
      "2 2 3\n",
      "2 4 6\n",
      "3 3 6\n",
      "37\n"
     ]
    }
   ],
   "source": [
    "import itertools\n",
    "\n",
    "\n",
    "n, m, p, q, r = map(int, input().split())\n",
    "happiness = [[0] * (m + 1) for _ in range(n+1)]\n",
    "\n",
    "ans = 0\n",
    "\n",
    "for _ in range(r):\n",
    "    x, y, z = map(int, input().split())\n",
    "    happiness[x][y] = z \n",
    "\n",
    "girls_cmb = list(itertools.combinations(range(1, n+1), p))\n",
    "\n",
    "# グループ内の女子を固定\n",
    "for girls in girls_cmb:\n",
    "    # ある男子がグループに入るといくら幸福度が得られるか\n",
    "    happiness_selected_boy = [0] * (m + 1)\n",
    "    for girl in girls:\n",
    "        for boy in range(1, m+1):\n",
    "            happiness_selected_boy[boy] += happiness[girl][boy]\n",
    "    # 幸福度の大きい男子を貪欲にQ人選ぶ\n",
    "    ans = max(ans, sum(sorted(happiness_selected_boy, reverse=True)[:q]))\n",
    "\n",
    "print(ans)"
   ]
  }
 ],
 "metadata": {
  "kernelspec": {
   "display_name": "Python 3",
   "language": "python",
   "name": "python3"
  },
  "language_info": {
   "codemirror_mode": {
    "name": "ipython",
    "version": 3
   },
   "file_extension": ".py",
   "mimetype": "text/x-python",
   "name": "python",
   "nbconvert_exporter": "python",
   "pygments_lexer": "ipython3",
   "version": "3.7.4"
  }
 },
 "nbformat": 4,
 "nbformat_minor": 4
}
