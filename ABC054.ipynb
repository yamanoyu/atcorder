{
 "cells": [
  {
   "cell_type": "markdown",
   "metadata": {},
   "source": [
    "## A - One Card Poker"
   ]
  },
  {
   "cell_type": "code",
   "execution_count": 1,
   "metadata": {},
   "outputs": [
    {
     "name": "stdout",
     "output_type": "stream",
     "text": [
      "1 2\n",
      "Alice\n"
     ]
    }
   ],
   "source": [
    "a, b = map(int, input().split())\n",
    "\n",
    "if a == b:\n",
    "    ans = 'Draw'\n",
    "else:\n",
    "    if a == 1:\n",
    "        ans = 'Alice'\n",
    "    elif b == 1:\n",
    "        ans = 'Bob'\n",
    "    elif a != 1 and a > b:\n",
    "        ans = 'Alice'\n",
    "    else:\n",
    "        ans = 'Bob'\n",
    "        \n",
    "print(ans)"
   ]
  },
  {
   "cell_type": "markdown",
   "metadata": {},
   "source": [
    "## B - Template Matching"
   ]
  },
  {
   "cell_type": "code",
   "execution_count": 3,
   "metadata": {},
   "outputs": [
    {
     "name": "stdout",
     "output_type": "stream",
     "text": [
      "2 1\n",
      "##\n",
      "..\n",
      ".\n",
      "Yes\n"
     ]
    }
   ],
   "source": [
    "n, m = map(int, input().split())\n",
    "\n",
    "a_list = [input() for _ in range(n)]\n",
    "b_list = [input() for _ in range(m)]\n",
    "\n",
    "ans = 'No'\n",
    "\n",
    "for i in range(len(a_list) - len(b_list) + 1):\n",
    "    for j in range(len(a_list) - len(b_list) + 1):\n",
    "        a_cut_list = []\n",
    "        for k in range(len(b_list)):\n",
    "            a_cut_list.append(a_list[i+k][j:j+len(b_list)])\n",
    "            if a_cut_list == b_list:\n",
    "                ans = 'Yes'\n",
    "                break\n",
    "\n",
    "print(ans)"
   ]
  },
  {
   "cell_type": "markdown",
   "metadata": {},
   "source": [
    "## C - One-stroke Path"
   ]
  },
  {
   "cell_type": "code",
   "execution_count": null,
   "metadata": {},
   "outputs": [],
   "source": [
    "n, m = map(int, input().split())\n"
   ]
  }
 ],
 "metadata": {
  "kernelspec": {
   "display_name": "Python 3",
   "language": "python",
   "name": "python3"
  },
  "language_info": {
   "codemirror_mode": {
    "name": "ipython",
    "version": 3
   },
   "file_extension": ".py",
   "mimetype": "text/x-python",
   "name": "python",
   "nbconvert_exporter": "python",
   "pygments_lexer": "ipython3",
   "version": "3.7.4"
  }
 },
 "nbformat": 4,
 "nbformat_minor": 4
}
