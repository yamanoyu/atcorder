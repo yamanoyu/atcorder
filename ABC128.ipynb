{
  "nbformat": 4,
  "nbformat_minor": 0,
  "metadata": {
    "colab": {
      "name": "ABC128.ipynb",
      "provenance": [],
      "collapsed_sections": [],
      "authorship_tag": "ABX9TyO5kV2kJsoFqBt/9XGNif+F",
      "include_colab_link": true
    },
    "kernelspec": {
      "name": "python3",
      "display_name": "Python 3"
    }
  },
  "cells": [
    {
      "cell_type": "markdown",
      "metadata": {
        "id": "view-in-github",
        "colab_type": "text"
      },
      "source": [
        "<a href=\"https://colab.research.google.com/github/yamanoyu/atcorder/blob/master/ABC128.ipynb\" target=\"_parent\"><img src=\"https://colab.research.google.com/assets/colab-badge.svg\" alt=\"Open In Colab\"/></a>"
      ]
    },
    {
      "cell_type": "markdown",
      "metadata": {
        "id": "sZXthiUTLWhB"
      },
      "source": [
        "## A - Apple Pie"
      ]
    },
    {
      "cell_type": "code",
      "metadata": {
        "colab": {
          "base_uri": "https://localhost:8080/"
        },
        "id": "28gUE2r8LR3c",
        "outputId": "5dfba753-e8ca-43a1-b85f-b0a96211465e"
      },
      "source": [
        "a, p = map(int, input().split())\n",
        "ans = (a * 3 + p) // 2\n",
        "print(ans)"
      ],
      "execution_count": 1,
      "outputs": [
        {
          "output_type": "stream",
          "text": [
            "32 21\n",
            "58\n"
          ],
          "name": "stdout"
        }
      ]
    },
    {
      "cell_type": "markdown",
      "metadata": {
        "id": "z1QNEGXmQTDy"
      },
      "source": [
        "## B - Guidebook"
      ]
    },
    {
      "cell_type": "code",
      "metadata": {
        "colab": {
          "base_uri": "https://localhost:8080/"
        },
        "id": "bNx6eSieQSVQ",
        "outputId": "5ff8e3a1-3517-4045-ae6d-419fdc2ce51d"
      },
      "source": [
        "n = int(input())\n",
        "sp_list = []\n",
        "\n",
        "for _ in range(n):\n",
        "  s, p = input().split()\n",
        "  sp_list.append([s, 100 - int(p)])\n",
        "\n",
        "sp_list_sort = sorted(sp_list)\n",
        "\n",
        "for sp in sp_list_sort:\n",
        "  ans = sp_list.index(sp) + 1\n",
        "  print(ans)"
      ],
      "execution_count": 4,
      "outputs": [
        {
          "output_type": "stream",
          "text": [
            "6\n",
            "khabarovsk 20\n",
            "moscow 10\n",
            "kazan 50\n",
            "kazan 35\n",
            "moscow 60\n",
            "khabarovsk 40\n",
            "3\n",
            "4\n",
            "6\n",
            "1\n",
            "5\n",
            "2\n"
          ],
          "name": "stdout"
        }
      ]
    },
    {
      "cell_type": "markdown",
      "metadata": {
        "id": "r8mUW7oRUDUQ"
      },
      "source": [
        "## C - Switches"
      ]
    },
    {
      "cell_type": "code",
      "metadata": {
        "colab": {
          "base_uri": "https://localhost:8080/"
        },
        "id": "xZS88dzULXL3",
        "outputId": "fe01c015-8d4d-4887-ea48-141a0f084d91"
      },
      "source": [
        "n, m = map(int, input().split())\n",
        "s_lists = [list(map(int, input().split()))[1:] for _ in range(m)]\n",
        "\n",
        "p_list = list(map(int, input().split()))\n",
        "ans = 0\n",
        "\n",
        "for i in range(2 ** n):\n",
        "  bin_list = str(bin(i)[2:].zfill(n))\n",
        "\n",
        "  flag = 0\n",
        "\n",
        "  for i, s_list in enumerate(s_lists):\n",
        "    s_cnt = 0\n",
        "\n",
        "    for s in s_list:\n",
        "      s_cnt += int(bin_list[s - 1])\n",
        "\n",
        "    if s_cnt % 2 != p_list[i]:\n",
        "      flag = 1\n",
        "      break\n",
        "    \n",
        "  if flag == 0:\n",
        "    ans += 1\n",
        "\n",
        "print(ans)\n",
        "  "
      ],
      "execution_count": 13,
      "outputs": [
        {
          "output_type": "stream",
          "text": [
            "2 2\n",
            "2 1 2\n",
            "1 2\n",
            "0 1\n",
            "0\n"
          ],
          "name": "stdout"
        }
      ]
    },
    {
      "cell_type": "markdown",
      "metadata": {
        "id": "oh3b4VOobG5X"
      },
      "source": [
        "## D - equeue"
      ]
    },
    {
      "cell_type": "code",
      "metadata": {
        "colab": {
          "base_uri": "https://localhost:8080/"
        },
        "id": "e7W_ltXeX9Tz",
        "outputId": "057475f2-667e-421e-c7b9-94d194e0fa29"
      },
      "source": [
        "n, k = map(int, input().split())\n",
        "v_list = list(map(int, input().split()))\n",
        "v_list_right = list(reversed(v_list))\n",
        "\n",
        "ans = 0\n",
        "\n",
        "if k >= n * 2:\n",
        "  ans = sum(v_list) - sum([v for v in v_list if v < 0])\n",
        "else:\n",
        "  ans = 0\n",
        "\n",
        "  for i in range(k + 1):\n",
        "    value_list = []\n",
        "    for l in range(i + 1):\n",
        "      value_list = v_list[:l] + v_list_right[:i - l]\n",
        "\n",
        "      value_list_minus = sorted([v for v in value_list if v < 0])\n",
        "      value = sum(value_list) - sum(value_list_minus[:(k - i)])\n",
        "\n",
        "      ans = max(ans, value)\n",
        "\n",
        "print(ans)"
      ],
      "execution_count": 31,
      "outputs": [
        {
          "output_type": "stream",
          "text": [
            "6 4\n",
            "-10 8 2 1 2 6\n",
            "14\n"
          ],
          "name": "stdout"
        }
      ]
    },
    {
      "cell_type": "markdown",
      "metadata": {
        "id": "aA3WSAmLNYLG"
      },
      "source": [
        "## E - Roadwork"
      ]
    },
    {
      "cell_type": "code",
      "metadata": {
        "id": "LiblbDNOEc4W"
      },
      "source": [
        ""
      ],
      "execution_count": 31,
      "outputs": []
    },
    {
      "cell_type": "code",
      "metadata": {
        "id": "RyQuelCNKRE1"
      },
      "source": [
        ""
      ],
      "execution_count": null,
      "outputs": []
    }
  ]
}