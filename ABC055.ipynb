{
 "cells": [
  {
   "cell_type": "markdown",
   "metadata": {},
   "source": [
    "## A - Restaurant"
   ]
  },
  {
   "cell_type": "code",
   "execution_count": 1,
   "metadata": {},
   "outputs": [
    {
     "name": "stdout",
     "output_type": "stream",
     "text": [
      "20\n",
      "15800\n"
     ]
    }
   ],
   "source": [
    "n = int(input())\n",
    "ans = n * 800 - (n // 15) * 200\n",
    "print(ans)"
   ]
  },
  {
   "cell_type": "markdown",
   "metadata": {},
   "source": [
    "## B - Training Camp"
   ]
  },
  {
   "cell_type": "code",
   "execution_count": 7,
   "metadata": {},
   "outputs": [
    {
     "name": "stdout",
     "output_type": "stream",
     "text": [
      "100000\n",
      "457992974\n"
     ]
    }
   ],
   "source": [
    "n = int(input())\n",
    "mod = 10 ** 9 + 7\n",
    "ans = 1\n",
    "for i in range(1, n + 1):\n",
    "    ans *= i\n",
    "    ans %= mod\n",
    "    \n",
    "print(ans)"
   ]
  },
  {
   "cell_type": "markdown",
   "metadata": {},
   "source": [
    "\n",
    "## C - Scc Puzzle"
   ]
  },
  {
   "cell_type": "code",
   "execution_count": 11,
   "metadata": {},
   "outputs": [
    {
     "name": "stdout",
     "output_type": "stream",
     "text": [
      "12345 678901\n",
      "175897\n"
     ]
    }
   ],
   "source": [
    "n, m = map(int, input().split())\n",
    "if n * 2 < m:\n",
    "    ans = n + (m - n * 2) // 4\n",
    "else:\n",
    "    ans = m // 2\n",
    "print(ans)"
   ]
  },
  {
   "cell_type": "markdown",
   "metadata": {},
   "source": [
    "## D - Menagerie"
   ]
  },
  {
   "cell_type": "code",
   "execution_count": 26,
   "metadata": {},
   "outputs": [
    {
     "name": "stdout",
     "output_type": "stream",
     "text": [
      "32\n",
      "ooxxoooooxxxoxoooxxxoooxoooxoxxx\n",
      "SWWWWSWWSWSSWWWSWWWWWSWWWSWWWSSW\n"
     ]
    }
   ],
   "source": [
    "n = int(input())\n",
    "s_list = list(input())\n",
    "\n",
    "ans = -1\n",
    "\n",
    "for start in [['S', 'S'], ['S', 'W'], ['W', 'S'], ['W', 'W']]:\n",
    "    ans_list = []\n",
    "    ans_list.extend(start)\n",
    "    for i in range(n):\n",
    "        if i == 0:\n",
    "            if s_list[i] == 'o':\n",
    "                if start[0] == 'S':\n",
    "                    ans_list_last = start[1]\n",
    "                else:\n",
    "                    if start[1] == 'S':\n",
    "                        ans_list_last = 'W'\n",
    "                    else:\n",
    "                        ans_list_last = 'S'\n",
    "            else:\n",
    "                if start[0] == 'S':\n",
    "                    if start[1] == 'S':\n",
    "                        ans_list_last = 'W'\n",
    "                    else:\n",
    "                        ans_list_last = 'S'\n",
    "                else:\n",
    "                    ans_list_last = start[1]\n",
    "        else:\n",
    "            if s_list[i] == 'o':\n",
    "                if ans_list[i] == 'S':\n",
    "                    ans_list.append(ans_list[i-1])\n",
    "                else:\n",
    "                    if ans_list[i-1] == 'S':\n",
    "                        ans_list.append('W')\n",
    "                    else:\n",
    "                        ans_list.append('S')\n",
    "            if s_list[i] == 'x':\n",
    "                if ans_list[i] == 'S':\n",
    "                    if ans_list[i-1] == 'S':\n",
    "                        ans_list.append('W')\n",
    "                    else:\n",
    "                        ans_list.append('S')\n",
    "                else:\n",
    "                    ans_list.append(ans_list[i-1])\n",
    "                    \n",
    "    if ans_list_last == ans_list[-2] and ans_list[0] == ans_list[-1]:\n",
    "        ans = ''.join(ans_list[:-1])\n",
    "    \n",
    "print(ans)"
   ]
  }
 ],
 "metadata": {
  "kernelspec": {
   "display_name": "Python 3",
   "language": "python",
   "name": "python3"
  },
  "language_info": {
   "codemirror_mode": {
    "name": "ipython",
    "version": 3
   },
   "file_extension": ".py",
   "mimetype": "text/x-python",
   "name": "python",
   "nbconvert_exporter": "python",
   "pygments_lexer": "ipython3",
   "version": "3.7.4"
  }
 },
 "nbformat": 4,
 "nbformat_minor": 4
}
