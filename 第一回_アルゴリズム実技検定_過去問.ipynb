{
  "nbformat": 4,
  "nbformat_minor": 0,
  "metadata": {
    "colab": {
      "name": "第一回 アルゴリズム実技検定 過去問.ipynb",
      "provenance": [],
      "authorship_tag": "ABX9TyPzMWWVAFQdejdlgkY2EyUq",
      "include_colab_link": true
    },
    "kernelspec": {
      "name": "python3",
      "display_name": "Python 3"
    },
    "language_info": {
      "name": "python"
    }
  },
  "cells": [
    {
      "cell_type": "markdown",
      "metadata": {
        "id": "view-in-github",
        "colab_type": "text"
      },
      "source": [
        "<a href=\"https://colab.research.google.com/github/yamanoyu/atcorder/blob/master/%E7%AC%AC%E4%B8%80%E5%9B%9E_%E3%82%A2%E3%83%AB%E3%82%B4%E3%83%AA%E3%82%BA%E3%83%A0%E5%AE%9F%E6%8A%80%E6%A4%9C%E5%AE%9A_%E9%81%8E%E5%8E%BB%E5%95%8F.ipynb\" target=\"_parent\"><img src=\"https://colab.research.google.com/assets/colab-badge.svg\" alt=\"Open In Colab\"/></a>"
      ]
    },
    {
      "cell_type": "markdown",
      "metadata": {
        "id": "RUPGksYr_8Mg"
      },
      "source": [
        "## A - 2 倍チェック"
      ]
    },
    {
      "cell_type": "code",
      "metadata": {
        "colab": {
          "base_uri": "https://localhost:8080/"
        },
        "id": "D9M7FSG2_7vy",
        "outputId": "a1a1755b-fcc7-4a1f-d696-6ffad48be765"
      },
      "source": [
        "s = input()\n",
        "\n",
        "num_list = list(map(str, list(range(10))))\n",
        "for i in range(3):\n",
        "  if s[i] not in num_list:\n",
        "    ans = 'error'\n",
        "    break\n",
        "else:\n",
        "  ans = int(s) * 2\n",
        "print(ans)"
      ],
      "execution_count": 4,
      "outputs": [
        {
          "output_type": "stream",
          "text": [
            "012\n",
            "24\n"
          ],
          "name": "stdout"
        }
      ]
    },
    {
      "cell_type": "markdown",
      "metadata": {
        "id": "6zBqW7eBAuTt"
      },
      "source": [
        "## B - 増減管理"
      ]
    },
    {
      "cell_type": "code",
      "metadata": {
        "colab": {
          "base_uri": "https://localhost:8080/"
        },
        "id": "7yV1QUwA_82S",
        "outputId": "3296e310-a50d-4845-884a-c8a16f00e405"
      },
      "source": [
        "n = int(input())\n",
        "\n",
        "pre_num = ''\n",
        "\n",
        "for _ in range(n):\n",
        "  a = int(input())\n",
        "  if pre_num == '':\n",
        "    pre_num = a\n",
        "  else:\n",
        "    if a > pre_num:\n",
        "      ans = 'up ' + str(abs(a - pre_num))\n",
        "    elif a < pre_num:\n",
        "      ans = 'down ' + str(abs(a - pre_num))\n",
        "    else:\n",
        "      ans = 'stay'\n",
        "    \n",
        "    pre_num = a\n",
        "    print(ans)"
      ],
      "execution_count": 6,
      "outputs": [
        {
          "output_type": "stream",
          "text": [
            "2\n",
            "1\n",
            "3\n",
            "up 2\n"
          ],
          "name": "stdout"
        }
      ]
    },
    {
      "cell_type": "markdown",
      "metadata": {
        "id": "lCicyGCNCPcX"
      },
      "source": [
        "## C - 3 番"
      ]
    },
    {
      "cell_type": "code",
      "metadata": {
        "colab": {
          "base_uri": "https://localhost:8080/"
        },
        "id": "Iyw7HJ5xBs8t",
        "outputId": "8d904a5a-762f-420e-8690-7f216307a4de"
      },
      "source": [
        "abcdef_list = list(map(int, input().split()))\n",
        "abcdef_list.sort()\n",
        "ans = abcdef_list[-3]\n",
        "print(ans)"
      ],
      "execution_count": 7,
      "outputs": [
        {
          "output_type": "stream",
          "text": [
            "2 3 4 5 1 6\n",
            "4\n"
          ],
          "name": "stdout"
        }
      ]
    },
    {
      "cell_type": "code",
      "metadata": {
        "id": "ec0R5wbZChF8"
      },
      "source": [
        ""
      ],
      "execution_count": null,
      "outputs": []
    }
  ]
}