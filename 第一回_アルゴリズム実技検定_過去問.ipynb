{
  "nbformat": 4,
  "nbformat_minor": 0,
  "metadata": {
    "colab": {
      "name": "第一回 アルゴリズム実技検定 過去問.ipynb",
      "provenance": [],
      "collapsed_sections": [],
      "authorship_tag": "ABX9TyMkGG89mci7csFe0Gg0cDl6",
      "include_colab_link": true
    },
    "kernelspec": {
      "name": "python3",
      "display_name": "Python 3"
    },
    "language_info": {
      "name": "python"
    }
  },
  "cells": [
    {
      "cell_type": "markdown",
      "metadata": {
        "id": "view-in-github",
        "colab_type": "text"
      },
      "source": [
        "<a href=\"https://colab.research.google.com/github/yamanoyu/atcorder/blob/master/%E7%AC%AC%E4%B8%80%E5%9B%9E_%E3%82%A2%E3%83%AB%E3%82%B4%E3%83%AA%E3%82%BA%E3%83%A0%E5%AE%9F%E6%8A%80%E6%A4%9C%E5%AE%9A_%E9%81%8E%E5%8E%BB%E5%95%8F.ipynb\" target=\"_parent\"><img src=\"https://colab.research.google.com/assets/colab-badge.svg\" alt=\"Open In Colab\"/></a>"
      ]
    },
    {
      "cell_type": "markdown",
      "metadata": {
        "id": "RUPGksYr_8Mg"
      },
      "source": [
        "## A - 2 倍チェック"
      ]
    },
    {
      "cell_type": "code",
      "metadata": {
        "colab": {
          "base_uri": "https://localhost:8080/"
        },
        "id": "D9M7FSG2_7vy",
        "outputId": "a1a1755b-fcc7-4a1f-d696-6ffad48be765"
      },
      "source": [
        "s = input()\n",
        "\n",
        "num_list = list(map(str, list(range(10))))\n",
        "for i in range(3):\n",
        "  if s[i] not in num_list:\n",
        "    ans = 'error'\n",
        "    break\n",
        "else:\n",
        "  ans = int(s) * 2\n",
        "print(ans)"
      ],
      "execution_count": null,
      "outputs": [
        {
          "output_type": "stream",
          "text": [
            "012\n",
            "24\n"
          ],
          "name": "stdout"
        }
      ]
    },
    {
      "cell_type": "markdown",
      "metadata": {
        "id": "6zBqW7eBAuTt"
      },
      "source": [
        "## B - 増減管理"
      ]
    },
    {
      "cell_type": "code",
      "metadata": {
        "colab": {
          "base_uri": "https://localhost:8080/"
        },
        "id": "7yV1QUwA_82S",
        "outputId": "3296e310-a50d-4845-884a-c8a16f00e405"
      },
      "source": [
        "n = int(input())\n",
        "\n",
        "pre_num = ''\n",
        "\n",
        "for _ in range(n):\n",
        "  a = int(input())\n",
        "  if pre_num == '':\n",
        "    pre_num = a\n",
        "  else:\n",
        "    if a > pre_num:\n",
        "      ans = 'up ' + str(abs(a - pre_num))\n",
        "    elif a < pre_num:\n",
        "      ans = 'down ' + str(abs(a - pre_num))\n",
        "    else:\n",
        "      ans = 'stay'\n",
        "    \n",
        "    pre_num = a\n",
        "    print(ans)"
      ],
      "execution_count": null,
      "outputs": [
        {
          "output_type": "stream",
          "text": [
            "2\n",
            "1\n",
            "3\n",
            "up 2\n"
          ],
          "name": "stdout"
        }
      ]
    },
    {
      "cell_type": "markdown",
      "metadata": {
        "id": "lCicyGCNCPcX"
      },
      "source": [
        "## C - 3 番"
      ]
    },
    {
      "cell_type": "code",
      "metadata": {
        "colab": {
          "base_uri": "https://localhost:8080/"
        },
        "id": "Iyw7HJ5xBs8t",
        "outputId": "8d904a5a-762f-420e-8690-7f216307a4de"
      },
      "source": [
        "abcdef_list = list(map(int, input().split()))\n",
        "abcdef_list.sort()\n",
        "ans = abcdef_list[-3]\n",
        "print(ans)"
      ],
      "execution_count": null,
      "outputs": [
        {
          "output_type": "stream",
          "text": [
            "2 3 4 5 1 6\n",
            "4\n"
          ],
          "name": "stdout"
        }
      ]
    },
    {
      "cell_type": "markdown",
      "metadata": {
        "id": "Vv46f6RaEsrU"
      },
      "source": [
        "## D - 重複検査"
      ]
    },
    {
      "cell_type": "code",
      "metadata": {
        "colab": {
          "base_uri": "https://localhost:8080/"
        },
        "id": "Pbgxwv8bEsLv",
        "outputId": "96126f30-4448-4f27-e8d9-76b7ca3fe3ea"
      },
      "source": [
        "n = int(input())\n",
        "a_list = [int(input()) for _ in range(n)]\n",
        "\n",
        "a_set = set(a_list)\n",
        "a_list.sort()\n",
        "\n",
        "if len(a_set) == n:\n",
        "  ans = 'Correct'\n",
        "else:\n",
        "  incorrect_num = sum(list(range(1, n + 1))) - sum(list(a_set))\n",
        "  lost_num = incorrect_num - sum(list(range(1, n + 1))) + sum(a_list)\n",
        "  ans = str(lost_num) + ' ' + str(incorrect_num)\n",
        "  \n",
        "print(ans)"
      ],
      "execution_count": null,
      "outputs": [
        {
          "output_type": "stream",
          "text": [
            "2\n",
            "2\n",
            "2\n",
            "1 2\n"
          ],
          "name": "stdout"
        }
      ]
    },
    {
      "cell_type": "markdown",
      "metadata": {
        "id": "KCKqh00lNfTS"
      },
      "source": [
        "## E - SNS のログ"
      ]
    },
    {
      "cell_type": "code",
      "metadata": {
        "id": "ec0R5wbZChF8",
        "colab": {
          "base_uri": "https://localhost:8080/"
        },
        "outputId": "68cc0fe6-b6fe-42ec-d4a2-6a65ca13fbb0"
      },
      "source": [
        "# WA\n",
        "n, q = map(int, input().split())\n",
        "f_list = [['N'] * n for _ in range(n)]\n",
        "\n",
        "for _ in range(q):\n",
        "  s = input()\n",
        "  if s[0] == '1':\n",
        "    f_list[int(s[2]) - 1][int(s[4]) - 1] = 'Y'\n",
        "  elif s[0] == '2':\n",
        "    user = int(s[2])\n",
        "    for i in range(n):\n",
        "      if i != user - 1:\n",
        "        if f_list[i][user - 1] == 'Y':\n",
        "          f_list[user - 1][i] = 'Y'\n",
        "  else:\n",
        "    user = int(s[2])\n",
        "    follow = []\n",
        "    for i in range(n):\n",
        "      if f_list[user - 1][i] == 'Y':\n",
        "        follow.append(i)\n",
        "    for f in follow:\n",
        "      for j in range(n):\n",
        "        if f_list[f][j] == 'Y':\n",
        "          f_list[user - 1][j] = 'Y'\n",
        "\n",
        "for f in f_list:\n",
        "  ans = ''.join(f)\n",
        "  print(ans)"
      ],
      "execution_count": null,
      "outputs": [
        {
          "output_type": "stream",
          "text": [
            "3 4\n",
            "1 1 2\n",
            "1 2 3\n",
            "1 2 1\n",
            "1 3 2\n",
            "NYN\n",
            "YNY\n",
            "NYN\n"
          ],
          "name": "stdout"
        }
      ]
    },
    {
      "cell_type": "markdown",
      "metadata": {
        "id": "5oJY-PDYqqon"
      },
      "source": [
        "## F - DoubleCamelCase Sort"
      ]
    },
    {
      "cell_type": "code",
      "metadata": {
        "colab": {
          "base_uri": "https://localhost:8080/"
        },
        "id": "xM62aMahUAvB",
        "outputId": "0ef17754-c453-4fb0-fed1-d63dfd29353e"
      },
      "source": [
        "s = input()\n",
        "w_list = []\n",
        "\n",
        "start = 0\n",
        "\n",
        "for i in range(len(s)):\n",
        "  if s[i].islower():\n",
        "    continue\n",
        "  else:\n",
        "    if start != i:\n",
        "      w_list.append(s[start:i+1])\n",
        "      start = i + 1\n",
        "w_list.sort(key=str.lower)\n",
        "\n",
        "ans = ''.join(w_list)\n",
        "print(ans)"
      ],
      "execution_count": null,
      "outputs": [
        {
          "output_type": "stream",
          "text": [
            "FisHDoGCaTAAAaAAbCAC\n",
            "AAAaAAbCACCaTDoGFisH\n"
          ],
          "name": "stdout"
        }
      ]
    },
    {
      "cell_type": "markdown",
      "metadata": {
        "id": "YsqqwF-Cdkc8"
      },
      "source": [
        "## G - 組分け"
      ]
    },
    {
      "cell_type": "code",
      "metadata": {
        "id": "n13e_4xAr-f3",
        "colab": {
          "base_uri": "https://localhost:8080/"
        },
        "outputId": "68a98199-d6ae-4586-d694-2cfe0b74fa00"
      },
      "source": [
        "import itertools\n",
        "\n",
        "\n",
        "n = int(input())\n",
        "a_list = [list(map(int, input().split())) for _ in range(n - 1)]\n",
        "\n",
        "def base10to(n, b):\n",
        "  if (int(n / b)):\n",
        "    return base10to(int(n / b), b) + str(n % b)\n",
        "  return str(n % b)\n",
        "\n",
        "\n",
        "ans = - (10 ** 9 + 7)\n",
        "\n",
        "for i in range(3 ** n):\n",
        "  group = base10to(i, 3).zfill(n)\n",
        "  group_list = [[], [], []]\n",
        "  for g_index, g in enumerate(group):\n",
        "    if g == '0':\n",
        "      group_list[0].append(g_index)\n",
        "    elif g == '1':\n",
        "      group_list[1].append(g_index)\n",
        "    else:\n",
        "      group_list[2].append(g_index)\n",
        "\n",
        "  _ans = 0\n",
        "  \n",
        "  #print(group_list)\n",
        "\n",
        "  for g in group_list:\n",
        "    for i_a, i_b in itertools.combinations(g, 2):\n",
        "      if i_a > i_b:\n",
        "        i_a, i_b = i_b, i_a\n",
        "      _ans += a_list[i_a][i_b - i_a - 1]\n",
        "  #print(_ans)\n",
        "\n",
        "  ans = max(_ans, ans)\n",
        "\n",
        "print(ans)"
      ],
      "execution_count": null,
      "outputs": [
        {
          "output_type": "stream",
          "text": [
            "4\n",
            "-1 -1 -1\n",
            "-1 -1\n",
            "-1\n",
            "-1\n"
          ],
          "name": "stdout"
        }
      ]
    },
    {
      "cell_type": "markdown",
      "metadata": {
        "id": "memKP5b9Kegv"
      },
      "source": [
        "## H - まとめ売り"
      ]
    },
    {
      "cell_type": "code",
      "metadata": {
        "id": "nPaWYV8Rev1u"
      },
      "source": [
        "n = int(input())\n",
        "c_list = list(map(int, input().split()))\n",
        "\n",
        "min_odd = min(c_list[0::2])\n",
        "min_even = min(c_list[1::2])\n",
        "\n",
        "q = int(input())\n",
        "\n",
        "for _ in range(q):\n",
        "  s = input()\n",
        "  if s[0] == '1':\n",
        "    s1 = s[2]\n",
        "    s2 = s[4]\n",
        "    target_num = c_list[s1 - 1]\n",
        "    if target_num < s2:\n",
        "      pass\n",
        "    else:\n",
        "      if s1 % 2 == 0:\n",
        "        if target_num == \n",
        "\n"
      ],
      "execution_count": null,
      "outputs": []
    },
    {
      "cell_type": "code",
      "metadata": {
        "colab": {
          "base_uri": "https://localhost:8080/"
        },
        "id": "CSOZmhWQxFPd",
        "outputId": "f0f3676f-183f-447c-cc8a-3519d3af7ab1"
      },
      "source": [
        "a = [1,2,3,4]\n",
        "a[0::2]"
      ],
      "execution_count": 2,
      "outputs": [
        {
          "output_type": "execute_result",
          "data": {
            "text/plain": [
              "[1, 3]"
            ]
          },
          "metadata": {
            "tags": []
          },
          "execution_count": 2
        }
      ]
    },
    {
      "cell_type": "code",
      "metadata": {
        "id": "PC0oS3kOxHtK"
      },
      "source": [
        ""
      ],
      "execution_count": null,
      "outputs": []
    }
  ]
}