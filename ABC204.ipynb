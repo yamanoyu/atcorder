{
  "nbformat": 4,
  "nbformat_minor": 0,
  "metadata": {
    "colab": {
      "name": "ABC204.ipynb",
      "provenance": [],
      "authorship_tag": "ABX9TyMOR2yiRMHWrNYQ3NgvLtso",
      "include_colab_link": true
    },
    "kernelspec": {
      "name": "python3",
      "display_name": "Python 3"
    },
    "language_info": {
      "name": "python"
    }
  },
  "cells": [
    {
      "cell_type": "markdown",
      "metadata": {
        "id": "view-in-github",
        "colab_type": "text"
      },
      "source": [
        "<a href=\"https://colab.research.google.com/github/yamanoyu/atcorder/blob/master/ABC204.ipynb\" target=\"_parent\"><img src=\"https://colab.research.google.com/assets/colab-badge.svg\" alt=\"Open In Colab\"/></a>"
      ]
    },
    {
      "cell_type": "markdown",
      "metadata": {
        "id": "224KhOFtiXDX"
      },
      "source": [
        "## A - Rock-paper-scissors"
      ]
    },
    {
      "cell_type": "code",
      "metadata": {
        "colab": {
          "base_uri": "https://localhost:8080/"
        },
        "id": "sFHTKrVCLGRV",
        "outputId": "7c7fe2ad-b14b-4189-f746-299d2f2abd96"
      },
      "source": [
        "x, y = map(int, input().split())\n",
        "if x == y:\n",
        "  ans = x\n",
        "else:\n",
        "  ans = 3 - x - y\n",
        "print(ans)"
      ],
      "execution_count": 5,
      "outputs": [
        {
          "output_type": "stream",
          "text": [
            "1 2\n",
            "0\n"
          ],
          "name": "stdout"
        }
      ]
    },
    {
      "cell_type": "markdown",
      "metadata": {
        "id": "8g7uJaCjidrr"
      },
      "source": [
        "## B - Nuts"
      ]
    },
    {
      "cell_type": "code",
      "metadata": {
        "colab": {
          "base_uri": "https://localhost:8080/"
        },
        "id": "1ks_GSRGMtCw",
        "outputId": "a2c72010-868b-49a6-e29d-cdd0aca0ec2d"
      },
      "source": [
        "n = int(input())\n",
        "a_list = list(map(int, input().split()))\n",
        "ans = 0\n",
        "for a in a_list:\n",
        "  if a > 10:\n",
        "    ans += a - 10\n",
        "print(ans)"
      ],
      "execution_count": 6,
      "outputs": [
        {
          "output_type": "stream",
          "text": [
            "3\n",
            "6 17 28\n",
            "25\n"
          ],
          "name": "stdout"
        }
      ]
    },
    {
      "cell_type": "markdown",
      "metadata": {
        "id": "LDyakwE2ifEi"
      },
      "source": [
        "## C - Tour"
      ]
    },
    {
      "cell_type": "code",
      "metadata": {
        "colab": {
          "base_uri": "https://localhost:8080/"
        },
        "id": "hPjSiiv4M-YX",
        "outputId": "abd7a2fa-3001-43ab-9f40-087fcef3441c"
      },
      "source": [
        "from collections import deque\n",
        "\n",
        "n, m = map(int, input().split())\n",
        "tree = [set() for _ in range(n)]\n",
        "\n",
        "for _ in range(m):\n",
        "  a, b = map(int, input().split())\n",
        "  tree[a - 1].add(b - 1)\n",
        "\n",
        "def solve(k):\n",
        "  queue = deque([k])\n",
        "\n",
        "  visited = [0] * n\n",
        "  cnt = 0\n",
        "  while queue:\n",
        "    now = queue.popleft()\n",
        "    visited[now] = 1\n",
        "    for i in tree[now]:\n",
        "      if not visited[i]:\n",
        "        queue.append(i)\n",
        "  return sum(visited)\n",
        "\n",
        "ans = 0\n",
        "for i in range(n):\n",
        "  ans += solve(i)\n",
        "print(ans)"
      ],
      "execution_count": 40,
      "outputs": [
        {
          "output_type": "stream",
          "text": [
            "3 3\n",
            "1 2\n",
            "2 3\n",
            "3 2\n",
            "7\n"
          ],
          "name": "stdout"
        }
      ]
    },
    {
      "cell_type": "markdown",
      "metadata": {
        "id": "rBx-iqCEilRE"
      },
      "source": [
        "## D - Cooking"
      ]
    },
    {
      "cell_type": "code",
      "metadata": {
        "colab": {
          "base_uri": "https://localhost:8080/"
        },
        "id": "Keindyx6Ne5O",
        "outputId": "dee65ff6-fb8f-4a13-f08e-3e1cafee753b"
      },
      "source": [
        "# WA\n",
        "import bisect\n",
        "\n",
        "\n",
        "INF = float('inf')\n",
        "\n",
        "n = int(input())\n",
        "t_list = list(map(int, input().split()))\n",
        "t_sum = sum(t_list)\n",
        "\n",
        "dp = [INF] * (t_sum + 1)\n",
        "dp[0] = 0\n",
        "\n",
        "for t in t_list:\n",
        "  \n",
        "  _dp = dp\n",
        "  for j in range(1, t_sum + 1):\n",
        "    idx_prev = max(0, j - t)\n",
        "    _dp[j] = min(dp[j], dp[idx_prev] + t)\n",
        "  dp = _dp\n",
        "  print(dp)\n",
        "\n",
        "ans = t_sum - (bisect.bisect_right(dp, t_sum / 2) - 1)\n",
        "print(ans)"
      ],
      "execution_count": 24,
      "outputs": [
        {
          "output_type": "stream",
          "text": [
            "2\n",
            "100 1\n",
            "[0, 100, 100, 100, 100, 100, 100, 100, 100, 100, 100, 100, 100, 100, 100, 100, 100, 100, 100, 100, 100, 100, 100, 100, 100, 100, 100, 100, 100, 100, 100, 100, 100, 100, 100, 100, 100, 100, 100, 100, 100, 100, 100, 100, 100, 100, 100, 100, 100, 100, 100, 100, 100, 100, 100, 100, 100, 100, 100, 100, 100, 100, 100, 100, 100, 100, 100, 100, 100, 100, 100, 100, 100, 100, 100, 100, 100, 100, 100, 100, 100, 100, 100, 100, 100, 100, 100, 100, 100, 100, 100, 100, 100, 100, 100, 100, 100, 100, 100, 100, 100, 200]\n",
            "[0, 1, 2, 3, 4, 5, 6, 7, 8, 9, 10, 11, 12, 13, 14, 15, 16, 17, 18, 19, 20, 21, 22, 23, 24, 25, 26, 27, 28, 29, 30, 31, 32, 33, 34, 35, 36, 37, 38, 39, 40, 41, 42, 43, 44, 45, 46, 47, 48, 49, 50, 51, 52, 53, 54, 55, 56, 57, 58, 59, 60, 61, 62, 63, 64, 65, 66, 67, 68, 69, 70, 71, 72, 73, 74, 75, 76, 77, 78, 79, 80, 81, 82, 83, 84, 85, 86, 87, 88, 89, 90, 91, 92, 93, 94, 95, 96, 97, 98, 99, 100, 101]\n",
            "51\n"
          ],
          "name": "stdout"
        }
      ]
    },
    {
      "cell_type": "code",
      "metadata": {
        "colab": {
          "base_uri": "https://localhost:8080/"
        },
        "id": "CpN8wWCuRtA-",
        "outputId": "7d4c17e9-634b-485a-b31d-6762dcc153ac"
      },
      "source": [
        "\n",
        "INF = float('inf')\n",
        "\n",
        "n = int(input())\n",
        "t_list = list(map(int, input().split()))\n",
        "t_sum = sum(t_list)\n",
        "\n",
        "\n",
        "# i番目までの品物かつ重量の合計j以下で品物を選んだ場合の価値の最大値\n",
        "dp = [[0] * (t_sum // 2 + 1) for _ in range(n + 1)]\n",
        "\n",
        "# 品物i+1を選ばない場合で仮更新してから、ナップサックにi+1個目を詰め込める場合は再更新\n",
        "for i, t in enumerate(t_list):\n",
        "    for j in range(t_sum // 2 + 1):\n",
        "        dp[i + 1][j] = dp[i][j]\n",
        "        if j - t >= 0:\n",
        "            dp[i + 1][j] = max(dp[i + 1][j], dp[i][j - t] + t)\n",
        "\n",
        "ans = t_sum - dp[-1][-1]\n",
        "print(ans)"
      ],
      "execution_count": 26,
      "outputs": [
        {
          "output_type": "stream",
          "text": [
            "9\n",
            "3 14 15 9 26 5 35 89 79\n",
            "138\n"
          ],
          "name": "stdout"
        }
      ]
    },
    {
      "cell_type": "markdown",
      "metadata": {
        "id": "TWxLAC27iom2"
      },
      "source": [
        "## E - Rush Hour 2"
      ]
    },
    {
      "cell_type": "code",
      "metadata": {
        "id": "NiW48LnSip8F"
      },
      "source": [
        ""
      ],
      "execution_count": null,
      "outputs": []
    },
    {
      "cell_type": "markdown",
      "metadata": {
        "id": "yKBU-w0uiqfZ"
      },
      "source": [
        "## F - Hanjo 2"
      ]
    },
    {
      "cell_type": "code",
      "metadata": {
        "id": "1hm08OA-isFc"
      },
      "source": [
        ""
      ],
      "execution_count": null,
      "outputs": []
    }
  ]
}