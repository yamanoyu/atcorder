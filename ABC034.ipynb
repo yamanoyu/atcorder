{
 "cells": [
  {
   "cell_type": "markdown",
   "metadata": {},
   "source": [
    "## A - テスト"
   ]
  },
  {
   "cell_type": "code",
   "execution_count": 2,
   "metadata": {},
   "outputs": [
    {
     "name": "stdout",
     "output_type": "stream",
     "text": [
      "1 2\n",
      "Better\n"
     ]
    }
   ],
   "source": [
    "x, y = map(int, input().split())\n",
    "\n",
    "if x > y:\n",
    "    ans = 'Worse'\n",
    "elif x < y:\n",
    "    ans = 'Better'\n",
    "\n",
    "print(ans)"
   ]
  },
  {
   "cell_type": "markdown",
   "metadata": {},
   "source": [
    "## B - ペア"
   ]
  },
  {
   "cell_type": "code",
   "execution_count": 4,
   "metadata": {},
   "outputs": [
    {
     "name": "stdout",
     "output_type": "stream",
     "text": [
      "99\n",
      "100\n"
     ]
    }
   ],
   "source": [
    "n = int(input())\n",
    "if n % 2 == 0:\n",
    "    ans = n - 1\n",
    "else:\n",
    "    ans = n + 1\n",
    "print(ans)"
   ]
  },
  {
   "cell_type": "markdown",
   "metadata": {},
   "source": [
    "## C - 経路"
   ]
  },
  {
   "cell_type": "code",
   "execution_count": 10,
   "metadata": {},
   "outputs": [
    {
     "name": "stdout",
     "output_type": "stream",
     "text": [
      "4 3\n",
      "10\n"
     ]
    }
   ],
   "source": [
    "w, h = map(int, input().split())\n",
    "mod = 10 ** 9 + 7\n",
    "\n",
    "def cmb(n, r):\n",
    "    # Combinationを算出, 5C2 = 10など\n",
    "    if n - r < r: r = n - r\n",
    "    if r == 0: return 1\n",
    "    if r == 1: return n\n",
    "\n",
    "    numerator = [n - r + k + 1 for k in range(r)]\n",
    "    denominator = [k + 1 for k in range(r)]\n",
    "\n",
    "    for p in range(2, r+1):\n",
    "        pivot = denominator[p - 1]\n",
    "        if pivot > 1:\n",
    "            offset = (n - r) % p\n",
    "            for k in range(p-1, r, p):\n",
    "                numerator[k - offset] /= pivot\n",
    "                denominator[k] /= pivot\n",
    "    result = 1\n",
    "    for k in range(r):\n",
    "        if numerator[k] > 1:\n",
    "            result *= int(numerator[k])\n",
    "\n",
    "    return result\n",
    "\n",
    "ans = cmb(w + h - 2, w - 1) % mod\n",
    "\n",
    "print(ans)"
   ]
  },
  {
   "cell_type": "markdown",
   "metadata": {},
   "source": [
    "# D - 食塩水"
   ]
  },
  {
   "cell_type": "code",
   "execution_count": 11,
   "metadata": {},
   "outputs": [
    {
     "name": "stdout",
     "output_type": "stream",
     "text": [
      "3 2\n",
      "100 15\n",
      "200 30\n",
      "300 20\n",
      "24.0\n"
     ]
    }
   ],
   "source": [
    "# WA\n",
    "# 濃度の高いものから順番に足すだけではダメ\n",
    "n, k = map(int, input().split())\n",
    "wp_list = []\n",
    "for _ in range(n):\n",
    "    w, p = map(int, input().split())\n",
    "    wp_dict = {}\n",
    "    wp_dict['weight'] = w\n",
    "    wp_dict['concentration'] = p\n",
    "    wp_dict['salt'] = w * p / 100\n",
    "    wp_list.append(wp_dict)\n",
    "    \n",
    "wp_list_sorted = sorted(wp_list, key=lambda x : x['concentration'], reverse=True)[:k]\n",
    "\n",
    "salt_sum = 0\n",
    "weight_sum = 0\n",
    "\n",
    "for wp in wp_list_sorted:\n",
    "    salt_sum += wp['salt']\n",
    "    weight_sum += wp['weight']\n",
    "\n",
    "ans = salt_sum / weight_sum * 100\n",
    "print(ans)"
   ]
  },
  {
   "cell_type": "code",
   "execution_count": null,
   "metadata": {},
   "outputs": [],
   "source": [
    "# 二分探索を使用する\n",
    "n, k = map(int, input().split())\n",
    "wp_list = [list(map(int, input().split())) for _ in range(n)]\n",
    "\n",
    "low = 0\n",
    "high = 100\n",
    "\n"
   ]
  }
 ],
 "metadata": {
  "kernelspec": {
   "display_name": "Python 3",
   "language": "python",
   "name": "python3"
  },
  "language_info": {
   "codemirror_mode": {
    "name": "ipython",
    "version": 3
   },
   "file_extension": ".py",
   "mimetype": "text/x-python",
   "name": "python",
   "nbconvert_exporter": "python",
   "pygments_lexer": "ipython3",
   "version": "3.7.4"
  }
 },
 "nbformat": 4,
 "nbformat_minor": 4
}
