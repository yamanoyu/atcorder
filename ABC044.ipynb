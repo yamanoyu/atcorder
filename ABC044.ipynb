{
 "cells": [
  {
   "cell_type": "markdown",
   "metadata": {},
   "source": [
    "## A - 高橋君とホテルイージー"
   ]
  },
  {
   "cell_type": "code",
   "execution_count": 1,
   "metadata": {},
   "outputs": [
    {
     "name": "stdout",
     "output_type": "stream",
     "text": [
      "5\n",
      "3\n",
      "10000\n",
      "9000\n",
      "48000\n"
     ]
    }
   ],
   "source": [
    "n = int(input())\n",
    "k = int(input())\n",
    "x = int(input())\n",
    "y = int(input())\n",
    "\n",
    "ans = n * x if n <= k else k * x  + (n - k) * y\n",
    "print(ans)"
   ]
  },
  {
   "cell_type": "markdown",
   "metadata": {},
   "source": [
    "## B - 美しい文字列"
   ]
  },
  {
   "cell_type": "code",
   "execution_count": 3,
   "metadata": {},
   "outputs": [
    {
     "name": "stdout",
     "output_type": "stream",
     "text": [
      "qqwwwe\n",
      "No\n"
     ]
    }
   ],
   "source": [
    "w_list = list(input())\n",
    "\n",
    "w_set = list(set(w_list))\n",
    "\n",
    "ans = 'Yes'\n",
    "\n",
    "for w in w_set:\n",
    "    if w_list.count(w) % 2 != 0:\n",
    "        ans = 'No'\n",
    "        break\n",
    "        \n",
    "print(ans)"
   ]
  },
  {
   "cell_type": "markdown",
   "metadata": {},
   "source": [
    "## C - 高橋君とカード"
   ]
  },
  {
   "cell_type": "code",
   "execution_count": 16,
   "metadata": {},
   "outputs": [
    {
     "name": "stdout",
     "output_type": "stream",
     "text": [
      "3 8\n",
      "6 6 9\n",
      "0\n"
     ]
    }
   ],
   "source": [
    "# 全探索 (もちろんTLE)\n",
    "import itertools\n",
    "\n",
    "n, a = map(int, input().split())\n",
    "x_list = list(map(int, input().split()))\n",
    "\n",
    "ans = 0\n",
    "\n",
    "for i in range(1, n + 1):\n",
    "    combination_list = list(itertools.combinations(x_list, i))\n",
    "    \n",
    "    for combination in combination_list:\n",
    "        if a == sum(combination) / len(combination):\n",
    "            ans += 1\n",
    "print(ans)"
   ]
  },
  {
   "cell_type": "markdown",
   "metadata": {},
   "source": [
    "## D - 桁和"
   ]
  },
  {
   "cell_type": "code",
   "execution_count": null,
   "metadata": {},
   "outputs": [],
   "source": [
    "# 全探索 (もちろんTLE)\n",
    "import itertools\n",
    "\n",
    "n, a = map(int, input().split())\n",
    "x_list_org = list(map(int, input().split()))\n",
    "x_list = [x- a for x in x_list_org]\n",
    "\n",
    "ans = 0\n",
    "\n",
    "for i in range(1, n + 1):\n",
    "    combination_list = list(itertools.combinations(x_list, i))\n",
    "    \n",
    "    for combination in combination_list:\n",
    "        if sum(combination) == 0:\n",
    "            ans += 1\n",
    "print(ans)"
   ]
  }
 ],
 "metadata": {
  "kernelspec": {
   "display_name": "Python 3",
   "language": "python",
   "name": "python3"
  },
  "language_info": {
   "codemirror_mode": {
    "name": "ipython",
    "version": 3
   },
   "file_extension": ".py",
   "mimetype": "text/x-python",
   "name": "python",
   "nbconvert_exporter": "python",
   "pygments_lexer": "ipython3",
   "version": "3.7.4"
  }
 },
 "nbformat": 4,
 "nbformat_minor": 4
}
