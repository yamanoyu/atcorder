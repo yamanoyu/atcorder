{
  "nbformat": 4,
  "nbformat_minor": 0,
  "metadata": {
    "colab": {
      "name": "ABC141.ipynb",
      "provenance": [],
      "collapsed_sections": [],
      "authorship_tag": "ABX9TyNa/XfDz4VuBf4ZqCmN6O6x",
      "include_colab_link": true
    },
    "kernelspec": {
      "name": "python3",
      "display_name": "Python 3"
    }
  },
  "cells": [
    {
      "cell_type": "markdown",
      "metadata": {
        "id": "view-in-github",
        "colab_type": "text"
      },
      "source": [
        "<a href=\"https://colab.research.google.com/github/yamanoyu/atcorder/blob/master/ABC141.ipynb\" target=\"_parent\"><img src=\"https://colab.research.google.com/assets/colab-badge.svg\" alt=\"Open In Colab\"/></a>"
      ]
    },
    {
      "cell_type": "markdown",
      "metadata": {
        "id": "LbaP5uFm-WiQ"
      },
      "source": [
        "## A - Weather Prediction"
      ]
    },
    {
      "cell_type": "code",
      "metadata": {
        "colab": {
          "base_uri": "https://localhost:8080/"
        },
        "id": "k4Rq_aAy-G-Y",
        "outputId": "5f09434b-5879-4aa2-bac8-c0fb303ad6de"
      },
      "source": [
        "weather_list = ['Sunny', 'Cloudy', 'Rainy']\n",
        "s = input()\n",
        "ans = weather_list[(weather_list.index(s) + 1) % 3]\n",
        "print(ans)"
      ],
      "execution_count": 2,
      "outputs": [
        {
          "output_type": "stream",
          "text": [
            "Rainy\n",
            "Sunny\n"
          ],
          "name": "stdout"
        }
      ]
    },
    {
      "cell_type": "markdown",
      "metadata": {
        "id": "V4kZTTwqBTeo"
      },
      "source": [
        "## B - Tap Dance"
      ]
    },
    {
      "cell_type": "code",
      "metadata": {
        "colab": {
          "base_uri": "https://localhost:8080/"
        },
        "id": "9vdXTgE3-X10",
        "outputId": "9ef518e2-6a04-47eb-caf6-6cfeb9d1a922"
      },
      "source": [
        "s = input()\n",
        "ans = 'Yes'\n",
        "\n",
        "odd_list = ['R', 'U', 'D']\n",
        "even_list = ['L', 'U', 'D']\n",
        "\n",
        "for i in range(len(s)):\n",
        "  if i % 2 == 0:\n",
        "    if s[i] not in odd_list:\n",
        "      ans = 'No'\n",
        "      break\n",
        "  else:\n",
        "    if s[i] not in even_list:\n",
        "      ans = 'No'\n",
        "      break\n",
        "\n",
        "print(ans)"
      ],
      "execution_count": 7,
      "outputs": [
        {
          "output_type": "stream",
          "text": [
            "ULURU\n",
            "No\n"
          ],
          "name": "stdout"
        }
      ]
    },
    {
      "cell_type": "markdown",
      "metadata": {
        "id": "ro54NZZqB8pI"
      },
      "source": [
        "## C - Attack Survival"
      ]
    },
    {
      "cell_type": "code",
      "metadata": {
        "colab": {
          "base_uri": "https://localhost:8080/"
        },
        "id": "tBVulkaBBc2u",
        "outputId": "ef7a48ff-ed0d-4d0a-cfbd-72d52d5b1914"
      },
      "source": [
        "n, k, q = map(int, input().split())\n",
        "a_dict = {}\n",
        "for i in range(1, n+1):\n",
        "  a_dict[i] = 0\n",
        "\n",
        "for _ in range(q):\n",
        "  a = int(input())\n",
        "  a_dict[a] += 1\n",
        "\n",
        "a_dict_sort = sorted(a_dict.items(), key=lambda x: x[0])\n",
        "\n",
        "for a_key, a_val in a_dict_sort:\n",
        "  ans = 'Yes' if a_val > q - k else 'No'\n",
        "  print(ans)"
      ],
      "execution_count": 10,
      "outputs": [
        {
          "output_type": "stream",
          "text": [
            "6 3 4\n",
            "3\n",
            "1\n",
            "3\n",
            "2\n",
            "No\n",
            "No\n",
            "Yes\n",
            "No\n",
            "No\n",
            "No\n"
          ],
          "name": "stdout"
        }
      ]
    },
    {
      "cell_type": "markdown",
      "metadata": {
        "id": "NGnJoiGBFNmw"
      },
      "source": [
        "## D - Powerful Discount Tickets"
      ]
    },
    {
      "cell_type": "code",
      "metadata": {
        "colab": {
          "base_uri": "https://localhost:8080/"
        },
        "id": "Wss0VQpYFODQ",
        "outputId": "93116cc8-5099-42a9-cc87-de44938826a7"
      },
      "source": [
        "import heapq\n",
        "\n",
        "\n",
        "n, m = map(int, input().split())\n",
        "a_list = list(map(int, input().split()))\n",
        "a_sort_list = []\n",
        "\n",
        "for a in a_list:\n",
        "  heapq.heappush(a_sort_list, -a)\n",
        "\n",
        "for _ in range(m):\n",
        "  a_max = heapq.heappop(a_sort_list)\n",
        "  heapq.heappush(a_sort_list, -((-a_max) // 2))\n",
        "\n",
        "ans = - (sum(a_sort_list))\n",
        "print(ans)"
      ],
      "execution_count": 19,
      "outputs": [
        {
          "output_type": "stream",
          "text": [
            "1 100000\n",
            "1000000000\n",
            "0\n"
          ],
          "name": "stdout"
        }
      ]
    },
    {
      "cell_type": "markdown",
      "metadata": {
        "id": "YakjSqAxJUEZ"
      },
      "source": [
        "## E - Who Says a Pun?"
      ]
    },
    {
      "cell_type": "code",
      "metadata": {
        "id": "MPCRtx35JUgq"
      },
      "source": [
        ""
      ],
      "execution_count": null,
      "outputs": []
    },
    {
      "cell_type": "markdown",
      "metadata": {
        "id": "Wka6knZAKZxL"
      },
      "source": [
        "## F - Xor Sum 3"
      ]
    },
    {
      "cell_type": "code",
      "metadata": {
        "id": "0SF9zK4qNEbv"
      },
      "source": [
        ""
      ],
      "execution_count": null,
      "outputs": []
    }
  ]
}