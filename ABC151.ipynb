{
  "nbformat": 4,
  "nbformat_minor": 0,
  "metadata": {
    "colab": {
      "name": "ABC151.ipynb",
      "provenance": [],
      "collapsed_sections": [],
      "authorship_tag": "ABX9TyPW3Gp+21JcxFdM4DsOEA9T",
      "include_colab_link": true
    },
    "kernelspec": {
      "name": "python3",
      "display_name": "Python 3"
    }
  },
  "cells": [
    {
      "cell_type": "markdown",
      "metadata": {
        "id": "view-in-github",
        "colab_type": "text"
      },
      "source": [
        "<a href=\"https://colab.research.google.com/github/yamanoyu/atcorder/blob/master/ABC151.ipynb\" target=\"_parent\"><img src=\"https://colab.research.google.com/assets/colab-badge.svg\" alt=\"Open In Colab\"/></a>"
      ]
    },
    {
      "cell_type": "markdown",
      "metadata": {
        "id": "G2ysJ9z9Ytqa"
      },
      "source": [
        "## A - Next Alphabet"
      ]
    },
    {
      "cell_type": "code",
      "metadata": {
        "colab": {
          "base_uri": "https://localhost:8080/"
        },
        "id": "Bhby5-spYrHE",
        "outputId": "159f8e8c-ae28-4172-e6ea-bdf781ef8937"
      },
      "source": [
        "c = input()\n",
        "\n",
        "ord_c = ord(c)\n",
        "ans = chr(ord_c + 1)\n",
        "print(ans)"
      ],
      "execution_count": 3,
      "outputs": [
        {
          "output_type": "stream",
          "text": [
            "a\n",
            "b\n"
          ],
          "name": "stdout"
        }
      ]
    },
    {
      "cell_type": "markdown",
      "metadata": {
        "id": "Jg9vyHhGZgJf"
      },
      "source": [
        "## B - Achieve the Goal"
      ]
    },
    {
      "cell_type": "code",
      "metadata": {
        "colab": {
          "base_uri": "https://localhost:8080/"
        },
        "id": "NV8I0UHTYt91",
        "outputId": "15865a01-8fbc-4796-d4f1-34e39eb53982"
      },
      "source": [
        "n, k, m = map(int, input().split())\n",
        "a_list = list(map(int, input().split()))\n",
        "\n",
        "ans = max(0, m * n - sum(a_list)) if m * n - sum(a_list) <= k else -1\n",
        "print(ans)"
      ],
      "execution_count": 6,
      "outputs": [
        {
          "output_type": "stream",
          "text": [
            "5 20 10\n",
            "7 7 7 8\n",
            "21\n"
          ],
          "name": "stdout"
        }
      ]
    },
    {
      "cell_type": "markdown",
      "metadata": {
        "id": "Qw4wedcgbMdF"
      },
      "source": [
        "## C - Welcome to AtCoder"
      ]
    },
    {
      "cell_type": "code",
      "metadata": {
        "colab": {
          "base_uri": "https://localhost:8080/"
        },
        "id": "4xkGnR3TaNWh",
        "outputId": "4eecbb0b-071f-44a1-e20f-c20ac411e758"
      },
      "source": [
        "n, m = map(int, input().split())\n",
        "\n",
        "ac_list = [0] * n\n",
        "wa_list = [0] * n\n",
        "\n",
        "for _ in range(m):\n",
        "  p, s = input().split()\n",
        "  if s == 'WA':\n",
        "    if ac_list[int(p) - 1] == 1:\n",
        "      pass\n",
        "    else:\n",
        "      wa_list[int(p) - 1] += 1\n",
        "  else:\n",
        "    if ac_list[int(p) - 1] == 1:\n",
        "      pass\n",
        "    else:\n",
        "      ac_list[int(p) - 1] = 1\n",
        "\n",
        "ans_ac = 0\n",
        "ans_wa = 0\n",
        "\n",
        "for a, w in zip(ac_list, wa_list):\n",
        "  if a == 1:\n",
        "    ans_ac += 1\n",
        "    ans_wa += w\n",
        "\n",
        "print(ans_ac, ans_wa)"
      ],
      "execution_count": 15,
      "outputs": [
        {
          "output_type": "stream",
          "text": [
            "1 1\n",
            "1 AC\n",
            "1 0\n"
          ],
          "name": "stdout"
        }
      ]
    },
    {
      "cell_type": "markdown",
      "metadata": {
        "id": "-qdVNtkGruBm"
      },
      "source": [
        "## D - Maze Master"
      ]
    },
    {
      "cell_type": "code",
      "metadata": {
        "id": "S7g2-qEEmMcT"
      },
      "source": [
        "h, w = map(int, input().split())\n"
      ],
      "execution_count": null,
      "outputs": []
    }
  ]
}