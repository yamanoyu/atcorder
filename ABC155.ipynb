{
  "nbformat": 4,
  "nbformat_minor": 0,
  "metadata": {
    "colab": {
      "name": "ABC155.ipynb",
      "provenance": [],
      "collapsed_sections": [],
      "authorship_tag": "ABX9TyO4SAHke1FQHJgWHfA0dgSv",
      "include_colab_link": true
    },
    "kernelspec": {
      "name": "python3",
      "display_name": "Python 3"
    }
  },
  "cells": [
    {
      "cell_type": "markdown",
      "metadata": {
        "id": "view-in-github",
        "colab_type": "text"
      },
      "source": [
        "<a href=\"https://colab.research.google.com/github/yamanoyu/atcorder/blob/master/ABC155.ipynb\" target=\"_parent\"><img src=\"https://colab.research.google.com/assets/colab-badge.svg\" alt=\"Open In Colab\"/></a>"
      ]
    },
    {
      "cell_type": "markdown",
      "metadata": {
        "id": "mEhwgFhH8wtM"
      },
      "source": [
        "## A - Poor"
      ]
    },
    {
      "cell_type": "code",
      "metadata": {
        "colab": {
          "base_uri": "https://localhost:8080/"
        },
        "id": "ooOlfr_C8pKD",
        "outputId": "7fa2446e-bcfb-4f21-d1dd-3efd9d31b445"
      },
      "source": [
        "a, b, c = map(int, input().split())\n",
        "ans = 'Yes' if len({a, b, c}) == 2 else 'No'\n",
        "print(ans)"
      ],
      "execution_count": 2,
      "outputs": [
        {
          "output_type": "stream",
          "text": [
            "5 5 7\n",
            "Yes\n"
          ],
          "name": "stdout"
        }
      ]
    },
    {
      "cell_type": "markdown",
      "metadata": {
        "id": "9-b7k7Zb9UPQ"
      },
      "source": [
        "## B - Papers, Please"
      ]
    },
    {
      "cell_type": "code",
      "metadata": {
        "colab": {
          "base_uri": "https://localhost:8080/"
        },
        "id": "mXiLXf9c8xHq",
        "outputId": "675b9de4-587c-4bd8-8b94-cab3065c5a7e"
      },
      "source": [
        "n = int(input())\n",
        "a_list = list(map(int, input().split()))\n",
        "\n",
        "ans = 'APPROVED'\n",
        "\n",
        "for a in a_list:\n",
        "  if a % 2 == 0:\n",
        "    if a % 3 != 0 and a % 5 != 0:\n",
        "      ans = 'DENIED'\n",
        "\n",
        "print(ans)"
      ],
      "execution_count": 5,
      "outputs": [
        {
          "output_type": "stream",
          "text": [
            "5\n",
            "6 7 9 10 31\n",
            "APPROVED\n"
          ],
          "name": "stdout"
        }
      ]
    },
    {
      "cell_type": "markdown",
      "metadata": {
        "id": "uTpBjknxJHh9"
      },
      "source": [
        "## C - Poll"
      ]
    },
    {
      "cell_type": "code",
      "metadata": {
        "colab": {
          "base_uri": "https://localhost:8080/"
        },
        "id": "7siyTlJV9aVd",
        "outputId": "b013082a-a263-4c1c-aa07-acdd15cd17e7"
      },
      "source": [
        "from collections import defaultdict\n",
        "\n",
        "\n",
        "n = int(input())\n",
        "\n",
        "ans_dict = defaultdict(int)\n",
        "\n",
        "for _ in range(n):\n",
        "  s = input()\n",
        "  ans_dict[s] += 1\n",
        "\n",
        "ans_max = max(ans_dict.values())\n",
        "ans_dict_sort = sorted(ans_dict.items(), key=lambda x: x[1], reverse=True)\n",
        "\n",
        "ans_list= []\n",
        "for v, k in ans_dict_sort:\n",
        "  if k == ans_max:\n",
        "    ans_list.append(v)\n",
        "  else:\n",
        "    break\n",
        "\n",
        "ans_list.sort()\n",
        "\n",
        "for ans in ans_list:\n",
        "  print(ans)"
      ],
      "execution_count": 7,
      "outputs": [
        {
          "output_type": "stream",
          "text": [
            "7\n",
            "a\n",
            "b\n",
            "a\n",
            "d\n",
            "b\n",
            "a\n",
            "f\n",
            "a\n"
          ],
          "name": "stdout"
        }
      ]
    },
    {
      "cell_type": "markdown",
      "metadata": {
        "id": "bhCZDW4PLqcq"
      },
      "source": [
        "## D - Pairs"
      ]
    },
    {
      "cell_type": "code",
      "metadata": {
        "id": "ha9xjP7EKyP8"
      },
      "source": [
        "n, k = map(int, input().split())\n",
        "a_list = list(map(int, input().split()))\n",
        "\n"
      ],
      "execution_count": null,
      "outputs": []
    }
  ]
}