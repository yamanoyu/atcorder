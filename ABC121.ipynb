{
  "nbformat": 4,
  "nbformat_minor": 0,
  "metadata": {
    "colab": {
      "name": "ABC121.ipynb",
      "provenance": [],
      "collapsed_sections": [],
      "authorship_tag": "ABX9TyO7a03qASbnPHD0b+nUrqky",
      "include_colab_link": true
    },
    "kernelspec": {
      "name": "python3",
      "display_name": "Python 3"
    }
  },
  "cells": [
    {
      "cell_type": "markdown",
      "metadata": {
        "id": "view-in-github",
        "colab_type": "text"
      },
      "source": [
        "<a href=\"https://colab.research.google.com/github/yamanoyu/atcorder/blob/master/ABC121.ipynb\" target=\"_parent\"><img src=\"https://colab.research.google.com/assets/colab-badge.svg\" alt=\"Open In Colab\"/></a>"
      ]
    },
    {
      "cell_type": "markdown",
      "metadata": {
        "id": "dDaEeXSLz7kp"
      },
      "source": [
        "## A - White Cells"
      ]
    },
    {
      "cell_type": "code",
      "metadata": {
        "colab": {
          "base_uri": "https://localhost:8080/"
        },
        "id": "xnHuDxJUzp7q",
        "outputId": "6cc9426c-f952-4ab0-c409-59ff3d0fb131"
      },
      "source": [
        "H, W = map(int, input().split())\n",
        "h, w = map(int, input().split())\n",
        "ans = (H - h) * (W - w)\n",
        "print(ans)"
      ],
      "execution_count": 1,
      "outputs": [
        {
          "output_type": "stream",
          "text": [
            "3 2\n",
            "2 1\n",
            "1\n"
          ],
          "name": "stdout"
        }
      ]
    },
    {
      "cell_type": "markdown",
      "metadata": {
        "id": "jOG04A320jez"
      },
      "source": [
        "## B - Can you solve this?"
      ]
    },
    {
      "cell_type": "code",
      "metadata": {
        "colab": {
          "base_uri": "https://localhost:8080/"
        },
        "id": "OWgBZioCz8wf",
        "outputId": "0234f4ae-9388-40a6-ce4c-648eafefbf66"
      },
      "source": [
        "n, m, c = map(int, input().split())\n",
        "b_list = list(map(int, input().split()))\n",
        "\n",
        "ans = 0\n",
        "\n",
        "for _ in range(n):\n",
        "  a_list = list(map(int, input().split()))\n",
        "  collect = c\n",
        "  for a, b in zip(a_list, b_list):\n",
        "    collect += a * b\n",
        "  ans += 1 if collect > 0 else 0\n",
        "\n",
        "print(ans)"
      ],
      "execution_count": 3,
      "outputs": [
        {
          "output_type": "stream",
          "text": [
            "2 3 -10\n",
            "1 2 3\n",
            "3 2 1\n",
            "1 2 2\n",
            "1\n"
          ],
          "name": "stdout"
        }
      ]
    },
    {
      "cell_type": "markdown",
      "metadata": {
        "id": "EEpuoL0S1usV"
      },
      "source": [
        "## C - Energy Drink Collector"
      ]
    },
    {
      "cell_type": "code",
      "metadata": {
        "colab": {
          "base_uri": "https://localhost:8080/"
        },
        "id": "km2RcSj01acH",
        "outputId": "1c81d3b4-83fb-4db1-f5d6-577cea4f7f8f"
      },
      "source": [
        "from collections import defaultdict\n",
        "\n",
        "n, m = map(int, input().split())\n",
        "\n",
        "drink_dict = defaultdict(int)\n",
        "\n",
        "for _ in range(n):\n",
        "  a, b = map(int, input().split())\n",
        "  drink_dict[a] += b\n",
        "\n",
        "drink_sort_dict = dict(sorted(drink_dict.items(), key=lambda x: x[0]))\n",
        "\n",
        "drink_num = 0\n",
        "ans = 0\n",
        "\n",
        "for drink_key, drink_val in drink_sort_dict.items():\n",
        "  drink_num += drink_val\n",
        "  ans += drink_key * drink_val\n",
        "\n",
        "  if drink_num > m:\n",
        "    ans -= drink_key * (drink_num - m)\n",
        "    break\n",
        "\n",
        "print(ans)"
      ],
      "execution_count": 5,
      "outputs": [
        {
          "output_type": "stream",
          "text": [
            "4 30\n",
            "6 18\n",
            "2 5\n",
            "3 10\n",
            "7 9\n",
            "130\n"
          ],
          "name": "stdout"
        }
      ]
    },
    {
      "cell_type": "markdown",
      "metadata": {
        "id": "z7SQWBeeF_EB"
      },
      "source": [
        "## D - XOR World"
      ]
    },
    {
      "cell_type": "code",
      "metadata": {
        "colab": {
          "base_uri": "https://localhost:8080/"
        },
        "id": "0KDrjLON41Q8",
        "outputId": "1a2748e3-237e-4b8f-9696-88d134e64dc1"
      },
      "source": [
        "a, b = map(int, input().split())\n",
        "\n",
        "\n",
        "def solve(n):\n",
        "  if n % 2 != 0:\n",
        "    if ((n + 1) // 2) % 2 == 0:\n",
        "      return 0\n",
        "    else:\n",
        "      return 1\n",
        "  else:\n",
        "    return solve(n - 1) + n\n",
        "\n",
        "ans = solve(b) ^ solve(a - 1)\n",
        "print(ans)"
      ],
      "execution_count": 11,
      "outputs": [
        {
          "output_type": "stream",
          "text": [
            "123 456\n",
            "435\n"
          ],
          "name": "stdout"
        }
      ]
    }
  ]
}