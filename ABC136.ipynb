{
  "nbformat": 4,
  "nbformat_minor": 0,
  "metadata": {
    "colab": {
      "name": "ABC136.ipynb",
      "provenance": [],
      "collapsed_sections": [],
      "authorship_tag": "ABX9TyPxIhDAyy/581ClZxmQYPc7",
      "include_colab_link": true
    },
    "kernelspec": {
      "name": "python3",
      "display_name": "Python 3"
    }
  },
  "cells": [
    {
      "cell_type": "markdown",
      "metadata": {
        "id": "view-in-github",
        "colab_type": "text"
      },
      "source": [
        "<a href=\"https://colab.research.google.com/github/yamanoyu/atcorder/blob/master/ABC136.ipynb\" target=\"_parent\"><img src=\"https://colab.research.google.com/assets/colab-badge.svg\" alt=\"Open In Colab\"/></a>"
      ]
    },
    {
      "cell_type": "markdown",
      "metadata": {
        "id": "ehwqmXqQnFXL"
      },
      "source": [
        "## A - Transfer"
      ]
    },
    {
      "cell_type": "code",
      "metadata": {
        "colab": {
          "base_uri": "https://localhost:8080/"
        },
        "id": "J-GtvJxbnCk0",
        "outputId": "87a93899-2ac9-455c-b555-4b547c6e38f7"
      },
      "source": [
        "a, b, c = map(int, input().split())\n",
        "ans = max(0, c - (a - b))\n",
        "print(ans)"
      ],
      "execution_count": 8,
      "outputs": [
        {
          "output_type": "stream",
          "text": [
            "12 3 7\n",
            "0\n"
          ],
          "name": "stdout"
        }
      ]
    },
    {
      "cell_type": "markdown",
      "metadata": {
        "id": "DriccxbZnXug"
      },
      "source": [
        "## B - Uneven Numbers"
      ]
    },
    {
      "cell_type": "code",
      "metadata": {
        "colab": {
          "base_uri": "https://localhost:8080/"
        },
        "id": "5MAOt14anFz6",
        "outputId": "e0e9ae53-4833-4017-ab1d-bb6329889ab0"
      },
      "source": [
        "n = int(input())\n",
        "ans = len([i for i in range(1, n + 1) if len(str(i)) % 2 == 1])\n",
        "print(ans)"
      ],
      "execution_count": 9,
      "outputs": [
        {
          "output_type": "stream",
          "text": [
            "1000\n",
            "909\n"
          ],
          "name": "stdout"
        }
      ]
    },
    {
      "cell_type": "markdown",
      "metadata": {
        "id": "roY6wrSxou6f"
      },
      "source": [
        "## C - Build Stairs"
      ]
    },
    {
      "cell_type": "code",
      "metadata": {
        "colab": {
          "base_uri": "https://localhost:8080/"
        },
        "id": "p5pNsF9Dnpb0",
        "outputId": "2d121d34-f06e-4c24-c305-99bab113da25"
      },
      "source": [
        "n = int(input())\n",
        "h_list = list(map(int, input().split()))\n",
        "\n",
        "if n == 1:\n",
        "  ans = 'Yes'\n",
        "else:\n",
        "  ans = 'Yes'\n",
        "  h_list[0] -= 1\n",
        "  for i in range(1, n - 1):\n",
        "    if h_list[i] >= h_list[i - 1] + 1:\n",
        "      h_list[i] -= 1\n",
        "    elif h_list[i] < h_list[i - 1]:\n",
        "      ans = 'No'\n",
        "      break\n",
        "      \n",
        "    if h_list[i] > h_list[i + 1]:\n",
        "      ans = 'No'\n",
        "      break\n",
        "print(ans)"
      ],
      "execution_count": 15,
      "outputs": [
        {
          "output_type": "stream",
          "text": [
            "5\n",
            "1 2 1 1 3\n",
            "Yes\n"
          ],
          "name": "stdout"
        }
      ]
    },
    {
      "cell_type": "markdown",
      "metadata": {
        "id": "4lVzD2k0rK0q"
      },
      "source": [
        "## D - Gathering Children"
      ]
    },
    {
      "cell_type": "code",
      "metadata": {
        "colab": {
          "base_uri": "https://localhost:8080/"
        },
        "id": "Aew300JyovfD",
        "outputId": "2e9582ee-aea7-44bc-90e8-e17737fc6c4f"
      },
      "source": [
        "s = input()\n",
        "s_len = len(s)\n",
        "\n",
        "ans_list = [0] * s_len\n",
        "rl_list = []\n",
        "\n",
        "rl_flag = 'R'\n",
        "cnt = 1\n",
        "\n",
        "for i in range(1, s_len):\n",
        "  if s[i] == s[i - 1]:\n",
        "    cnt += 1\n",
        "  else:\n",
        "    rl_list.append((rl_flag, cnt))\n",
        "    rl_flag = 'L' if rl_flag == 'R' else 'R'\n",
        "    cnt = 1\n",
        "rl_list.append((rl_flag, cnt))\n",
        "\n",
        "p = -1\n",
        "\n",
        "for rl, c in rl_list:\n",
        "  if rl == 'R':\n",
        "    p += c\n",
        "    if c % 2 == 0:\n",
        "      ans_list[p] += c // 2\n",
        "      ans_list[p + 1] += c // 2\n",
        "    else:\n",
        "      ans_list[p] += c // 2 + 1\n",
        "      ans_list[p + 1] += c // 2\n",
        "  else:\n",
        "    if c % 2 == 0:\n",
        "      ans_list[p] += c // 2\n",
        "      ans_list[p + 1] += c // 2\n",
        "    else:\n",
        "      ans_list[p + 1] += c // 2 + 1\n",
        "      ans_list[p] += c // 2\n",
        "    p += c\n",
        "\n",
        "ans = ' '.join(map(str, ans_list))\n",
        "print(ans)"
      ],
      "execution_count": 19,
      "outputs": [
        {
          "output_type": "stream",
          "text": [
            "RRRLLRLLRRRLLLLL\n",
            "[('R', 3), ('L', 2), ('R', 1), ('L', 2), ('R', 3), ('L', 5)]\n",
            "[0, 0, 3, 2, 0, 2, 1, 0, 0, 0, 4, 4, 0, 0, 0, 0]\n"
          ],
          "name": "stdout"
        }
      ]
    },
    {
      "cell_type": "markdown",
      "metadata": {
        "id": "x_dt5IPwyKw6"
      },
      "source": [
        "## E - Max GCD"
      ]
    },
    {
      "cell_type": "code",
      "metadata": {
        "id": "faHmH6Z7yLUU"
      },
      "source": [
        ""
      ],
      "execution_count": null,
      "outputs": []
    },
    {
      "cell_type": "markdown",
      "metadata": {
        "id": "J37scA5CyNbg"
      },
      "source": [
        "## F - Enclosed Points"
      ]
    },
    {
      "cell_type": "code",
      "metadata": {
        "id": "d4IvM3D1yN8j"
      },
      "source": [
        ""
      ],
      "execution_count": null,
      "outputs": []
    }
  ]
}