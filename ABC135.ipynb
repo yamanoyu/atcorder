{
  "nbformat": 4,
  "nbformat_minor": 0,
  "metadata": {
    "colab": {
      "name": "ABC135.ipynb",
      "provenance": [],
      "collapsed_sections": [],
      "authorship_tag": "ABX9TyPEvKZOogZzOg70BhEaim7w",
      "include_colab_link": true
    },
    "kernelspec": {
      "name": "python3",
      "display_name": "Python 3"
    }
  },
  "cells": [
    {
      "cell_type": "markdown",
      "metadata": {
        "id": "view-in-github",
        "colab_type": "text"
      },
      "source": [
        "<a href=\"https://colab.research.google.com/github/yamanoyu/atcorder/blob/master/ABC135.ipynb\" target=\"_parent\"><img src=\"https://colab.research.google.com/assets/colab-badge.svg\" alt=\"Open In Colab\"/></a>"
      ]
    },
    {
      "cell_type": "markdown",
      "metadata": {
        "id": "mygsPwwV4qpT"
      },
      "source": [
        "## A - Harmony"
      ]
    },
    {
      "cell_type": "code",
      "metadata": {
        "colab": {
          "base_uri": "https://localhost:8080/"
        },
        "id": "A0zqSSSW4bXb",
        "outputId": "07aadce8-52bf-4629-c9a8-21aea3b8061c"
      },
      "source": [
        "a, b = map(int, input().split())\n",
        "_ans = (a + b) / 2\n",
        "ans = int(_ans) if _ans.is_integer() else 'IMPOSSIBLE'\n",
        "print(ans)"
      ],
      "execution_count": 2,
      "outputs": [
        {
          "output_type": "stream",
          "text": [
            "0 3\n",
            "IMPOSSIBLE\n"
          ],
          "name": "stdout"
        }
      ]
    },
    {
      "cell_type": "markdown",
      "metadata": {
        "id": "m1ntNSOc5gdO"
      },
      "source": [
        "## B - 0 or 1 Swap"
      ]
    },
    {
      "cell_type": "code",
      "metadata": {
        "id": "F87AP7DY4rFf"
      },
      "source": [
        "n = int(input())\n",
        "p_list = list(map(int, input().split()))\n",
        "\n",
        "cnt = 0\n",
        "ans = 'YES'\n",
        "\n",
        "for i, p in zip(range(1, n + 1), p_list):\n",
        "  if i != p: cnt += 1\n",
        "  if cnt > 2:\n",
        "    ans = 'NO'\n",
        "    break\n",
        "\n",
        "print(ans)"
      ],
      "execution_count": null,
      "outputs": []
    },
    {
      "cell_type": "markdown",
      "metadata": {
        "id": "Z_VTzOhq7EDy"
      },
      "source": [
        "## C - City Savers"
      ]
    },
    {
      "cell_type": "code",
      "metadata": {
        "colab": {
          "base_uri": "https://localhost:8080/"
        },
        "id": "0QXqN3uF7GY6",
        "outputId": "ecb32198-4fdc-4c7d-db54-a3837604fa8e"
      },
      "source": [
        "n = int(input())\n",
        "a_list = list(map(int, input().split()))\n",
        "b_list = list(map(int, input().split()))\n",
        "\n",
        "ans = 0\n",
        "\n",
        "for i in range(n):\n",
        "  if b_list[i] >= a_list[i]:\n",
        "    if b_list[i] - a_list[i] <= a_list[i + 1]:\n",
        "      ans += b_list[i]\n",
        "      a_list[i + 1] -= b_list[i] - a_list[i]\n",
        "      a_list[i] = 0\n",
        "      b_list[i] = 0\n",
        "    else:\n",
        "      ans += a_list[i] + a_list[i + 1]\n",
        "      b_list[i] -= a_list[i + 1] + a_list[i]\n",
        "      a_list[i] = 0\n",
        "      a_list[i + 1] = 0\n",
        "  else:\n",
        "    ans += b_list[i]\n",
        "    a_list[i] -= b_list[i]\n",
        "    b_list[i] = 0\n",
        "\n",
        "ans += min(a_list[-1], b_list[-1])\n",
        "print(ans)"
      ],
      "execution_count": 7,
      "outputs": [
        {
          "output_type": "stream",
          "text": [
            "4\n",
            "1 2 3 4 5\n",
            "1 2 3 4\n",
            "10\n"
          ],
          "name": "stdout"
        }
      ]
    },
    {
      "cell_type": "markdown",
      "metadata": {
        "id": "_RJJPN2sD6uh"
      },
      "source": [
        "## D - Digits Parade"
      ]
    },
    {
      "cell_type": "code",
      "metadata": {
        "colab": {
          "base_uri": "https://localhost:8080/"
        },
        "id": "BEBgmtjq7L5n",
        "outputId": "740c2e47-3c3b-467c-df1c-3a87b6d8161b"
      },
      "source": [
        "# TLE\n",
        "s = input()\n",
        "MOD = 10 ** 9 + 7\n",
        "\n",
        "s_len = len(s)\n",
        "\n",
        "dp = [[1] + [0] * 12] + [[0] * 13 for _ in range(s_len)]\n",
        "tenth = 1\n",
        "\n",
        "for i in range(s_len):\n",
        "  if s[(s_len - 1) - i] != '?':\n",
        "    rem = (int(s[(s_len - 1) - i]) * tenth) % 13\n",
        "    for j in range(13):\n",
        "      dp[i + 1][(rem + j) % 13] += dp[i][j] % MOD\n",
        "  else:\n",
        "    for k in range(10):\n",
        "      rem = (k * tenth) % 13\n",
        "      for j in range(13):\n",
        "        dp[i + 1][(rem + j) % 13] += dp[i][j] % MOD\n",
        "        \n",
        "  tenth *= 10\n",
        "\n",
        "ans = dp[s_len][5] % MOD\n",
        "print(ans)"
      ],
      "execution_count": 8,
      "outputs": [
        {
          "output_type": "stream",
          "text": [
            "??2??5\n",
            "768\n"
          ],
          "name": "stdout"
        }
      ]
    }
  ]
}