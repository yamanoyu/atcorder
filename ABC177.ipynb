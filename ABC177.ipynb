{
  "nbformat": 4,
  "nbformat_minor": 0,
  "metadata": {
    "colab": {
      "name": "ABC177.ipynb",
      "provenance": [],
      "collapsed_sections": [],
      "authorship_tag": "ABX9TyNFDM4b5UgrbWsUvfi7BCM7",
      "include_colab_link": true
    },
    "kernelspec": {
      "name": "python3",
      "display_name": "Python 3"
    },
    "language_info": {
      "name": "python"
    }
  },
  "cells": [
    {
      "cell_type": "markdown",
      "metadata": {
        "id": "view-in-github",
        "colab_type": "text"
      },
      "source": [
        "<a href=\"https://colab.research.google.com/github/yamanoyu/atcorder/blob/master/ABC177.ipynb\" target=\"_parent\"><img src=\"https://colab.research.google.com/assets/colab-badge.svg\" alt=\"Open In Colab\"/></a>"
      ]
    },
    {
      "cell_type": "markdown",
      "metadata": {
        "id": "Oskz07_2CChq"
      },
      "source": [
        "## A - Don't be late"
      ]
    },
    {
      "cell_type": "code",
      "metadata": {
        "colab": {
          "base_uri": "https://localhost:8080/"
        },
        "id": "6TeQ9woS1SVq",
        "outputId": "9d571ace-72e4-4dcf-e195-d849da2c61a3"
      },
      "source": [
        "d, t, s = map(int, input().split())\n",
        "ans = 'Yes' if d / t <= s else 'No'\n",
        "print(ans)"
      ],
      "execution_count": 2,
      "outputs": [
        {
          "output_type": "stream",
          "text": [
            "10000 1 1\n",
            "No\n"
          ],
          "name": "stdout"
        }
      ]
    },
    {
      "cell_type": "markdown",
      "metadata": {
        "id": "drFXhty3ExKa"
      },
      "source": [
        "## B - Substring"
      ]
    },
    {
      "cell_type": "code",
      "metadata": {
        "colab": {
          "base_uri": "https://localhost:8080/"
        },
        "id": "0vcirKV4CC-l",
        "outputId": "526114a6-f9aa-4b91-8a8c-ff313779d908"
      },
      "source": [
        "s = input()\n",
        "t = input()\n",
        "\n",
        "ans = 10 ** 3 + 1\n",
        "for i in range(len(s) - len(t) + 1):\n",
        "  _ans = 0\n",
        "  for j in range(len(t)):\n",
        "    if s[i + j] != t[j]:\n",
        "      _ans += 1\n",
        "  ans = min(_ans, ans)\n",
        "print(ans)"
      ],
      "execution_count": 13,
      "outputs": [
        {
          "output_type": "stream",
          "text": [
            "aaa\n",
            "aaa\n",
            "0\n"
          ],
          "name": "stdout"
        }
      ]
    },
    {
      "cell_type": "markdown",
      "metadata": {
        "id": "yWSIcWsrGpaJ"
      },
      "source": [
        "## C - Sum of product of pairs"
      ]
    },
    {
      "cell_type": "code",
      "metadata": {
        "colab": {
          "base_uri": "https://localhost:8080/"
        },
        "id": "gafCsQVSGY_y",
        "outputId": "4f46d9f0-b6f8-4ade-e064-a30209d5369b"
      },
      "source": [
        "n = int(input())\n",
        "a_list = list(map(int, input().split()))\n",
        "\n",
        "MOD = 10 ** 9 + 7\n",
        "\n",
        "a_sum_list = [0]\n",
        "for a in a_list[::-1]:\n",
        "  a_sum_list.append(a + a_sum_list[-1])\n",
        "\n",
        "ans = 0\n",
        "\n",
        "for i in range(n -1):\n",
        "  ans += a_list[i] * a_sum_list[n - 1 - i ]\n",
        "\n",
        "print(ans % MOD)"
      ],
      "execution_count": 26,
      "outputs": [
        {
          "output_type": "stream",
          "text": [
            "4\n",
            "141421356 17320508 22360679 244949\n",
            "437235829\n"
          ],
          "name": "stdout"
        }
      ]
    },
    {
      "cell_type": "markdown",
      "metadata": {
        "id": "V1bMXBWIS1D2"
      },
      "source": [
        "## D - Friends"
      ]
    },
    {
      "cell_type": "code",
      "metadata": {
        "colab": {
          "base_uri": "https://localhost:8080/"
        },
        "id": "0l3AW8SHRP6A",
        "outputId": "1b538bb8-df93-4d23-b04b-13dbf858131f"
      },
      "source": [
        "n, m = map(int, input().split())\n",
        "friends_list = [list(map(int, input().split())) for _ in range(m)]\n",
        "\n",
        "class UnionFind:\n",
        "    # if x is root: self.parents[x] = - (the number of the group nodes)\n",
        "    # else: self.parents[x] = the parent of x\n",
        "    def __init__(self, n):\n",
        "        self.n = n\n",
        "        self.parents = [-1] * n\n",
        " \n",
        "    # return the parent of x\n",
        "    def find(self, x):\n",
        "        history = []\n",
        "        while self.parents[x] >= 0:\n",
        "            history.append(x)\n",
        "            x = self.parents[x]\n",
        "        for node in history:\n",
        "            self.parents[node] = x\n",
        "        return x\n",
        " \n",
        "    # merge the group of x and the group of y\n",
        "    def union(self, x, y):\n",
        "        x = self.find(x)\n",
        "        y = self.find(y)\n",
        "        if x == y:\n",
        "            return\n",
        "        if self.parents[x] > self.parents[y]:\n",
        "            x, y = y, x\n",
        "        self.parents[x] += self.parents[y]\n",
        "        self.parents[y] = x\n",
        " \n",
        "    # return the size of the group of x\n",
        "    def size(self, x):\n",
        "        return -self.parents[self.find(x)]\n",
        " \n",
        "    # return whether x and y in a same group\n",
        "    def same(self, x, y):\n",
        "        return self.find(x) == self.find(y)\n",
        " \n",
        "    # return [all roots]\n",
        "    # O(n)\n",
        "    def roots(self):\n",
        "        return [i for i, x in enumerate(self.parents) if x < 0]\n",
        " \n",
        "    # return the number of groups\n",
        "    # O(n)\n",
        "    def group_count(self):\n",
        "        return len(self.roots())\n",
        "\n",
        "uf = UnionFind(n)\n",
        "\n",
        "for friends in friends_list:\n",
        "  uf.union(friends[0] - 1, friends[1] - 1)\n",
        "\n",
        "ans = 0\n",
        "\n",
        "for r in uf.roots():\n",
        "  ans = max(ans, uf.size(r))\n",
        "\n",
        "print(ans)"
      ],
      "execution_count": 34,
      "outputs": [
        {
          "output_type": "stream",
          "text": [
            "5 3\n",
            "1 2\n",
            "3 4\n",
            "5 1\n",
            "3\n"
          ],
          "name": "stdout"
        }
      ]
    }
  ]
}