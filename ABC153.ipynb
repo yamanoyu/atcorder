{
  "nbformat": 4,
  "nbformat_minor": 0,
  "metadata": {
    "colab": {
      "name": "ABC153.ipynb",
      "provenance": [],
      "authorship_tag": "ABX9TyN+etnGe+noLB2qxLDCnCNq",
      "include_colab_link": true
    },
    "kernelspec": {
      "name": "python3",
      "display_name": "Python 3"
    }
  },
  "cells": [
    {
      "cell_type": "markdown",
      "metadata": {
        "id": "view-in-github",
        "colab_type": "text"
      },
      "source": [
        "<a href=\"https://colab.research.google.com/github/yamanoyu/atcorder/blob/master/ABC153.ipynb\" target=\"_parent\"><img src=\"https://colab.research.google.com/assets/colab-badge.svg\" alt=\"Open In Colab\"/></a>"
      ]
    },
    {
      "cell_type": "markdown",
      "metadata": {
        "id": "KbXIh7hvvBaL"
      },
      "source": [
        "## A - Serval vs Monster"
      ]
    },
    {
      "cell_type": "code",
      "metadata": {
        "colab": {
          "base_uri": "https://localhost:8080/"
        },
        "id": "28t3kJu8u5LB",
        "outputId": "636fba49-1912-4ad9-ac1e-cd24ab1fdbc0"
      },
      "source": [
        "h, a = map(int, input().split())\n",
        "ans = h // a + 1 if h % a != 0 else h // a\n",
        "print(ans)"
      ],
      "execution_count": 3,
      "outputs": [
        {
          "output_type": "stream",
          "text": [
            "10000 1\n",
            "10000\n"
          ],
          "name": "stdout"
        }
      ]
    },
    {
      "cell_type": "markdown",
      "metadata": {
        "id": "E9591WgRvcgk"
      },
      "source": [
        "## B - Common Raccoon vs Monster"
      ]
    },
    {
      "cell_type": "code",
      "metadata": {
        "id": "fWLm29D4vB4h"
      },
      "source": [
        ""
      ],
      "execution_count": null,
      "outputs": []
    }
  ]
}