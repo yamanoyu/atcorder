{
  "nbformat": 4,
  "nbformat_minor": 0,
  "metadata": {
    "colab": {
      "name": "ABC153.ipynb",
      "provenance": [],
      "collapsed_sections": [],
      "authorship_tag": "ABX9TyOMTiLUkbVKGvWp1SRgr85l",
      "include_colab_link": true
    },
    "kernelspec": {
      "name": "python3",
      "display_name": "Python 3"
    }
  },
  "cells": [
    {
      "cell_type": "markdown",
      "metadata": {
        "id": "view-in-github",
        "colab_type": "text"
      },
      "source": [
        "<a href=\"https://colab.research.google.com/github/yamanoyu/atcorder/blob/master/ABC153.ipynb\" target=\"_parent\"><img src=\"https://colab.research.google.com/assets/colab-badge.svg\" alt=\"Open In Colab\"/></a>"
      ]
    },
    {
      "cell_type": "markdown",
      "metadata": {
        "id": "KbXIh7hvvBaL"
      },
      "source": [
        "## A - Serval vs Monster"
      ]
    },
    {
      "cell_type": "code",
      "metadata": {
        "colab": {
          "base_uri": "https://localhost:8080/"
        },
        "id": "28t3kJu8u5LB",
        "outputId": "636fba49-1912-4ad9-ac1e-cd24ab1fdbc0"
      },
      "source": [
        "h, a = map(int, input().split())\n",
        "ans = h // a + 1 if h % a != 0 else h // a\n",
        "print(ans)"
      ],
      "execution_count": 3,
      "outputs": [
        {
          "output_type": "stream",
          "text": [
            "10000 1\n",
            "10000\n"
          ],
          "name": "stdout"
        }
      ]
    },
    {
      "cell_type": "markdown",
      "metadata": {
        "id": "E9591WgRvcgk"
      },
      "source": [
        "## B - Common Raccoon vs Monster"
      ]
    },
    {
      "cell_type": "code",
      "metadata": {
        "colab": {
          "base_uri": "https://localhost:8080/"
        },
        "id": "fWLm29D4vB4h",
        "outputId": "45deee7a-5e5e-4ed5-ec89-6b716bc7583b"
      },
      "source": [
        "h, n = map(int, input().split())\n",
        "a_list = list(map(int, input().split()))\n",
        "\n",
        "ans = 'Yes' if sum(a_list) >= h else 'No'\n",
        "print(ans)"
      ],
      "execution_count": 8,
      "outputs": [
        {
          "output_type": "stream",
          "text": [
            "211 5\n",
            "31 41 59 26 53\n",
            "No\n"
          ],
          "name": "stdout"
        }
      ]
    },
    {
      "cell_type": "markdown",
      "metadata": {
        "id": "iO-sGn1Z0v4j"
      },
      "source": [
        "## C - Fennec vs Monster"
      ]
    },
    {
      "cell_type": "code",
      "metadata": {
        "colab": {
          "base_uri": "https://localhost:8080/"
        },
        "id": "1ydwkKwi0jPM",
        "outputId": "20570fd3-e7e1-4625-c27a-15e72c89ef06"
      },
      "source": [
        "n, k = map(int, input().split())\n",
        "h_list = list(map(int, input().split()))\n",
        "h_list.sort()\n",
        "ans = sum(h_list[:-k]) if k != 0 else sum(h_list)\n",
        "print(ans)"
      ],
      "execution_count": 10,
      "outputs": [
        {
          "output_type": "stream",
          "text": [
            "3 0\n",
            "1 1 1\n",
            "3\n"
          ],
          "name": "stdout"
        }
      ]
    },
    {
      "cell_type": "markdown",
      "metadata": {
        "id": "94CZ_jYq3aLk"
      },
      "source": [
        "## D - Caracal vs Monster"
      ]
    },
    {
      "cell_type": "code",
      "metadata": {
        "colab": {
          "base_uri": "https://localhost:8080/"
        },
        "id": "G4bKsFdw0o5W",
        "outputId": "fb13a455-3f79-42b2-ad6a-6b4ac498af2b"
      },
      "source": [
        "h = int(input())\n",
        "\n",
        "m = 0\n",
        "\n",
        "while h >= 2 ** m:\n",
        "  m += 1\n",
        "  \n",
        "ans = 2 ** m - 1\n",
        "print(ans)"
      ],
      "execution_count": 27,
      "outputs": [
        {
          "output_type": "stream",
          "text": [
            "8\n",
            "15\n"
          ],
          "name": "stdout"
        }
      ]
    },
    {
      "cell_type": "markdown",
      "metadata": {
        "id": "H1S3IBnOwime"
      },
      "source": [
        "## E - Crested Ibis vs Monster"
      ]
    },
    {
      "cell_type": "code",
      "metadata": {
        "id": "NCOVmxm7wjDa"
      },
      "source": [
        ""
      ],
      "execution_count": null,
      "outputs": []
    },
    {
      "cell_type": "markdown",
      "metadata": {
        "id": "LGwq11MUwjY5"
      },
      "source": [
        "## F - Silver Fox vs Monster"
      ]
    },
    {
      "cell_type": "code",
      "metadata": {
        "id": "HQQ3nUV9wlZL"
      },
      "source": [
        ""
      ],
      "execution_count": null,
      "outputs": []
    }
  ]
}