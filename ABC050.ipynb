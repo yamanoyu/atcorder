{
 "cells": [
  {
   "cell_type": "markdown",
   "metadata": {},
   "source": [
    "## A - Addition and Subtraction Easy"
   ]
  },
  {
   "cell_type": "code",
   "execution_count": 1,
   "metadata": {},
   "outputs": [
    {
     "name": "stdout",
     "output_type": "stream",
     "text": [
      "1 + 2\n",
      "3\n"
     ]
    }
   ],
   "source": [
    "a, op, b = input().split()\n",
    "ans = int(a) + int(b) if op =='+' else int(a) - int(b)\n",
    "print(ans)"
   ]
  },
  {
   "cell_type": "markdown",
   "metadata": {},
   "source": [
    "## B - Contest with Drinks Easy"
   ]
  },
  {
   "cell_type": "code",
   "execution_count": 6,
   "metadata": {},
   "outputs": [
    {
     "name": "stdout",
     "output_type": "stream",
     "text": [
      "3\n",
      "2 1 4\n",
      "2\n",
      "1 1\n",
      "6\n",
      "2 3\n",
      "9\n"
     ]
    }
   ],
   "source": [
    "n = int(input())\n",
    "t_list = list(map(int, input().split()))\n",
    "m = int(input())\n",
    "\n",
    "for _ in range(m):\n",
    "    _t_list = t_list.copy()\n",
    "    p, x = map(int, input().split())\n",
    "    _t_list[p-1] = x\n",
    "    ans = sum(_t_list)\n",
    "    print(ans)"
   ]
  },
  {
   "cell_type": "markdown",
   "metadata": {},
   "source": [
    "## C - Lining Up"
   ]
  },
  {
   "cell_type": "code",
   "execution_count": 16,
   "metadata": {},
   "outputs": [
    {
     "name": "stdout",
     "output_type": "stream",
     "text": [
      "5\n",
      "2 4 4 0\n",
      "0\n"
     ]
    }
   ],
   "source": [
    "n = int(input())\n",
    "a_list = list(map(int, input().split()))\n",
    "\n",
    "mod = 10 ** 9 + 7\n",
    "\n",
    "if n % 2 == 0:\n",
    "    if sum(a_list) != n ** 2 // 2:\n",
    "        ans = 0\n",
    "    else:\n",
    "        ans = 2 ** (n // 2)\n",
    "else:\n",
    "    if sum(a_list) != (n // 2 + 1) * (n // 2) * 2:\n",
    "        ans = 0\n",
    "    else:\n",
    "        ans = 2 ** (n // 2)\n",
    "print(ans % mod)"
   ]
  },
  {
   "cell_type": "markdown",
   "metadata": {},
   "source": [
    "## D - Xor Sum"
   ]
  },
  {
   "cell_type": "code",
   "execution_count": null,
   "metadata": {},
   "outputs": [],
   "source": [
    "n = int(input())\n",
    "\n",
    "mod = 10 ** 9 + 7\n",
    "\n"
   ]
  }
 ],
 "metadata": {
  "kernelspec": {
   "display_name": "Python 3",
   "language": "python",
   "name": "python3"
  },
  "language_info": {
   "codemirror_mode": {
    "name": "ipython",
    "version": 3
   },
   "file_extension": ".py",
   "mimetype": "text/x-python",
   "name": "python",
   "nbconvert_exporter": "python",
   "pygments_lexer": "ipython3",
   "version": "3.7.4"
  }
 },
 "nbformat": 4,
 "nbformat_minor": 4
}
