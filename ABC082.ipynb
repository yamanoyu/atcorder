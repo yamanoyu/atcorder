{
  "nbformat": 4,
  "nbformat_minor": 0,
  "metadata": {
    "colab": {
      "name": "ABC082.ipynb",
      "provenance": [],
      "authorship_tag": "ABX9TyM1zO9uYcQ3BwUXSDojcND7",
      "include_colab_link": true
    },
    "kernelspec": {
      "name": "python3",
      "display_name": "Python 3"
    }
  },
  "cells": [
    {
      "cell_type": "markdown",
      "metadata": {
        "id": "view-in-github",
        "colab_type": "text"
      },
      "source": [
        "<a href=\"https://colab.research.google.com/github/yamanoyu/atcorder/blob/master/ABC082.ipynb\" target=\"_parent\"><img src=\"https://colab.research.google.com/assets/colab-badge.svg\" alt=\"Open In Colab\"/></a>"
      ]
    },
    {
      "cell_type": "markdown",
      "metadata": {
        "id": "RZKj4EFffRE7"
      },
      "source": [
        "## A - Round Up the Mean"
      ]
    },
    {
      "cell_type": "code",
      "metadata": {
        "id": "RdhoJDlffKYZ"
      },
      "source": [
        "a, b = map(int, input().split())\n",
        "ans = (a +  b + 1) // 2\n",
        "print(ans)"
      ],
      "execution_count": null,
      "outputs": []
    },
    {
      "cell_type": "markdown",
      "metadata": {
        "id": "ZjCw8e9AfnXo"
      },
      "source": [
        "## B - Two Anagrams"
      ]
    },
    {
      "cell_type": "code",
      "metadata": {
        "colab": {
          "base_uri": "https://localhost:8080/"
        },
        "id": "U6nhZyOJfRhC",
        "outputId": "a259c4c7-bfd9-4788-d3b7-97ed3c02d2d9"
      },
      "source": [
        "s_list = list(input())\n",
        "t_list = list(input())\n",
        "\n",
        "s_list.sort()\n",
        "t_list.sort(reverse=True)\n",
        "\n",
        "ans = 'Yes' if ''.join(s_list) < ''.join(t_list) else 'No'\n",
        "print(ans)"
      ],
      "execution_count": 11,
      "outputs": [
        {
          "output_type": "stream",
          "text": [
            "xy\n",
            "axy\n",
            "Yes\n"
          ],
          "name": "stdout"
        }
      ]
    },
    {
      "cell_type": "markdown",
      "metadata": {
        "id": "cxvqt5Seg2DC"
      },
      "source": [
        "## C - Good Sequence"
      ]
    },
    {
      "cell_type": "code",
      "metadata": {
        "colab": {
          "base_uri": "https://localhost:8080/"
        },
        "id": "PwQD5ASWgnnz",
        "outputId": "3457ff14-3fe5-40eb-89b3-cfa66a38c4ba"
      },
      "source": [
        "from collections import defaultdict\n",
        "\n",
        "n = int(input())\n",
        "a_list = list(map(int, input().split()))\n",
        "a_dict = defaultdict(int)\n",
        "\n",
        "for a in a_list:\n",
        "  a_dict[a] += 1\n",
        "\n",
        "ans = 0\n",
        "\n",
        "for k, v in a_dict.items():\n",
        "  if k > v:\n",
        "    ans += v\n",
        "  elif k < v:\n",
        "    ans += v - k\n",
        "  else:\n",
        "    continue\n",
        "\n",
        "print(ans)"
      ],
      "execution_count": 14,
      "outputs": [
        {
          "output_type": "stream",
          "text": [
            "4\n",
            "3 3 3 3\n",
            "1\n"
          ],
          "name": "stdout"
        }
      ]
    },
    {
      "cell_type": "markdown",
      "metadata": {
        "id": "pX2_J3JTkj2z"
      },
      "source": [
        "## D - FT Robot"
      ]
    },
    {
      "cell_type": "code",
      "metadata": {
        "id": "CS4rI2DWjymu"
      },
      "source": [
        "s_list = list(input())\n",
        "x, y = map(int, input().split())\n",
        "\n",
        "direction = 0\n",
        "\n",
        "for s in s_list:\n",
        "  if s == 'F':\n",
        "    if direction == 0\n",
        "\n",
        "\n"
      ],
      "execution_count": null,
      "outputs": []
    }
  ]
}