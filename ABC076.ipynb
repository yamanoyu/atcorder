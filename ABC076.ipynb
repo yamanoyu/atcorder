{
  "nbformat": 4,
  "nbformat_minor": 0,
  "metadata": {
    "colab": {
      "name": "ABC076.ipynb",
      "provenance": [],
      "collapsed_sections": [],
      "authorship_tag": "ABX9TyN4Pqpo1S2opLRkDzL8G+WC",
      "include_colab_link": true
    },
    "kernelspec": {
      "name": "python3",
      "display_name": "Python 3"
    }
  },
  "cells": [
    {
      "cell_type": "markdown",
      "metadata": {
        "id": "view-in-github",
        "colab_type": "text"
      },
      "source": [
        "<a href=\"https://colab.research.google.com/github/yamanoyu/atcorder/blob/master/ABC076.ipynb\" target=\"_parent\"><img src=\"https://colab.research.google.com/assets/colab-badge.svg\" alt=\"Open In Colab\"/></a>"
      ]
    },
    {
      "cell_type": "markdown",
      "metadata": {
        "id": "EnXpkRx9ff7a"
      },
      "source": [
        "## A - Rating Goal"
      ]
    },
    {
      "cell_type": "code",
      "metadata": {
        "colab": {
          "base_uri": "https://localhost:8080/"
        },
        "id": "oUcUvhdxfa81",
        "outputId": "7db055aa-b576-40e6-8a36-72ec6fb6d403"
      },
      "source": [
        "r = int(input())\n",
        "g = int(input())\n",
        "ans = g * 2 - r\n",
        "print(ans)"
      ],
      "execution_count": null,
      "outputs": [
        {
          "output_type": "stream",
          "text": [
            "1\n",
            "2\n",
            "3\n"
          ],
          "name": "stdout"
        }
      ]
    },
    {
      "cell_type": "markdown",
      "metadata": {
        "id": "nvaICr9RfyoD"
      },
      "source": [
        "## B - Addition and Multiplication"
      ]
    },
    {
      "cell_type": "code",
      "metadata": {
        "colab": {
          "base_uri": "https://localhost:8080/"
        },
        "id": "N7egwcc0fgaY",
        "outputId": "caa6b26d-3dd3-4683-afee-fc9ee90f4700"
      },
      "source": [
        "n = int(input())\n",
        "k = int(input())\n",
        "\n",
        "num = 1\n",
        "times = 0\n",
        "\n",
        "while num <= k and times < n:\n",
        "  num *= 2\n",
        "  times += 1\n",
        "\n",
        "ans = num + (n - times) * k\n",
        "print(ans)"
      ],
      "execution_count": null,
      "outputs": [
        {
          "output_type": "stream",
          "text": [
            "1\n",
            "10000000000\n",
            "1\n",
            "2\n"
          ],
          "name": "stdout"
        }
      ]
    },
    {
      "cell_type": "markdown",
      "metadata": {
        "id": "em1mUc8FhYN8"
      },
      "source": [
        "## C - Dubious Document 2"
      ]
    },
    {
      "cell_type": "code",
      "metadata": {
        "id": "l3rkrlGyg0WK"
      },
      "source": [
        "# WA\n",
        "s = input()\n",
        "t = input()\n",
        "\n",
        "ans_list = []\n",
        "\n",
        "for i in range(len(s) - len(t) + 1):\n",
        "  s_part = s[i : i + len(t)]\n",
        "\n",
        "  match = 1\n",
        "\n",
        "  for j in range(len(t)):\n",
        "    if s_part[j] == '?':\n",
        "      continue\n",
        "    else:\n",
        "      if s_part[j] != t[j]:\n",
        "        match = 0\n",
        "        break\n",
        "\n",
        "  if match:\n",
        "    ans_cand = s[:i] + t + s[i + len(t):]\n",
        "    ans_cand = ans_cand.replace('?', 'a')\n",
        "    ans_list.append(ans_cand)\n",
        "\n",
        "ans_list.sort()\n",
        "ans = ans_list[0] if ans_list else 'UNRESTORABLE'\n",
        "print(ans)"
      ],
      "execution_count": null,
      "outputs": []
    },
    {
      "cell_type": "markdown",
      "metadata": {
        "id": "ieazMDi3dFIE"
      },
      "source": [
        "## D - AtCoder Express"
      ]
    },
    {
      "cell_type": "code",
      "metadata": {
        "id": "Vu8UlGWGcSNW"
      },
      "source": [
        "n = int(input())\n",
        "t_list = list(map(int, input().split()))\n",
        "v_list = list(map(int, input().split()))\n",
        "\n",
        "v_list.append(0)\n",
        "\n",
        "init_speed = 0\n",
        "distance = 0\n",
        "\n",
        "for i in range(n):\n",
        "  next_speed = v_list[i+1]\n",
        "\n",
        "  if init_speed <= next_speed:\n",
        "    if init_speed + t_list[i] < next_speed and next_speed < v_list[i]:\n",
        "      distance += (next_speed - init_speed) * t_list[i] / 2 + init_speed * t_list[i]\n",
        "      init_speed += t_list[i]\n",
        "      # print('pattern 1')\n",
        "    elif init_speed + t_list[i] < next_speed and next_speed >= v_list[i]:\n",
        "      distance += (v_list[i] - init_speed) ** 2 / 2 + (v_list[i] - init_speed) * (t_list[i] - (v_list[i] - init_speed)) + init_speed * t_list[i]\n",
        "      init_speed = v_list[i]\n",
        "      # print('pattern 2')\n",
        "    elif init_speed + t_list[i] >= next_speed:\n",
        "      if v_list[i] < v_list[i+1]:\n",
        "        distance += (v_list[i] - init_speed) ** 2 / 2 + (v_list[i] - init_speed) * (t_list[i] - (v_list[i] - init_speed)) + init_speed * t_list[i]\n",
        "        init_speed = v_list[i]\n",
        "        # print('pattern 2.5')\n",
        "      elif v_list[i] >= v_list[i+1]:\n",
        "        possible_speed = init_speed + (t_list[i] + (next_speed - init_speed)) / 2\n",
        "        if possible_speed > v_list[i]:\n",
        "          distance += (v_list[i] - init_speed) ** 2 / 2 + (v_list[i] - next_speed) ** 2 / 2 + (v_list[i] - init_speed) * (t_list[i] - (v_list[i] - init_speed) - (v_list[i] - next_speed)) + next_speed * (v_list[i] - next_speed) + init_speed * t_list[i]\n",
        "          init_speed = v_list[i+1]\n",
        "          # print('pattern 3')\n",
        "        else:\n",
        "          distance += (possible_speed - init_speed) ** 2 / 2 + (possible_speed - next_speed) ** 2 / 2 + next_speed * (possible_speed - next_speed) + init_speed * t_list[i]\n",
        "          init_speed = v_list[i+1]\n",
        "          # print('pattern 4')\n",
        "  else:\n",
        "    if init_speed - t_list[i] > next_speed:\n",
        "      distance += (next_speed - init_speed) * t_list[i] / 2 + next_speed * t_list[i]\n",
        "      # print('pattern 1-')\n",
        "    else:\n",
        "      possible_speed = init_speed + (t_list[i] - (init_speed - next_speed)) / 2\n",
        "      if possible_speed < v_list[i]:\n",
        "        distance += (possible_speed - init_speed) ** 2 / 2 + init_speed * (possible_speed - init_speed) + (possible_speed - next_speed) ** 2 / 2 + next_speed * t_list[i]\n",
        "        # print('pattern 4-')\n",
        "      else:\n",
        "        distance += (v_list[i] - init_speed) ** 2 / 2 + init_speed * (v_list[i] - init_speed) + (v_list[i] - next_speed) ** 2 / 2 + (v_list[i] - next_speed) * (t_list[i] - (v_list[i] - init_speed) - (v_list[i] - next_speed))\n",
        "        # print('pattern 3-')\n",
        "\n",
        "    init_speed = v_list[i+1]\n",
        "\n",
        "print(distance)"
      ],
      "execution_count": null,
      "outputs": []
    }
  ]
}