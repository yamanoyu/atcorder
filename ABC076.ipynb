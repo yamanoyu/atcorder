{
  "nbformat": 4,
  "nbformat_minor": 0,
  "metadata": {
    "colab": {
      "name": "ABC076.ipynb",
      "provenance": [],
      "collapsed_sections": [],
      "authorship_tag": "ABX9TyPY8vQ+MT5JkY82/Tzl1vQz",
      "include_colab_link": true
    },
    "kernelspec": {
      "name": "python3",
      "display_name": "Python 3"
    }
  },
  "cells": [
    {
      "cell_type": "markdown",
      "metadata": {
        "id": "view-in-github",
        "colab_type": "text"
      },
      "source": [
        "<a href=\"https://colab.research.google.com/github/yamanoyu/atcorder/blob/master/ABC076.ipynb\" target=\"_parent\"><img src=\"https://colab.research.google.com/assets/colab-badge.svg\" alt=\"Open In Colab\"/></a>"
      ]
    },
    {
      "cell_type": "markdown",
      "metadata": {
        "id": "EnXpkRx9ff7a"
      },
      "source": [
        "## A - Rating Goal"
      ]
    },
    {
      "cell_type": "code",
      "metadata": {
        "colab": {
          "base_uri": "https://localhost:8080/"
        },
        "id": "oUcUvhdxfa81",
        "outputId": "7db055aa-b576-40e6-8a36-72ec6fb6d403"
      },
      "source": [
        "r = int(input())\n",
        "g = int(input())\n",
        "ans = g * 2 - r\n",
        "print(ans)"
      ],
      "execution_count": null,
      "outputs": [
        {
          "output_type": "stream",
          "text": [
            "1\n",
            "2\n",
            "3\n"
          ],
          "name": "stdout"
        }
      ]
    },
    {
      "cell_type": "markdown",
      "metadata": {
        "id": "nvaICr9RfyoD"
      },
      "source": [
        "## B - Addition and Multiplication"
      ]
    },
    {
      "cell_type": "code",
      "metadata": {
        "colab": {
          "base_uri": "https://localhost:8080/"
        },
        "id": "N7egwcc0fgaY",
        "outputId": "caa6b26d-3dd3-4683-afee-fc9ee90f4700"
      },
      "source": [
        "n = int(input())\n",
        "k = int(input())\n",
        "\n",
        "num = 1\n",
        "times = 0\n",
        "\n",
        "while num <= k and times < n:\n",
        "  num *= 2\n",
        "  times += 1\n",
        "\n",
        "ans = num + (n - times) * k\n",
        "print(ans)"
      ],
      "execution_count": null,
      "outputs": [
        {
          "output_type": "stream",
          "text": [
            "1\n",
            "10000000000\n",
            "1\n",
            "2\n"
          ],
          "name": "stdout"
        }
      ]
    },
    {
      "cell_type": "markdown",
      "metadata": {
        "id": "em1mUc8FhYN8"
      },
      "source": [
        "## C - Dubious Document 2"
      ]
    },
    {
      "cell_type": "code",
      "metadata": {
        "id": "l3rkrlGyg0WK"
      },
      "source": [
        "s = input()\n",
        "t = input()\n",
        "\n",
        "ans_list = []\n",
        "\n",
        "for i in range(len(s) - len(t) + 1):\n",
        "  s_part = s[i : i + len(t)]\n",
        "\n",
        "  match = 1\n",
        "\n",
        "  for j in range(len(t)):\n",
        "    if s_part[j] == '?':\n",
        "      continue\n",
        "    else:\n",
        "      if s_part[j] != t[j]:\n",
        "        match = 0\n",
        "        break\n",
        "\n",
        "  if match:\n",
        "    ans_cand = s[:i] + t + s[i + len(t):]\n",
        "    ans_cand = ans_cand.replace('?', 'a')\n",
        "    ans_list.append(ans_cand)\n",
        "\n",
        "ans_list.sort()\n",
        "ans = ans_list[0] if ans_list else 'UNRESTORABLE'\n",
        "print(ans)"
      ],
      "execution_count": null,
      "outputs": []
    },
    {
      "cell_type": "markdown",
      "metadata": {
        "id": "ieazMDi3dFIE"
      },
      "source": [
        "## D - AtCoder Express"
      ]
    },
    {
      "cell_type": "code",
      "metadata": {
        "id": "Vu8UlGWGcSNW"
      },
      "source": [
        ""
      ],
      "execution_count": null,
      "outputs": []
    }
  ]
}