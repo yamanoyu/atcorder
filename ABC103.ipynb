{
  "nbformat": 4,
  "nbformat_minor": 0,
  "metadata": {
    "colab": {
      "name": "ABC103.ipynb",
      "provenance": [],
      "collapsed_sections": [],
      "authorship_tag": "ABX9TyNbOcXq6CLhRGjfCmgvTG92",
      "include_colab_link": true
    },
    "kernelspec": {
      "name": "python3",
      "display_name": "Python 3"
    }
  },
  "cells": [
    {
      "cell_type": "markdown",
      "metadata": {
        "id": "view-in-github",
        "colab_type": "text"
      },
      "source": [
        "<a href=\"https://colab.research.google.com/github/yamanoyu/atcorder/blob/master/ABC103.ipynb\" target=\"_parent\"><img src=\"https://colab.research.google.com/assets/colab-badge.svg\" alt=\"Open In Colab\"/></a>"
      ]
    },
    {
      "cell_type": "markdown",
      "metadata": {
        "id": "RvCnxSZL5C8u"
      },
      "source": [
        "## A - Task Scheduling Problem"
      ]
    },
    {
      "cell_type": "code",
      "metadata": {
        "colab": {
          "base_uri": "https://localhost:8080/"
        },
        "id": "GM5kgYcy4-HJ",
        "outputId": "4232d50f-c40e-424d-e30c-d961c6f7a460"
      },
      "source": [
        "a_list = list(map(int, input().split()))\n",
        "ans = max(a_list) - min(a_list)\n",
        "print(ans)"
      ],
      "execution_count": 1,
      "outputs": [
        {
          "output_type": "stream",
          "text": [
            "1 6 3\n",
            "5\n"
          ],
          "name": "stdout"
        }
      ]
    },
    {
      "cell_type": "markdown",
      "metadata": {
        "id": "aBA6zel65i1a"
      },
      "source": [
        "## B - String Rotation"
      ]
    },
    {
      "cell_type": "code",
      "metadata": {
        "colab": {
          "base_uri": "https://localhost:8080/"
        },
        "id": "1JC24yNg5DnT",
        "outputId": "035d63b6-be50-4b06-8cbf-64e4f67b3749"
      },
      "source": [
        "s = input()\n",
        "t = input()\n",
        "\n",
        "ans = 'No'\n",
        "\n",
        "for i in range(len(s)):\n",
        "  if s[i:] + s[:i] == t:\n",
        "    ans = 'Yes'\n",
        "\n",
        "print(ans)"
      ],
      "execution_count": 2,
      "outputs": [
        {
          "output_type": "stream",
          "text": [
            "kyoto\n",
            "tokyo\n",
            "Yes\n"
          ],
          "name": "stdout"
        }
      ]
    },
    {
      "cell_type": "markdown",
      "metadata": {
        "id": "lmD7mVCO6Fia"
      },
      "source": [
        "## C - Modulo Summation"
      ]
    },
    {
      "cell_type": "code",
      "metadata": {
        "colab": {
          "base_uri": "https://localhost:8080/"
        },
        "id": "9XTAbojj5_FP",
        "outputId": "8f0cf3b8-6786-4e40-95bb-06d6c97d1862"
      },
      "source": [
        "n = int(input())\n",
        "a_list = list(map(int, input().split()))\n",
        "\n",
        "ans = sum(a_list) - n\n",
        "\n",
        "print(ans)"
      ],
      "execution_count": 3,
      "outputs": [
        {
          "output_type": "stream",
          "text": [
            "7\n",
            "994 518 941 851 647 2 581\n",
            "4527\n"
          ],
          "name": "stdout"
        }
      ]
    },
    {
      "cell_type": "markdown",
      "metadata": {
        "id": "oN9MCmlj6fla"
      },
      "source": [
        "## D - Islands War"
      ]
    },
    {
      "cell_type": "code",
      "metadata": {
        "colab": {
          "base_uri": "https://localhost:8080/"
        },
        "id": "SyCqUikx6bAq",
        "outputId": "0bfaaf1e-d762-4170-efc3-a6919405d09f"
      },
      "source": [
        "n, m = map(int, input().split())\n",
        "\n",
        "ab_list = [list(map(int, input().split())) for _ in range(m)]\n",
        "\n",
        "ab_list.sort(key=lambda x: x[1])\n",
        "ans_list = []\n",
        "\n",
        "for ab in ab_list:\n",
        "  if ans_list == [] or ab[0] >= ans_list[-1]:\n",
        "    ans_list.append(ab[1])\n",
        "ans = len(ans_list)\n",
        "print(ans)"
      ],
      "execution_count": 7,
      "outputs": [
        {
          "output_type": "stream",
          "text": [
            "5 2\n",
            "1 4\n",
            "2 5\n",
            "1\n"
          ],
          "name": "stdout"
        }
      ]
    }
  ]
}