{
  "nbformat": 4,
  "nbformat_minor": 0,
  "metadata": {
    "colab": {
      "name": "ABC137.ipynb",
      "provenance": [],
      "collapsed_sections": [],
      "authorship_tag": "ABX9TyPW9NoxDSJavQA2/DJ/2gHq",
      "include_colab_link": true
    },
    "kernelspec": {
      "name": "python3",
      "display_name": "Python 3"
    }
  },
  "cells": [
    {
      "cell_type": "markdown",
      "metadata": {
        "id": "view-in-github",
        "colab_type": "text"
      },
      "source": [
        "<a href=\"https://colab.research.google.com/github/yamanoyu/atcorder/blob/master/ABC137.ipynb\" target=\"_parent\"><img src=\"https://colab.research.google.com/assets/colab-badge.svg\" alt=\"Open In Colab\"/></a>"
      ]
    },
    {
      "cell_type": "markdown",
      "metadata": {
        "id": "wG-Nynex5zih"
      },
      "source": [
        "## A - +-x"
      ]
    },
    {
      "cell_type": "code",
      "metadata": {
        "colab": {
          "base_uri": "https://localhost:8080/"
        },
        "id": "POYv_kJ65vQr",
        "outputId": "46e316ca-ab42-4999-e473-f6039add078b"
      },
      "source": [
        "a, b = map(int, input().split())\n",
        "ans = max(a + b, a - b, a * b)\n",
        "print(ans)"
      ],
      "execution_count": null,
      "outputs": [
        {
          "output_type": "stream",
          "text": [
            "-13 3\n",
            "-10\n"
          ],
          "name": "stdout"
        }
      ]
    },
    {
      "cell_type": "markdown",
      "metadata": {
        "id": "23RO7M1l6Gog"
      },
      "source": [
        "## B - One Clue"
      ]
    },
    {
      "cell_type": "code",
      "metadata": {
        "colab": {
          "base_uri": "https://localhost:8080/"
        },
        "id": "9CzAvgC_5z7S",
        "outputId": "3740373d-6cc9-455c-a541-f4886bc39fdc"
      },
      "source": [
        "k, x = map(int, input().split())\n",
        "\n",
        "if x - k + 1 < -1000000:\n",
        "  ans_list = list(range(-1000000, x + k))\n",
        "elif x + k - 1 > 1000000:\n",
        "  ans_list = list(range(x - k + 1, 1000001))\n",
        "else:\n",
        "  ans_list = list(range(x - k + 1, x + k))\n",
        "\n",
        "ans = ' '.join(map(str, ans_list))\n",
        "\n",
        "print(ans)"
      ],
      "execution_count": null,
      "outputs": [
        {
          "output_type": "stream",
          "text": [
            "4 999999\n",
            "999996 999997 999998 999999 1000000\n"
          ],
          "name": "stdout"
        }
      ]
    },
    {
      "cell_type": "markdown",
      "metadata": {
        "id": "5r60g6Zp9Xen"
      },
      "source": [
        "## C - Green Bin"
      ]
    },
    {
      "cell_type": "code",
      "metadata": {
        "colab": {
          "base_uri": "https://localhost:8080/"
        },
        "id": "1DU71JDW8-jZ",
        "outputId": "b0499261-5e65-4e92-c80a-6362ae289f3f"
      },
      "source": [
        "from collections import defaultdict\n",
        "\n",
        "\n",
        "n = int(input())\n",
        "s_dict = defaultdict(int)\n",
        "\n",
        "ans = 0\n",
        "\n",
        "for _ in range(n):\n",
        "  s = input()\n",
        "  s_sort = ''.join(sorted(s))\n",
        "  if s_dict[s_sort] !=0:\n",
        "    ans += s_dict[s_sort]\n",
        "  s_dict[s_sort] += 1\n",
        "\n",
        "print(ans)"
      ],
      "execution_count": null,
      "outputs": [
        {
          "output_type": "stream",
          "text": [
            "5\n",
            "abaaaaaaaa\n",
            "oneplustwo\n",
            "aaaaaaaaba\n",
            "twoplusone\n",
            "aaaabaaaaa\n",
            "4\n"
          ],
          "name": "stdout"
        }
      ]
    },
    {
      "cell_type": "markdown",
      "metadata": {
        "id": "NvFyaKuaCFuz"
      },
      "source": [
        "## D - Summer Vacation"
      ]
    },
    {
      "cell_type": "code",
      "metadata": {
        "id": "5EUaX88lBkep",
        "colab": {
          "base_uri": "https://localhost:8080/"
        },
        "outputId": "5a03a017-2dfc-49f9-cc40-2d6aecb46f41"
      },
      "source": [
        "import heapq\n",
        "\n",
        "\n",
        "n, m = map(int, input().split())\n",
        "parttime_list = [[0] for _ in range(m)]\n",
        "\n",
        "for _ in range(n):\n",
        "  a, b = map(int, input().split())\n",
        "  if a <= m:\n",
        "    parttime_list[a - 1].append(-b)\n",
        "\n",
        "ans = 0\n",
        "task_list = []\n",
        "\n",
        "for parttime in parttime_list:\n",
        "  for p in parttime:\n",
        "    heapq.heappush(task_list, p)\n",
        "  ans -= heapq.heappop(task_list)\n",
        "\n",
        "print(ans)"
      ],
      "execution_count": 9,
      "outputs": [
        {
          "output_type": "stream",
          "text": [
            "3 4\n",
            "4 3\n",
            "4 1\n",
            "2 2\n",
            "5\n"
          ],
          "name": "stdout"
        }
      ]
    }
  ]
}