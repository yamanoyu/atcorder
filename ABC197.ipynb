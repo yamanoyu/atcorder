{
  "nbformat": 4,
  "nbformat_minor": 0,
  "metadata": {
    "colab": {
      "name": "ABC197.ipynb",
      "provenance": [],
      "collapsed_sections": [],
      "authorship_tag": "ABX9TyPg4+6diN/qfgcd+OS8FFA2",
      "include_colab_link": true
    },
    "kernelspec": {
      "name": "python3",
      "display_name": "Python 3"
    },
    "language_info": {
      "name": "python"
    }
  },
  "cells": [
    {
      "cell_type": "markdown",
      "metadata": {
        "id": "view-in-github",
        "colab_type": "text"
      },
      "source": [
        "<a href=\"https://colab.research.google.com/github/yamanoyu/atcorder/blob/master/ABC197.ipynb\" target=\"_parent\"><img src=\"https://colab.research.google.com/assets/colab-badge.svg\" alt=\"Open In Colab\"/></a>"
      ]
    },
    {
      "cell_type": "markdown",
      "metadata": {
        "id": "39sfsmKx6qPl"
      },
      "source": [
        "## A - Rotate"
      ]
    },
    {
      "cell_type": "code",
      "metadata": {
        "colab": {
          "base_uri": "https://localhost:8080/"
        },
        "id": "Yl3YkgfBjJbg",
        "outputId": "999be9f0-3c41-4d4e-b177-6dfb906f651f"
      },
      "source": [
        "s = input()\n",
        "ans = s[1:] + s[0]\n",
        "print(ans)"
      ],
      "execution_count": 5,
      "outputs": [
        {
          "output_type": "stream",
          "text": [
            "abc\n",
            "bca\n"
          ],
          "name": "stdout"
        }
      ]
    },
    {
      "cell_type": "markdown",
      "metadata": {
        "id": "e0b36wBb6n-1"
      },
      "source": [
        "## B - Visibility"
      ]
    },
    {
      "cell_type": "code",
      "metadata": {
        "id": "lFeUi020jtlY"
      },
      "source": [
        "h, w, x, y = map(int, input().split())\n",
        "s_list = [list(input()) for _ in range(h)]\n",
        "\n",
        "ans = 0\n",
        "\n",
        "i = 0\n",
        "while True:\n",
        "  yi = y + i\n",
        "  if yi >= w: break\n",
        "  if s_list[x - 1][yi] == '.':\n",
        "    ans += 1\n",
        "  else:\n",
        "    break\n",
        "  i += 1\n",
        "\n",
        "j = 1\n",
        "while True:\n",
        "  yj = y - j\n",
        "  if yj < 0: break\n",
        "  if s_list[x - 1][yj] == '.':\n",
        "    ans += 1\n",
        "  else:\n",
        "    break\n",
        "  j += 1\n",
        "\n",
        "k = 0\n",
        "while True:\n",
        "  xk = x + k\n",
        "  if xk >= h: break\n",
        "  if s_list[xk][y - 1] == '.':\n",
        "    ans += 1\n",
        "  else:\n",
        "    break\n",
        "  k += 1\n",
        "\n",
        "l = 1\n",
        "while True:\n",
        "  xl = x - l\n",
        "  if xl < 0: break\n",
        "  if s_list[xl][y - 1] == '.':\n",
        "    ans += 1\n",
        "  else:\n",
        "    break\n",
        "  l += 1\n",
        "\n",
        "ans -= 1\n",
        "print(ans)"
      ],
      "execution_count": null,
      "outputs": []
    },
    {
      "cell_type": "markdown",
      "metadata": {
        "id": "n6aSrM3C6ldW"
      },
      "source": [
        "## C - ORXOR"
      ]
    },
    {
      "cell_type": "code",
      "metadata": {
        "colab": {
          "base_uri": "https://localhost:8080/"
        },
        "id": "MfK-sJZHoSIf",
        "outputId": "181f0938-bc1b-476d-ced5-212c957228c5"
      },
      "source": [
        "import itertools\n",
        "\n",
        "\n",
        "n = int(input())\n",
        "a_list = list(map(int, input().split()))\n",
        "\n",
        "INF = 10 ** 18 + 9\n",
        "ans = INF\n",
        "\n",
        "\n",
        "def cal_or(n_list):\n",
        "  for i in range(len(n_list)):\n",
        "    if i == 0:\n",
        "      r = n_list[i]\n",
        "    else:\n",
        "      r |= n_list[i]\n",
        "  return r\n",
        "\n",
        "def cal_xor(n_list):\n",
        "  for i in range(len(n_list)):\n",
        "    if i == 0:\n",
        "      r = n_list[i]\n",
        "    else:\n",
        "      r ^= n_list[i]\n",
        "  return r\n",
        "\n",
        "\n",
        "for i in range(n):\n",
        "  # a_listをi個に分割\n",
        "  if i == 0:\n",
        "    ans = cal_or(a_list)\n",
        "  else:\n",
        "    top_indexs = list(itertools.combinations(list(range(1, n)), i))\n",
        "    for top_index in top_indexs:\n",
        "      _ans_list = []\n",
        "      for j in range(i):\n",
        "        if j == 0:\n",
        "          _ans_list.append(a_list[0 : top_index[j]])\n",
        "        else:\n",
        "          _ans_list.append(a_list[top_index[j - 1] : top_index[j]])\n",
        "      _ans_list.append(a_list[top_index[j] :])\n",
        "\n",
        "      for k in range(len(_ans_list)):\n",
        "        if k == 0:\n",
        "          _ans = cal_or(_ans_list[k])\n",
        "        else:\n",
        "          _ans ^= cal_or(_ans_list[k])\n",
        "      ans = min(ans, _ans)\n",
        "\n",
        "print(ans)"
      ],
      "execution_count": 38,
      "outputs": [
        {
          "output_type": "stream",
          "text": [
            "3\n",
            "10 10 10\n",
            "0\n"
          ],
          "name": "stdout"
        }
      ]
    },
    {
      "cell_type": "markdown",
      "metadata": {
        "id": "IKnuLSK26hbQ"
      },
      "source": [
        "## D - Opposite"
      ]
    },
    {
      "cell_type": "code",
      "metadata": {
        "colab": {
          "base_uri": "https://localhost:8080/"
        },
        "id": "KquLoseUpd8-",
        "outputId": "000e6f11-97a1-4ede-9a6d-6904cc44391e"
      },
      "source": [
        "import math\n",
        "\n",
        "\n",
        "n = int(input())\n",
        "x0, y0 = map(int, input().split())\n",
        "xn, yn = map(int, input().split())\n",
        "\n",
        "xc = (x0 + xn) / 2\n",
        "yc = (y0 + yn) / 2\n",
        "\n",
        "length = ((x0 - xc) ** 2 + (y0 - yc) ** 2) ** 0.5\n",
        "\n",
        "x_rot = math.acos((x0 - xc) / length)\n",
        "y_rot = math.asin((y0 - yc) / length)\n",
        "\n",
        "rot = 0\n",
        "deg_list = [abs(x_rot), math.pi * 2 - abs(x_rot), math.pi * 2 - abs(y_rot), math.pi + abs(y_rot)]\n",
        "for deg in deg_list:\n",
        "  if abs(math.cos(deg) - (x0 - xc) / length) < 0.1 and abs(math.sin(deg) - (y0 - yc) / length) < 0.1:\n",
        "    rot = deg\n",
        "\n",
        "x_ans = length * (math.cos(math.pi * 2 / n + rot)) + xc\n",
        "y_ans = length * (math.sin(math.pi * 2 / n + rot)) + yc\n",
        "\n",
        "print(x_ans, y_ans)"
      ],
      "execution_count": 41,
      "outputs": [
        {
          "output_type": "stream",
          "text": [
            "4\n",
            "1 1\n",
            "2 2\n",
            "2.0 0.9999999999999999\n"
          ],
          "name": "stdout"
        }
      ]
    }
  ]
}