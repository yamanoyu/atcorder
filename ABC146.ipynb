{
  "nbformat": 4,
  "nbformat_minor": 0,
  "metadata": {
    "colab": {
      "name": "ABC146.ipynb",
      "provenance": [],
      "collapsed_sections": [],
      "authorship_tag": "ABX9TyOxYxA1V8YknpT8GaUCVDZb",
      "include_colab_link": true
    },
    "kernelspec": {
      "name": "python3",
      "display_name": "Python 3"
    }
  },
  "cells": [
    {
      "cell_type": "markdown",
      "metadata": {
        "id": "view-in-github",
        "colab_type": "text"
      },
      "source": [
        "<a href=\"https://colab.research.google.com/github/yamanoyu/atcorder/blob/master/ABC146.ipynb\" target=\"_parent\"><img src=\"https://colab.research.google.com/assets/colab-badge.svg\" alt=\"Open In Colab\"/></a>"
      ]
    },
    {
      "cell_type": "markdown",
      "metadata": {
        "id": "NCR247jCOSDO"
      },
      "source": [
        "## A - Can't Wait for Holiday"
      ]
    },
    {
      "cell_type": "code",
      "metadata": {
        "colab": {
          "base_uri": "https://localhost:8080/"
        },
        "id": "jsMVQ1GSNi0w",
        "outputId": "fa6f08a1-7505-46ce-a606-9261456dae47"
      },
      "source": [
        "s = input()\n",
        "\n",
        "date = ['SUN', 'MON', 'TUE', 'WED', 'THU', 'FRI', 'SAT']\n",
        "\n",
        "ans = 7 - date.index(s)\n",
        "print(ans)"
      ],
      "execution_count": 2,
      "outputs": [
        {
          "output_type": "stream",
          "text": [
            "SAT\n",
            "1\n"
          ],
          "name": "stdout"
        }
      ]
    },
    {
      "cell_type": "markdown",
      "metadata": {
        "id": "omOWkge_O2dp"
      },
      "source": [
        "## B - ROT N"
      ]
    },
    {
      "cell_type": "code",
      "metadata": {
        "colab": {
          "base_uri": "https://localhost:8080/"
        },
        "id": "b2wSsaYWOScI",
        "outputId": "a83c2030-cc9f-4466-c4f8-9f91bb963660"
      },
      "source": [
        "n = int(input())\n",
        "s = input()\n",
        "\n",
        "ans_list = [chr((ord(i) - 65 + n) % 26 + 65) for i in s]\n",
        "ans = ''.join(ans_list)\n",
        "print(ans)"
      ],
      "execution_count": 6,
      "outputs": [
        {
          "output_type": "stream",
          "text": [
            "2\n",
            "ABC\n",
            "CDE\n"
          ],
          "name": "stdout"
        }
      ]
    },
    {
      "cell_type": "markdown",
      "metadata": {
        "id": "GZJja2bmQwVq"
      },
      "source": [
        "## C - Buy an Integer"
      ]
    },
    {
      "cell_type": "code",
      "metadata": {
        "colab": {
          "base_uri": "https://localhost:8080/"
        },
        "id": "PzGFzE0nQTEX",
        "outputId": "74d75b37-344d-49c6-d883-458bb1122858"
      },
      "source": [
        "a, b, x = map(int, input().split())\n",
        "\n",
        "ans_list = []\n",
        "\n",
        "for d in range(1, 19):\n",
        "  if a * (10 ** (d - 1)) + b * d > x:\n",
        "    continue\n",
        "  else:\n",
        "    _ans = (x - b * d) // a\n",
        "    print\n",
        "    if len(str(_ans)) == d:\n",
        "      ans_list.append(min(_ans, 10 ** 9))\n",
        "    elif len(str(_ans)) > d:\n",
        "      _ans = 10 ** d - 1\n",
        "      ans_list.append(min(_ans, 10 ** 9))\n",
        "\n",
        "ans = max(ans_list) if ans_list else 0\n",
        "print(ans)"
      ],
      "execution_count": 44,
      "outputs": [
        {
          "output_type": "stream",
          "text": [
            "303238506 317063340 303238508894523551\n",
            "999999999\n"
          ],
          "name": "stdout"
        }
      ]
    },
    {
      "cell_type": "markdown",
      "metadata": {
        "id": "iddY92r1Y7VO"
      },
      "source": [
        "## D - Coloring Edges on Tree"
      ]
    },
    {
      "cell_type": "code",
      "metadata": {
        "colab": {
          "base_uri": "https://localhost:8080/"
        },
        "id": "7nMcUxZ6YNo7",
        "outputId": "92dc412e-2c67-4f96-f888-d8d8ba2af95a"
      },
      "source": [
        "n = int(input())\n",
        "ab_list = [tuple(map(int, input().split())) for _ in range(n - 1)]\n"
      ],
      "execution_count": 42,
      "outputs": [
        {
          "output_type": "stream",
          "text": [
            "3\n",
            "1 2\n",
            "2 3\n",
            "1 2\n"
          ],
          "name": "stdout"
        }
      ]
    },
    {
      "cell_type": "markdown",
      "metadata": {
        "id": "YYutNSzpvZ9L"
      },
      "source": [
        "## E - Rem of Sum is Num"
      ]
    },
    {
      "cell_type": "code",
      "metadata": {
        "colab": {
          "base_uri": "https://localhost:8080/"
        },
        "id": "rOyAGOuElqPJ",
        "outputId": "d71710a0-398b-423d-d8aa-5386e75c4a2b"
      },
      "source": [
        "# TLE\n",
        "\n",
        "n, k = map(int, input().split())\n",
        "a_list = list(map(int, input().split()))\n",
        "\n",
        "a_sum_list = [0]\n",
        "_a = 0\n",
        "\n",
        "for a in a_list:\n",
        "  _a += a\n",
        "  a_sum_list.append(_a)\n",
        "\n",
        "ans = 0\n",
        "\n",
        "for i in range(1, min(n + 1, k)):\n",
        "  for j in range(n + 1 - i):\n",
        "    if (a_sum_list[j + i] - a_sum_list[j]) % k == i:\n",
        "      ans += 1\n",
        "\n",
        "print(ans)"
      ],
      "execution_count": 51,
      "outputs": [
        {
          "output_type": "stream",
          "text": [
            "10 7\n",
            "14 15 92 65 35 89 79 32 38 46\n",
            "8\n"
          ],
          "name": "stdout"
        }
      ]
    },
    {
      "cell_type": "code",
      "metadata": {
        "colab": {
          "base_uri": "https://localhost:8080/"
        },
        "id": "z-E4BDKA4SXr",
        "outputId": "45b7b44a-9492-4b0a-b4fa-e98824f2d796"
      },
      "source": [
        "from collections import defaultdict\n",
        "\n",
        "\n",
        "n, k = map(int, input().split())\n",
        "a_list = list(map(int, input().split()))\n",
        "\n",
        "a_sum_list = [0]\n",
        "_a = 0\n",
        "\n",
        "for i, a in zip(range(1, n + 1), a_list):\n",
        "  _a += a\n",
        "  a_sum_list.append((_a - i) % k)\n",
        "\n",
        "\n",
        "a_mod_dict = defaultdict(int)\n",
        "ans = 0\n",
        "\n",
        "for i, a in enumerate(a_sum_list):\n",
        "  if i >= k:\n",
        "    a_mod_dict[a_sum_list[i - k]] -= 1\n",
        "  ans += a_mod_dict[a]\n",
        "  a_mod_dict[a] += 1\n",
        "\n",
        "print(ans)"
      ],
      "execution_count": 72,
      "outputs": [
        {
          "output_type": "stream",
          "text": [
            "5 4\n",
            "1 4 2 3 5\n",
            "[0, 0, 3, 0, 2, 2]\n",
            "4\n"
          ],
          "name": "stdout"
        }
      ]
    },
    {
      "cell_type": "markdown",
      "metadata": {
        "id": "gHig1qSevdxI"
      },
      "source": [
        "## F - Sugoroku"
      ]
    },
    {
      "cell_type": "code",
      "metadata": {
        "id": "3d8tbtwmveLX"
      },
      "source": [
        ""
      ],
      "execution_count": null,
      "outputs": []
    }
  ]
}