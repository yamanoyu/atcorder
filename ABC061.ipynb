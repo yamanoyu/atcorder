{
  "nbformat": 4,
  "nbformat_minor": 0,
  "metadata": {
    "colab": {
      "name": "ABC061.ipynb",
      "provenance": [],
      "collapsed_sections": [],
      "authorship_tag": "ABX9TyNMLxr0aXcTGWZIoZNRpCgb",
      "include_colab_link": true
    },
    "kernelspec": {
      "name": "python3",
      "display_name": "Python 3"
    }
  },
  "cells": [
    {
      "cell_type": "markdown",
      "metadata": {
        "id": "view-in-github",
        "colab_type": "text"
      },
      "source": [
        "<a href=\"https://colab.research.google.com/github/yamanoyu/atcorder/blob/master/ABC061.ipynb\" target=\"_parent\"><img src=\"https://colab.research.google.com/assets/colab-badge.svg\" alt=\"Open In Colab\"/></a>"
      ]
    },
    {
      "cell_type": "markdown",
      "metadata": {
        "id": "GCQbp6Q3nF36"
      },
      "source": [
        "## A - Between Two Integers"
      ]
    },
    {
      "cell_type": "code",
      "metadata": {
        "id": "QoVWo22pl7N3",
        "outputId": "a7330e0d-1deb-40c6-b30c-7e7034660cc4",
        "colab": {
          "base_uri": "https://localhost:8080/"
        }
      },
      "source": [
        "a, b, c = map(int, input().split())\n",
        "ans = 'Yes' if c >= a and c <= b else 'No'\n",
        "print(ans)"
      ],
      "execution_count": null,
      "outputs": [
        {
          "output_type": "stream",
          "text": [
            "1 3 2\n",
            "Yes\n"
          ],
          "name": "stdout"
        }
      ]
    },
    {
      "cell_type": "markdown",
      "metadata": {
        "id": "Es_C-5LvnFXc"
      },
      "source": [
        "## B - Counting Roads"
      ]
    },
    {
      "cell_type": "code",
      "metadata": {
        "id": "8Gl03hF6niRK",
        "outputId": "9394e9d6-500c-4f85-ed01-f33a43c73cbb",
        "colab": {
          "base_uri": "https://localhost:8080/"
        }
      },
      "source": [
        "n, m = map(int, input().split())\n",
        "\n",
        "visit_town = [[] for _ in range(n)]\n",
        "for _ in range(m):\n",
        "  a, b = map(int, input().split())\n",
        "  visit_town[a - 1].append(b)\n",
        "  visit_town[b - 1].append(a)\n",
        "\n",
        "for visit in visit_town:\n",
        "  ans = len(visit)\n",
        "  print(ans)"
      ],
      "execution_count": null,
      "outputs": [
        {
          "output_type": "stream",
          "text": [
            "4 3\n",
            "1 2\n",
            "1 4\n",
            "1 3\n",
            "3\n",
            "1\n",
            "1\n",
            "1\n"
          ],
          "name": "stdout"
        }
      ]
    },
    {
      "cell_type": "code",
      "metadata": {
        "id": "q6T8dya8ojCj",
        "outputId": "93480b00-81c6-4ba2-b651-bcea02d6cff8",
        "colab": {
          "base_uri": "https://localhost:8080/"
        }
      },
      "source": [
        "n, m = map(int, input().split())\n",
        "\n",
        "visit_town = [0] * n\n",
        "for _ in range(m):\n",
        "  a, b = map(int, input().split())\n",
        "  visit_town[a - 1] += 1\n",
        "  visit_town[b - 1] += 1\n",
        "\n",
        "for ans in visit_town:\n",
        "  print(ans)"
      ],
      "execution_count": null,
      "outputs": [
        {
          "output_type": "stream",
          "text": [
            "4 3\n",
            "1 2\n",
            "1 3\n",
            "1 4\n",
            "3\n",
            "1\n",
            "1\n",
            "1\n"
          ],
          "name": "stdout"
        }
      ]
    },
    {
      "cell_type": "markdown",
      "metadata": {
        "id": "2mIGgg6bphXI"
      },
      "source": [
        "## C - Big Array"
      ]
    },
    {
      "cell_type": "code",
      "metadata": {
        "id": "EjngIze2orwP",
        "outputId": "18062e2c-0e9f-4352-b422-cddecd02ff87",
        "colab": {
          "base_uri": "https://localhost:8080/"
        }
      },
      "source": [
        "from collections import defaultdict\n",
        "\n",
        "n, k = map(int, input().split())\n",
        "\n",
        "num_dict = defaultdict(int)\n",
        "\n",
        "for _ in range(n):\n",
        "  a, b = map(int, input().split())\n",
        "  num_dict[a] += b\n",
        "\n",
        "num_dict_sorted = sorted(num_dict.items())\n",
        "\n",
        "rank = 0\n",
        "\n",
        "for key, val in num_dict_sorted:\n",
        "  rank += val\n",
        "  if rank >= k:\n",
        "    ans = key\n",
        "    break\n",
        "\n",
        "print(ans)"
      ],
      "execution_count": null,
      "outputs": [
        {
          "output_type": "stream",
          "text": [
            "3 4\n",
            "1 1\n",
            "2 2\n",
            "3 3\n",
            "<class 'list'>\n",
            "[(1, 1), (2, 2), (3, 3)]\n",
            "3\n"
          ],
          "name": "stdout"
        }
      ]
    },
    {
      "cell_type": "markdown",
      "metadata": {
        "id": "sniTOCDh0QYg"
      },
      "source": [
        "## D - Score Attack"
      ]
    },
    {
      "cell_type": "code",
      "metadata": {
        "id": "XXmNLXx1q0WH"
      },
      "source": [
        ""
      ],
      "execution_count": null,
      "outputs": []
    }
  ]
}