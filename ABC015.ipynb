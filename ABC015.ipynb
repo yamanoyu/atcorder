{
 "cells": [
  {
   "cell_type": "markdown",
   "metadata": {},
   "source": [
    "## A - 高橋くんの研修"
   ]
  },
  {
   "cell_type": "code",
   "execution_count": 1,
   "metadata": {},
   "outputs": [
    {
     "name": "stdout",
     "output_type": "stream",
     "text": [
      "ertwrtb\n",
      "gbeoguvihd\n",
      "gbeoguvihd\n"
     ]
    }
   ],
   "source": [
    "a = input()\n",
    "b = input()\n",
    "ans = a if len(a) > len(b) else b\n",
    "print(ans)"
   ]
  },
  {
   "cell_type": "markdown",
   "metadata": {},
   "source": [
    "## B - 高橋くんの集計"
   ]
  },
  {
   "cell_type": "code",
   "execution_count": 7,
   "metadata": {},
   "outputs": [
    {
     "name": "stdout",
     "output_type": "stream",
     "text": [
      "1\n",
      "1 4 9 10 15\n",
      "8\n",
      "[1, 4, 9, 10, 15]\n"
     ]
    }
   ],
   "source": [
    "n = int(input())\n",
    "a_list = list(map(int, input().split()))\n",
    "\n",
    "a_list = [a for a in a_list if a != 0]\n",
    "ans = sum(a_list) // len(a_list) if sum(a_list) % len(a_list) == 0 else sum(a_list) // len(a_list) + 1\n",
    "print(ans)"
   ]
  },
  {
   "cell_type": "markdown",
   "metadata": {},
   "source": [
    "## C - 高橋くんのバグ探し"
   ]
  },
  {
   "cell_type": "code",
   "execution_count": 26,
   "metadata": {},
   "outputs": [
    {
     "name": "stdout",
     "output_type": "stream",
     "text": [
      "5 3\n",
      "89 62 15\n",
      "44 36 17\n",
      "4 24 24\n",
      "25 98 99\n",
      "66 33 57\n",
      "Nothing\n"
     ]
    }
   ],
   "source": [
    "n, k = map(int, input().split())\n",
    "ts_list = [list(map(int, input().split())) for _ in range(n)]\n",
    "\n",
    "ans = 'Nothing'\n",
    "    \n",
    "for t in range(k**n):\n",
    "    xor = 0\n",
    "    for t_v in range(n):\n",
    "        xor ^= ts_list[t_v][(t // k ** t_v) % k]\n",
    "    if xor == 0:\n",
    "        ans = 'Found'\n",
    "        break\n",
    "    \n",
    "print(ans)"
   ]
  },
  {
   "cell_type": "markdown",
   "metadata": {},
   "source": [
    "## D - 高橋くんの苦悩"
   ]
  },
  {
   "cell_type": "code",
   "execution_count": 39,
   "metadata": {},
   "outputs": [
    {
     "name": "stdout",
     "output_type": "stream",
     "text": [
      "10\n",
      "5 4\n",
      "9 10\n",
      "3 7\n",
      "3 1\n",
      "2 6\n",
      "4 5\n",
      "18\n"
     ]
    }
   ],
   "source": [
    "W = int(input())\n",
    "N, K = map(int, input().split())\n",
    "Items = [list(map(int, input().split())) for _ in range(N)]\n",
    "MAX_V = 50 * 100\n",
    "INF = 10 ** 9\n",
    "\n",
    "# dp[i][k][v] := i番目まで見てk個選んだ時に価値の総和がvになるために必要な最小幅合計\n",
    "dp = [[[INF] * (MAX_V + 1) for j in range(K + 1)] for i in range(N + 1)]\n",
    "dp[0][0][0] = 0\n",
    "for i, (a, b) in enumerate(Items):\n",
    "    for k in range(K + 1):\n",
    "        for v in range(MAX_V + 1):\n",
    "            dp[i + 1][k][v] = min(dp[i + 1][k][v], dp[i][k][v])\n",
    "            if v + b <= MAX_V and k + 1 <= K:\n",
    "                dp[i + 1][k + 1][v + b] = min(dp[i + 1][k + 1][v + b], dp[i][k][v] + a)\n",
    "\n",
    "ans = 0\n",
    "\n",
    "for k in range(K + 1):\n",
    "    for v in range(MAX_V + 1):\n",
    "        if dp[-1][k][v] <= W:\n",
    "            ans = max(ans, v)\n",
    "\n",
    "print(ans)"
   ]
  }
 ],
 "metadata": {
  "kernelspec": {
   "display_name": "Python 3",
   "language": "python",
   "name": "python3"
  },
  "language_info": {
   "codemirror_mode": {
    "name": "ipython",
    "version": 3
   },
   "file_extension": ".py",
   "mimetype": "text/x-python",
   "name": "python",
   "nbconvert_exporter": "python",
   "pygments_lexer": "ipython3",
   "version": "3.7.4"
  }
 },
 "nbformat": 4,
 "nbformat_minor": 4
}
