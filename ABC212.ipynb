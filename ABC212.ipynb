{
  "nbformat": 4,
  "nbformat_minor": 0,
  "metadata": {
    "colab": {
      "name": "ABC212.ipynb",
      "provenance": [],
      "authorship_tag": "ABX9TyOkiHciuir33KNRK6mD0pS/",
      "include_colab_link": true
    },
    "kernelspec": {
      "name": "python3",
      "display_name": "Python 3"
    },
    "language_info": {
      "name": "python"
    }
  },
  "cells": [
    {
      "cell_type": "markdown",
      "metadata": {
        "id": "view-in-github",
        "colab_type": "text"
      },
      "source": [
        "<a href=\"https://colab.research.google.com/github/yamanoyu/atcorder/blob/master/ABC212.ipynb\" target=\"_parent\"><img src=\"https://colab.research.google.com/assets/colab-badge.svg\" alt=\"Open In Colab\"/></a>"
      ]
    },
    {
      "cell_type": "markdown",
      "metadata": {
        "id": "rQIGZnzlTZD1"
      },
      "source": [
        "## A - Alloy"
      ]
    },
    {
      "cell_type": "code",
      "metadata": {
        "id": "6pKyG4CATPjb"
      },
      "source": [
        "a, b = map(int, input().split())\n",
        "if a * b != 0:\n",
        "  ans = 'Alloy'\n",
        "elif a == 0:\n",
        "  ans = 'Silver'\n",
        "else:\n",
        "  ans = 'Gold'\n",
        "print(ans)"
      ],
      "execution_count": null,
      "outputs": []
    },
    {
      "cell_type": "markdown",
      "metadata": {
        "id": "nS-GNJO7UD00"
      },
      "source": [
        "## B - Weak Password"
      ]
    },
    {
      "cell_type": "code",
      "metadata": {
        "colab": {
          "base_uri": "https://localhost:8080/"
        },
        "id": "6xLmGDklTZhZ",
        "outputId": "04fbc50a-2a5e-403d-9712-a36dcb9a25bc"
      },
      "source": [
        "x = input()\n",
        "x_list = list(x)\n",
        "ans = 'Strong'\n",
        "if len(set(x_list)) == 1:\n",
        "  ans = 'Weak'\n",
        "if x in ['0123', '1234', '2345', '3456', '4567', '5678', '6789', '7890', '8901', '9012']:\n",
        "  ans = 'Weak'\n",
        "\n",
        "print(ans)"
      ],
      "execution_count": null,
      "outputs": [
        {
          "output_type": "stream",
          "text": [
            "9012\n",
            "Weak\n"
          ],
          "name": "stdout"
        }
      ]
    },
    {
      "cell_type": "markdown",
      "metadata": {
        "id": "UaQRw9gVESgr"
      },
      "source": [
        "## C - Min Difference"
      ]
    },
    {
      "cell_type": "code",
      "metadata": {
        "colab": {
          "base_uri": "https://localhost:8080/"
        },
        "id": "JyE9WMIKU0ZN",
        "outputId": "83fc01f7-e261-46d6-93e1-b5b3f3abe1d1"
      },
      "source": [
        "import bisect\n",
        "\n",
        "n, m = map(int, input().split())\n",
        "a_list = list(map(int, input().split()))\n",
        "b_list = list(map(int, input().split()))\n",
        "b_list.sort()\n",
        "b_min = b_list[0]\n",
        "b_max = b_list[-1]\n",
        "\n",
        "ans = 10 ** 9 + 7\n",
        "\n",
        "for a in a_list:\n",
        "  if a < b_min:\n",
        "    ans = min(ans, b_min - a)\n",
        "  elif a > b_max:\n",
        "    ans = min(ans, a - b_max)\n",
        "  else:\n",
        "    index = bisect.bisect_left(b_list, a)\n",
        "    ans = min(ans, b_list[index] - a, a - b_list[index - 1])\n",
        "\n",
        "print(ans)"
      ],
      "execution_count": null,
      "outputs": [
        {
          "output_type": "stream",
          "text": [
            "6 8\n",
            "82 76 82 82 71 70\n",
            "17 39 67 2 45 35 22 24\n",
            "3\n"
          ],
          "name": "stdout"
        }
      ]
    },
    {
      "cell_type": "markdown",
      "metadata": {
        "id": "5TzEVHtwREc_"
      },
      "source": [
        "## D - Querying Multiset"
      ]
    },
    {
      "cell_type": "code",
      "metadata": {
        "id": "oJE3OKN6X_0f"
      },
      "source": [
        "import heapq\n",
        "\n",
        "\n",
        "q = int(input())\n",
        "\n",
        "x = 0\n",
        "ball_list = []\n",
        "heapq.heapify(ball_list)\n",
        "\n",
        "for _ in range(q):\n",
        "  query = input().split()\n",
        "  if query[0] == '1':\n",
        "    heapq.heappush(ball_list, int(query[-1]) - x)\n",
        "  if query[0] == '2':\n",
        "    x += int(query[-1])\n",
        "  if query[0] == '3':\n",
        "    ans = heapq.heappop(ball_list) + x\n",
        "    print(ans)"
      ],
      "execution_count": null,
      "outputs": []
    },
    {
      "cell_type": "code",
      "metadata": {
        "id": "VYRtEkvVRFYP"
      },
      "source": [
        ""
      ],
      "execution_count": null,
      "outputs": []
    }
  ]
}