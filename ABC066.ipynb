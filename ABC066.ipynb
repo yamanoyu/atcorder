{
  "nbformat": 4,
  "nbformat_minor": 0,
  "metadata": {
    "colab": {
      "name": "ABC066.ipynb",
      "provenance": [],
      "collapsed_sections": [],
      "authorship_tag": "ABX9TyOp7qtR3Exw850lGOonBukH",
      "include_colab_link": true
    },
    "kernelspec": {
      "name": "python3",
      "display_name": "Python 3"
    }
  },
  "cells": [
    {
      "cell_type": "markdown",
      "metadata": {
        "id": "view-in-github",
        "colab_type": "text"
      },
      "source": [
        "<a href=\"https://colab.research.google.com/github/yamanoyu/atcorder/blob/master/ABC066.ipynb\" target=\"_parent\"><img src=\"https://colab.research.google.com/assets/colab-badge.svg\" alt=\"Open In Colab\"/></a>"
      ]
    },
    {
      "cell_type": "markdown",
      "metadata": {
        "id": "XOn2jtfxIuC1"
      },
      "source": [
        "## A - ringring"
      ]
    },
    {
      "cell_type": "code",
      "metadata": {
        "id": "IsdAZImuIoFs",
        "outputId": "caae6865-25e5-4ab0-b768-a1f088a1d7cc",
        "colab": {
          "base_uri": "https://localhost:8080/"
        }
      },
      "source": [
        "a, b, c = map(int, input().split())\n",
        "ans = a + b + c - max(a, b, c)\n",
        "print(ans)"
      ],
      "execution_count": 1,
      "outputs": [
        {
          "output_type": "stream",
          "text": [
            "1 2 3\n",
            "3\n"
          ],
          "name": "stdout"
        }
      ]
    },
    {
      "cell_type": "markdown",
      "metadata": {
        "id": "VIi-Z4raJC5g"
      },
      "source": [
        "## B - ss"
      ]
    },
    {
      "cell_type": "code",
      "metadata": {
        "id": "mpMMIydbIv43",
        "outputId": "cdf5b08c-e376-476f-c322-cfa30bd36fb5",
        "colab": {
          "base_uri": "https://localhost:8080/"
        }
      },
      "source": [
        "# WA\n",
        "from collections import defaultdict\n",
        "\n",
        "s_list = list(input())\n",
        "s_dict = defaultdict(int)\n",
        "\n",
        "ans = len(s_list)\n",
        "print(ans)\n",
        "\n",
        "for s in s_list:\n",
        "  s_dict[s] += 1\n",
        "print(s_dict)\n",
        "for sr in reversed(s_list):\n",
        "  ans -= 1\n",
        "  s_dict[sr] -= 1\n",
        "  flag = 0\n",
        "  for sd in s_dict.values():\n",
        "    if sd % 2 == 1:\n",
        "      flag = 1\n",
        "      break  \n",
        "  if flag == 0:\n",
        "    break\n",
        "\n",
        "print(ans)"
      ],
      "execution_count": 14,
      "outputs": [
        {
          "output_type": "stream",
          "text": [
            "vrayggvrayggvrayggvrayggvrayggvrayggvrayggvrayggvrvrayggvrayggvrayggvrayggvrayggvrayggvrayggvrayggvrayggvrvraygg\n",
            "112\n",
            "defaultdict(<class 'int'>, {'v': 20, 'r': 20, 'a': 18, 'y': 18, 'g': 36})\n",
            "110\n"
          ],
          "name": "stdout"
        }
      ]
    },
    {
      "cell_type": "code",
      "metadata": {
        "id": "4RNRDGn8Ju4A",
        "outputId": "9ff25fb3-0b5e-4272-979f-0820404726ef",
        "colab": {
          "base_uri": "https://localhost:8080/"
        }
      },
      "source": [
        "s = input()\n",
        "\n",
        "ans = len(s)\n",
        "\n",
        "for i in range(1, ans + 1):\n",
        "  ans -= 1\n",
        "  if ans % 2 == 1:\n",
        "    pass\n",
        "  else:\n",
        "    if s[:(ans // 2)] == s[(ans // 2):ans]:\n",
        "      break\n",
        "print(ans)"
      ],
      "execution_count": 17,
      "outputs": [
        {
          "output_type": "stream",
          "text": [
            "xxxx\n",
            "2\n"
          ],
          "name": "stdout"
        }
      ]
    },
    {
      "cell_type": "markdown",
      "metadata": {
        "id": "3CGUGvdhNaKG"
      },
      "source": [
        "## C - pushpush"
      ]
    },
    {
      "cell_type": "code",
      "metadata": {
        "id": "r3RkxOyPMlos",
        "outputId": "384dfb6f-d910-4712-90ee-148713c051d9",
        "colab": {
          "base_uri": "https://localhost:8080/"
        }
      },
      "source": [
        "n = int(input())\n",
        "a_list = list(map(int, input().split()))\n",
        "\n",
        "b_front = [a for a in a_list[::-2]]\n",
        "b_back = [a for a in a_list[0::2]] if n % 2 == 0 else [a for a in a_list[1::2]]\n",
        "\n",
        "b = b_front + b_back\n",
        "ans = ' '.join(list(map(str, b)))\n",
        "\n",
        "print(ans)"
      ],
      "execution_count": 29,
      "outputs": [
        {
          "output_type": "stream",
          "text": [
            "3\n",
            "1 2 3\n",
            "3 1 2\n"
          ],
          "name": "stdout"
        }
      ]
    },
    {
      "cell_type": "markdown",
      "metadata": {
        "id": "vhA2iFm7Qcit"
      },
      "source": [
        "## D - 11"
      ]
    },
    {
      "cell_type": "code",
      "metadata": {
        "id": "r2eMz5PMO17U"
      },
      "source": [
        ""
      ],
      "execution_count": 29,
      "outputs": []
    }
  ]
}