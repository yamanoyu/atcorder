{
  "nbformat": 4,
  "nbformat_minor": 0,
  "metadata": {
    "colab": {
      "name": "ABC138.ipynb",
      "provenance": [],
      "collapsed_sections": [],
      "authorship_tag": "ABX9TyOSQwAQc24WhA0m9qeP6auL",
      "include_colab_link": true
    },
    "kernelspec": {
      "name": "python3",
      "display_name": "Python 3"
    }
  },
  "cells": [
    {
      "cell_type": "markdown",
      "metadata": {
        "id": "view-in-github",
        "colab_type": "text"
      },
      "source": [
        "<a href=\"https://colab.research.google.com/github/yamanoyu/atcorder/blob/master/ABC138.ipynb\" target=\"_parent\"><img src=\"https://colab.research.google.com/assets/colab-badge.svg\" alt=\"Open In Colab\"/></a>"
      ]
    },
    {
      "cell_type": "markdown",
      "metadata": {
        "id": "OSJikE4fDfvH"
      },
      "source": [
        "## A - Red or Not"
      ]
    },
    {
      "cell_type": "code",
      "metadata": {
        "colab": {
          "base_uri": "https://localhost:8080/"
        },
        "id": "bNYLOsrNDRyp",
        "outputId": "c4d1b071-f7c3-4d6c-8dfe-b1b663b46041"
      },
      "source": [
        "a = int(input())\n",
        "s = input()\n",
        "ans = 'red' if a < 3200 else s\n",
        "print(ans)"
      ],
      "execution_count": 3,
      "outputs": [
        {
          "output_type": "stream",
          "text": [
            "3200\n",
            "[ping\n",
            "[ping\n"
          ],
          "name": "stdout"
        }
      ]
    },
    {
      "cell_type": "markdown",
      "metadata": {
        "id": "VWX9wD61D2Ty"
      },
      "source": [
        "## B - Resistors in Parallel"
      ]
    },
    {
      "cell_type": "code",
      "metadata": {
        "colab": {
          "base_uri": "https://localhost:8080/"
        },
        "id": "V7h0JKl_Dgiv",
        "outputId": "f65d2084-07a0-4aa4-df60-7934e1162d3d"
      },
      "source": [
        "n = int(input())\n",
        "a_list = list(map(int, input().split()))\n",
        "bunshi = 1\n",
        "bunbo = 0\n",
        "\n",
        "for a in a_list:\n",
        "  bunshi *= a\n",
        "\n",
        "for a in a_list:\n",
        "  bunbo += bunshi // a\n",
        "  \n",
        "ans = bunshi / bunbo\n",
        "print(ans)"
      ],
      "execution_count": 10,
      "outputs": [
        {
          "output_type": "stream",
          "text": [
            "3\n",
            "200 200 200\n",
            "66.66666666666667\n"
          ],
          "name": "stdout"
        }
      ]
    },
    {
      "cell_type": "markdown",
      "metadata": {
        "id": "AiDgVpagFGod"
      },
      "source": [
        "## C - Alchemist"
      ]
    },
    {
      "cell_type": "code",
      "metadata": {
        "colab": {
          "base_uri": "https://localhost:8080/"
        },
        "id": "xHW2FhEdDgPL",
        "outputId": "a3fa5eb2-6785-4877-9a4e-ad3df4cc9e8b"
      },
      "source": [
        "n = int(input())\n",
        "v_list = list(map(int, input().split()))\n",
        "v_list.sort(reverse=True)\n",
        "\n",
        "ans = 0\n",
        "\n",
        "\n",
        "for i, v in enumerate(v_list):\n",
        "  ans += v / (2 ** (i + 1))\n",
        "\n",
        "ans += v / (2 ** (i + 1))\n",
        "print(ans)"
      ],
      "execution_count": 8,
      "outputs": [
        {
          "output_type": "stream",
          "text": [
            "3\n",
            "500 300 200\n",
            "375.0\n"
          ],
          "name": "stdout"
        }
      ]
    },
    {
      "cell_type": "markdown",
      "metadata": {
        "id": "8RzTGsjNG_G8"
      },
      "source": [
        "## D - Ki"
      ]
    },
    {
      "cell_type": "code",
      "metadata": {
        "colab": {
          "base_uri": "https://localhost:8080/"
        },
        "id": "Wfka6zAZFkrm",
        "outputId": "8d5b4faf-f60f-4af8-a2ea-064390902f98"
      },
      "source": [
        "# WA\n",
        "\n",
        "n, q = map(int, input().split())\n",
        "ab_list = [tuple(map(int, input().split())) for _ in range(n - 1)]\n",
        "ab_list.sort()\n",
        "\n",
        "parent_list = [i for i in range(n)]\n",
        "\n",
        "for a, b in ab_list:\n",
        "  if parent_list[a - 1] != a - 1:\n",
        "    if parent_list[b - 1] == b - 1:\n",
        "      parent_list[b - 1] = a - 1\n",
        "  else:\n",
        "    if parent_list[b - 1] != b - 1:\n",
        "      parent_list[a - 1] = b - 1\n",
        "    else:\n",
        "      parent_list[b - 1] = a - 1\n",
        "\n",
        "cost_list = [0] * n\n",
        "\n",
        "for _ in range(q):\n",
        "  p, x = map(int, input().split())\n",
        "  cost_list[p - 1] += x\n",
        "\n",
        "ans_list = [0] * n\n",
        "tmp_list = []\n",
        "\n",
        "for i, c in enumerate(cost_list):\n",
        "  if parent_list[i] == i:\n",
        "    ans_list[i] += c\n",
        "  elif i > parent_list[i]:\n",
        "    ans_list[i] += c + ans_list[parent_list[i]]\n",
        "  else:\n",
        "    ans_list[i] += c\n",
        "    tmp_list.append(i)\n",
        "\n",
        "for t in tmp_list:\n",
        "  ans_list[t] += ans_list[parent_list[t]]\n",
        "\n",
        "ans = ' '.join(map(str, ans_list))\n",
        "print(ans)"
      ],
      "execution_count": 21,
      "outputs": [
        {
          "output_type": "stream",
          "text": [
            "3 3\n",
            "1 3\n",
            "2 3\n",
            "[0, 1, 0]\n",
            "[0, 2, 0]\n",
            "2 10\n",
            "3 100\n",
            "1 1\n",
            "[1, 10, 101]\n",
            "1 111 101\n"
          ],
          "name": "stdout"
        }
      ]
    },
    {
      "cell_type": "code",
      "metadata": {
        "colab": {
          "base_uri": "https://localhost:8080/"
        },
        "id": "ORF0L3upPh8E",
        "outputId": "564e95e6-4d16-497e-c77f-ae89d5a1bb0b"
      },
      "source": [
        "n, q = map(int, input().split())\n",
        "ab_list = [tuple(map(int, input().split())) for _ in range(n - 1)]\n",
        "ab_sort_list = sorted(ab_list, key=lambda x: x[1])\n",
        "\n",
        "parent_list = [i for i in range(n)]\n",
        "\n",
        "for a, b in ab_sort_list:\n",
        "  if parent_list[b - 1] == b - 1:\n",
        "    parent_list[b - 1] = a - 1\n",
        "\n",
        "cost_list = [0] * n\n",
        "\n",
        "for _ in range(q):\n",
        "  p, x = map(int, input().split())\n",
        "  cost_list[p - 1] += x\n",
        "\n",
        "ans_list = [0] * n\n",
        "\n",
        "for i, c in enumerate(cost_list):\n",
        "  if parent_list[i] == i:\n",
        "    ans_list[i] += c\n",
        "  else:\n",
        "    ans_list[i] += c + ans_list[parent_list[i]]\n",
        "\n",
        "ans = ' '.join(map(str, ans_list))\n",
        "print(ans)"
      ],
      "execution_count": 23,
      "outputs": [
        {
          "output_type": "stream",
          "text": [
            "3 3\n",
            "1 3\n",
            "2 3\n",
            "2 10\n",
            "3 100\n",
            "1 1\n",
            "1 10 101\n"
          ],
          "name": "stdout"
        }
      ]
    }
  ]
}