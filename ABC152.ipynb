{
  "nbformat": 4,
  "nbformat_minor": 0,
  "metadata": {
    "colab": {
      "name": "ABC152.ipynb",
      "provenance": [],
      "authorship_tag": "ABX9TyMkSqXyyzBJBZXzPlmliT1E",
      "include_colab_link": true
    },
    "kernelspec": {
      "name": "python3",
      "display_name": "Python 3"
    }
  },
  "cells": [
    {
      "cell_type": "markdown",
      "metadata": {
        "id": "view-in-github",
        "colab_type": "text"
      },
      "source": [
        "<a href=\"https://colab.research.google.com/github/yamanoyu/atcorder/blob/master/ABC152.ipynb\" target=\"_parent\"><img src=\"https://colab.research.google.com/assets/colab-badge.svg\" alt=\"Open In Colab\"/></a>"
      ]
    },
    {
      "cell_type": "markdown",
      "metadata": {
        "id": "XwK6U4W_ZH8W"
      },
      "source": [
        "## A - AC or WA"
      ]
    },
    {
      "cell_type": "code",
      "metadata": {
        "colab": {
          "base_uri": "https://localhost:8080/"
        },
        "id": "opD9C2HPZDmz",
        "outputId": "63cccd20-c851-4342-8f40-c5a467989122"
      },
      "source": [
        "n, m = map(int, input().split())\n",
        "ans = 'Yes' if n == m else 'No'\n",
        "print(ans)"
      ],
      "execution_count": 1,
      "outputs": [
        {
          "output_type": "stream",
          "text": [
            "1 1\n",
            "Yes\n"
          ],
          "name": "stdout"
        }
      ]
    },
    {
      "cell_type": "markdown",
      "metadata": {
        "id": "pF8Hy3CKZH66"
      },
      "source": [
        "## B - Comparing Strings"
      ]
    },
    {
      "cell_type": "code",
      "metadata": {
        "colab": {
          "base_uri": "https://localhost:8080/"
        },
        "id": "uWbJb7_iZIYj",
        "outputId": "6df0cc42-4a86-4889-cfae-bd3adb3bf5fe"
      },
      "source": [
        "a, b = input().split()\n",
        "ans = sorted([a * int(b), b * int(a)])[0]\n",
        "print(ans)"
      ],
      "execution_count": 5,
      "outputs": [
        {
          "output_type": "stream",
          "text": [
            "3 4\n",
            "3333\n"
          ],
          "name": "stdout"
        }
      ]
    },
    {
      "cell_type": "markdown",
      "metadata": {
        "id": "8JUEjU33cNLU"
      },
      "source": [
        "## C - Low Elements"
      ]
    },
    {
      "cell_type": "code",
      "metadata": {
        "colab": {
          "base_uri": "https://localhost:8080/"
        },
        "id": "23E4XeBUZvAo",
        "outputId": "49fd9a2f-78e6-4703-e28e-db7c81a7e81f"
      },
      "source": [
        "n = int(input())\n",
        "p_list = list(map(int, input().split()))\n",
        "\n",
        "ans = 0\n",
        "m = 10 ** 6\n",
        "\n",
        "for p in p_list:\n",
        "  if p < m:\n",
        "    ans += 1\n",
        "    m = p\n",
        "\n",
        "print(ans)"
      ],
      "execution_count": 8,
      "outputs": [
        {
          "output_type": "stream",
          "text": [
            "4\n",
            "4 3 2 1\n",
            "4\n"
          ],
          "name": "stdout"
        }
      ]
    },
    {
      "cell_type": "markdown",
      "metadata": {
        "id": "R170z4O3dKAq"
      },
      "source": [
        "## D - Handstand 2"
      ]
    },
    {
      "cell_type": "code",
      "metadata": {
        "colab": {
          "base_uri": "https://localhost:8080/"
        },
        "id": "XrlvVencc096",
        "outputId": "c44a896f-0f28-4647-c5f3-94faa41a18a8"
      },
      "source": [
        "n = int(input())\n",
        "\n",
        "cnt = [[0] * 9 for _ in range(9)]\n",
        "\n",
        "for k in range(1, n + 1):\n",
        "  if k % 10 != 0:\n",
        "    cnt[int(str(k)[0]) - 1][int(str(k)[-1]) - 1] += 1\n",
        "\n",
        "ans = 0\n",
        "\n",
        "for i in range(9):\n",
        "  for j in range(9):\n",
        "    ans += cnt[i][j] * cnt[j][i]\n",
        "\n",
        "print(ans)"
      ],
      "execution_count": 49,
      "outputs": [
        {
          "output_type": "stream",
          "text": [
            "20000\n",
            "4000008\n"
          ],
          "name": "stdout"
        }
      ]
    }
  ]
}