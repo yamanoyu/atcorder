{
 "cells": [
  {
   "cell_type": "markdown",
   "metadata": {},
   "source": [
    "## A - 饅頭"
   ]
  },
  {
   "cell_type": "code",
   "execution_count": 1,
   "metadata": {},
   "outputs": [
    {
     "name": "stdout",
     "output_type": "stream",
     "text": [
      "3 5 6\n",
      "2\n"
     ]
    }
   ],
   "source": [
    "a, b, c = map(int, input().split())\n",
    "\n",
    "ans = c // min(a, b)\n",
    "print(ans)"
   ]
  },
  {
   "cell_type": "markdown",
   "metadata": {},
   "source": [
    "## B - 編集"
   ]
  },
  {
   "cell_type": "code",
   "execution_count": 4,
   "metadata": {},
   "outputs": [
    {
     "name": "stdout",
     "output_type": "stream",
     "text": [
      "5 2\n",
      "1 3 10\n",
      "2 4 20\n",
      "10\n",
      "20\n",
      "20\n",
      "20\n",
      "0\n"
     ]
    }
   ],
   "source": [
    "n, q = map(int, input().split())\n",
    "ans_list = [0] * n\n",
    "for _ in range(q):\n",
    "    l, r, t = map(int, input().split())\n",
    "    ans_list[l-1:r] = [t] * (r-l+1)\n",
    "\n",
    "for ans in ans_list:\n",
    "    print(ans)"
   ]
  },
  {
   "cell_type": "markdown",
   "metadata": {},
   "source": [
    "## C - 総和"
   ]
  },
  {
   "cell_type": "code",
   "execution_count": 22,
   "metadata": {},
   "outputs": [
    {
     "name": "stdout",
     "output_type": "stream",
     "text": [
      "4 2\n",
      "1 2 4 8\n",
      "21\n"
     ]
    }
   ],
   "source": [
    "n, k = map(int, input().split())\n",
    "a_list = list(map(int, input().split()))\n",
    "\n",
    "if n % 2 == 0:\n",
    "    if k > n // 2:\n",
    "        k = n - k + 1\n",
    "else:\n",
    "    if k > n // 2 + 1:\n",
    "        k = n - k + 1\n",
    "\n",
    "ans = 0\n",
    "\n",
    "for i, a in enumerate(a_list):\n",
    "    ans += a * min(i+1, k, n-i)\n",
    "        \n",
    "print(ans)"
   ]
  },
  {
   "cell_type": "code",
   "execution_count": null,
   "metadata": {},
   "outputs": [],
   "source": [
    "# 拾い物\n",
    "n, k = map(int, input().split())\n",
    "a = list(map(int, input().split()))\n",
    "t=c=sum(a[:k])\n",
    "for i,j in zip(a,a[k:]):\n",
    "    t+=j-i\n",
    "    c+=t\n",
    "print(c)"
   ]
  },
  {
   "cell_type": "markdown",
   "metadata": {},
   "source": [
    "## D - 経路"
   ]
  },
  {
   "cell_type": "code",
   "execution_count": null,
   "metadata": {},
   "outputs": [],
   "source": []
  }
 ],
 "metadata": {
  "kernelspec": {
   "display_name": "Python 3",
   "language": "python",
   "name": "python3"
  },
  "language_info": {
   "codemirror_mode": {
    "name": "ipython",
    "version": 3
   },
   "file_extension": ".py",
   "mimetype": "text/x-python",
   "name": "python",
   "nbconvert_exporter": "python",
   "pygments_lexer": "ipython3",
   "version": "3.7.4"
  }
 },
 "nbformat": 4,
 "nbformat_minor": 4
}
