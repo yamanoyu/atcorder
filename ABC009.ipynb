{
 "cells": [
  {
   "cell_type": "markdown",
   "metadata": {},
   "source": [
    "## A - 引越し作業"
   ]
  },
  {
   "cell_type": "code",
   "execution_count": 2,
   "metadata": {},
   "outputs": [
    {
     "name": "stdout",
     "output_type": "stream",
     "text": [
      "5\n",
      "3\n"
     ]
    }
   ],
   "source": [
    "n = int(input())\n",
    "ans = 0\n",
    "if n % 2 == 0:\n",
    "    ans = n // 2\n",
    "else:\n",
    "    ans = n // 2 + 1\n",
    "print(ans)"
   ]
  },
  {
   "cell_type": "markdown",
   "metadata": {},
   "source": [
    "## B - 心配性な富豪、ファミリーレストランに行く。"
   ]
  },
  {
   "cell_type": "code",
   "execution_count": 5,
   "metadata": {},
   "outputs": [
    {
     "name": "stdout",
     "output_type": "stream",
     "text": [
      "3\n",
      "1\n",
      "5\n",
      "4\n",
      "4\n"
     ]
    }
   ],
   "source": [
    "n = int(input())\n",
    "a_list = []\n",
    "for _ in range(n):\n",
    "    a_list.append(int(input()))\n",
    "ans = sorted(set(a_list), reverse=True)[1]\n",
    "print(ans)"
   ]
  },
  {
   "cell_type": "markdown",
   "metadata": {},
   "source": [
    "## C - 辞書式順序ふたたび"
   ]
  },
  {
   "cell_type": "code",
   "execution_count": 53,
   "metadata": {},
   "outputs": [
    {
     "name": "stdout",
     "output_type": "stream",
     "text": [
      "3 2\n",
      "abc\n",
      "abc\n"
     ]
    }
   ],
   "source": [
    "n, k = map(int, input().split())\n",
    "s_list = list(input())\n",
    "\n",
    "alphabet = ['a', 'b', 'c', 'd', 'e', 'f', 'g', 'h', 'i', 'j', 'k', 'l', 'm', 'n', 'o', 'p', 'q', 'r', 's', 't', 'u', 'v', 'w', 'x', 'y', 'z']\n",
    "number = [n for n in range(26)]\n",
    "ans = ''\n",
    "\n",
    "for index, s in enumerate(s_list):\n",
    "    s_list[index] = number[alphabet.index(s)]\n",
    "\n",
    "s_list_sort = sorted(s_list)\n",
    "\n",
    "for _ in range(k):\n",
    "    for index, s in enumerate(s_list):\n",
    "        if s_list[index] == s_list_sort[index]:\n",
    "            pass\n",
    "        else:\n",
    "            s_list[s_list.index(s_list_sort[index])], s_list[index] = s_list[index], s_list[s_list.index(s_list_sort[index])]\n",
    "            break\n",
    "        \n",
    "for index, s in enumerate(s_list):\n",
    "    s_list[index] = alphabet[number.index(s)]\n",
    "\n",
    "for w in s_list:\n",
    "    ans+=w \n",
    "print(ans)"
   ]
  },
  {
   "cell_type": "code",
   "execution_count": null,
   "metadata": {},
   "outputs": [],
   "source": []
  },
  {
   "cell_type": "markdown",
   "metadata": {},
   "source": [
    "### "
   ]
  },
  {
   "cell_type": "code",
   "execution_count": null,
   "metadata": {},
   "outputs": [],
   "source": []
  }
 ],
 "metadata": {
  "kernelspec": {
   "display_name": "Python 3",
   "language": "python",
   "name": "python3"
  },
  "language_info": {
   "codemirror_mode": {
    "name": "ipython",
    "version": 3
   },
   "file_extension": ".py",
   "mimetype": "text/x-python",
   "name": "python",
   "nbconvert_exporter": "python",
   "pygments_lexer": "ipython3",
   "version": "3.7.4"
  }
 },
 "nbformat": 4,
 "nbformat_minor": 4
}
