{
  "nbformat": 4,
  "nbformat_minor": 0,
  "metadata": {
    "colab": {
      "name": "ABC070.ipynb",
      "provenance": [],
      "collapsed_sections": [],
      "authorship_tag": "ABX9TyMXcin9Z1doNQNGJ2SL6CqY",
      "include_colab_link": true
    },
    "kernelspec": {
      "name": "python3",
      "display_name": "Python 3"
    }
  },
  "cells": [
    {
      "cell_type": "markdown",
      "metadata": {
        "id": "view-in-github",
        "colab_type": "text"
      },
      "source": [
        "<a href=\"https://colab.research.google.com/github/yamanoyu/atcorder/blob/master/ABC070.ipynb\" target=\"_parent\"><img src=\"https://colab.research.google.com/assets/colab-badge.svg\" alt=\"Open In Colab\"/></a>"
      ]
    },
    {
      "cell_type": "markdown",
      "metadata": {
        "id": "POYvv0ot1Bfj"
      },
      "source": [
        "## A - Palindromic Number"
      ]
    },
    {
      "cell_type": "code",
      "metadata": {
        "colab": {
          "base_uri": "https://localhost:8080/"
        },
        "id": "LQirreEg0yyF",
        "outputId": "29eba266-d322-43be-ee5b-1f45150ea534"
      },
      "source": [
        "n = input()\n",
        "ans = 'Yes' if n[0] == n[-1] else 'No'\n",
        "print(ans)"
      ],
      "execution_count": 1,
      "outputs": [
        {
          "output_type": "stream",
          "text": [
            "575\n",
            "Yes\n"
          ],
          "name": "stdout"
        }
      ]
    },
    {
      "cell_type": "markdown",
      "metadata": {
        "id": "Xo6xZh0Z1fPM"
      },
      "source": [
        "## B - Two Switches"
      ]
    },
    {
      "cell_type": "code",
      "metadata": {
        "colab": {
          "base_uri": "https://localhost:8080/"
        },
        "id": "WXVJyLvD1UhL",
        "outputId": "98fb7dfb-7089-493c-a159-f82fc978dcf9"
      },
      "source": [
        "a, b, c, d = map(int, input().split())\n",
        "if b <= c:\n",
        "  ans = 0\n",
        "else:\n",
        "  if d > b:\n",
        "    if a <= c:\n",
        "      ans = b - c\n",
        "    else:\n",
        "      ans = b - a\n",
        "  else:\n",
        "    if a > d:\n",
        "      ans = 0\n",
        "    else:\n",
        "      if a <= c:\n",
        "        ans = d - c\n",
        "      else:\n",
        "        ans = d - a\n",
        "print(ans)"
      ],
      "execution_count": 10,
      "outputs": [
        {
          "output_type": "stream",
          "text": [
            "10 90 20 80\n",
            "60\n"
          ],
          "name": "stdout"
        }
      ]
    },
    {
      "cell_type": "markdown",
      "metadata": {
        "id": "6d-OYW435vGS"
      },
      "source": [
        "## C - Multiple Clocks"
      ]
    },
    {
      "cell_type": "code",
      "metadata": {
        "colab": {
          "base_uri": "https://localhost:8080/"
        },
        "id": "boZOO_V85y5K",
        "outputId": "0ddb80cd-1f49-4b03-ed20-d03d1be1ed10"
      },
      "source": [
        "import math\n",
        "\n",
        "n = int(input())\n",
        "\n",
        "# def lcm(x, y):\n",
        "#   xy_lcm = (x * y) // math.gcd(x, y)\n",
        "#   return int(xy_lcm)\n",
        "\n",
        "lcm = lambda x, y: int((x * y) // math.gcd(x, y))\n",
        "\n",
        "ans = 1\n",
        "\n",
        "for _ in range(n):\n",
        "  t = int(input())\n",
        "  ans = lcm(ans, t)\n",
        "\n",
        "print(ans)"
      ],
      "execution_count": 13,
      "outputs": [
        {
          "output_type": "stream",
          "text": [
            "2\n",
            "2\n",
            "3\n",
            "6\n"
          ],
          "name": "stdout"
        }
      ]
    },
    {
      "cell_type": "markdown",
      "metadata": {
        "id": "-4ChVG5EJNEC"
      },
      "source": [
        "## D - Transit Tree Path"
      ]
    },
    {
      "cell_type": "code",
      "metadata": {
        "id": "NLQjDL_IJOnu"
      },
      "source": [
        ""
      ],
      "execution_count": null,
      "outputs": []
    }
  ]
}