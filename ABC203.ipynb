{
  "nbformat": 4,
  "nbformat_minor": 0,
  "metadata": {
    "colab": {
      "name": "ABC203.ipynb",
      "provenance": [],
      "collapsed_sections": [],
      "authorship_tag": "ABX9TyP5pNpMBGnM2VV22n+Sggfb",
      "include_colab_link": true
    },
    "kernelspec": {
      "name": "python3",
      "display_name": "Python 3"
    },
    "language_info": {
      "name": "python"
    }
  },
  "cells": [
    {
      "cell_type": "markdown",
      "metadata": {
        "id": "view-in-github",
        "colab_type": "text"
      },
      "source": [
        "<a href=\"https://colab.research.google.com/github/yamanoyu/atcorder/blob/master/ABC203.ipynb\" target=\"_parent\"><img src=\"https://colab.research.google.com/assets/colab-badge.svg\" alt=\"Open In Colab\"/></a>"
      ]
    },
    {
      "cell_type": "markdown",
      "metadata": {
        "id": "u0CPDZckWRzN"
      },
      "source": [
        "## A - Chinchirorin"
      ]
    },
    {
      "cell_type": "code",
      "metadata": {
        "colab": {
          "base_uri": "https://localhost:8080/"
        },
        "id": "FOQ3W-XjIKp-",
        "outputId": "5dce44b0-15cf-43f1-8647-2874e1a5084a"
      },
      "source": [
        "a,b,c= map(int, input().split())\n",
        "\n",
        "if a == b:\n",
        "  ans = c\n",
        "elif b == c:\n",
        "  ans = a\n",
        "elif a == c:\n",
        "  ans = b\n",
        "else:\n",
        "  ans = 0\n",
        "\n",
        "print(ans)"
      ],
      "execution_count": null,
      "outputs": [
        {
          "output_type": "stream",
          "text": [
            "2 5 2\n",
            "5\n"
          ],
          "name": "stdout"
        }
      ]
    },
    {
      "cell_type": "markdown",
      "metadata": {
        "id": "AkgpdyL6WUk0"
      },
      "source": [
        "## B - AtCoder Condominium"
      ]
    },
    {
      "cell_type": "code",
      "metadata": {
        "colab": {
          "base_uri": "https://localhost:8080/"
        },
        "id": "WpabtdEKIRA7",
        "outputId": "c53d4116-ade6-42a5-efa8-884ba4d4e10d"
      },
      "source": [
        "n, k = map(int, input().split())\n",
        "ans = 0\n",
        "for i in range(1, n + 1):\n",
        "  for j in range(1, k + 1):\n",
        "    ans += 100 * i\n",
        "    ans += j\n",
        "\n",
        "print(ans)"
      ],
      "execution_count": null,
      "outputs": [
        {
          "output_type": "stream",
          "text": [
            "1 2\n",
            "203\n"
          ],
          "name": "stdout"
        }
      ]
    },
    {
      "cell_type": "markdown",
      "metadata": {
        "id": "sxSelE7UWYOY"
      },
      "source": [
        "## C - Friends and Travel costs"
      ]
    },
    {
      "cell_type": "code",
      "metadata": {
        "colab": {
          "base_uri": "https://localhost:8080/"
        },
        "id": "1A7Is1LlJ9Ea",
        "outputId": "cf970a87-6a00-404a-bdad-a859d31d6657"
      },
      "source": [
        "n, k = map(int, input().split())\n",
        "ab_list = [list(map(int, input().split())) for _ in range(n)]\n",
        "ab_list_sort = sorted(ab_list, key=lambda x: x[0])\n",
        "\n",
        "money = k\n",
        "now = 0\n",
        "ans = 0\n",
        "\n",
        "f = 0\n",
        "for a, b in ab_list_sort:\n",
        "  if money >= a - now:\n",
        "    ans += a - now\n",
        "    money += b - (a - now)\n",
        "    now = a\n",
        "  else:\n",
        "    ans += money\n",
        "    f = 1\n",
        "    break\n",
        "if f == 0: ans += money\n",
        "\n",
        "print(ans)"
      ],
      "execution_count": null,
      "outputs": [
        {
          "output_type": "stream",
          "text": [
            "3 2\n",
            "5 5\n",
            "2 1\n",
            "2 2\n",
            "2\n"
          ],
          "name": "stdout"
        }
      ]
    },
    {
      "cell_type": "markdown",
      "metadata": {
        "id": "RsKvJhkWXiDD"
      },
      "source": [
        "## D - Pond"
      ]
    },
    {
      "cell_type": "code",
      "metadata": {
        "id": "E3djo5qIXkjA"
      },
      "source": [
        "# WA\n",
        "n, k = map(int, input().split())\n",
        "a_list = [list(map(int, input().split())) for _ in range(n)]\n",
        "\n",
        "top = 10 ** 9 + 1\n",
        "bottom = 0\n",
        "\n",
        "while top > bottom:\n",
        "  mid = (top + bottom) // 2\n",
        "  a_list_sum = [[0] * n for _ in range(n)]\n",
        "\n",
        "  for i in range(n):\n",
        "    for j in range(n):\n",
        "      if i == j == 0:\n",
        "        if a_list[i][j] >= mid:\n",
        "          a_list_sum[i][j] = 1\n",
        "      elif i == 0:\n",
        "        if a_list[i][j] >= mid:\n",
        "          a_list_sum[i][j] = a_list_sum[i][j - 1] + 1\n",
        "        else:\n",
        "          a_list_sum[i][j] = a_list_sum[i][j - 1]\n",
        "      elif j == 0:\n",
        "        if a_list[i][j] >= mid:\n",
        "          a_list_sum[i][j] = a_list_sum[i - 1][j] + 1\n",
        "        else:\n",
        "          a_list_sum[i][j] = a_list_sum[i - 1][j]        \n",
        "      else:\n",
        "        if a_list[i][j] >= mid:\n",
        "          a_list_sum[i][j] = a_list_sum[i - 1][j] + a_list_sum[i][j - 1] - a_list_sum[i - 1][j - 1] + 1\n",
        "        else:\n",
        "          a_list_sum[i][j] = a_list_sum[i - 1][j] + a_list_sum[i][j - 1] - a_list_sum[i - 1][j - 1]\n",
        "  \n",
        "  cnt = 0\n",
        "  \n",
        "  for i in range(k - 1, n):\n",
        "    for j in range(k - 1, n):\n",
        "      if i == j == k - 1:\n",
        "        over_mid_num = a_list_sum[i][j]\n",
        "      elif i == k - 1:\n",
        "        over_mid_num = a_list_sum[i][j] - a_list_sum[i][j - k]\n",
        "      elif j == k - 1:\n",
        "        over_mid_num = a_list_sum[i][j] - a_list_sum[i - k][j]\n",
        "      else:\n",
        "        over_mid_num = a_list_sum[i][j] - a_list_sum[i - k][j] - a_list_sum[i][j - k] + a_list_sum[i - k][j - k]\n",
        "\n",
        "      if over_mid_num >= int((k ** 2) / 2) + 1:\n",
        "        cnt += 1\n",
        "  \n",
        "  if cnt == 0:\n",
        "    top = mid - 1\n",
        "  else:\n",
        "    bottom = mid + 1\n",
        "\n",
        "print(mid)"
      ],
      "execution_count": null,
      "outputs": []
    },
    {
      "cell_type": "markdown",
      "metadata": {
        "id": "mfE3gjcKWbqE"
      },
      "source": [
        "## F - Weed"
      ]
    },
    {
      "cell_type": "code",
      "metadata": {
        "colab": {
          "base_uri": "https://localhost:8080/",
          "height": 532
        },
        "id": "hkEeXF_EOc4v",
        "outputId": "0a7ec51e-dd6d-4ccd-d1f4-02352560e713"
      },
      "source": [
        "import bisect\n",
        "\n",
        "n, k = map(int, input().split())\n",
        "a_list = list(map(int, input().split()))\n",
        "a_list.sort()\n",
        "\n",
        "if n == k:\n",
        "  ans = (0, k)\n",
        "else:\n",
        "  takahashi = 0\n",
        "  aoki = 0\n",
        "  while True:\n",
        "    max_pop_num = bisect.bisect_right(a_list, a_list[-1] / 2)\n",
        "    min_pop_num = n - bisect.bisect_left(a_list, a_list[0] * 2)\n",
        "\n",
        "    if k != 0:\n",
        "      if min(max_pop_num, min_pop_num) <= k:\n",
        "        takahashi += 1\n",
        "        while a_list:\n",
        "          max_pop_num = bisect.bisect_right(a_list, a_list[-1] / 2)\n",
        "          min_pop_num = n - bisect.bisect_left(a_list, a_list[0] * 2)\n",
        "          if a_list[-1] < a_list[0] * 2:\n",
        "            break\n",
        "          if max_pop_num >= min_pop_num:\n",
        "            a_list = a_list[:-1]\n",
        "            aoki += 1\n",
        "          else:\n",
        "            a_list = a_list[1:]\n",
        "            aoki += 1\n",
        "        ans = (takahashi, aoki)\n",
        "        break\n",
        "      else:\n",
        "        if max_pop_num >= min_pop_num:\n",
        "          a_list = a_list[:-1]\n",
        "        else:\n",
        "          a_list = a_list[1:]\n",
        "        aoki += 1\n",
        "        k -= 1\n",
        "    else:\n",
        "      while a_list:\n",
        "        takahashi += 1\n",
        "        max_pop_num = bisect.bisect_right(a_list, a_list[-1] / 2)\n",
        "        min_pop_num = n - bisect.bisect_left(a_list, a_list[0] * 2)\n",
        "        if a_list[-1] < a_list[0] * 2:\n",
        "          break\n",
        "        if max_pop_num >= min_pop_num:\n",
        "          a_list = a_list[:-1]\n",
        "        else:\n",
        "          a_list = a_list[1:]\n",
        "      ans = (takahashi, aoki)\n",
        "      break\n",
        "\n",
        "print(' '.join(map(str, ans)))"
      ],
      "execution_count": null,
      "outputs": [
        {
          "output_type": "error",
          "ename": "KeyboardInterrupt",
          "evalue": "ignored",
          "traceback": [
            "\u001b[0;31m---------------------------------------------------------------------------\u001b[0m",
            "\u001b[0;31mKeyboardInterrupt\u001b[0m                         Traceback (most recent call last)",
            "\u001b[0;32m/usr/local/lib/python3.7/dist-packages/ipykernel/kernelbase.py\u001b[0m in \u001b[0;36m_input_request\u001b[0;34m(self, prompt, ident, parent, password)\u001b[0m\n\u001b[1;32m    728\u001b[0m             \u001b[0;32mtry\u001b[0m\u001b[0;34m:\u001b[0m\u001b[0;34m\u001b[0m\u001b[0;34m\u001b[0m\u001b[0m\n\u001b[0;32m--> 729\u001b[0;31m                 \u001b[0mident\u001b[0m\u001b[0;34m,\u001b[0m \u001b[0mreply\u001b[0m \u001b[0;34m=\u001b[0m \u001b[0mself\u001b[0m\u001b[0;34m.\u001b[0m\u001b[0msession\u001b[0m\u001b[0;34m.\u001b[0m\u001b[0mrecv\u001b[0m\u001b[0;34m(\u001b[0m\u001b[0mself\u001b[0m\u001b[0;34m.\u001b[0m\u001b[0mstdin_socket\u001b[0m\u001b[0;34m,\u001b[0m \u001b[0;36m0\u001b[0m\u001b[0;34m)\u001b[0m\u001b[0;34m\u001b[0m\u001b[0;34m\u001b[0m\u001b[0m\n\u001b[0m\u001b[1;32m    730\u001b[0m             \u001b[0;32mexcept\u001b[0m \u001b[0mException\u001b[0m\u001b[0;34m:\u001b[0m\u001b[0;34m\u001b[0m\u001b[0;34m\u001b[0m\u001b[0m\n",
            "\u001b[0;32m/usr/local/lib/python3.7/dist-packages/jupyter_client/session.py\u001b[0m in \u001b[0;36mrecv\u001b[0;34m(self, socket, mode, content, copy)\u001b[0m\n\u001b[1;32m    802\u001b[0m         \u001b[0;32mtry\u001b[0m\u001b[0;34m:\u001b[0m\u001b[0;34m\u001b[0m\u001b[0;34m\u001b[0m\u001b[0m\n\u001b[0;32m--> 803\u001b[0;31m             \u001b[0mmsg_list\u001b[0m \u001b[0;34m=\u001b[0m \u001b[0msocket\u001b[0m\u001b[0;34m.\u001b[0m\u001b[0mrecv_multipart\u001b[0m\u001b[0;34m(\u001b[0m\u001b[0mmode\u001b[0m\u001b[0;34m,\u001b[0m \u001b[0mcopy\u001b[0m\u001b[0;34m=\u001b[0m\u001b[0mcopy\u001b[0m\u001b[0;34m)\u001b[0m\u001b[0;34m\u001b[0m\u001b[0;34m\u001b[0m\u001b[0m\n\u001b[0m\u001b[1;32m    804\u001b[0m         \u001b[0;32mexcept\u001b[0m \u001b[0mzmq\u001b[0m\u001b[0;34m.\u001b[0m\u001b[0mZMQError\u001b[0m \u001b[0;32mas\u001b[0m \u001b[0me\u001b[0m\u001b[0;34m:\u001b[0m\u001b[0;34m\u001b[0m\u001b[0;34m\u001b[0m\u001b[0m\n",
            "\u001b[0;32m/usr/local/lib/python3.7/dist-packages/zmq/sugar/socket.py\u001b[0m in \u001b[0;36mrecv_multipart\u001b[0;34m(self, flags, copy, track)\u001b[0m\n\u001b[1;32m    582\u001b[0m         \"\"\"\n\u001b[0;32m--> 583\u001b[0;31m         \u001b[0mparts\u001b[0m \u001b[0;34m=\u001b[0m \u001b[0;34m[\u001b[0m\u001b[0mself\u001b[0m\u001b[0;34m.\u001b[0m\u001b[0mrecv\u001b[0m\u001b[0;34m(\u001b[0m\u001b[0mflags\u001b[0m\u001b[0;34m,\u001b[0m \u001b[0mcopy\u001b[0m\u001b[0;34m=\u001b[0m\u001b[0mcopy\u001b[0m\u001b[0;34m,\u001b[0m \u001b[0mtrack\u001b[0m\u001b[0;34m=\u001b[0m\u001b[0mtrack\u001b[0m\u001b[0;34m)\u001b[0m\u001b[0;34m]\u001b[0m\u001b[0;34m\u001b[0m\u001b[0;34m\u001b[0m\u001b[0m\n\u001b[0m\u001b[1;32m    584\u001b[0m         \u001b[0;31m# have first part already, only loop while more to receive\u001b[0m\u001b[0;34m\u001b[0m\u001b[0;34m\u001b[0m\u001b[0;34m\u001b[0m\u001b[0m\n",
            "\u001b[0;32mzmq/backend/cython/socket.pyx\u001b[0m in \u001b[0;36mzmq.backend.cython.socket.Socket.recv\u001b[0;34m()\u001b[0m\n",
            "\u001b[0;32mzmq/backend/cython/socket.pyx\u001b[0m in \u001b[0;36mzmq.backend.cython.socket.Socket.recv\u001b[0;34m()\u001b[0m\n",
            "\u001b[0;32mzmq/backend/cython/socket.pyx\u001b[0m in \u001b[0;36mzmq.backend.cython.socket._recv_copy\u001b[0;34m()\u001b[0m\n",
            "\u001b[0;32m/usr/local/lib/python3.7/dist-packages/zmq/backend/cython/checkrc.pxd\u001b[0m in \u001b[0;36mzmq.backend.cython.checkrc._check_rc\u001b[0;34m()\u001b[0m\n",
            "\u001b[0;31mKeyboardInterrupt\u001b[0m: ",
            "\nDuring handling of the above exception, another exception occurred:\n",
            "\u001b[0;31mKeyboardInterrupt\u001b[0m                         Traceback (most recent call last)",
            "\u001b[0;32m<ipython-input-19-f06004d35c61>\u001b[0m in \u001b[0;36m<module>\u001b[0;34m()\u001b[0m\n\u001b[1;32m      1\u001b[0m \u001b[0;32mimport\u001b[0m \u001b[0mbisect\u001b[0m\u001b[0;34m\u001b[0m\u001b[0;34m\u001b[0m\u001b[0m\n\u001b[1;32m      2\u001b[0m \u001b[0;34m\u001b[0m\u001b[0m\n\u001b[0;32m----> 3\u001b[0;31m \u001b[0mn\u001b[0m\u001b[0;34m,\u001b[0m \u001b[0mk\u001b[0m\u001b[0;34m=\u001b[0m \u001b[0mmap\u001b[0m\u001b[0;34m(\u001b[0m\u001b[0mint\u001b[0m\u001b[0;34m,\u001b[0m \u001b[0minput\u001b[0m\u001b[0;34m(\u001b[0m\u001b[0;34m)\u001b[0m\u001b[0;34m.\u001b[0m\u001b[0msplit\u001b[0m\u001b[0;34m(\u001b[0m\u001b[0;34m)\u001b[0m\u001b[0;34m)\u001b[0m\u001b[0;34m\u001b[0m\u001b[0;34m\u001b[0m\u001b[0m\n\u001b[0m\u001b[1;32m      4\u001b[0m \u001b[0ma_list\u001b[0m \u001b[0;34m=\u001b[0m \u001b[0mlist\u001b[0m\u001b[0;34m(\u001b[0m\u001b[0mmap\u001b[0m\u001b[0;34m(\u001b[0m\u001b[0mint\u001b[0m\u001b[0;34m,\u001b[0m \u001b[0minput\u001b[0m\u001b[0;34m(\u001b[0m\u001b[0;34m)\u001b[0m\u001b[0;34m.\u001b[0m\u001b[0msplit\u001b[0m\u001b[0;34m(\u001b[0m\u001b[0;34m)\u001b[0m\u001b[0;34m)\u001b[0m\u001b[0;34m)\u001b[0m\u001b[0;34m\u001b[0m\u001b[0;34m\u001b[0m\u001b[0m\n\u001b[1;32m      5\u001b[0m \u001b[0ma_list\u001b[0m\u001b[0;34m.\u001b[0m\u001b[0msort\u001b[0m\u001b[0;34m(\u001b[0m\u001b[0;34m)\u001b[0m\u001b[0;34m\u001b[0m\u001b[0;34m\u001b[0m\u001b[0m\n",
            "\u001b[0;32m/usr/local/lib/python3.7/dist-packages/ipykernel/kernelbase.py\u001b[0m in \u001b[0;36mraw_input\u001b[0;34m(self, prompt)\u001b[0m\n\u001b[1;32m    702\u001b[0m             \u001b[0mself\u001b[0m\u001b[0;34m.\u001b[0m\u001b[0m_parent_ident\u001b[0m\u001b[0;34m,\u001b[0m\u001b[0;34m\u001b[0m\u001b[0;34m\u001b[0m\u001b[0m\n\u001b[1;32m    703\u001b[0m             \u001b[0mself\u001b[0m\u001b[0;34m.\u001b[0m\u001b[0m_parent_header\u001b[0m\u001b[0;34m,\u001b[0m\u001b[0;34m\u001b[0m\u001b[0;34m\u001b[0m\u001b[0m\n\u001b[0;32m--> 704\u001b[0;31m             \u001b[0mpassword\u001b[0m\u001b[0;34m=\u001b[0m\u001b[0;32mFalse\u001b[0m\u001b[0;34m,\u001b[0m\u001b[0;34m\u001b[0m\u001b[0;34m\u001b[0m\u001b[0m\n\u001b[0m\u001b[1;32m    705\u001b[0m         )\n\u001b[1;32m    706\u001b[0m \u001b[0;34m\u001b[0m\u001b[0m\n",
            "\u001b[0;32m/usr/local/lib/python3.7/dist-packages/ipykernel/kernelbase.py\u001b[0m in \u001b[0;36m_input_request\u001b[0;34m(self, prompt, ident, parent, password)\u001b[0m\n\u001b[1;32m    732\u001b[0m             \u001b[0;32mexcept\u001b[0m \u001b[0mKeyboardInterrupt\u001b[0m\u001b[0;34m:\u001b[0m\u001b[0;34m\u001b[0m\u001b[0;34m\u001b[0m\u001b[0m\n\u001b[1;32m    733\u001b[0m                 \u001b[0;31m# re-raise KeyboardInterrupt, to truncate traceback\u001b[0m\u001b[0;34m\u001b[0m\u001b[0;34m\u001b[0m\u001b[0;34m\u001b[0m\u001b[0m\n\u001b[0;32m--> 734\u001b[0;31m                 \u001b[0;32mraise\u001b[0m \u001b[0mKeyboardInterrupt\u001b[0m\u001b[0;34m\u001b[0m\u001b[0;34m\u001b[0m\u001b[0m\n\u001b[0m\u001b[1;32m    735\u001b[0m             \u001b[0;32melse\u001b[0m\u001b[0;34m:\u001b[0m\u001b[0;34m\u001b[0m\u001b[0;34m\u001b[0m\u001b[0m\n\u001b[1;32m    736\u001b[0m                 \u001b[0;32mbreak\u001b[0m\u001b[0;34m\u001b[0m\u001b[0;34m\u001b[0m\u001b[0m\n",
            "\u001b[0;31mKeyboardInterrupt\u001b[0m: "
          ]
        }
      ]
    }
  ]
}