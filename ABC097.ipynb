{
  "nbformat": 4,
  "nbformat_minor": 0,
  "metadata": {
    "colab": {
      "name": "ABC097.ipynb",
      "provenance": [],
      "collapsed_sections": [],
      "authorship_tag": "ABX9TyNg+9DgHHDxNBDDo6gNTE0J",
      "include_colab_link": true
    },
    "kernelspec": {
      "name": "python3",
      "display_name": "Python 3"
    }
  },
  "cells": [
    {
      "cell_type": "markdown",
      "metadata": {
        "id": "view-in-github",
        "colab_type": "text"
      },
      "source": [
        "<a href=\"https://colab.research.google.com/github/yamanoyu/atcorder/blob/master/ABC097.ipynb\" target=\"_parent\"><img src=\"https://colab.research.google.com/assets/colab-badge.svg\" alt=\"Open In Colab\"/></a>"
      ]
    },
    {
      "cell_type": "markdown",
      "metadata": {
        "id": "WEmxg7EVojKh"
      },
      "source": [
        "## A - Colorful Transceivers"
      ]
    },
    {
      "cell_type": "code",
      "metadata": {
        "colab": {
          "base_uri": "https://localhost:8080/"
        },
        "id": "Irgll1l7oZuv",
        "outputId": "d94b59de-ead2-4db3-d4ee-a72671df8cc0"
      },
      "source": [
        "a, b, c, d = map(int, input().split())\n",
        "ans = 'Yes' if abs(a - c) <= d or (abs(a - b) <= d and abs(c - b) <= d) else 'No'\n",
        "print(ans)"
      ],
      "execution_count": 2,
      "outputs": [
        {
          "output_type": "stream",
          "text": [
            "4 7 9 3\n",
            "Yes\n"
          ],
          "name": "stdout"
        }
      ]
    },
    {
      "cell_type": "markdown",
      "metadata": {
        "id": "s2_IB_I0qlrz"
      },
      "source": [
        "## B - Exponential"
      ]
    },
    {
      "cell_type": "code",
      "metadata": {
        "colab": {
          "base_uri": "https://localhost:8080/"
        },
        "id": "UL_Qc9i1ojr4",
        "outputId": "595d6d4e-3cea-4b51-e153-4524744d6f8f"
      },
      "source": [
        "x = int(input())\n",
        "\n",
        "ans = 0\n",
        "\n",
        "if x == 1:\n",
        "  ans = 1\n",
        "else:\n",
        "  for i in range(2, 11):\n",
        "    for j in range(2, 32):\n",
        "      if j ** i <= x:\n",
        "        ans = max(ans, j ** i)\n",
        "\n",
        "print(ans)    "
      ],
      "execution_count": 3,
      "outputs": [
        {
          "output_type": "stream",
          "text": [
            "10\n",
            "9\n"
          ],
          "name": "stdout"
        }
      ]
    },
    {
      "cell_type": "markdown",
      "metadata": {
        "id": "2OEmP7YOvWb9"
      },
      "source": [
        "## C - K-th Substring"
      ]
    },
    {
      "cell_type": "code",
      "metadata": {
        "colab": {
          "base_uri": "https://localhost:8080/"
        },
        "id": "OZF8ojytfxfs",
        "outputId": "99172c00-e45d-4465-9c58-02ae71e2c5ae"
      },
      "source": [
        "s = input()\n",
        "k = int(input())\n",
        "\n",
        "ans_list = []\n",
        "\n",
        "for i in range(1, 6):\n",
        "  for j in range(len(s) - i + 1):\n",
        "    ans_list.append(s[j:j+i])\n",
        "\n",
        "ans = sorted(set(ans_list))[k - 1]\n",
        "print(ans)"
      ],
      "execution_count": 10,
      "outputs": [
        {
          "output_type": "stream",
          "text": [
            "aba\n",
            "4\n",
            "['a', 'b', 'a', 'ab', 'ba', 'aba']\n",
            "b\n"
          ],
          "name": "stdout"
        }
      ]
    },
    {
      "cell_type": "markdown",
      "metadata": {
        "id": "kFmj59Xtfwmk"
      },
      "source": [
        "## D - Equals"
      ]
    },
    {
      "cell_type": "code",
      "metadata": {
        "id": "nFlrOCQ9gSZR"
      },
      "source": [
        ""
      ],
      "execution_count": null,
      "outputs": []
    }
  ]
}