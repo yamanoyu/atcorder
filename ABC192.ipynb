{
  "nbformat": 4,
  "nbformat_minor": 0,
  "metadata": {
    "colab": {
      "name": "ABC192.ipynb",
      "provenance": [],
      "collapsed_sections": [],
      "authorship_tag": "ABX9TyOQISpMy8sKfPsGbzTyF/s3",
      "include_colab_link": true
    },
    "kernelspec": {
      "name": "python3",
      "display_name": "Python 3"
    }
  },
  "cells": [
    {
      "cell_type": "markdown",
      "metadata": {
        "id": "view-in-github",
        "colab_type": "text"
      },
      "source": [
        "<a href=\"https://colab.research.google.com/github/yamanoyu/atcorder/blob/master/ABC192.ipynb\" target=\"_parent\"><img src=\"https://colab.research.google.com/assets/colab-badge.svg\" alt=\"Open In Colab\"/></a>"
      ]
    },
    {
      "cell_type": "code",
      "metadata": {
        "colab": {
          "base_uri": "https://localhost:8080/"
        },
        "id": "dihiuPEhTahq",
        "outputId": "f396a607-e662-4779-a0a4-0bb71d59ebdf"
      },
      "source": [
        "int(input())\n",
        "map(int, input().split())\n",
        "list(map(int, input().split()))"
      ],
      "execution_count": 3,
      "outputs": [
        {
          "output_type": "stream",
          "text": [
            "1\n",
            "1\n",
            "1\n"
          ],
          "name": "stdout"
        },
        {
          "output_type": "execute_result",
          "data": {
            "text/plain": [
              "[1]"
            ]
          },
          "metadata": {
            "tags": []
          },
          "execution_count": 3
        }
      ]
    },
    {
      "cell_type": "markdown",
      "metadata": {
        "id": "BSVlD8QpThS9"
      },
      "source": [
        "## A"
      ]
    },
    {
      "cell_type": "code",
      "metadata": {
        "colab": {
          "base_uri": "https://localhost:8080/"
        },
        "id": "6U7fw_mJTuYJ",
        "outputId": "747b587a-3b90-40ee-efb0-48b995a756c9"
      },
      "source": [
        "x = int(input())\n",
        "ans = ((x // 100) + 1) * 100 - x\n",
        "print(ans)"
      ],
      "execution_count": 6,
      "outputs": [
        {
          "output_type": "stream",
          "text": [
            "1000\n",
            "100\n"
          ],
          "name": "stdout"
        }
      ]
    },
    {
      "cell_type": "markdown",
      "metadata": {
        "id": "3ND8PsO_TkaZ"
      },
      "source": [
        "## B"
      ]
    },
    {
      "cell_type": "code",
      "metadata": {
        "colab": {
          "base_uri": "https://localhost:8080/"
        },
        "id": "dBM6Ms0uTe0a",
        "outputId": "0641ba15-2bd0-4e78-f809-11055a2cebf0"
      },
      "source": [
        "s_list = list(input())\n",
        "ans = 'Yes'\n",
        "\n",
        "for i, s in enumerate(s_list):\n",
        "  if i % 2 == 0:\n",
        "    if s.isupper():\n",
        "      ans = 'No'\n",
        "      break\n",
        "  else:\n",
        "    if s.islower():\n",
        "      ans = 'No'\n",
        "      break\n",
        "\n",
        "print(ans)"
      ],
      "execution_count": 29,
      "outputs": [
        {
          "output_type": "stream",
          "text": [
            "a\n",
            "Yes\n"
          ],
          "name": "stdout"
        }
      ]
    },
    {
      "cell_type": "markdown",
      "metadata": {
        "id": "vHSEVoTyTlaS"
      },
      "source": [
        "## C - Kaprekar Number"
      ]
    },
    {
      "cell_type": "code",
      "metadata": {
        "colab": {
          "base_uri": "https://localhost:8080/"
        },
        "id": "-Bo2tO94Thxi",
        "outputId": "0d326361-7e6a-4f48-a8f3-b872a0b2445b"
      },
      "source": [
        "n, k = map(int, input().split())\n",
        "\n",
        "def f(x):\n",
        "  g1 = int(''.join(sorted(list(str(x)))))\n",
        "  g2 = int(''.join(sorted(list(str(x)), reverse=True)))\n",
        "\n",
        "  return g2 - g1\n",
        "\n",
        "ans = n\n",
        "for _ in range(k):\n",
        "  ans = f(ans)\n",
        "\n",
        "print(ans)"
      ],
      "execution_count": 41,
      "outputs": [
        {
          "output_type": "stream",
          "text": [
            "1000000000 100\n",
            "0\n"
          ],
          "name": "stdout"
        }
      ]
    },
    {
      "cell_type": "markdown",
      "metadata": {
        "id": "xQ-w94AzTmKO"
      },
      "source": [
        "## D"
      ]
    },
    {
      "cell_type": "code",
      "metadata": {
        "colab": {
          "base_uri": "https://localhost:8080/"
        },
        "id": "A5wthVSpTmkl",
        "outputId": "3ca8371f-8792-498d-9b50-f122b6e47d77"
      },
      "source": [
        "# TLE\n",
        "x = int(input())\n",
        "m = int(input())\n",
        "\n",
        "d = max(list(map(int, str(x))))\n",
        "\n",
        "ans = 0\n",
        "x_str = str(x)\n",
        "x_len = len(x_str)\n",
        "\n",
        "while True:\n",
        "  d += 1\n",
        "  _tmp = 0\n",
        "\n",
        "  if d ** x_len <= m:\n",
        "    pass\n",
        "  else:\n",
        "    for i in range(x_len):\n",
        "      _tmp += (d ** (x_len - 1 - i)) * int(x_str[i])\n",
        "      if _tmp > m:\n",
        "        break\n",
        "  if _tmp > m:\n",
        "      break\n",
        "  ans += 1\n",
        "  # print(d, _tmp)\n",
        "\n",
        "print(ans)"
      ],
      "execution_count": 99,
      "outputs": [
        {
          "output_type": "stream",
          "text": [
            "999\n",
            "1500\n",
            "3\n"
          ],
          "name": "stdout"
        }
      ]
    },
    {
      "cell_type": "code",
      "metadata": {
        "colab": {
          "base_uri": "https://localhost:8080/"
        },
        "id": "et6I8uQhkWst",
        "outputId": "4c0dcf8f-23c4-4518-ba00-b3dab77c8f7c"
      },
      "source": [
        "import math\n",
        "\n",
        "\n",
        "x = int(input())\n",
        "m = int(input())\n",
        "\n",
        "d = max(list(map(int, str(x))))\n",
        "\n",
        "ans = 0\n",
        "x_str = str(x)\n",
        "x_len = len(x_str)\n",
        "\n",
        "if x_len == 1:\n",
        "  ans = 0 if m < x else 1\n",
        "else:\n",
        "  d_max = math.floor((m / (int(x_str[0])) + 1) ** (1 / (x_len - 1)))\n",
        "  while True:\n",
        "    _tmp = 0\n",
        "    for i in range(x_len):\n",
        "      _tmp += (d_max ** (x_len - 1 - i)) * int(x_str[i])\n",
        "    if _tmp <= m:\n",
        "      break\n",
        "    d_max -= 1\n",
        "\n",
        "  ans = max(d_max - d, 0)\n",
        "    \n",
        "print(ans)"
      ],
      "execution_count": 122,
      "outputs": [
        {
          "output_type": "stream",
          "text": [
            "22\n",
            "10\n",
            "2\n"
          ],
          "name": "stdout"
        }
      ]
    },
    {
      "cell_type": "markdown",
      "metadata": {
        "id": "YOmS4iDcTnBy"
      },
      "source": [
        "## E"
      ]
    },
    {
      "cell_type": "code",
      "metadata": {
        "id": "X0aPSu3aTnV3"
      },
      "source": [
        ""
      ],
      "execution_count": null,
      "outputs": []
    },
    {
      "cell_type": "markdown",
      "metadata": {
        "id": "K_xqXU20Tn4B"
      },
      "source": [
        "## F"
      ]
    },
    {
      "cell_type": "code",
      "metadata": {
        "id": "Hf7k6fvLToSF"
      },
      "source": [
        ""
      ],
      "execution_count": null,
      "outputs": []
    }
  ]
}