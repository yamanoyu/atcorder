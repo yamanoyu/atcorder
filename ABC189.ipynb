{
  "nbformat": 4,
  "nbformat_minor": 0,
  "metadata": {
    "colab": {
      "name": "ABC189.ipynb",
      "provenance": [],
      "collapsed_sections": [],
      "authorship_tag": "ABX9TyOtUawg1NeR1l0c2YTEwGrd",
      "include_colab_link": true
    },
    "kernelspec": {
      "name": "python3",
      "display_name": "Python 3"
    }
  },
  "cells": [
    {
      "cell_type": "markdown",
      "metadata": {
        "id": "view-in-github",
        "colab_type": "text"
      },
      "source": [
        "<a href=\"https://colab.research.google.com/github/yamanoyu/atcorder/blob/master/ABC189.ipynb\" target=\"_parent\"><img src=\"https://colab.research.google.com/assets/colab-badge.svg\" alt=\"Open In Colab\"/></a>"
      ]
    },
    {
      "cell_type": "markdown",
      "metadata": {
        "id": "JIN_KuYGG4Gh"
      },
      "source": [
        "## A - Slot"
      ]
    },
    {
      "cell_type": "code",
      "metadata": {
        "colab": {
          "base_uri": "https://localhost:8080/"
        },
        "id": "Iv7vzZIOGbJd",
        "outputId": "a09cb953-a604-453e-86b0-8ffdd42722e7"
      },
      "source": [
        "c = input()\n",
        "ans = 'Won' if c[0] == c[1] == c[2] else 'Lost'\n",
        "print(ans)"
      ],
      "execution_count": 4,
      "outputs": [
        {
          "output_type": "stream",
          "text": [
            "WVW\n",
            "Lost\n"
          ],
          "name": "stdout"
        }
      ]
    },
    {
      "cell_type": "markdown",
      "metadata": {
        "id": "k6GdT3uzXnLc"
      },
      "source": [
        "## B - Alcoholic"
      ]
    },
    {
      "cell_type": "code",
      "metadata": {
        "colab": {
          "base_uri": "https://localhost:8080/"
        },
        "id": "vZeTYQsqGyXl",
        "outputId": "dd3b749c-24a0-436e-afb0-968a4055bce6"
      },
      "source": [
        "n, x = map(int, input().split())\n",
        "\n",
        "ans = -1\n",
        "i = 0\n",
        "alc = 0\n",
        "\n",
        "for _ in range(n):\n",
        "  v, p = map(int, input().split())\n",
        "  alc += v * p\n",
        "  i += 1\n",
        "\n",
        "  if alc > x * 100:\n",
        "    ans = i\n",
        "    break\n",
        "\n",
        "print(ans)"
      ],
      "execution_count": 49,
      "outputs": [
        {
          "output_type": "stream",
          "text": [
            "2 0\n",
            "1 0\n",
            "2 0\n",
            "-1\n"
          ],
          "name": "stdout"
        }
      ]
    },
    {
      "cell_type": "markdown",
      "metadata": {
        "id": "P_MQgmaTWK1s"
      },
      "source": [
        "## C - Mandarin Orange"
      ]
    },
    {
      "cell_type": "code",
      "metadata": {
        "colab": {
          "base_uri": "https://localhost:8080/"
        },
        "id": "To95fNQmG4uR",
        "outputId": "e81134f7-5ac9-4757-90c8-489f2af66daa"
      },
      "source": [
        "n = int(input())\n",
        "a_list = list(map(int, input().split()))\n",
        "\n",
        "ans = 0\n",
        "\n",
        "for i in range(n):\n",
        "  min_a = a_list[i]\n",
        "  for j in range(i + 1, n + 1):\n",
        "    if a_list[j - 1] < min_a:\n",
        "      min_a = a_list[j - 1]\n",
        "    ans = max(ans, min_a * (j - i))\n",
        "\n",
        "print(ans)"
      ],
      "execution_count": 37,
      "outputs": [
        {
          "output_type": "stream",
          "text": [
            "6\n",
            "200 4 4 9 4 9\n",
            "200\n"
          ],
          "name": "stdout"
        }
      ]
    },
    {
      "cell_type": "markdown",
      "metadata": {
        "id": "_4hKYiCkXoX3"
      },
      "source": [
        "## D - Logical Expression"
      ]
    },
    {
      "cell_type": "code",
      "metadata": {
        "colab": {
          "base_uri": "https://localhost:8080/"
        },
        "id": "RiwbvhJHLxrC",
        "outputId": "09ea575c-6db1-4fde-9541-1e8ca5a14617"
      },
      "source": [
        "n = int(input())\n",
        "s_list = [input() for _ in range(n)]\n",
        "\n",
        "\n",
        "def solve(i):\n",
        "  if i == 1:\n",
        "    if s_list[0] == 'AND':\n",
        "      return 1\n",
        "    else:\n",
        "      return 3\n",
        "  else:\n",
        "    if s_list[i - 1] == 'AND':\n",
        "      return solve(i - 1)\n",
        "    else:\n",
        "      return solve(i - 1) + 2 ** i\n",
        "\n",
        "ans = solve(n)\n",
        "print(ans)  "
      ],
      "execution_count": 47,
      "outputs": [
        {
          "output_type": "stream",
          "text": [
            "1\n",
            "OR\n",
            "3\n"
          ],
          "name": "stdout"
        }
      ]
    },
    {
      "cell_type": "markdown",
      "metadata": {
        "id": "GP5RXQX6XpcV"
      },
      "source": [
        "## E - Rotate and Flip"
      ]
    },
    {
      "cell_type": "code",
      "metadata": {
        "colab": {
          "base_uri": "https://localhost:8080/"
        },
        "id": "5n5XjXSgPbT9",
        "outputId": "85c73e58-8493-4ac2-bcbd-d37ec837a286"
      },
      "source": [
        "n = int(input())\n",
        "xy_list = [tuple(map(int, input().split())) for _ in range(n)]\n",
        "m = int(input())\n",
        "\n",
        "\n",
        "def op1(xy_list):\n",
        "  return [xy_list[1], -xy_list[0]]\n",
        "\n",
        "def op2(xy_list):\n",
        "  return [-xy_list[1], xy_list[0]]\n",
        "\n",
        "def op3(xy_list, p):\n",
        "  return [p * 2 - xy_list[0], xy_list[1]]\n",
        "\n",
        "def op4(xy_list, p):\n",
        "  return [xy_list[0], p * 2 - xy_list[1]]\n",
        "\n",
        "test_lists = [[[0, 0], [1, 0], [0, 1]]]\n",
        "\n",
        "\n",
        "for _ in range(m):\n",
        "  op = list(map(int, input().split()))\n",
        "  test_list = []\n",
        "  if op[0] == 1:\n",
        "    for txy in test_lists[-1]:\n",
        "      test_list.append(op1(txy))\n",
        "\n",
        "  if op[0] == 2:\n",
        "    for txy in test_lists[-1]:\n",
        "      test_list.append(op2(txy))\n",
        "    \n",
        "  if op[0] == 3:\n",
        "    for txy in test_lists[-1]:\n",
        "      test_list.append(op3(txy, op[1]))\n",
        "    \n",
        "  if op[0] == 4:\n",
        "    for txy in test_lists[-1]:\n",
        "      test_list.append(op4(txy, op[1]))\n",
        "  \n",
        "  test_lists.append(test_list)\n",
        "\n",
        "q = int(input())\n",
        "\n",
        "for _ in range(q):\n",
        "  a, b = map(int, input().split())\n",
        "\n",
        "  origin = [test_lists[a][0][0], test_lists[a][0][1]]\n",
        "  ax_x = [test_lists[a][1][0] - origin[0], test_lists[a][1][1] - origin[1]]\n",
        "  ax_y = [test_lists[a][2][0] - origin[0], test_lists[a][2][1] - origin[1]]\n",
        "  \n",
        "  print(ax_x[0] * xy_list[b - 1][0] + ax_y[0] * xy_list[b - 1][1] + origin[0], ax_x[1] * xy_list[b - 1][0] + ax_y[1] * xy_list[b - 1][1] + origin[1])"
      ],
      "execution_count": 54,
      "outputs": [
        {
          "output_type": "stream",
          "text": [
            "2\n",
            "1000000000 0\n",
            "0 1000000000\n",
            "4\n",
            "3 -1000000000\n",
            "4 -1000000000\n",
            "3 1000000000\n",
            "4 1000000000\n",
            "2\n",
            "4 1\n",
            "5000000000 4000000000\n",
            "4 2\n",
            "4000000000 5000000000\n"
          ],
          "name": "stdout"
        }
      ]
    },
    {
      "cell_type": "markdown",
      "metadata": {
        "id": "IgNW_CSVXrId"
      },
      "source": [
        "## F - Sugoroku2"
      ]
    },
    {
      "cell_type": "code",
      "metadata": {
        "id": "Rgvzwdb3XsPH"
      },
      "source": [
        ""
      ],
      "execution_count": null,
      "outputs": []
    }
  ]
}