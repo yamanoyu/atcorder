{
  "nbformat": 4,
  "nbformat_minor": 0,
  "metadata": {
    "colab": {
      "name": "ABC191.ipynb",
      "provenance": [],
      "collapsed_sections": [],
      "authorship_tag": "ABX9TyNyYnQmZobNatXW8GYFCgDG",
      "include_colab_link": true
    },
    "kernelspec": {
      "name": "python3",
      "display_name": "Python 3"
    }
  },
  "cells": [
    {
      "cell_type": "markdown",
      "metadata": {
        "id": "view-in-github",
        "colab_type": "text"
      },
      "source": [
        "<a href=\"https://colab.research.google.com/github/yamanoyu/atcorder/blob/master/ABC191.ipynb\" target=\"_parent\"><img src=\"https://colab.research.google.com/assets/colab-badge.svg\" alt=\"Open In Colab\"/></a>"
      ]
    },
    {
      "cell_type": "markdown",
      "metadata": {
        "id": "1PMF7chrM9Ok"
      },
      "source": [
        "## A - Vanishing Pitch"
      ]
    },
    {
      "cell_type": "code",
      "metadata": {
        "colab": {
          "base_uri": "https://localhost:8080/"
        },
        "id": "wzfEAGh4NQwu",
        "outputId": "293a5a9f-eb31-4e5b-9733-3646f5715ea3"
      },
      "source": [
        "v, t, s, d = map(int, input().split())\n",
        "ans = 'Yes' if d < v * t or d > v * s else 'No'\n",
        "print(ans)"
      ],
      "execution_count": 4,
      "outputs": [
        {
          "output_type": "stream",
          "text": [
            "10 3 5 30\n",
            "No\n"
          ],
          "name": "stdout"
        }
      ]
    },
    {
      "cell_type": "markdown",
      "metadata": {
        "id": "059YLuJeM_Je"
      },
      "source": [
        "## B - Remove It"
      ]
    },
    {
      "cell_type": "code",
      "metadata": {
        "colab": {
          "base_uri": "https://localhost:8080/"
        },
        "id": "xQ4-2xAaM9-x",
        "outputId": "90807ad9-7179-4f33-90f0-1069c539c808"
      },
      "source": [
        "n, x = map(int, input().split())\n",
        "a_list = list(map(int, input().split()))\n",
        "ans_list = [a for a in a_list if a != x]\n",
        "ans = ' '.join(list(map(str, ans_list)))\n",
        "print(ans)"
      ],
      "execution_count": 7,
      "outputs": [
        {
          "output_type": "stream",
          "text": [
            "3 3\n",
            "3 3 3\n",
            "\n"
          ],
          "name": "stdout"
        }
      ]
    },
    {
      "cell_type": "markdown",
      "metadata": {
        "id": "Yl7GXJi_NACi"
      },
      "source": [
        "## C - Digital Graffiti"
      ]
    },
    {
      "cell_type": "code",
      "metadata": {
        "id": "YBVuwZZlNApS"
      },
      "source": [
        "# WA\n",
        "h, w = map(int, input().split())\n",
        "s_list = [list(input()) for _ in range(h)]\n",
        "\n",
        "ans = 0\n",
        "\n",
        "for i in range(1, h):\n",
        "  for j in range(1, w):\n",
        "    if s_list[i][j] != '#':\n",
        "      continue\n",
        "    else:\n",
        "      # if (s_list[i - 1][j] == '#' and s_list[i + 1][j] == '#') and (s_list[i][j - 1] == '#' and s_list[i][j + 1] == '#'):\n",
        "      #   if s_list[i - 1][j - 1] == '#' and s_list[i - 1][j + 1] == '#' and s_list[i + 1][j - 1] == '#' and s_list[i + 1][j + 1] == '#':\n",
        "      #     continue\n",
        "      #   else:\n",
        "      #     ans += 1\n",
        "      if (s_list[i - 1][j] == '#' and s_list[i + 1][j] == '#') or (s_list[i][j - 1] == '#' and s_list[i][j + 1] == '#'):\n",
        "        continue\n",
        "      else:\n",
        "        ans += 1\n",
        "print(ans)"
      ],
      "execution_count": null,
      "outputs": []
    },
    {
      "cell_type": "markdown",
      "metadata": {
        "id": "aE4dVc0eNBOE"
      },
      "source": [
        "## D - Circle Lattice Points"
      ]
    },
    {
      "cell_type": "code",
      "metadata": {
        "colab": {
          "base_uri": "https://localhost:8080/"
        },
        "id": "mO76HLnGNBgy",
        "outputId": "2eb97faa-9ad9-4215-84b9-8b93ca007daa"
      },
      "source": [
        "# WA\n",
        "import math\n",
        "\n",
        "x, y, r = map(float, input().split())\n",
        "\n",
        "\n",
        "def coordinate_y(coordinate_x):\n",
        "  coordinate_y_up = math.floor(math.sqrt(round(r ** 2, 4) - round((coordinate_x - x) ** 2, 4)) + y)\n",
        "  coordinate_y_low = math.ceil(y - math.sqrt(round(r ** 2, 4) - round((coordinate_x - x) ** 2, 4)))\n",
        "  # print('up, low', coordinate_y_up, coordinate_y_low)\n",
        "\n",
        "  ret = coordinate_y_up - coordinate_y_low + 1 if coordinate_y_up >= coordinate_y_low else 0\n",
        "\n",
        "  return ret\n",
        "\n",
        "\n",
        "ans = 0\n",
        "\n",
        "for i in range(math.ceil(x - r), math.floor(x + r) + 1):\n",
        "  # print('i', i)\n",
        "  ans += coordinate_y(i)\n",
        "\n",
        "print(ans)"
      ],
      "execution_count": 51,
      "outputs": [
        {
          "output_type": "stream",
          "text": [
            "0.2 0.8 1.1\n",
            "3\n"
          ],
          "name": "stdout"
        }
      ]
    },
    {
      "cell_type": "code",
      "metadata": {
        "colab": {
          "base_uri": "https://localhost:8080/"
        },
        "id": "J0KRCzXumVXB",
        "outputId": "166dcd5a-137e-41c0-e760-f1e04c8f5625"
      },
      "source": [
        "# WA\n",
        "import math\n",
        "\n",
        "x, y, r = map(float, input().split())\n",
        "\n",
        "X = x * 10 ** 4\n",
        "Y = y * 10 ** 4\n",
        "R = r * 10 ** 4\n",
        "\n",
        "\n",
        "def coordinate_y(coordinate_x):\n",
        "  coordinate_y_up = math.floor(math.floor(math.sqrt(R ** 2 - (coordinate_x - X) ** 2) + Y) / (10 ** 4))\n",
        "  coordinate_y_low = math.ceil(math.ceil(Y - math.sqrt(R ** 2 - (coordinate_x - X) ** 2)) / (10 ** 4))\n",
        "\n",
        "  ret = coordinate_y_up - coordinate_y_low + 1 if coordinate_y_up >= coordinate_y_low else 0\n",
        "\n",
        "  return ret\n",
        "\n",
        "\n",
        "ans = 0\n",
        "\n",
        "for i in range(math.ceil(x - r), math.floor(x + r) + 1):\n",
        "  i *= 10 ** 4\n",
        "  ans += coordinate_y(i)\n",
        "\n",
        "print(ans)"
      ],
      "execution_count": 76,
      "outputs": [
        {
          "output_type": "stream",
          "text": [
            "42782.4720 31949.0192 99999.99\n",
            "31415920098\n"
          ],
          "name": "stdout"
        }
      ]
    },
    {
      "cell_type": "code",
      "metadata": {
        "colab": {
          "base_uri": "https://localhost:8080/"
        },
        "id": "ZTrR-jbRodHd",
        "outputId": "dadd6759-2743-4781-858a-8c5c80849072"
      },
      "source": [
        "# PyPy3ではTLE\n",
        "from decimal import Decimal\n",
        "import math\n",
        "\n",
        "\n",
        "x, y, r = map(Decimal, input().split())\n",
        "\n",
        "\n",
        "def coordinate_y(coordinate_x):\n",
        "  distance = (r ** 2 - (coordinate_x - x) ** 2).sqrt()\n",
        "  coordinate_y_up = math.floor(distance + y)\n",
        "  coordinate_y_low = math.ceil(y - distance)\n",
        "\n",
        "  ret = coordinate_y_up - coordinate_y_low + 1\n",
        "\n",
        "  return ret\n",
        "\n",
        "\n",
        "ans = 0\n",
        "\n",
        "for i in range(math.ceil(x - r), math.floor(x + r) + 1):\n",
        "  ans += coordinate_y(i)\n",
        "\n",
        "print(ans)"
      ],
      "execution_count": 98,
      "outputs": [
        {
          "output_type": "stream",
          "text": [
            "42782.4720 31949.0192 99999.99\n",
            "31415920098\n"
          ],
          "name": "stdout"
        }
      ]
    },
    {
      "cell_type": "markdown",
      "metadata": {
        "id": "ej7YhuTZNBv7"
      },
      "source": [
        "## E - Come Back Quickly"
      ]
    },
    {
      "cell_type": "code",
      "metadata": {
        "colab": {
          "base_uri": "https://localhost:8080/"
        },
        "id": "_xdvk-21NCbp",
        "outputId": "88ad3fd3-5962-40a5-d2ba-2af6eba4a1a1"
      },
      "source": [
        "import heapq\n",
        "\n",
        "\n",
        "n, m = map(int, input().split())\n",
        "graph = [[] for i in range(n)]\n",
        "INF = 10 ** 9 + 7\n",
        "\n",
        "for _ in range(m):\n",
        "    a, b, c = map(int, input().split())\n",
        "    graph[a - 1].append((b - 1, c))\n",
        "\n",
        "for i in range(n):\n",
        "  node_dist = [-1] * n\n",
        "  hq = []\n",
        "  heapq.heappush(hq, (0, i))\n",
        "\n",
        "  while hq:\n",
        "    dist, node = heapq.heappop(hq)\n",
        "\n",
        "    if node_dist[node] == -1:\n",
        "      if dist != 0:\n",
        "        node_dist[node] = dist\n",
        "\n",
        "      for next_node, next_node_dist in graph[node]:\n",
        "        if node_dist[next_node] == -1:\n",
        "          heapq.heappush(hq, (dist + next_node_dist, next_node))\n",
        "\n",
        "  print(node_dist[i])"
      ],
      "execution_count": 4,
      "outputs": [
        {
          "output_type": "stream",
          "text": [
            "4 4\n",
            "1 2 5\n",
            "2 3 10\n",
            "3 1 15\n",
            "4 3 20\n",
            "30\n",
            "30\n",
            "30\n",
            "-1\n"
          ],
          "name": "stdout"
        }
      ]
    },
    {
      "cell_type": "markdown",
      "metadata": {
        "id": "-eqYD36DNC8M"
      },
      "source": [
        "## F - GCD or MIN"
      ]
    },
    {
      "cell_type": "code",
      "metadata": {
        "colab": {
          "base_uri": "https://localhost:8080/"
        },
        "id": "iEudZ7riNDXn",
        "outputId": "c04bc271-dfd6-4f09-f8f9-f0e80419e12e"
      },
      "source": [
        "# WA\n",
        "import math\n",
        "\n",
        "\n",
        "n = int(input())\n",
        "a_list = list(map(int, input().split()))\n",
        "a_list.sort()\n",
        "\n",
        "a_list_min = a_list[0]\n",
        "\n",
        "ans_set = {a_list_min}\n",
        "\n",
        "for i in range(n - 1):\n",
        "  for j in range(i, n):\n",
        "    ans_set.add(min(math.gcd(a_list[i], a_list[j]), a_list_min))\n",
        "\n",
        "ans_list = list(ans_set)\n",
        "_ans_list = []\n",
        "l = len(ans_list)\n",
        "\n",
        "for i in range(l - 1):\n",
        "  for j in range(i, l):\n",
        "    _ans_list.append(math.gcd(ans_list[i], ans_list[j]))\n",
        "\n",
        "ans_set |= set(_ans_list)\n",
        "\n",
        "\n",
        "ans = len(ans_set)\n",
        "# print(ans_set)\n",
        "print(ans)"
      ],
      "execution_count": 7,
      "outputs": [
        {
          "output_type": "stream",
          "text": [
            "7\n",
            "30 28 33 49 27 37 48\n",
            "{1, 2, 3, 4, 6, 7, 27}\n",
            "7\n"
          ],
          "name": "stdout"
        }
      ]
    },
    {
      "cell_type": "code",
      "metadata": {
        "colab": {
          "base_uri": "https://localhost:8080/"
        },
        "id": "peSj6MxYXMym",
        "outputId": "a9ac0f6f-c109-44a6-c20b-3563125adcd1"
      },
      "source": [
        "import math\n",
        "n=int(input())\n",
        "a=list(map(int,input().split()))\n",
        "s=set()\n",
        "for i in range(n):\n",
        "  for j in range(1,int(a[i]**0.5)+2):\n",
        "    if a[i]%j==0:\n",
        "      s.add(j)\n",
        "      s.add(a[i]//j)\n",
        "s=list(s)\n",
        "print(s)\n",
        "l=[0 for i in range(len(s))]\n",
        "dict={}\n",
        "for i in range(len(s)):\n",
        "  dict[s[i]]=i\n",
        "print(dict)\n",
        "\n",
        "\n",
        "for i in range(n):\n",
        "  for j in range(1,int(a[i]**0.5)+2):\n",
        "    if a[i]%j==0:\n",
        "      x=dict[j]\n",
        "      y=dict[a[i]//j]\n",
        "      if l[x]==0:\n",
        "        l[x]=a[i]\n",
        "      else:\n",
        "        l[x]=math.gcd(l[x],a[i])\n",
        "      if l[y]==0:\n",
        "        l[y]=a[i]\n",
        "      else:\n",
        "        l[y]=math.gcd(l[y],a[i])\n",
        "      print(a[i], j, x, y,l)\n",
        "m=min(a)\n",
        "ans=0\n",
        "for i in range(len(s)):\n",
        "  if s[i]==l[i] and s[i]<=m:\n",
        "    ans+=1\n",
        "print(ans)"
      ],
      "execution_count": 20,
      "outputs": [
        {
          "output_type": "stream",
          "text": [
            "3\n",
            "6 9 12\n",
            "[1, 2, 3, 4, 6, 9, 12]\n",
            "{1: 0, 2: 1, 3: 2, 4: 3, 6: 4, 9: 5, 12: 6}\n",
            "6 1 0 4 [6, 0, 0, 0, 6, 0, 0]\n",
            "6 2 1 2 [6, 6, 6, 0, 6, 0, 0]\n",
            "6 3 2 1 [6, 6, 6, 0, 6, 0, 0]\n",
            "9 1 0 5 [3, 6, 6, 0, 6, 9, 0]\n",
            "9 3 2 2 [3, 6, 3, 0, 6, 9, 0]\n",
            "12 1 0 6 [3, 6, 3, 0, 6, 9, 12]\n",
            "12 2 1 4 [3, 6, 3, 0, 6, 9, 12]\n",
            "12 3 2 3 [3, 6, 3, 12, 6, 9, 12]\n",
            "12 4 3 2 [3, 6, 3, 12, 6, 9, 12]\n",
            "2\n"
          ],
          "name": "stdout"
        }
      ]
    }
  ]
}