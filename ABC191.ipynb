{
  "nbformat": 4,
  "nbformat_minor": 0,
  "metadata": {
    "colab": {
      "name": "ABC191.ipynb",
      "provenance": [],
      "authorship_tag": "ABX9TyNiNJD3dcJTrn+KyBNjoxJt",
      "include_colab_link": true
    },
    "kernelspec": {
      "name": "python3",
      "display_name": "Python 3"
    }
  },
  "cells": [
    {
      "cell_type": "markdown",
      "metadata": {
        "id": "view-in-github",
        "colab_type": "text"
      },
      "source": [
        "<a href=\"https://colab.research.google.com/github/yamanoyu/atcorder/blob/master/ABC191.ipynb\" target=\"_parent\"><img src=\"https://colab.research.google.com/assets/colab-badge.svg\" alt=\"Open In Colab\"/></a>"
      ]
    },
    {
      "cell_type": "markdown",
      "metadata": {
        "id": "1PMF7chrM9Ok"
      },
      "source": [
        "## A"
      ]
    },
    {
      "cell_type": "code",
      "metadata": {
        "colab": {
          "base_uri": "https://localhost:8080/"
        },
        "id": "wzfEAGh4NQwu",
        "outputId": "293a5a9f-eb31-4e5b-9733-3646f5715ea3"
      },
      "source": [
        "v, t, s, d = map(int, input().split())\n",
        "ans = 'Yes' if d < v * t or d > v * s else 'No'\n",
        "print(ans)"
      ],
      "execution_count": 4,
      "outputs": [
        {
          "output_type": "stream",
          "text": [
            "10 3 5 30\n",
            "No\n"
          ],
          "name": "stdout"
        }
      ]
    },
    {
      "cell_type": "markdown",
      "metadata": {
        "id": "059YLuJeM_Je"
      },
      "source": [
        "## B"
      ]
    },
    {
      "cell_type": "code",
      "metadata": {
        "colab": {
          "base_uri": "https://localhost:8080/"
        },
        "id": "xQ4-2xAaM9-x",
        "outputId": "90807ad9-7179-4f33-90f0-1069c539c808"
      },
      "source": [
        "n, x = map(int, input().split())\n",
        "a_list = list(map(int, input().split()))\n",
        "ans_list = [a for a in a_list if a != x]\n",
        "ans = ' '.join(list(map(str, ans_list)))\n",
        "print(ans)"
      ],
      "execution_count": 7,
      "outputs": [
        {
          "output_type": "stream",
          "text": [
            "3 3\n",
            "3 3 3\n",
            "\n"
          ],
          "name": "stdout"
        }
      ]
    },
    {
      "cell_type": "markdown",
      "metadata": {
        "id": "Yl7GXJi_NACi"
      },
      "source": [
        "## C"
      ]
    },
    {
      "cell_type": "code",
      "metadata": {
        "id": "YBVuwZZlNApS"
      },
      "source": [
        "# WA\n",
        "h, w = map(int, input().split())\n",
        "s_list = [list(input()) for _ in range(h)]\n",
        "\n",
        "ans = 0\n",
        "\n",
        "for i in range(1, h):\n",
        "  for j in range(1, w):\n",
        "    if s_list[i][j] != '#':\n",
        "      continue\n",
        "    else:\n",
        "      # if (s_list[i - 1][j] == '#' and s_list[i + 1][j] == '#') and (s_list[i][j - 1] == '#' and s_list[i][j + 1] == '#'):\n",
        "      #   if s_list[i - 1][j - 1] == '#' and s_list[i - 1][j + 1] == '#' and s_list[i + 1][j - 1] == '#' and s_list[i + 1][j + 1] == '#':\n",
        "      #     continue\n",
        "      #   else:\n",
        "      #     ans += 1\n",
        "      if (s_list[i - 1][j] == '#' and s_list[i + 1][j] == '#') or (s_list[i][j - 1] == '#' and s_list[i][j + 1] == '#'):\n",
        "        continue\n",
        "      else:\n",
        "        ans += 1\n",
        "print(ans)"
      ],
      "execution_count": null,
      "outputs": []
    },
    {
      "cell_type": "markdown",
      "metadata": {
        "id": "aE4dVc0eNBOE"
      },
      "source": [
        "## D"
      ]
    },
    {
      "cell_type": "code",
      "metadata": {
        "colab": {
          "base_uri": "https://localhost:8080/"
        },
        "id": "mO76HLnGNBgy",
        "outputId": "2eb97faa-9ad9-4215-84b9-8b93ca007daa"
      },
      "source": [
        "# WA\n",
        "import math\n",
        "\n",
        "x, y, r = map(float, input().split())\n",
        "\n",
        "\n",
        "def coordinate_y(coordinate_x):\n",
        "  coordinate_y_up = math.floor(math.sqrt(round(r ** 2, 4) - round((coordinate_x - x) ** 2, 4)) + y)\n",
        "  coordinate_y_low = math.ceil(y - math.sqrt(round(r ** 2, 4) - round((coordinate_x - x) ** 2, 4)))\n",
        "  # print('up, low', coordinate_y_up, coordinate_y_low)\n",
        "\n",
        "  ret = coordinate_y_up - coordinate_y_low + 1 if coordinate_y_up >= coordinate_y_low else 0\n",
        "\n",
        "  return ret\n",
        "\n",
        "\n",
        "ans = 0\n",
        "\n",
        "for i in range(math.ceil(x - r), math.floor(x + r) + 1):\n",
        "  # print('i', i)\n",
        "  ans += coordinate_y(i)\n",
        "\n",
        "print(ans)"
      ],
      "execution_count": 51,
      "outputs": [
        {
          "output_type": "stream",
          "text": [
            "0.2 0.8 1.1\n",
            "3\n"
          ],
          "name": "stdout"
        }
      ]
    },
    {
      "cell_type": "code",
      "metadata": {
        "colab": {
          "base_uri": "https://localhost:8080/"
        },
        "id": "J0KRCzXumVXB",
        "outputId": "166dcd5a-137e-41c0-e760-f1e04c8f5625"
      },
      "source": [
        "# WA\n",
        "import math\n",
        "\n",
        "x, y, r = map(float, input().split())\n",
        "\n",
        "X = x * 10 ** 4\n",
        "Y = y * 10 ** 4\n",
        "R = r * 10 ** 4\n",
        "\n",
        "\n",
        "def coordinate_y(coordinate_x):\n",
        "  coordinate_y_up = math.floor(math.floor(math.sqrt(R ** 2 - (coordinate_x - X) ** 2) + Y) / (10 ** 4))\n",
        "  coordinate_y_low = math.ceil(math.ceil(Y - math.sqrt(R ** 2 - (coordinate_x - X) ** 2)) / (10 ** 4))\n",
        "\n",
        "  ret = coordinate_y_up - coordinate_y_low + 1 if coordinate_y_up >= coordinate_y_low else 0\n",
        "\n",
        "  return ret\n",
        "\n",
        "\n",
        "ans = 0\n",
        "\n",
        "for i in range(math.ceil(x - r), math.floor(x + r) + 1):\n",
        "  i *= 10 ** 4\n",
        "  ans += coordinate_y(i)\n",
        "\n",
        "print(ans)"
      ],
      "execution_count": 76,
      "outputs": [
        {
          "output_type": "stream",
          "text": [
            "42782.4720 31949.0192 99999.99\n",
            "31415920098\n"
          ],
          "name": "stdout"
        }
      ]
    },
    {
      "cell_type": "code",
      "metadata": {
        "colab": {
          "base_uri": "https://localhost:8080/"
        },
        "id": "ZTrR-jbRodHd",
        "outputId": "dadd6759-2743-4781-858a-8c5c80849072"
      },
      "source": [
        "# PyPyではTLE\n",
        "from decimal import Decimal\n",
        "import math\n",
        "\n",
        "\n",
        "x, y, r = map(Decimal, input().split())\n",
        "\n",
        "\n",
        "def coordinate_y(coordinate_x):\n",
        "  distance = (r ** 2 - (coordinate_x - x) ** 2).sqrt()\n",
        "  coordinate_y_up = math.floor(distance + y)\n",
        "  coordinate_y_low = math.ceil(y - distance)\n",
        "\n",
        "  ret = coordinate_y_up - coordinate_y_low + 1\n",
        "\n",
        "  return ret\n",
        "\n",
        "\n",
        "ans = 0\n",
        "\n",
        "for i in range(math.ceil(x - r), math.floor(x + r) + 1):\n",
        "  ans += coordinate_y(i)\n",
        "\n",
        "print(ans)"
      ],
      "execution_count": 98,
      "outputs": [
        {
          "output_type": "stream",
          "text": [
            "42782.4720 31949.0192 99999.99\n",
            "31415920098\n"
          ],
          "name": "stdout"
        }
      ]
    },
    {
      "cell_type": "markdown",
      "metadata": {
        "id": "ej7YhuTZNBv7"
      },
      "source": [
        "## E"
      ]
    },
    {
      "cell_type": "code",
      "metadata": {
        "id": "_xdvk-21NCbp"
      },
      "source": [
        ""
      ],
      "execution_count": 51,
      "outputs": []
    },
    {
      "cell_type": "markdown",
      "metadata": {
        "id": "-eqYD36DNC8M"
      },
      "source": [
        "## F"
      ]
    },
    {
      "cell_type": "code",
      "metadata": {
        "colab": {
          "base_uri": "https://localhost:8080/"
        },
        "id": "iEudZ7riNDXn",
        "outputId": "3252fa6b-acd4-4187-fa5d-d364211fc1bf"
      },
      "source": [
        "# WA\n",
        "import math\n",
        "\n",
        "\n",
        "n = int(input())\n",
        "a_list = list(map(int, input().split()))\n",
        "a_list.sort()\n",
        "\n",
        "a_list_min = a_list[0]\n",
        "\n",
        "ans_set = {a_list_min}\n",
        "\n",
        "for i in range(n - 1):\n",
        "  for j in range(i, n):\n",
        "    ans_set.add(min(math.gcd(a_list[i], a_list[j]), a_list_min))\n",
        "\n",
        "ans = len(ans_set)\n",
        "print(ans_set)\n",
        "print(ans)"
      ],
      "execution_count": 70,
      "outputs": [
        {
          "output_type": "stream",
          "text": [
            "4\n",
            "8 12 16 48\n",
            "{8, 4}\n",
            "2\n"
          ],
          "name": "stdout"
        }
      ]
    }
  ]
}