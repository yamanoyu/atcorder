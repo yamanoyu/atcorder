{
  "nbformat": 4,
  "nbformat_minor": 0,
  "metadata": {
    "colab": {
      "name": "ABC213.ipynb",
      "provenance": [],
      "authorship_tag": "ABX9TyP2Zc2Z0l412nK+xMR97xeu",
      "include_colab_link": true
    },
    "kernelspec": {
      "name": "python3",
      "display_name": "Python 3"
    },
    "language_info": {
      "name": "python"
    }
  },
  "cells": [
    {
      "cell_type": "markdown",
      "metadata": {
        "id": "view-in-github",
        "colab_type": "text"
      },
      "source": [
        "<a href=\"https://colab.research.google.com/github/yamanoyu/atcorder/blob/master/ABC213.ipynb\" target=\"_parent\"><img src=\"https://colab.research.google.com/assets/colab-badge.svg\" alt=\"Open In Colab\"/></a>"
      ]
    },
    {
      "cell_type": "markdown",
      "metadata": {
        "id": "eg1o5AWe0Bc-"
      },
      "source": [
        "## A - Bitwise Exclusive Or"
      ]
    },
    {
      "cell_type": "code",
      "metadata": {
        "colab": {
          "base_uri": "https://localhost:8080/"
        },
        "id": "VfdNVUlmz7jt",
        "outputId": "101cd7c7-0719-456a-9ff6-9b57d6bf8efa"
      },
      "source": [
        "a, b = map(int, input().split())\n",
        "ans = a ^ b\n",
        "print(ans)"
      ],
      "execution_count": 2,
      "outputs": [
        {
          "output_type": "stream",
          "text": [
            "10 12\n",
            "6\n"
          ],
          "name": "stdout"
        }
      ]
    },
    {
      "cell_type": "markdown",
      "metadata": {
        "id": "KtQtg15U0qhH"
      },
      "source": [
        "## B - Booby Prize"
      ]
    },
    {
      "cell_type": "code",
      "metadata": {
        "colab": {
          "base_uri": "https://localhost:8080/"
        },
        "id": "0MWP4NyP0B2G",
        "outputId": "a324fb6a-9361-4480-aa25-47ae8a20ddb0"
      },
      "source": [
        "n = int(input())\n",
        "a_list = list(map(int, input().split()))\n",
        "a_list_sort = sorted(a_list)\n",
        "ans = a_list.index(a_list_sort[-2]) + 1\n",
        "print(ans)"
      ],
      "execution_count": 8,
      "outputs": [
        {
          "output_type": "stream",
          "text": [
            "6\n",
            "1 123 12345 12 1234 123456\n",
            "3\n"
          ],
          "name": "stdout"
        }
      ]
    },
    {
      "cell_type": "markdown",
      "metadata": {
        "id": "1x9JYyVG1q5i"
      },
      "source": [
        "## C - Reorder Cards"
      ]
    },
    {
      "cell_type": "code",
      "metadata": {
        "id": "2WKvz3pO02Lh"
      },
      "source": [
        "import bisect\n",
        "\n",
        "\n",
        "h, w, n = map(int, input().split())\n",
        "a_list = []\n",
        "b_list = []\n",
        "\n",
        "for _ in range(n):\n",
        "  a, b = map(int, input().split())\n",
        "  a_list.append(a)\n",
        "  b_list.append(b)\n",
        "\n",
        "a_list_sort = sorted(list(set(a_list)))\n",
        "b_list_sort = sorted(list(set(b_list)))\n",
        "\n",
        "for i in range(n):\n",
        "  ans_a = bisect.bisect_left(a_list_sort, a_list[i]) + 1\n",
        "  ans_b = bisect.bisect_left(b_list_sort, b_list[i]) + 1\n",
        "  ans = str(ans_a) + ' ' + str(ans_b)\n",
        "  print(ans)"
      ],
      "execution_count": null,
      "outputs": []
    },
    {
      "cell_type": "markdown",
      "metadata": {
        "id": "_PuI3PcB6wp_"
      },
      "source": [
        "## D - Takahashi Tour"
      ]
    },
    {
      "cell_type": "code",
      "metadata": {
        "id": "kfFBq4v96w-R"
      },
      "source": [
        ""
      ],
      "execution_count": null,
      "outputs": []
    }
  ]
}