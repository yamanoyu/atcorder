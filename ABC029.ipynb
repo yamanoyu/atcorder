{
 "cells": [
  {
   "cell_type": "markdown",
   "metadata": {},
   "source": [
    "## A - 複数形"
   ]
  },
  {
   "cell_type": "code",
   "execution_count": 1,
   "metadata": {},
   "outputs": [
    {
     "name": "stdout",
     "output_type": "stream",
     "text": [
      "qer\n",
      "qers\n"
     ]
    }
   ],
   "source": [
    "w = input()\n",
    "ans = w + 's'\n",
    "print(ans)"
   ]
  },
  {
   "cell_type": "markdown",
   "metadata": {},
   "source": [
    "## B - カキ"
   ]
  },
  {
   "cell_type": "code",
   "execution_count": 2,
   "metadata": {},
   "outputs": [
    {
     "name": "stdout",
     "output_type": "stream",
     "text": [
      "e\n",
      "e\n",
      "e\n",
      "er\n",
      "\n",
      "errrr\n",
      "e\n",
      "r\n",
      "r\n",
      "r\n",
      "r\n",
      "rr\n",
      "7\n"
     ]
    }
   ],
   "source": [
    "ans = 0\n",
    "for _ in range(12):\n",
    "    if 'r' in list(input()):\n",
    "        ans += 1\n",
    "print(ans)"
   ]
  },
  {
   "cell_type": "markdown",
   "metadata": {},
   "source": [
    "## C - Brute-force Attack"
   ]
  },
  {
   "cell_type": "code",
   "execution_count": 13,
   "metadata": {},
   "outputs": [
    {
     "name": "stdout",
     "output_type": "stream",
     "text": [
      "2\n",
      "aa\n",
      "ab\n",
      "ac\n",
      "ba\n",
      "bb\n",
      "bc\n",
      "ca\n",
      "cb\n",
      "cc\n"
     ]
    }
   ],
   "source": [
    "n = int(input())\n",
    "word_list = ['a', 'b', 'c']\n",
    "\n",
    "def base_10_to_n(x, n):\n",
    "    rem = ''\n",
    "    while x > 0:\n",
    "        rem = str(x % n) + rem\n",
    "        x = int(x // n)\n",
    "    return rem\n",
    "\n",
    "for x in range(3 ** n):\n",
    "    base3 = base_10_to_n(x, 3)\n",
    "    base3 = base3.zfill(n)\n",
    "    ans = base3.replace('0', 'a').replace('1', 'b').replace('2', 'c')\n",
    "    print(ans)"
   ]
  },
  {
   "cell_type": "markdown",
   "metadata": {},
   "source": [
    "## D - 1 "
   ]
  },
  {
   "cell_type": "code",
   "execution_count": 18,
   "metadata": {},
   "outputs": [
    {
     "name": "stdout",
     "output_type": "stream",
     "text": [
      "12\n",
      "5\n"
     ]
    }
   ],
   "source": [
    "# TLE\n",
    "n = int(input())\n",
    "\n",
    "ans_list = []\n",
    "\n",
    "for x in  range(1, n+1):\n",
    "    ans_list = ans_list + list(str(x))\n",
    "ans = ans_list.count('1')\n",
    "print(ans)"
   ]
  },
  {
   "cell_type": "code",
   "execution_count": 21,
   "metadata": {},
   "outputs": [
    {
     "name": "stdout",
     "output_type": "stream",
     "text": [
      "10000000\n",
      "7000001\n"
     ]
    }
   ],
   "source": [
    "# TLE\n",
    "n = int(input())\n",
    "\n",
    "ans = 0\n",
    "\n",
    "for x in  range(1, n+1):\n",
    "    ans += list(str(x)).count('1')\n",
    "    \n",
    "print(ans)"
   ]
  },
  {
   "cell_type": "code",
   "execution_count": null,
   "metadata": {},
   "outputs": [],
   "source": []
  }
 ],
 "metadata": {
  "kernelspec": {
   "display_name": "Python 3",
   "language": "python",
   "name": "python3"
  },
  "language_info": {
   "codemirror_mode": {
    "name": "ipython",
    "version": 3
   },
   "file_extension": ".py",
   "mimetype": "text/x-python",
   "name": "python",
   "nbconvert_exporter": "python",
   "pygments_lexer": "ipython3",
   "version": "3.7.4"
  }
 },
 "nbformat": 4,
 "nbformat_minor": 4
}
