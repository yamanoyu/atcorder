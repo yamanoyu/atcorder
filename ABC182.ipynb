{
  "nbformat": 4,
  "nbformat_minor": 0,
  "metadata": {
    "colab": {
      "name": "ABC182",
      "provenance": [],
      "collapsed_sections": [],
      "authorship_tag": "ABX9TyNJU70/0LI319cTml+1Zenc",
      "include_colab_link": true
    },
    "kernelspec": {
      "name": "python3",
      "display_name": "Python 3"
    }
  },
  "cells": [
    {
      "cell_type": "markdown",
      "metadata": {
        "id": "view-in-github",
        "colab_type": "text"
      },
      "source": [
        "<a href=\"https://colab.research.google.com/github/yamanoyu/atcorder/blob/master/ABC182.ipynb\" target=\"_parent\"><img src=\"https://colab.research.google.com/assets/colab-badge.svg\" alt=\"Open In Colab\"/></a>"
      ]
    },
    {
      "cell_type": "markdown",
      "metadata": {
        "id": "2Pd35jp0DEaf"
      },
      "source": [
        "## A - twiblr"
      ]
    },
    {
      "cell_type": "code",
      "metadata": {
        "id": "m7QeAigtuXC9",
        "outputId": "3220b038-8a99-4519-fb95-6ff64ca9776c",
        "colab": {
          "base_uri": "https://localhost:8080/"
        }
      },
      "source": [
        "a, b = map(int, input().split())\n",
        "ans = (2 * a + 100) - b\n",
        "print(ans)"
      ],
      "execution_count": 2,
      "outputs": [
        {
          "output_type": "stream",
          "text": [
            "200 300\n",
            "200\n"
          ],
          "name": "stdout"
        }
      ]
    },
    {
      "cell_type": "markdown",
      "metadata": {
        "id": "xJuu_6LuDJz7"
      },
      "source": [
        "## B - Almost GC"
      ]
    },
    {
      "cell_type": "code",
      "metadata": {
        "id": "DrijwIB3uxGk",
        "outputId": "74052476-b24e-4f74-b14a-fc2324d097e5",
        "colab": {
          "base_uri": "https://localhost:8080/"
        }
      },
      "source": [
        "n = int(input())\n",
        "a_list = list(map(int, input().split()))\n",
        "\n",
        "num = 0\n",
        "ans = 0\n",
        "\n",
        "for i in range(2, 1001):\n",
        "  _num = 0\n",
        "  for a in a_list:\n",
        "    if a % i == 0:\n",
        "      _num += 1\n",
        "  if _num > num:\n",
        "    num = _num\n",
        "    ans = i\n",
        "\n",
        "print(ans)"
      ],
      "execution_count": 10,
      "outputs": [
        {
          "output_type": "stream",
          "text": [
            "5\n",
            "1000 1000 1000 1000 1000\n",
            "2\n"
          ],
          "name": "stdout"
        }
      ]
    },
    {
      "cell_type": "markdown",
      "metadata": {
        "id": "OzBLA8p-DOHl"
      },
      "source": [
        "## C - To 3"
      ]
    },
    {
      "cell_type": "code",
      "metadata": {
        "id": "znqCmGu4vLn9",
        "outputId": "902bbc29-760f-4f86-a67a-ac235510179e",
        "colab": {
          "base_uri": "https://localhost:8080/"
        }
      },
      "source": [
        "import itertools\n",
        "\n",
        "n_list = list(input())\n",
        "ans = -1\n",
        "\n",
        "for i in range(len(n_list)):\n",
        "  comb_num = len(n_list) - i\n",
        "  for comb_list in list(itertools.combinations(n_list, comb_num)):\n",
        "    if int(''.join(comb_list)) % 3 == 0:\n",
        "      ans = i\n",
        "      break\n",
        "  if ans != -1: break\n",
        "\n",
        "print(ans)\n",
        "\n",
        "\n",
        "\n"
      ],
      "execution_count": 19,
      "outputs": [
        {
          "output_type": "stream",
          "text": [
            "11\n",
            "-1\n"
          ],
          "name": "stdout"
        }
      ]
    },
    {
      "cell_type": "markdown",
      "metadata": {
        "id": "PkBqk6_ly8pV"
      },
      "source": [
        "## D - Wandering"
      ]
    },
    {
      "cell_type": "code",
      "metadata": {
        "id": "AqpwtUDcyP09",
        "outputId": "c8e65702-6dd0-472b-cded-9d2cd7c1250a",
        "colab": {
          "base_uri": "https://localhost:8080/"
        }
      },
      "source": [
        "# TLE\n",
        "n = int(input())\n",
        "a_list = list(map(int, input().split()))\n",
        "\n",
        "a_sum = 0\n",
        "ans = 0\n",
        "\n",
        "for i in range(1, n + 1):\n",
        "  for j in range(i, 0, -1):\n",
        "    a_sum += a_list[i - j]\n",
        "    ans = max(ans, a_sum)\n",
        "print(ans)"
      ],
      "execution_count": 41,
      "outputs": [
        {
          "output_type": "stream",
          "text": [
            "5\n",
            "-2 1 3 -1 -1\n",
            "2\n"
          ],
          "name": "stdout"
        }
      ]
    },
    {
      "cell_type": "code",
      "metadata": {
        "id": "gbcm7gcs1I9v",
        "outputId": "78f9dd43-3996-4374-d326-7faab193f336",
        "colab": {
          "base_uri": "https://localhost:8080/"
        }
      },
      "source": [
        "n = int(input())\n",
        "a_list = list(map(int, input().split()))\n",
        "\n",
        "if n == 1:\n",
        "  ans = max(0, a_list[0])\n",
        "else:\n",
        "  a_sum_list = []\n",
        "  i = 0\n",
        "  for a in a_list:\n",
        "    i += a\n",
        "    a_sum_list.append(i)\n",
        "\n",
        "  a_sum_sum_list = []\n",
        "  j = 0\n",
        "  for a_sum in a_sum_list:\n",
        "    j += a_sum\n",
        "    a_sum_sum_list.append(j)\n",
        "\n",
        "  max_behind = a_sum_sum_list.index(max(a_sum_sum_list[:-1]))\n",
        "\n",
        "  # print(a_sum_list)\n",
        "  # print(a_sum_sum_list)\n",
        "  ans = max(0, (max(a_sum_sum_list[:-1]) + max(a_sum_list[:max_behind+1])), a_sum_sum_list[-1])\n",
        "\n",
        "print(ans)"
      ],
      "execution_count": 75,
      "outputs": [
        {
          "output_type": "stream",
          "text": [
            "1\n",
            "1\n",
            "1\n"
          ],
          "name": "stdout"
        }
      ]
    },
    {
      "cell_type": "markdown",
      "metadata": {
        "id": "IkS-5nkA4KwR"
      },
      "source": [
        "## E - Akari"
      ]
    },
    {
      "cell_type": "code",
      "metadata": {
        "id": "YWf850jc4LMs"
      },
      "source": [
        ""
      ],
      "execution_count": null,
      "outputs": []
    }
  ]
}