{
  "nbformat": 4,
  "nbformat_minor": 0,
  "metadata": {
    "colab": {
      "name": "ABC165.ipynb",
      "provenance": [],
      "authorship_tag": "ABX9TyMlAFEaf22kDzonuYP2zrXR",
      "include_colab_link": true
    },
    "kernelspec": {
      "name": "python3",
      "display_name": "Python 3"
    }
  },
  "cells": [
    {
      "cell_type": "markdown",
      "metadata": {
        "id": "view-in-github",
        "colab_type": "text"
      },
      "source": [
        "<a href=\"https://colab.research.google.com/github/yamanoyu/atcorder/blob/master/ABC165.ipynb\" target=\"_parent\"><img src=\"https://colab.research.google.com/assets/colab-badge.svg\" alt=\"Open In Colab\"/></a>"
      ]
    },
    {
      "cell_type": "markdown",
      "metadata": {
        "id": "o_VsIhDvRFQX"
      },
      "source": [
        "## A - We Love Golf"
      ]
    },
    {
      "cell_type": "code",
      "metadata": {
        "colab": {
          "base_uri": "https://localhost:8080/"
        },
        "id": "7BUXKdHNQ7K_",
        "outputId": "3fc51bc5-8db3-4ffb-d92b-e8bbe2fd6e8c"
      },
      "source": [
        "k = int(input())\n",
        "a, b = map(int, input().split())\n",
        "\n",
        "if a % k == 0 or b % k == 0:\n",
        "  ans = 'OK'\n",
        "else:\n",
        "  if a // k != b // k:\n",
        "    ans = 'OK'\n",
        "  else:\n",
        "    ans = 'NG'\n",
        "print(ans)"
      ],
      "execution_count": 3,
      "outputs": [
        {
          "output_type": "stream",
          "text": [
            "4\n",
            "5 7\n",
            "NG\n"
          ],
          "name": "stdout"
        }
      ]
    },
    {
      "cell_type": "markdown",
      "metadata": {
        "id": "npXShPY9Slxm"
      },
      "source": [
        "## B - 1%"
      ]
    },
    {
      "cell_type": "code",
      "metadata": {
        "colab": {
          "base_uri": "https://localhost:8080/"
        },
        "id": "LTzhFRA0RIGx",
        "outputId": "453a714e-9042-4ab6-87e2-55a692f416e3"
      },
      "source": [
        "x = int(input())\n",
        "\n",
        "money = 100\n",
        "ans = 0\n",
        "\n",
        "while money < x:\n",
        "  money += money // 100\n",
        "  ans += 1\n",
        "\n",
        "print(ans)"
      ],
      "execution_count": 7,
      "outputs": [
        {
          "output_type": "stream",
          "text": [
            "974755271730884810\n",
            "3758\n"
          ],
          "name": "stdout"
        }
      ]
    },
    {
      "cell_type": "markdown",
      "metadata": {
        "id": "xhPVc1amdAo9"
      },
      "source": [
        "## C - Many Requirements"
      ]
    },
    {
      "cell_type": "code",
      "metadata": {
        "colab": {
          "base_uri": "https://localhost:8080/"
        },
        "id": "XK_qtNohdByH",
        "outputId": "52041d90-dc78-4bf2-bc8c-b7c234ce4fba"
      },
      "source": [
        "import itertools\n",
        "\n",
        "\n",
        "n, m, q = map(int, input().split())\n",
        "\n",
        "cmb_list = itertools.combinations_with_replacement(list(range(1, m + 1)), n)\n",
        "abcd_list = [list(map(int, input().split())) for _ in range(q)]\n",
        "\n",
        "ans = 0\n",
        "for cmb in cmb_list:\n",
        "  _ans = 0\n",
        "  for a, b, c, d in abcd_list:\n",
        "    if cmb[b - 1] - cmb[a - 1] == c:\n",
        "      _ans += d\n",
        "  ans = max(_ans, ans)\n",
        "\n",
        "print(ans)"
      ],
      "execution_count": 14,
      "outputs": [
        {
          "output_type": "stream",
          "text": [
            "3 4 3\n",
            "1 3 3 100\n",
            "1 2 2 10\n",
            "2 3 2 10\n",
            "110\n"
          ],
          "name": "stdout"
        }
      ]
    },
    {
      "cell_type": "markdown",
      "metadata": {
        "id": "x2vqx1rQ1CRS"
      },
      "source": [
        "## D - Floor Function"
      ]
    },
    {
      "cell_type": "code",
      "metadata": {
        "colab": {
          "base_uri": "https://localhost:8080/"
        },
        "id": "w0eCQ3R01Coz",
        "outputId": "66047c9c-c3a4-4084-81d7-451ca91c17b2"
      },
      "source": [
        "a, b, n = map(int, input().split())\n",
        "ans = (a * min(b - 1, n)) // b - a * (min(b - 1, n) // b)\n",
        "print(ans)"
      ],
      "execution_count": 18,
      "outputs": [
        {
          "output_type": "stream",
          "text": [
            "5 7 4\n",
            "2\n"
          ],
          "name": "stdout"
        }
      ]
    }
  ]
}