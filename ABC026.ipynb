{
 "cells": [
  {
   "cell_type": "markdown",
   "metadata": {},
   "source": [
    "## A - 掛け算の最大値"
   ]
  },
  {
   "cell_type": "code",
   "execution_count": 1,
   "metadata": {},
   "outputs": [
    {
     "name": "stdout",
     "output_type": "stream",
     "text": [
      "10\n",
      "25\n"
     ]
    }
   ],
   "source": [
    "a = int(input())\n",
    "x, _y = divmod(a, 2)\n",
    "y = a - x\n",
    "ans = x * y\n",
    "print(ans)"
   ]
  },
  {
   "cell_type": "markdown",
   "metadata": {},
   "source": [
    "## B - N重丸"
   ]
  },
  {
   "cell_type": "code",
   "execution_count": 8,
   "metadata": {},
   "outputs": [
    {
     "name": "stdout",
     "output_type": "stream",
     "text": [
      "2\n",
      "1\n",
      "2\n",
      "9.42477796076938\n"
     ]
    }
   ],
   "source": [
    "import math\n",
    "\n",
    "\n",
    "n = int(input())\n",
    "r_list = [int(input()) for _ in range(n)]\n",
    "\n",
    "area_list = [r ** 2 * math.pi for r in sorted(r_list, reverse=True)]\n",
    "\n",
    "if n % 2 == 0:\n",
    "    ans = sum(area_list[::2]) - sum(area_list[1::2])\n",
    "else:\n",
    "    ans = sum(area_list[::2]) - sum(area_list[1:-1:2])\n",
    "    \n",
    "print(ans)"
   ]
  },
  {
   "cell_type": "markdown",
   "metadata": {},
   "source": [
    "## C - 高橋君の給料"
   ]
  },
  {
   "cell_type": "code",
   "execution_count": 39,
   "metadata": {},
   "outputs": [
    {
     "name": "stdout",
     "output_type": "stream",
     "text": [
      "10\n",
      "1\n",
      "2\n",
      "3\n",
      "4\n",
      "5\n",
      "6\n",
      "7\n",
      "8\n",
      "9\n",
      "1023\n"
     ]
    }
   ],
   "source": [
    "n = int(input())\n",
    "b_list = [int(input()) for _ in range(n-1)]\n",
    "\n",
    "b_list = b_list[::-1] + [0]\n",
    "salary_list = [[0 for i in range(0)] for _ in range(n)]\n",
    "\n",
    "for p in range(n-1):\n",
    "    if len(salary_list[p]) == 0 :\n",
    "        salary_list[n - b_list[p]].append(1)\n",
    "    else:\n",
    "        salary_list[n - b_list[p]].append(max(salary_list[p]) + min(salary_list[p]) + 1)\n",
    "\n",
    "ans = max(salary_list[-1]) + min(salary_list[-1]) + 1 if  len(salary_list[-1]) != 0 else 1\n",
    "print(ans)"
   ]
  },
  {
   "cell_type": "markdown",
   "metadata": {},
   "source": [
    "## D - 高橋君ボール1号"
   ]
  },
  {
   "cell_type": "code",
   "execution_count": 52,
   "metadata": {},
   "outputs": [
    {
     "name": "stdout",
     "output_type": "stream",
     "text": [
      "1 1  1\n",
      "99.99999999999999\n"
     ]
    }
   ],
   "source": [
    "import math\n",
    "\n",
    "\n",
    "a, b, c = map(int,  input().split())\n",
    "\n",
    "def func(t):\n",
    "    return a * t + b * math.sin(c * t * math.pi)\n",
    "\n",
    "\n",
    "l = r = 0.0\n",
    "\n",
    "i = 0\n",
    "while 1:\n",
    "    if func(i / 1000.0) <= 100 and func((i + 1) / 1000.0) >= 100:\n",
    "        l = i / 1000.0\n",
    "        r = (i + 1) / 1000.0\n",
    "        break\n",
    "    i += 1\n",
    "\n",
    "for _ in range(100):\n",
    "    m = (l + r) / 2.0\n",
    "\n",
    "    if func(m) < 100:\n",
    "        l = m\n",
    "    else:\n",
    "        r = m\n",
    "\n",
    "print(l)"
   ]
  },
  {
   "cell_type": "code",
   "execution_count": null,
   "metadata": {},
   "outputs": [],
   "source": []
  }
 ],
 "metadata": {
  "kernelspec": {
   "display_name": "Python 3",
   "language": "python",
   "name": "python3"
  },
  "language_info": {
   "codemirror_mode": {
    "name": "ipython",
    "version": 3
   },
   "file_extension": ".py",
   "mimetype": "text/x-python",
   "name": "python",
   "nbconvert_exporter": "python",
   "pygments_lexer": "ipython3",
   "version": "3.7.4"
  }
 },
 "nbformat": 4,
 "nbformat_minor": 4
}
