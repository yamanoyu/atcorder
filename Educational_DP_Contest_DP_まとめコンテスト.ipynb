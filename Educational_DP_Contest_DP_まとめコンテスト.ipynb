{
  "nbformat": 4,
  "nbformat_minor": 0,
  "metadata": {
    "colab": {
      "name": "Educational DP Contest / DP まとめコンテスト.ipynb",
      "provenance": [],
      "collapsed_sections": [],
      "authorship_tag": "ABX9TyPiZGEzIPQnZEnGkosQ2cz1",
      "include_colab_link": true
    },
    "kernelspec": {
      "name": "python3",
      "display_name": "Python 3"
    },
    "language_info": {
      "name": "python"
    }
  },
  "cells": [
    {
      "cell_type": "markdown",
      "metadata": {
        "id": "view-in-github",
        "colab_type": "text"
      },
      "source": [
        "<a href=\"https://colab.research.google.com/github/yamanoyu/atcorder/blob/master/Educational_DP_Contest_DP_%E3%81%BE%E3%81%A8%E3%82%81%E3%82%B3%E3%83%B3%E3%83%86%E3%82%B9%E3%83%88.ipynb\" target=\"_parent\"><img src=\"https://colab.research.google.com/assets/colab-badge.svg\" alt=\"Open In Colab\"/></a>"
      ]
    },
    {
      "cell_type": "markdown",
      "metadata": {
        "id": "0egg3OibXl4q"
      },
      "source": [
        "## A - Frog 1"
      ]
    },
    {
      "cell_type": "code",
      "metadata": {
        "colab": {
          "base_uri": "https://localhost:8080/"
        },
        "id": "o45yCDfDXg67",
        "outputId": "9958d123-1e93-4fad-9873-2e97a2078037"
      },
      "source": [
        "n = int(input())\n",
        "h_list = list(map(int, input().split()))\n",
        "\n",
        "INF = float('inf')\n",
        "\n",
        "dp = [INF] * n\n",
        "dp[0] = 0\n",
        "\n",
        "for i in range(n):\n",
        "  if i == 0:\n",
        "    continue\n",
        "  elif i == 1:\n",
        "    dp[i] = abs(h_list[i] - h_list[i - 1])\n",
        "  else:\n",
        "    dp[i] = min(dp[i - 1] + abs(h_list[i] - h_list[i - 1]), dp[i - 2] + abs(h_list[i] - h_list[i - 2]))\n",
        "\n",
        "ans = dp[-1]\n",
        "print(ans)"
      ],
      "execution_count": 7,
      "outputs": [
        {
          "output_type": "stream",
          "text": [
            "6\n",
            "30 10 60 10 60 50\n",
            "40\n"
          ],
          "name": "stdout"
        }
      ]
    },
    {
      "cell_type": "markdown",
      "metadata": {
        "id": "HzcRKsGFY_C1"
      },
      "source": [
        "## B - Frog 2"
      ]
    },
    {
      "cell_type": "code",
      "metadata": {
        "colab": {
          "base_uri": "https://localhost:8080/"
        },
        "id": "n4Ph8MzfXmjI",
        "outputId": "be43d556-4e24-49f9-f3fd-b948c1384643"
      },
      "source": [
        "n, k = map(int, input().split())\n",
        "h_list = list(map(int, input().split()))\n",
        "\n",
        "INF = float('inf')\n",
        "\n",
        "dp = [INF] * n\n",
        "dp[0] = 0\n",
        "\n",
        "for i in range(n):\n",
        "  if i == 0:\n",
        "    continue\n",
        "  else:\n",
        "    for j in range(0, min(i + 1, k + 1)):\n",
        "      dp[i] = min(dp[i], dp[i - j] + abs(h_list[i] - h_list[i - j]))\n",
        "\n",
        "ans = dp[-1]\n",
        "print(ans)"
      ],
      "execution_count": 23,
      "outputs": [
        {
          "output_type": "stream",
          "text": [
            "10 4\n",
            "40 10 20 70 80 10 20 70 80 60\n",
            "40\n"
          ],
          "name": "stdout"
        }
      ]
    },
    {
      "cell_type": "markdown",
      "metadata": {
        "id": "bEN4OfT1mfbW"
      },
      "source": [
        "## C - Vacation"
      ]
    },
    {
      "cell_type": "code",
      "metadata": {
        "id": "34dn0aIgZ2sH"
      },
      "source": [
        "n = int(input())\n",
        "abc_list = [list(map(int, input().split())) for _ in range(n)]\n",
        "\n",
        "dp = [[0, 0, 0] for _ in range(n)]\n",
        "dp[0] = abc_list[0]\n",
        "\n",
        "for i in range(n):\n",
        "  if i == 0:\n",
        "    continue\n",
        "  else:\n",
        "    dp[i][0] = max(dp[i - 1][1], dp[i - 1][2]) + abc_list[i][0]\n",
        "    dp[i][1] = max(dp[i - 1][0], dp[i - 1][2]) + abc_list[i][1]\n",
        "    dp[i][2] = max(dp[i - 1][0], dp[i - 1][1]) + abc_list[i][2]\n",
        "\n",
        "ans = max(dp[-1])\n",
        "print(ans)"
      ],
      "execution_count": null,
      "outputs": []
    },
    {
      "cell_type": "markdown",
      "metadata": {
        "id": "BXspXp2Ao9MX"
      },
      "source": [
        "## D - Knapsack 1"
      ]
    },
    {
      "cell_type": "code",
      "metadata": {
        "id": "falGjjzvpBNa"
      },
      "source": [
        "n, w = map(int, input().split())\n",
        "wv_list = [list(map(int, input().split())) for _ in range(n)]\n",
        "\n",
        "dp = [[0] * (w + 1) for _ in range(n)]\n",
        "\n",
        "for i in range(n):\n",
        "  dp[i] = dp[i - 1].copy()\n",
        "  _dp = dp[i - 1].copy()\n",
        "  \n",
        "  for j in range(w + 1):\n",
        "    if j + wv_list[i][0] > w:\n",
        "      break\n",
        "    \n",
        "    dp[i][j + wv_list[i][0]] = max(_dp[j + wv_list[i][0]], _dp[j] + wv_list[i][1])\n",
        "\n",
        "ans = max(dp[-1])\n",
        "print(ans)"
      ],
      "execution_count": null,
      "outputs": []
    },
    {
      "cell_type": "markdown",
      "metadata": {
        "id": "0GDyn079mfUl"
      },
      "source": [
        "## E - Knapsack 2"
      ]
    },
    {
      "cell_type": "code",
      "metadata": {
        "colab": {
          "base_uri": "https://localhost:8080/"
        },
        "id": "oemtoeTco_TL",
        "outputId": "b614462e-670a-4889-dcf4-75d7418c96c5"
      },
      "source": [
        "n, w = map(int, input().split())\n",
        "wv_list = [list(map(int, input().split())) for _ in range(n)]\n",
        "\n",
        "INF = float('inf')\n",
        "v_max = sum([v for _, v in wv_list]) + 1\n",
        "\n",
        "dp = [INF] * v_max\n",
        "dp[0] = 0\n",
        "\n",
        "for w_l, v_l in wv_list:\n",
        "  _dp = dp.copy()\n",
        "  for j in range(v_max):\n",
        "    if _dp[j] != INF:\n",
        "      if _dp[j] + w_l <= w:\n",
        "        dp[j + v_l] = min(_dp[j] + w_l, _dp[j + v_l])\n",
        "        \n",
        "ans = 0\n",
        "for dp_i, dp_v in enumerate(dp):\n",
        "  if dp_v <= w:\n",
        "    ans = dp_i\n",
        "    \n",
        "print(ans)"
      ],
      "execution_count": 5,
      "outputs": [
        {
          "output_type": "stream",
          "text": [
            "3 1\n",
            "22 2\n",
            "2 2\n",
            "2 2\n",
            "0\n"
          ],
          "name": "stdout"
        }
      ]
    },
    {
      "cell_type": "markdown",
      "metadata": {
        "id": "6n42_v7o7t8E"
      },
      "source": [
        "## F - LCS"
      ]
    },
    {
      "cell_type": "code",
      "metadata": {
        "id": "hmINzdZf7uYH"
      },
      "source": [
        "# TLE\n",
        "\n",
        "s = input()\n",
        "t = input()\n",
        "s_len = len(s)\n",
        "t_len = len(t)\n",
        "\n",
        "dp = [[''] * s_len for _ in range(t_len)]\n",
        "\n",
        "if s[0] == t[0]:\n",
        "  dp[0][0] = s[0]\n",
        "\n",
        "for i in range(1, s_len):\n",
        "  if s[i] == t[0]:\n",
        "    dp[0][i] += s[i]\n",
        "  else:\n",
        "    dp[0][i] = dp[0][i - 1]\n",
        "\n",
        "for j in range(1, t_len):\n",
        "  if t[j] == s[0]:\n",
        "    dp[j][0] += t[j]\n",
        "  else:\n",
        "    dp[j][0] = dp[j - 1][0]\n",
        "\n",
        "for i in range(1, t_len):\n",
        "  for j in range(1, s_len):\n",
        "    if t[i] == s[j]:\n",
        "      dp[i][j] = dp[i - 1][j - 1] + t[i]\n",
        "    else:\n",
        "      dp[i][j] = dp[i - 1][j] if len(dp[i - 1][j]) > len(dp[i][j - 1]) else dp[i][j - 1]\n",
        "\n",
        "ans = dp[-1][-1]\n",
        "print(ans)"
      ],
      "execution_count": null,
      "outputs": []
    }
  ]
}