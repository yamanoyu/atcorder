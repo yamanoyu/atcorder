{
  "nbformat": 4,
  "nbformat_minor": 0,
  "metadata": {
    "colab": {
      "name": "Educational DP Contest / DP まとめコンテスト.ipynb",
      "provenance": [],
      "authorship_tag": "ABX9TyM9PAT3vhSGJfPqEBhhhjG1",
      "include_colab_link": true
    },
    "kernelspec": {
      "name": "python3",
      "display_name": "Python 3"
    },
    "language_info": {
      "name": "python"
    }
  },
  "cells": [
    {
      "cell_type": "markdown",
      "metadata": {
        "id": "view-in-github",
        "colab_type": "text"
      },
      "source": [
        "<a href=\"https://colab.research.google.com/github/yamanoyu/atcorder/blob/master/Educational_DP_Contest_DP_%E3%81%BE%E3%81%A8%E3%82%81%E3%82%B3%E3%83%B3%E3%83%86%E3%82%B9%E3%83%88.ipynb\" target=\"_parent\"><img src=\"https://colab.research.google.com/assets/colab-badge.svg\" alt=\"Open In Colab\"/></a>"
      ]
    },
    {
      "cell_type": "markdown",
      "metadata": {
        "id": "0egg3OibXl4q"
      },
      "source": [
        "## A - Frog 1"
      ]
    },
    {
      "cell_type": "code",
      "metadata": {
        "colab": {
          "base_uri": "https://localhost:8080/"
        },
        "id": "o45yCDfDXg67",
        "outputId": "9958d123-1e93-4fad-9873-2e97a2078037"
      },
      "source": [
        "n = int(input())\n",
        "h_list = list(map(int, input().split()))\n",
        "\n",
        "INF = float('inf')\n",
        "\n",
        "dp = [INF] * n\n",
        "dp[0] = 0\n",
        "\n",
        "for i in range(n):\n",
        "  if i == 0:\n",
        "    continue\n",
        "  elif i == 1:\n",
        "    dp[i] = abs(h_list[i] - h_list[i - 1])\n",
        "  else:\n",
        "    dp[i] = min(dp[i - 1] + abs(h_list[i] - h_list[i - 1]), dp[i - 2] + abs(h_list[i] - h_list[i - 2]))\n",
        "\n",
        "ans = dp[-1]\n",
        "print(ans)"
      ],
      "execution_count": 7,
      "outputs": [
        {
          "output_type": "stream",
          "text": [
            "6\n",
            "30 10 60 10 60 50\n",
            "40\n"
          ],
          "name": "stdout"
        }
      ]
    },
    {
      "cell_type": "markdown",
      "metadata": {
        "id": "HzcRKsGFY_C1"
      },
      "source": [
        "## B - Frog 2"
      ]
    },
    {
      "cell_type": "code",
      "metadata": {
        "colab": {
          "base_uri": "https://localhost:8080/"
        },
        "id": "n4Ph8MzfXmjI",
        "outputId": "be43d556-4e24-49f9-f3fd-b948c1384643"
      },
      "source": [
        "n, k = map(int, input().split())\n",
        "h_list = list(map(int, input().split()))\n",
        "\n",
        "INF = float('inf')\n",
        "\n",
        "dp = [INF] * n\n",
        "dp[0] = 0\n",
        "\n",
        "for i in range(n):\n",
        "  if i == 0:\n",
        "    continue\n",
        "  else:\n",
        "    for j in range(0, min(i + 1, k + 1)):\n",
        "      dp[i] = min(dp[i], dp[i - j] + abs(h_list[i] - h_list[i - j]))\n",
        "\n",
        "ans = dp[-1]\n",
        "print(ans)"
      ],
      "execution_count": 23,
      "outputs": [
        {
          "output_type": "stream",
          "text": [
            "10 4\n",
            "40 10 20 70 80 10 20 70 80 60\n",
            "40\n"
          ],
          "name": "stdout"
        }
      ]
    },
    {
      "cell_type": "code",
      "metadata": {
        "id": "34dn0aIgZ2sH"
      },
      "source": [
        ""
      ],
      "execution_count": null,
      "outputs": []
    }
  ]
}