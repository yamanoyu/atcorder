{
  "nbformat": 4,
  "nbformat_minor": 0,
  "metadata": {
    "colab": {
      "name": "Educational DP Contest / DP まとめコンテスト.ipynb",
      "provenance": [],
      "collapsed_sections": [],
      "authorship_tag": "ABX9TyOseZiC6dFcn9jfqVX9oZjc",
      "include_colab_link": true
    },
    "kernelspec": {
      "name": "python3",
      "display_name": "Python 3"
    },
    "language_info": {
      "name": "python"
    }
  },
  "cells": [
    {
      "cell_type": "markdown",
      "metadata": {
        "id": "view-in-github",
        "colab_type": "text"
      },
      "source": [
        "<a href=\"https://colab.research.google.com/github/yamanoyu/atcorder/blob/master/Educational_DP_Contest_DP_%E3%81%BE%E3%81%A8%E3%82%81%E3%82%B3%E3%83%B3%E3%83%86%E3%82%B9%E3%83%88.ipynb\" target=\"_parent\"><img src=\"https://colab.research.google.com/assets/colab-badge.svg\" alt=\"Open In Colab\"/></a>"
      ]
    },
    {
      "cell_type": "markdown",
      "metadata": {
        "id": "0egg3OibXl4q"
      },
      "source": [
        "## A - Frog 1"
      ]
    },
    {
      "cell_type": "code",
      "metadata": {
        "colab": {
          "base_uri": "https://localhost:8080/"
        },
        "id": "o45yCDfDXg67",
        "outputId": "9958d123-1e93-4fad-9873-2e97a2078037"
      },
      "source": [
        "n = int(input())\n",
        "h_list = list(map(int, input().split()))\n",
        "\n",
        "INF = float('inf')\n",
        "\n",
        "dp = [INF] * n\n",
        "dp[0] = 0\n",
        "\n",
        "for i in range(n):\n",
        "  if i == 0:\n",
        "    continue\n",
        "  elif i == 1:\n",
        "    dp[i] = abs(h_list[i] - h_list[i - 1])\n",
        "  else:\n",
        "    dp[i] = min(dp[i - 1] + abs(h_list[i] - h_list[i - 1]), dp[i - 2] + abs(h_list[i] - h_list[i - 2]))\n",
        "\n",
        "ans = dp[-1]\n",
        "print(ans)"
      ],
      "execution_count": 7,
      "outputs": [
        {
          "output_type": "stream",
          "text": [
            "6\n",
            "30 10 60 10 60 50\n",
            "40\n"
          ],
          "name": "stdout"
        }
      ]
    },
    {
      "cell_type": "markdown",
      "metadata": {
        "id": "HzcRKsGFY_C1"
      },
      "source": [
        "## B - Frog 2"
      ]
    },
    {
      "cell_type": "code",
      "metadata": {
        "colab": {
          "base_uri": "https://localhost:8080/"
        },
        "id": "n4Ph8MzfXmjI",
        "outputId": "be43d556-4e24-49f9-f3fd-b948c1384643"
      },
      "source": [
        "n, k = map(int, input().split())\n",
        "h_list = list(map(int, input().split()))\n",
        "\n",
        "INF = float('inf')\n",
        "\n",
        "dp = [INF] * n\n",
        "dp[0] = 0\n",
        "\n",
        "for i in range(n):\n",
        "  if i == 0:\n",
        "    continue\n",
        "  else:\n",
        "    for j in range(0, min(i + 1, k + 1)):\n",
        "      dp[i] = min(dp[i], dp[i - j] + abs(h_list[i] - h_list[i - j]))\n",
        "\n",
        "ans = dp[-1]\n",
        "print(ans)"
      ],
      "execution_count": 23,
      "outputs": [
        {
          "output_type": "stream",
          "text": [
            "10 4\n",
            "40 10 20 70 80 10 20 70 80 60\n",
            "40\n"
          ],
          "name": "stdout"
        }
      ]
    },
    {
      "cell_type": "markdown",
      "metadata": {
        "id": "bEN4OfT1mfbW"
      },
      "source": [
        "## C - Vacation"
      ]
    },
    {
      "cell_type": "code",
      "metadata": {
        "id": "34dn0aIgZ2sH"
      },
      "source": [
        "n = int(input())\n",
        "abc_list = [list(map(int, input().split())) for _ in range(n)]\n",
        "\n",
        "dp = [[0, 0, 0] for _ in range(n)]\n",
        "dp[0] = abc_list[0]\n",
        "\n",
        "for i in range(n):\n",
        "  if i == 0:\n",
        "    continue\n",
        "  else:\n",
        "    dp[i][0] = max(dp[i - 1][1], dp[i - 1][2]) + abc_list[i][0]\n",
        "    dp[i][1] = max(dp[i - 1][0], dp[i - 1][2]) + abc_list[i][1]\n",
        "    dp[i][2] = max(dp[i - 1][0], dp[i - 1][1]) + abc_list[i][2]\n",
        "\n",
        "ans = max(dp[-1])\n",
        "print(ans)"
      ],
      "execution_count": null,
      "outputs": []
    },
    {
      "cell_type": "markdown",
      "metadata": {
        "id": "BXspXp2Ao9MX"
      },
      "source": [
        "## D - Knapsack 1"
      ]
    },
    {
      "cell_type": "code",
      "metadata": {
        "id": "falGjjzvpBNa"
      },
      "source": [
        "n, w = map(int, input().split())\n",
        "wv_list = [list(map(int, input().split())) for _ in range(n)]\n",
        "\n",
        "dp = [[0] * (w + 1) for _ in range(n)]\n",
        "\n",
        "for i in range(n):\n",
        "  dp[i] = dp[i - 1].copy()\n",
        "  _dp = dp[i - 1].copy()\n",
        "  \n",
        "  for j in range(w + 1):\n",
        "    if j + wv_list[i][0] > w:\n",
        "      break\n",
        "    \n",
        "    dp[i][j + wv_list[i][0]] = max(_dp[j + wv_list[i][0]], _dp[j] + wv_list[i][1])\n",
        "\n",
        "ans = max(dp[-1])\n",
        "print(ans)"
      ],
      "execution_count": null,
      "outputs": []
    },
    {
      "cell_type": "markdown",
      "metadata": {
        "id": "0GDyn079mfUl"
      },
      "source": [
        "## E - Knapsack 2"
      ]
    },
    {
      "cell_type": "code",
      "metadata": {
        "colab": {
          "base_uri": "https://localhost:8080/"
        },
        "id": "oemtoeTco_TL",
        "outputId": "b614462e-670a-4889-dcf4-75d7418c96c5"
      },
      "source": [
        "n, w = map(int, input().split())\n",
        "wv_list = [list(map(int, input().split())) for _ in range(n)]\n",
        "\n",
        "INF = float('inf')\n",
        "v_max = sum([v for _, v in wv_list]) + 1\n",
        "\n",
        "dp = [INF] * v_max\n",
        "dp[0] = 0\n",
        "\n",
        "for w_l, v_l in wv_list:\n",
        "  _dp = dp.copy()\n",
        "  for j in range(v_max):\n",
        "    if _dp[j] != INF:\n",
        "      if _dp[j] + w_l <= w:\n",
        "        dp[j + v_l] = min(_dp[j] + w_l, _dp[j + v_l])\n",
        "        \n",
        "ans = 0\n",
        "for dp_i, dp_v in enumerate(dp):\n",
        "  if dp_v <= w:\n",
        "    ans = dp_i\n",
        "    \n",
        "print(ans)"
      ],
      "execution_count": 5,
      "outputs": [
        {
          "output_type": "stream",
          "text": [
            "3 1\n",
            "22 2\n",
            "2 2\n",
            "2 2\n",
            "0\n"
          ],
          "name": "stdout"
        }
      ]
    },
    {
      "cell_type": "markdown",
      "metadata": {
        "id": "6n42_v7o7t8E"
      },
      "source": [
        "## F - LCS"
      ]
    },
    {
      "cell_type": "code",
      "metadata": {
        "id": "hmINzdZf7uYH"
      },
      "source": [
        "# TLE\n",
        "\n",
        "s = input()\n",
        "t = input()\n",
        "s_len = len(s)\n",
        "t_len = len(t)\n",
        "\n",
        "dp = [[''] * s_len for _ in range(t_len)]\n",
        "\n",
        "if s[0] == t[0]:\n",
        "  dp[0][0] = s[0]\n",
        "\n",
        "for i in range(1, s_len):\n",
        "  if s[i] == t[0]:\n",
        "    dp[0][i] += s[i]\n",
        "  else:\n",
        "    dp[0][i] = dp[0][i - 1]\n",
        "\n",
        "for j in range(1, t_len):\n",
        "  if t[j] == s[0]:\n",
        "    dp[j][0] += t[j]\n",
        "  else:\n",
        "    dp[j][0] = dp[j - 1][0]\n",
        "\n",
        "for i in range(1, t_len):\n",
        "  for j in range(1, s_len):\n",
        "    if t[i] == s[j]:\n",
        "      dp[i][j] = dp[i - 1][j - 1] + t[i]\n",
        "    else:\n",
        "      dp[i][j] = dp[i - 1][j] if len(dp[i - 1][j]) > len(dp[i][j - 1]) else dp[i][j - 1]\n",
        "\n",
        "ans = dp[-1][-1]\n",
        "print(ans)"
      ],
      "execution_count": null,
      "outputs": []
    },
    {
      "cell_type": "markdown",
      "metadata": {
        "id": "7T4i2APqHF9G"
      },
      "source": [
        "## G - Longest Path"
      ]
    },
    {
      "cell_type": "code",
      "metadata": {
        "id": "VleIh2J8HGYR"
      },
      "source": [
        "from collections import defaultdict, deque\n",
        "from typing import List\n",
        "\n",
        "\n",
        "n, m = map(int, input().split())\n",
        "graph = []\n",
        "for _ in range(m):\n",
        "  x, y = map(int, input().split())\n",
        "  graph.append([x - 1, y - 1])\n",
        "\n",
        "\n",
        "dp = [0] * n\n",
        "visited_list = [False] * n\n",
        "\n",
        "\n",
        "# トポロジカルソートクラス\n",
        "class tpsort():\n",
        "  def __init__(self, nodes, edges) -> None:\n",
        "    self.nodes = nodes\n",
        "    self.edges = edges\n",
        "    self.graph = {}\n",
        "    self.nowgraph = {}\n",
        "    self.first_readies = []\n",
        "    self.readies = []\n",
        "    \n",
        "  def sort(self) -> None:\n",
        "    # nodesとedgesに対してトポロジカルソート実行 -> self.graphに格納\n",
        "    outs = defaultdict(list)\n",
        "    ins = defaultdict(int)\n",
        "    for u, v in self.edges:\n",
        "      outs[u].append(v)\n",
        "      ins[v] += 1\n",
        "    q = deque(u for u in self.nodes if ins[u] == 0)\n",
        "    self.readies = list(q.copy())\n",
        "    self.first_readies = list(q.copy())\n",
        "    insc = ins.copy()\n",
        "    while q:\n",
        "      u = q.popleft()\n",
        "      self.graph[u] = {\n",
        "          'status':0,\n",
        "          'next':outs[u] if outs[u] else [],\n",
        "          'ins':insc[u]\n",
        "          }\n",
        "      for v in outs[u]:\n",
        "        ins[v] -= 1\n",
        "        if ins[v] == 0:\n",
        "          q.append(v)\n",
        "    self.nowgraph = self.graph.copy()\n",
        "\n",
        "  def done(self, node) -> bool:\n",
        "    # 入力したnodeを完了にする。\n",
        "    if node in self.get_ready():\n",
        "      # 入力ノードが実行可能の場合，status=1\n",
        "      self.graph[node]['status'] = 1\n",
        "      # nowgraphの連結ノードからinsを-1\n",
        "      for v in self.nowgraph[node]['next']:\n",
        "        self.nowgraph[v]['ins'] -= 1\n",
        "        if self.nowgraph[v]['ins'] == 0:\n",
        "          self.readies.append(v)\n",
        "      # nowgraphとreadiesからnodeを削除\n",
        "      self.nowgraph.pop(node)\n",
        "      self.readies.remove(node)\n",
        "      return True\n",
        "    else:\n",
        "      # 入力nodeが実行不可の場合\n",
        "      return False\n",
        "\n",
        "  def get_ready(self) -> List:\n",
        "    # 現時点で実行可能なnodeのリストを返す\n",
        "    return self.readies\n",
        "\n",
        "  def get_undone(self) -> List:\n",
        "    # 現時点で未実行なnodeのリストを返す\n",
        "    return [i for i in self.graph if self.graph[i]['status']==0]\n",
        "    \n",
        "  def reset_done(self) -> None:\n",
        "    # 全てundoneに戻す\n",
        "    self.readies = list(self.first_readies.copy())\n",
        "    for u in self.nodes:\n",
        "      self.graph[u]['status'] = 0\n",
        "    self.nowgraph = self.graph.copy()\n",
        "\n",
        "  def is_complete(self) -> bool:\n",
        "    # すべて完了していたらTrue, 1つ以上未実行があればFalse\n",
        "    return True if not self.get_undone() else False\n",
        "\n",
        "\n",
        "# 頂点をトポロジカルソート(関数で実装する)\n",
        "nodes = list(range(n))\n",
        "tps = tpsort(nodes, graph)\n",
        "tps.sort()\n",
        "\n",
        "for i in tps.graph:\n",
        "  for j in tps.graph[i]['next']:\n",
        "    dp[j] = max(dp[j], dp[i] + 1)\n",
        "\n",
        "ans = max(dp)\n",
        "\n",
        "print(ans)"
      ],
      "execution_count": null,
      "outputs": []
    },
    {
      "cell_type": "markdown",
      "metadata": {
        "id": "BrAoL73bR-4Z"
      },
      "source": [
        "## H - Grid 1"
      ]
    },
    {
      "cell_type": "code",
      "metadata": {
        "id": "Nh42D3ERSAZ9"
      },
      "source": [
        "h, w = map(int, input().split())\n",
        "a_list = [list(input()) for _ in range(h)]\n",
        "\n",
        "MOD = 10 ** 9 + 7\n",
        "\n",
        "dp = [[0] * w for _ in range(h)]\n",
        "dp[0][0] = 1\n",
        "\n",
        "for i in range(h):\n",
        "  for j in range(w):\n",
        "    if i == 0 and j == 0:\n",
        "      continue\n",
        "    elif i == 0:\n",
        "      if a_list[i][j] == '.':\n",
        "        dp[i][j] = dp[i][j - 1]\n",
        "        continue\n",
        "    elif j == 0:\n",
        "      if a_list[i][j] == '.':\n",
        "        dp[i][j] = dp[i - 1][j]\n",
        "        continue\n",
        "    else:\n",
        "      if a_list[i][j] == '#':\n",
        "        continue\n",
        "      if a_list[i - 1][j] == '#' and a_list[i][j - 1] == '#':\n",
        "        continue\n",
        "      elif a_list[i - 1][j] == '#':\n",
        "        dp[i][j] = dp[i][j - 1]\n",
        "      elif a_list[i][j - 1] == '#':\n",
        "        dp[i][j] = dp[i - 1][j]\n",
        "      else:\n",
        "        dp[i][j] = (dp[i][j - 1] + dp[i - 1][j]) % MOD\n",
        "\n",
        "ans = dp[-1][-1]\n",
        "print(ans)"
      ],
      "execution_count": null,
      "outputs": []
    },
    {
      "cell_type": "markdown",
      "metadata": {
        "id": "wClLeNR3VlT6"
      },
      "source": [
        "## I - Coins"
      ]
    },
    {
      "cell_type": "code",
      "metadata": {
        "colab": {
          "base_uri": "https://localhost:8080/"
        },
        "id": "XPj-HZUtVqPS",
        "outputId": "917d4f2a-d4ac-4769-8ca6-833f68b184a2"
      },
      "source": [
        "import math\n",
        "\n",
        "\n",
        "n = int(input())\n",
        "p_list = list(map(float, input().split()))\n",
        "\n",
        "dp = [[0] * (n + 1) for _ in range(n)]\n",
        "dp[0][0] = 1 - p_list[0]\n",
        "dp[0][1] = p_list[0]\n",
        "\n",
        "for i in range(1, n):\n",
        "  for j in range(i + 2):\n",
        "    if j == 0:\n",
        "      dp[i][j] = dp[i - 1][j] * (1 - p_list[i])\n",
        "    else:\n",
        "      dp[i][j] = dp[i - 1][j] * (1 - p_list[i]) + dp[i - 1][j - 1] * p_list[i]\n",
        "\n",
        "# ans = sum(dp[-1][- (int(math.ceil(n / 2))) :])\n",
        "ans = sum(dp[-1][n // 2 + 1:])\n",
        "print(ans)"
      ],
      "execution_count": 16,
      "outputs": [
        {
          "output_type": "stream",
          "text": [
            "5\n",
            "0.42 0.01 0.42 0.99 0.42\n",
            "0.3821815872\n"
          ],
          "name": "stdout"
        }
      ]
    },
    {
      "cell_type": "markdown",
      "metadata": {
        "id": "pxeo-_68kvp8"
      },
      "source": [
        "## J - Sushi"
      ]
    },
    {
      "cell_type": "code",
      "metadata": {
        "colab": {
          "base_uri": "https://localhost:8080/"
        },
        "id": "M7W6eRaNbokx",
        "outputId": "0252e5ac-1249-4ec7-ef79-878eb5df471a"
      },
      "source": [
        "n = int(input())\n",
        "a_list = list(map(int, input().split()))\n",
        "\n",
        "single_num = 0\n",
        "duble_num = 0\n",
        "triple_num = 0\n",
        "\n",
        "for a in a_list:\n",
        "  if a == 1:\n",
        "    single_num += 1\n",
        "  elif a == 2:\n",
        "    duble_num += 1\n",
        "  else:\n",
        "    triple_num += 1\n",
        "\n",
        "\n",
        "dp = [[[0] * (n + 2) for _ in range(n + 2)] for _ in range(n + 2)]\n",
        "\n",
        "# dp[1][0][0] = n\n",
        "# dp[0][1][0] = n * 2\n",
        "# dp[0][0][1] = n * 3\n",
        "\n",
        "for k in range(n + 1):\n",
        "  for j in range(n + 1 - k):\n",
        "    for i in range(n + 1 - j - k):\n",
        "      zero_num = n - (i + j + k)\n",
        "      if i + j + k == 0: continue\n",
        "      init = 1 / (1 - zero_num / n)\n",
        "      dp[i][j][k] = init\n",
        "      if i > 0:\n",
        "        dp[i][j][k] += dp[i - 1][j][k] * i / (n - zero_num)\n",
        "      if j > 0:\n",
        "        dp[i][j][k] += dp[i + 1][j - 1][k] * j / (n - zero_num)\n",
        "      if k > 0:\n",
        "        dp[i][j][k] += dp[i][j + 1][k - 1] * k / (n - zero_num)\n",
        "\n",
        "ans = dp[single_num][duble_num][triple_num]\n",
        "        \n",
        "print(ans)"
      ],
      "execution_count": 1,
      "outputs": [
        {
          "output_type": "stream",
          "text": [
            "3\n",
            "1 1 1\n",
            "5.499999999999999\n"
          ],
          "name": "stdout"
        }
      ]
    },
    {
      "cell_type": "markdown",
      "metadata": {
        "id": "9rGhCZ_mW51Y"
      },
      "source": [
        "## K - Stones"
      ]
    },
    {
      "cell_type": "code",
      "metadata": {
        "colab": {
          "base_uri": "https://localhost:8080/"
        },
        "id": "he3aKGJcVJy6",
        "outputId": "de0db802-2c65-4bee-e87b-f2f75f690a87"
      },
      "source": [
        "n, k = map(int, input().split())\n",
        "a_list = list(map(int, input().split()))\n",
        "\n",
        "dp = [False] * k\n",
        "\n",
        "for i in range(k):\n",
        "  if dp[i]: continue\n",
        "  if i == 0:\n",
        "    if a_list[0] == 1: dp[i] = True\n",
        "  else:\n",
        "    for a in a_list:\n",
        "      if (i + 1) - a >= 0:\n",
        "        if (i + 1) - a < a_list[0] or dp[i - a] == False:\n",
        "          dp[i] = True\n",
        "          break\n",
        "\n",
        "ans = 'First' if dp[-1] else 'Second'\n",
        "print(ans)"
      ],
      "execution_count": 13,
      "outputs": [
        {
          "output_type": "stream",
          "text": [
            "1 100000\n",
            "1\n",
            "Second\n"
          ],
          "name": "stdout"
        }
      ]
    },
    {
      "cell_type": "code",
      "metadata": {
        "id": "VRJnPOwQVnzh"
      },
      "source": [
        ""
      ],
      "execution_count": null,
      "outputs": []
    }
  ]
}