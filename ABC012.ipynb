{
 "cells": [
  {
   "cell_type": "markdown",
   "metadata": {},
   "source": [
    "## A - スワップ"
   ]
  },
  {
   "cell_type": "code",
   "execution_count": 2,
   "metadata": {},
   "outputs": [
    {
     "name": "stdout",
     "output_type": "stream",
     "text": [
      "1 2\n",
      "2 1\n"
     ]
    }
   ],
   "source": [
    "a, b = map(int, input().split())\n",
    "a, b = b, a\n",
    "ans = str(a) + ' ' + str(b)\n",
    "print(ans)"
   ]
  },
  {
   "cell_type": "markdown",
   "metadata": {},
   "source": [
    "## B - 入浴時間"
   ]
  },
  {
   "cell_type": "code",
   "execution_count": 6,
   "metadata": {},
   "outputs": [
    {
     "name": "stdout",
     "output_type": "stream",
     "text": [
      "3601\n",
      "01:00:01\n"
     ]
    }
   ],
   "source": [
    "n = int(input())\n",
    "h, h_div = divmod(n,  3600)\n",
    "m, s = divmod(h_div, 60)\n",
    "ans = str(h).zfill(2) + ':' + str(m).zfill(2) + ':' + str(s).zfill(2)\n",
    "print(ans)"
   ]
  },
  {
   "cell_type": "markdown",
   "metadata": {},
   "source": [
    "## C - 九九足し算"
   ]
  },
  {
   "cell_type": "code",
   "execution_count": 19,
   "metadata": {},
   "outputs": [
    {
     "name": "stdout",
     "output_type": "stream",
     "text": [
      "2013\n",
      "2 x 6\n",
      "3 x 4\n",
      "4 x 3\n",
      "6 x 2\n"
     ]
    }
   ],
   "source": [
    "n = int(input())\n",
    "\n",
    "multiplication_list = [n for n in range(1, 10)]\n",
    "m_sum = 0\n",
    "for m in multiplication_list:\n",
    "    m_sum += sum(multiplication_list) * m\n",
    "    \n",
    "ans_candidate = m_sum - n\n",
    "\n",
    "for d in multiplication_list:\n",
    "    if ans_candidate % d == 0 and ans_candidate // d in multiplication_list:\n",
    "        ans = str(d) + \" x \" + str(ans_candidate // d)\n",
    "        print(ans)"
   ]
  },
  {
   "cell_type": "code",
   "execution_count": 15,
   "metadata": {},
   "outputs": [
    {
     "data": {
      "text/plain": [
       "2025"
      ]
     },
     "execution_count": 15,
     "metadata": {},
     "output_type": "execute_result"
    }
   ],
   "source": [
    "multiplication_list = [n for n in range(1, 10)]\n",
    "m_sum = 0\n",
    "for m in multiplication_list:\n",
    "    m_sum += sum(multiplication_list) * m\n",
    "m_sum"
   ]
  },
  {
   "cell_type": "markdown",
   "metadata": {},
   "source": [
    "## D - バスと避けられない運命"
   ]
  },
  {
   "cell_type": "code",
   "execution_count": null,
   "metadata": {},
   "outputs": [],
   "source": []
  }
 ],
 "metadata": {
  "kernelspec": {
   "display_name": "Python 3",
   "language": "python",
   "name": "python3"
  },
  "language_info": {
   "codemirror_mode": {
    "name": "ipython",
    "version": 3
   },
   "file_extension": ".py",
   "mimetype": "text/x-python",
   "name": "python",
   "nbconvert_exporter": "python",
   "pygments_lexer": "ipython3",
   "version": "3.7.4"
  }
 },
 "nbformat": 4,
 "nbformat_minor": 4
}
