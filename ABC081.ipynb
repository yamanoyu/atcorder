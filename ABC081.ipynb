{
  "nbformat": 4,
  "nbformat_minor": 0,
  "metadata": {
    "colab": {
      "name": "ABC081.ipynb",
      "provenance": [],
      "collapsed_sections": [],
      "authorship_tag": "ABX9TyMMbEq4RAYG8KVHlp5Qotib",
      "include_colab_link": true
    },
    "kernelspec": {
      "name": "python3",
      "display_name": "Python 3"
    }
  },
  "cells": [
    {
      "cell_type": "markdown",
      "metadata": {
        "id": "view-in-github",
        "colab_type": "text"
      },
      "source": [
        "<a href=\"https://colab.research.google.com/github/yamanoyu/atcorder/blob/master/ABC081.ipynb\" target=\"_parent\"><img src=\"https://colab.research.google.com/assets/colab-badge.svg\" alt=\"Open In Colab\"/></a>"
      ]
    },
    {
      "cell_type": "markdown",
      "metadata": {
        "id": "LAd0Z5o_PUwk"
      },
      "source": [
        "## A - Placing Marbles"
      ]
    },
    {
      "cell_type": "code",
      "metadata": {
        "colab": {
          "base_uri": "https://localhost:8080/"
        },
        "id": "HOo3nI2pPQC_",
        "outputId": "54644a4e-0546-4806-95d5-4ad55cc8a789"
      },
      "source": [
        "s = list(input())\n",
        "ans = s.count('1')\n",
        "print(ans)"
      ],
      "execution_count": 1,
      "outputs": [
        {
          "output_type": "stream",
          "text": [
            "101\n",
            "2\n"
          ],
          "name": "stdout"
        }
      ]
    },
    {
      "cell_type": "markdown",
      "metadata": {
        "id": "o9K1-9uDPtOg"
      },
      "source": [
        "## B - Shift only"
      ]
    },
    {
      "cell_type": "code",
      "metadata": {
        "colab": {
          "base_uri": "https://localhost:8080/"
        },
        "id": "TbTWlhcvPVRu",
        "outputId": "7768bc25-0ef2-494b-d3c5-2e29ab86bbdf"
      },
      "source": [
        "n = int(input())\n",
        "a_list = list(map(int, input().split()))\n",
        "\n",
        "ans = 0\n",
        "flag = 1\n",
        "\n",
        "while flag:\n",
        "  for a in a_list:\n",
        "    if a % 2 == 1:\n",
        "      flag = 0\n",
        "      break\n",
        "  if flag:\n",
        "    ans += 1\n",
        "    a_list = list(map(lambda x: x // 2, a_list))\n",
        "\n",
        "print(ans)"
      ],
      "execution_count": 11,
      "outputs": [
        {
          "output_type": "stream",
          "text": [
            "3\n",
            "8 12 40\n",
            "1 [4, 6, 20]\n",
            "1 [2, 3, 10]\n",
            "0 [2, 3, 10]\n",
            "2\n"
          ],
          "name": "stdout"
        }
      ]
    },
    {
      "cell_type": "markdown",
      "metadata": {
        "id": "oZedGtR73bYh"
      },
      "source": [
        "## C - Not so Diverse"
      ]
    },
    {
      "cell_type": "code",
      "metadata": {
        "colab": {
          "base_uri": "https://localhost:8080/"
        },
        "id": "jLtbHRxMRvwd",
        "outputId": "b9725c27-3893-4053-97f5-147c20f1c94a"
      },
      "source": [
        "from collections import defaultdict\n",
        "\n",
        "n, k = map(int, input().split())\n",
        "a_list = list(map(int, input().split()))\n",
        "\n",
        "a_dict = defaultdict(int)\n",
        "\n",
        "for a in a_list:\n",
        "  a_dict[a] += 1\n",
        "\n",
        "a_dict_sorted = sorted(a_dict.values()) [-k:]\n",
        "\n",
        "ans = n - sum(a_dict_sorted)\n",
        "print(ans)"
      ],
      "execution_count": 25,
      "outputs": [
        {
          "output_type": "stream",
          "text": [
            "5 2\n",
            "1 1 2 2 5\n",
            "1\n"
          ],
          "name": "stdout"
        }
      ]
    },
    {
      "cell_type": "markdown",
      "metadata": {
        "id": "C_UONM88BiIr"
      },
      "source": [
        "## D - Non-decreasing"
      ]
    },
    {
      "cell_type": "code",
      "metadata": {
        "id": "t8Q4_QcH-DlM"
      },
      "source": [
        ""
      ],
      "execution_count": null,
      "outputs": []
    }
  ]
}