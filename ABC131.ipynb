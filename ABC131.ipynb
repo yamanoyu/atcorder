{
  "nbformat": 4,
  "nbformat_minor": 0,
  "metadata": {
    "colab": {
      "name": "ABC131.ipynb",
      "provenance": [],
      "collapsed_sections": [],
      "authorship_tag": "ABX9TyP/ikmRrDrOVEloshHzWRys",
      "include_colab_link": true
    },
    "kernelspec": {
      "name": "python3",
      "display_name": "Python 3"
    }
  },
  "cells": [
    {
      "cell_type": "markdown",
      "metadata": {
        "id": "view-in-github",
        "colab_type": "text"
      },
      "source": [
        "<a href=\"https://colab.research.google.com/github/yamanoyu/atcorder/blob/master/ABC131.ipynb\" target=\"_parent\"><img src=\"https://colab.research.google.com/assets/colab-badge.svg\" alt=\"Open In Colab\"/></a>"
      ]
    },
    {
      "cell_type": "markdown",
      "metadata": {
        "id": "W6FsZVjidoAB"
      },
      "source": [
        "## A - Security"
      ]
    },
    {
      "cell_type": "code",
      "metadata": {
        "colab": {
          "base_uri": "https://localhost:8080/"
        },
        "id": "h3vQF-mldd3C",
        "outputId": "6b8fa428-0b32-447f-c2ca-910964be193a"
      },
      "source": [
        "s = input()\n",
        "\n",
        "ans = 'Good'\n",
        "for i in range(1, len(s)):\n",
        "  if int(s[i]) == int(s[i - 1]):\n",
        "    ans = 'Bad'\n",
        "    break\n",
        "\n",
        "print(ans)"
      ],
      "execution_count": 8,
      "outputs": [
        {
          "output_type": "stream",
          "text": [
            "3776\n",
            "Good\n"
          ],
          "name": "stdout"
        }
      ]
    },
    {
      "cell_type": "markdown",
      "metadata": {
        "id": "mw0kJTzfejmF"
      },
      "source": [
        "## B - Bite Eating"
      ]
    },
    {
      "cell_type": "code",
      "metadata": {
        "colab": {
          "base_uri": "https://localhost:8080/"
        },
        "id": "n5gx_Gxtdodw",
        "outputId": "b309269d-d506-4ef4-8c17-e3afd9cd94bf"
      },
      "source": [
        "n, l = map(int, input().split())\n",
        "if l > 0:\n",
        "  ans = sum(list(range(n + 1))) + n * (l - 1) - l\n",
        "elif l > -n:\n",
        "  ans = sum(list(range(n + 1))) + n * (l - 1)\n",
        "else:\n",
        "  ans = sum(list(range(n + 1))) + n * (l - 1) - (n + l - 1)\n",
        "  \n",
        "print(ans)"
      ],
      "execution_count": 30,
      "outputs": [
        {
          "output_type": "stream",
          "text": [
            "82 -82\n",
            "-3402\n"
          ],
          "name": "stdout"
        }
      ]
    },
    {
      "cell_type": "markdown",
      "metadata": {
        "id": "pisU_wSajH4z"
      },
      "source": [
        "## C - Anti-Division"
      ]
    },
    {
      "cell_type": "code",
      "metadata": {
        "colab": {
          "base_uri": "https://localhost:8080/"
        },
        "id": "FuaWUQXsgoz1",
        "outputId": "09450e5a-6d8c-47e2-8efe-5f38c7162710"
      },
      "source": [
        "import math\n",
        "\n",
        "a, b, c, d = map(int, input().split())\n",
        "\n",
        "def solve(x, y, n):\n",
        "  len = (y - x) + 1\n",
        "  r = len // n + 1 if x % n == 0 or y % n == 0 else len // n\n",
        "  return r\n",
        "\n",
        "cd = int(c * d / math.gcd(c, d))\n",
        "ans = (b - a + 1) - (solve(a, b, c) + solve(a, b, d) - solve(a, b, cd))\n",
        "print(ans)"
      ],
      "execution_count": 57,
      "outputs": [
        {
          "output_type": "stream",
          "text": [
            "4 9 2 3\n",
            "0\n"
          ],
          "name": "stdout"
        }
      ]
    },
    {
      "cell_type": "code",
      "metadata": {
        "colab": {
          "base_uri": "https://localhost:8080/"
        },
        "id": "k6swV86olZ1Z",
        "outputId": "a1cd09d7-ab24-4247-d2c6-01ad9c628408"
      },
      "source": [
        "import math\n",
        "\n",
        "\n",
        "a, b, c, d = map(int, input().split())\n",
        "\n",
        "\n",
        "def solve(x, y, n):\n",
        "  if x % n == 0 and y % n == 0:\n",
        "    return y // n - x // n + 1\n",
        "  elif x % n != 0 and y % n == 0:\n",
        "    return y // n - x // n\n",
        "  elif x % n == 0 and y % n != 0:\n",
        "    return y // n - x // n + 1\n",
        "  else:\n",
        "    return y // n - x // n\n",
        "\n",
        "cd = int(c * d / math.gcd(c, d))\n",
        "ans = (b - a + 1) - (solve(a, b, c) + solve(a, b, d) - solve(a, b, cd))\n",
        "print(ans)"
      ],
      "execution_count": 77,
      "outputs": [
        {
          "output_type": "stream",
          "text": [
            "314159265358979323 846264338327950288 419716939 937510582\n",
            "532105071133627368\n"
          ],
          "name": "stdout"
        }
      ]
    },
    {
      "cell_type": "markdown",
      "metadata": {
        "id": "ZB9JKvI3oNjG"
      },
      "source": [
        "## D - Megalomania"
      ]
    },
    {
      "cell_type": "code",
      "metadata": {
        "colab": {
          "base_uri": "https://localhost:8080/"
        },
        "id": "rFWvPszKoPKS",
        "outputId": "195dfacc-26d5-45dc-9834-2f31af4c56b9"
      },
      "source": [
        "n = int(input())\n",
        "ab_list = [list(map(int, input().split())) for _ in range(n)]\n",
        "\n",
        "ab_sort_list = sorted(ab_list, key=lambda x: x[1])\n",
        "\n",
        "t = 0\n",
        "ans = 'Yes'\n",
        "\n",
        "for a, b in ab_sort_list:\n",
        "  t += a\n",
        "  if t > b:\n",
        "    ans = 'No'\n",
        "    break\n",
        "\n",
        "print(ans)"
      ],
      "execution_count": 4,
      "outputs": [
        {
          "output_type": "stream",
          "text": [
            "5\n",
            "2 4\n",
            "1 9\n",
            "1 8\n",
            "4 9\n",
            "3 12\n",
            "No\n"
          ],
          "name": "stdout"
        }
      ]
    }
  ]
}