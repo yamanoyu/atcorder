{
  "nbformat": 4,
  "nbformat_minor": 0,
  "metadata": {
    "colab": {
      "name": "ABC080.ipynb",
      "provenance": [],
      "collapsed_sections": [],
      "authorship_tag": "ABX9TyOF9rc8X+024Avy62vfYF9C",
      "include_colab_link": true
    },
    "kernelspec": {
      "name": "python3",
      "display_name": "Python 3"
    }
  },
  "cells": [
    {
      "cell_type": "markdown",
      "metadata": {
        "id": "view-in-github",
        "colab_type": "text"
      },
      "source": [
        "<a href=\"https://colab.research.google.com/github/yamanoyu/atcorder/blob/master/ABC080.ipynb\" target=\"_parent\"><img src=\"https://colab.research.google.com/assets/colab-badge.svg\" alt=\"Open In Colab\"/></a>"
      ]
    },
    {
      "cell_type": "markdown",
      "metadata": {
        "id": "fH9TuCpoJ9-1"
      },
      "source": [
        "## A - Parking"
      ]
    },
    {
      "cell_type": "code",
      "metadata": {
        "colab": {
          "base_uri": "https://localhost:8080/"
        },
        "id": "IpI2DeaXJv9m",
        "outputId": "b754c06a-23d2-41d8-e61f-a425af8249e8"
      },
      "source": [
        "n, a, b = map(int, input().split())\n",
        "ans = min(n * a, b)\n",
        "print(ans)"
      ],
      "execution_count": 1,
      "outputs": [
        {
          "output_type": "stream",
          "text": [
            "7 17 120\n",
            "119\n"
          ],
          "name": "stdout"
        }
      ]
    },
    {
      "cell_type": "markdown",
      "metadata": {
        "id": "HNrrLe2EKSpX"
      },
      "source": [
        "## B - Harshad Number"
      ]
    },
    {
      "cell_type": "code",
      "metadata": {
        "colab": {
          "base_uri": "https://localhost:8080/"
        },
        "id": "P6pX7kV6J-hb",
        "outputId": "2db5a24f-558c-4275-9e0c-b05f7768a60f"
      },
      "source": [
        "n = input()\n",
        "ans = 'Yes' if int(n) % sum(map(int, list(n))) == 0 else 'No'\n",
        "print(ans)"
      ],
      "execution_count": 3,
      "outputs": [
        {
          "output_type": "stream",
          "text": [
            "12\n",
            "Yes\n"
          ],
          "name": "stdout"
        }
      ]
    },
    {
      "cell_type": "markdown",
      "metadata": {
        "id": "2nEY-M5ZK_K4"
      },
      "source": [
        "## C - Shopping Street"
      ]
    },
    {
      "cell_type": "code",
      "metadata": {
        "colab": {
          "base_uri": "https://localhost:8080/"
        },
        "id": "X7D8CKJiKxT4",
        "outputId": "aaee159f-d0cd-4421-8c1f-0de1a7a92cd3"
      },
      "source": [
        "n = int(input())\n",
        "fn_list = [list(map(int, input().split())) for _ in range(n)]\n",
        "pn_list = [list(map(int, input().split())) for _ in range(n)]\n",
        "\n",
        "ans = - (10 ** 18 + 1)\n",
        "\n",
        "for i in range(1, 1024):\n",
        "  _ans = 0\n",
        "  open_list = list(map(int, list(bin(i)[2:].zfill(10))))\n",
        "\n",
        "  for s in range(n):\n",
        "    open_num = 0\n",
        "    for o in range(10):\n",
        "      open_num += int(open_list[o] & fn_list[s][o])\n",
        "    _ans += pn_list[s][open_num]\n",
        "  ans = max(ans, _ans)\n",
        "\n",
        "print(ans)"
      ],
      "execution_count": 28,
      "outputs": [
        {
          "output_type": "stream",
          "text": [
            "1\n",
            "1 1 1 1 1 1 1 1 1 1\n",
            "1 2 3 4 5 6 7 8 9 10 11\n",
            "11\n"
          ],
          "name": "stdout"
        }
      ]
    },
    {
      "cell_type": "markdown",
      "metadata": {
        "id": "P4rwzL9ycCFb"
      },
      "source": [
        "## D - Recording"
      ]
    },
    {
      "cell_type": "code",
      "metadata": {
        "colab": {
          "base_uri": "https://localhost:8080/"
        },
        "id": "Z5iG9rVQcDAy",
        "outputId": "e27239f5-0f45-4e6a-c062-e656971c8dd1"
      },
      "source": [
        "n, c = map(int, input().split())\n",
        "\n",
        "record_list = [0] * (10 ** 5)\n",
        "channel_list = [[0] * (30) for _ in range(10 ** 5 + 1)]\n",
        "\n",
        "s_list = []\n",
        "t_list = []\n",
        "\n",
        "for _ in range(n):\n",
        "  s, t, c = map(int, input().split())\n",
        "\n",
        "  s_list.append(s)\n",
        "  t_list.append(t)\n",
        "\n",
        "  for second in range(s - 1, t):\n",
        "    channel_list[second][c - 1] = 1\n",
        "\n",
        "ans = 0\n",
        "\n",
        "for channel in channel_list:\n",
        "  ans = max(ans, sum(channel))\n",
        "\n",
        "print(ans)"
      ],
      "execution_count": 41,
      "outputs": [
        {
          "output_type": "stream",
          "text": [
            "3 2\n",
            "1 7 2\n",
            "7 8 1\n",
            "8 12 1\n",
            "[[0, 1, 0, 0, 0, 0, 0, 0, 0, 0, 0, 0, 0, 0, 0, 0, 0, 0, 0, 0, 0, 0, 0, 0, 0, 0, 0, 0, 0, 0], [0, 1, 0, 0, 0, 0, 0, 0, 0, 0, 0, 0, 0, 0, 0, 0, 0, 0, 0, 0, 0, 0, 0, 0, 0, 0, 0, 0, 0, 0], [0, 1, 0, 0, 0, 0, 0, 0, 0, 0, 0, 0, 0, 0, 0, 0, 0, 0, 0, 0, 0, 0, 0, 0, 0, 0, 0, 0, 0, 0], [0, 1, 0, 0, 0, 0, 0, 0, 0, 0, 0, 0, 0, 0, 0, 0, 0, 0, 0, 0, 0, 0, 0, 0, 0, 0, 0, 0, 0, 0]]\n",
            "2\n"
          ],
          "name": "stdout"
        }
      ]
    }
  ]
}