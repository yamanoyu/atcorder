{
  "nbformat": 4,
  "nbformat_minor": 0,
  "metadata": {
    "colab": {
      "name": "ABC147.ipynb",
      "provenance": [],
      "collapsed_sections": [],
      "authorship_tag": "ABX9TyNB3COCHHns5vAdFQyHdjbp",
      "include_colab_link": true
    },
    "kernelspec": {
      "name": "python3",
      "display_name": "Python 3"
    }
  },
  "cells": [
    {
      "cell_type": "markdown",
      "metadata": {
        "id": "view-in-github",
        "colab_type": "text"
      },
      "source": [
        "<a href=\"https://colab.research.google.com/github/yamanoyu/atcorder/blob/master/ABC147.ipynb\" target=\"_parent\"><img src=\"https://colab.research.google.com/assets/colab-badge.svg\" alt=\"Open In Colab\"/></a>"
      ]
    },
    {
      "cell_type": "markdown",
      "metadata": {
        "id": "BMw4RAFovS11"
      },
      "source": [
        "## A - Blackjack"
      ]
    },
    {
      "cell_type": "code",
      "metadata": {
        "colab": {
          "base_uri": "https://localhost:8080/"
        },
        "id": "VaBxQr-svNKx",
        "outputId": "5ccc25ce-502a-468e-9244-e1120b3b94a1"
      },
      "source": [
        "a1, a2, a3 = map(int, input().split())\n",
        "ans = 'win' if a1 + a2 + a3 <= 21 else 'bust'\n",
        "print(ans)"
      ],
      "execution_count": 1,
      "outputs": [
        {
          "output_type": "stream",
          "text": [
            "5 7 9\n",
            "win\n"
          ],
          "name": "stdout"
        }
      ]
    },
    {
      "cell_type": "markdown",
      "metadata": {
        "id": "-3stc9Q5ytzG"
      },
      "source": [
        "## B - Palindrome-philia"
      ]
    },
    {
      "cell_type": "code",
      "metadata": {
        "colab": {
          "base_uri": "https://localhost:8080/"
        },
        "id": "vl0W4OktvTQE",
        "outputId": "1233e949-4bc5-4b8a-eff8-9df163c15675"
      },
      "source": [
        "s_list = list(input())\n",
        "ans = 0\n",
        "for s, _s in zip(s_list[:len(s_list) // 2 + 1], s_list[:len(s_list) // 2 - 1:-1]):\n",
        "  if s != _s:\n",
        "    ans += 1\n",
        "print(ans)"
      ],
      "execution_count": 24,
      "outputs": [
        {
          "output_type": "stream",
          "text": [
            "redcorder\n",
            "r r\n",
            "e e\n",
            "d d\n",
            "c r\n",
            "o o\n",
            "1\n"
          ],
          "name": "stdout"
        }
      ]
    },
    {
      "cell_type": "markdown",
      "metadata": {
        "id": "u7V9VW9u1Tvv"
      },
      "source": [
        "## C - HonestOrUnkind2"
      ]
    },
    {
      "cell_type": "code",
      "metadata": {
        "colab": {
          "base_uri": "https://localhost:8080/"
        },
        "id": "8Ki5XLTi1VNt",
        "outputId": "67e8be41-8e4e-4382-8a35-6276aac87981"
      },
      "source": [
        "n = int(input())\n",
        "\n",
        "xy_list = []\n",
        "ans = 0\n",
        "\n",
        "for _ in range(n):\n",
        "  a = int(input())\n",
        "  xy_list.append([tuple(map(int, input().split())) for _ in range(a)])\n",
        "\n",
        "for i in range(2 ** n):\n",
        "  _ans = 0\n",
        "\n",
        "  bin_i = bin(i)[2:].zfill(n)\n",
        "  people_list = list(bin_i)\n",
        "  contradiction = 0\n",
        "\n",
        "  for j in range(n):\n",
        "    if people_list[j] == '1':\n",
        "      for x, y in xy_list[j]:\n",
        "        if y == 1:\n",
        "          if people_list[x - 1] != '1':\n",
        "            contradiction = 1\n",
        "            break\n",
        "        else:\n",
        "          if people_list[x - 1] == '1':\n",
        "            contradiction = 1\n",
        "            break\n",
        "          \n",
        "  if contradiction != 1:\n",
        "    _ans = people_list.count('1')\n",
        "    ans = max(ans, _ans)\n",
        "\n",
        "print(ans)"
      ],
      "execution_count": 32,
      "outputs": [
        {
          "output_type": "stream",
          "text": [
            "3\n",
            "1\n",
            "2 1\n",
            "1\n",
            "1 1\n",
            "1\n",
            "2 0\n",
            "0\n"
          ],
          "name": "stdout"
        }
      ]
    },
    {
      "cell_type": "markdown",
      "metadata": {
        "id": "5X8Eh3SkUyHR"
      },
      "source": [
        "## D - Xor Sum 4"
      ]
    },
    {
      "cell_type": "code",
      "metadata": {
        "colab": {
          "base_uri": "https://localhost:8080/"
        },
        "id": "0u0iY8cJUyjo",
        "outputId": "eaaedb5c-0582-492e-ce9e-d1fa6fe3d922"
      },
      "source": [
        "n = int(input())\n",
        "a_list = list(map(int, input().split()))\n",
        "\n",
        "MOD = 10 ** 9 + 7\n",
        "\n",
        "bit_list = [0] * 60\n",
        "\n",
        "for a in a_list:\n",
        "  bin_a = bin(a)[2:].zfill(60)\n",
        "  for i, b in enumerate(bin_a):\n",
        "    if b == '1':\n",
        "      bit_list[i] += 1\n",
        "\n",
        "ans = 0\n",
        "\n",
        "for c, j in zip(bit_list, range(59, -1, -1)):\n",
        "  ans += ((c * (n - c)) * (2 ** j)) % MOD\n",
        "  \n",
        "ans %= MOD\n",
        "\n",
        "print(ans)"
      ],
      "execution_count": 45,
      "outputs": [
        {
          "output_type": "stream",
          "text": [
            "10\n",
            "1 2 3 4 5 6 7 8 9 10\n",
            "339\n"
          ],
          "name": "stdout"
        }
      ]
    },
    {
      "cell_type": "markdown",
      "metadata": {
        "id": "hs-C1e02jwtA"
      },
      "source": [
        "## E - Balanced Path"
      ]
    },
    {
      "cell_type": "code",
      "metadata": {
        "id": "qwSXfXhniRjm"
      },
      "source": [
        ""
      ],
      "execution_count": null,
      "outputs": []
    },
    {
      "cell_type": "markdown",
      "metadata": {
        "id": "2nQbJd5QjzND"
      },
      "source": [
        "## F - Sum Difference"
      ]
    },
    {
      "cell_type": "code",
      "metadata": {
        "id": "SdQcYVvdjzpl"
      },
      "source": [
        ""
      ],
      "execution_count": null,
      "outputs": []
    }
  ]
}