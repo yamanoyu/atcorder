{
  "nbformat": 4,
  "nbformat_minor": 0,
  "metadata": {
    "colab": {
      "name": "ABC074.ipynb",
      "provenance": [],
      "collapsed_sections": [],
      "authorship_tag": "ABX9TyNfApeOKX2JV4s8+7gEVXTf",
      "include_colab_link": true
    },
    "kernelspec": {
      "name": "python3",
      "display_name": "Python 3"
    }
  },
  "cells": [
    {
      "cell_type": "markdown",
      "metadata": {
        "id": "view-in-github",
        "colab_type": "text"
      },
      "source": [
        "<a href=\"https://colab.research.google.com/github/yamanoyu/atcorder/blob/master/ABC074.ipynb\" target=\"_parent\"><img src=\"https://colab.research.google.com/assets/colab-badge.svg\" alt=\"Open In Colab\"/></a>"
      ]
    },
    {
      "cell_type": "markdown",
      "metadata": {
        "id": "f7uC3Fm0IsVJ"
      },
      "source": [
        "## A - Bichrome Cells"
      ]
    },
    {
      "cell_type": "code",
      "metadata": {
        "id": "CJ9n_7ntIxLV"
      },
      "source": [
        "n = int(input())\n",
        "a = int(input())\n",
        "ans = n * n - a\n",
        "print(ans)"
      ],
      "execution_count": null,
      "outputs": []
    },
    {
      "cell_type": "markdown",
      "metadata": {
        "id": "3SryWAXZI-TQ"
      },
      "source": [
        "## B - Collecting Balls (Easy Version)"
      ]
    },
    {
      "cell_type": "code",
      "metadata": {
        "colab": {
          "base_uri": "https://localhost:8080/"
        },
        "id": "JCp7idteIqZh",
        "outputId": "42ee8565-1d29-48b7-a864-fdff3338d002"
      },
      "source": [
        "n = int(input())\n",
        "k = int(input())\n",
        "x_list = list(map(int, input().split()))\n",
        "\n",
        "ans = 0\n",
        "for x in x_list:\n",
        "  ans += min(x, k - x) * 2\n",
        "print(ans)"
      ],
      "execution_count": 1,
      "outputs": [
        {
          "output_type": "stream",
          "text": [
            "1\n",
            "10\n",
            "2\n",
            "-1\n"
          ],
          "name": "stdout"
        }
      ]
    },
    {
      "cell_type": "markdown",
      "metadata": {
        "id": "-ky2dXsxJtv2"
      },
      "source": [
        "## C - Sugar Water"
      ]
    },
    {
      "cell_type": "code",
      "metadata": {
        "colab": {
          "base_uri": "https://localhost:8080/"
        },
        "id": "u-gRCdJjIw6K",
        "outputId": "6b5b5b8d-df49-4298-b924-b06489ba1e89"
      },
      "source": [
        "a, b, c, d, e, f = map(int, input().split())\n",
        "\n",
        "water_list = []\n",
        "sugar_list = []\n",
        "\n",
        "for i in range(30):\n",
        "  for j in range(31):\n",
        "    water = (i * a + j * b) * 100\n",
        "    if water <= f and water != 0:\n",
        "      water_list.append(water)\n",
        "\n",
        "for i in range(101):\n",
        "  for j in range(101):\n",
        "    sugar = i * c + j * d\n",
        "    if sugar <= e * (f / 100):\n",
        "      sugar_list.append(sugar)\n",
        "# print(water_list)\n",
        "# print(sugar_list)\n",
        "concentration = 0\n",
        "ans_list = []\n",
        "\n",
        "for water in water_list:\n",
        "  for sugar in sugar_list:\n",
        "    if water + sugar <= f and sugar <= (water / 100) * e:\n",
        "      if (sugar / (water + sugar)) * 100 >= concentration:\n",
        "        concentration = (sugar / (water + sugar)) * 100\n",
        "        ans_list = [str(water + sugar), str(sugar)]\n",
        "\n",
        "print(' '.join(ans_list))"
      ],
      "execution_count": 30,
      "outputs": [
        {
          "output_type": "stream",
          "text": [
            "6 10 24 30 1 907\n",
            "600 0\n"
          ],
          "name": "stdout"
        }
      ]
    },
    {
      "cell_type": "markdown",
      "metadata": {
        "id": "4OuabvCoY4cD"
      },
      "source": [
        "## D - Restoring Road Network"
      ]
    },
    {
      "cell_type": "code",
      "metadata": {
        "id": "lE13iSaXVbuk"
      },
      "source": [
        ""
      ],
      "execution_count": null,
      "outputs": []
    }
  ]
}