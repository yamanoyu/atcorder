{
  "nbformat": 4,
  "nbformat_minor": 0,
  "metadata": {
    "colab": {
      "name": "ABC120.ipynb",
      "provenance": [],
      "collapsed_sections": [],
      "authorship_tag": "ABX9TyOcaOQUMw9AF1BZ1JgJTmje",
      "include_colab_link": true
    },
    "kernelspec": {
      "name": "python3",
      "display_name": "Python 3"
    }
  },
  "cells": [
    {
      "cell_type": "markdown",
      "metadata": {
        "id": "view-in-github",
        "colab_type": "text"
      },
      "source": [
        "<a href=\"https://colab.research.google.com/github/yamanoyu/atcorder/blob/master/ABC120.ipynb\" target=\"_parent\"><img src=\"https://colab.research.google.com/assets/colab-badge.svg\" alt=\"Open In Colab\"/></a>"
      ]
    },
    {
      "cell_type": "markdown",
      "metadata": {
        "id": "2d1HhlFdCQnu"
      },
      "source": [
        "## A - Favorite Sound"
      ]
    },
    {
      "cell_type": "code",
      "metadata": {
        "colab": {
          "base_uri": "https://localhost:8080/"
        },
        "id": "_-gHwS-bCMs_",
        "outputId": "37c5b5c6-d6ea-43b2-d3eb-9f13e5d56cc0"
      },
      "source": [
        "a, b, c = map(int, input().split())\n",
        "ans = min(b // a, c)\n",
        "print(ans)"
      ],
      "execution_count": 2,
      "outputs": [
        {
          "output_type": "stream",
          "text": [
            "3 9 5\n",
            "5\n"
          ],
          "name": "stdout"
        }
      ]
    },
    {
      "cell_type": "markdown",
      "metadata": {
        "id": "yvzp_DaIC3fm"
      },
      "source": [
        "## B - K-th Common Divisor"
      ]
    },
    {
      "cell_type": "code",
      "metadata": {
        "colab": {
          "base_uri": "https://localhost:8080/"
        },
        "id": "G3CtKB6QCREz",
        "outputId": "c08eb763-9c77-448f-b6ac-a64fd6db8823"
      },
      "source": [
        "a, b, k = map(int, input().split())\n",
        "ans_list = []\n",
        "\n",
        "for i in range(1, max(a, b) + 1):\n",
        "  if a % i == b % i == 0:\n",
        "    ans_list.append(i)\n",
        "    \n",
        "ans = list(reversed(ans_list))[k - 1]\n",
        "print(ans)"
      ],
      "execution_count": 29,
      "outputs": [
        {
          "output_type": "stream",
          "text": [
            "1 1 1\n",
            "[1]\n",
            "1\n"
          ],
          "name": "stdout"
        }
      ]
    },
    {
      "cell_type": "markdown",
      "metadata": {
        "id": "VS2KSzcZGnX_"
      },
      "source": [
        "## C - Unification"
      ]
    },
    {
      "cell_type": "code",
      "metadata": {
        "colab": {
          "base_uri": "https://localhost:8080/"
        },
        "id": "q5_xhx3tFI__",
        "outputId": "5a0ce9b1-bfa5-48ba-f0f5-c9430200a693"
      },
      "source": [
        "s = input()\n",
        "ans = min(s.count('0'), s.count('1')) * 2\n",
        "print(ans)"
      ],
      "execution_count": 30,
      "outputs": [
        {
          "output_type": "stream",
          "text": [
            "11011010001011\n",
            "12\n"
          ],
          "name": "stdout"
        }
      ]
    },
    {
      "cell_type": "markdown",
      "metadata": {
        "id": "VvlIg01ZHaEQ"
      },
      "source": [
        "## D - Decayed Bridges"
      ]
    },
    {
      "cell_type": "code",
      "metadata": {
        "id": "kyxX4v0tHUd2"
      },
      "source": [
        ""
      ],
      "execution_count": null,
      "outputs": []
    }
  ]
}