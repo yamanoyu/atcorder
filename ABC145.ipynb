{
  "nbformat": 4,
  "nbformat_minor": 0,
  "metadata": {
    "colab": {
      "name": "ABC145.ipynb",
      "provenance": [],
      "collapsed_sections": [],
      "authorship_tag": "ABX9TyM8kxMJjUB0oC2LPJkTWBeY",
      "include_colab_link": true
    },
    "kernelspec": {
      "name": "python3",
      "display_name": "Python 3"
    }
  },
  "cells": [
    {
      "cell_type": "markdown",
      "metadata": {
        "id": "view-in-github",
        "colab_type": "text"
      },
      "source": [
        "<a href=\"https://colab.research.google.com/github/yamanoyu/atcorder/blob/master/ABC145.ipynb\" target=\"_parent\"><img src=\"https://colab.research.google.com/assets/colab-badge.svg\" alt=\"Open In Colab\"/></a>"
      ]
    },
    {
      "cell_type": "markdown",
      "metadata": {
        "id": "KST1eb9IE9pV"
      },
      "source": [
        "## A - Circle"
      ]
    },
    {
      "cell_type": "code",
      "metadata": {
        "colab": {
          "base_uri": "https://localhost:8080/"
        },
        "id": "_9Qa6jnxE74T",
        "outputId": "9a67a837-b40d-4d2b-b118-dbf1dd29593f"
      },
      "source": [
        "r = int(input())\n",
        "ans = r ** 2\n",
        "print(ans)"
      ],
      "execution_count": null,
      "outputs": [
        {
          "output_type": "stream",
          "text": [
            "2\n",
            "4\n"
          ],
          "name": "stdout"
        }
      ]
    },
    {
      "cell_type": "markdown",
      "metadata": {
        "id": "F_jWKN-NFbMn"
      },
      "source": [
        "## B - Echo"
      ]
    },
    {
      "cell_type": "code",
      "metadata": {
        "colab": {
          "base_uri": "https://localhost:8080/"
        },
        "id": "lZ2zVu1pFBKC",
        "outputId": "0d4ad61b-2e80-495e-a02e-9429e04b4d25"
      },
      "source": [
        "n = int(input())\n",
        "s = input()\n",
        "\n",
        "ans = 'Yes' if s[:n // 2] == s[n // 2:] else 'No'\n",
        "\n",
        "print(ans)"
      ],
      "execution_count": null,
      "outputs": [
        {
          "output_type": "stream",
          "text": [
            "6\n",
            "abcabc\n",
            "Yes\n"
          ],
          "name": "stdout"
        }
      ]
    },
    {
      "cell_type": "markdown",
      "metadata": {
        "id": "nBMIsq1EGIc5"
      },
      "source": [
        "## C - Average Length"
      ]
    },
    {
      "cell_type": "code",
      "metadata": {
        "colab": {
          "base_uri": "https://localhost:8080/"
        },
        "id": "6XYt8-WBF8bo",
        "outputId": "f2e271b2-233a-4af5-d3e6-1b5c251cb897"
      },
      "source": [
        "import itertools\n",
        "import math\n",
        "\n",
        "\n",
        "n = int(input())\n",
        "xy_list = [tuple(map(int, input().split())) for _ in range(n)]\n",
        "\n",
        "points_list = itertools.permutations(xy_list, n)\n",
        "ans_list = []\n",
        "\n",
        "for points in points_list:\n",
        "  distance = 0\n",
        "  for i, p in enumerate(points):\n",
        "    if i == 0:\n",
        "      continue\n",
        "    else:\n",
        "      distance += math.sqrt((p[0] - points[i - 1][0]) ** 2 + (p[1] - points[i - 1][1]) ** 2)\n",
        "  ans_list.append(distance)\n",
        "\n",
        "ans = sum(ans_list) / math.factorial(n)\n",
        "print(ans)"
      ],
      "execution_count": null,
      "outputs": [
        {
          "output_type": "stream",
          "text": [
            "3\n",
            "0 0\n",
            "0 1\n",
            "1 0\n",
            "[2.414213562373095, 2.414213562373095, 2.0, 2.414213562373095, 2.0, 2.414213562373095]\n",
            "2.2761423749153966\n"
          ],
          "name": "stdout"
        }
      ]
    },
    {
      "cell_type": "markdown",
      "metadata": {
        "id": "kIWNnuKuJkOs"
      },
      "source": [
        "## D - Knight"
      ]
    },
    {
      "cell_type": "code",
      "metadata": {
        "colab": {
          "base_uri": "https://localhost:8080/"
        },
        "id": "3EipDp6nIFWg",
        "outputId": "ad2ba855-66cf-4aeb-c06d-6de67d8040e4"
      },
      "source": [
        "# a : (1, 2) の数\n",
        "# b : (2, 1) の数\n",
        "# a + 2b = x\n",
        "# 2a + b = y\n",
        "\n",
        "# a = (2y - x) / 3\n",
        "# b = (2x - y) / 3\n",
        "\n",
        "from operator import mul\n",
        "from functools import reduce\n",
        "\n",
        "\n",
        "def combination_cnt(n, r):\n",
        "    # Combinationを算出 その1\n",
        "    # 5C2 = 10など\n",
        "    if n - r < r: r = n - r\n",
        "    if r == 0: return 1\n",
        "    if r == 1: return n\n",
        "\n",
        "    numerator = [n - r + k + 1 for k in range(r)]\n",
        "    denominator = [k + 1 for k in range(r)]\n",
        "\n",
        "    for p in range(2, r+1):\n",
        "        pivot = denominator[p - 1]\n",
        "        if pivot > 1:\n",
        "            offset = (n - r) % p\n",
        "            for k in range(p-1, r, p):\n",
        "                numerator[k - offset] /= pivot\n",
        "                denominator[k] /= pivot\n",
        "    result = 1\n",
        "    for k in range(r):\n",
        "        if numerator[k] > 1:\n",
        "            result *= int(numerator[k])\n",
        "\n",
        "    return result\n",
        "\n",
        "\n",
        "x, y = map(int, input().split())\n",
        "MOD = 10 ** 9 + 7\n",
        "\n",
        "a = (y * 2 - x) / 3\n",
        "b = (x * 2 - y) / 3\n",
        "\n",
        "if a.is_integer() and b.is_integer() and a >= 0 and b >= 0:\n",
        "  a = int(a)\n",
        "  b = int(b)\n",
        "  ans = combination_cnt((a + b), a) % MOD\n",
        "else:\n",
        "  ans = 0\n",
        "\n",
        "print(ans)"
      ],
      "execution_count": 6,
      "outputs": [
        {
          "output_type": "stream",
          "text": [
            "306868 132419\n",
            "-14010.0 160439.0\n",
            "0\n"
          ],
          "name": "stdout"
        }
      ]
    }
  ]
}