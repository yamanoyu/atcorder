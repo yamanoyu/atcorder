{
  "nbformat": 4,
  "nbformat_minor": 0,
  "metadata": {
    "colab": {
      "name": "ABC176.ipynb",
      "provenance": [],
      "collapsed_sections": [],
      "authorship_tag": "ABX9TyMn6jT6SX2+VXmSE0Sj7ZH6",
      "include_colab_link": true
    },
    "kernelspec": {
      "name": "python3",
      "display_name": "Python 3"
    },
    "language_info": {
      "name": "python"
    }
  },
  "cells": [
    {
      "cell_type": "markdown",
      "metadata": {
        "id": "view-in-github",
        "colab_type": "text"
      },
      "source": [
        "<a href=\"https://colab.research.google.com/github/yamanoyu/atcorder/blob/master/ABC176.ipynb\" target=\"_parent\"><img src=\"https://colab.research.google.com/assets/colab-badge.svg\" alt=\"Open In Colab\"/></a>"
      ]
    },
    {
      "cell_type": "markdown",
      "metadata": {
        "id": "1e5xar1ALzlP"
      },
      "source": [
        "## A - Takoyaki"
      ]
    },
    {
      "cell_type": "code",
      "metadata": {
        "colab": {
          "base_uri": "https://localhost:8080/"
        },
        "id": "N0-6Qf1uLqrf",
        "outputId": "cec7f804-d8de-455d-8296-eabaa6d7e66c"
      },
      "source": [
        "n, x, t = map(int, input().split())\n",
        "ans = (n // x) * t if n % x == 0 else (n // x + 1) * t\n",
        "print(ans)"
      ],
      "execution_count": 1,
      "outputs": [
        {
          "output_type": "stream",
          "text": [
            "20 12 6\n",
            "12\n"
          ],
          "name": "stdout"
        }
      ]
    },
    {
      "cell_type": "code",
      "metadata": {
        "colab": {
          "base_uri": "https://localhost:8080/"
        },
        "id": "8PJdX4rQLz99",
        "outputId": "899ddda6-4f4c-444b-8f13-2a4c51673f71"
      },
      "source": [
        "n, x, t = map(int, input().split())\n",
        "ans = -n // x *  -t\n",
        "print(ans)"
      ],
      "execution_count": 4,
      "outputs": [
        {
          "output_type": "stream",
          "text": [
            "20 12 6\n",
            "12\n"
          ],
          "name": "stdout"
        }
      ]
    },
    {
      "cell_type": "markdown",
      "metadata": {
        "id": "3jTJDPjhMx-S"
      },
      "source": [
        "## B - Multiple of 9"
      ]
    },
    {
      "cell_type": "code",
      "metadata": {
        "colab": {
          "base_uri": "https://localhost:8080/"
        },
        "id": "4clJCJcdMetL",
        "outputId": "03d8f879-91e4-417f-e85e-364f644f98ed"
      },
      "source": [
        "n_list = list(map(int, list(input())))\n",
        "ans = 'Yes' if sum(n_list) % 9 == 0 else 'No'\n",
        "print(ans)"
      ],
      "execution_count": 7,
      "outputs": [
        {
          "output_type": "stream",
          "text": [
            "31415926535897932384626433832795028841971693993751058209749445923078164062862089986280\n",
            "No\n"
          ],
          "name": "stdout"
        }
      ]
    },
    {
      "cell_type": "markdown",
      "metadata": {
        "id": "VYxTt0SONTtO"
      },
      "source": [
        "## C - Step"
      ]
    },
    {
      "cell_type": "code",
      "metadata": {
        "colab": {
          "base_uri": "https://localhost:8080/"
        },
        "id": "Zkw1YnkwNLdW",
        "outputId": "de553613-ca5b-425c-db2a-b00d7d468972"
      },
      "source": [
        "n = int(input())\n",
        "a_list = list(map(int, input().split()))\n",
        "\n",
        "length = 1\n",
        "ans = 0\n",
        "\n",
        "for a in a_list:\n",
        "  if length > a:\n",
        "    ans += length - a\n",
        "  else:\n",
        "    length = a\n",
        "\n",
        "print(ans)"
      ],
      "execution_count": 9,
      "outputs": [
        {
          "output_type": "stream",
          "text": [
            "5\n",
            "3 3 3 3 3\n",
            "0\n"
          ],
          "name": "stdout"
        }
      ]
    },
    {
      "cell_type": "markdown",
      "metadata": {
        "id": "F2llLePmTmRe"
      },
      "source": [
        "## D - Wizard in Maze"
      ]
    },
    {
      "cell_type": "code",
      "metadata": {
        "id": "8cgLqpQGTbzp"
      },
      "source": [
        "from collections import deque\n",
        "\n",
        "\n",
        "h, w = map(int, input().split())\n",
        "ch, cw = map(int, input().split())\n",
        "dh, dw = map(int, input().split())\n",
        "s = [list(map(int, input().split())) for _ in range(h)]"
      ],
      "execution_count": null,
      "outputs": []
    }
  ]
}