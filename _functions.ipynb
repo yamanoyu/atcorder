{
  "nbformat": 4,
  "nbformat_minor": 0,
  "metadata": {
    "kernelspec": {
      "display_name": "Python 3",
      "language": "python",
      "name": "python3"
    },
    "language_info": {
      "codemirror_mode": {
        "name": "ipython",
        "version": 3
      },
      "file_extension": ".py",
      "mimetype": "text/x-python",
      "name": "python",
      "nbconvert_exporter": "python",
      "pygments_lexer": "ipython3",
      "version": "3.7.4"
    },
    "colab": {
      "name": "_functions",
      "provenance": [],
      "collapsed_sections": [],
      "include_colab_link": true
    }
  },
  "cells": [
    {
      "cell_type": "markdown",
      "metadata": {
        "id": "view-in-github",
        "colab_type": "text"
      },
      "source": [
        "<a href=\"https://colab.research.google.com/github/yamanoyu/atcorder/blob/master/_functions.ipynb\" target=\"_parent\"><img src=\"https://colab.research.google.com/assets/colab-badge.svg\" alt=\"Open In Colab\"/></a>"
      ]
    },
    {
      "cell_type": "markdown",
      "metadata": {
        "id": "G_l8sNwDhVbQ"
      },
      "source": [
        "## Combination"
      ]
    },
    {
      "cell_type": "code",
      "metadata": {
        "id": "MFgBP421TDTy"
      },
      "source": [
        "def cmb(n, r):\n",
        "    # Combinationを算出 その1\n",
        "    # 5C2 = 10など\n",
        "    if n - r < r: r = n - r\n",
        "    if r == 0: return 1\n",
        "    if r == 1: return n\n",
        "\n",
        "    numerator = [n - r + k + 1 for k in range(r)]\n",
        "    denominator = [k + 1 for k in range(r)]\n",
        "\n",
        "    for p in range(2, r+1):\n",
        "        pivot = denominator[p - 1]\n",
        "        if pivot > 1:\n",
        "            offset = (n - r) % p\n",
        "            for k in range(p-1, r, p):\n",
        "                numerator[k - offset] /= pivot\n",
        "                denominator[k] /= pivot\n",
        "    result = 1\n",
        "    for k in range(r):\n",
        "        if numerator[k] > 1:\n",
        "            result *= int(numerator[k])\n",
        "\n",
        "    return result"
      ],
      "execution_count": null,
      "outputs": []
    },
    {
      "cell_type": "code",
      "metadata": {
        "id": "TTVMIE-nhYnm"
      },
      "source": [
        "from operator import mul\n",
        "from functools import reduce\n",
        "\n",
        "def combination_cnt(n, r):\n",
        "  # Combinationを算出 その2 (遅い)\n",
        "  # 5C2 = 10など\n",
        "\n",
        "  r = min(n - r, r)\n",
        "  if r == 0: return 1\n",
        "  return reduce(mul, range(n - r + 1, n + 1)) // reduce(mul, range(1, r + 1))"
      ],
      "execution_count": null,
      "outputs": []
    },
    {
      "cell_type": "markdown",
      "metadata": {
        "id": "WEOEaVDGhScf"
      },
      "source": [
        "## 素因数分解"
      ]
    },
    {
      "cell_type": "code",
      "metadata": {
        "id": "USTr2244TDTy"
      },
      "source": [
        "def prime_factorization(n):\n",
        "    # 素因数分解 その1\n",
        "    # prime_factorization(24) の場合 [[2, 3], [3, 1]] (s^3 * 3^1)を返す\n",
        "    \n",
        "    arr = []\n",
        "    tmp = n\n",
        "    for i in range(2, int((-(-(n ** 0.5)) // 1)) + 1):\n",
        "        if tmp % i == 0:\n",
        "            cnt = 0\n",
        "            while tmp % i == 0:\n",
        "                cnt += 1\n",
        "                tmp //= i\n",
        "            arr.append([i, cnt])\n",
        "\n",
        "    if tmp != 1:\n",
        "        arr.append([tmp, 1])\n",
        "\n",
        "    if arr == []:\n",
        "        arr.append([n, 1])\n",
        "\n",
        "    return arr\n"
      ],
      "execution_count": null,
      "outputs": []
    },
    {
      "cell_type": "code",
      "metadata": {
        "id": "nOXnXrfuhFj4"
      },
      "source": [
        "def factorization(n):\n",
        "  # 素因数分解 その2\n",
        "  # prime_factorization(24) の場合 [[2, 3], [3, 1]] (s^3 * 3^1)を返す\n",
        "  if n == 1: return []\n",
        "  factorization_list = []\n",
        "  i = 2\n",
        "  _n = n\n",
        "  while i ** 2 <= n:\n",
        "    cnt = 0\n",
        "    while _n % i == 0:\n",
        "      cnt += 1\n",
        "      _n //= i\n",
        "    factorization_list.append([i, cnt])\n",
        "    i += 1\n",
        "  \n",
        "  if _n != 1: factorization_list.append([_n, 1])\n",
        "  if factorization_list == []: factorization_list.append([n, 1])\n",
        "\n",
        "  return factorization_list"
      ],
      "execution_count": null,
      "outputs": []
    },
    {
      "cell_type": "markdown",
      "metadata": {
        "id": "0oOIXQ5lhjb6"
      },
      "source": [
        "## フィボナッチ数列"
      ]
    },
    {
      "cell_type": "code",
      "metadata": {
        "id": "q3U7UrMfTDTy",
        "colab": {
          "base_uri": "https://localhost:8080/"
        },
        "outputId": "61b1bc40-7208-4465-d696-24b3db08376d"
      },
      "source": [
        "# これだとすごく遅い\n",
        "# def fibonacci_sequence(n):\n",
        "#   if n <= 2:\n",
        "#     return 1\n",
        "#   else:\n",
        "#     return fibonacci_sequence(n - 1) + fibonacci_sequence(n - 2)\n",
        "\n",
        "# 動的計画法を利用する\n",
        "def fibonacci_sequence(n):\n",
        "  fibonacci_sequence_list = [None] * n\n",
        "\n",
        "  if n == 0:\n",
        "    return 0\n",
        "  elif n == 1 or n == 2:\n",
        "    return 1\n",
        "  else: \n",
        "    fibonacci_sequence_list[0] = 1\n",
        "    fibonacci_sequence_list[1] = 1\n",
        "    for i in range(2, n):\n",
        "      fibonacci_sequence_list[i] = fibonacci_sequence_list[i - 1] + fibonacci_sequence_list[i - 2]\n",
        "\n",
        "  return fibonacci_sequence_list[n - 1]\n",
        "\n",
        "fibonacci_sequence(100)"
      ],
      "execution_count": null,
      "outputs": [
        {
          "output_type": "execute_result",
          "data": {
            "text/plain": [
              "354224848179261915075"
            ]
          },
          "metadata": {
            "tags": []
          },
          "execution_count": 20
        }
      ]
    },
    {
      "cell_type": "markdown",
      "metadata": {
        "id": "swTCcxEBhoOx"
      },
      "source": [
        "## 素数"
      ]
    },
    {
      "cell_type": "code",
      "metadata": {
        "id": "5RrhcXAuTXwl",
        "colab": {
          "base_uri": "https://localhost:8080/"
        },
        "outputId": "4aed8210-7efc-4bff-e996-30bbbeb137bf"
      },
      "source": [
        "# エラトステネスのふるい\n",
        "\n",
        "def sieve_of_eratosthenes(n):\n",
        "    # n以下の素数を出力\n",
        "    prime_num_list = [2]\n",
        "    number_list = [num for num in range(3, n, 2)]\n",
        "\n",
        "    while True:\n",
        "      p = number_list[0]\n",
        "      if p ** 2 > n:\n",
        "        return prime_num_list + number_list\n",
        "        break\n",
        "      prime_num_list.append(p)\n",
        "      number_list = [num for num in number_list if num % p != 0]\n",
        "\n",
        "sieve_of_eratosthenes(100)"
      ],
      "execution_count": null,
      "outputs": [
        {
          "output_type": "execute_result",
          "data": {
            "text/plain": [
              "[2,\n",
              " 3,\n",
              " 5,\n",
              " 7,\n",
              " 11,\n",
              " 13,\n",
              " 17,\n",
              " 19,\n",
              " 23,\n",
              " 29,\n",
              " 31,\n",
              " 37,\n",
              " 41,\n",
              " 43,\n",
              " 47,\n",
              " 53,\n",
              " 59,\n",
              " 61,\n",
              " 67,\n",
              " 71,\n",
              " 73,\n",
              " 79,\n",
              " 83,\n",
              " 89,\n",
              " 97]"
            ]
          },
          "metadata": {
            "tags": []
          },
          "execution_count": 7
        }
      ]
    },
    {
      "cell_type": "markdown",
      "metadata": {
        "id": "XgvLdqaa-E3p"
      },
      "source": [
        "## UnionFind"
      ]
    },
    {
      "cell_type": "code",
      "metadata": {
        "id": "cC6wJZxf-G0k"
      },
      "source": [
        "class UnionFind:\n",
        "    # if x is root: self.parents[x] = - (the number of the group nodes)\n",
        "    # else: self.parents[x] = the parent of x\n",
        "    def __init__(self, n):\n",
        "        self.n = n\n",
        "        self.parents = [-1] * n\n",
        " \n",
        "    # return the parent of x\n",
        "    def find(self, x):\n",
        "        history = []\n",
        "        while self.parents[x] >= 0:\n",
        "            history.append(x)\n",
        "            x = self.parents[x]\n",
        "        for node in history:\n",
        "            self.parents[node] = x\n",
        "        return x\n",
        " \n",
        "    # merge the group of x and the group of y\n",
        "    def union(self, x, y):\n",
        "        x = self.find(x)\n",
        "        y = self.find(y)\n",
        "        if x == y:\n",
        "            return\n",
        "        if self.parents[x] > self.parents[y]:\n",
        "            x, y = y, x\n",
        "        self.parents[x] += self.parents[y]\n",
        "        self.parents[y] = x\n",
        " \n",
        "    # return the size of the group of x\n",
        "    def size(self, x):\n",
        "        return -self.parents[self.find(x)]\n",
        " \n",
        "    # return whether x and y in a same group\n",
        "    def same(self, x, y):\n",
        "        return self.find(x) == self.find(y)\n",
        " \n",
        "    # return [all roots]\n",
        "    # O(n)\n",
        "    def roots(self):\n",
        "        return [i for i, x in enumerate(self.parents) if x < 0]\n",
        " \n",
        "    # return the number of groups\n",
        "    # O(n)\n",
        "    def group_count(self):\n",
        "        return len(self.roots())"
      ],
      "execution_count": null,
      "outputs": []
    },
    {
      "cell_type": "markdown",
      "metadata": {
        "id": "KaCITygig33s"
      },
      "source": [
        "## 転倒数"
      ]
    },
    {
      "cell_type": "code",
      "metadata": {
        "id": "bWcCl5xXg5-_"
      },
      "source": [
        "class Bit:\n",
        "  # 転倒数\n",
        "  def __init__(self, n):\n",
        "    self.size = n\n",
        "    self.tree = [0] * (n + 1)\n",
        "\n",
        "  def __iter__(self):\n",
        "      psum = 0\n",
        "      for i in range(self.size):\n",
        "          csum = self.sum(i + 1)\n",
        "          yield csum - psum\n",
        "          psum = csum\n",
        "      raise StopIteration()\n",
        "\n",
        "  def __str__(self):  # O(nlogn)\n",
        "      return str(list(self))\n",
        "\n",
        "  def sum(self, i):\n",
        "      # [0, i) の要素の総和を返す\n",
        "      if not (0 <= i <= self.size): raise ValueError(\"error!\")\n",
        "      s = 0\n",
        "      while i>0:\n",
        "          s += self.tree[i]\n",
        "          i -= i & - i\n",
        "      return s\n",
        "\n",
        "  def add(self, i, x):\n",
        "      if not (0 <= i < self.size): raise ValueError(\"error!\")\n",
        "      i += 1\n",
        "      while i <= self.size:\n",
        "          self.tree[i] += x\n",
        "          i += i & - i\n",
        "\n",
        "  def __getitem__(self, key):\n",
        "      if not (0 <= key < self.size): raise IndexError(\"error!\")\n",
        "      return self.sum(key+1) - self.sum(key)\n",
        "\n",
        "  def __setitem__(self, key, value):\n",
        "      # 足し算と引き算にはaddを使うべき\n",
        "      if not (0 <= key < self.size): raise IndexError(\"error!\")\n",
        "      self.add(key, value - self[key])"
      ],
      "execution_count": null,
      "outputs": []
    }
  ]
}