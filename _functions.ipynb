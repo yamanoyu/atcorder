{
  "nbformat": 4,
  "nbformat_minor": 0,
  "metadata": {
    "kernelspec": {
      "display_name": "Python 3",
      "language": "python",
      "name": "python3"
    },
    "language_info": {
      "codemirror_mode": {
        "name": "ipython",
        "version": 3
      },
      "file_extension": ".py",
      "mimetype": "text/x-python",
      "name": "python",
      "nbconvert_exporter": "python",
      "pygments_lexer": "ipython3",
      "version": "3.7.4"
    },
    "colab": {
      "name": "_functions",
      "provenance": [],
      "collapsed_sections": [],
      "toc_visible": true,
      "include_colab_link": true
    }
  },
  "cells": [
    {
      "cell_type": "markdown",
      "metadata": {
        "id": "view-in-github",
        "colab_type": "text"
      },
      "source": [
        "<a href=\"https://colab.research.google.com/github/yamanoyu/atcorder/blob/master/_functions.ipynb\" target=\"_parent\"><img src=\"https://colab.research.google.com/assets/colab-badge.svg\" alt=\"Open In Colab\"/></a>"
      ]
    },
    {
      "cell_type": "markdown",
      "metadata": {
        "id": "G_l8sNwDhVbQ"
      },
      "source": [
        "## Combination"
      ]
    },
    {
      "cell_type": "code",
      "metadata": {
        "id": "MFgBP421TDTy"
      },
      "source": [
        "def cmb(n, r):\n",
        "    # Combinationを算出 その1\n",
        "    # 5C2 = 10など\n",
        "    if n - r < r: r = n - r\n",
        "    if r == 0: return 1\n",
        "    if r == 1: return n\n",
        "\n",
        "    numerator = [n - r + k + 1 for k in range(r)]\n",
        "    denominator = [k + 1 for k in range(r)]\n",
        "\n",
        "    for p in range(2, r+1):\n",
        "        pivot = denominator[p - 1]\n",
        "        if pivot > 1:\n",
        "            offset = (n - r) % p\n",
        "            for k in range(p-1, r, p):\n",
        "                numerator[k - offset] /= pivot\n",
        "                denominator[k] /= pivot\n",
        "    result = 1\n",
        "    for k in range(r):\n",
        "        if numerator[k] > 1:\n",
        "            result *= int(numerator[k])\n",
        "\n",
        "    return result"
      ],
      "execution_count": null,
      "outputs": []
    },
    {
      "cell_type": "code",
      "metadata": {
        "id": "TTVMIE-nhYnm"
      },
      "source": [
        "from operator import mul\n",
        "from functools import reduce\n",
        "\n",
        "def combination_cnt(n, r):\n",
        "  # Combinationを算出 その2 (遅い)\n",
        "  # 5C2 = 10など\n",
        "\n",
        "  r = min(n - r, r)\n",
        "  if r == 0: return 1\n",
        "  return reduce(mul, range(n - r + 1, n + 1)) // reduce(mul, range(1, r + 1))"
      ],
      "execution_count": null,
      "outputs": []
    },
    {
      "cell_type": "markdown",
      "metadata": {
        "id": "WEOEaVDGhScf"
      },
      "source": [
        "## 素因数分解"
      ]
    },
    {
      "cell_type": "code",
      "metadata": {
        "id": "USTr2244TDTy"
      },
      "source": [
        "def prime_factorization(n):\n",
        "    # 素因数分解 その1\n",
        "    # prime_factorization(24) の場合 [[2, 3], [3, 1]] (s^3 * 3^1)を返す\n",
        "    \n",
        "    arr = []\n",
        "    tmp = n\n",
        "    for i in range(2, int((-(-(n ** 0.5)) // 1)) + 1):\n",
        "        if tmp % i == 0:\n",
        "            cnt = 0\n",
        "            while tmp % i == 0:\n",
        "                cnt += 1\n",
        "                tmp //= i\n",
        "            arr.append([i, cnt])\n",
        "\n",
        "    if tmp != 1:\n",
        "        arr.append([tmp, 1])\n",
        "\n",
        "    if arr == []:\n",
        "        arr.append([n, 1])\n",
        "\n",
        "    return arr\n"
      ],
      "execution_count": null,
      "outputs": []
    },
    {
      "cell_type": "code",
      "metadata": {
        "id": "nOXnXrfuhFj4"
      },
      "source": [
        "def factorization(n):\n",
        "  # 素因数分解 その2\n",
        "  # prime_factorization(24) の場合 [[2, 3], [3, 1]] (s^3 * 3^1)を返す\n",
        "  if n == 1: return []\n",
        "  factorization_list = []\n",
        "  i = 2\n",
        "  _n = n\n",
        "  while i ** 2 <= n:\n",
        "    cnt = 0\n",
        "    while _n % i == 0:\n",
        "      cnt += 1\n",
        "      _n //= i\n",
        "    factorization_list.append([i, cnt])\n",
        "    i += 1\n",
        "  \n",
        "  if _n != 1: factorization_list.append([_n, 1])\n",
        "  if factorization_list == []: factorization_list.append([n, 1])\n",
        "\n",
        "  return factorization_list"
      ],
      "execution_count": null,
      "outputs": []
    },
    {
      "cell_type": "markdown",
      "metadata": {
        "id": "0oOIXQ5lhjb6"
      },
      "source": [
        "## フィボナッチ数列"
      ]
    },
    {
      "cell_type": "code",
      "metadata": {
        "id": "q3U7UrMfTDTy",
        "colab": {
          "base_uri": "https://localhost:8080/"
        },
        "outputId": "61b1bc40-7208-4465-d696-24b3db08376d"
      },
      "source": [
        "# これだとすごく遅い\n",
        "# def fibonacci_sequence(n):\n",
        "#   if n <= 2:\n",
        "#     return 1\n",
        "#   else:\n",
        "#     return fibonacci_sequence(n - 1) + fibonacci_sequence(n - 2)\n",
        "\n",
        "# 動的計画法を利用する\n",
        "def fibonacci_sequence(n):\n",
        "  fibonacci_sequence_list = [None] * n\n",
        "\n",
        "  if n == 0:\n",
        "    return 0\n",
        "  elif n == 1 or n == 2:\n",
        "    return 1\n",
        "  else: \n",
        "    fibonacci_sequence_list[0] = 1\n",
        "    fibonacci_sequence_list[1] = 1\n",
        "    for i in range(2, n):\n",
        "      fibonacci_sequence_list[i] = fibonacci_sequence_list[i - 1] + fibonacci_sequence_list[i - 2]\n",
        "\n",
        "  return fibonacci_sequence_list[n - 1]\n",
        "\n",
        "fibonacci_sequence(100)"
      ],
      "execution_count": null,
      "outputs": [
        {
          "output_type": "execute_result",
          "data": {
            "text/plain": [
              "354224848179261915075"
            ]
          },
          "metadata": {
            "tags": []
          },
          "execution_count": 20
        }
      ]
    },
    {
      "cell_type": "markdown",
      "metadata": {
        "id": "swTCcxEBhoOx"
      },
      "source": [
        "## 素数"
      ]
    },
    {
      "cell_type": "code",
      "metadata": {
        "id": "5RrhcXAuTXwl",
        "colab": {
          "base_uri": "https://localhost:8080/"
        },
        "outputId": "4aed8210-7efc-4bff-e996-30bbbeb137bf"
      },
      "source": [
        "# エラトステネスのふるい\n",
        "\n",
        "def sieve_of_eratosthenes(n):\n",
        "    # n以下の素数を出力\n",
        "    prime_num_list = [2]\n",
        "    number_list = [num for num in range(3, n, 2)]\n",
        "\n",
        "    while True:\n",
        "      p = number_list[0]\n",
        "      if p ** 2 > n:\n",
        "        return prime_num_list + number_list\n",
        "        break\n",
        "      prime_num_list.append(p)\n",
        "      number_list = [num for num in number_list if num % p != 0]\n",
        "\n",
        "sieve_of_eratosthenes(100)"
      ],
      "execution_count": null,
      "outputs": [
        {
          "output_type": "execute_result",
          "data": {
            "text/plain": [
              "[2,\n",
              " 3,\n",
              " 5,\n",
              " 7,\n",
              " 11,\n",
              " 13,\n",
              " 17,\n",
              " 19,\n",
              " 23,\n",
              " 29,\n",
              " 31,\n",
              " 37,\n",
              " 41,\n",
              " 43,\n",
              " 47,\n",
              " 53,\n",
              " 59,\n",
              " 61,\n",
              " 67,\n",
              " 71,\n",
              " 73,\n",
              " 79,\n",
              " 83,\n",
              " 89,\n",
              " 97]"
            ]
          },
          "metadata": {
            "tags": []
          },
          "execution_count": 7
        }
      ]
    },
    {
      "cell_type": "markdown",
      "metadata": {
        "id": "XgvLdqaa-E3p"
      },
      "source": [
        "## UnionFind"
      ]
    },
    {
      "cell_type": "code",
      "metadata": {
        "id": "cC6wJZxf-G0k"
      },
      "source": [
        "class UnionFind:\n",
        "    # if x is root: self.parents[x] = - (the number of the group nodes)\n",
        "    # else: self.parents[x] = the parent of x\n",
        "    def __init__(self, n):\n",
        "        self.n = n\n",
        "        self.parents = [-1] * n\n",
        " \n",
        "    # return the parent of x\n",
        "    def find(self, x):\n",
        "        history = []\n",
        "        while self.parents[x] >= 0:\n",
        "            history.append(x)\n",
        "            x = self.parents[x]\n",
        "        for node in history:\n",
        "            self.parents[node] = x\n",
        "        return x\n",
        " \n",
        "    # merge the group of x and the group of y\n",
        "    def union(self, x, y):\n",
        "        x = self.find(x)\n",
        "        y = self.find(y)\n",
        "        if x == y:\n",
        "            return\n",
        "        if self.parents[x] > self.parents[y]:\n",
        "            x, y = y, x\n",
        "        self.parents[x] += self.parents[y]\n",
        "        self.parents[y] = x\n",
        " \n",
        "    # return the size of the group of x\n",
        "    def size(self, x):\n",
        "        return -self.parents[self.find(x)]\n",
        " \n",
        "    # return whether x and y in a same group\n",
        "    def same(self, x, y):\n",
        "        return self.find(x) == self.find(y)\n",
        " \n",
        "    # return [all roots]\n",
        "    # O(n)\n",
        "    def roots(self):\n",
        "        return [i for i, x in enumerate(self.parents) if x < 0]\n",
        " \n",
        "    # return the number of groups\n",
        "    # O(n)\n",
        "    def group_count(self):\n",
        "        return len(self.roots())"
      ],
      "execution_count": null,
      "outputs": []
    },
    {
      "cell_type": "markdown",
      "metadata": {
        "id": "KaCITygig33s"
      },
      "source": [
        "## 転倒数"
      ]
    },
    {
      "cell_type": "code",
      "metadata": {
        "id": "bWcCl5xXg5-_"
      },
      "source": [
        "class Bit:\n",
        "  # 転倒数\n",
        "  def __init__(self, n):\n",
        "    self.size = n\n",
        "    self.tree = [0] * (n + 1)\n",
        "\n",
        "  def __iter__(self):\n",
        "      psum = 0\n",
        "      for i in range(self.size):\n",
        "          csum = self.sum(i + 1)\n",
        "          yield csum - psum\n",
        "          psum = csum\n",
        "      raise StopIteration()\n",
        "\n",
        "  def __str__(self):  # O(nlogn)\n",
        "      return str(list(self))\n",
        "\n",
        "  def sum(self, i):\n",
        "      # [0, i) の要素の総和を返す\n",
        "      if not (0 <= i <= self.size): raise ValueError(\"error!\")\n",
        "      s = 0\n",
        "      while i>0:\n",
        "          s += self.tree[i]\n",
        "          i -= i & - i\n",
        "      return s\n",
        "\n",
        "  def add(self, i, x):\n",
        "      if not (0 <= i < self.size): raise ValueError(\"error!\")\n",
        "      i += 1\n",
        "      while i <= self.size:\n",
        "          self.tree[i] += x\n",
        "          i += i & - i\n",
        "\n",
        "  def __getitem__(self, key):\n",
        "      if not (0 <= key < self.size): raise IndexError(\"error!\")\n",
        "      return self.sum(key+1) - self.sum(key)\n",
        "\n",
        "  def __setitem__(self, key, value):\n",
        "      # 足し算と引き算にはaddを使うべき\n",
        "      if not (0 <= key < self.size): raise IndexError(\"error!\")\n",
        "      self.add(key, value - self[key])"
      ],
      "execution_count": null,
      "outputs": []
    },
    {
      "cell_type": "markdown",
      "metadata": {
        "id": "hm7Ca3L8U2OI"
      },
      "source": [
        "## Segment Tree"
      ]
    },
    {
      "cell_type": "code",
      "metadata": {
        "id": "bOGALvFBU4TI"
      },
      "source": [
        "class SegmentTree:\n",
        "\n",
        "    __all__ = ['setval', 'pointupdate', 'segquery', 'segsearch_right', 'pointgetval']\n",
        "\n",
        "    def __init__(self, n=10**6, idetify_elt=-10**9, func=max):\n",
        "        assert (func(idetify_elt, idetify_elt) == idetify_elt)\n",
        "        self._n = n\n",
        "        self._seg_length_half = 2**(n-1).bit_length()\n",
        "        self._idetify_elt = idetify_elt\n",
        "        self._seg = [idetify_elt]*(2*self._seg_length_half)\n",
        "        self._func = func\n",
        "\n",
        "    def setval(self, x_list):\n",
        "        '''Set value : A = x_list'''\n",
        "        assert (len(x_list) == self._n)\n",
        "        # Set value at the bottom\n",
        "        for i in range(self._n):\n",
        "            self._seg[i+self._seg_length_half-1] = x_list[i]    \n",
        "        # Build value\n",
        "        for i in range(self._seg_length_half-2, -1, -1):\n",
        "            self._seg[i] = self._func(self._seg[2*i+1], self._seg[2*i+2])\n",
        "    \n",
        "    def pointupdate(self, k, x):\n",
        "        '''Update : A[k] = x '''\n",
        "        pos = k + self._seg_length_half - 1\n",
        "        # Set value at k-th\n",
        "        self._seg[pos] = x\n",
        "        # Build bottom-up\n",
        "        while pos:\n",
        "            pos = (pos-1)//2\n",
        "            self._seg[pos] = self._func(self._seg[pos*2+1], self._seg[pos*2+2])\n",
        "    \n",
        "    def pointgetval(self, k):\n",
        "        ''' Return A[k] '''\n",
        "        return self._seg[k + self._seg_length_half - 1]\n",
        "\n",
        "    def segquery(self, left, right):\n",
        "        ''' Return func(A[left], ... , A[right-1]) '''\n",
        "        # if not left < right\n",
        "        if right <= left:\n",
        "            return self._idetify_elt\n",
        "        \n",
        "        func_value = self._idetify_elt\n",
        "        leftpos = left + self._seg_length_half - 1 # leftmost segment\n",
        "        rightpos = right + self._seg_length_half - 2 # rightmost segment\n",
        "\n",
        "        while leftpos < rightpos-1:\n",
        "            if leftpos&1 == 0:\n",
        "                # if leftpos is right-child\n",
        "                func_value = self._func(func_value, self._seg[leftpos])\n",
        "            if rightpos&1 == 1:\n",
        "                # if rightpos is leftchild\n",
        "                func_value = self._func(func_value, self._seg[rightpos])\n",
        "                rightpos -= 1\n",
        "            # move up\n",
        "            leftpos = leftpos//2\n",
        "            rightpos = (rightpos-1)//2\n",
        "        \n",
        "        func_value = self._func(func_value, self._seg[leftpos])\n",
        "        if leftpos != rightpos:\n",
        "            func_value = self._func(func_value, self._seg[rightpos])\n",
        "        return func_value\n",
        "\n",
        "    def segsearch_right(self, condfunc, left=0):\n",
        "        ''' Return min_i satisfying condfunc( func( A[left], ... , A[i])) \n",
        "        if impossible : return n\n",
        "        '''\n",
        "        # if impossible (ie. condfunc( func( A[left], ... , A[-1])) is False)\n",
        "        if not condfunc(self._segquery(left, self._n)):\n",
        "            return self._n\n",
        "        \n",
        "        # possible\n",
        "        func_value = self._idetify_elt\n",
        "        rightpos = left + self._seg_length_half - 1\n",
        "        while True: \n",
        "            # while rightpos is the left-child, move bottom-up\n",
        "            while rightpos&1 == 1:\n",
        "                rightpos //= 2\n",
        "            # try\n",
        "            up_value_trial = self._func(func_value, self._seg[rightpos])\n",
        "            if not condfunc(up_value_trial):\n",
        "                # move up and right\n",
        "                func_value = up_value_trial\n",
        "                rightpos = (rightpos-1)//2 + 1\n",
        "            else:\n",
        "                # move top-down\n",
        "                while rightpos < self._seg_length_half-1:\n",
        "                    down_value_trial = self._func(func_value, self._seg[rightpos*2 + 1])\n",
        "                    if condfunc(down_value_trial):\n",
        "                        # move left-child\n",
        "                        rightpos = rightpos*2 + 1\n",
        "                    else:\n",
        "                        # move right-child\n",
        "                        func_value = down_value_trial\n",
        "                        rightpos = rightpos*2 + 2\n",
        "                return rightpos - self._seg_length_half + 1"
      ],
      "execution_count": null,
      "outputs": []
    },
    {
      "cell_type": "markdown",
      "metadata": {
        "id": "FU3SaeFiP-pc"
      },
      "source": [
        "## 深さ優先探索"
      ]
    },
    {
      "cell_type": "code",
      "metadata": {
        "colab": {
          "base_uri": "https://localhost:8080/"
        },
        "id": "Yw8d6oRnQBWY",
        "outputId": "4be4863c-9bf0-4952-f2a0-b202f55095e1"
      },
      "source": [
        "import sys\n",
        "\n",
        "\n",
        "sys.setrecursionlimit(1000000)\n",
        "\n",
        "tree = [[1, 2], [3, 4], [5, 6], [7, 8], [9, 10], [11, 12], [13, 14], [], [], [], [], [], [], [], []]\n",
        "\n",
        "def dfs(now):\n",
        "    print(now, end=' ')\n",
        "    for i in tree[now]:\n",
        "        dfs(i)\n",
        "\n",
        "dfs(1)"
      ],
      "execution_count": null,
      "outputs": [
        {
          "output_type": "stream",
          "text": [
            "1 3 7 8 4 9 10 "
          ],
          "name": "stdout"
        }
      ]
    },
    {
      "cell_type": "markdown",
      "metadata": {
        "id": "maItgTJZQEta"
      },
      "source": [
        "## 幅優先探索"
      ]
    },
    {
      "cell_type": "code",
      "metadata": {
        "colab": {
          "base_uri": "https://localhost:8080/"
        },
        "id": "eYvHRxpyQDYl",
        "outputId": "020f3101-9820-43d7-a6a3-057bf54bc7da"
      },
      "source": [
        "from collections import deque\n",
        "\n",
        "tree = [[1, 2], [3, 4], [5, 6], [7, 8], [9, 10], [11, 12], [13, 14], [], [], [], [], [], [], [], []]\n",
        "\n",
        "queue = deque([0])\n",
        "while queue:\n",
        "    now = queue.popleft()\n",
        "    print(now)\n",
        "    for i in tree[now]:\n",
        "        queue.append(i)"
      ],
      "execution_count": null,
      "outputs": [
        {
          "output_type": "stream",
          "text": [
            "0\n",
            "1\n",
            "2\n",
            "3\n",
            "4\n",
            "5\n",
            "6\n",
            "7\n",
            "8\n",
            "9\n",
            "10\n",
            "11\n",
            "12\n",
            "13\n",
            "14\n"
          ],
          "name": "stdout"
        }
      ]
    },
    {
      "cell_type": "markdown",
      "metadata": {
        "id": "FxYc5kLrdIf3"
      },
      "source": [
        "## ナップザック問題"
      ]
    },
    {
      "cell_type": "markdown",
      "metadata": {
        "id": "EqiQgTt3dYNI"
      },
      "source": [
        "### 重さに注目した動的計画法 [計算量 : $O(NW)$]"
      ]
    },
    {
      "cell_type": "code",
      "metadata": {
        "colab": {
          "base_uri": "https://localhost:8080/"
        },
        "id": "XTTxcDafdLn3",
        "outputId": "7041be0e-1adf-440a-b107-f482e08fc229"
      },
      "source": [
        "n, max_w = map(int, input().split())\n",
        "wv = [list(map(int, input().split())) for _ in range(n)]\n",
        "\n",
        "# i番目までの品物かつ重量の合計j以下で品物を選んだ場合の価値の最大値\n",
        "dp = [[0] * (max_w + 1) for _ in range(n + 1)]\n",
        "\n",
        "# 品物i+1を選ばない場合で仮更新してから、ナップサックにi+1個目を詰め込める場合は再更新\n",
        "for i, (w, v) in enumerate(wv):\n",
        "    for j in range(max_w + 1):\n",
        "        dp[i + 1][j] = dp[i][j]\n",
        "        if j - w >= 0:\n",
        "            dp[i + 1][j] = max(dp[i + 1][j], dp[i][j - w] + v)\n",
        "\n",
        "print(dp[-1][-1])"
      ],
      "execution_count": null,
      "outputs": [
        {
          "output_type": "stream",
          "text": [
            "2 10\n",
            "3 7\n",
            "5 8\n",
            "15\n"
          ],
          "name": "stdout"
        }
      ]
    },
    {
      "cell_type": "markdown",
      "metadata": {
        "id": "POOsLt6OfJEN"
      },
      "source": [
        "### 価値に注目した動的計画法 [計算量 : $O(NV)$]"
      ]
    },
    {
      "cell_type": "code",
      "metadata": {
        "colab": {
          "base_uri": "https://localhost:8080/"
        },
        "id": "sVezkNwCdio_",
        "outputId": "4bf9f38a-f2a0-429d-85c0-f154788f755d"
      },
      "source": [
        "import bisect\n",
        "\n",
        "\n",
        "INF = 10 ** 18\n",
        "\n",
        "n, max_w = map(int, input().split())\n",
        "wv = [list(map(int, input().split())) for _ in range(n)]\n",
        "\n",
        "v_sum = sum([v for w, v in wv])\n",
        "\n",
        "# 価値iになる時の最小の重さ\n",
        "dp = [INF] * (v_sum + 1)\n",
        "dp[0] = 0\n",
        "\n",
        "for w, v in wv:\n",
        "    _dp = dp\n",
        "    for j in range(1, v_sum + 1):\n",
        "        # j - vが負の場合は0からの遷移としてよい\n",
        "        idx_prev = max(0, j - v)\n",
        "        _dp[j] = min(dp[j], dp[idx_prev] + w)\n",
        "    dp = _dp\n",
        "\n",
        "# 重さWで達成できる最大価値を求める\n",
        "print(bisect.bisect_right(dp, max_w) - 1)"
      ],
      "execution_count": null,
      "outputs": [
        {
          "output_type": "stream",
          "text": [
            "2 10\n",
            "3 5\n",
            "5 9\n",
            "[0, 3, 3, 3, 3, 3, 6, 6, 6, 6, 6, 9, 9, 9, 9]\n",
            "[0, 3, 3, 3, 3, 3, 5, 5, 5, 5, 6, 8, 8, 8, 8]\n",
            "14\n"
          ],
          "name": "stdout"
        }
      ]
    },
    {
      "cell_type": "markdown",
      "metadata": {
        "id": "Xr4olIEY0qFJ"
      },
      "source": [
        "## ダイクストラ法"
      ]
    },
    {
      "cell_type": "code",
      "metadata": {
        "id": "vGPqP9J9jzhs"
      },
      "source": [
        "import heapq\n",
        "\n",
        "\n",
        "INF = 10 ** 9\n",
        "next_node_list = [[(1, 1), (2, 2)], [(2, 2)], []] # (cost, node)\n",
        "\n",
        "\n",
        "def dijkstra(start, node_num):\n",
        "    dist = [INF] * node_num\n",
        "    dist[start] = 0\n",
        "    visited_list = [False] * node_num\n",
        "\n",
        "    hq = [(0, start)] # (cost, node)\n",
        "\n",
        "    while hq:\n",
        "        visit_node = heapq.heappop(hq)[1] # ノードを pop する\n",
        "        visited_list[visit_node] = True\n",
        "        for cost, next_node in next_node_list[visit_node]: # ノード v に隣接しているノードに対して\n",
        "            if visited_list[next_node] == False and dist[visit_node] + cost < dist[next_node]:\n",
        "                dist[next_node] = dist[visit_node] + cost\n",
        "                heapq.heappush(hq, (dist[next_node], next_node))\n",
        "    return dist"
      ],
      "execution_count": null,
      "outputs": []
    },
    {
      "cell_type": "markdown",
      "metadata": {
        "id": "DHG5QnuK9tq0"
      },
      "source": [
        "## 強連結成分分解"
      ]
    },
    {
      "cell_type": "code",
      "metadata": {
        "id": "wVhJmEN99yOq"
      },
      "source": [
        "# 強連結成分分解(SCC): グラフGに対するSCCを行う\n",
        "# 入力: <N>: 頂点サイズ, <G>: 順方向の有向グラフ, <RG>: 逆方向の有向グラフ\n",
        "# 出力: (<ラベル数>, <各頂点のラベル番号>)\n",
        "def scc(N, G, RG):\n",
        "    order = []\n",
        "    used = [0]*N\n",
        "    group = [None]*N\n",
        "    def dfs(s):\n",
        "        used[s] = 1\n",
        "        for t in G[s]:\n",
        "            if not used[t]:\n",
        "                dfs(t)\n",
        "        order.append(s)\n",
        "    def rdfs(s, col):\n",
        "        group[s] = col\n",
        "        used[s] = 1\n",
        "        for t in RG[s]:\n",
        "            if not used[t]:\n",
        "                rdfs(t, col)\n",
        "    for i in range(N):\n",
        "        if not used[i]:\n",
        "            dfs(i)\n",
        "    used = [0]*N\n",
        "    label = 0\n",
        "    for s in reversed(order):\n",
        "        if not used[s]:\n",
        "            rdfs(s, label)\n",
        "            label += 1\n",
        "    return label, group\n",
        "\n",
        "# 縮約後のグラフを構築\n",
        "def construct(N, G, label, group):\n",
        "    G0 = [set() for i in range(label)]\n",
        "    GP = [[] for i in range(label)]\n",
        "    for v in range(N):\n",
        "        lbs = group[v]\n",
        "        for w in G[v]:\n",
        "            lbt = group[w]\n",
        "            if lbs == lbt:\n",
        "                continue\n",
        "            G0[lbs].add(lbt)\n",
        "        GP[lbs].append(v)\n",
        "    return G0, GP\n"
      ],
      "execution_count": null,
      "outputs": []
    }
  ]
}