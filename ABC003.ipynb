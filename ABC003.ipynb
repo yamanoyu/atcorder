{
  "nbformat": 4,
  "nbformat_minor": 0,
  "metadata": {
    "colab": {
      "name": "ABC003.ipynb",
      "provenance": [],
      "authorship_tag": "ABX9TyMWsRBd7ntwXxdfSFLmXoYQ",
      "include_colab_link": true
    },
    "kernelspec": {
      "name": "python3",
      "display_name": "Python 3"
    },
    "language_info": {
      "name": "python"
    }
  },
  "cells": [
    {
      "cell_type": "markdown",
      "metadata": {
        "id": "view-in-github",
        "colab_type": "text"
      },
      "source": [
        "<a href=\"https://colab.research.google.com/github/yamanoyu/atcorder/blob/master/ABC003.ipynb\" target=\"_parent\"><img src=\"https://colab.research.google.com/assets/colab-badge.svg\" alt=\"Open In Colab\"/></a>"
      ]
    },
    {
      "cell_type": "markdown",
      "metadata": {
        "id": "6FTQGH85Z1Bk"
      },
      "source": [
        "## A - AtCoder社の給料"
      ]
    },
    {
      "cell_type": "code",
      "metadata": {
        "colab": {
          "base_uri": "https://localhost:8080/"
        },
        "id": "qzyYcDoxZw1c",
        "outputId": "551ff6f7-d924-4745-e345-add37f509a46"
      },
      "source": [
        "n = int(input())\n",
        "ans = ((((1 + n) * n) // 2) * 10000) // n\n",
        "print(ans)"
      ],
      "execution_count": 7,
      "outputs": [
        {
          "output_type": "stream",
          "text": [
            "91\n",
            "46000\n"
          ],
          "name": "stdout"
        }
      ]
    },
    {
      "cell_type": "markdown",
      "metadata": {
        "id": "jK_4r8V3DPEF"
      },
      "source": [
        "## B - AtCoderトランプ"
      ]
    },
    {
      "cell_type": "code",
      "metadata": {
        "colab": {
          "base_uri": "https://localhost:8080/"
        },
        "id": "Ickc5UJA4MuT",
        "outputId": "58f3acab-d692-4f34-c672-00fbb1159a95"
      },
      "source": [
        "s = input()\n",
        "t = input()\n",
        "\n",
        "atcorder = ['a', 't', 'c', 'o', 'r', 'd', 'e', 'r']\n",
        "ans = 'You can win'\n",
        "\n",
        "for si, ti in zip(s, t):\n",
        "  if si == ti == '@':\n",
        "    continue\n",
        "  elif si == '@':\n",
        "    if ti not in atcorder:\n",
        "      ans = 'You will lose'\n",
        "  elif ti == '@':\n",
        "    if si not in atcorder:\n",
        "      ans = 'You will lose'    \n",
        "  else:\n",
        "    if si != ti:\n",
        "      ans = 'You will lose'\n",
        "\n",
        "print(ans)"
      ],
      "execution_count": 14,
      "outputs": [
        {
          "output_type": "stream",
          "text": [
            "arc\n",
            "abc\n",
            "You will lose\n"
          ],
          "name": "stdout"
        }
      ]
    },
    {
      "cell_type": "markdown",
      "metadata": {
        "id": "zPbWVZN6ES2O"
      },
      "source": [
        "## C - AtCoderプログラミング講座"
      ]
    },
    {
      "cell_type": "code",
      "metadata": {
        "colab": {
          "base_uri": "https://localhost:8080/"
        },
        "id": "8ZXrbXyqDexh",
        "outputId": "211a23ee-7b9c-4859-8ec5-1987ef30cb2d"
      },
      "source": [
        "n, k = map(int, input().split())\n",
        "r_list = list(map(int, input().split()))\n",
        "\n",
        "r_list.sort(reverse=True)\n",
        "r_list = sorted(r_list[:k])\n",
        "\n",
        "ans = 0\n",
        "for i in range(k):\n",
        "  if ans < r_list[i]:\n",
        "    ans = (ans + r_list[i]) / 2\n",
        "\n",
        "print(ans)"
      ],
      "execution_count": 20,
      "outputs": [
        {
          "output_type": "stream",
          "text": [
            "2 2\n",
            "1000 1500\n",
            "1000.0\n"
          ],
          "name": "stdout"
        }
      ]
    },
    {
      "cell_type": "markdown",
      "metadata": {
        "id": "oaddZYe8Hgoh"
      },
      "source": [
        "## D - AtCoder社の冬"
      ]
    },
    {
      "cell_type": "code",
      "metadata": {
        "id": "B2eH0FKwHWZV"
      },
      "source": [
        ""
      ],
      "execution_count": null,
      "outputs": []
    }
  ]
}