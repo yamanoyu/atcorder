{
 "cells": [
  {
   "cell_type": "markdown",
   "metadata": {},
   "source": [
    "## A - 来月は何月？"
   ]
  },
  {
   "cell_type": "code",
   "execution_count": 3,
   "metadata": {},
   "outputs": [
    {
     "name": "stdout",
     "output_type": "stream",
     "text": [
      "12\n",
      "1\n"
     ]
    }
   ],
   "source": [
    "n = int(input())\n",
    "if n == 12:\n",
    "    ans = 1\n",
    "else:\n",
    "    ans = n + 1\n",
    "print(ans)"
   ]
  },
  {
   "cell_type": "markdown",
   "metadata": {},
   "source": [
    "## B - 名前の確認"
   ]
  },
  {
   "cell_type": "code",
   "execution_count": 5,
   "metadata": {},
   "outputs": [
    {
     "name": "stdout",
     "output_type": "stream",
     "text": [
      "A\n",
      "A\n"
     ]
    }
   ],
   "source": [
    "s = input()\n",
    "ans = str.capitalize(s)\n",
    "print(ans)"
   ]
  },
  {
   "cell_type": "markdown",
   "metadata": {},
   "source": [
    "## C - 123引き算"
   ]
  },
  {
   "cell_type": "code",
   "execution_count": 54,
   "metadata": {},
   "outputs": [
    {
     "name": "stdout",
     "output_type": "stream",
     "text": [
      "1\n",
      "3\n",
      "4\n",
      "5\n",
      "YES\n"
     ]
    }
   ],
   "source": [
    "n = int(input())\n",
    "drop_numbers_list = list(set([int(input()) for _ in range(3)]))\n",
    "drop_numbers_list.sort()\n",
    "numbers_list = [ n for n in range(301)]\n",
    "for drop_number in drop_numbers_list:\n",
    "    numbers_list.remove(drop_number)\n",
    "    \n",
    "ans = 'YES'\n",
    "\n",
    "# def draw(start, goal):\n",
    "#     # 連続しているある数字からある数字まで何回でたどり着けるか\n",
    "#     q, mod = divmod((goal - start), 3)\n",
    "#     times = q\n",
    "#     if mod != 0:\n",
    "#         times += 1\n",
    "#     return times\n",
    "\n",
    "if n in drop_numbers_list:\n",
    "    ans = 'NO'\n",
    "elif drop_numbers_list[2] < n  and drop_numbers_list[-1] - drop_numbers_list[0] == 2:\n",
    "    ans = 'NO'\n",
    "else:\n",
    "    times = 0\n",
    "    while n != 0:\n",
    "        if n - 3 in numbers_list:\n",
    "            n -= 3\n",
    "            times += 1\n",
    "        elif n - 2 in numbers_list:\n",
    "            n -= 2\n",
    "            times += 1\n",
    "        elif n - 1 in numbers_list:\n",
    "            n -= 1\n",
    "            times += 1\n",
    "        else:\n",
    "            ans = 'NO'\n",
    "            break\n",
    "        if times > 100:\n",
    "            ans = 'NO'\n",
    "            break\n",
    "\n",
    "print(ans)"
   ]
  },
  {
   "cell_type": "markdown",
   "metadata": {},
   "source": [
    "## D - 大ジャンプ"
   ]
  },
  {
   "cell_type": "code",
   "execution_count": 3,
   "metadata": {},
   "outputs": [
    {
     "name": "stdout",
     "output_type": "stream",
     "text": [
      "11 8562174\n",
      "25686522 17124348\n",
      "0.01817464828491211\n"
     ]
    }
   ],
   "source": [
    "# これだと1<=N<=8しか間に合わない\n",
    "\n",
    "n, d = map(int, input().split())\n",
    "x, y = map(int, input().split())\n",
    "\n",
    "points = [[0, 0]]\n",
    "ans = 0.0\n",
    "\n",
    "def next_point(coordinates):\n",
    "    next_points = []\n",
    "    for coordinate in coordinates:\n",
    "        next_points.append([coordinate[0] + 1, coordinate[1]])\n",
    "        next_points.append([coordinate[0], coordinate[1] + 1])\n",
    "        next_points.append([coordinate[0] - 1, coordinate[1]])\n",
    "        next_points.append([coordinate[0], coordinate[1] - 1])\n",
    "    return next_points\n",
    "\n",
    "\n",
    "if x % d == 0 and y % d == 0:\n",
    "    x_mod = x // d\n",
    "    y_mod = y // d\n",
    "    xy_mod = [x_mod, y_mod]\n",
    "    if n < (x_mod + y_mod):\n",
    "        pass\n",
    "    elif n % 2 == 0 and (x_mod + y_mod) % 2 != 0:\n",
    "        pass\n",
    "    elif n % 2 != 0 and (x_mod + y_mod) % 2 == 0:\n",
    "        pass\n",
    "    else:\n",
    "        for _ in range(n):\n",
    "            points = next_point(points)\n",
    "        ans = points.count(xy_mod) / len(points)\n",
    "\n",
    "else:\n",
    "    pass\n",
    "\n",
    "print(ans)"
   ]
  },
  {
   "cell_type": "code",
   "execution_count": null,
   "metadata": {},
   "outputs": [],
   "source": []
  }
 ],
 "metadata": {
  "kernelspec": {
   "display_name": "Python 3",
   "language": "python",
   "name": "python3"
  },
  "language_info": {
   "codemirror_mode": {
    "name": "ipython",
    "version": 3
   },
   "file_extension": ".py",
   "mimetype": "text/x-python",
   "name": "python",
   "nbconvert_exporter": "python",
   "pygments_lexer": "ipython3",
   "version": "3.7.4"
  }
 },
 "nbformat": 4,
 "nbformat_minor": 4
}
