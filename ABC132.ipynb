{
  "nbformat": 4,
  "nbformat_minor": 0,
  "metadata": {
    "colab": {
      "name": "ABC132.ipynb",
      "provenance": [],
      "collapsed_sections": [],
      "authorship_tag": "ABX9TyM4jMmv7BniL+pNcCjjH3P9",
      "include_colab_link": true
    },
    "kernelspec": {
      "name": "python3",
      "display_name": "Python 3"
    }
  },
  "cells": [
    {
      "cell_type": "markdown",
      "metadata": {
        "id": "view-in-github",
        "colab_type": "text"
      },
      "source": [
        "<a href=\"https://colab.research.google.com/github/yamanoyu/atcorder/blob/master/ABC132.ipynb\" target=\"_parent\"><img src=\"https://colab.research.google.com/assets/colab-badge.svg\" alt=\"Open In Colab\"/></a>"
      ]
    },
    {
      "cell_type": "markdown",
      "metadata": {
        "id": "ZxG23ORKpw-A"
      },
      "source": [
        "## A - Fifty-Fifty"
      ]
    },
    {
      "cell_type": "code",
      "metadata": {
        "colab": {
          "base_uri": "https://localhost:8080/"
        },
        "id": "hRPGza53pwgN",
        "outputId": "437d363f-d53b-4789-cbb5-c3151a8225be"
      },
      "source": [
        "s = input()\n",
        "s_set = set(s)\n",
        "ans = 'Yes' if len(s_set) == 2 and s.count(s[0]) == 2 else 'No'\n",
        "print(ans)"
      ],
      "execution_count": 7,
      "outputs": [
        {
          "output_type": "stream",
          "text": [
            "ASDF\n",
            "No\n"
          ],
          "name": "stdout"
        }
      ]
    },
    {
      "cell_type": "markdown",
      "metadata": {
        "id": "mOGysS5zqn2l"
      },
      "source": [
        "## B - Ordinary Number"
      ]
    },
    {
      "cell_type": "code",
      "metadata": {
        "colab": {
          "base_uri": "https://localhost:8080/"
        },
        "id": "lXxTte6fqpnT",
        "outputId": "8cfa58c5-9051-4be2-bcbe-d170f1b2e560"
      },
      "source": [
        "n = int(input())\n",
        "p_list = list(map(int, input().split()))\n",
        "\n",
        "ans = 0\n",
        "\n",
        "for i in range(1, n - 1):\n",
        "  if p_list[i] != min(p_list[i - 1], p_list[i], p_list[i + 1]) and p_list[i] != max(p_list[i - 1], p_list[i], p_list[i + 1]):\n",
        "    ans += 1\n",
        "\n",
        "print(ans)"
      ],
      "execution_count": 8,
      "outputs": [
        {
          "output_type": "stream",
          "text": [
            "9\n",
            "9 6 3 2 5 8 7 4 1\n",
            "5\n"
          ],
          "name": "stdout"
        }
      ]
    },
    {
      "cell_type": "markdown",
      "metadata": {
        "id": "CwU_ZUGlrVX7"
      },
      "source": [
        "## C - Divide the Problems"
      ]
    },
    {
      "cell_type": "code",
      "metadata": {
        "colab": {
          "base_uri": "https://localhost:8080/"
        },
        "id": "T1F01C3yrPTx",
        "outputId": "0a808f10-2c58-4128-c827-d9dd1cbaa22a"
      },
      "source": [
        "n = int(input())\n",
        "d_list = list(map(int, input().split()))\n",
        "\n",
        "d_list.sort()\n",
        "\n",
        "ans = d_list[n // 2] - d_list[n // 2 - 1]\n",
        "print(ans)"
      ],
      "execution_count": 10,
      "outputs": [
        {
          "output_type": "stream",
          "text": [
            "14\n",
            "99592 10342 29105 78532 83018 11639 92015 77204 30914 21912 34519 80835 100000 1\n",
            "42685\n"
          ],
          "name": "stdout"
        }
      ]
    },
    {
      "cell_type": "markdown",
      "metadata": {
        "id": "ulIYCngvr_Dc"
      },
      "source": [
        "## D - Blue and Red Balls"
      ]
    },
    {
      "cell_type": "code",
      "metadata": {
        "colab": {
          "base_uri": "https://localhost:8080/"
        },
        "id": "TnrK1sw8r1JM",
        "outputId": "3912b1cd-2232-4aa3-a53e-5fa320137bde"
      },
      "source": [
        "from operator import mul\n",
        "from functools import reduce\n",
        "\n",
        "\n",
        "n, k = map(int, input().split())\n",
        "MOD = 10 ** 9 + 7\n",
        "\n",
        "\n",
        "def combination_cnt(n, r):\n",
        "  # Combinationを算出 その2\n",
        "  # 5C2 = 10など\n",
        "\n",
        "  r = min(n - r, r)\n",
        "  if r == 0: return 1\n",
        "  return reduce(mul, range(n - r + 1, n + 1)) // reduce(mul, range(1, r + 1))\n",
        "\n",
        "\n",
        "for i in range(1, k + 1):\n",
        "  if i > n - k + 1:\n",
        "    ans = 0\n",
        "  else:\n",
        "    ans = combination_cnt(n - k + 1, i) * combination_cnt(k - 1, i - 1)\n",
        "  print(ans % MOD)"
      ],
      "execution_count": 27,
      "outputs": [
        {
          "output_type": "stream",
          "text": [
            "2000 3\n",
            "1998\n",
            "3990006\n",
            "327341989\n"
          ],
          "name": "stdout"
        }
      ]
    },
    {
      "cell_type": "markdown",
      "metadata": {
        "id": "wGMh3tkhz2VH"
      },
      "source": [
        "## E - Hopscotch Addict"
      ]
    },
    {
      "cell_type": "code",
      "metadata": {
        "id": "4eUJLPQJz2IG"
      },
      "source": [
        ""
      ],
      "execution_count": null,
      "outputs": []
    },
    {
      "cell_type": "markdown",
      "metadata": {
        "id": "EQrUtFCRz6m_"
      },
      "source": [
        "## F - Small Products"
      ]
    },
    {
      "cell_type": "code",
      "metadata": {
        "id": "082P63aYvl9Z"
      },
      "source": [
        "n, k = map(int, input().split())\n",
        "MOD = 10 ** 9 + 7\n",
        "\n",
        "ans_list = [0] * k"
      ],
      "execution_count": null,
      "outputs": []
    }
  ]
}