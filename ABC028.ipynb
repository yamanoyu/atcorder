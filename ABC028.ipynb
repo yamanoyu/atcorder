{
 "cells": [
  {
   "cell_type": "markdown",
   "metadata": {},
   "source": [
    "## A - テスト評価"
   ]
  },
  {
   "cell_type": "code",
   "execution_count": 1,
   "metadata": {},
   "outputs": [
    {
     "name": "stdout",
     "output_type": "stream",
     "text": [
      "3\n",
      "Bad\n"
     ]
    }
   ],
   "source": [
    "n = int(input())\n",
    "if n <= 59:\n",
    "    ans = 'Bad'\n",
    "elif 60 <= n <= 89:\n",
    "    ans = 'Good'\n",
    "elif 90 <= n <= 99:\n",
    "    ans = 'Great'\n",
    "else:\n",
    "    ans = 'Perfect'\n",
    "print(ans)"
   ]
  },
  {
   "cell_type": "markdown",
   "metadata": {},
   "source": [
    "## B - 文字数カウント"
   ]
  },
  {
   "cell_type": "code",
   "execution_count": 9,
   "metadata": {},
   "outputs": [
    {
     "name": "stdout",
     "output_type": "stream",
     "text": [
      "ASDFGH\n",
      "1 0 0 1 0 1\n"
     ]
    }
   ],
   "source": [
    "s_list = list(input())\n",
    "\n",
    "abcdef = ['A', 'B', 'C', 'D', 'E', 'F']\n",
    "\n",
    "ans_list = []\n",
    "\n",
    "for w in abcdef:\n",
    "    ans_list.append(str(s_list.count(w)))\n",
    "\n",
    "print(' '.join(ans_list))"
   ]
  },
  {
   "cell_type": "markdown",
   "metadata": {},
   "source": [
    "## C - 数を3つ選ぶマン"
   ]
  },
  {
   "cell_type": "code",
   "execution_count": 11,
   "metadata": {},
   "outputs": [
    {
     "name": "stdout",
     "output_type": "stream",
     "text": [
      "1 2 3 5 8\n",
      "14\n"
     ]
    }
   ],
   "source": [
    "num_list = list(map(int, input().split()))\n",
    "ans = sum(num_list) - min(num_list[0] + num_list[3], num_list[1] + num_list[2])\n",
    "print(ans)"
   ]
  },
  {
   "cell_type": "markdown",
   "metadata": {},
   "source": [
    "## D - 乱数生成"
   ]
  },
  {
   "cell_type": "code",
   "execution_count": 20,
   "metadata": {},
   "outputs": [
    {
     "name": "stdout",
     "output_type": "stream",
     "text": [
      "765 573\n",
      "0.0014769739698462438\n"
     ]
    }
   ],
   "source": [
    "n, k = map(int, input().split())\n",
    "\n",
    "ans = 0\n",
    "\n",
    "# 全部同じ数字\n",
    "ans += 1\n",
    "\n",
    "# 1つだけ違う数字\n",
    "ans += (n - 1) * 3\n",
    "\n",
    "# 全部違う数字\n",
    "ans += (k - 1) * (n - k) * 6\n",
    "\n",
    "print(ans / n ** 3)"
   ]
  }
 ],
 "metadata": {
  "kernelspec": {
   "display_name": "Python 3",
   "language": "python",
   "name": "python3"
  },
  "language_info": {
   "codemirror_mode": {
    "name": "ipython",
    "version": 3
   },
   "file_extension": ".py",
   "mimetype": "text/x-python",
   "name": "python",
   "nbconvert_exporter": "python",
   "pygments_lexer": "ipython3",
   "version": "3.7.4"
  }
 },
 "nbformat": 4,
 "nbformat_minor": 4
}
