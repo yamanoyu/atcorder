{
 "cells": [
  {
   "cell_type": "markdown",
   "metadata": {},
   "source": [
    "## A - プロコン"
   ]
  },
  {
   "cell_type": "code",
   "execution_count": 1,
   "metadata": {},
   "outputs": [
    {
     "name": "stdout",
     "output_type": "stream",
     "text": [
      "10 1\n",
      "10 3\n",
      "10 5\n",
      "9\n"
     ]
    }
   ],
   "source": [
    "s1, e1 = map(int, input().split())\n",
    "s2, e2 = map(int, input().split())\n",
    "s3, e3 = map(int, input().split())\n",
    "\n",
    "ans = (s1 * e1 + s2 * e2 + s3 * e3) // 10\n",
    "print(ans)"
   ]
  },
  {
   "cell_type": "markdown",
   "metadata": {},
   "source": [
    "## B - choku語"
   ]
  },
  {
   "cell_type": "code",
   "execution_count": 27,
   "metadata": {},
   "outputs": [
    {
     "name": "stdout",
     "output_type": "stream",
     "text": [
      "chou\n",
      "YES\n"
     ]
    }
   ],
   "source": [
    "x = input()\n",
    "x = x.replace('ch', '0')\n",
    "choku_list = ['0', 'o', 'k', 'u']\n",
    "\n",
    "if not set(list(x)) - set(choku_list):\n",
    "    ans = 'YES'\n",
    "else:\n",
    "    ans = 'NO'\n",
    "\n",
    "    xprint(ans)"
   ]
  },
  {
   "cell_type": "markdown",
   "metadata": {},
   "source": [
    "## C - ハイスコア"
   ]
  },
  {
   "cell_type": "code",
   "execution_count": 46,
   "metadata": {},
   "outputs": [
    {
     "name": "stdout",
     "output_type": "stream",
     "text": [
      "4 6\n",
      "1 3 30\n",
      "2 3 40\n",
      "3 6 25\n",
      "6 6 10\n",
      "80\n"
     ]
    }
   ],
   "source": [
    "n, m = map(int, input().split())\n",
    "explore_list = [list(map(int, input().split())) for _ in range(n)]\n",
    "\n",
    "score_list = [0] * (m + 2)\n",
    "max_score = 0\n",
    "\n",
    "for explore in explore_list:\n",
    "    score_list[explore[0]] += explore[2]\n",
    "    score_list[explore[1] + 1] -= explore[2]\n",
    "    max_score += explore[2]\n",
    "\n",
    "for index in range(1, m+2):\n",
    "    score_list[index] = score_list[index] + score_list[index-1]\n",
    "\n",
    "ans = max_score - min(score_list[1:-1])\n",
    "\n",
    "print(ans)"
   ]
  },
  {
   "cell_type": "markdown",
   "metadata": {},
   "source": [
    "## D - サプリメント"
   ]
  },
  {
   "cell_type": "code",
   "execution_count": 70,
   "metadata": {},
   "outputs": [
    {
     "name": "stdout",
     "output_type": "stream",
     "text": [
      "5 2\n",
      "1\n",
      "2\n",
      "1\n",
      "2\n",
      "2\n",
      "27\n"
     ]
    }
   ],
   "source": [
    "# 番号順に摂取しないといけないのでNG\n",
    "n, m = map(int, input().split())\n",
    "supliments = {}\n",
    "for _ in range(n):\n",
    "    supliment = input()\n",
    "    supliments.setdefault(supliment, 0)\n",
    "    supliments[supliment] += 1\n",
    "\n",
    "mod = 10 ** 9 + 7\n",
    "max_date = sum(supliments.values())\n",
    "min_date = max(supliments.values())\n",
    "\n",
    "def cmb(n, r):\n",
    "    # Combinationを算出, 5C2 = 10など\n",
    "    if n - r < r: r = n - r\n",
    "    if r == 0: return 1\n",
    "    if r == 1: return n\n",
    "\n",
    "    numerator = [n - r + k + 1 for k in range(r)]\n",
    "    denominator = [k + 1 for k in range(r)]\n",
    "\n",
    "    for p in range(2,  r+1):\n",
    "        pivot = denominator[p - 1]\n",
    "        if pivot > 1:\n",
    "            offset = (n - r) % p\n",
    "            for k in range(p-1, r, p):\n",
    "                numerator[k - offset] /= pivot\n",
    "                denominator[k] /= pivot\n",
    "    result = 1\n",
    "    for k in range(r):\n",
    "        if numerator[k] > 1:\n",
    "            result *= int(numerator[k])\n",
    "\n",
    "    return result\n",
    "\n",
    "ans = 1\n",
    "\n",
    "for d in range(min_date, max_date+1):\n",
    "    for supliment in supliments.values():\n",
    "        ans *= cmb(min_date, supliment)\n",
    "\n",
    "print(ans % mod)"
   ]
  },
  {
   "cell_type": "code",
   "execution_count": 61,
   "metadata": {},
   "outputs": [
    {
     "data": {
      "text/plain": [
       "3"
      ]
     },
     "execution_count": 61,
     "metadata": {},
     "output_type": "execute_result"
    }
   ],
   "source": []
  },
  {
   "cell_type": "code",
   "execution_count": null,
   "metadata": {},
   "outputs": [],
   "source": []
  }
 ],
 "metadata": {
  "kernelspec": {
   "display_name": "Python 3",
   "language": "python",
   "name": "python3"
  },
  "language_info": {
   "codemirror_mode": {
    "name": "ipython",
    "version": 3
   },
   "file_extension": ".py",
   "mimetype": "text/x-python",
   "name": "python",
   "nbconvert_exporter": "python",
   "pygments_lexer": "ipython3",
   "version": "3.7.4"
  }
 },
 "nbformat": 4,
 "nbformat_minor": 4
}
