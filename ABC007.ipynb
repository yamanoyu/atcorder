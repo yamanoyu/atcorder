{
 "cells": [
  {
   "cell_type": "markdown",
   "metadata": {},
   "source": [
    "## A - 植木算"
   ]
  },
  {
   "cell_type": "code",
   "execution_count": 2,
   "metadata": {},
   "outputs": [
    {
     "name": "stdout",
     "output_type": "stream",
     "text": [
      "1\n",
      "0\n"
     ]
    }
   ],
   "source": [
    "n = int(input())\n",
    "print(n-1)"
   ]
  },
  {
   "cell_type": "markdown",
   "metadata": {},
   "source": [
    "## B - 辞書式順序"
   ]
  },
  {
   "cell_type": "code",
   "execution_count": 3,
   "metadata": {},
   "outputs": [
    {
     "name": "stdout",
     "output_type": "stream",
     "text": [
      "q\n",
      "a\n"
     ]
    }
   ],
   "source": [
    "a = input()\n",
    "if a =='a':\n",
    "    ans = '-1'\n",
    "else:\n",
    "    ans = 'a'\n",
    "print(ans)"
   ]
  },
  {
   "cell_type": "markdown",
   "metadata": {},
   "source": [
    "## C - 幅優先探索"
   ]
  },
  {
   "cell_type": "code",
   "execution_count": null,
   "metadata": {},
   "outputs": [
    {
     "name": "stdout",
     "output_type": "stream",
     "text": [
      "5 8\n",
      "2 2\n",
      "2 4\n",
      "########\n",
      "#.#....#\n",
      "#.###..#\n",
      "#......#\n",
      "########\n",
      ".\n",
      "[[3, 2]]\n",
      "[3, 2]\n",
      "start ;  [[3, 2]]\n",
      "ans ;  2\n",
      ".\n"
     ]
    }
   ],
   "source": [
    "# エラー\n",
    "\n",
    "r, c = map(int, input().split())\n",
    "s_xy = list(map(int, input().split()))\n",
    "g_xy = list(map(int, input().split()))\n",
    "squares = []\n",
    "for _ in range(r):\n",
    "    squares.append(list(input()))\n",
    "\n",
    "def xy_next(coordinate):\n",
    "    # 座標(list)を与えたら次のステップで到達できる座標のリストを返す\n",
    "    coordinate_next = []\n",
    "    candidates = [[coordinate[0] - 1, coordinate[1]], [coordinate[0] + 1, coordinate[1]], [coordinate[0], coordinate[1] - 1], [coordinate[0], coordinate[1] + 1]]\n",
    "    for candidate in candidates:\n",
    "        if coordinate_value(candidate) == '.':\n",
    "            coordinate_next.append(candidate)\n",
    "\n",
    "    return coordinate_next\n",
    "\n",
    "def coordinate_value(xy):\n",
    "    # 座標(list)を与えたらその点の値を返す\n",
    "    x = xy[0] - 1\n",
    "    y = xy[1] - 1\n",
    "    return squares[x][y]\n",
    "\n",
    "start = [s_xy]\n",
    "next_points = []\n",
    "ans = 1\n",
    "\n",
    "\n",
    "while coordinate_value(g_xy) == '.':\n",
    "    print(coordinate_value(g_xy))\n",
    "    for n in start:\n",
    "        for xy_n in xy_next(n):\n",
    "            next_points.append(xy_n)\n",
    "    print(next_points)\n",
    "    for next_point in next_points:\n",
    "        print(next_point)\n",
    "        if coordinate_value(next_point) == '.':\n",
    "            squares[next_point[0]  - 1][next_point[1] - 1] = ans\n",
    "    \n",
    "    ans += 1\n",
    "    start = next_points\n",
    "\n",
    "    print('start ; ', start)\n",
    "    print('ans ; ', ans)"
   ]
  },
  {
   "cell_type": "markdown",
   "metadata": {},
   "source": [
    "## D - 禁止された数字"
   ]
  },
  {
   "cell_type": "code",
   "execution_count": 10,
   "metadata": {},
   "outputs": [
    {
     "name": "stdout",
     "output_type": "stream",
     "text": [
      "40 49\n",
      "10\n"
     ]
    }
   ],
   "source": [
    "a, b = map(int, input().split())\n",
    "ans = 0\n",
    "for i in range(a, b+1):\n",
    "    if any(['4' in list(str(i)), '9' in list(str(i))]):\n",
    "        ans += 1\n",
    "print(ans)"
   ]
  },
  {
   "cell_type": "code",
   "execution_count": null,
   "metadata": {},
   "outputs": [],
   "source": []
  },
  {
   "cell_type": "code",
   "execution_count": null,
   "metadata": {},
   "outputs": [],
   "source": []
  }
 ],
 "metadata": {
  "kernelspec": {
   "display_name": "Python 3",
   "language": "python",
   "name": "python3"
  },
  "language_info": {
   "codemirror_mode": {
    "name": "ipython",
    "version": 3
   },
   "file_extension": ".py",
   "mimetype": "text/x-python",
   "name": "python",
   "nbconvert_exporter": "python",
   "pygments_lexer": "ipython3",
   "version": "3.7.4"
  }
 },
 "nbformat": 4,
 "nbformat_minor": 4
}
