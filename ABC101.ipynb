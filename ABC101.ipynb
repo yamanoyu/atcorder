{
  "nbformat": 4,
  "nbformat_minor": 0,
  "metadata": {
    "colab": {
      "name": "ABC101.ipynb",
      "provenance": [],
      "collapsed_sections": [],
      "authorship_tag": "ABX9TyOSLtTPGNp6CF0AypHA2+Y3",
      "include_colab_link": true
    },
    "kernelspec": {
      "name": "python3",
      "display_name": "Python 3"
    }
  },
  "cells": [
    {
      "cell_type": "markdown",
      "metadata": {
        "id": "view-in-github",
        "colab_type": "text"
      },
      "source": [
        "<a href=\"https://colab.research.google.com/github/yamanoyu/atcorder/blob/master/ABC101.ipynb\" target=\"_parent\"><img src=\"https://colab.research.google.com/assets/colab-badge.svg\" alt=\"Open In Colab\"/></a>"
      ]
    },
    {
      "cell_type": "markdown",
      "metadata": {
        "id": "QvqqQOISAh2t"
      },
      "source": [
        "## A - Eating Symbols Easy"
      ]
    },
    {
      "cell_type": "code",
      "metadata": {
        "colab": {
          "base_uri": "https://localhost:8080/"
        },
        "id": "7_eQNbHlAXnJ",
        "outputId": "705ace31-1f0c-4fb1-9329-1917491202d1"
      },
      "source": [
        "s = input()\n",
        "ans = s.count('+')  - s.count('-')\n",
        "print(ans)"
      ],
      "execution_count": 2,
      "outputs": [
        {
          "output_type": "stream",
          "text": [
            "+-++\n",
            "2\n"
          ],
          "name": "stdout"
        }
      ]
    },
    {
      "cell_type": "markdown",
      "metadata": {
        "id": "5lBn3rp0A6-4"
      },
      "source": [
        "## B - Digit Sums"
      ]
    },
    {
      "cell_type": "code",
      "metadata": {
        "colab": {
          "base_uri": "https://localhost:8080/"
        },
        "id": "xytJED73AiYA",
        "outputId": "001f12c6-e0b9-465c-8174-bd0cab8a3966"
      },
      "source": [
        "n = input()\n",
        "ans = 'Yes' if int(n) % sum(list(map(int, list(n)))) == 0 else 'No'\n",
        "print(ans)"
      ],
      "execution_count": 13,
      "outputs": [
        {
          "output_type": "stream",
          "text": [
            "12\n",
            "Yes\n"
          ],
          "name": "stdout"
        }
      ]
    },
    {
      "cell_type": "markdown",
      "metadata": {
        "id": "wOU25j8mB1cQ"
      },
      "source": [
        "## C - Minimization"
      ]
    },
    {
      "cell_type": "code",
      "metadata": {
        "colab": {
          "base_uri": "https://localhost:8080/"
        },
        "id": "pBFabIsqBQ5T",
        "outputId": "3d7fd75d-5379-4967-f7b9-e02c88b61fc8"
      },
      "source": [
        "n, k = map(int, input().split())\n",
        "a_list = list(map(int, input().split()))\n",
        "ans = (n - k) // (k - 1) + 1 if (n - k) % (k - 1) == 0 else (n - k) // (k - 1) + 2\n",
        "print(ans)"
      ],
      "execution_count": 19,
      "outputs": [
        {
          "output_type": "stream",
          "text": [
            "4 3\n",
            "2 3 1 4\n",
            "2\n"
          ],
          "name": "stdout"
        }
      ]
    },
    {
      "cell_type": "markdown",
      "metadata": {
        "id": "hZJolIhUKC9A"
      },
      "source": [
        "## D - Snuke Numbers"
      ]
    },
    {
      "cell_type": "code",
      "metadata": {
        "id": "0mOLy9s0UGO7"
      },
      "source": [
        ""
      ],
      "execution_count": null,
      "outputs": []
    }
  ]
}