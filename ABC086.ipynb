{
  "nbformat": 4,
  "nbformat_minor": 0,
  "metadata": {
    "colab": {
      "name": "ABC086.ipynb",
      "provenance": [],
      "collapsed_sections": [],
      "authorship_tag": "ABX9TyN908dgGVYCsO1svqGSTqnq",
      "include_colab_link": true
    },
    "kernelspec": {
      "name": "python3",
      "display_name": "Python 3"
    }
  },
  "cells": [
    {
      "cell_type": "markdown",
      "metadata": {
        "id": "view-in-github",
        "colab_type": "text"
      },
      "source": [
        "<a href=\"https://colab.research.google.com/github/yamanoyu/atcorder/blob/master/ABC086.ipynb\" target=\"_parent\"><img src=\"https://colab.research.google.com/assets/colab-badge.svg\" alt=\"Open In Colab\"/></a>"
      ]
    },
    {
      "cell_type": "markdown",
      "metadata": {
        "id": "ycEeIokkI7hj"
      },
      "source": [
        "## A - Product"
      ]
    },
    {
      "cell_type": "code",
      "metadata": {
        "colab": {
          "base_uri": "https://localhost:8080/"
        },
        "id": "fX8tPN9-I1Bd",
        "outputId": "d07f238b-4086-48f2-c1f7-b8a17a82ee50"
      },
      "source": [
        "a, b = map(int, input().split())\n",
        "ans = 'Odd' if a % 2 != 0 and b % 2 != 0 else 'Even'\n",
        "print(ans)"
      ],
      "execution_count": 1,
      "outputs": [
        {
          "output_type": "stream",
          "text": [
            "3 4\n",
            "Even\n"
          ],
          "name": "stdout"
        }
      ]
    },
    {
      "cell_type": "markdown",
      "metadata": {
        "id": "1bLN0f_QJSf8"
      },
      "source": [
        "## B - 1 21"
      ]
    },
    {
      "cell_type": "code",
      "metadata": {
        "colab": {
          "base_uri": "https://localhost:8080/"
        },
        "id": "WFe2O5QDI8Ec",
        "outputId": "ba6e15ce-174d-4e82-948c-144a4d5f77fd"
      },
      "source": [
        "a, b = input().split()\n",
        "ab = int(a + b)\n",
        "i = 0\n",
        "ans = 'No'\n",
        "while i ** 2 <= ab:\n",
        "  if i ** 2 == ab:\n",
        "    ans = 'Yes'\n",
        "    break\n",
        "  i += 1\n",
        "print(ans)"
      ],
      "execution_count": 3,
      "outputs": [
        {
          "output_type": "stream",
          "text": [
            "1 21\n",
            "Yes\n"
          ],
          "name": "stdout"
        }
      ]
    },
    {
      "cell_type": "markdown",
      "metadata": {
        "id": "jSzW8ezTJ3yV"
      },
      "source": [
        "## C - Traveling"
      ]
    },
    {
      "cell_type": "code",
      "metadata": {
        "colab": {
          "base_uri": "https://localhost:8080/"
        },
        "id": "9CZO8XM6Jv1g",
        "outputId": "959e5343-780d-4350-c178-d1df354dd208"
      },
      "source": [
        "n = int(input())\n",
        "\n",
        "ans = 'Yes'\n",
        "position = [0, 0]\n",
        "time = 0\n",
        "\n",
        "for _ in range(n):\n",
        "  t, x, y = map(int, input().split())\n",
        "  distance = abs(x - position[0]) + abs(y - position[1])\n",
        "  if (t - time) % 2 != 0:\n",
        "    if distance % 2 == 0 or distance > t - time:\n",
        "      ans = 'No'\n",
        "      break\n",
        "  else:\n",
        "    if distance % 2 != 0 or distance > t - time:\n",
        "      ans = 'No'\n",
        "      break\n",
        "\n",
        "  position = [x, y]\n",
        "  time = t\n",
        "print(ans)"
      ],
      "execution_count": 9,
      "outputs": [
        {
          "output_type": "stream",
          "text": [
            "2\n",
            "3 1 2\n",
            "6 1 1\n",
            "Yes\n"
          ],
          "name": "stdout"
        }
      ]
    },
    {
      "cell_type": "markdown",
      "metadata": {
        "id": "qSDcaqyiM7Ie"
      },
      "source": [
        "## D - Checker"
      ]
    },
    {
      "cell_type": "code",
      "metadata": {
        "id": "AyFlsl9_L4Mf"
      },
      "source": [
        ""
      ],
      "execution_count": null,
      "outputs": []
    }
  ]
}