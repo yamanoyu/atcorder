{
  "nbformat": 4,
  "nbformat_minor": 0,
  "metadata": {
    "colab": {
      "name": "ABC068.ipynb",
      "provenance": [],
      "collapsed_sections": [],
      "authorship_tag": "ABX9TyPllw0/2lKc0MMNq/NqnySf",
      "include_colab_link": true
    },
    "kernelspec": {
      "name": "python3",
      "display_name": "Python 3"
    }
  },
  "cells": [
    {
      "cell_type": "markdown",
      "metadata": {
        "id": "view-in-github",
        "colab_type": "text"
      },
      "source": [
        "<a href=\"https://colab.research.google.com/github/yamanoyu/atcorder/blob/master/ABC068.ipynb\" target=\"_parent\"><img src=\"https://colab.research.google.com/assets/colab-badge.svg\" alt=\"Open In Colab\"/></a>"
      ]
    },
    {
      "cell_type": "markdown",
      "metadata": {
        "id": "UfA742BjdTJ3"
      },
      "source": [
        "## A - ABCxxx"
      ]
    },
    {
      "cell_type": "code",
      "metadata": {
        "id": "KZ_nqYlHdRAb"
      },
      "source": [
        "n = input()\n",
        "ans = 'ABC' + n\n",
        "print(ans)"
      ],
      "execution_count": null,
      "outputs": []
    },
    {
      "cell_type": "markdown",
      "metadata": {
        "id": "ZoPl1SD9d-2B"
      },
      "source": [
        "## B - Break Number"
      ]
    },
    {
      "cell_type": "code",
      "metadata": {
        "colab": {
          "base_uri": "https://localhost:8080/"
        },
        "id": "qBoIMUXbd9sT",
        "outputId": "8cb20177-e972-4379-fba7-eaff56e9f944"
      },
      "source": [
        "n = int(input())\n",
        "i = 0\n",
        "while 2 ** i < n:\n",
        "  i += 1\n",
        "\n",
        "ans = 2 ** i\n",
        "print(ans)"
      ],
      "execution_count": null,
      "outputs": [
        {
          "output_type": "stream",
          "text": [
            "1\n",
            "1\n"
          ],
          "name": "stdout"
        }
      ]
    },
    {
      "cell_type": "markdown",
      "metadata": {
        "id": "trusGPKxem3N"
      },
      "source": [
        "## C - Cat Snuke and a Voyage"
      ]
    },
    {
      "cell_type": "code",
      "metadata": {
        "colab": {
          "base_uri": "https://localhost:8080/"
        },
        "id": "k9hnwllNeio6",
        "outputId": "16dfa932-c9c7-4f8a-a616-e2f7cbb30d53"
      },
      "source": [
        "n, m = map(int, input().split())\n",
        "travel_list = [[0] for _ in range(n)]\n",
        "\n",
        "for _ in range(m):\n",
        "  a, b = map(int, input().split())\n",
        "  travel_list[a-1].append(b)\n",
        "  travel_list[b-1].append(a)\n",
        "\n",
        "ans = 'IMPOSSIBLE'\n",
        "\n",
        "if n in travel_list[0]:\n",
        "  ans = 'POSSIBLE'\n",
        "elif set(travel_list[0][1:]) & set(travel_list[n-1][1:]):\n",
        "  ans = 'POSSIBLE'\n",
        "\n",
        "print(ans)"
      ],
      "execution_count": null,
      "outputs": [
        {
          "output_type": "stream",
          "text": [
            "4 3\n",
            "1 2\n",
            "2 4\n",
            "2 3\n",
            "POSSIBLE\n"
          ],
          "name": "stdout"
        }
      ]
    },
    {
      "cell_type": "code",
      "metadata": {
        "id": "QpbYtWSYgvpe"
      },
      "source": [
        "\n"
      ],
      "execution_count": null,
      "outputs": []
    }
  ]
}